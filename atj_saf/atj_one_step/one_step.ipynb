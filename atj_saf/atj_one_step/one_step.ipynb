{
 "cells": [
  {
   "cell_type": "markdown",
   "id": "186a0725",
   "metadata": {},
   "source": [
    "Modeling attempt for one step ethanol to olefins following Wang et al., Green Chem., 2021. 23, 9534 (10.1039/d1gc02854e)"
   ]
  },
  {
   "cell_type": "code",
   "execution_count": 1,
   "id": "1c9aeffd",
   "metadata": {},
   "outputs": [
    {
     "ename": "ImportError",
     "evalue": "cannot import name 'TicToc' from 'biosteam.utils' (c:\\Users\\hwadg\\anaconda3\\envs\\pyfuel\\lib\\site-packages\\biosteam\\utils\\__init__.py)",
     "output_type": "error",
     "traceback": [
      "\u001b[1;31m---------------------------------------------------------------------------\u001b[0m",
      "\u001b[1;31mImportError\u001b[0m                               Traceback (most recent call last)",
      "Cell \u001b[1;32mIn[1], line 1\u001b[0m\n\u001b[1;32m----> 1\u001b[0m \u001b[38;5;28;01mimport\u001b[39;00m\u001b[38;5;250m \u001b[39m\u001b[38;5;21;01mqsdsan\u001b[39;00m\u001b[38;5;250m \u001b[39m\u001b[38;5;28;01mas\u001b[39;00m\u001b[38;5;250m \u001b[39m\u001b[38;5;21;01mqs\u001b[39;00m\u001b[38;5;241m,\u001b[39m\u001b[38;5;250m \u001b[39m\u001b[38;5;21;01mbiosteam\u001b[39;00m\u001b[38;5;250m \u001b[39m\u001b[38;5;28;01mas\u001b[39;00m\u001b[38;5;250m \u001b[39m\u001b[38;5;21;01mbst\u001b[39;00m\u001b[38;5;241m,\u001b[39m\u001b[38;5;250m \u001b[39m\u001b[38;5;21;01mthermosteam\u001b[39;00m\u001b[38;5;250m \u001b[39m\u001b[38;5;28;01mas\u001b[39;00m\u001b[38;5;250m \u001b[39m\u001b[38;5;21;01mtmo\u001b[39;00m\u001b[38;5;241m,\u001b[39m\u001b[38;5;250m \u001b[39m\u001b[38;5;21;01mnumpy\u001b[39;00m\u001b[38;5;250m \u001b[39m\u001b[38;5;28;01mas\u001b[39;00m\u001b[38;5;250m \u001b[39m\u001b[38;5;21;01mnp\u001b[39;00m\u001b[38;5;241m,\u001b[39m\u001b[38;5;250m \u001b[39m\u001b[38;5;21;01mpandas\u001b[39;00m\u001b[38;5;250m \u001b[39m\u001b[38;5;28;01mas\u001b[39;00m\u001b[38;5;250m \u001b[39m\u001b[38;5;21;01mpd\u001b[39;00m\n\u001b[0;32m      2\u001b[0m \u001b[38;5;28;01mfrom\u001b[39;00m\u001b[38;5;250m \u001b[39m\u001b[38;5;21;01mqsdsan\u001b[39;00m\u001b[38;5;21;01m.\u001b[39;00m\u001b[38;5;21;01msanunits\u001b[39;00m\u001b[38;5;250m \u001b[39m\u001b[38;5;28;01mimport\u001b[39;00m _heat_exchanging\n\u001b[0;32m      3\u001b[0m bst\u001b[38;5;241m.\u001b[39mnbtutorial()\n",
      "File \u001b[1;32mc:\\Users\\hwadg\\anaconda3\\envs\\pyfuel\\lib\\site-packages\\qsdsan\\__init__.py:55\u001b[0m\n\u001b[0;32m     51\u001b[0m CHECK_IMPACT_INDICATOR_CONSISTENCY \u001b[38;5;241m=\u001b[39m \u001b[38;5;28;01mTrue\u001b[39;00m\n\u001b[0;32m     52\u001b[0m CHECK_IMPACT_ITEM_CONSISTENCY \u001b[38;5;241m=\u001b[39m \u001b[38;5;28;01mTrue\u001b[39;00m\n\u001b[1;32m---> 55\u001b[0m \u001b[38;5;28;01mfrom\u001b[39;00m\u001b[38;5;250m \u001b[39m\u001b[38;5;21;01m.\u001b[39;00m\u001b[38;5;250m \u001b[39m\u001b[38;5;28;01mimport\u001b[39;00m utils\n\u001b[0;32m     56\u001b[0m CEPCI_by_year \u001b[38;5;241m=\u001b[39m utils\u001b[38;5;241m.\u001b[39mindices\u001b[38;5;241m.\u001b[39mtea_indices[\u001b[38;5;124m'\u001b[39m\u001b[38;5;124mCEPCI\u001b[39m\u001b[38;5;124m'\u001b[39m]\n\u001b[0;32m     57\u001b[0m \u001b[38;5;28;01mfrom\u001b[39;00m\u001b[38;5;250m \u001b[39m\u001b[38;5;21;01m.\u001b[39;00m\u001b[38;5;21;01m_component\u001b[39;00m\u001b[38;5;250m \u001b[39m\u001b[38;5;28;01mimport\u001b[39;00m \u001b[38;5;241m*\u001b[39m\n",
      "File \u001b[1;32mc:\\Users\\hwadg\\anaconda3\\envs\\pyfuel\\lib\\site-packages\\qsdsan\\utils\\__init__.py:42\u001b[0m\n\u001b[0;32m     39\u001b[0m ureg\u001b[38;5;241m.\u001b[39mdefine(\u001b[38;5;124m'\u001b[39m\u001b[38;5;124mMGD = 1e6 * gallon / day\u001b[39m\u001b[38;5;124m'\u001b[39m)\n\u001b[0;32m     40\u001b[0m ureg\u001b[38;5;241m.\u001b[39mdefine(\u001b[38;5;124m'\u001b[39m\u001b[38;5;124mmgd = MGD\u001b[39m\u001b[38;5;124m'\u001b[39m)\n\u001b[1;32m---> 42\u001b[0m \u001b[38;5;28;01mfrom\u001b[39;00m\u001b[38;5;250m \u001b[39m\u001b[38;5;21;01m.\u001b[39;00m\u001b[38;5;250m \u001b[39m\u001b[38;5;28;01mimport\u001b[39;00m (\n\u001b[0;32m     43\u001b[0m     cod,\n\u001b[0;32m     44\u001b[0m     colors,\n\u001b[0;32m     45\u001b[0m     components,\n\u001b[0;32m     46\u001b[0m     construction,\n\u001b[0;32m     47\u001b[0m     formatting,\n\u001b[0;32m     48\u001b[0m     loading,\n\u001b[0;32m     49\u001b[0m     dynamics,\n\u001b[0;32m     50\u001b[0m     indices,\n\u001b[0;32m     51\u001b[0m     misc,\n\u001b[0;32m     52\u001b[0m     model_eval,\n\u001b[0;32m     53\u001b[0m     parsing,\n\u001b[0;32m     54\u001b[0m     utilities,\n\u001b[0;32m     55\u001b[0m     wwt_design,\n\u001b[0;32m     56\u001b[0m     scope,\n\u001b[0;32m     57\u001b[0m     )\n\u001b[0;32m     59\u001b[0m \u001b[38;5;28;01mfrom\u001b[39;00m\u001b[38;5;250m \u001b[39m\u001b[38;5;21;01m.\u001b[39;00m\u001b[38;5;21;01mcod\u001b[39;00m\u001b[38;5;250m \u001b[39m\u001b[38;5;28;01mimport\u001b[39;00m \u001b[38;5;241m*\u001b[39m\n\u001b[0;32m     60\u001b[0m \u001b[38;5;28;01mfrom\u001b[39;00m\u001b[38;5;250m \u001b[39m\u001b[38;5;21;01m.\u001b[39;00m\u001b[38;5;21;01mcolors\u001b[39;00m\u001b[38;5;250m \u001b[39m\u001b[38;5;28;01mimport\u001b[39;00m \u001b[38;5;241m*\u001b[39m\n",
      "File \u001b[1;32mc:\\Users\\hwadg\\anaconda3\\envs\\pyfuel\\lib\\site-packages\\qsdsan\\utils\\misc.py:15\u001b[0m\n\u001b[0;32m      3\u001b[0m \u001b[38;5;124;03m'''\u001b[39;00m\n\u001b[0;32m      4\u001b[0m \u001b[38;5;124;03mQSDsan: Quantitative Sustainable Design for sanitation and resource recovery systems\u001b[39;00m\n\u001b[0;32m      5\u001b[0m \n\u001b[1;32m   (...)\u001b[0m\n\u001b[0;32m     11\u001b[0m \u001b[38;5;124;03mfor license details.\u001b[39;00m\n\u001b[0;32m     12\u001b[0m \u001b[38;5;124;03m'''\u001b[39;00m\n\u001b[0;32m     14\u001b[0m \u001b[38;5;28;01mfrom\u001b[39;00m\u001b[38;5;250m \u001b[39m\u001b[38;5;21;01mdatetime\u001b[39;00m\u001b[38;5;250m \u001b[39m\u001b[38;5;28;01mimport\u001b[39;00m timedelta\n\u001b[1;32m---> 15\u001b[0m \u001b[38;5;28;01mfrom\u001b[39;00m\u001b[38;5;250m \u001b[39m\u001b[38;5;21;01mbiosteam\u001b[39;00m\u001b[38;5;21;01m.\u001b[39;00m\u001b[38;5;21;01mutils\u001b[39;00m\u001b[38;5;250m \u001b[39m\u001b[38;5;28;01mimport\u001b[39;00m TicToc\n\u001b[0;32m     17\u001b[0m __all__ \u001b[38;5;241m=\u001b[39m (\n\u001b[0;32m     18\u001b[0m     \u001b[38;5;124m'\u001b[39m\u001b[38;5;124mclear_lca_registries\u001b[39m\u001b[38;5;124m'\u001b[39m,\n\u001b[0;32m     19\u001b[0m     \u001b[38;5;124m'\u001b[39m\u001b[38;5;124mcopy_attr\u001b[39m\u001b[38;5;124m'\u001b[39m,\n\u001b[1;32m   (...)\u001b[0m\n\u001b[0;32m     23\u001b[0m     \u001b[38;5;124m'\u001b[39m\u001b[38;5;124mtime_printer\u001b[39m\u001b[38;5;124m'\u001b[39m,\n\u001b[0;32m     24\u001b[0m     )\n\u001b[0;32m     27\u001b[0m \u001b[38;5;28;01mdef\u001b[39;00m\u001b[38;5;250m \u001b[39m\u001b[38;5;21mclear_lca_registries\u001b[39m(print_msg\u001b[38;5;241m=\u001b[39m\u001b[38;5;28;01mFalse\u001b[39;00m):\n",
      "\u001b[1;31mImportError\u001b[0m: cannot import name 'TicToc' from 'biosteam.utils' (c:\\Users\\hwadg\\anaconda3\\envs\\pyfuel\\lib\\site-packages\\biosteam\\utils\\__init__.py)"
     ]
    }
   ],
   "source": [
    "import qsdsan as qs, biosteam as bst, thermosteam as tmo, numpy as np, pandas as pd\n",
    "from qsdsan.sanunits import _heat_exchanging\n",
    "bst.nbtutorial()\n",
    "\n"
   ]
  },
  {
   "cell_type": "code",
   "execution_count": 2,
   "id": "e325d25c",
   "metadata": {},
   "outputs": [
    {
     "ename": "ImportError",
     "evalue": "cannot import name 'TicToc' from 'biosteam.utils' (c:\\Users\\hwadg\\anaconda3\\envs\\pyfuel\\lib\\site-packages\\biosteam\\utils\\__init__.py)",
     "output_type": "error",
     "traceback": [
      "\u001b[1;31m---------------------------------------------------------------------------\u001b[0m",
      "\u001b[1;31mImportError\u001b[0m                               Traceback (most recent call last)",
      "Cell \u001b[1;32mIn[2], line 1\u001b[0m\n\u001b[1;32m----> 1\u001b[0m \u001b[38;5;28;01mimport\u001b[39;00m\u001b[38;5;250m \u001b[39m\u001b[38;5;21;01mbiosteam\u001b[39;00m\u001b[38;5;241m,\u001b[39m\u001b[38;5;250m \u001b[39m\u001b[38;5;21;01mqsdsan\u001b[39;00m\u001b[38;5;241m,\u001b[39m\u001b[38;5;250m \u001b[39m\u001b[38;5;21;01mthermosteam\u001b[39;00m\n\u001b[0;32m      2\u001b[0m \u001b[38;5;28mprint\u001b[39m(\u001b[38;5;124m\"\u001b[39m\u001b[38;5;124mbiosteam:\u001b[39m\u001b[38;5;124m\"\u001b[39m, biosteam\u001b[38;5;241m.\u001b[39m__version__)\n\u001b[0;32m      3\u001b[0m \u001b[38;5;28mprint\u001b[39m(\u001b[38;5;124m\"\u001b[39m\u001b[38;5;124mqsdsan  :\u001b[39m\u001b[38;5;124m\"\u001b[39m, qsdsan\u001b[38;5;241m.\u001b[39m__version__)\n",
      "File \u001b[1;32mc:\\Users\\hwadg\\anaconda3\\envs\\pyfuel\\lib\\site-packages\\qsdsan\\__init__.py:55\u001b[0m\n\u001b[0;32m     51\u001b[0m CHECK_IMPACT_INDICATOR_CONSISTENCY \u001b[38;5;241m=\u001b[39m \u001b[38;5;28;01mTrue\u001b[39;00m\n\u001b[0;32m     52\u001b[0m CHECK_IMPACT_ITEM_CONSISTENCY \u001b[38;5;241m=\u001b[39m \u001b[38;5;28;01mTrue\u001b[39;00m\n\u001b[1;32m---> 55\u001b[0m \u001b[38;5;28;01mfrom\u001b[39;00m\u001b[38;5;250m \u001b[39m\u001b[38;5;21;01m.\u001b[39;00m\u001b[38;5;250m \u001b[39m\u001b[38;5;28;01mimport\u001b[39;00m utils\n\u001b[0;32m     56\u001b[0m CEPCI_by_year \u001b[38;5;241m=\u001b[39m utils\u001b[38;5;241m.\u001b[39mindices\u001b[38;5;241m.\u001b[39mtea_indices[\u001b[38;5;124m'\u001b[39m\u001b[38;5;124mCEPCI\u001b[39m\u001b[38;5;124m'\u001b[39m]\n\u001b[0;32m     57\u001b[0m \u001b[38;5;28;01mfrom\u001b[39;00m\u001b[38;5;250m \u001b[39m\u001b[38;5;21;01m.\u001b[39;00m\u001b[38;5;21;01m_component\u001b[39;00m\u001b[38;5;250m \u001b[39m\u001b[38;5;28;01mimport\u001b[39;00m \u001b[38;5;241m*\u001b[39m\n",
      "File \u001b[1;32mc:\\Users\\hwadg\\anaconda3\\envs\\pyfuel\\lib\\site-packages\\qsdsan\\utils\\__init__.py:42\u001b[0m\n\u001b[0;32m     39\u001b[0m ureg\u001b[38;5;241m.\u001b[39mdefine(\u001b[38;5;124m'\u001b[39m\u001b[38;5;124mMGD = 1e6 * gallon / day\u001b[39m\u001b[38;5;124m'\u001b[39m)\n\u001b[0;32m     40\u001b[0m ureg\u001b[38;5;241m.\u001b[39mdefine(\u001b[38;5;124m'\u001b[39m\u001b[38;5;124mmgd = MGD\u001b[39m\u001b[38;5;124m'\u001b[39m)\n\u001b[1;32m---> 42\u001b[0m \u001b[38;5;28;01mfrom\u001b[39;00m\u001b[38;5;250m \u001b[39m\u001b[38;5;21;01m.\u001b[39;00m\u001b[38;5;250m \u001b[39m\u001b[38;5;28;01mimport\u001b[39;00m (\n\u001b[0;32m     43\u001b[0m     cod,\n\u001b[0;32m     44\u001b[0m     colors,\n\u001b[0;32m     45\u001b[0m     components,\n\u001b[0;32m     46\u001b[0m     construction,\n\u001b[0;32m     47\u001b[0m     formatting,\n\u001b[0;32m     48\u001b[0m     loading,\n\u001b[0;32m     49\u001b[0m     dynamics,\n\u001b[0;32m     50\u001b[0m     indices,\n\u001b[0;32m     51\u001b[0m     misc,\n\u001b[0;32m     52\u001b[0m     model_eval,\n\u001b[0;32m     53\u001b[0m     parsing,\n\u001b[0;32m     54\u001b[0m     utilities,\n\u001b[0;32m     55\u001b[0m     wwt_design,\n\u001b[0;32m     56\u001b[0m     scope,\n\u001b[0;32m     57\u001b[0m     )\n\u001b[0;32m     59\u001b[0m \u001b[38;5;28;01mfrom\u001b[39;00m\u001b[38;5;250m \u001b[39m\u001b[38;5;21;01m.\u001b[39;00m\u001b[38;5;21;01mcod\u001b[39;00m\u001b[38;5;250m \u001b[39m\u001b[38;5;28;01mimport\u001b[39;00m \u001b[38;5;241m*\u001b[39m\n\u001b[0;32m     60\u001b[0m \u001b[38;5;28;01mfrom\u001b[39;00m\u001b[38;5;250m \u001b[39m\u001b[38;5;21;01m.\u001b[39;00m\u001b[38;5;21;01mcolors\u001b[39;00m\u001b[38;5;250m \u001b[39m\u001b[38;5;28;01mimport\u001b[39;00m \u001b[38;5;241m*\u001b[39m\n",
      "File \u001b[1;32mc:\\Users\\hwadg\\anaconda3\\envs\\pyfuel\\lib\\site-packages\\qsdsan\\utils\\misc.py:15\u001b[0m\n\u001b[0;32m      3\u001b[0m \u001b[38;5;124;03m'''\u001b[39;00m\n\u001b[0;32m      4\u001b[0m \u001b[38;5;124;03mQSDsan: Quantitative Sustainable Design for sanitation and resource recovery systems\u001b[39;00m\n\u001b[0;32m      5\u001b[0m \n\u001b[1;32m   (...)\u001b[0m\n\u001b[0;32m     11\u001b[0m \u001b[38;5;124;03mfor license details.\u001b[39;00m\n\u001b[0;32m     12\u001b[0m \u001b[38;5;124;03m'''\u001b[39;00m\n\u001b[0;32m     14\u001b[0m \u001b[38;5;28;01mfrom\u001b[39;00m\u001b[38;5;250m \u001b[39m\u001b[38;5;21;01mdatetime\u001b[39;00m\u001b[38;5;250m \u001b[39m\u001b[38;5;28;01mimport\u001b[39;00m timedelta\n\u001b[1;32m---> 15\u001b[0m \u001b[38;5;28;01mfrom\u001b[39;00m\u001b[38;5;250m \u001b[39m\u001b[38;5;21;01mbiosteam\u001b[39;00m\u001b[38;5;21;01m.\u001b[39;00m\u001b[38;5;21;01mutils\u001b[39;00m\u001b[38;5;250m \u001b[39m\u001b[38;5;28;01mimport\u001b[39;00m TicToc\n\u001b[0;32m     17\u001b[0m __all__ \u001b[38;5;241m=\u001b[39m (\n\u001b[0;32m     18\u001b[0m     \u001b[38;5;124m'\u001b[39m\u001b[38;5;124mclear_lca_registries\u001b[39m\u001b[38;5;124m'\u001b[39m,\n\u001b[0;32m     19\u001b[0m     \u001b[38;5;124m'\u001b[39m\u001b[38;5;124mcopy_attr\u001b[39m\u001b[38;5;124m'\u001b[39m,\n\u001b[1;32m   (...)\u001b[0m\n\u001b[0;32m     23\u001b[0m     \u001b[38;5;124m'\u001b[39m\u001b[38;5;124mtime_printer\u001b[39m\u001b[38;5;124m'\u001b[39m,\n\u001b[0;32m     24\u001b[0m     )\n\u001b[0;32m     27\u001b[0m \u001b[38;5;28;01mdef\u001b[39;00m\u001b[38;5;250m \u001b[39m\u001b[38;5;21mclear_lca_registries\u001b[39m(print_msg\u001b[38;5;241m=\u001b[39m\u001b[38;5;28;01mFalse\u001b[39;00m):\n",
      "\u001b[1;31mImportError\u001b[0m: cannot import name 'TicToc' from 'biosteam.utils' (c:\\Users\\hwadg\\anaconda3\\envs\\pyfuel\\lib\\site-packages\\biosteam\\utils\\__init__.py)"
     ]
    }
   ],
   "source": [
    "import biosteam, qsdsan, thermosteam\n",
    "print(\"biosteam:\", biosteam.__version__)\n",
    "print(\"qsdsan  :\", qsdsan.__version__)\n",
    "print(\"thermo  :\", thermosteam.__version__)\n",
    "import sys; print(sys.executable)\n",
    "import biosteam.utils as u; print(\"has TicToc?\", hasattr(u, \"TicToc\"))"
   ]
  },
  {
   "cell_type": "code",
   "execution_count": 33,
   "id": "6f461a7a",
   "metadata": {},
   "outputs": [],
   "source": [
    "#from atj_saf import atj_baseline\n",
    "#import atj_chemicals\n",
    "\n",
    "from atj_saf.atj_baseline.atj_chemicals import *\n",
    "from atj_saf.atj_one_step.equipments import *\n",
    "from atj_saf.atj_one_step.units import *"
   ]
  },
  {
   "cell_type": "code",
   "execution_count": 26,
   "id": "4a9fb28f",
   "metadata": {},
   "outputs": [],
   "source": [
    "bst.settings.CEPCI = 800.8"
   ]
  },
  {
   "cell_type": "code",
   "execution_count": 3,
   "id": "e2077bc3",
   "metadata": {},
   "outputs": [],
   "source": [
    "qs.set_thermo(chemicals)"
   ]
  },
  {
   "cell_type": "code",
   "execution_count": 4,
   "id": "a1444113",
   "metadata": {},
   "outputs": [],
   "source": [
    "# Parameters from Wang et al 2021 Table S3, except noted otherwise\n",
    "etoh_conc = 1           # pure ethanol\n",
    "etoh_price  = 1.79      # $/gal from Tasble S4 [Corn EtOH]\n",
    "olig_cat_whsv = 1       # /h\n",
    "eto_cat_whsv = 1        # /h \n",
    "olig_cat_replace = 1    # /yr\n",
    "olig_cat_cost = 154     # $/kg\n",
    "eto_cat_replace = 1     # /yr\n",
    "eto_cat_cost = 60       # $/kg\n",
    "eto_temp = 350          # C\n",
    "etoh_in_T = 293         # C from Humbird et al 2011 pg 128\n",
    "etoh_in_P = 101325      # bar from Humbird et al 2011 pg 128\n",
    "etoh_production = 39    # MM gal/yr"
   ]
  },
  {
   "cell_type": "code",
   "execution_count": 5,
   "id": "f4c9df29",
   "metadata": {},
   "outputs": [],
   "source": [
    "# ETO conditions from pg 9541 of Wang et al 2022 for basecase except noted otherwise\n",
    "eto_temp = 623      # K\n",
    "eto_conv = 1       # 100%\n",
    "eto_yield  = 0.58   # 0.58 GGE per gal etoh \n",
    "eto_c3plus_sel = 0.88   # 88% selectivity to C3+ olefins  [Table 1 Zhang et al ACS Catalysis]\n",
    "eto_ethylene_sel = 0.91 # 9% ethylene selectivity [Table 1 Zhang et al ACS Catalysis]\n",
    "eto_propene_sel = 0.05 # 5% ethylene selectivity [Table 1 Zhang et al ACS Catalysis]\n",
    "eto_butene_sel = 0.66 # 66% butene selectivity [Table 1 Zhang et al ACS Catalysis]\n",
    "eto_aa_sel = 0.019 # 1.9% acetaldehyde selectivity [Table 1 Zhang et al ACS Catalysis]\n",
    "eto_c5plus_sel = 0.17 # 17% C5+ selectivity [Table 1 Zhang et al ACS Catalysis]"
   ]
  },
  {
   "cell_type": "code",
   "execution_count": 6,
   "id": "009c511c",
   "metadata": {},
   "outputs": [
    {
     "data": {
      "text/plain": [
       "783.5691831230228"
      ]
     },
     "execution_count": 6,
     "metadata": {},
     "output_type": "execute_result"
    }
   ],
   "source": [
    "chemicals['Ethanol'].rho(T = 300, P = 101325, phase = 'l')"
   ]
  },
  {
   "cell_type": "code",
   "execution_count": 7,
   "id": "2f351377",
   "metadata": {},
   "outputs": [
    {
     "ename": "UndefinedUnitError",
     "evalue": "'mgpy' is not defined in the unit registry",
     "output_type": "error",
     "traceback": [
      "\u001b[1;31m---------------------------------------------------------------------------\u001b[0m",
      "\u001b[1;31mUndefinedUnitError\u001b[0m                        Traceback (most recent call last)",
      "Cell \u001b[1;32mIn[7], line 4\u001b[0m\n\u001b[0;32m      1\u001b[0m \u001b[38;5;28;01mfrom\u001b[39;00m\u001b[38;5;250m \u001b[39m\u001b[38;5;21;01munits\u001b[39;00m\u001b[38;5;250m \u001b[39m\u001b[38;5;28;01mimport\u001b[39;00m u, Q_\n\u001b[0;32m      3\u001b[0m \u001b[38;5;66;03m# Canonical parameter\u001b[39;00m\n\u001b[1;32m----> 4\u001b[0m ethanol_prod \u001b[38;5;241m=\u001b[39m \u001b[43mQ_\u001b[49m\u001b[43m(\u001b[49m\u001b[38;5;241;43m39\u001b[39;49m\u001b[43m,\u001b[49m\u001b[43m \u001b[49m\u001b[38;5;124;43m\"\u001b[39;49m\u001b[38;5;124;43mmgpy\u001b[39;49m\u001b[38;5;124;43m\"\u001b[39;49m\u001b[43m)\u001b[49m              \u001b[38;5;66;03m# 39 million gal/yr\u001b[39;00m\n",
      "File \u001b[1;32mc:\\Users\\hwadg\\anaconda3\\envs\\pyfuel\\lib\\site-packages\\pint\\facets\\plain\\quantity.py:212\u001b[0m, in \u001b[0;36mPlainQuantity.__new__\u001b[1;34m(cls, value, units)\u001b[0m\n\u001b[0;32m    210\u001b[0m     units \u001b[38;5;241m=\u001b[39m units\n\u001b[0;32m    211\u001b[0m \u001b[38;5;28;01melif\u001b[39;00m \u001b[38;5;28misinstance\u001b[39m(units, \u001b[38;5;28mstr\u001b[39m):\n\u001b[1;32m--> 212\u001b[0m     units \u001b[38;5;241m=\u001b[39m \u001b[43minst\u001b[49m\u001b[38;5;241;43m.\u001b[39;49m\u001b[43m_REGISTRY\u001b[49m\u001b[38;5;241;43m.\u001b[39;49m\u001b[43mparse_units\u001b[49m\u001b[43m(\u001b[49m\u001b[43munits\u001b[49m\u001b[43m)\u001b[49m\u001b[38;5;241m.\u001b[39m_units\n\u001b[0;32m    213\u001b[0m \u001b[38;5;28;01melif\u001b[39;00m \u001b[38;5;28misinstance\u001b[39m(units, SharedRegistryObject):\n\u001b[0;32m    214\u001b[0m     \u001b[38;5;28;01mif\u001b[39;00m \u001b[38;5;28misinstance\u001b[39m(units, PlainQuantity) \u001b[38;5;129;01mand\u001b[39;00m units\u001b[38;5;241m.\u001b[39mmagnitude \u001b[38;5;241m!=\u001b[39m \u001b[38;5;241m1\u001b[39m:\n",
      "File \u001b[1;32mc:\\Users\\hwadg\\anaconda3\\envs\\pyfuel\\lib\\site-packages\\pint\\facets\\plain\\registry.py:1211\u001b[0m, in \u001b[0;36mGenericPlainRegistry.parse_units\u001b[1;34m(self, input_string, as_delta, case_sensitive)\u001b[0m\n\u001b[0;32m   1183\u001b[0m \u001b[38;5;28;01mdef\u001b[39;00m\u001b[38;5;250m \u001b[39m\u001b[38;5;21mparse_units\u001b[39m(\n\u001b[0;32m   1184\u001b[0m     \u001b[38;5;28mself\u001b[39m,\n\u001b[0;32m   1185\u001b[0m     input_string: \u001b[38;5;28mstr\u001b[39m,\n\u001b[0;32m   1186\u001b[0m     as_delta: \u001b[38;5;28mbool\u001b[39m \u001b[38;5;241m|\u001b[39m \u001b[38;5;28;01mNone\u001b[39;00m \u001b[38;5;241m=\u001b[39m \u001b[38;5;28;01mNone\u001b[39;00m,\n\u001b[0;32m   1187\u001b[0m     case_sensitive: \u001b[38;5;28mbool\u001b[39m \u001b[38;5;241m|\u001b[39m \u001b[38;5;28;01mNone\u001b[39;00m \u001b[38;5;241m=\u001b[39m \u001b[38;5;28;01mNone\u001b[39;00m,\n\u001b[0;32m   1188\u001b[0m ) \u001b[38;5;241m-\u001b[39m\u001b[38;5;241m>\u001b[39m UnitT:\n\u001b[0;32m   1189\u001b[0m \u001b[38;5;250m    \u001b[39m\u001b[38;5;124;03m\"\"\"Parse a units expression and returns a UnitContainer with\u001b[39;00m\n\u001b[0;32m   1190\u001b[0m \u001b[38;5;124;03m    the canonical names.\u001b[39;00m\n\u001b[0;32m   1191\u001b[0m \n\u001b[1;32m   (...)\u001b[0m\n\u001b[0;32m   1207\u001b[0m \n\u001b[0;32m   1208\u001b[0m \u001b[38;5;124;03m    \"\"\"\u001b[39;00m\n\u001b[0;32m   1210\u001b[0m     \u001b[38;5;28;01mreturn\u001b[39;00m \u001b[38;5;28mself\u001b[39m\u001b[38;5;241m.\u001b[39mUnit(\n\u001b[1;32m-> 1211\u001b[0m         \u001b[38;5;28;43mself\u001b[39;49m\u001b[38;5;241;43m.\u001b[39;49m\u001b[43mparse_units_as_container\u001b[49m\u001b[43m(\u001b[49m\u001b[43minput_string\u001b[49m\u001b[43m,\u001b[49m\u001b[43m \u001b[49m\u001b[43mas_delta\u001b[49m\u001b[43m,\u001b[49m\u001b[43m \u001b[49m\u001b[43mcase_sensitive\u001b[49m\u001b[43m)\u001b[49m\n\u001b[0;32m   1212\u001b[0m     )\n",
      "File \u001b[1;32mc:\\Users\\hwadg\\anaconda3\\envs\\pyfuel\\lib\\site-packages\\pint\\facets\\nonmultiplicative\\registry.py:69\u001b[0m, in \u001b[0;36mGenericNonMultiplicativeRegistry.parse_units_as_container\u001b[1;34m(self, input_string, as_delta, case_sensitive)\u001b[0m\n\u001b[0;32m     66\u001b[0m \u001b[38;5;28;01mif\u001b[39;00m as_delta \u001b[38;5;129;01mis\u001b[39;00m \u001b[38;5;28;01mNone\u001b[39;00m:\n\u001b[0;32m     67\u001b[0m     as_delta \u001b[38;5;241m=\u001b[39m \u001b[38;5;28mself\u001b[39m\u001b[38;5;241m.\u001b[39mdefault_as_delta\n\u001b[1;32m---> 69\u001b[0m \u001b[38;5;28;01mreturn\u001b[39;00m \u001b[38;5;28;43msuper\u001b[39;49m\u001b[43m(\u001b[49m\u001b[43m)\u001b[49m\u001b[38;5;241;43m.\u001b[39;49m\u001b[43mparse_units_as_container\u001b[49m\u001b[43m(\u001b[49m\u001b[43minput_string\u001b[49m\u001b[43m,\u001b[49m\u001b[43m \u001b[49m\u001b[43mas_delta\u001b[49m\u001b[43m,\u001b[49m\u001b[43m \u001b[49m\u001b[43mcase_sensitive\u001b[49m\u001b[43m)\u001b[49m\n",
      "File \u001b[1;32mc:\\Users\\hwadg\\anaconda3\\envs\\pyfuel\\lib\\site-packages\\pint\\facets\\plain\\registry.py:1226\u001b[0m, in \u001b[0;36mGenericPlainRegistry.parse_units_as_container\u001b[1;34m(self, input_string, as_delta, case_sensitive)\u001b[0m\n\u001b[0;32m   1220\u001b[0m as_delta \u001b[38;5;241m=\u001b[39m (\n\u001b[0;32m   1221\u001b[0m     as_delta \u001b[38;5;28;01mif\u001b[39;00m as_delta \u001b[38;5;129;01mis\u001b[39;00m \u001b[38;5;129;01mnot\u001b[39;00m \u001b[38;5;28;01mNone\u001b[39;00m \u001b[38;5;28;01melse\u001b[39;00m \u001b[38;5;28;01mTrue\u001b[39;00m\n\u001b[0;32m   1222\u001b[0m )  \u001b[38;5;66;03m# TODO This only exists in nonmultiplicative\u001b[39;00m\n\u001b[0;32m   1223\u001b[0m case_sensitive \u001b[38;5;241m=\u001b[39m (\n\u001b[0;32m   1224\u001b[0m     case_sensitive \u001b[38;5;28;01mif\u001b[39;00m case_sensitive \u001b[38;5;129;01mis\u001b[39;00m \u001b[38;5;129;01mnot\u001b[39;00m \u001b[38;5;28;01mNone\u001b[39;00m \u001b[38;5;28;01melse\u001b[39;00m \u001b[38;5;28mself\u001b[39m\u001b[38;5;241m.\u001b[39mcase_sensitive\n\u001b[0;32m   1225\u001b[0m )\n\u001b[1;32m-> 1226\u001b[0m \u001b[38;5;28;01mreturn\u001b[39;00m \u001b[38;5;28;43mself\u001b[39;49m\u001b[38;5;241;43m.\u001b[39;49m\u001b[43m_parse_units_as_container\u001b[49m\u001b[43m(\u001b[49m\u001b[43minput_string\u001b[49m\u001b[43m,\u001b[49m\u001b[43m \u001b[49m\u001b[43mas_delta\u001b[49m\u001b[43m,\u001b[49m\u001b[43m \u001b[49m\u001b[43mcase_sensitive\u001b[49m\u001b[43m)\u001b[49m\n",
      "File \u001b[1;32mc:\\Users\\hwadg\\anaconda3\\envs\\pyfuel\\lib\\site-packages\\pint\\facets\\plain\\registry.py:1261\u001b[0m, in \u001b[0;36mGenericPlainRegistry._parse_units_as_container\u001b[1;34m(self, input_string, as_delta, case_sensitive)\u001b[0m\n\u001b[0;32m   1259\u001b[0m many \u001b[38;5;241m=\u001b[39m \u001b[38;5;28mlen\u001b[39m(units) \u001b[38;5;241m>\u001b[39m \u001b[38;5;241m1\u001b[39m\n\u001b[0;32m   1260\u001b[0m \u001b[38;5;28;01mfor\u001b[39;00m name \u001b[38;5;129;01min\u001b[39;00m units:\n\u001b[1;32m-> 1261\u001b[0m     cname \u001b[38;5;241m=\u001b[39m \u001b[38;5;28;43mself\u001b[39;49m\u001b[38;5;241;43m.\u001b[39;49m\u001b[43mget_name\u001b[49m\u001b[43m(\u001b[49m\u001b[43mname\u001b[49m\u001b[43m,\u001b[49m\u001b[43m \u001b[49m\u001b[43mcase_sensitive\u001b[49m\u001b[38;5;241;43m=\u001b[39;49m\u001b[43mcase_sensitive\u001b[49m\u001b[43m)\u001b[49m\n\u001b[0;32m   1262\u001b[0m     value \u001b[38;5;241m=\u001b[39m units[name]\n\u001b[0;32m   1263\u001b[0m     \u001b[38;5;28;01mif\u001b[39;00m \u001b[38;5;129;01mnot\u001b[39;00m cname:\n",
      "File \u001b[1;32mc:\\Users\\hwadg\\anaconda3\\envs\\pyfuel\\lib\\site-packages\\pint\\facets\\plain\\registry.py:665\u001b[0m, in \u001b[0;36mGenericPlainRegistry.get_name\u001b[1;34m(self, name_or_alias, case_sensitive)\u001b[0m\n\u001b[0;32m    663\u001b[0m candidates \u001b[38;5;241m=\u001b[39m \u001b[38;5;28mself\u001b[39m\u001b[38;5;241m.\u001b[39mparse_unit_name(name_or_alias, case_sensitive)\n\u001b[0;32m    664\u001b[0m \u001b[38;5;28;01mif\u001b[39;00m \u001b[38;5;129;01mnot\u001b[39;00m candidates:\n\u001b[1;32m--> 665\u001b[0m     \u001b[38;5;28;01mraise\u001b[39;00m UndefinedUnitError(name_or_alias)\n\u001b[0;32m    667\u001b[0m prefix, unit_name, _ \u001b[38;5;241m=\u001b[39m candidates[\u001b[38;5;241m0\u001b[39m]\n\u001b[0;32m    668\u001b[0m \u001b[38;5;28;01mif\u001b[39;00m \u001b[38;5;28mlen\u001b[39m(candidates) \u001b[38;5;241m>\u001b[39m \u001b[38;5;241m1\u001b[39m:\n",
      "\u001b[1;31mUndefinedUnitError\u001b[0m: 'mgpy' is not defined in the unit registry"
     ]
    }
   ],
   "source": [
    "from units import u, Q_\n",
    "\n",
    "# Canonical parameter\n",
    "ethanol_prod = Q_(39, \"mgpy\")              # 39 million gal/yr"
   ]
  },
  {
   "cell_type": "code",
   "execution_count": null,
   "id": "d4c06a4b",
   "metadata": {},
   "outputs": [
    {
     "name": "stdout",
     "output_type": "stream",
     "text": [
      "147631059.57599998 liter / year\n",
      "0.004678145979922427 meter ** 3 / second\n"
     ]
    }
   ],
   "source": [
    "ethanol_prod = Q_(39e6, \"gallon/year\")  # 39 million gal/yr\n",
    "\n",
    "print(ethanol_prod.to(\"liter/year\"))\n",
    "print(ethanol_prod.to(\"meter**3/second\"))"
   ]
  },
  {
   "cell_type": "code",
   "execution_count": null,
   "id": "f81b867a",
   "metadata": {},
   "outputs": [
    {
     "data": {
      "text/html": [
       "24.8 meter"
      ],
      "text/latex": [
       "$24.8\\ \\mathrm{meter}$"
      ],
      "text/plain": [
       "<Quantity(24.8, 'meter')>"
      ]
     },
     "execution_count": 23,
     "metadata": {},
     "output_type": "execute_result"
    }
   ],
   "source": [
    "distance"
   ]
  },
  {
   "cell_type": "code",
   "execution_count": null,
   "id": "2f539322",
   "metadata": {},
   "outputs": [
    {
     "data": {
      "text/plain": [
       "True"
      ]
     },
     "execution_count": 34,
     "metadata": {},
     "output_type": "execute_result"
    }
   ],
   "source": [
    "'mgpy' in u"
   ]
  },
  {
   "cell_type": "code",
   "execution_count": null,
   "id": "a86a751b",
   "metadata": {},
   "outputs": [
    {
     "ename": "UndefinedUnitError",
     "evalue": "'million' is not defined in the unit registry",
     "output_type": "error",
     "traceback": [
      "\u001b[1;31m---------------------------------------------------------------------------\u001b[0m",
      "\u001b[1;31mUndefinedUnitError\u001b[0m                        Traceback (most recent call last)",
      "Cell \u001b[1;32mIn[38], line 5\u001b[0m\n\u001b[0;32m      1\u001b[0m \u001b[38;5;28;01mfrom\u001b[39;00m\u001b[38;5;250m \u001b[39m\u001b[38;5;21;01munits\u001b[39;00m\u001b[38;5;250m \u001b[39m\u001b[38;5;28;01mimport\u001b[39;00m u, Q_\n\u001b[0;32m      3\u001b[0m ethanol_prod \u001b[38;5;241m=\u001b[39m Q_(\u001b[38;5;241m39\u001b[39m, \u001b[38;5;124m\"\u001b[39m\u001b[38;5;124mmgpy\u001b[39m\u001b[38;5;124m\"\u001b[39m)  \u001b[38;5;66;03m# 39 million gal per year\u001b[39;00m\n\u001b[1;32m----> 5\u001b[0m ethanol_gpy  \u001b[38;5;241m=\u001b[39m \u001b[43methanol_prod\u001b[49m\u001b[38;5;241;43m.\u001b[39;49m\u001b[43mto\u001b[49m\u001b[43m(\u001b[49m\u001b[38;5;124;43m\"\u001b[39;49m\u001b[38;5;124;43mgallon/year\u001b[39;49m\u001b[38;5;124;43m\"\u001b[39;49m\u001b[43m)\u001b[49m\n\u001b[0;32m      6\u001b[0m ethanol_Ly   \u001b[38;5;241m=\u001b[39m ethanol_prod\u001b[38;5;241m.\u001b[39mto(\u001b[38;5;124m\"\u001b[39m\u001b[38;5;124mliter/year\u001b[39m\u001b[38;5;124m\"\u001b[39m)\n\u001b[0;32m      7\u001b[0m ethanol_m3_s \u001b[38;5;241m=\u001b[39m ethanol_prod\u001b[38;5;241m.\u001b[39mto(\u001b[38;5;124m\"\u001b[39m\u001b[38;5;124mmeter**3/second\u001b[39m\u001b[38;5;124m\"\u001b[39m)\n",
      "File \u001b[1;32mc:\\Users\\hwadg\\anaconda3\\envs\\pyfuel\\lib\\site-packages\\pint\\facets\\plain\\quantity.py:536\u001b[0m, in \u001b[0;36mPlainQuantity.to\u001b[1;34m(self, other, *contexts, **ctx_kwargs)\u001b[0m\n\u001b[0;32m    519\u001b[0m \u001b[38;5;250m\u001b[39m\u001b[38;5;124;03m\"\"\"Return PlainQuantity rescaled to different units.\u001b[39;00m\n\u001b[0;32m    520\u001b[0m \n\u001b[0;32m    521\u001b[0m \u001b[38;5;124;03mParameters\u001b[39;00m\n\u001b[1;32m   (...)\u001b[0m\n\u001b[0;32m    532\u001b[0m \u001b[38;5;124;03mpint.PlainQuantity\u001b[39;00m\n\u001b[0;32m    533\u001b[0m \u001b[38;5;124;03m\"\"\"\u001b[39;00m\n\u001b[0;32m    534\u001b[0m other \u001b[38;5;241m=\u001b[39m to_units_container(other, \u001b[38;5;28mself\u001b[39m\u001b[38;5;241m.\u001b[39m_REGISTRY)\n\u001b[1;32m--> 536\u001b[0m magnitude \u001b[38;5;241m=\u001b[39m \u001b[38;5;28mself\u001b[39m\u001b[38;5;241m.\u001b[39m_convert_magnitude_not_inplace(other, \u001b[38;5;241m*\u001b[39mcontexts, \u001b[38;5;241m*\u001b[39m\u001b[38;5;241m*\u001b[39mctx_kwargs)\n\u001b[0;32m    538\u001b[0m \u001b[38;5;28;01mreturn\u001b[39;00m \u001b[38;5;28mself\u001b[39m\u001b[38;5;241m.\u001b[39m\u001b[38;5;18m__class__\u001b[39m(magnitude, other)\n",
      "File \u001b[1;32mc:\\Users\\hwadg\\anaconda3\\envs\\pyfuel\\lib\\site-packages\\pint\\facets\\plain\\quantity.py:480\u001b[0m, in \u001b[0;36mPlainQuantity._convert_magnitude_not_inplace\u001b[1;34m(self, other, *contexts, **ctx_kwargs)\u001b[0m\n\u001b[0;32m    477\u001b[0m     \u001b[38;5;28;01mwith\u001b[39;00m \u001b[38;5;28mself\u001b[39m\u001b[38;5;241m.\u001b[39m_REGISTRY\u001b[38;5;241m.\u001b[39mcontext(\u001b[38;5;241m*\u001b[39mcontexts, \u001b[38;5;241m*\u001b[39m\u001b[38;5;241m*\u001b[39mctx_kwargs):\n\u001b[0;32m    478\u001b[0m         \u001b[38;5;28;01mreturn\u001b[39;00m \u001b[38;5;28mself\u001b[39m\u001b[38;5;241m.\u001b[39m_REGISTRY\u001b[38;5;241m.\u001b[39mconvert(\u001b[38;5;28mself\u001b[39m\u001b[38;5;241m.\u001b[39m_magnitude, \u001b[38;5;28mself\u001b[39m\u001b[38;5;241m.\u001b[39m_units, other)\n\u001b[1;32m--> 480\u001b[0m \u001b[38;5;28;01mreturn\u001b[39;00m \u001b[38;5;28;43mself\u001b[39;49m\u001b[38;5;241;43m.\u001b[39;49m\u001b[43m_REGISTRY\u001b[49m\u001b[38;5;241;43m.\u001b[39;49m\u001b[43mconvert\u001b[49m\u001b[43m(\u001b[49m\u001b[38;5;28;43mself\u001b[39;49m\u001b[38;5;241;43m.\u001b[39;49m\u001b[43m_magnitude\u001b[49m\u001b[43m,\u001b[49m\u001b[43m \u001b[49m\u001b[38;5;28;43mself\u001b[39;49m\u001b[38;5;241;43m.\u001b[39;49m\u001b[43m_units\u001b[49m\u001b[43m,\u001b[49m\u001b[43m \u001b[49m\u001b[43mother\u001b[49m\u001b[43m)\u001b[49m\n",
      "File \u001b[1;32mc:\\Users\\hwadg\\anaconda3\\envs\\pyfuel\\lib\\site-packages\\pint\\facets\\plain\\registry.py:1050\u001b[0m, in \u001b[0;36mGenericPlainRegistry.convert\u001b[1;34m(self, value, src, dst, inplace)\u001b[0m\n\u001b[0;32m   1047\u001b[0m \u001b[38;5;28;01mif\u001b[39;00m src \u001b[38;5;241m==\u001b[39m dst:\n\u001b[0;32m   1048\u001b[0m     \u001b[38;5;28;01mreturn\u001b[39;00m value\n\u001b[1;32m-> 1050\u001b[0m \u001b[38;5;28;01mreturn\u001b[39;00m \u001b[38;5;28;43mself\u001b[39;49m\u001b[38;5;241;43m.\u001b[39;49m\u001b[43m_convert\u001b[49m\u001b[43m(\u001b[49m\u001b[43mvalue\u001b[49m\u001b[43m,\u001b[49m\u001b[43m \u001b[49m\u001b[43msrc\u001b[49m\u001b[43m,\u001b[49m\u001b[43m \u001b[49m\u001b[43mdst\u001b[49m\u001b[43m,\u001b[49m\u001b[43m \u001b[49m\u001b[43minplace\u001b[49m\u001b[43m)\u001b[49m\n",
      "File \u001b[1;32mc:\\Users\\hwadg\\anaconda3\\envs\\pyfuel\\lib\\site-packages\\pint\\facets\\context\\registry.py:405\u001b[0m, in \u001b[0;36mGenericContextRegistry._convert\u001b[1;34m(self, value, src, dst, inplace)\u001b[0m\n\u001b[0;32m    401\u001b[0m             src \u001b[38;5;241m=\u001b[39m \u001b[38;5;28mself\u001b[39m\u001b[38;5;241m.\u001b[39m_active_ctx\u001b[38;5;241m.\u001b[39mtransform(a, b, \u001b[38;5;28mself\u001b[39m, src)\n\u001b[0;32m    403\u001b[0m         value, src \u001b[38;5;241m=\u001b[39m src\u001b[38;5;241m.\u001b[39m_magnitude, src\u001b[38;5;241m.\u001b[39m_units\n\u001b[1;32m--> 405\u001b[0m \u001b[38;5;28;01mreturn\u001b[39;00m \u001b[38;5;28;43msuper\u001b[39;49m\u001b[43m(\u001b[49m\u001b[43m)\u001b[49m\u001b[38;5;241;43m.\u001b[39;49m\u001b[43m_convert\u001b[49m\u001b[43m(\u001b[49m\u001b[43mvalue\u001b[49m\u001b[43m,\u001b[49m\u001b[43m \u001b[49m\u001b[43msrc\u001b[49m\u001b[43m,\u001b[49m\u001b[43m \u001b[49m\u001b[43mdst\u001b[49m\u001b[43m,\u001b[49m\u001b[43m \u001b[49m\u001b[43minplace\u001b[49m\u001b[43m)\u001b[49m\n",
      "File \u001b[1;32mc:\\Users\\hwadg\\anaconda3\\envs\\pyfuel\\lib\\site-packages\\pint\\facets\\nonmultiplicative\\registry.py:259\u001b[0m, in \u001b[0;36mGenericNonMultiplicativeRegistry._convert\u001b[1;34m(self, value, src, dst, inplace)\u001b[0m\n\u001b[0;32m    257\u001b[0m \u001b[38;5;66;03m# convert if no offset units are present\u001b[39;00m\n\u001b[0;32m    258\u001b[0m \u001b[38;5;28;01mif\u001b[39;00m \u001b[38;5;129;01mnot\u001b[39;00m (src_offset_unit \u001b[38;5;129;01mor\u001b[39;00m dst_offset_unit):\n\u001b[1;32m--> 259\u001b[0m     \u001b[38;5;28;01mreturn\u001b[39;00m \u001b[38;5;28;43msuper\u001b[39;49m\u001b[43m(\u001b[49m\u001b[43m)\u001b[49m\u001b[38;5;241;43m.\u001b[39;49m\u001b[43m_convert\u001b[49m\u001b[43m(\u001b[49m\u001b[43mvalue\u001b[49m\u001b[43m,\u001b[49m\u001b[43m \u001b[49m\u001b[43msrc\u001b[49m\u001b[43m,\u001b[49m\u001b[43m \u001b[49m\u001b[43mdst\u001b[49m\u001b[43m,\u001b[49m\u001b[43m \u001b[49m\u001b[43minplace\u001b[49m\u001b[43m)\u001b[49m\n\u001b[0;32m    261\u001b[0m src_dim \u001b[38;5;241m=\u001b[39m \u001b[38;5;28mself\u001b[39m\u001b[38;5;241m.\u001b[39m_get_dimensionality(src)\n\u001b[0;32m    262\u001b[0m dst_dim \u001b[38;5;241m=\u001b[39m \u001b[38;5;28mself\u001b[39m\u001b[38;5;241m.\u001b[39m_get_dimensionality(dst)\n",
      "File \u001b[1;32mc:\\Users\\hwadg\\anaconda3\\envs\\pyfuel\\lib\\site-packages\\pint\\facets\\plain\\registry.py:1082\u001b[0m, in \u001b[0;36mGenericPlainRegistry._convert\u001b[1;34m(self, value, src, dst, inplace, check_dimensionality)\u001b[0m\n\u001b[0;32m   1052\u001b[0m \u001b[38;5;28;01mdef\u001b[39;00m\u001b[38;5;250m \u001b[39m\u001b[38;5;21m_convert\u001b[39m(\n\u001b[0;32m   1053\u001b[0m     \u001b[38;5;28mself\u001b[39m,\n\u001b[0;32m   1054\u001b[0m     value: T,\n\u001b[1;32m   (...)\u001b[0m\n\u001b[0;32m   1058\u001b[0m     check_dimensionality: \u001b[38;5;28mbool\u001b[39m \u001b[38;5;241m=\u001b[39m \u001b[38;5;28;01mTrue\u001b[39;00m,\n\u001b[0;32m   1059\u001b[0m ) \u001b[38;5;241m-\u001b[39m\u001b[38;5;241m>\u001b[39m T:\n\u001b[0;32m   1060\u001b[0m \u001b[38;5;250m    \u001b[39m\u001b[38;5;124;03m\"\"\"Convert value from some source to destination units.\u001b[39;00m\n\u001b[0;32m   1061\u001b[0m \n\u001b[0;32m   1062\u001b[0m \u001b[38;5;124;03m    Parameters\u001b[39;00m\n\u001b[1;32m   (...)\u001b[0m\n\u001b[0;32m   1079\u001b[0m \n\u001b[0;32m   1080\u001b[0m \u001b[38;5;124;03m    \"\"\"\u001b[39;00m\n\u001b[1;32m-> 1082\u001b[0m     factor \u001b[38;5;241m=\u001b[39m \u001b[38;5;28;43mself\u001b[39;49m\u001b[38;5;241;43m.\u001b[39;49m\u001b[43m_get_conversion_factor\u001b[49m\u001b[43m(\u001b[49m\u001b[43msrc\u001b[49m\u001b[43m,\u001b[49m\u001b[43m \u001b[49m\u001b[43mdst\u001b[49m\u001b[43m)\u001b[49m\n\u001b[0;32m   1084\u001b[0m     \u001b[38;5;28;01mif\u001b[39;00m \u001b[38;5;28misinstance\u001b[39m(factor, DimensionalityError):\n\u001b[0;32m   1085\u001b[0m         \u001b[38;5;28;01mraise\u001b[39;00m factor\n",
      "File \u001b[1;32mc:\\Users\\hwadg\\anaconda3\\envs\\pyfuel\\lib\\site-packages\\pint\\facets\\plain\\registry.py:853\u001b[0m, in \u001b[0;36mGenericPlainRegistry._get_conversion_factor\u001b[1;34m(self, src, dst)\u001b[0m\n\u001b[0;32m    850\u001b[0m \u001b[38;5;28;01mexcept\u001b[39;00m \u001b[38;5;167;01mKeyError\u001b[39;00m:\n\u001b[0;32m    851\u001b[0m     \u001b[38;5;28;01mpass\u001b[39;00m\n\u001b[1;32m--> 853\u001b[0m src_dim \u001b[38;5;241m=\u001b[39m \u001b[38;5;28;43mself\u001b[39;49m\u001b[38;5;241;43m.\u001b[39;49m\u001b[43m_get_dimensionality\u001b[49m\u001b[43m(\u001b[49m\u001b[43msrc\u001b[49m\u001b[43m)\u001b[49m\n\u001b[0;32m    854\u001b[0m dst_dim \u001b[38;5;241m=\u001b[39m \u001b[38;5;28mself\u001b[39m\u001b[38;5;241m.\u001b[39m_get_dimensionality(dst)\n\u001b[0;32m    856\u001b[0m \u001b[38;5;66;03m# If the source and destination dimensionality are different,\u001b[39;00m\n\u001b[0;32m    857\u001b[0m \u001b[38;5;66;03m# then the conversion cannot be performed.\u001b[39;00m\n",
      "File \u001b[1;32mc:\\Users\\hwadg\\anaconda3\\envs\\pyfuel\\lib\\site-packages\\pint\\facets\\plain\\registry.py:734\u001b[0m, in \u001b[0;36mGenericPlainRegistry._get_dimensionality\u001b[1;34m(self, input_units)\u001b[0m\n\u001b[0;32m    731\u001b[0m     \u001b[38;5;28;01mpass\u001b[39;00m\n\u001b[0;32m    733\u001b[0m accumulator: \u001b[38;5;28mdict\u001b[39m[\u001b[38;5;28mstr\u001b[39m, \u001b[38;5;28mint\u001b[39m] \u001b[38;5;241m=\u001b[39m defaultdict(\u001b[38;5;28mint\u001b[39m)\n\u001b[1;32m--> 734\u001b[0m \u001b[38;5;28;43mself\u001b[39;49m\u001b[38;5;241;43m.\u001b[39;49m\u001b[43m_get_dimensionality_recurse\u001b[49m\u001b[43m(\u001b[49m\u001b[43minput_units\u001b[49m\u001b[43m,\u001b[49m\u001b[43m \u001b[49m\u001b[38;5;241;43m1\u001b[39;49m\u001b[43m,\u001b[49m\u001b[43m \u001b[49m\u001b[43maccumulator\u001b[49m\u001b[43m)\u001b[49m\n\u001b[0;32m    736\u001b[0m \u001b[38;5;28;01mif\u001b[39;00m \u001b[38;5;124m\"\u001b[39m\u001b[38;5;124m[]\u001b[39m\u001b[38;5;124m\"\u001b[39m \u001b[38;5;129;01min\u001b[39;00m accumulator:\n\u001b[0;32m    737\u001b[0m     \u001b[38;5;28;01mdel\u001b[39;00m accumulator[\u001b[38;5;124m\"\u001b[39m\u001b[38;5;124m[]\u001b[39m\u001b[38;5;124m\"\u001b[39m]\n",
      "File \u001b[1;32mc:\\Users\\hwadg\\anaconda3\\envs\\pyfuel\\lib\\site-packages\\pint\\facets\\plain\\registry.py:766\u001b[0m, in \u001b[0;36mGenericPlainRegistry._get_dimensionality_recurse\u001b[1;34m(self, ref, exp, accumulator)\u001b[0m\n\u001b[0;32m    764\u001b[0m reg \u001b[38;5;241m=\u001b[39m \u001b[38;5;28mself\u001b[39m\u001b[38;5;241m.\u001b[39m_units[\u001b[38;5;28mself\u001b[39m\u001b[38;5;241m.\u001b[39mget_name(key)]\n\u001b[0;32m    765\u001b[0m \u001b[38;5;28;01mif\u001b[39;00m reg\u001b[38;5;241m.\u001b[39mreference \u001b[38;5;129;01mis\u001b[39;00m \u001b[38;5;129;01mnot\u001b[39;00m \u001b[38;5;28;01mNone\u001b[39;00m:\n\u001b[1;32m--> 766\u001b[0m     \u001b[38;5;28;43mself\u001b[39;49m\u001b[38;5;241;43m.\u001b[39;49m\u001b[43m_get_dimensionality_recurse\u001b[49m\u001b[43m(\u001b[49m\u001b[43mreg\u001b[49m\u001b[38;5;241;43m.\u001b[39;49m\u001b[43mreference\u001b[49m\u001b[43m,\u001b[49m\u001b[43m \u001b[49m\u001b[43mexp2\u001b[49m\u001b[43m,\u001b[49m\u001b[43m \u001b[49m\u001b[43maccumulator\u001b[49m\u001b[43m)\u001b[49m\n",
      "File \u001b[1;32mc:\\Users\\hwadg\\anaconda3\\envs\\pyfuel\\lib\\site-packages\\pint\\facets\\plain\\registry.py:764\u001b[0m, in \u001b[0;36mGenericPlainRegistry._get_dimensionality_recurse\u001b[1;34m(self, ref, exp, accumulator)\u001b[0m\n\u001b[0;32m    761\u001b[0m         accumulator[key] \u001b[38;5;241m+\u001b[39m\u001b[38;5;241m=\u001b[39m exp2\n\u001b[0;32m    763\u001b[0m \u001b[38;5;28;01melse\u001b[39;00m:\n\u001b[1;32m--> 764\u001b[0m     reg \u001b[38;5;241m=\u001b[39m \u001b[38;5;28mself\u001b[39m\u001b[38;5;241m.\u001b[39m_units[\u001b[38;5;28;43mself\u001b[39;49m\u001b[38;5;241;43m.\u001b[39;49m\u001b[43mget_name\u001b[49m\u001b[43m(\u001b[49m\u001b[43mkey\u001b[49m\u001b[43m)\u001b[49m]\n\u001b[0;32m    765\u001b[0m     \u001b[38;5;28;01mif\u001b[39;00m reg\u001b[38;5;241m.\u001b[39mreference \u001b[38;5;129;01mis\u001b[39;00m \u001b[38;5;129;01mnot\u001b[39;00m \u001b[38;5;28;01mNone\u001b[39;00m:\n\u001b[0;32m    766\u001b[0m         \u001b[38;5;28mself\u001b[39m\u001b[38;5;241m.\u001b[39m_get_dimensionality_recurse(reg\u001b[38;5;241m.\u001b[39mreference, exp2, accumulator)\n",
      "File \u001b[1;32mc:\\Users\\hwadg\\anaconda3\\envs\\pyfuel\\lib\\site-packages\\pint\\facets\\plain\\registry.py:665\u001b[0m, in \u001b[0;36mGenericPlainRegistry.get_name\u001b[1;34m(self, name_or_alias, case_sensitive)\u001b[0m\n\u001b[0;32m    663\u001b[0m candidates \u001b[38;5;241m=\u001b[39m \u001b[38;5;28mself\u001b[39m\u001b[38;5;241m.\u001b[39mparse_unit_name(name_or_alias, case_sensitive)\n\u001b[0;32m    664\u001b[0m \u001b[38;5;28;01mif\u001b[39;00m \u001b[38;5;129;01mnot\u001b[39;00m candidates:\n\u001b[1;32m--> 665\u001b[0m     \u001b[38;5;28;01mraise\u001b[39;00m UndefinedUnitError(name_or_alias)\n\u001b[0;32m    667\u001b[0m prefix, unit_name, _ \u001b[38;5;241m=\u001b[39m candidates[\u001b[38;5;241m0\u001b[39m]\n\u001b[0;32m    668\u001b[0m \u001b[38;5;28;01mif\u001b[39;00m \u001b[38;5;28mlen\u001b[39m(candidates) \u001b[38;5;241m>\u001b[39m \u001b[38;5;241m1\u001b[39m:\n",
      "\u001b[1;31mUndefinedUnitError\u001b[0m: 'million' is not defined in the unit registry"
     ]
    }
   ],
   "source": [
    "from units import u, Q_\n",
    "\n",
    "ethanol_prod = Q_(39, \"mgpy\")  # 39 million gal per year\n",
    "\n",
    "ethanol_gpy  = ethanol_prod.to(\"gallon/year\")\n",
    "ethanol_Ly   = ethanol_prod.to(\"liter/year\")\n",
    "ethanol_m3_s = ethanol_prod.to(\"meter**3/second\")\n",
    "\n",
    "print(ethanol_gpy)\n",
    "print(ethanol_Ly)\n",
    "print(ethanol_m3_s)"
   ]
  },
  {
   "cell_type": "code",
   "execution_count": null,
   "id": "3fe15d79",
   "metadata": {},
   "outputs": [
    {
     "data": {
      "text/html": [
       "39 mgpy"
      ],
      "text/latex": [
       "$39\\ \\mathrm{mgpy}$"
      ],
      "text/plain": [
       "<Quantity(39, 'mgpy')>"
      ]
     },
     "execution_count": 5,
     "metadata": {},
     "output_type": "execute_result"
    }
   ],
   "source": [
    "ethanol_prod"
   ]
  },
  {
   "cell_type": "code",
   "execution_count": null,
   "id": "eb123ad7",
   "metadata": {},
   "outputs": [
    {
     "data": {
      "text/plain": [
       "39"
      ]
     },
     "execution_count": 42,
     "metadata": {},
     "output_type": "execute_result"
    }
   ],
   "source": [
    "etoh_production"
   ]
  },
  {
   "cell_type": "code",
   "execution_count": 8,
   "id": "ec9cb60a",
   "metadata": {},
   "outputs": [],
   "source": [
    "\n",
    "\n",
    "# Inlet ethanol\n",
    "etoh_in = qs.SanStream('Ethanol_In', \n",
    "                       Ethanol = etoh_production*1e6*(1/264.17)*789*(1/330/24)*etoh_conc,\n",
    "                       Water = etoh_production*1e6*(1/264.17)*789*(1/330/24)*(1-etoh_conc),\n",
    "                       phase = 'l',\n",
    "                       T = etoh_in_T,\n",
    "                       P = etoh_in_P,\n",
    "                       units = 'kg/hr',\n",
    "                       price = etoh_price*264.17*(1/789)) # USD/gal"
   ]
  },
  {
   "cell_type": "code",
   "execution_count": 9,
   "id": "285fe512",
   "metadata": {},
   "outputs": [],
   "source": [
    "furnace_1 = _heat_exchanging.HXutility('Furnace_1',\n",
    "                                       ins = etoh_in,\n",
    "                                       T = eto_temp,\n",
    "                                       rigorous = True\n",
    "\n",
    ")\n",
    "furnace_1.simulate()"
   ]
  },
  {
   "cell_type": "code",
   "execution_count": null,
   "id": "d3cb66a9",
   "metadata": {},
   "outputs": [],
   "source": [
    "eto = OligomerizationReactor(ins = furnace_1.outs[0],\n",
    "                             conversion = eto_conv,\n",
    "                             temperature = eto_temp,\n",
    "                             pressure = 101325,\n",
    "                             WHSV = eto_cat_whsv,\n",
    "                             catalyst_price = olig_cat_cost)"
   ]
  },
  {
   "cell_type": "code",
   "execution_count": null,
   "id": "576e0c45",
   "metadata": {},
   "outputs": [],
   "source": [
    "eto.simulate()"
   ]
  },
  {
   "cell_type": "code",
   "execution_count": null,
   "id": "d2856e86",
   "metadata": {},
   "outputs": [],
   "source": [
    "# 1) Gas phase dehydration of ethanol to ethylene \n",
    "dehydration_rxn = bst.Reaction('Ethanol,g -> Water,g + Ethylene,g', reactant = 'Ethanol', \n",
    "                            X = 1, phases = 'lg',  basis = 'mol')"
   ]
  },
  {
   "cell_type": "code",
   "execution_count": null,
   "id": "0a8fc35c",
   "metadata": {},
   "outputs": [],
   "source": [
    "dehyd_reactor = IsothermalReactor(ins = furnace_1.outs[0],\n",
    "                            conversion = eto_conv,\n",
    "                             temperature = eto_temp,\n",
    "                             pressure = 101325,\n",
    "                             WHSV = eto_cat_whsv,\n",
    "                             catalyst_price = olig_cat_cost, \n",
    "                             reaction = dehydration_rxn)\n",
    "dehyd_reactor.simulate()\n",
    "                          "
   ]
  },
  {
   "cell_type": "code",
   "execution_count": null,
   "id": "1b249ad0",
   "metadata": {},
   "outputs": [
    {
     "data": {
      "text/html": [
       "<div>\n",
       "<style scoped>\n",
       "    .dataframe tbody tr th:only-of-type {\n",
       "        vertical-align: middle;\n",
       "    }\n",
       "\n",
       "    .dataframe tbody tr th {\n",
       "        vertical-align: top;\n",
       "    }\n",
       "\n",
       "    .dataframe thead th {\n",
       "        text-align: right;\n",
       "    }\n",
       "</style>\n",
       "<table border=\"1\" class=\"dataframe\">\n",
       "  <thead>\n",
       "    <tr style=\"text-align: right;\">\n",
       "      <th></th>\n",
       "      <th>Isothermal reactor</th>\n",
       "      <th>Units</th>\n",
       "      <th>R3</th>\n",
       "    </tr>\n",
       "  </thead>\n",
       "  <tbody>\n",
       "    <tr>\n",
       "      <th rowspan=\"3\" valign=\"top\">Natural gas</th>\n",
       "      <th>Duty</th>\n",
       "      <td>kJ/hr</td>\n",
       "      <td>1.5e+07</td>\n",
       "    </tr>\n",
       "    <tr>\n",
       "      <th>Flow</th>\n",
       "      <td>kmol/hr</td>\n",
       "      <td>28.9</td>\n",
       "    </tr>\n",
       "    <tr>\n",
       "      <th>Cost</th>\n",
       "      <td>USD/hr</td>\n",
       "      <td>101</td>\n",
       "    </tr>\n",
       "    <tr>\n",
       "      <th rowspan=\"7\" valign=\"top\">Design</th>\n",
       "      <th>Catalyst Weight</th>\n",
       "      <td>kg</td>\n",
       "      <td>1.47e+04</td>\n",
       "    </tr>\n",
       "    <tr>\n",
       "      <th>Volume</th>\n",
       "      <td>L</td>\n",
       "      <td>4.23e+04</td>\n",
       "    </tr>\n",
       "    <tr>\n",
       "      <th>Vessel Weight</th>\n",
       "      <td>lb</td>\n",
       "      <td>1.46e+04</td>\n",
       "    </tr>\n",
       "    <tr>\n",
       "      <th>Length</th>\n",
       "      <td>ft</td>\n",
       "      <td>25.8</td>\n",
       "    </tr>\n",
       "    <tr>\n",
       "      <th>Diameter</th>\n",
       "      <td>ft</td>\n",
       "      <td>8.59</td>\n",
       "    </tr>\n",
       "    <tr>\n",
       "      <th>Wall thickness</th>\n",
       "      <td>in</td>\n",
       "      <td>0.438</td>\n",
       "    </tr>\n",
       "    <tr>\n",
       "      <th>Duty</th>\n",
       "      <td>kJ/hr</td>\n",
       "      <td>1.5e+07</td>\n",
       "    </tr>\n",
       "    <tr>\n",
       "      <th rowspan=\"3\" valign=\"top\">Purchase cost</th>\n",
       "      <th>Horizontal pressure vessel</th>\n",
       "      <td>USD</td>\n",
       "      <td>8.27e+04</td>\n",
       "    </tr>\n",
       "    <tr>\n",
       "      <th>Platform and ladders</th>\n",
       "      <td>USD</td>\n",
       "      <td>3.52e+03</td>\n",
       "    </tr>\n",
       "    <tr>\n",
       "      <th>Catalyst</th>\n",
       "      <td>USD</td>\n",
       "      <td>2.26e+06</td>\n",
       "    </tr>\n",
       "    <tr>\n",
       "      <th>Total purchase cost</th>\n",
       "      <th></th>\n",
       "      <td>USD</td>\n",
       "      <td>2.35e+06</td>\n",
       "    </tr>\n",
       "    <tr>\n",
       "      <th>Utility cost</th>\n",
       "      <th></th>\n",
       "      <td>USD/hr</td>\n",
       "      <td>101</td>\n",
       "    </tr>\n",
       "    <tr>\n",
       "      <th>Additional OPEX</th>\n",
       "      <th></th>\n",
       "      <td>USD/hr</td>\n",
       "      <td>287</td>\n",
       "    </tr>\n",
       "  </tbody>\n",
       "</table>\n",
       "</div>"
      ],
      "text/plain": [
       "Isothermal reactor                                Units       R3\n",
       "Natural gas         Duty                          kJ/hr  1.5e+07\n",
       "                    Flow                        kmol/hr     28.9\n",
       "                    Cost                         USD/hr      101\n",
       "Design              Catalyst Weight                  kg 1.47e+04\n",
       "                    Volume                            L 4.23e+04\n",
       "                    Vessel Weight                    lb 1.46e+04\n",
       "                    Length                           ft     25.8\n",
       "                    Diameter                         ft     8.59\n",
       "                    Wall thickness                   in    0.438\n",
       "                    Duty                          kJ/hr  1.5e+07\n",
       "Purchase cost       Horizontal pressure vessel      USD 8.27e+04\n",
       "                    Platform and ladders            USD 3.52e+03\n",
       "                    Catalyst                        USD 2.26e+06\n",
       "Total purchase cost                                 USD 2.35e+06\n",
       "Utility cost                                     USD/hr      101\n",
       "Additional OPEX                                  USD/hr      287"
      ]
     },
     "execution_count": 24,
     "metadata": {},
     "output_type": "execute_result"
    }
   ],
   "source": [
    "dehyd_reactor.results()"
   ]
  },
  {
   "cell_type": "code",
   "execution_count": null,
   "id": "321c8c7a",
   "metadata": {},
   "outputs": [
    {
     "name": "stdout",
     "output_type": "stream",
     "text": [
      "SanStream: ss1 from <OligomerizationReactor: R1>\n",
      "phase: 'l', T: 623 K, P: 101325 Pa\n",
      "flow (kg/hr): Ethylene      1.34e+03\n",
      "              Propene       735\n",
      "              Butene        9.85e+03\n",
      "              Pentene       2.5e+03\n",
      "              Acetaldehyde  279\n"
     ]
    }
   ],
   "source": [
    "eto.outs[0].show(flow = 'kg/hr')"
   ]
  },
  {
   "cell_type": "code",
   "execution_count": null,
   "id": "0c8384cc",
   "metadata": {},
   "outputs": [
    {
     "data": {
      "text/html": [
       "<div>\n",
       "<style scoped>\n",
       "    .dataframe tbody tr th:only-of-type {\n",
       "        vertical-align: middle;\n",
       "    }\n",
       "\n",
       "    .dataframe tbody tr th {\n",
       "        vertical-align: top;\n",
       "    }\n",
       "\n",
       "    .dataframe thead th {\n",
       "        text-align: right;\n",
       "    }\n",
       "</style>\n",
       "<table border=\"1\" class=\"dataframe\">\n",
       "  <thead>\n",
       "    <tr style=\"text-align: right;\">\n",
       "      <th></th>\n",
       "      <th>Oligomerization reactor</th>\n",
       "      <th>Units</th>\n",
       "      <th>R1</th>\n",
       "    </tr>\n",
       "  </thead>\n",
       "  <tbody>\n",
       "    <tr>\n",
       "      <th rowspan=\"3\" valign=\"top\">Natural gas</th>\n",
       "      <th>Duty</th>\n",
       "      <td>kJ/hr</td>\n",
       "      <td>8.53e+07</td>\n",
       "    </tr>\n",
       "    <tr>\n",
       "      <th>Flow</th>\n",
       "      <td>kmol/hr</td>\n",
       "      <td>165</td>\n",
       "    </tr>\n",
       "    <tr>\n",
       "      <th>Cost</th>\n",
       "      <td>USD/hr</td>\n",
       "      <td>575</td>\n",
       "    </tr>\n",
       "    <tr>\n",
       "      <th rowspan=\"7\" valign=\"top\">Design</th>\n",
       "      <th>Catalyst Weight</th>\n",
       "      <td>kg</td>\n",
       "      <td>1.47e+04</td>\n",
       "    </tr>\n",
       "    <tr>\n",
       "      <th>Volume</th>\n",
       "      <td>L</td>\n",
       "      <td>4.23e+04</td>\n",
       "    </tr>\n",
       "    <tr>\n",
       "      <th>Vessel Weight</th>\n",
       "      <td>lb</td>\n",
       "      <td>1.46e+04</td>\n",
       "    </tr>\n",
       "    <tr>\n",
       "      <th>Length</th>\n",
       "      <td>ft</td>\n",
       "      <td>25.8</td>\n",
       "    </tr>\n",
       "    <tr>\n",
       "      <th>Diameter</th>\n",
       "      <td>ft</td>\n",
       "      <td>8.59</td>\n",
       "    </tr>\n",
       "    <tr>\n",
       "      <th>Wall thickness</th>\n",
       "      <td>in</td>\n",
       "      <td>0.438</td>\n",
       "    </tr>\n",
       "    <tr>\n",
       "      <th>Duty</th>\n",
       "      <td>kJ/hr</td>\n",
       "      <td>8.53e+07</td>\n",
       "    </tr>\n",
       "    <tr>\n",
       "      <th rowspan=\"3\" valign=\"top\">Purchase cost</th>\n",
       "      <th>Horizontal pressure vessel</th>\n",
       "      <td>USD</td>\n",
       "      <td>7.87e+04</td>\n",
       "    </tr>\n",
       "    <tr>\n",
       "      <th>Platform and ladders</th>\n",
       "      <td>USD</td>\n",
       "      <td>3.52e+03</td>\n",
       "    </tr>\n",
       "    <tr>\n",
       "      <th>Catalyst</th>\n",
       "      <td>USD</td>\n",
       "      <td>2.26e+06</td>\n",
       "    </tr>\n",
       "    <tr>\n",
       "      <th>Total purchase cost</th>\n",
       "      <th></th>\n",
       "      <td>USD</td>\n",
       "      <td>2.35e+06</td>\n",
       "    </tr>\n",
       "    <tr>\n",
       "      <th>Utility cost</th>\n",
       "      <th></th>\n",
       "      <td>USD/hr</td>\n",
       "      <td>575</td>\n",
       "    </tr>\n",
       "    <tr>\n",
       "      <th>Additional OPEX</th>\n",
       "      <th></th>\n",
       "      <td>USD/hr</td>\n",
       "      <td>287</td>\n",
       "    </tr>\n",
       "  </tbody>\n",
       "</table>\n",
       "</div>"
      ],
      "text/plain": [
       "Oligomerization reactor                           Units       R1\n",
       "Natural gas         Duty                          kJ/hr 8.53e+07\n",
       "                    Flow                        kmol/hr      165\n",
       "                    Cost                         USD/hr      575\n",
       "Design              Catalyst Weight                  kg 1.47e+04\n",
       "                    Volume                            L 4.23e+04\n",
       "                    Vessel Weight                    lb 1.46e+04\n",
       "                    Length                           ft     25.8\n",
       "                    Diameter                         ft     8.59\n",
       "                    Wall thickness                   in    0.438\n",
       "                    Duty                          kJ/hr 8.53e+07\n",
       "Purchase cost       Horizontal pressure vessel      USD 7.87e+04\n",
       "                    Platform and ladders            USD 3.52e+03\n",
       "                    Catalyst                        USD 2.26e+06\n",
       "Total purchase cost                                 USD 2.35e+06\n",
       "Utility cost                                     USD/hr      575\n",
       "Additional OPEX                                  USD/hr      287"
      ]
     },
     "execution_count": 13,
     "metadata": {},
     "output_type": "execute_result"
    }
   ],
   "source": [
    "eto.results()"
   ]
  },
  {
   "cell_type": "code",
   "execution_count": 10,
   "id": "024a5527",
   "metadata": {},
   "outputs": [],
   "source": [
    "# One step ETO\n",
    "eto_rxn = bst.ParallelReaction([\n",
    "# Reaction definition                                     # Reactant                    # Conversion\n",
    "bst.Reaction('2Ethanol,g + Hydrogen,g -> Butene,g + 2H2O,g' ,            reactant = 'Ethanol',     X = 0.66,    basis = 'wt',  phases = 'lg',  correct_atomic_balance = True),\n",
    "bst.Reaction('1.5Ethanol,g + 0.75Hydrogen,g -> Propene,g + 1.5H2O,g',    reactant = 'Ethanol',     X = 0.05,  basis = 'wt',  phases = 'lg',  correct_atomic_balance = True),\n",
    "bst.Reaction('2.5Ethanol,g + 1.25Hydrogen,g -> Pentene,g + 2.5H2O,g',    reactant = 'Ethanol',     X = 0.17,  basis = 'wt',  phases = 'lg',  correct_atomic_balance = True),\n",
    "bst.Reaction('Ethanol,g -> Ethylene,g + H2O,g',                          reactant = 'Ethanol',     X = 0.091,  basis = 'wt',  phases = 'lg',  correct_atomic_balance = True),\n",
    "bst.Reaction('Ethanol,g -> Acetaldehyde,g + Hydrogen,g',                 reactant = 'Ethanol',     X = 0.019,  basis = 'wt',  phases = 'lg',  correct_atomic_balance = True)\n",
    "])\n",
    "\n"
   ]
  },
  {
   "cell_type": "code",
   "execution_count": null,
   "id": "645c224b",
   "metadata": {},
   "outputs": [
    {
     "name": "stdout",
     "output_type": "stream",
     "text": [
      "ParallelReaction (by wt):\n",
      "index  stoichiometry                                                      reactant     X[%]\n",
      "[0]    Ethanol,g -> 0.391 Water,g + 0.609 Butene,g + 1.4e-17 Hydrogen,g   Ethanol,g   66.00\n",
      "[1]    Ethanol,g -> 0.391 Water,g + 0.609 Propene,g + 1.4e-17 Hydrogen,g  Ethanol,g    5.00\n",
      "[2]    Ethanol,g -> 0.391 Water,g + 0.609 Pentene,g + 1.4e-17 Hydrogen,g  Ethanol,g   17.00\n",
      "[3]    Ethanol,g -> 0.391 Water,g + 0.609 Ethylene,g                      Ethanol,g    9.10\n",
      "[4]    Ethanol,g -> 0.0438 Hydrogen,g + 0.956 Acetaldehyde,g              Ethanol,g    1.90\n"
     ]
    }
   ],
   "source": [
    "eto_rxn"
   ]
  },
  {
   "cell_type": "code",
   "execution_count": 27,
   "id": "80a79f40",
   "metadata": {},
   "outputs": [],
   "source": [
    "eto_2 = IsothermalReactor(ins = furnace_1.outs[0],\n",
    "                            conversion = eto_conv,\n",
    "                             temperature = eto_temp,\n",
    "                             pressure = 101325,\n",
    "                             WHSV = eto_cat_whsv,\n",
    "                             catalyst_price = olig_cat_cost, \n",
    "                             reaction = eto_rxn)\n",
    "                          "
   ]
  },
  {
   "cell_type": "code",
   "execution_count": 28,
   "id": "09d925ab",
   "metadata": {},
   "outputs": [],
   "source": [
    "eto_2.simulate()"
   ]
  },
  {
   "cell_type": "code",
   "execution_count": 29,
   "id": "285b0117",
   "metadata": {},
   "outputs": [
    {
     "data": {
      "text/html": [
       "<div>\n",
       "<style scoped>\n",
       "    .dataframe tbody tr th:only-of-type {\n",
       "        vertical-align: middle;\n",
       "    }\n",
       "\n",
       "    .dataframe tbody tr th {\n",
       "        vertical-align: top;\n",
       "    }\n",
       "\n",
       "    .dataframe thead th {\n",
       "        text-align: right;\n",
       "    }\n",
       "</style>\n",
       "<table border=\"1\" class=\"dataframe\">\n",
       "  <thead>\n",
       "    <tr style=\"text-align: right;\">\n",
       "      <th></th>\n",
       "      <th>Isothermal reactor</th>\n",
       "      <th>Units</th>\n",
       "      <th>R4</th>\n",
       "    </tr>\n",
       "  </thead>\n",
       "  <tbody>\n",
       "    <tr>\n",
       "      <th rowspan=\"3\" valign=\"top\">Natural gas</th>\n",
       "      <th>Duty</th>\n",
       "      <td>kJ/hr</td>\n",
       "      <td>1.07e+05</td>\n",
       "    </tr>\n",
       "    <tr>\n",
       "      <th>Flow</th>\n",
       "      <td>kmol/hr</td>\n",
       "      <td>0.206</td>\n",
       "    </tr>\n",
       "    <tr>\n",
       "      <th>Cost</th>\n",
       "      <td>USD/hr</td>\n",
       "      <td>0.721</td>\n",
       "    </tr>\n",
       "    <tr>\n",
       "      <th rowspan=\"7\" valign=\"top\">Design</th>\n",
       "      <th>Catalyst Weight</th>\n",
       "      <td>kg</td>\n",
       "      <td>1.47e+04</td>\n",
       "    </tr>\n",
       "    <tr>\n",
       "      <th>Volume</th>\n",
       "      <td>L</td>\n",
       "      <td>4.23e+04</td>\n",
       "    </tr>\n",
       "    <tr>\n",
       "      <th>Vessel Weight</th>\n",
       "      <td>lb</td>\n",
       "      <td>1.46e+04</td>\n",
       "    </tr>\n",
       "    <tr>\n",
       "      <th>Length</th>\n",
       "      <td>ft</td>\n",
       "      <td>25.8</td>\n",
       "    </tr>\n",
       "    <tr>\n",
       "      <th>Diameter</th>\n",
       "      <td>ft</td>\n",
       "      <td>8.59</td>\n",
       "    </tr>\n",
       "    <tr>\n",
       "      <th>Wall thickness</th>\n",
       "      <td>in</td>\n",
       "      <td>0.438</td>\n",
       "    </tr>\n",
       "    <tr>\n",
       "      <th>Duty</th>\n",
       "      <td>kJ/hr</td>\n",
       "      <td>1.07e+05</td>\n",
       "    </tr>\n",
       "    <tr>\n",
       "      <th rowspan=\"3\" valign=\"top\">Purchase cost</th>\n",
       "      <th>Horizontal pressure vessel</th>\n",
       "      <td>USD</td>\n",
       "      <td>8.27e+04</td>\n",
       "    </tr>\n",
       "    <tr>\n",
       "      <th>Platform and ladders</th>\n",
       "      <td>USD</td>\n",
       "      <td>3.52e+03</td>\n",
       "    </tr>\n",
       "    <tr>\n",
       "      <th>Catalyst</th>\n",
       "      <td>USD</td>\n",
       "      <td>2.26e+06</td>\n",
       "    </tr>\n",
       "    <tr>\n",
       "      <th>Total purchase cost</th>\n",
       "      <th></th>\n",
       "      <td>USD</td>\n",
       "      <td>2.35e+06</td>\n",
       "    </tr>\n",
       "    <tr>\n",
       "      <th>Utility cost</th>\n",
       "      <th></th>\n",
       "      <td>USD/hr</td>\n",
       "      <td>0.721</td>\n",
       "    </tr>\n",
       "    <tr>\n",
       "      <th>Additional OPEX</th>\n",
       "      <th></th>\n",
       "      <td>USD/hr</td>\n",
       "      <td>287</td>\n",
       "    </tr>\n",
       "  </tbody>\n",
       "</table>\n",
       "</div>"
      ],
      "text/plain": [
       "Isothermal reactor                                Units       R4\n",
       "Natural gas         Duty                          kJ/hr 1.07e+05\n",
       "                    Flow                        kmol/hr    0.206\n",
       "                    Cost                         USD/hr    0.721\n",
       "Design              Catalyst Weight                  kg 1.47e+04\n",
       "                    Volume                            L 4.23e+04\n",
       "                    Vessel Weight                    lb 1.46e+04\n",
       "                    Length                           ft     25.8\n",
       "                    Diameter                         ft     8.59\n",
       "                    Wall thickness                   in    0.438\n",
       "                    Duty                          kJ/hr 1.07e+05\n",
       "Purchase cost       Horizontal pressure vessel      USD 8.27e+04\n",
       "                    Platform and ladders            USD 3.52e+03\n",
       "                    Catalyst                        USD 2.26e+06\n",
       "Total purchase cost                                 USD 2.35e+06\n",
       "Utility cost                                     USD/hr    0.721\n",
       "Additional OPEX                                  USD/hr      287"
      ]
     },
     "execution_count": 29,
     "metadata": {},
     "output_type": "execute_result"
    }
   ],
   "source": [
    "eto_2.results()"
   ]
  },
  {
   "cell_type": "code",
   "execution_count": 30,
   "id": "0bd4856f",
   "metadata": {},
   "outputs": [
    {
     "data": {
      "text/html": [
       "\n",
       "        <iframe\n",
       "            width=\"100%\"\n",
       "            height=\"225px\"\n",
       "            src=\"data:text/html;charset=utf-8,%3C%21DOCTYPE%20html%3E%3Chtml%3E%3Chead%3E%3Clink%20rel%3D%22stylesheet%22%20href%3D%22https%3A//unpkg.com/tippy.js%406.3.7/themes/translucent.css%22%3E%3Clink%20rel%3D%22stylesheet%22%20href%3D%22https%3A//rawcdn.githack.com/BioSTEAMDevelopmentGroup/biosteam/e065aca079c216d72b75949bbcbb74a3bbddb75d/biosteam/digraph/digraph.css%22%3E%3Cscript%20src%3D%22https%3A//unpkg.com/%40popperjs/core%402%22%3E%3C/script%3E%3Cscript%20src%3D%22https%3A//unpkg.com/tippy.js%406%22%3E%3C/script%3E%3Cscript%20src%3D%22https%3A//rawcdn.githack.com/BioSTEAMDevelopmentGroup/biosteam/e065aca079c216d72b75949bbcbb74a3bbddb75d/biosteam/digraph/digraph.js%22%3E%3C/script%3E%3C/head%3E%3Cbody%3E%3Csvg%20width%3D%22260pt%22%20height%3D%2251pt%22%20viewBox%3D%220.00%200.00%20260.00%2051.00%22%3E%0A%3Cg%20id%3D%22graph0%22%20class%3D%22graph%22%20transform%3D%22scale%281%201%29%20rotate%280%29%20translate%284%2047%29%22%3E%0A%3Cpolygon%20fill%3D%22%23ffffff%22%20fill-opacity%3D%220.666667%22%20stroke%3D%22transparent%22%20points%3D%22-4%2C4%20-4%2C-47%20256%2C-47%20256%2C4%20-4%2C4%22%3E%3C/polygon%3E%0A%0A%3Cg%20id%3D%22edge2%22%20class%3D%22edge%22%20data-tippy-content%3D%22Temperature%3A%20623%20K%3Cbr%26gt%3BPressure%3A%20101325%20Pa%3Cbr%26gt%3BGas%20flow%3A%20492%20kmol/hr%3Cbr%26gt%3BLiquid%20flow%3A%200%20kmol/hr%22%3E%0A%3Cpath%20fill%3D%22none%22%20stroke%3D%22%234e4e4e%22%20stroke-width%3D%221.6%22%20d%3D%22M197.26%2C-21.5C212.24%2C-21.5%20227.87%2C-21.5%20242.5%2C-21.5%22%3E%3C/path%3E%0A%3Cg%20id%3D%22a_edge2-label%22%3E%3Ca%20title%3D%22%20Temperature%3A%20623%20K%3Cbr%26gt%3BPressure%3A%20101325%20Pa%3Cbr%26gt%3BGas%20flow%3A%20492%20kmol/hr%3Cbr%26gt%3BLiquid%20flow%3A%200%20kmol/hr%22%3E%0A%3Ctext%20text-anchor%3D%22middle%22%20x%3D%22219%22%20y%3D%22-25.3%22%20font-family%3D%22Arial%22%20font-size%3D%2214.00%22%20fill%3D%22%234e4e4e%22%3E%20s12%3C/text%3E%0A%3C/a%3E%0A%3C/g%3E%0A%3C/g%3E%0A%0A%3Cg%20id%3D%22edge1%22%20class%3D%22edge%22%20data-tippy-content%3D%22Temperature%3A%20623%20K%3Cbr%26gt%3BPressure%3A%20101325%20Pa%3Cbr%26gt%3BGas%20flow%3A%20319%20kmol/hr%3Cbr%26gt%3BLiquid%20flow%3A%200%20kmol/hr%22%3E%0A%3Cpath%20fill%3D%22none%22%20stroke%3D%22%234e4e4e%22%20d%3D%22M11%2C-21.5C22.55%2C-21.5%2034.79%2C-21.5%2046.74%2C-21.5%22%3E%3C/path%3E%0A%3Cg%20id%3D%22a_edge1-label%22%3E%3Ca%20title%3D%22%20Temperature%3A%20623%20K%3Cbr%26gt%3BPressure%3A%20101325%20Pa%3Cbr%26gt%3BGas%20flow%3A%20319%20kmol/hr%3Cbr%26gt%3BLiquid%20flow%3A%200%20kmol/hr%22%3E%0A%3Ctext%20text-anchor%3D%22middle%22%20x%3D%2229%22%20y%3D%22-25.3%22%20font-family%3D%22Arial%22%20font-size%3D%2214.00%22%20fill%3D%22%234e4e4e%22%3E%20s1%3C/text%3E%0A%3C/a%3E%0A%3C/g%3E%0A%3C/g%3E%0A%0A%3Cg%20id%3D%22node1%22%20class%3D%22node%22%20data-tippy-content%3D%22Heating%20duty%3A%20107%20MJ/hr%3Cbr%26gt%3BUtility%20cost%3A%200.721%20USD/hr%3Cbr%26gt%3BPurchase%20cost%3A%202%2C351%2C099%20USD%3Cbr%26gt%3BInstalled%20equipment%20cost%3A%202%2C351%2C099%20USD%22%3E%0A%3Cg%20id%3D%22a_node1%22%3E%3Ca%20title%3D%22%20Heating%20duty%3A%20107%20MJ/hr%3Cbr%26gt%3BUtility%20cost%3A%200.721%20USD/hr%3Cbr%26gt%3BPurchase%20cost%3A%202%2C351%2C099%20USD%3Cbr%26gt%3BInstalled%20equipment%20cost%3A%202%2C351%2C099%20USD%22%3E%0A%3Cdefs%3E%0A%3ClinearGradient%20id%3D%22l_0%22%20gradientUnits%3D%22userSpaceOnUse%22%20x1%3D%2247%22%20y1%3D%22-21.5%22%20x2%3D%22197%22%20y2%3D%22-21.5%22%3E%0A%3Cstop%20offset%3D%220%22%20style%3D%22stop-color%3Awhite%3Bstop-opacity%3A1.%3B%22%3E%3C/stop%3E%0A%3Cstop%20offset%3D%221%22%20style%3D%22stop-color%3A%23cdcdcd%3Bstop-opacity%3A1.%3B%22%3E%3C/stop%3E%0A%3C/linearGradient%3E%0A%3C/defs%3E%0A%3Cpolygon%20fill%3D%22url%28%23l_0%29%22%20stroke%3D%22%234e4e4e%22%20points%3D%22197%2C-43%2047%2C-43%2047%2C0%20197%2C0%20197%2C-43%22%3E%3C/polygon%3E%0A%3Ctext%20text-anchor%3D%22middle%22%20x%3D%22122%22%20y%3D%22-17.8%22%20font-family%3D%22Arial%22%20font-size%3D%2214.00%22%3ER4Isothermal%20reactor%3C/text%3E%0A%3C/a%3E%0A%3C/g%3E%0A%3C/g%3E%0A%0A%3Cg%20id%3D%22node2%22%20class%3D%22node%22%20data-tippy-content%3D%22125983873303%22%3E%0A%3Cpolygon%20fill%3D%22%23f98f60%22%20stroke%3D%22%234e4e4e%22%20points%3D%225.5%2C-27%200%2C-21.5%205.5%2C-16%2011%2C-21.5%205.5%2C-27%22%3E%3C/polygon%3E%0A%3C/g%3E%0A%0A%3Cg%20id%3D%22node3%22%20class%3D%22node%22%20data-tippy-content%3D%22125984085282%22%3E%0A%3Cpolygon%20fill%3D%22%23f98f60%22%20stroke%3D%22%234e4e4e%22%20points%3D%22252%2C-21.5%20243.75%2C-28.5%20243.75%2C-14.5%20252%2C-21.5%22%3E%3C/polygon%3E%0A%3C/g%3E%0A%3C/g%3E%0A%3C/svg%3E%3C/body%3E%3C/html%3E\"\n",
       "            frameborder=\"0\"\n",
       "            allowfullscreen\n",
       "            allowtransparency=\"true\"\n",
       "        ></iframe>\n",
       "        "
      ],
      "text/plain": [
       "<IPython.lib.display.IFrame at 0x1d553a717e0>"
      ]
     },
     "metadata": {},
     "output_type": "display_data"
    },
    {
     "name": "stdout",
     "output_type": "stream",
     "text": [
      "IsothermalReactor: R4\n",
      "ins...\n",
      "[0] s1  from  HXutility-Furnace_1\n",
      "phases: ('g', 'l'), T: 623 K, P: 101325 Pa\n",
      "flow (g/hr): (g) Ethanol  1.47e+07\n",
      "outs...\n",
      "[0] s12\n",
      "phases: ('g', 'l'), T: 623 K, P: 101325 Pa\n",
      "flow (g/hr): (g) Water         5.58e+06\n",
      "                    Ethanol       1.47e+05\n",
      "                    Ethylene      8.15e+05\n",
      "                    Propene       4.48e+05\n",
      "                    Butene        5.91e+06\n",
      "                    Pentene       1.52e+06\n",
      "                    Hydrogen      1.22e+04\n",
      "                    Acetaldehyde  2.67e+05\n"
     ]
    }
   ],
   "source": [
    "eto_2"
   ]
  },
  {
   "cell_type": "code",
   "execution_count": 21,
   "id": "87d488ac",
   "metadata": {},
   "outputs": [],
   "source": [
    "eto_4 = TrialReactor(ins = furnace_1.outs[0],\n",
    "                            conversion = eto_conv,\n",
    "                             temperature = eto_temp,\n",
    "                             pressure = 101325,\n",
    "                             WHSV = eto_cat_whsv,\n",
    "                             catalyst_price = olig_cat_cost, \n",
    "                             orientation = 'Vertical', material = 'ss',\n",
    "                             reaction = eto_rxn)\n",
    "                          "
   ]
  },
  {
   "cell_type": "code",
   "execution_count": 31,
   "id": "7ec3b5b1",
   "metadata": {},
   "outputs": [
    {
     "ename": "SyntaxError",
     "evalue": "invalid syntax. Maybe you meant '==' or ':=' instead of '='? (2926635667.py, line 1)",
     "output_type": "error",
     "traceback": [
      "\u001b[1;36m  Cell \u001b[1;32mIn[31], line 1\u001b[1;36m\u001b[0m\n\u001b[1;33m    (ins = furnace_1.outs[0],\u001b[0m\n\u001b[1;37m     ^\u001b[0m\n\u001b[1;31mSyntaxError\u001b[0m\u001b[1;31m:\u001b[0m invalid syntax. Maybe you meant '==' or ':=' instead of '='?\n"
     ]
    }
   ],
   "source": [
    "(ins = furnace_1.outs[0],\n",
    "                            conversion = eto_conv,\n",
    "                             temperature = eto_temp,\n",
    "                             pressure = 101325,\n",
    "                             WHSV = eto_cat_whsv,\n",
    "                             catalyst_price = olig_cat_cost, \n",
    "                             reaction = eto_rxn)"
   ]
  },
  {
   "cell_type": "code",
   "execution_count": 22,
   "id": "35e0542a",
   "metadata": {},
   "outputs": [],
   "source": [
    "eto_4.simulate()"
   ]
  },
  {
   "cell_type": "code",
   "execution_count": 23,
   "id": "32de9e60",
   "metadata": {},
   "outputs": [
    {
     "data": {
      "text/html": [
       "<div>\n",
       "<style scoped>\n",
       "    .dataframe tbody tr th:only-of-type {\n",
       "        vertical-align: middle;\n",
       "    }\n",
       "\n",
       "    .dataframe tbody tr th {\n",
       "        vertical-align: top;\n",
       "    }\n",
       "\n",
       "    .dataframe thead th {\n",
       "        text-align: right;\n",
       "    }\n",
       "</style>\n",
       "<table border=\"1\" class=\"dataframe\">\n",
       "  <thead>\n",
       "    <tr style=\"text-align: right;\">\n",
       "      <th></th>\n",
       "      <th>Trial reactor</th>\n",
       "      <th>Units</th>\n",
       "      <th>R3</th>\n",
       "    </tr>\n",
       "  </thead>\n",
       "  <tbody>\n",
       "    <tr>\n",
       "      <th rowspan=\"3\" valign=\"top\">Natural gas</th>\n",
       "      <th>Duty</th>\n",
       "      <td>kJ/hr</td>\n",
       "      <td>1.07e+05</td>\n",
       "    </tr>\n",
       "    <tr>\n",
       "      <th>Flow</th>\n",
       "      <td>kmol/hr</td>\n",
       "      <td>0.206</td>\n",
       "    </tr>\n",
       "    <tr>\n",
       "      <th>Cost</th>\n",
       "      <td>USD/hr</td>\n",
       "      <td>0.721</td>\n",
       "    </tr>\n",
       "    <tr>\n",
       "      <th rowspan=\"8\" valign=\"top\">Design</th>\n",
       "      <th>Catalyst Weight</th>\n",
       "      <td>kg</td>\n",
       "      <td>1.47e+04</td>\n",
       "    </tr>\n",
       "    <tr>\n",
       "      <th>Volume</th>\n",
       "      <td>L</td>\n",
       "      <td>4.23e+04</td>\n",
       "    </tr>\n",
       "    <tr>\n",
       "      <th>Vessel Weight</th>\n",
       "      <td>lb</td>\n",
       "      <td>1.46e+04</td>\n",
       "    </tr>\n",
       "    <tr>\n",
       "      <th>Length</th>\n",
       "      <td>ft</td>\n",
       "      <td>25.8</td>\n",
       "    </tr>\n",
       "    <tr>\n",
       "      <th>Diameter</th>\n",
       "      <td>ft</td>\n",
       "      <td>8.59</td>\n",
       "    </tr>\n",
       "    <tr>\n",
       "      <th>Wall thickness</th>\n",
       "      <td>in</td>\n",
       "      <td>0.438</td>\n",
       "    </tr>\n",
       "    <tr>\n",
       "      <th>Duty</th>\n",
       "      <td>kJ/hr</td>\n",
       "      <td>1.07e+05</td>\n",
       "    </tr>\n",
       "    <tr>\n",
       "      <th>Pressure</th>\n",
       "      <td>psi</td>\n",
       "      <td>14.7</td>\n",
       "    </tr>\n",
       "    <tr>\n",
       "      <th rowspan=\"3\" valign=\"top\">Purchase cost</th>\n",
       "      <th>Vertical pressure vessel</th>\n",
       "      <td>USD</td>\n",
       "      <td>6.01e+04</td>\n",
       "    </tr>\n",
       "    <tr>\n",
       "      <th>Platform and ladders</th>\n",
       "      <td>USD</td>\n",
       "      <td>2e+04</td>\n",
       "    </tr>\n",
       "    <tr>\n",
       "      <th>Catalyst</th>\n",
       "      <td>USD</td>\n",
       "      <td>2.26e+06</td>\n",
       "    </tr>\n",
       "    <tr>\n",
       "      <th>Total purchase cost</th>\n",
       "      <th></th>\n",
       "      <td>USD</td>\n",
       "      <td>2.35e+06</td>\n",
       "    </tr>\n",
       "    <tr>\n",
       "      <th>Utility cost</th>\n",
       "      <th></th>\n",
       "      <td>USD/hr</td>\n",
       "      <td>0.721</td>\n",
       "    </tr>\n",
       "    <tr>\n",
       "      <th>Additional OPEX</th>\n",
       "      <th></th>\n",
       "      <td>USD/hr</td>\n",
       "      <td>287</td>\n",
       "    </tr>\n",
       "  </tbody>\n",
       "</table>\n",
       "</div>"
      ],
      "text/plain": [
       "Trial reactor                                   Units       R3\n",
       "Natural gas         Duty                        kJ/hr 1.07e+05\n",
       "                    Flow                      kmol/hr    0.206\n",
       "                    Cost                       USD/hr    0.721\n",
       "Design              Catalyst Weight                kg 1.47e+04\n",
       "                    Volume                          L 4.23e+04\n",
       "                    Vessel Weight                  lb 1.46e+04\n",
       "                    Length                         ft     25.8\n",
       "                    Diameter                       ft     8.59\n",
       "                    Wall thickness                 in    0.438\n",
       "                    Duty                        kJ/hr 1.07e+05\n",
       "                    Pressure                      psi     14.7\n",
       "Purchase cost       Vertical pressure vessel      USD 6.01e+04\n",
       "                    Platform and ladders          USD    2e+04\n",
       "                    Catalyst                      USD 2.26e+06\n",
       "Total purchase cost                               USD 2.35e+06\n",
       "Utility cost                                   USD/hr    0.721\n",
       "Additional OPEX                                USD/hr      287"
      ]
     },
     "execution_count": 23,
     "metadata": {},
     "output_type": "execute_result"
    }
   ],
   "source": [
    "eto_4.results()"
   ]
  },
  {
   "cell_type": "code",
   "execution_count": 24,
   "id": "56ca6388",
   "metadata": {},
   "outputs": [
    {
     "data": {
      "text/html": [
       "\n",
       "        <iframe\n",
       "            width=\"100%\"\n",
       "            height=\"225px\"\n",
       "            src=\"data:text/html;charset=utf-8,%3C%21DOCTYPE%20html%3E%3Chtml%3E%3Chead%3E%3Clink%20rel%3D%22stylesheet%22%20href%3D%22https%3A//unpkg.com/tippy.js%406.3.7/themes/translucent.css%22%3E%3Clink%20rel%3D%22stylesheet%22%20href%3D%22https%3A//rawcdn.githack.com/BioSTEAMDevelopmentGroup/biosteam/e065aca079c216d72b75949bbcbb74a3bbddb75d/biosteam/digraph/digraph.css%22%3E%3Cscript%20src%3D%22https%3A//unpkg.com/%40popperjs/core%402%22%3E%3C/script%3E%3Cscript%20src%3D%22https%3A//unpkg.com/tippy.js%406%22%3E%3C/script%3E%3Cscript%20src%3D%22https%3A//rawcdn.githack.com/BioSTEAMDevelopmentGroup/biosteam/e065aca079c216d72b75949bbcbb74a3bbddb75d/biosteam/digraph/digraph.js%22%3E%3C/script%3E%3C/head%3E%3Cbody%3E%3Csvg%20width%3D%22212pt%22%20height%3D%2251pt%22%20viewBox%3D%220.00%200.00%20212.00%2051.00%22%3E%0A%3Cg%20id%3D%22graph0%22%20class%3D%22graph%22%20transform%3D%22scale%281%201%29%20rotate%280%29%20translate%284%2047%29%22%3E%0A%3Cpolygon%20fill%3D%22%23ffffff%22%20fill-opacity%3D%220.666667%22%20stroke%3D%22transparent%22%20points%3D%22-4%2C4%20-4%2C-47%20208%2C-47%20208%2C4%20-4%2C4%22%3E%3C/polygon%3E%0A%0A%3Cg%20id%3D%22edge2%22%20class%3D%22edge%22%20data-tippy-content%3D%22Temperature%3A%20623%20K%3Cbr%26gt%3BPressure%3A%20101325%20Pa%3Cbr%26gt%3BGas%20flow%3A%20492%20kmol/hr%3Cbr%26gt%3BLiquid%20flow%3A%200%20kmol/hr%22%3E%0A%3Cpath%20fill%3D%22none%22%20stroke%3D%22%234e4e4e%22%20stroke-width%3D%221.6%22%20d%3D%22M157.19%2C-21.5C169.46%2C-21.5%20182.43%2C-21.5%20194.5%2C-21.5%22%3E%3C/path%3E%0A%3Cg%20id%3D%22a_edge2-label%22%3E%3Ca%20title%3D%22%20Temperature%3A%20623%20K%3Cbr%26gt%3BPressure%3A%20101325%20Pa%3Cbr%26gt%3BGas%20flow%3A%20492%20kmol/hr%3Cbr%26gt%3BLiquid%20flow%3A%200%20kmol/hr%22%3E%0A%3Ctext%20text-anchor%3D%22middle%22%20x%3D%22175%22%20y%3D%22-25.3%22%20font-family%3D%22Arial%22%20font-size%3D%2214.00%22%20fill%3D%22%234e4e4e%22%3E%20s9%3C/text%3E%0A%3C/a%3E%0A%3C/g%3E%0A%3C/g%3E%0A%0A%3Cg%20id%3D%22edge1%22%20class%3D%22edge%22%20data-tippy-content%3D%22Temperature%3A%20623%20K%3Cbr%26gt%3BPressure%3A%20101325%20Pa%3Cbr%26gt%3BGas%20flow%3A%20319%20kmol/hr%3Cbr%26gt%3BLiquid%20flow%3A%200%20kmol/hr%22%3E%0A%3Cpath%20fill%3D%22none%22%20stroke%3D%22%234e4e4e%22%20d%3D%22M11%2C-21.5C22.56%2C-21.5%2034.96%2C-21.5%2046.75%2C-21.5%22%3E%3C/path%3E%0A%3Cg%20id%3D%22a_edge1-label%22%3E%3Ca%20title%3D%22%20Temperature%3A%20623%20K%3Cbr%26gt%3BPressure%3A%20101325%20Pa%3Cbr%26gt%3BGas%20flow%3A%20319%20kmol/hr%3Cbr%26gt%3BLiquid%20flow%3A%200%20kmol/hr%22%3E%0A%3Ctext%20text-anchor%3D%22middle%22%20x%3D%2229%22%20y%3D%22-25.3%22%20font-family%3D%22Arial%22%20font-size%3D%2214.00%22%20fill%3D%22%234e4e4e%22%3E%20s1%3C/text%3E%0A%3C/a%3E%0A%3C/g%3E%0A%3C/g%3E%0A%0A%3Cg%20id%3D%22node1%22%20class%3D%22node%22%20data-tippy-content%3D%22Heating%20duty%3A%20107%20MJ/hr%3Cbr%26gt%3BUtility%20cost%3A%200.721%20USD/hr%3Cbr%26gt%3BPurchase%20cost%3A%202%2C345%2C057%20USD%3Cbr%26gt%3BInstalled%20equipment%20cost%3A%202%2C345%2C057%20USD%22%3E%0A%3Cg%20id%3D%22a_node1%22%3E%3Ca%20title%3D%22%20Heating%20duty%3A%20107%20MJ/hr%3Cbr%26gt%3BUtility%20cost%3A%200.721%20USD/hr%3Cbr%26gt%3BPurchase%20cost%3A%202%2C345%2C057%20USD%3Cbr%26gt%3BInstalled%20equipment%20cost%3A%202%2C345%2C057%20USD%22%3E%0A%3Cdefs%3E%0A%3ClinearGradient%20id%3D%22l_0%22%20gradientUnits%3D%22userSpaceOnUse%22%20x1%3D%2247%22%20y1%3D%22-21.5%22%20x2%3D%22157%22%20y2%3D%22-21.5%22%3E%0A%3Cstop%20offset%3D%220%22%20style%3D%22stop-color%3Awhite%3Bstop-opacity%3A1.%3B%22%3E%3C/stop%3E%0A%3Cstop%20offset%3D%221%22%20style%3D%22stop-color%3A%23cdcdcd%3Bstop-opacity%3A1.%3B%22%3E%3C/stop%3E%0A%3C/linearGradient%3E%0A%3C/defs%3E%0A%3Cpolygon%20fill%3D%22url%28%23l_0%29%22%20stroke%3D%22%234e4e4e%22%20points%3D%22157%2C-43%2047%2C-43%2047%2C0%20157%2C0%20157%2C-43%22%3E%3C/polygon%3E%0A%3Ctext%20text-anchor%3D%22middle%22%20x%3D%22102%22%20y%3D%22-17.8%22%20font-family%3D%22Arial%22%20font-size%3D%2214.00%22%3ER3Trial%20reactor%3C/text%3E%0A%3C/a%3E%0A%3C/g%3E%0A%3C/g%3E%0A%0A%3Cg%20id%3D%22node2%22%20class%3D%22node%22%20data-tippy-content%3D%22125983873303%22%3E%0A%3Cpolygon%20fill%3D%22%23f98f60%22%20stroke%3D%22%234e4e4e%22%20points%3D%225.5%2C-27%200%2C-21.5%205.5%2C-16%2011%2C-21.5%205.5%2C-27%22%3E%3C/polygon%3E%0A%3C/g%3E%0A%0A%3Cg%20id%3D%22node3%22%20class%3D%22node%22%20data-tippy-content%3D%22125983891845%22%3E%0A%3Cpolygon%20fill%3D%22%23f98f60%22%20stroke%3D%22%234e4e4e%22%20points%3D%22204%2C-21.5%20195.75%2C-28.5%20195.75%2C-14.5%20204%2C-21.5%22%3E%3C/polygon%3E%0A%3C/g%3E%0A%3C/g%3E%0A%3C/svg%3E%3C/body%3E%3C/html%3E\"\n",
       "            frameborder=\"0\"\n",
       "            allowfullscreen\n",
       "            allowtransparency=\"true\"\n",
       "        ></iframe>\n",
       "        "
      ],
      "text/plain": [
       "<IPython.lib.display.IFrame at 0x1d553c3aec0>"
      ]
     },
     "metadata": {},
     "output_type": "display_data"
    },
    {
     "name": "stdout",
     "output_type": "stream",
     "text": [
      "TrialReactor: R3\n",
      "ins...\n",
      "[0] s1  from  HXutility-Furnace_1\n",
      "phases: ('g', 'l'), T: 623 K, P: 101325 Pa\n",
      "flow (g/hr): (g) Ethanol  1.47e+07\n",
      "outs...\n",
      "[0] s9\n",
      "phases: ('g', 'l'), T: 623 K, P: 101325 Pa\n",
      "flow (g/hr): (g) Water         5.58e+06\n",
      "                    Ethanol       1.47e+05\n",
      "                    Ethylene      8.15e+05\n",
      "                    Propene       4.48e+05\n",
      "                    Butene        5.91e+06\n",
      "                    Pentene       1.52e+06\n",
      "                    Hydrogen      1.22e+04\n",
      "                    Acetaldehyde  2.67e+05\n"
     ]
    }
   ],
   "source": [
    "eto_4"
   ]
  },
  {
   "cell_type": "code",
   "execution_count": null,
   "id": "792cdf36",
   "metadata": {},
   "outputs": [],
   "source": []
  }
 ],
 "metadata": {
  "kernelspec": {
   "display_name": "pyfuel",
   "language": "python",
   "name": "python3"
  },
  "language_info": {
   "codemirror_mode": {
    "name": "ipython",
    "version": 3
   },
   "file_extension": ".py",
   "mimetype": "text/x-python",
   "name": "python",
   "nbconvert_exporter": "python",
   "pygments_lexer": "ipython3",
   "version": "3.10.18"
  }
 },
 "nbformat": 4,
 "nbformat_minor": 5
}
