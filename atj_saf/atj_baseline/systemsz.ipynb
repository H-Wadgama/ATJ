{
 "cells": [
  {
   "cell_type": "code",
   "execution_count": 1,
   "id": "43b07f30",
   "metadata": {},
   "outputs": [],
   "source": [
    "import qsdsan as qs, biosteam as bst, thermosteam as tmo, numpy as np, pandas as pd\n",
    "from qsdsan.sanunits import _heat_exchanging\n",
    "bst.nbtutorial()\n",
    "\n"
   ]
  },
  {
   "cell_type": "code",
   "execution_count": 2,
   "id": "b25dec50",
   "metadata": {},
   "outputs": [],
   "source": [
    "from atj_saf import atj_baseline\n",
    "#import atj_chemicals\n",
    "\n",
    "from atj_chemicals import *\n",
    "from data.feed_conditions import *\n",
    "from units.etoh_storage_tank import *\n",
    "from units.dehydration import *\n",
    "from units.atj_compressor import *\n",
    "from units.oligomerization import *\n",
    "from units.atj_pump import *\n",
    "from data.reaction_conditions import *\n",
    "from data.parameters import *\n",
    "from data.prices import *\n",
    "from data.olig_selectivity import *\n"
   ]
  },
  {
   "cell_type": "code",
   "execution_count": 3,
   "id": "7be0d36f",
   "metadata": {},
   "outputs": [],
   "source": [
    "qs.set_thermo(chemicals) # assigning pure chemical thermo properties to the chemicals\n",
    "\n",
    "etoh_in = qs.SanStream(\n",
    "    'etoh_in',\n",
    "    Ethanol = 100,\n",
    "    Water =  100*((1-feed_parameters['purity'])/(feed_parameters['purity'])),\n",
    "    units = 'kg/hr',\n",
    "    T = feed_parameters['temperature'],\n",
    "    P = feed_parameters['pressure'],\n",
    "    phase = feed_parameters['phase'],\n",
    "    price = 0.90) # 2.75/gal\n",
    "\n",
    "#etoh_in.show()\n",
    "\n"
   ]
  },
  {
   "cell_type": "code",
   "execution_count": 4,
   "id": "21768770",
   "metadata": {},
   "outputs": [],
   "source": [
    "# Recycle streams\n",
    "dehyd_recycle = qs.SanStream(phase = 'g')\n",
    "\n",
    "#dehyd_recycle.show()\n",
    "\n",
    "etoh_storage = EthanolStorageTank(ins = etoh_in)\n",
    "etoh_storage.simulate()\n",
    "\n"
   ]
  },
  {
   "cell_type": "code",
   "execution_count": 5,
   "id": "a551adc6",
   "metadata": {},
   "outputs": [],
   "source": [
    "pump_1 = Pump('PUMP1', ins = etoh_storage.outs[0], P = 1373000)    # Pressure from the patent\n",
    "pump_1.simulate()\n",
    "\n",
    "\n",
    "\n",
    "\n"
   ]
  },
  {
   "cell_type": "code",
   "execution_count": 6,
   "id": "3ced6a55",
   "metadata": {},
   "outputs": [
    {
     "ename": "",
     "evalue": "",
     "output_type": "error",
     "traceback": [
      "\u001b[1;31mThe Kernel crashed while executing code in the current cell or a previous cell. \n",
      "\u001b[1;31mPlease review the code in the cell(s) to identify a possible cause of the failure. \n",
      "\u001b[1;31mClick <a href='https://aka.ms/vscodeJupyterKernelCrash'>here</a> for more info. \n",
      "\u001b[1;31mView Jupyter <a href='command:jupyter.viewOutput'>log</a> for further details."
     ]
    }
   ],
   "source": [
    "furnace_1 = _heat_exchanging.HXutility('FURNACE_1', ins = pump_1.outs[0], T = 500, rigorous = True)\n",
    "furnace_1.simulate()\n"
   ]
  },
  {
   "cell_type": "code",
   "execution_count": null,
   "id": "96ed9e38",
   "metadata": {},
   "outputs": [],
   "source": [
    "mixer_1 = qs.sanunits.Mixer('MIXER_1', ins = (furnace_1.outs[0], dehyd_recycle), rigorous = False, init_with = 'MultiStream')\n",
    "mixer_1.simulate()\n",
    "\n",
    "furnace_2 =  _heat_exchanging.HXutility('FURNACE_02', ins = mixer_1.outs[0], T = 481+ 273.15, rigorous = False)\n",
    "furnace_2.simulate()\n",
    "\n",
    "\n",
    "\n"
   ]
  },
  {
   "cell_type": "code",
   "execution_count": null,
   "id": "7b264657",
   "metadata": {},
   "outputs": [],
   "source": [
    "dehydration_rxn = bst.Reaction('Ethanol -> Water + Ethylene', reactant = 'Ethanol', \n",
    "                               X = dehydration_parameters['dehyd_conv'], basis = 'mol')\n",
    "\n",
    "\n",
    "dehyd_1 = DehydrationReactor('DEHYD_1', ins = furnace_2.outs[0],\n",
    "                         conversion = dehydration_parameters['dehyd_conv'],\n",
    "                          temperature = dehydration_parameters['dehyd_temp'],\n",
    "                          pressure = dehydration_parameters['dehyd_pressure'],\n",
    "                          WHSV = dehydration_parameters['dehyd_WHSV'],\n",
    "                          catalyst_price=price_data['dehydration_catalyst'], \n",
    "                          catalyst_lifetime = dehydration_parameters['catalyst_lifetime'],\n",
    "                            reaction = dehydration_rxn)\n",
    "dehyd_1.simulate()"
   ]
  },
  {
   "cell_type": "code",
   "execution_count": null,
   "id": "1696d147",
   "metadata": {},
   "outputs": [],
   "source": [
    "splitter_1 = qs.sanunits.Splitter('SPLIT_1', ins = dehyd_1.outs[0], outs = ('flash_in', dehyd_recycle), split = 0.3, init_with = 'MultiStream')\n",
    "splitter_1.simulate()\n",
    "splitter_1.outs[0].show()\n",
    "\n",
    "flash_1 = qs.sanunits.Flash('FLASH_1', ins = splitter_1.outs[0], outs = ('ETHYLENE_WATER', 'WW_1'), T= 420,  P = 1.063e6)\n",
    "flash_1.simulate()"
   ]
  },
  {
   "cell_type": "code",
   "execution_count": null,
   "id": "33a82bc0",
   "metadata": {},
   "outputs": [
    {
     "name": "stdout",
     "output_type": "stream",
     "text": [
      "Stream: flash_in from <Splitter: SPLIT_1>\n",
      "phase: 'l', T: 516.35 K, P: 1.373e+06 Pa\n",
      "flow (kmol/hr): Water     0.656\n",
      "                Ethanol   0.00326\n",
      "                Ethylene  0.648\n"
     ]
    },
    {
     "ename": "",
     "evalue": "",
     "output_type": "error",
     "traceback": [
      "\u001b[1;31mThe Kernel crashed while executing code in the current cell or a previous cell. \n",
      "\u001b[1;31mPlease review the code in the cell(s) to identify a possible cause of the failure. \n",
      "\u001b[1;31mClick <a href='https://aka.ms/vscodeJupyterKernelCrash'>here</a> for more info. \n",
      "\u001b[1;31mView Jupyter <a href='command:jupyter.viewOutput'>log</a> for further details."
     ]
    }
   ],
   "source": [
    "\n",
    "\n",
    "\n",
    "\n",
    "comp_1 = Compressor('COMP_1', ins = flash_1.outs[0], P = 2e6, vle = True, eta = 0.72, driver_efficiency = comp_driver_efficiency)\n",
    "comp_1.simulate()\n",
    "\n",
    "\n",
    "distillation_1 = qs.sanunits.BinaryDistillation('DISTILLATION_1', ins = comp_1.outs[0], \n",
    "                                                outs = ('ethylene_water', 'WW'),\n",
    "                                    LHK = ('Ethylene', 'Water'), \n",
    "                                    P = 2e+06,\n",
    "                                    y_top = 0.999, x_bot = 0.001, k = 2,\n",
    "                                    is_divided = True)\n",
    "distillation_1.check_LHK = False\n",
    "distillation_1.simulate()\n",
    "\n",
    "\n",
    "comp_2 = Compressor('COMP_2', ins = distillation_1.outs[0], P = 3.5e6, vle = True, eta = 0.72, driver_efficiency = comp_driver_efficiency)\n",
    "comp_2.simulate()\n",
    "\n",
    "distillation_2 = qs.sanunits.BinaryDistillation('DISTILLATION_2', ins = comp_2.outs[0],\n",
    "                                    LHK = ('Ethylene', 'Ethanol'),\n",
    "                                    P = 3.5e+06,\n",
    "                                    y_top = 0.9999, x_bot = 0.0001, k = 2,\n",
    "                                    is_divided = True)\n",
    "distillation_2.simulate()\n",
    "\n",
    "\n",
    "cooler_1 = _heat_exchanging.HXutility('COOLER_1', ins = distillation_2.outs[1], outs = 'WW_2', T = 300, rigorous = False)\n",
    "cooler_1.simulate()\n",
    "\n",
    "splitter_2 = qs.sanunits.Splitter('SPLIT_2', ins = distillation_1.outs[1], split = 0.6, init_with = 'MultiStream')\n",
    "splitter_2.simulate()\n",
    "\n",
    "hx_2 = _heat_exchanging.HXprocess('HX_2', ins = (distillation_2.outs[0], splitter_2.outs[0]), init_with = 'MultiStream')\n",
    "hx_2.simulate()\n",
    "\n",
    "cooler_2 = _heat_exchanging.HXutility('COOLER_2', ins = hx_2.outs[1], outs = 'WW_3', T = 300, rigorous = False)\n",
    "cooler_2.simulate()\n",
    "\n",
    "cooler_3 = _heat_exchanging.HXutility('COOLER_3', ins = hx_2.outs[0], T = 393.15, rigorous = False)\n",
    "cooler_3.simulate()\n",
    "\n",
    "ethylene_recycle = qs.SanStream('ethylene_recycle')\n",
    "\n",
    "mixer_3 = qs.sanunits.Mixer(ID = 'MIXER_3', ins = (cooler_3.outs[0],ethylene_recycle), rigorous = False, init_with = 'MultiStream')\n",
    "mixer_3.simulate()\n",
    "\n",
    "oligomerization_rxn = bst.ParallelReaction([\n",
    "    # Reaction definition                                     # Reactant                    # Conversion\n",
    "    bst.Reaction('2Ethylene -> Butene',             reactant = 'Ethylene',        X = 0.993*biofuel_composition['C4H8'], basis = 'mol', correct_atomic_balance = True),\n",
    "    bst.Reaction('1.5Ethylene -> Hex-1-ene',            reactant = 'Ethylene',       X = 0.993*biofuel_composition['C6H12'], basis = 'mol', correct_atomic_balance = True),\n",
    "    bst.Reaction('5Ethylene -> Dec-1-ene',            reactant = 'Ethylene',       X = 0.993*biofuel_composition['C10H20'], basis = 'mol', correct_atomic_balance = True),\n",
    "    bst.Reaction('9Ethylene -> Octadec-1-ene',            reactant = 'Ethylene',       X = 0.993*biofuel_composition['C18H36'], basis = 'mol', correct_atomic_balance = True)])\n",
    "\n",
    "olig_1 = OligomerizationReactor('OLIG_1', ins = mixer_3.outs[0], init_with = 'MultiStream',\n",
    "                              conversion = oligomerization_parameters['olig_conv'], \n",
    "                             temperature = oligomerization_parameters['olig_temp'],\n",
    "                             pressure = oligomerization_parameters['olig_pressure'],\n",
    "                             WHSV = oligomerization_parameters['olig_WHSV'],\n",
    "                             catalyst_price = price_data['oligomerization_catalyst'],\n",
    "                            reaction = oligomerization_rxn)\n",
    "\n",
    "olig_1.simulate()\n",
    "\n",
    "\n",
    "olig_1.outs[0].show()\n",
    "print('hello')"
   ]
  }
 ],
 "metadata": {
  "kernelspec": {
   "display_name": "py101",
   "language": "python",
   "name": "python3"
  },
  "language_info": {
   "codemirror_mode": {
    "name": "ipython",
    "version": 3
   },
   "file_extension": ".py",
   "mimetype": "text/x-python",
   "name": "python",
   "nbconvert_exporter": "python",
   "pygments_lexer": "ipython3",
   "version": "3.12.7"
  }
 },
 "nbformat": 4,
 "nbformat_minor": 5
}
