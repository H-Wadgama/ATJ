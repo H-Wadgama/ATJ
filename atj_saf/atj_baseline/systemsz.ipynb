{
 "cells": [
  {
   "cell_type": "code",
   "execution_count": 1,
   "id": "43b07f30",
   "metadata": {},
   "outputs": [],
   "source": [
    "import qsdsan as qs, biosteam as bst, thermosteam as tmo, numpy as np, pandas as pd\n",
    "from qsdsan.sanunits import _heat_exchanging\n",
    "bst.nbtutorial()\n",
    "\n"
   ]
  },
  {
   "cell_type": "code",
   "execution_count": 2,
   "id": "b25dec50",
   "metadata": {},
   "outputs": [],
   "source": [
    "from atj_saf import atj_baseline\n",
    "#import atj_chemicals\n",
    "\n",
    "from atj_chemicals import *\n",
    "from data.feed_conditions import *\n",
    "from atj_saf.atj_baseline.units.storage_tanks import *\n",
    "from atj_saf.atj_baseline.units.catalytic_reactors import *\n",
    "from units.atj_compressor import *\n",
    "from units.storage_tanks import *\n",
    "from units.PSA import *\n",
    "from units.atj_pump import *\n",
    "from data.prices import *\n",
    "from data.catalytic_reaction_data import *\n",
    "from data.utils import *\n",
    "from tea_saf import ConventionalEthanolTEA\n",
    "from data.prices import *\n"
   ]
  },
  {
   "cell_type": "code",
   "execution_count": 3,
   "id": "88b0628c",
   "metadata": {},
   "outputs": [],
   "source": [
    "qs.set_thermo(chemicals) # assigning pure chemical thermo properties to the chemicals\n",
    "saf_required = 9"
   ]
  },
  {
   "cell_type": "code",
   "execution_count": 4,
   "id": "175f158e",
   "metadata": {},
   "outputs": [
    {
     "data": {
      "text/plain": [
       "<Flowsheet: default>"
      ]
     },
     "execution_count": 4,
     "metadata": {},
     "output_type": "execute_result"
    }
   ],
   "source": [
    "qs.Flowsheet.flowsheet.default"
   ]
  },
  {
   "cell_type": "code",
   "execution_count": 5,
   "id": "92835f11",
   "metadata": {},
   "outputs": [
    {
     "data": {
      "text/plain": [
       "7485.074114024647"
      ]
     },
     "execution_count": 5,
     "metadata": {},
     "output_type": "execute_result"
    }
   ],
   "source": [
    "calculate_ethanol_flow(saf_required)"
   ]
  },
  {
   "cell_type": "code",
   "execution_count": 6,
   "id": "ddf29ef9",
   "metadata": {},
   "outputs": [],
   "source": [
    "bst.settings.CEPCI = 800.8"
   ]
  },
  {
   "cell_type": "code",
   "execution_count": 7,
   "id": "7be0d36f",
   "metadata": {},
   "outputs": [],
   "source": [
    "\n",
    "etoh_in = qs.SanStream(\n",
    "    'etoh_in',\n",
    "    Ethanol = calculate_ethanol_flow(saf_required),\n",
    "    Water =  calculate_ethanol_flow(saf_required)*((1-feed_parameters['purity'])/(feed_parameters['purity'])),\n",
    "    units = 'kg/hr',\n",
    "    T = feed_parameters['temperature'],\n",
    "    P = feed_parameters['pressure'],\n",
    "    phase = feed_parameters['phase'],\n",
    "    price = 0.90) # 2.75/gal\n",
    "\n",
    "#etoh_in.show()\n",
    "\n"
   ]
  },
  {
   "cell_type": "code",
   "execution_count": 8,
   "id": "420dc626",
   "metadata": {},
   "outputs": [],
   "source": [
    " # Reactions\n",
    "\n",
    "#1) Gas phase dehydration of ethanol to ethylene \n",
    "dehydration_rxn = bst.Reaction('Ethanol,g -> Water,g + Ethylene,g', reactant = 'Ethanol', \n",
    "                            X = dehyd_data['conv'], phases = 'lg',  basis = 'mol')\n",
    "\n",
    "\n",
    "#2) Ethylene oligomerization to olefins in gas and liquid phase\n",
    "oligomerization_rxn = bst.ParallelReaction([\n",
    "# Reaction definition                                     # Reactant                    # Conversion\n",
    "bst.Reaction('2Ethylene,g -> Butene,g',            reactant = 'Ethylene',     X = olig_data['conv']*prod_selectivity['C4H8'],    basis = 'mol',  phases = 'lg',  correct_atomic_balance = True),\n",
    "bst.Reaction('1.5Ethylene,g -> Hex-1-ene,g',       reactant = 'Ethylene',     X = olig_data['conv']*prod_selectivity['C6H12'],   basis = 'mol',  phases = 'lg',  correct_atomic_balance = True),\n",
    "bst.Reaction('5Ethylene,g -> Dec-1-ene,l',         reactant = 'Ethylene',     X = olig_data['conv']*prod_selectivity['C10H20'],  basis = 'mol',  phases = 'lg',  correct_atomic_balance = True),\n",
    "bst.Reaction('9Ethylene,g -> Octadec-1-ene,l',     reactant = 'Ethylene',     X = olig_data['conv']*prod_selectivity['C18H36'],  basis = 'mol',  phases = 'lg',  correct_atomic_balance = True)])\n",
    "\n",
    "\n",
    "hydrogenation_rxn = bst.ParallelReaction([\n",
    "# Reaction definition                                           # Reactant                    # Conversion\n",
    "bst.Reaction('Butene,g + Hydrogen,g -> Butane,g',               reactant = 'Butene',          X = hydgn_data['conv'],  basis = 'mol',  phases = 'lg',  correct_atomic_balance = True),\n",
    "bst.Reaction('Butene,l + Hydrogen,g -> Butane,l',               reactant = 'Butene',          X = hydgn_data['conv'],  basis = 'mol',  phases = 'lg',  correct_atomic_balance = True),\n",
    "bst.Reaction('Hex-1-ene,g + Hydrogen,g -> Hexane,g',            reactant = 'Hex-1-ene',       X = hydgn_data['conv'],  basis = 'mol',  phases = 'lg',  correct_atomic_balance = True),\n",
    "bst.Reaction('Hex-1-ene,l + Hydrogen,g -> Hexane,l',            reactant = 'Hex-1-ene',       X = hydgn_data['conv'],  basis = 'mol',  phases = 'lg',  correct_atomic_balance = True),\n",
    "bst.Reaction('Dec-1-ene,l + Hydrogen,g -> Decane,l',            reactant = 'Dec-1-ene',       X = hydgn_data['conv'],  basis = 'mol',  phases = 'lg',  correct_atomic_balance = True),\n",
    "bst.Reaction('Dec-1-ene,g + Hydrogen,g -> Decane,g',            reactant = 'Dec-1-ene',       X = hydgn_data['conv'],  basis = 'mol',  phases = 'lg',  correct_atomic_balance = True),\n",
    "bst.Reaction('Octadec-1-ene,l + Hydrogen,g -> Octadecane,l',    reactant = 'Octadec-1-ene',   X = hydgn_data['conv'],  basis = 'mol',  phases = 'lg',  correct_atomic_balance = True),\n",
    "bst.Reaction('Octadec-1-ene,g + Hydrogen,g -> Octadecane,g',    reactant = 'Octadec-1-ene',   X = hydgn_data['conv'],  basis = 'mol',  phases = 'lg',  correct_atomic_balance = True)])\n"
   ]
  },
  {
   "cell_type": "code",
   "execution_count": 9,
   "id": "03b53cc3",
   "metadata": {},
   "outputs": [],
   "source": [
    "# Recycle streams\n",
    "dehyd_recycle = bst.MultiStream('dehyd_recycle', phases = ('g','l'))         # Unreacted ethanol\n",
    "ethylene_recycle = bst.MultiStream('ethylene_recycle', phases = ('g','l'))   # Unreacted ethylene   \n",
    "h2_recycle= qs.SanStream(ID = 'h2_recycle', P = 3e6, phase = 'g')            # Excess hydrogen\n"
   ]
  },
  {
   "cell_type": "code",
   "execution_count": 10,
   "id": "f87e9c63",
   "metadata": {},
   "outputs": [],
   "source": [
    "    etoh_storage = EthanolStorageTank(ins = etoh_in)\n",
    "    etoh_storage.simulate()\n",
    "    \n",
    "    pump_1 = Pump('PUMP1', ins = etoh_storage.outs[0], P = 1373000)    \n",
    "    pump_1.simulate()\n",
    "    \n",
    "    furnace_1 = _heat_exchanging.HXutility('FURNACE_1', ins = pump_1.outs[0], T = 500, rigorous = True)\n",
    "    furnace_1.simulate()\n",
    "\n",
    "    mixer_1 = qs.sanunits.Mixer('MIXER_1', ins = (furnace_1.outs[0], dehyd_recycle), rigorous = True, init_with = 'MultiStream')\n",
    "    mixer_1.simulate()\n",
    "\n",
    "    furnace_2 =  _heat_exchanging.HXutility('FURNACE_2', ins = mixer_1.outs[0], T = 481 + 273.15, rigorous = True)\n",
    "    furnace_2.simulate()\n",
    "\n",
    "    \n",
    "    dehyd_1 = AdiabaticReactor('DEHYD_1', ins = furnace_2.outs[0],\n",
    "                         conversion = dehyd_data['conv'],\n",
    "                          temperature = dehyd_data['temp'],\n",
    "                          pressure = dehyd_data['pressure'],\n",
    "                          WHSV = dehyd_data['whsv'],\n",
    "                          catalyst_price=price_data['dehydration_catalyst'],\n",
    "                             catalyst_lifetime = dehyd_data['catalyst_lifetime'],\n",
    "                            reaction = dehydration_rxn)\n",
    "    \n",
    "    dehyd_1.simulate()\n",
    "\n",
    "    splitter_1 = qs.sanunits.Splitter(ins = dehyd_1.outs[0], outs = ('flash_in', dehyd_recycle), split = 0.3, init_with = 'MultiStream')\n",
    "    splitter_1.simulate()\n",
    "    \n",
    "    flash_1 = qs.sanunits.Flash('FLASH_1', ins = splitter_1.outs[0], outs = ('ETHYLENE_WATER', 'WW_1'), T= 420,  P = 1.063e6)\n",
    "    flash_1.simulate()\n",
    "\n",
    "\n",
    "    comp_1 = Compressor('COMP_1', ins = flash_1.outs[0], P = 2e6, vle = True, eta = 0.72, driver_efficiency = 1)\n",
    "    comp_1.simulate()   \n",
    "\n",
    "    distillation_1 = qs.sanunits.BinaryDistillation('DISTILLATION_1', ins = comp_1.outs[0], \n",
    "                                                outs = ('ethylene_water', 'WW'),\n",
    "                                    LHK = ('Ethylene', 'Water'), \n",
    "                                    P = 2e+06,\n",
    "                                    y_top = 0.999, x_bot = 0.001, k = 2,\n",
    "                                    is_divided = True)\n",
    "    distillation_1.check_LHK = False   # Does not check for volatile components that might show up in lights\n",
    "    distillation_1.simulate()\n",
    "\n",
    "    comp_2 = Compressor('COMP_2', ins = distillation_1.outs[0], P = olig_data['pressure'], vle = True, eta = 0.72, driver_efficiency = 1)\n",
    "    comp_2.simulate()\n",
    "\n",
    "    distillation_2 = qs.sanunits.BinaryDistillation('DISTILLATION_2', ins = comp_2.outs[0],\n",
    "                                    LHK = ('Ethylene', 'Ethanol'),\n",
    "                                    P = 3.5e+06,\n",
    "                                    y_top = 0.9999, x_bot = 0.0001, k = 2,\n",
    "                                    is_divided = True)\n",
    "    distillation_2.simulate()\n",
    "\n",
    "    cooler_1 = _heat_exchanging.HXutility('COOLER_1', ins = distillation_2.outs[1], outs = 'WW_2', T = 300, rigorous = True)\n",
    "    cooler_1.simulate()\n",
    "\n",
    "    splitter_2 = qs.sanunits.Splitter('SPLIT2', ins = distillation_1.outs[1], split = 0.6, init_with = 'MultiStream')\n",
    "    splitter_2.simulate()\n",
    "\n",
    "    hx_1 = _heat_exchanging.HXprocess('HX_1', ins = (distillation_2.outs[0], splitter_2.outs[0]), init_with = 'MultiStream')\n",
    "    hx_1.simulate()\n",
    "\n",
    "    cooler_2 = _heat_exchanging.HXutility('COOLER_2', ins = hx_1.outs[1], outs = 'WW_3', T = 300, rigorous = True)\n",
    "    cooler_2.simulate()\n",
    "\n",
    "    cooler_3 = _heat_exchanging.HXutility('COOLER_3', ins = hx_1.outs[0], T = 393.15, rigorous = True)\n",
    "    cooler_3.simulate()\n",
    "\n",
    "    mixer_2 = qs.sanunits.Mixer(ID = 'MIXER_3', ins = (cooler_3.outs[0],ethylene_recycle), rigorous = True, init_with = 'MultiStream')\n",
    "    mixer_2.simulate()\n",
    "\n",
    "    olig_1 = IsothermalReactor('OLIG_1', ins = mixer_2.outs[0], init_with = 'MultiStream',\n",
    "                              conversion = olig_data['conv'],\n",
    "                             temperature = olig_data['temp'],\n",
    "                             pressure = olig_data['pressure'],\n",
    "                             WHSV = olig_data['whsv'],\n",
    "                             catalyst_price = price_data['oligomerization_catalyst'],\n",
    "                            reaction = oligomerization_rxn)\n",
    "    olig_1.simulate()\n",
    "\n",
    "\n",
    "    splitter_3 = qs.sanunits.Splitter('SPLIITER_3', ins = olig_1.outs[0], outs = (ethylene_recycle,'oligs'),  split = {'Ethylene':1.0}, init_with = 'MultiStream')\n",
    "    splitter_3.simulate()\n",
    "\n",
    "    h2_in = qs.SanStream(ID = 'h2_in',  P = 3e6, phase= 'g')\n",
    "    mixer_3 = qs.sanunits.Mixer('mix_try', ins = (h2_in, h2_recycle), rigorous = True, init_with = 'MultiStream')\n",
    "    @mixer_3.add_specification(run = True)\n",
    "    def h2_flow():\n",
    "        h2_flow = 3*((olig_1.outs[0].imol['Butene'] + olig_1.outs[0].imol['Hex-1-ene']\n",
    "                      + olig_1.outs[0].imol['Dec-1-ene'] + olig_1.outs[0].imol['Octadec-1-ene']))\n",
    "        \n",
    "        h2_in.imol['Hydrogen'] = h2_flow - h2_recycle.imol['Hydrogen']\n",
    "    mixer_3.simulate()\n",
    "\n",
    "    h2_storage = HydrogenStorageTank('H2_STORAGE',ins = mixer_3.outs[0])\n",
    "    h2_storage.simulate()\n",
    "\n",
    "\n",
    "    mixer_4 = qs.sanunits.Mixer(ins = (h2_storage.outs[0], splitter_3.outs[1]), rigorous = True, init_with = 'MultiStream')\n",
    "    mixer_4.simulate()\n",
    "\n",
    "    hx_2 = _heat_exchanging.HXprocess('HX_2', ins = (splitter_2.outs[1], mixer_4.outs[0]), init_with = 'MultiStream')\n",
    "    hx_2.simulate()\n",
    "\n",
    "    cooler_4 = _heat_exchanging.HXutility('COOLER_4', ins = hx_2.outs[0], outs = 'WW_4', T = 300, rigorous = True)\n",
    "    cooler_4.simulate()\n",
    "\n",
    "    furnace_3 = _heat_exchanging.HXutility('FURNACE_3', ins = hx_2.outs[1], T = 350 +273.15, rigorous = True)\n",
    "    furnace_3.simulate()\n",
    "\n",
    "\n",
    "    hydgn_1 = AdiabaticReactor('hydgn', ins = furnace_3.outs[0], init_with = 'MultiStream',\n",
    "                            conversion = hydgn_data['conv'],\n",
    "                            temperature = hydgn_data['temp'],\n",
    "                            pressure = hydgn_data['pressure'],\n",
    "                            WHSV = hydgn_data['whsv'],\n",
    "                            catalyst_price = price_data['hydrogenation_catalyst'],\n",
    "                            reaction = hydrogenation_rxn)\n",
    "    hydgn_1.simulate()\n",
    "\n",
    "\n",
    "    cooler_5 = _heat_exchanging.HXutility('COOLER_5', ins = hydgn_1.outs[0], T = 700, rigorous = True, init_with = 'MultiStream')\n",
    "    cooler_5.simulate()\n",
    "\n",
    "    h_none = _heat_exchanging.HXutility('H_NONE4', ins = cooler_5.outs[0], T = 700)\n",
    "    h_none.simulate()\n",
    "\n",
    "    psa_hydrogen = PressureSwingAdsorption('PSA', ins = h_none.outs[0], outs = (h2_recycle, 'fuel'), split = {'Hydrogen':1},  init_with = 'MultiStream')\n",
    "    psa_hydrogen.simulate()\n",
    "\n",
    "    distillation_3 = qs.sanunits.BinaryDistillation('DISTILLATION_3', ins = psa_hydrogen.outs[1],\n",
    "                                    outs = ('distillate', 'bottoms'),\n",
    "                                    LHK = ('Hexane', 'Decane'),\n",
    "                                    y_top = 0.99, x_bot = 0.01, k = 2,\n",
    "                                    is_divided = True)\n",
    "    distillation_3.check_LHK = False\n",
    "    distillation_3.simulate()\n",
    "\n",
    "    distillation_4 = qs.sanunits.BinaryDistillation('DISTILLATION_4', ins = distillation_3.outs[1],\n",
    "                                    outs = ('distillate_1', 'bottoms_1'),\n",
    "                                    LHK = ('Decane', 'Octadecane'),\n",
    "                                    y_top = 0.99, x_bot = 0.01, k = 2,\n",
    "                                    is_divided = True)\n",
    "    distillation_4.simulate()\n",
    "\n",
    "    cooler_6 = _heat_exchanging.HXutility('COOLER_6', ins = distillation_3.outs[0]\n",
    "                              ,V = 0, rigorous = True)\n",
    "    cooler_6.simulate()\n",
    "\n",
    "\n",
    "    cooler_7 = _heat_exchanging.HXutility('COOLER_7', ins = distillation_4.outs[0],T = 15+273.15, rigorous = True)\n",
    "    cooler_7.simulate()\n",
    "\n",
    "    cooler_8 = _heat_exchanging.HXutility('COOLER_8', ins = distillation_4.outs[1],T = 15+273.15, rigorous = True)\n",
    "    cooler_8.simulate()\n",
    "\n",
    "\n",
    "    rn_storage = HydrocarbonProductTank('RN_STORAGE', ins = cooler_6.outs[0], outs = 'RN',  init_with = 'MultiStream')\n",
    "    rn_storage.simulate()\n",
    "\n",
    "    saf_storage = HydrocarbonProductTank('SAF_STORAGE', ins = cooler_7.outs[0], outs = 'SAF', init_with = 'MultiStream')\n",
    "    saf_storage.simulate()\n",
    "\n",
    "\n",
    "    rd_storage = HydrocarbonProductTank('RD_STORAGE', ins = cooler_8.outs[0], outs = 'RD', init_with = 'MultiStream')\n",
    "    rd_storage.simulate()\n"
   ]
  },
  {
   "cell_type": "code",
   "execution_count": 11,
   "id": "eeb15d77",
   "metadata": {},
   "outputs": [],
   "source": [
    "\n",
    "\n",
    "    my_sys = qs.System('my_sys', path = (etoh_storage, pump_1, furnace_1, mixer_1, furnace_2, dehyd_1, splitter_1, flash_1, comp_1, \n",
    "                                         distillation_1, comp_2, distillation_2, cooler_1, splitter_2, hx_1, cooler_2, cooler_3, mixer_2,\n",
    "                                         olig_1, splitter_3, mixer_3, h2_storage, mixer_4, hx_2, cooler_4, furnace_3, hydgn_1, cooler_5, \n",
    "                                         h_none, psa_hydrogen, distillation_3, distillation_4, cooler_6, cooler_7, cooler_8,\n",
    "                                         rn_storage, saf_storage, rd_storage), \n",
    "                                         recycle = (dehyd_recycle, ethylene_recycle, h2_recycle))\n",
    "my_sys.simulate()"
   ]
  },
  {
   "cell_type": "code",
   "execution_count": 22,
   "id": "26387254",
   "metadata": {},
   "outputs": [
    {
     "data": {
      "text/html": [
       "<div>\n",
       "<style scoped>\n",
       "    .dataframe tbody tr th:only-of-type {\n",
       "        vertical-align: middle;\n",
       "    }\n",
       "\n",
       "    .dataframe tbody tr th {\n",
       "        vertical-align: top;\n",
       "    }\n",
       "\n",
       "    .dataframe thead th {\n",
       "        text-align: right;\n",
       "    }\n",
       "</style>\n",
       "<table border=\"1\" class=\"dataframe\">\n",
       "  <thead>\n",
       "    <tr style=\"text-align: right;\">\n",
       "      <th></th>\n",
       "      <th>Adiabatic reactor</th>\n",
       "      <th>Units</th>\n",
       "      <th>DEHYD_1</th>\n",
       "    </tr>\n",
       "  </thead>\n",
       "  <tbody>\n",
       "    <tr>\n",
       "      <th rowspan=\"7\" valign=\"top\">Design</th>\n",
       "      <th>Catalyst Weight</th>\n",
       "      <td>kg</td>\n",
       "      <td>8.36e+04</td>\n",
       "    </tr>\n",
       "    <tr>\n",
       "      <th>Volume</th>\n",
       "      <td>L</td>\n",
       "      <td>1.34e+05</td>\n",
       "    </tr>\n",
       "    <tr>\n",
       "      <th>Vessel Weight</th>\n",
       "      <td>lb</td>\n",
       "      <td>8.57e+04</td>\n",
       "    </tr>\n",
       "    <tr>\n",
       "      <th>Length</th>\n",
       "      <td>ft</td>\n",
       "      <td>37.8</td>\n",
       "    </tr>\n",
       "    <tr>\n",
       "      <th>Diameter</th>\n",
       "      <td>ft</td>\n",
       "      <td>12.6</td>\n",
       "    </tr>\n",
       "    <tr>\n",
       "      <th>Wall thickness</th>\n",
       "      <td>in</td>\n",
       "      <td>1.14</td>\n",
       "    </tr>\n",
       "    <tr>\n",
       "      <th>Duty</th>\n",
       "      <td>kJ/hr</td>\n",
       "      <td>0</td>\n",
       "    </tr>\n",
       "    <tr>\n",
       "      <th rowspan=\"3\" valign=\"top\">Purchase cost</th>\n",
       "      <th>Horizontal pressure vessel</th>\n",
       "      <td>USD</td>\n",
       "      <td>2.2e+05</td>\n",
       "    </tr>\n",
       "    <tr>\n",
       "      <th>Platform and ladders</th>\n",
       "      <td>USD</td>\n",
       "      <td>3.8e+03</td>\n",
       "    </tr>\n",
       "    <tr>\n",
       "      <th>Catalyst</th>\n",
       "      <td>USD</td>\n",
       "      <td>3.08e+06</td>\n",
       "    </tr>\n",
       "    <tr>\n",
       "      <th>Total purchase cost</th>\n",
       "      <th></th>\n",
       "      <td>USD</td>\n",
       "      <td>3.3e+06</td>\n",
       "    </tr>\n",
       "    <tr>\n",
       "      <th>Utility cost</th>\n",
       "      <th></th>\n",
       "      <td>USD/hr</td>\n",
       "      <td>0</td>\n",
       "    </tr>\n",
       "    <tr>\n",
       "      <th>Additional OPEX</th>\n",
       "      <th></th>\n",
       "      <td>USD/hr</td>\n",
       "      <td>195</td>\n",
       "    </tr>\n",
       "  </tbody>\n",
       "</table>\n",
       "</div>"
      ],
      "text/plain": [
       "Adiabatic reactor                                Units  DEHYD_1\n",
       "Design              Catalyst Weight                 kg 8.36e+04\n",
       "                    Volume                           L 1.34e+05\n",
       "                    Vessel Weight                   lb 8.57e+04\n",
       "                    Length                          ft     37.8\n",
       "                    Diameter                        ft     12.6\n",
       "                    Wall thickness                  in     1.14\n",
       "                    Duty                         kJ/hr        0\n",
       "Purchase cost       Horizontal pressure vessel     USD  2.2e+05\n",
       "                    Platform and ladders           USD  3.8e+03\n",
       "                    Catalyst                       USD 3.08e+06\n",
       "Total purchase cost                                USD  3.3e+06\n",
       "Utility cost                                    USD/hr        0\n",
       "Additional OPEX                                 USD/hr      195"
      ]
     },
     "execution_count": 22,
     "metadata": {},
     "output_type": "execute_result"
    }
   ],
   "source": [
    "dehyd_1.results()"
   ]
  },
  {
   "cell_type": "code",
   "execution_count": 21,
   "id": "80fbc065",
   "metadata": {},
   "outputs": [
    {
     "name": "stdout",
     "output_type": "stream",
     "text": [
      "System: my_sys\n",
      "Highest convergence error among components in recycle\n",
      "streams {S1-1, SPLIITER_3-0, PSA-0} after 4 loops:\n",
      "- flow rate   2.26e-03 kmol/hr (0.00072%)\n",
      "- temperature 7.40e-04 K (0.00012%)\n",
      "ins...\n",
      "[0] etoh_in  \n",
      "    phase: 'l', T: 293.15 K, P: 101325 Pa\n",
      "    flow (kmol/hr): Water    2.09\n",
      "                    Ethanol  162\n",
      "[1] h2_in  \n",
      "    phase: 'g', T: 298.15 K, P: 3e+06 Pa\n",
      "    flow (kmol/hr): Hydrogen  44.9\n",
      "outs...\n",
      "[0] SAF  \n",
      "    phases: ('g', 'l'), T: 288.15 K, P: 101325 Pa\n",
      "    flow (kmol/hr): (l) Ethanol     0.0081\n",
      "                        Hexane      0.202\n",
      "                        Decane      20\n",
      "                        Octadecane  0.202\n",
      "[1] RD  \n",
      "    phases: ('g', 'l'), T: 288.15 K, P: 101325 Pa\n",
      "    flow (kmol/hr): (l) Decane      0.00341\n",
      "                        Octadecane  0.338\n",
      "[2] WW_1  \n",
      "    phase: 'l', T: 420 K, P: 1.063e+06 Pa\n",
      "    flow (kmol/hr): Water     51.5\n",
      "                    Ethanol   0.00892\n",
      "                    Ethylene  0.162\n",
      "[3] RN  \n",
      "    phase: 'l', T: 282.7 K, P: 101325 Pa\n",
      "    flow (kmol/hr): Ethanol  0.0081\n",
      "                    Butane   16.2\n",
      "                    Hexane   7.9\n",
      "                    Decane   0.0798\n",
      "[4] WW_2  \n",
      "    phases: ('g', 'l'), T: 300 K, P: 3.5e+06 Pa\n",
      "    flow (kmol/hr): (l) Water     0.162\n",
      "                        Ethanol   0.102\n",
      "                        Ethylene  1.02e-05\n",
      "[5] WW_3  \n",
      "    phases: ('g', 'l'), T: 300 K, P: 2e+06 Pa\n",
      "    flow (kmol/hr): (l) Water     67.6\n",
      "                        Ethanol   0.0707\n",
      "                        Ethylene  0.0676\n",
      "[6] WW_4  \n",
      "    phases: ('g', 'l'), T: 300 K, P: 2e+06 Pa\n",
      "    flow (kmol/hr): (l) Water     45.1\n",
      "                        Ethanol   0.0471\n",
      "                        Ethylene  0.0451\n"
     ]
    }
   ],
   "source": [
    "my_sys.show()"
   ]
  },
  {
   "cell_type": "code",
   "execution_count": 13,
   "id": "eef0f4a4",
   "metadata": {},
   "outputs": [],
   "source": [
    "for unit in my_sys.units:\n",
    "    if not hasattr(unit, \"add_OPEX\"):\n",
    "        unit._add_OPEX = 0.0  # Ensure it existS"
   ]
  },
  {
   "cell_type": "code",
   "execution_count": 14,
   "id": "b4267c79",
   "metadata": {},
   "outputs": [],
   "source": [
    "my_sys.diagram(kind=0, file='ATJ-baseline', format='png', display=True)"
   ]
  },
  {
   "cell_type": "code",
   "execution_count": 15,
   "id": "4ecf748e",
   "metadata": {},
   "outputs": [],
   "source": [
    "    operators_per_section = 1  # operators per section from Seider recommendation\n",
    "    num_process_sections = 5  # number of proces sections from Seider recommendation [3 reactor, 2 separation]\n",
    "    num_operators_per_shift = operators_per_section * num_process_sections * 1  # multiplied by 2 for large continuous flow process (e.g., 1000 ton/day product). from Seider pg 505\n",
    "    num_shifts = 5  # number of shifts\n",
    "    pay_rate = 40  # $/hr\n",
    "    DWandB = num_operators_per_shift * num_shifts * 2080 * pay_rate  # direct wages and benefits. DWandB [$/year] = (operators/shift)*(5 shifts)*(40 hr/week)*(operating days/year-operator)*($/hr)\n",
    "    Dsalaries_benefits = 0.15 * DWandB  # direct salaries and benefits from Seider\n",
    "    O_supplies = 0.06 * DWandB  # Operating supplies and services from Seider\n",
    "    technical_assistance = 5 * 75000  # $/year. Technical assistance to manufacturing. assume 5 workers at $75000/year\n",
    "    control_lab = 5 * 80000  # $/year. Control laboratory. assume 5 workers at $80000/year\n",
    "    labor = DWandB + Dsalaries_benefits + O_supplies + technical_assistance + control_lab \n",
    "\n",
    "    my_tea = ConventionalEthanolTEA(system = my_sys,\n",
    "                                IRR = 0.10,\n",
    "                                duration = (2023, 2053),\n",
    "                                depreciation = 'MACRS7',\n",
    "                                income_tax = 0.21,\n",
    "                                operating_days = 330,\n",
    "                                lang_factor = 5.04,\n",
    "                                construction_schedule = (0.08, 0.60, 0.32),\n",
    "                                WC_over_FCI = 0.05,\n",
    "                                labor_cost = labor,\n",
    "                                #fringe_benefits = 0,\n",
    "                                property_tax=0.001, \n",
    "                                property_insurance=0.005, \n",
    "                                #supplies=0, \n",
    "                                maintenance=0.01, \n",
    "                                administration=0.005\n",
    "                                )"
   ]
  },
  {
   "cell_type": "code",
   "execution_count": 16,
   "id": "88ef7943",
   "metadata": {},
   "outputs": [],
   "source": [
    "my_sys.feeds[0].price = ethanol_price_converter(price_data['ethanol'])\n",
    "my_sys.feeds[1].price = price_data['hydrogen']\n",
    "my_sys.products[4].price = price_data['renewable_naphtha']\n",
    "my_sys.products[6].price = price_data['renewable_diesel']\n",
    "saf_stream = my_sys.products[5] \n",
    "my_sys.products[0].price = -price_data['wastewater_treatment']\n",
    "my_sys.products[1].price = -price_data['wastewater_treatment']\n",
    "my_sys.products[2].price = -price_data['wastewater_treatment']\n",
    "my_sys.products[3].price = -price_data['wastewater_treatment']"
   ]
  },
  {
   "cell_type": "code",
   "execution_count": 17,
   "id": "39418460",
   "metadata": {},
   "outputs": [
    {
     "data": {
      "text/plain": [
       "-658756757.0993285"
      ]
     },
     "execution_count": 17,
     "metadata": {},
     "output_type": "execute_result"
    }
   ],
   "source": [
    "my_tea.NPV"
   ]
  },
  {
   "cell_type": "code",
   "execution_count": 18,
   "id": "548aba0b",
   "metadata": {},
   "outputs": [
    {
     "name": "stdout",
     "output_type": "stream",
     "text": [
      "The MSP is 8.57 USD/gal\n"
     ]
    }
   ],
   "source": [
    "print(f'The MSP is {round((my_tea.solve_price(saf_stream)*saf_stream.rho)/264.172,2)} USD/gal')"
   ]
  },
  {
   "cell_type": "code",
   "execution_count": 19,
   "id": "afb02dd7",
   "metadata": {},
   "outputs": [
    {
     "name": "stdout",
     "output_type": "stream",
     "text": [
      "The purchase cost is 16.5 MM USD/yr\n",
      "The installed equipment cost is 83.15 MM USD/yr\n"
     ]
    }
   ],
   "source": [
    "print(f'The purchase cost is {round(my_tea.purchase_cost/1e6, 2)} MM USD/yr')\n",
    "print(f'The installed equipment cost is {round(my_tea.installed_equipment_cost/1e6, 2)} MM USD/yr')"
   ]
  },
  {
   "cell_type": "code",
   "execution_count": 20,
   "id": "249350c1",
   "metadata": {},
   "outputs": [
    {
     "ename": "PermissionError",
     "evalue": "[Errno 13] Permission denied: 'dcfror.xlsx'",
     "output_type": "error",
     "traceback": [
      "\u001b[1;31m---------------------------------------------------------------------------\u001b[0m",
      "\u001b[1;31mPermissionError\u001b[0m                           Traceback (most recent call last)",
      "Cell \u001b[1;32mIn[20], line 1\u001b[0m\n\u001b[1;32m----> 1\u001b[0m \u001b[43mmy_tea\u001b[49m\u001b[38;5;241;43m.\u001b[39;49m\u001b[43mget_cashflow_table\u001b[49m\u001b[43m(\u001b[49m\u001b[43m)\u001b[49m\u001b[38;5;241;43m.\u001b[39;49m\u001b[43mto_excel\u001b[49m\u001b[43m(\u001b[49m\u001b[38;5;124;43m'\u001b[39;49m\u001b[38;5;124;43mdcfror.xlsx\u001b[39;49m\u001b[38;5;124;43m'\u001b[39;49m\u001b[43m)\u001b[49m\n",
      "File \u001b[1;32mc:\\Users\\hwadg\\anaconda3\\envs\\pyfuel\\lib\\site-packages\\pandas\\util\\_decorators.py:333\u001b[0m, in \u001b[0;36mdeprecate_nonkeyword_arguments.<locals>.decorate.<locals>.wrapper\u001b[1;34m(*args, **kwargs)\u001b[0m\n\u001b[0;32m    327\u001b[0m \u001b[38;5;28;01mif\u001b[39;00m \u001b[38;5;28mlen\u001b[39m(args) \u001b[38;5;241m>\u001b[39m num_allow_args:\n\u001b[0;32m    328\u001b[0m     warnings\u001b[38;5;241m.\u001b[39mwarn(\n\u001b[0;32m    329\u001b[0m         msg\u001b[38;5;241m.\u001b[39mformat(arguments\u001b[38;5;241m=\u001b[39m_format_argument_list(allow_args)),\n\u001b[0;32m    330\u001b[0m         \u001b[38;5;167;01mFutureWarning\u001b[39;00m,\n\u001b[0;32m    331\u001b[0m         stacklevel\u001b[38;5;241m=\u001b[39mfind_stack_level(),\n\u001b[0;32m    332\u001b[0m     )\n\u001b[1;32m--> 333\u001b[0m \u001b[38;5;28;01mreturn\u001b[39;00m func(\u001b[38;5;241m*\u001b[39margs, \u001b[38;5;241m*\u001b[39m\u001b[38;5;241m*\u001b[39mkwargs)\n",
      "File \u001b[1;32mc:\\Users\\hwadg\\anaconda3\\envs\\pyfuel\\lib\\site-packages\\pandas\\core\\generic.py:2436\u001b[0m, in \u001b[0;36mNDFrame.to_excel\u001b[1;34m(self, excel_writer, sheet_name, na_rep, float_format, columns, header, index, index_label, startrow, startcol, engine, merge_cells, inf_rep, freeze_panes, storage_options, engine_kwargs)\u001b[0m\n\u001b[0;32m   2423\u001b[0m \u001b[38;5;28;01mfrom\u001b[39;00m\u001b[38;5;250m \u001b[39m\u001b[38;5;21;01mpandas\u001b[39;00m\u001b[38;5;21;01m.\u001b[39;00m\u001b[38;5;21;01mio\u001b[39;00m\u001b[38;5;21;01m.\u001b[39;00m\u001b[38;5;21;01mformats\u001b[39;00m\u001b[38;5;21;01m.\u001b[39;00m\u001b[38;5;21;01mexcel\u001b[39;00m\u001b[38;5;250m \u001b[39m\u001b[38;5;28;01mimport\u001b[39;00m ExcelFormatter\n\u001b[0;32m   2425\u001b[0m formatter \u001b[38;5;241m=\u001b[39m ExcelFormatter(\n\u001b[0;32m   2426\u001b[0m     df,\n\u001b[0;32m   2427\u001b[0m     na_rep\u001b[38;5;241m=\u001b[39mna_rep,\n\u001b[1;32m   (...)\u001b[0m\n\u001b[0;32m   2434\u001b[0m     inf_rep\u001b[38;5;241m=\u001b[39minf_rep,\n\u001b[0;32m   2435\u001b[0m )\n\u001b[1;32m-> 2436\u001b[0m \u001b[43mformatter\u001b[49m\u001b[38;5;241;43m.\u001b[39;49m\u001b[43mwrite\u001b[49m\u001b[43m(\u001b[49m\n\u001b[0;32m   2437\u001b[0m \u001b[43m    \u001b[49m\u001b[43mexcel_writer\u001b[49m\u001b[43m,\u001b[49m\n\u001b[0;32m   2438\u001b[0m \u001b[43m    \u001b[49m\u001b[43msheet_name\u001b[49m\u001b[38;5;241;43m=\u001b[39;49m\u001b[43msheet_name\u001b[49m\u001b[43m,\u001b[49m\n\u001b[0;32m   2439\u001b[0m \u001b[43m    \u001b[49m\u001b[43mstartrow\u001b[49m\u001b[38;5;241;43m=\u001b[39;49m\u001b[43mstartrow\u001b[49m\u001b[43m,\u001b[49m\n\u001b[0;32m   2440\u001b[0m \u001b[43m    \u001b[49m\u001b[43mstartcol\u001b[49m\u001b[38;5;241;43m=\u001b[39;49m\u001b[43mstartcol\u001b[49m\u001b[43m,\u001b[49m\n\u001b[0;32m   2441\u001b[0m \u001b[43m    \u001b[49m\u001b[43mfreeze_panes\u001b[49m\u001b[38;5;241;43m=\u001b[39;49m\u001b[43mfreeze_panes\u001b[49m\u001b[43m,\u001b[49m\n\u001b[0;32m   2442\u001b[0m \u001b[43m    \u001b[49m\u001b[43mengine\u001b[49m\u001b[38;5;241;43m=\u001b[39;49m\u001b[43mengine\u001b[49m\u001b[43m,\u001b[49m\n\u001b[0;32m   2443\u001b[0m \u001b[43m    \u001b[49m\u001b[43mstorage_options\u001b[49m\u001b[38;5;241;43m=\u001b[39;49m\u001b[43mstorage_options\u001b[49m\u001b[43m,\u001b[49m\n\u001b[0;32m   2444\u001b[0m \u001b[43m    \u001b[49m\u001b[43mengine_kwargs\u001b[49m\u001b[38;5;241;43m=\u001b[39;49m\u001b[43mengine_kwargs\u001b[49m\u001b[43m,\u001b[49m\n\u001b[0;32m   2445\u001b[0m \u001b[43m\u001b[49m\u001b[43m)\u001b[49m\n",
      "File \u001b[1;32mc:\\Users\\hwadg\\anaconda3\\envs\\pyfuel\\lib\\site-packages\\pandas\\io\\formats\\excel.py:943\u001b[0m, in \u001b[0;36mExcelFormatter.write\u001b[1;34m(self, writer, sheet_name, startrow, startcol, freeze_panes, engine, storage_options, engine_kwargs)\u001b[0m\n\u001b[0;32m    941\u001b[0m     need_save \u001b[38;5;241m=\u001b[39m \u001b[38;5;28;01mFalse\u001b[39;00m\n\u001b[0;32m    942\u001b[0m \u001b[38;5;28;01melse\u001b[39;00m:\n\u001b[1;32m--> 943\u001b[0m     writer \u001b[38;5;241m=\u001b[39m \u001b[43mExcelWriter\u001b[49m\u001b[43m(\u001b[49m\n\u001b[0;32m    944\u001b[0m \u001b[43m        \u001b[49m\u001b[43mwriter\u001b[49m\u001b[43m,\u001b[49m\n\u001b[0;32m    945\u001b[0m \u001b[43m        \u001b[49m\u001b[43mengine\u001b[49m\u001b[38;5;241;43m=\u001b[39;49m\u001b[43mengine\u001b[49m\u001b[43m,\u001b[49m\n\u001b[0;32m    946\u001b[0m \u001b[43m        \u001b[49m\u001b[43mstorage_options\u001b[49m\u001b[38;5;241;43m=\u001b[39;49m\u001b[43mstorage_options\u001b[49m\u001b[43m,\u001b[49m\n\u001b[0;32m    947\u001b[0m \u001b[43m        \u001b[49m\u001b[43mengine_kwargs\u001b[49m\u001b[38;5;241;43m=\u001b[39;49m\u001b[43mengine_kwargs\u001b[49m\u001b[43m,\u001b[49m\n\u001b[0;32m    948\u001b[0m \u001b[43m    \u001b[49m\u001b[43m)\u001b[49m\n\u001b[0;32m    949\u001b[0m     need_save \u001b[38;5;241m=\u001b[39m \u001b[38;5;28;01mTrue\u001b[39;00m\n\u001b[0;32m    951\u001b[0m \u001b[38;5;28;01mtry\u001b[39;00m:\n",
      "File \u001b[1;32mc:\\Users\\hwadg\\anaconda3\\envs\\pyfuel\\lib\\site-packages\\pandas\\io\\excel\\_openpyxl.py:61\u001b[0m, in \u001b[0;36mOpenpyxlWriter.__init__\u001b[1;34m(self, path, engine, date_format, datetime_format, mode, storage_options, if_sheet_exists, engine_kwargs, **kwargs)\u001b[0m\n\u001b[0;32m     57\u001b[0m \u001b[38;5;28;01mfrom\u001b[39;00m\u001b[38;5;250m \u001b[39m\u001b[38;5;21;01mopenpyxl\u001b[39;00m\u001b[38;5;21;01m.\u001b[39;00m\u001b[38;5;21;01mworkbook\u001b[39;00m\u001b[38;5;250m \u001b[39m\u001b[38;5;28;01mimport\u001b[39;00m Workbook\n\u001b[0;32m     59\u001b[0m engine_kwargs \u001b[38;5;241m=\u001b[39m combine_kwargs(engine_kwargs, kwargs)\n\u001b[1;32m---> 61\u001b[0m \u001b[38;5;28;43msuper\u001b[39;49m\u001b[43m(\u001b[49m\u001b[43m)\u001b[49m\u001b[38;5;241;43m.\u001b[39;49m\u001b[38;5;21;43m__init__\u001b[39;49m\u001b[43m(\u001b[49m\n\u001b[0;32m     62\u001b[0m \u001b[43m    \u001b[49m\u001b[43mpath\u001b[49m\u001b[43m,\u001b[49m\n\u001b[0;32m     63\u001b[0m \u001b[43m    \u001b[49m\u001b[43mmode\u001b[49m\u001b[38;5;241;43m=\u001b[39;49m\u001b[43mmode\u001b[49m\u001b[43m,\u001b[49m\n\u001b[0;32m     64\u001b[0m \u001b[43m    \u001b[49m\u001b[43mstorage_options\u001b[49m\u001b[38;5;241;43m=\u001b[39;49m\u001b[43mstorage_options\u001b[49m\u001b[43m,\u001b[49m\n\u001b[0;32m     65\u001b[0m \u001b[43m    \u001b[49m\u001b[43mif_sheet_exists\u001b[49m\u001b[38;5;241;43m=\u001b[39;49m\u001b[43mif_sheet_exists\u001b[49m\u001b[43m,\u001b[49m\n\u001b[0;32m     66\u001b[0m \u001b[43m    \u001b[49m\u001b[43mengine_kwargs\u001b[49m\u001b[38;5;241;43m=\u001b[39;49m\u001b[43mengine_kwargs\u001b[49m\u001b[43m,\u001b[49m\n\u001b[0;32m     67\u001b[0m \u001b[43m\u001b[49m\u001b[43m)\u001b[49m\n\u001b[0;32m     69\u001b[0m \u001b[38;5;66;03m# ExcelWriter replaced \"a\" by \"r+\" to allow us to first read the excel file from\u001b[39;00m\n\u001b[0;32m     70\u001b[0m \u001b[38;5;66;03m# the file and later write to it\u001b[39;00m\n\u001b[0;32m     71\u001b[0m \u001b[38;5;28;01mif\u001b[39;00m \u001b[38;5;124m\"\u001b[39m\u001b[38;5;124mr+\u001b[39m\u001b[38;5;124m\"\u001b[39m \u001b[38;5;129;01min\u001b[39;00m \u001b[38;5;28mself\u001b[39m\u001b[38;5;241m.\u001b[39m_mode:  \u001b[38;5;66;03m# Load from existing workbook\u001b[39;00m\n",
      "File \u001b[1;32mc:\\Users\\hwadg\\anaconda3\\envs\\pyfuel\\lib\\site-packages\\pandas\\io\\excel\\_base.py:1246\u001b[0m, in \u001b[0;36mExcelWriter.__init__\u001b[1;34m(self, path, engine, date_format, datetime_format, mode, storage_options, if_sheet_exists, engine_kwargs)\u001b[0m\n\u001b[0;32m   1242\u001b[0m \u001b[38;5;28mself\u001b[39m\u001b[38;5;241m.\u001b[39m_handles \u001b[38;5;241m=\u001b[39m IOHandles(\n\u001b[0;32m   1243\u001b[0m     cast(IO[\u001b[38;5;28mbytes\u001b[39m], path), compression\u001b[38;5;241m=\u001b[39m{\u001b[38;5;124m\"\u001b[39m\u001b[38;5;124mcompression\u001b[39m\u001b[38;5;124m\"\u001b[39m: \u001b[38;5;28;01mNone\u001b[39;00m}\n\u001b[0;32m   1244\u001b[0m )\n\u001b[0;32m   1245\u001b[0m \u001b[38;5;28;01mif\u001b[39;00m \u001b[38;5;129;01mnot\u001b[39;00m \u001b[38;5;28misinstance\u001b[39m(path, ExcelWriter):\n\u001b[1;32m-> 1246\u001b[0m     \u001b[38;5;28mself\u001b[39m\u001b[38;5;241m.\u001b[39m_handles \u001b[38;5;241m=\u001b[39m \u001b[43mget_handle\u001b[49m\u001b[43m(\u001b[49m\n\u001b[0;32m   1247\u001b[0m \u001b[43m        \u001b[49m\u001b[43mpath\u001b[49m\u001b[43m,\u001b[49m\u001b[43m \u001b[49m\u001b[43mmode\u001b[49m\u001b[43m,\u001b[49m\u001b[43m \u001b[49m\u001b[43mstorage_options\u001b[49m\u001b[38;5;241;43m=\u001b[39;49m\u001b[43mstorage_options\u001b[49m\u001b[43m,\u001b[49m\u001b[43m \u001b[49m\u001b[43mis_text\u001b[49m\u001b[38;5;241;43m=\u001b[39;49m\u001b[38;5;28;43;01mFalse\u001b[39;49;00m\n\u001b[0;32m   1248\u001b[0m \u001b[43m    \u001b[49m\u001b[43m)\u001b[49m\n\u001b[0;32m   1249\u001b[0m \u001b[38;5;28mself\u001b[39m\u001b[38;5;241m.\u001b[39m_cur_sheet \u001b[38;5;241m=\u001b[39m \u001b[38;5;28;01mNone\u001b[39;00m\n\u001b[0;32m   1251\u001b[0m \u001b[38;5;28;01mif\u001b[39;00m date_format \u001b[38;5;129;01mis\u001b[39;00m \u001b[38;5;28;01mNone\u001b[39;00m:\n",
      "File \u001b[1;32mc:\\Users\\hwadg\\anaconda3\\envs\\pyfuel\\lib\\site-packages\\pandas\\io\\common.py:882\u001b[0m, in \u001b[0;36mget_handle\u001b[1;34m(path_or_buf, mode, encoding, compression, memory_map, is_text, errors, storage_options)\u001b[0m\n\u001b[0;32m    873\u001b[0m         handle \u001b[38;5;241m=\u001b[39m \u001b[38;5;28mopen\u001b[39m(\n\u001b[0;32m    874\u001b[0m             handle,\n\u001b[0;32m    875\u001b[0m             ioargs\u001b[38;5;241m.\u001b[39mmode,\n\u001b[1;32m   (...)\u001b[0m\n\u001b[0;32m    878\u001b[0m             newline\u001b[38;5;241m=\u001b[39m\u001b[38;5;124m\"\u001b[39m\u001b[38;5;124m\"\u001b[39m,\n\u001b[0;32m    879\u001b[0m         )\n\u001b[0;32m    880\u001b[0m     \u001b[38;5;28;01melse\u001b[39;00m:\n\u001b[0;32m    881\u001b[0m         \u001b[38;5;66;03m# Binary mode\u001b[39;00m\n\u001b[1;32m--> 882\u001b[0m         handle \u001b[38;5;241m=\u001b[39m \u001b[38;5;28;43mopen\u001b[39;49m\u001b[43m(\u001b[49m\u001b[43mhandle\u001b[49m\u001b[43m,\u001b[49m\u001b[43m \u001b[49m\u001b[43mioargs\u001b[49m\u001b[38;5;241;43m.\u001b[39;49m\u001b[43mmode\u001b[49m\u001b[43m)\u001b[49m\n\u001b[0;32m    883\u001b[0m     handles\u001b[38;5;241m.\u001b[39mappend(handle)\n\u001b[0;32m    885\u001b[0m \u001b[38;5;66;03m# Convert BytesIO or file objects passed with an encoding\u001b[39;00m\n",
      "\u001b[1;31mPermissionError\u001b[0m: [Errno 13] Permission denied: 'dcfror.xlsx'"
     ]
    }
   ],
   "source": [
    "my_tea.get_cashflow_table().to_excel('dcfror.xlsx')"
   ]
  },
  {
   "cell_type": "code",
   "execution_count": null,
   "id": "95a6a87a",
   "metadata": {},
   "outputs": [],
   "source": []
  }
 ],
 "metadata": {
  "kernelspec": {
   "display_name": "pyfuel",
   "language": "python",
   "name": "python3"
  },
  "language_info": {
   "codemirror_mode": {
    "name": "ipython",
    "version": 3
   },
   "file_extension": ".py",
   "mimetype": "text/x-python",
   "name": "python",
   "nbconvert_exporter": "python",
   "pygments_lexer": "ipython3",
   "version": "3.10.18"
  }
 },
 "nbformat": 4,
 "nbformat_minor": 5
}
