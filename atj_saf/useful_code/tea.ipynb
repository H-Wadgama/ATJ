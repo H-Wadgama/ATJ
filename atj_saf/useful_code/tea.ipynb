{
 "cells": [
  {
   "cell_type": "code",
   "execution_count": null,
   "id": "97c71579",
   "metadata": {},
   "outputs": [],
   "source": []
  },
  {
   "cell_type": "markdown",
   "id": "f9b6b150",
   "metadata": {},
   "source": [
    "For the purchase cost of equipment, the following code can be used to generate a dictionary"
   ]
  },
  {
   "cell_type": "code",
   "execution_count": null,
   "id": "4618c014",
   "metadata": {},
   "outputs": [],
   "source": [
    "import pandas as pd\n",
    "\n",
    "purchase_df = pd.DataFrame({\n",
    "    'Unit': [u.ID for u in my_sys.cost_units],                          # The system here is named my_sys\n",
    "    'Purchase Cost': [u.purchase_cost for u in my_sys.cost_units]\n",
    "})\n",
    "purchase_df.to_excel('equipment_purchase_costs.xlsx', index=False)\n"
   ]
  },
  {
   "cell_type": "markdown",
   "id": "6202f1f7",
   "metadata": {},
   "source": [
    "To simply print these out, one can use:"
   ]
  },
  {
   "cell_type": "code",
   "execution_count": null,
   "id": "aa1eaa51",
   "metadata": {},
   "outputs": [],
   "source": [
    "for u in my_sys.cost_units:\n",
    "    print(f\"{u.ID}: {u.purchase_cost}\")"
   ]
  },
  {
   "cell_type": "markdown",
   "id": "b1a80569",
   "metadata": {},
   "source": []
  },
  {
   "cell_type": "markdown",
   "id": "f918c461",
   "metadata": {},
   "source": []
  }
 ],
 "metadata": {
  "language_info": {
   "name": "python"
  }
 },
 "nbformat": 4,
 "nbformat_minor": 5
}
