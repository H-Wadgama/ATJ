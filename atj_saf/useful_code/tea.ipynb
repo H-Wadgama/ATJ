{
 "cells": [
  {
   "cell_type": "code",
   "execution_count": null,
   "id": "97c71579",
   "metadata": {},
   "outputs": [],
   "source": []
  },
  {
   "cell_type": "markdown",
   "id": "f9b6b150",
   "metadata": {},
   "source": [
    "For the purchase cost of equipment, the following code can be used to generate a dictionary"
   ]
  },
  {
   "cell_type": "code",
   "execution_count": null,
   "id": "4618c014",
   "metadata": {},
   "outputs": [],
   "source": [
    "import pandas as pd\n",
    "\n",
    "purchase_df = pd.DataFrame({\n",
    "    'Unit': [u.ID for u in my_sys.cost_units],                          # The system here is named my_sys\n",
    "    'Purchase Cost': [u.purchase_cost for u in my_sys.cost_units]\n",
    "})\n",
    "purchase_df.to_excel('equipment_purchase_costs.xlsx', index=False)\n"
   ]
  },
  {
   "cell_type": "markdown",
   "id": "6202f1f7",
   "metadata": {},
   "source": [
    "To simply print these out, one can use:"
   ]
  },
  {
   "cell_type": "code",
   "execution_count": null,
   "id": "aa1eaa51",
   "metadata": {},
   "outputs": [],
   "source": [
    "for u in my_sys.cost_units:\n",
    "    print(f\"{u.ID}: {u.purchase_cost}\")"
   ]
  },
  {
   "cell_type": "markdown",
   "id": "b1a80569",
   "metadata": {},
   "source": []
  },
  {
   "cell_type": "markdown",
   "id": "310df01e",
   "metadata": {},
   "source": [
    "To generate code to display the utility consumption (both heating and cooling are specified) of unit operations and generate a dataframe"
   ]
  },
  {
   "cell_type": "markdown",
   "id": "f918c461",
   "metadata": {},
   "source": []
  },
  {
   "cell_type": "code",
   "execution_count": null,
   "id": "4d775728",
   "metadata": {},
   "outputs": [],
   "source": [
    "import pandas as pd\n",
    "from IPython.display import display\n",
    "\n",
    "records = []\n",
    "\n",
    "for unit in my_sys.units:    # system name is my_sys here\n",
    "    heat_utilities = getattr(unit, 'heat_utilities', [])  # Default to empty list if not present\n",
    "    total_duty = sum(h.duty for h in heat_utilities if h.duty != 0)  # Can also use h.duty > 0 for heating only\n",
    "\n",
    "    records.append({\n",
    "        'Unit ID': unit.ID,\n",
    "        'Unit Type': type(unit).__name__,\n",
    "        'Utility [kJ/hr]': total_duty\n",
    "    })\n",
    "\n",
    "df_opex = pd.DataFrame(records)\n",
    "\n",
    "# Remove zero-utility rows (optional)\n",
    "df_opex = df_opex[df_opex['Utility [kJ/hr]'] != 0]\n",
    "\n",
    "# Sort in descending order of heat duty\n",
    "df_opex = df_opex.sort_values(by='Utility [kJ/hr]', ascending=False).reset_index(drop=True)\n",
    "\n",
    "total_heat = df_opex['Utility [kJ/hr]'].sum()\n",
    "df_opex['% of Total'] = df_opex['Utility [kJ/bhr]'] / total_heat \n",
    "df_opex.to_excel('heat_utilities_summary.xlsx', index=False)\n",
    "\n",
    "display(df_opex)"
   ]
  },
  {
   "cell_type": "markdown",
   "id": "fb2857d1",
   "metadata": {},
   "source": [
    "Generate code for total heating and cooling (this code is an extension of the above code if only total utility values are required)"
   ]
  },
  {
   "cell_type": "code",
   "execution_count": null,
   "id": "8e76c485",
   "metadata": {},
   "outputs": [],
   "source": [
    "\n",
    "total_heating = df_opex[df_opex['Utility [kJ/hr]'] > 0]['Utility [kJ/hr]'].sum()\n",
    "total_cooling= -df_opex[df_opex['Utility [kJ/hr]'] < 0]['Utility [kJ/hr]'].sum()"
   ]
  },
  {
   "cell_type": "markdown",
   "id": "822d27a2",
   "metadata": {},
   "source": []
  },
  {
   "cell_type": "markdown",
   "id": "235917c3",
   "metadata": {},
   "source": []
  },
  {
   "cell_type": "code",
   "execution_count": null,
   "id": "3e84e880",
   "metadata": {},
   "outputs": [
    {
     "ename": "NameError",
     "evalue": "name 'bi' is not defined",
     "output_type": "error",
     "traceback": [
      "\u001b[1;31m---------------------------------------------------------------------------\u001b[0m",
      "\u001b[1;31mNameError\u001b[0m                                 Traceback (most recent call last)",
      "Cell \u001b[1;32mIn[1], line 2\u001b[0m\n\u001b[0;32m      1\u001b[0m \u001b[38;5;28;01mimport\u001b[39;00m \u001b[38;5;21;01mbiosteam\u001b[39;00m \u001b[38;5;28;01mas\u001b[39;00m \u001b[38;5;21;01mbst\u001b[39;00m\n\u001b[1;32m----> 2\u001b[0m bi\n",
      "\u001b[1;31mNameError\u001b[0m: name 'bi' is not defined"
     ]
    }
   ],
   "source": [
    "import biosteam as bst\n",
    "bst.Reaction"
   ]
  },
  {
   "cell_type": "code",
   "execution_count": null,
   "id": "503bc232",
   "metadata": {},
   "outputs": [],
   "source": []
  },
  {
   "cell_type": "markdown",
   "id": "6317d9ee",
   "metadata": {},
   "source": [
    "The code below checks for a certain heating/cooling agent name (example shows natural gas) and searches through the system and finds out which unit operations use it and their duties"
   ]
  },
  {
   "cell_type": "code",
   "execution_count": null,
   "id": "2a6e1457",
   "metadata": {},
   "outputs": [],
   "source": [
    "\n",
    "def find_units_using_agent(agent_ID, system=None):\n",
    "    agent = bst.settings.get_agent(agent_ID)\n",
    "    if not agent:\n",
    "        print(f\"No agent found with ID '{agent_ID}'\")\n",
    "        return []\n",
    "\n",
    "    if system is None:\n",
    "        system = bst.main_flowsheet.my_sys    # Assynes systems name is my_sys\n",
    "\n",
    "    units_using_agent = []\n",
    "\n",
    "    for unit in system.units:\n",
    "        if hasattr(unit, 'heat_utilities'):\n",
    "            for hu in unit.heat_utilities:\n",
    "                if hu.agent is agent:\n",
    "                    units_using_agent.append((unit.ID, hu.duty, hu.agent.ID))\n",
    "\n",
    "    return units_using_agent\n",
    "\n",
    "# Example usage\n",
    "results = find_units_using_agent('natural_gas')\n",
    "\n",
    "# Display results\n",
    "if results:\n",
    "    print(f\"\\nUnits using agent 'ethylene':\")\n",
    "    for ID, duty, agent_ID in results:\n",
    "        print(f\" - Unit {ID} | Duty: {duty:.2f} kJ  | Agent: {agent_ID}\")\n",
    "else:\n",
    "    print(\"No units are using this agent.\")"
   ]
  },
  {
   "cell_type": "markdown",
   "id": "cd6f9ab2",
   "metadata": {},
   "source": []
  }
 ],
 "metadata": {
  "kernelspec": {
   "display_name": "py101",
   "language": "python",
   "name": "python3"
  },
  "language_info": {
   "codemirror_mode": {
    "name": "ipython",
    "version": 3
   },
   "file_extension": ".py",
   "mimetype": "text/x-python",
   "name": "python",
   "nbconvert_exporter": "python",
   "pygments_lexer": "ipython3",
   "version": "3.12.7"
  }
 },
 "nbformat": 4,
 "nbformat_minor": 5
}
