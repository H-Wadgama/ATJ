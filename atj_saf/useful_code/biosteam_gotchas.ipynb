{
 "cells": [
  {
   "cell_type": "code",
   "execution_count": null,
   "id": "ce337ab2",
   "metadata": {},
   "outputs": [],
   "source": []
  },
  {
   "cell_type": "markdown",
   "id": "8baec20b",
   "metadata": {},
   "source": [
    "Make sure you pay attention to the phases if you try to react something. Suppose I define an inlet stream as just bst.Stream and all solids and another inlet as bst.Stream with all liquids, if I use these to react, the outlet stream will only occupy one of these phases. Therefore to ensure that you can adequately capture the phases, use MultiStream especially when dealing with any kind of chemical reaction designs (as they usually involve heterogeneity)"
   ]
  },
  {
   "cell_type": "markdown",
   "id": "aa1e184a",
   "metadata": {},
   "source": [
    "Also, for chemical reactions, if your inlet stream is multiphase and you try running the reaction only in one phase, it is going to give you the error: \"Reaction and stram phases do not match\""
   ]
  },
  {
   "cell_type": "markdown",
   "id": "602b7757",
   "metadata": {},
   "source": []
  },
  {
   "cell_type": "code",
   "execution_count": null,
   "id": "d888fb84",
   "metadata": {},
   "outputs": [],
   "source": []
  },
  {
   "cell_type": "markdown",
   "id": "3a3e7d98",
   "metadata": {},
   "source": []
  },
  {
   "cell_type": "markdown",
   "id": "2a1c2abd",
   "metadata": {},
   "source": []
  }
 ],
 "metadata": {
  "kernelspec": {
   "display_name": "pyfuel",
   "language": "python",
   "name": "python3"
  },
  "language_info": {
   "codemirror_mode": {
    "name": "ipython",
    "version": 3
   },
   "file_extension": ".py",
   "mimetype": "text/x-python",
   "name": "python",
   "nbconvert_exporter": "python",
   "pygments_lexer": "ipython3",
   "version": "3.10.18"
  }
 },
 "nbformat": 4,
 "nbformat_minor": 5
}
