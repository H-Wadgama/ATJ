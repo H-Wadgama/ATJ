{
 "cells": [
  {
   "cell_type": "code",
   "execution_count": 1,
   "id": "54e02b68",
   "metadata": {},
   "outputs": [],
   "source": [
    "# Global imports\n",
    "import biosteam as bst, thermosteam as tmo"
   ]
  },
  {
   "cell_type": "code",
   "execution_count": 2,
   "id": "bbf549fc",
   "metadata": {},
   "outputs": [],
   "source": [
    "# Local imports\n",
    "from atj_saf.atj_bst.atj_bst_chemicals import *\n",
    "from atj_saf.atj_bst.atj_bst_utils import feed_parameters, dehyd_data, olig_data, prod_selectivity, hydgn_data, price_data\n",
    "from atj_saf.atj_bst.atj_bst_units import AdiabaticReactor, IsothermalReactor, EthanolStorageTank, HydrocarbonProductTank, HydrogenStorageTank\n",
    "from atj_saf.atj_bst.atj_bst_tea_saf import ConventionalEthanolTEA"
   ]
  },
  {
   "cell_type": "code",
   "execution_count": 3,
   "id": "99caebca",
   "metadata": {},
   "outputs": [],
   "source": [
    "atj_chems = create_chemicals()\n",
    "bst.settings.set_thermo(atj_chems) # Setting thermodynamic property pacakge for the chemicals\n"
   ]
  },
  {
   "cell_type": "code",
   "execution_count": 4,
   "id": "cb2c1a20",
   "metadata": {},
   "outputs": [],
   "source": [
    "bst.settings.CEPCI = 800.8 # For the year 2023 from https://personalpages.manchester.ac.uk/staff/tom.rodgers/Interactive_graphs/CEPCI.html?reactors/CEPCI/index.html"
   ]
  },
  {
   "cell_type": "code",
   "execution_count": 5,
   "id": "a3ee9bc4",
   "metadata": {},
   "outputs": [],
   "source": [
    "etoh_flow = 7485.07 # [kg/hr] Just adding this here, This will change once model is integrated with Kays "
   ]
  },
  {
   "cell_type": "code",
   "execution_count": 6,
   "id": "0a8fa330",
   "metadata": {},
   "outputs": [],
   "source": [
    "# Bioethanol feed\n",
    "etoh_in = bst.Stream(\n",
    "    'etoh_in',\n",
    "    Ethanol = etoh_flow,\n",
    "    Water =  etoh_flow*((1-feed_parameters['purity'])/(feed_parameters['purity'])),\n",
    "    units = 'kg/hr',\n",
    "    T = feed_parameters['temperature'],\n",
    "    P = feed_parameters['pressure'],\n",
    "    phase = feed_parameters['phase'])\n",
    "\n",
    "\n"
   ]
  },
  {
   "cell_type": "code",
   "execution_count": 7,
   "id": "eedb27bf",
   "metadata": {},
   "outputs": [],
   "source": [
    " # Reactions\n",
    "\n",
    "#1) Gas phase dehydration of ethanol to ethylene \n",
    "dehydration_rxn = bst.Reaction('Ethanol,g -> Water,g + Ethylene,g', reactant = 'Ethanol', \n",
    "                            X = dehyd_data['conv'], phases = 'lg',  basis = 'mol')\n",
    "\n",
    "\n",
    "#2) Ethylene oligomerization to olefins in gas and liquid phase\n",
    "oligomerization_rxn = bst.ParallelReaction([\n",
    "# Reaction definition                                     # Reactant                    # Conversion\n",
    "bst.Reaction('2Ethylene,g -> Butene,g',            reactant = 'Ethylene',     X = olig_data['conv']*prod_selectivity['C4H8'],    basis = 'mol',  phases = 'lg',  correct_atomic_balance = True),\n",
    "bst.Reaction('1.5Ethylene,g -> Hex-1-ene,g',       reactant = 'Ethylene',     X = olig_data['conv']*prod_selectivity['C6H12'],   basis = 'mol',  phases = 'lg',  correct_atomic_balance = True),\n",
    "bst.Reaction('5Ethylene,g -> Dec-1-ene,l',         reactant = 'Ethylene',     X = olig_data['conv']*prod_selectivity['C10H20'],  basis = 'mol',  phases = 'lg',  correct_atomic_balance = True),\n",
    "bst.Reaction('9Ethylene,g -> Octadec-1-ene,l',     reactant = 'Ethylene',     X = olig_data['conv']*prod_selectivity['C18H36'],  basis = 'mol',  phases = 'lg',  correct_atomic_balance = True)])\n",
    "\n",
    "\n",
    "hydrogenation_rxn = bst.ParallelReaction([\n",
    "# Reaction definition                                           # Reactant                    # Conversion\n",
    "bst.Reaction('Butene,g + Hydrogen,g -> Butane,g',               reactant = 'Butene',          X = hydgn_data['conv'],  basis = 'mol',  phases = 'lg',  correct_atomic_balance = True),\n",
    "bst.Reaction('Butene,l + Hydrogen,g -> Butane,l',               reactant = 'Butene',          X = hydgn_data['conv'],  basis = 'mol',  phases = 'lg',  correct_atomic_balance = True),\n",
    "bst.Reaction('Hex-1-ene,g + Hydrogen,g -> Hexane,g',            reactant = 'Hex-1-ene',       X = hydgn_data['conv'],  basis = 'mol',  phases = 'lg',  correct_atomic_balance = True),\n",
    "bst.Reaction('Hex-1-ene,l + Hydrogen,g -> Hexane,l',            reactant = 'Hex-1-ene',       X = hydgn_data['conv'],  basis = 'mol',  phases = 'lg',  correct_atomic_balance = True),\n",
    "bst.Reaction('Dec-1-ene,l + Hydrogen,g -> Decane,l',            reactant = 'Dec-1-ene',       X = hydgn_data['conv'],  basis = 'mol',  phases = 'lg',  correct_atomic_balance = True),\n",
    "bst.Reaction('Dec-1-ene,g + Hydrogen,g -> Decane,g',            reactant = 'Dec-1-ene',       X = hydgn_data['conv'],  basis = 'mol',  phases = 'lg',  correct_atomic_balance = True),\n",
    "bst.Reaction('Octadec-1-ene,l + Hydrogen,g -> Octadecane,l',    reactant = 'Octadec-1-ene',   X = hydgn_data['conv'],  basis = 'mol',  phases = 'lg',  correct_atomic_balance = True),\n",
    "bst.Reaction('Octadec-1-ene,g + Hydrogen,g -> Octadecane,g',    reactant = 'Octadec-1-ene',   X = hydgn_data['conv'],  basis = 'mol',  phases = 'lg',  correct_atomic_balance = True)])\n"
   ]
  },
  {
   "cell_type": "code",
   "execution_count": 8,
   "id": "af2acbf3",
   "metadata": {},
   "outputs": [],
   "source": [
    "# Recycle streams\n",
    "dehyd_recycle = bst.MultiStream('dehyd_recycle', phases = ('g','l'))         # Unreacted ethanol\n",
    "ethylene_recycle = bst.MultiStream('ethylene_recycle', phases = ('g','l'))   # Unreacted ethylene   \n",
    "h2_recycle= bst.Stream(ID = 'h2_recycle', P = 3e6, phase = 'g')            # Excess hydrogen\n"
   ]
  },
  {
   "cell_type": "code",
   "execution_count": 9,
   "id": "c23cde03",
   "metadata": {},
   "outputs": [
    {
     "name": "stderr",
     "output_type": "stream",
     "text": [
      "c:\\Users\\hwadg\\anaconda3\\envs\\pyfuel\\lib\\site-packages\\biosteam\\_unit.py:986: RuntimeWarning: the purchase cost item, 'Total Cost', has no defined bare-module factor in the 'EthanolStorageTank.F_BM' dictionary; bare-module factor now has a default value of 1\n",
      "  warn(f\"the purchase cost item, '{name}', has \"\n"
     ]
    }
   ],
   "source": [
    "etoh_storage = EthanolStorageTank(ins = etoh_in)\n",
    "etoh_storage.simulate()\n",
    "\n",
    "\n",
    "pump_1 = bst.units.Pump('PUMP1', ins = etoh_storage.outs[0], P = 1373000)    \n",
    "pump_1.simulate()\n",
    "\n",
    "furnace_1 = bst.units.HXutility('FURNACE_1', ins = pump_1.outs[0], T = 500, rigorous = True)\n",
    "furnace_1.simulate()\n",
    "\n",
    "mixer_1 = bst.units.Mixer('MIXER_1', ins = (furnace_1.outs[0], dehyd_recycle), rigorous = True)\n",
    "mixer_1.simulate()\n",
    "\n",
    "furnace_2 =  bst.units.HXutility('FURNACE_2', ins = mixer_1.outs[0], T = 481 + 273.15, rigorous = True)\n",
    "furnace_2.simulate()"
   ]
  },
  {
   "cell_type": "code",
   "execution_count": 10,
   "id": "4541343a",
   "metadata": {},
   "outputs": [
    {
     "name": "stderr",
     "output_type": "stream",
     "text": [
      "c:\\Users\\hwadg\\anaconda3\\envs\\pyfuel\\lib\\site-packages\\biosteam\\_unit.py:986: RuntimeWarning: the purchase cost item, 'Vertical pressure vessel', has no defined bare-module factor in the 'AdiabaticReactor.F_BM' dictionary; bare-module factor now has a default value of 1\n",
      "  warn(f\"the purchase cost item, '{name}', has \"\n",
      "c:\\Users\\hwadg\\anaconda3\\envs\\pyfuel\\lib\\site-packages\\biosteam\\_unit.py:986: RuntimeWarning: the purchase cost item, 'Platform and ladders', has no defined bare-module factor in the 'AdiabaticReactor.F_BM' dictionary; bare-module factor now has a default value of 1\n",
      "  warn(f\"the purchase cost item, '{name}', has \"\n",
      "c:\\Users\\hwadg\\anaconda3\\envs\\pyfuel\\lib\\site-packages\\biosteam\\_unit.py:986: RuntimeWarning: the purchase cost item, 'Catalyst loading cost', has no defined bare-module factor in the 'AdiabaticReactor.F_BM' dictionary; bare-module factor now has a default value of 1\n",
      "  warn(f\"the purchase cost item, '{name}', has \"\n"
     ]
    }
   ],
   "source": [
    "dehyd_1 = AdiabaticReactor('DEHYD_1', ins = furnace_2.outs[0],\n",
    "                        conversion = dehyd_data['conv'],\n",
    "                        temperature = dehyd_data['temp'],\n",
    "                        pressure = dehyd_data['pressure'],\n",
    "                        WHSV = dehyd_data['whsv'],\n",
    "                        catalyst_price=price_data['dehydration_catalyst'],\n",
    "                        catalyst_lifetime = dehyd_data['catalyst_lifetime'],\n",
    "                        reaction = dehydration_rxn)\n",
    "dehyd_1.simulate()"
   ]
  },
  {
   "cell_type": "code",
   "execution_count": 11,
   "id": "fcda2f42",
   "metadata": {},
   "outputs": [
    {
     "data": {
      "text/html": [
       "<div>\n",
       "<style scoped>\n",
       "    .dataframe tbody tr th:only-of-type {\n",
       "        vertical-align: middle;\n",
       "    }\n",
       "\n",
       "    .dataframe tbody tr th {\n",
       "        vertical-align: top;\n",
       "    }\n",
       "\n",
       "    .dataframe thead th {\n",
       "        text-align: right;\n",
       "    }\n",
       "</style>\n",
       "<table border=\"1\" class=\"dataframe\">\n",
       "  <thead>\n",
       "    <tr style=\"text-align: right;\">\n",
       "      <th></th>\n",
       "      <th>Adiabatic reactor</th>\n",
       "      <th>Units</th>\n",
       "      <th>DEHYD_1</th>\n",
       "    </tr>\n",
       "  </thead>\n",
       "  <tbody>\n",
       "    <tr>\n",
       "      <th rowspan=\"8\" valign=\"top\">Design</th>\n",
       "      <th>Vessel type</th>\n",
       "      <td></td>\n",
       "      <td>Vertical</td>\n",
       "    </tr>\n",
       "    <tr>\n",
       "      <th>Length</th>\n",
       "      <td>ft</td>\n",
       "      <td>25.3</td>\n",
       "    </tr>\n",
       "    <tr>\n",
       "      <th>Diameter</th>\n",
       "      <td>ft</td>\n",
       "      <td>8.44</td>\n",
       "    </tr>\n",
       "    <tr>\n",
       "      <th>Weight</th>\n",
       "      <td></td>\n",
       "      <td>2.76e+04</td>\n",
       "    </tr>\n",
       "    <tr>\n",
       "      <th>Wall thickness</th>\n",
       "      <td>in</td>\n",
       "      <td>0.803</td>\n",
       "    </tr>\n",
       "    <tr>\n",
       "      <th>Catalyst Weight</th>\n",
       "      <td>kg</td>\n",
       "      <td>2.51e+04</td>\n",
       "    </tr>\n",
       "    <tr>\n",
       "      <th>Volume</th>\n",
       "      <td>L</td>\n",
       "      <td>4.01e+04</td>\n",
       "    </tr>\n",
       "    <tr>\n",
       "      <th>Duty</th>\n",
       "      <td>kJ/hr</td>\n",
       "      <td>0</td>\n",
       "    </tr>\n",
       "    <tr>\n",
       "      <th rowspan=\"3\" valign=\"top\">Purchase cost</th>\n",
       "      <th>Vertical pressure vessel</th>\n",
       "      <td>USD</td>\n",
       "      <td>2.67e+05</td>\n",
       "    </tr>\n",
       "    <tr>\n",
       "      <th>Platform and ladders</th>\n",
       "      <td>USD</td>\n",
       "      <td>2.75e+04</td>\n",
       "    </tr>\n",
       "    <tr>\n",
       "      <th>Catalyst loading cost</th>\n",
       "      <td>USD</td>\n",
       "      <td>9.23e+05</td>\n",
       "    </tr>\n",
       "    <tr>\n",
       "      <th>Total purchase cost</th>\n",
       "      <th></th>\n",
       "      <td>USD</td>\n",
       "      <td>1.22e+06</td>\n",
       "    </tr>\n",
       "    <tr>\n",
       "      <th>Utility cost</th>\n",
       "      <th></th>\n",
       "      <td>USD/hr</td>\n",
       "      <td>0</td>\n",
       "    </tr>\n",
       "  </tbody>\n",
       "</table>\n",
       "</div>"
      ],
      "text/plain": [
       "Adiabatic reactor                              Units   DEHYD_1\n",
       "Design              Vessel type                       Vertical\n",
       "                    Length                        ft      25.3\n",
       "                    Diameter                      ft      8.44\n",
       "                    Weight                            2.76e+04\n",
       "                    Wall thickness                in     0.803\n",
       "                    Catalyst Weight               kg  2.51e+04\n",
       "                    Volume                         L  4.01e+04\n",
       "                    Duty                       kJ/hr         0\n",
       "Purchase cost       Vertical pressure vessel     USD  2.67e+05\n",
       "                    Platform and ladders         USD  2.75e+04\n",
       "                    Catalyst loading cost        USD  9.23e+05\n",
       "Total purchase cost                              USD  1.22e+06\n",
       "Utility cost                                  USD/hr         0"
      ]
     },
     "execution_count": 11,
     "metadata": {},
     "output_type": "execute_result"
    }
   ],
   "source": [
    "dehyd_1.results()"
   ]
  },
  {
   "cell_type": "code",
   "execution_count": 12,
   "id": "7b795dbf",
   "metadata": {},
   "outputs": [],
   "source": [
    "# Dehydration catalyst replacement stream\n",
    "syndol_wt = dehyd_1.get_design_result('Catalyst Weight', 'kg')\n",
    "syndol_req = syndol_wt/dehyd_data['catalyst_lifetime']\n",
    "syndol_replacement = bst.Stream(Syndol = syndol_req, phase = 's', units = 'kg/yr' )"
   ]
  },
  {
   "cell_type": "code",
   "execution_count": 13,
   "id": "d76a12d8",
   "metadata": {},
   "outputs": [
    {
     "name": "stderr",
     "output_type": "stream",
     "text": [
      "c:\\Users\\hwadg\\anaconda3\\envs\\pyfuel\\lib\\site-packages\\thermosteam\\equilibrium\\bubble_point.py:128: RuntimeWarning: Ethylene has no defined Dortmund groups; functional group interactions are ignored\n",
      "  self.gamma = thermo.Gamma(chemicals)\n",
      "c:\\Users\\hwadg\\anaconda3\\envs\\pyfuel\\lib\\site-packages\\biosteam\\units\\design_tools\\pressure_vessel.py:104: CostWarning: \u001b[38;2;229;63;229m<Flash: FLASH_1>\u001b[0m Vertical vessel weight (314.6 lb) is out of bounds (4200 to 1e+06 lb) for cost correlation\n",
      "  return method(pressure, diameter, length)\n",
      "c:\\Users\\hwadg\\anaconda3\\envs\\pyfuel\\lib\\site-packages\\biosteam\\units\\design_tools\\pressure_vessel.py:104: CostWarning: \u001b[38;2;229;63;229m<Flash: FLASH_1>\u001b[0m Vertical vessel length (5.5 ft) is out of bounds (12 to 40 ft) for cost correlation\n",
      "  return method(pressure, diameter, length)\n",
      "c:\\Users\\hwadg\\anaconda3\\envs\\pyfuel\\lib\\site-packages\\biosteam\\_unit.py:1241: CostWarning: \u001b[38;2;229;63;229m<IsentropicCompressor: COMP_2>\u001b[0m power (37.22 hp) is out of bounds (200 to 3e+04 hp) for cost correlation\n",
      "  self._cost(**cost_kwargs) if cost_kwargs else self._cost()\n",
      "c:\\Users\\hwadg\\anaconda3\\envs\\pyfuel\\lib\\site-packages\\thermosteam\\equilibrium\\dew_point.py:129: RuntimeWarning: Ethylene has no defined Dortmund groups; functional group interactions are ignored\n",
      "  self.gamma = thermo.Gamma(chemicals)\n",
      "c:\\Users\\hwadg\\anaconda3\\envs\\pyfuel\\lib\\site-packages\\biosteam\\units\\design_tools\\pressure_vessel.py:104: CostWarning: \u001b[38;2;229;63;229m<RefluxDrum: reflux_drum>\u001b[0m Vertical vessel weight (651.7 lb) is out of bounds (4200 to 1e+06 lb) for cost correlation\n",
      "  return method(pressure, diameter, length)\n",
      "c:\\Users\\hwadg\\anaconda3\\envs\\pyfuel\\lib\\site-packages\\biosteam\\units\\design_tools\\pressure_vessel.py:104: CostWarning: \u001b[38;2;229;63;229m<RefluxDrum: reflux_drum>\u001b[0m Vertical vessel length (5.5 ft) is out of bounds (12 to 40 ft) for cost correlation\n",
      "  return method(pressure, diameter, length)\n"
     ]
    }
   ],
   "source": [
    "splitter_1 = bst.units.Splitter(ins = dehyd_1.outs[0], outs = ('flash_in', dehyd_recycle), split = 0.3)\n",
    "splitter_1.simulate()\n",
    "\n",
    "flash_1 = bst.units.Flash('FLASH_1', ins = splitter_1.outs[0], outs = ('ETHYLENE_WATER', 'WW_1'), T= 420,  P = 1.063e6)\n",
    "flash_1.simulate()\n",
    "\n",
    "\n",
    "comp_1 = bst.units.IsentropicCompressor('COMP_1', ins = flash_1.outs[0], P = 2e6, vle = True, eta = 0.72, driver_efficiency = 1)\n",
    "comp_1.simulate()   \n",
    "\n",
    "distillation_1 = bst.units.BinaryDistillation('DISTILLATION_1', ins = comp_1.outs[0], \n",
    "                                            outs = ('ethylene_water', 'WW'),\n",
    "                                LHK = ('Ethylene', 'Water'), \n",
    "                                P = 2e+06,\n",
    "                                y_top = 0.999, x_bot = 0.001, k = 2,\n",
    "                                is_divided = True)\n",
    "# distillation_1.check_LHK = False   # Does not check for volatile components that might show up in lights\n",
    "distillation_1.simulate()\n",
    "\n",
    "comp_2 = bst.units.IsentropicCompressor('COMP_2', ins = distillation_1.outs[0], P = olig_data['pressure'], vle = True, eta = 0.72, driver_efficiency = 1)\n",
    "comp_2.simulate()\n",
    "\n",
    "distillation_2 = bst.units.BinaryDistillation('DISTILLATION_2', ins = comp_2.outs[0],\n",
    "                                LHK = ('Ethylene', 'Ethanol'),\n",
    "                                P = 3.5e+06,\n",
    "                                y_top = 0.9999, x_bot = 0.0001, k = 2,\n",
    "                                is_divided = True)\n",
    "distillation_2.simulate()\n",
    "\n",
    "cooler_1 = bst.units.HXutility('COOLER_1', ins = distillation_2.outs[1], outs = 'WW_2', T = 300, rigorous = True)\n",
    "cooler_1.simulate()\n",
    "\n",
    "splitter_2 = bst.units.Splitter('SPLIT2', ins = distillation_1.outs[1], split = 0.6)\n",
    "splitter_2.simulate()\n",
    "\n",
    "\n",
    "\n",
    "cooler_2 = bst.units.HXutility('COOLER_2', ins = splitter_2.outs[0], outs = 'WW_3', T = 300, rigorous = True)\n",
    "cooler_2.simulate()\n",
    "\n",
    "cooler_3 = bst.units.HXutility('COOLER_3', ins = distillation_2.outs[0], T = 393.15, rigorous = True)\n",
    "cooler_3.simulate()\n",
    "\n",
    "mixer_2 = bst.units.Mixer(ID = 'MIXER_3', ins = (cooler_3.outs[0],ethylene_recycle), rigorous = True)\n",
    "mixer_2.simulate()\n"
   ]
  },
  {
   "cell_type": "code",
   "execution_count": 14,
   "id": "a9cd91f8",
   "metadata": {},
   "outputs": [
    {
     "name": "stdout",
     "output_type": "stream",
     "text": [
      "CompiledChemicals([Water, Ethanol, AceticAcid, Furfural, Glycerol, H2SO4, NH3, LacticAcid, SuccinicAcid, P4O10, Lime, HNO3, NH4OH, Denaturant, DAP, AmmoniumAcetate, AmmoniumSulfate, NaNO3, Oil, HMF, N2, O2, CH4, H2S, SO2, CO2, NO2, NO, CO, Glucose, Xylose, Sucrose, CaSO4, Mannose, Galactose, Arabinose, CellulaseNutrients, Extract, Acetate, Tar, Ash, NaOH, Lignin, SolubleLignin, GlucoseOligomer, GalactoseOligomer, MannoseOligomer, XyloseOligomer, ArabinoseOligomer, Z_mobilis, T_reesei, Biomass, Cellulose, Protein, Enzyme, Glucan, Xylan, Xylitol, Cellobiose, CSL, DenaturedEnzyme, Arabinan, Mannan, Galactan, WWTsludge, Cellulase, Ethylene, Butene, Hex-1-ene, Dec-1-ene, Octadec-1-ene, Butane, Hexane, Octane, Decane, Octadecane, Hydrogen, Syndol, Nickel_SiAl, CobaltMolybdenum])\n"
     ]
    }
   ],
   "source": [
    "atj_chems"
   ]
  },
  {
   "cell_type": "code",
   "execution_count": 15,
   "id": "3c0876f8",
   "metadata": {},
   "outputs": [
    {
     "name": "stderr",
     "output_type": "stream",
     "text": [
      "c:\\users\\hwadg\\onedrive - the pennsylvania state university\\shi_wadgama_shared\\models\\atjspk\\atj_saf\\atj_bst\\atj_bst_units.py:224: CostWarning: \u001b[38;2;229;63;229m<IsothermalReactor: OLIG_1>\u001b[0m Vertical vessel weight (3213 lb) is out of bounds (4200 to 1e+06 lb) for cost correlation\n",
      "  self._vertical_vessel_design(\n",
      "c:\\users\\hwadg\\onedrive - the pennsylvania state university\\shi_wadgama_shared\\models\\atjspk\\atj_saf\\atj_bst\\atj_bst_units.py:224: CostWarning: \u001b[38;2;229;63;229m<IsothermalReactor: OLIG_1>\u001b[0m Vertical vessel length (8.367 ft) is out of bounds (12 to 40 ft) for cost correlation\n",
      "  self._vertical_vessel_design(\n",
      "c:\\Users\\hwadg\\anaconda3\\envs\\pyfuel\\lib\\site-packages\\biosteam\\_unit.py:986: RuntimeWarning: the purchase cost item, 'Vertical pressure vessel', has no defined bare-module factor in the 'IsothermalReactor.F_BM' dictionary; bare-module factor now has a default value of 1\n",
      "  warn(f\"the purchase cost item, '{name}', has \"\n",
      "c:\\Users\\hwadg\\anaconda3\\envs\\pyfuel\\lib\\site-packages\\biosteam\\_unit.py:986: RuntimeWarning: the purchase cost item, 'Platform and ladders', has no defined bare-module factor in the 'IsothermalReactor.F_BM' dictionary; bare-module factor now has a default value of 1\n",
      "  warn(f\"the purchase cost item, '{name}', has \"\n",
      "c:\\Users\\hwadg\\anaconda3\\envs\\pyfuel\\lib\\site-packages\\biosteam\\_unit.py:986: RuntimeWarning: the purchase cost item, 'Catalyst loading cost', has no defined bare-module factor in the 'IsothermalReactor.F_BM' dictionary; bare-module factor now has a default value of 1\n",
      "  warn(f\"the purchase cost item, '{name}', has \"\n"
     ]
    }
   ],
   "source": [
    "olig_1 = IsothermalReactor('OLIG_1', ins = mixer_2.outs[0],\n",
    "                            conversion = olig_data['conv'],\n",
    "                            temperature = olig_data['temp'],\n",
    "                            pressure = olig_data['pressure'],\n",
    "                            WHSV = olig_data['whsv'],\n",
    "                            catalyst_price = price_data['oligomerization_catalyst'],\n",
    "                        reaction = oligomerization_rxn)\n",
    "olig_1.simulate()\n",
    "# Oligomerization catalyst replacement stream\n"
   ]
  },
  {
   "cell_type": "code",
   "execution_count": 16,
   "id": "57eb8311",
   "metadata": {},
   "outputs": [],
   "source": [
    "# Oligomerization catalyst replacement\n",
    "ni_si_al_wt = olig_1.get_design_result('Catalyst Weight', 'kg')\n",
    "ni_si_al_req = ni_si_al_wt/olig_data['catalyst_lifetime']\n",
    "ni_si_al_replacement = bst.Stream(Nickel_SiAl = ni_si_al_req, phase = 's', units = 'kg/yr' )"
   ]
  },
  {
   "cell_type": "code",
   "execution_count": 17,
   "id": "272112d8",
   "metadata": {},
   "outputs": [
    {
     "name": "stderr",
     "output_type": "stream",
     "text": [
      "c:\\Users\\hwadg\\anaconda3\\envs\\pyfuel\\lib\\site-packages\\biosteam\\_unit.py:986: RuntimeWarning: the purchase cost item, 'Total Cost', has no defined bare-module factor in the 'HydrogenStorageTank.F_BM' dictionary; bare-module factor now has a default value of 1\n",
      "  warn(f\"the purchase cost item, '{name}', has \"\n",
      "c:\\Users\\hwadg\\anaconda3\\envs\\pyfuel\\lib\\site-packages\\thermosteam\\equilibrium\\bubble_point.py:128: RuntimeWarning: Hydrogen has no defined Dortmund groups; functional group interactions are ignored\n",
      "  self.gamma = thermo.Gamma(chemicals)\n"
     ]
    }
   ],
   "source": [
    "splitter_3 = bst.units.Splitter('SPLIITER_3', ins = olig_1.outs[0], outs = (ethylene_recycle,'oligs'),  split = {'Ethylene':1.0})\n",
    "splitter_3.simulate()\n",
    "\n",
    "h2_in = bst.Stream(ID = 'h2_in',  P = 3e6, phase= 'g')\n",
    "mixer_3 = bst.units.Mixer('mix_try', ins = (h2_in, h2_recycle), rigorous = True)\n",
    "@mixer_3.add_specification(run = True)\n",
    "def h2_flow():\n",
    "    h2_flow = 3*((olig_1.outs[0].imol['Butene'] + olig_1.outs[0].imol['Hex-1-ene']\n",
    "                    + olig_1.outs[0].imol['Dec-1-ene'] + olig_1.outs[0].imol['Octadec-1-ene']))\n",
    "    \n",
    "    h2_in.imol['Hydrogen'] = h2_flow - h2_recycle.imol['Hydrogen']\n",
    "mixer_3.simulate()\n",
    "\n",
    "h2_storage = HydrogenStorageTank('H2_STORAGE',ins = mixer_3.outs[0])\n",
    "h2_storage.simulate()\n",
    "\n",
    "\n",
    "mixer_4 = bst.units.Mixer(ins = (h2_storage.outs[0], splitter_3.outs[1]), rigorous = True)\n",
    "mixer_4.simulate()\n",
    "\n",
    "\n",
    "cooler_4 = bst.units.HXutility('COOLER_4', ins = splitter_2.outs[1], outs = 'WW_4', T = 300, rigorous = True)\n",
    "cooler_4.simulate()\n",
    "\n",
    "furnace_3 = bst.units.HXutility('FURNACE_3', mixer_4.outs[0], T = 350 +273.15, rigorous = True)\n",
    "furnace_3.simulate()\n",
    "\n"
   ]
  },
  {
   "cell_type": "code",
   "execution_count": 18,
   "id": "6366ba50",
   "metadata": {},
   "outputs": [
    {
     "name": "stderr",
     "output_type": "stream",
     "text": [
      "c:\\users\\hwadg\\onedrive - the pennsylvania state university\\shi_wadgama_shared\\models\\atjspk\\atj_saf\\atj_bst\\atj_bst_units.py:92: CostWarning: \u001b[38;2;229;63;229m<AdiabaticReactor: hydgn>\u001b[0m Vertical vessel weight (1749 lb) is out of bounds (4200 to 1e+06 lb) for cost correlation\n",
      "  self._vertical_vessel_design(\n",
      "c:\\users\\hwadg\\onedrive - the pennsylvania state university\\shi_wadgama_shared\\models\\atjspk\\atj_saf\\atj_bst\\atj_bst_units.py:92: CostWarning: \u001b[38;2;229;63;229m<AdiabaticReactor: hydgn>\u001b[0m Vertical vessel length (6.755 ft) is out of bounds (12 to 40 ft) for cost correlation\n",
      "  self._vertical_vessel_design(\n",
      "c:\\Users\\hwadg\\anaconda3\\envs\\pyfuel\\lib\\site-packages\\biosteam\\_unit.py:986: RuntimeWarning: the purchase cost item, 'Vertical pressure vessel', has no defined bare-module factor in the 'AdiabaticReactor.F_BM' dictionary; bare-module factor now has a default value of 1\n",
      "  warn(f\"the purchase cost item, '{name}', has \"\n",
      "c:\\Users\\hwadg\\anaconda3\\envs\\pyfuel\\lib\\site-packages\\biosteam\\_unit.py:986: RuntimeWarning: the purchase cost item, 'Platform and ladders', has no defined bare-module factor in the 'AdiabaticReactor.F_BM' dictionary; bare-module factor now has a default value of 1\n",
      "  warn(f\"the purchase cost item, '{name}', has \"\n",
      "c:\\Users\\hwadg\\anaconda3\\envs\\pyfuel\\lib\\site-packages\\biosteam\\_unit.py:986: RuntimeWarning: the purchase cost item, 'Catalyst loading cost', has no defined bare-module factor in the 'AdiabaticReactor.F_BM' dictionary; bare-module factor now has a default value of 1\n",
      "  warn(f\"the purchase cost item, '{name}', has \"\n"
     ]
    }
   ],
   "source": [
    "hydgn_1 = AdiabaticReactor('hydgn', ins = furnace_3.outs[0],\n",
    "                        conversion = hydgn_data['conv'],\n",
    "                        temperature = hydgn_data['temp'],\n",
    "                        pressure = hydgn_data['pressure'],\n",
    "                        WHSV = hydgn_data['whsv'],\n",
    "                        catalyst_price = price_data['hydrogenation_catalyst'],\n",
    "                        reaction = hydrogenation_rxn)\n",
    "hydgn_1.simulate()"
   ]
  },
  {
   "cell_type": "code",
   "execution_count": 19,
   "id": "83ee4dab",
   "metadata": {},
   "outputs": [],
   "source": [
    "# Hydrogenation catalyst replacement\n",
    "co_mo_wt = hydgn_1.get_design_result('Catalyst Weight', 'kg')\n",
    "co_mo_req = co_mo_wt/hydgn_data['catalyst_lifetime']\n",
    "co_mo_replacement = bst.Stream(CobaltMolybdenum = co_mo_req, phase = 's', units = 'kg/yr' )"
   ]
  },
  {
   "cell_type": "code",
   "execution_count": 20,
   "id": "70838843",
   "metadata": {},
   "outputs": [
    {
     "name": "stderr",
     "output_type": "stream",
     "text": [
      "c:\\Users\\hwadg\\anaconda3\\envs\\pyfuel\\lib\\site-packages\\thermosteam\\equilibrium\\dew_point.py:129: RuntimeWarning: Hydrogen has no defined Dortmund groups; functional group interactions are ignored\n",
      "  self.gamma = thermo.Gamma(chemicals)\n",
      "c:\\Users\\hwadg\\anaconda3\\envs\\pyfuel\\lib\\site-packages\\biosteam\\units\\design_tools\\pressure_vessel.py:104: CostWarning: \u001b[38;2;229;63;229m<RefluxDrum: reflux_drum>\u001b[0m Vertical vessel weight (255.2 lb) is out of bounds (4200 to 1e+06 lb) for cost correlation\n",
      "  return method(pressure, diameter, length)\n",
      "c:\\Users\\hwadg\\anaconda3\\envs\\pyfuel\\lib\\site-packages\\biosteam\\units\\design_tools\\pressure_vessel.py:104: CostWarning: \u001b[38;2;229;63;229m<RefluxDrum: reflux_drum>\u001b[0m Vertical vessel length (4.5 ft) is out of bounds (12 to 40 ft) for cost correlation\n",
      "  return method(pressure, diameter, length)\n",
      "c:\\Users\\hwadg\\anaconda3\\envs\\pyfuel\\lib\\site-packages\\biosteam\\_unit.py:986: RuntimeWarning: the purchase cost item, 'Total Cost', has no defined bare-module factor in the 'HydrocarbonProductTank.F_BM' dictionary; bare-module factor now has a default value of 1\n",
      "  warn(f\"the purchase cost item, '{name}', has \"\n"
     ]
    }
   ],
   "source": [
    "cooler_5 = bst.units.HXutility('COOLER_5', ins = hydgn_1.outs[0], T = 250, rigorous = True)\n",
    "cooler_5.simulate()\n",
    "flash_2 = bst.units.Flash(ins = cooler_5-0, T = 250, P = 5e5, outs = (h2_recycle, 'fuel'))\n",
    "flash_2.simulate()\n",
    "\n",
    "distillation_3 = bst.units.BinaryDistillation('DISTILLATION_3', ins = flash_2.outs[1],\n",
    "                                outs = ('distillate', 'bottoms'),\n",
    "                                LHK = ('Hexane', 'Decane'),\n",
    "                                y_top = 0.99, x_bot = 0.01, k = 2,\n",
    "                                is_divided = True)\n",
    "#distillation_3.check_LHK = False\n",
    "distillation_3.simulate()\n",
    "\n",
    "distillation_4 = bst.units.BinaryDistillation('DISTILLATION_4', ins = distillation_3.outs[1],\n",
    "                                outs = ('distillate_1', 'bottoms_1'),\n",
    "                                LHK = ('Decane', 'Octadecane'),\n",
    "                                y_top = 0.99, x_bot = 0.01, k = 2,\n",
    "                                is_divided = True)\n",
    "distillation_4.simulate()\n",
    "\n",
    "cooler_6 = bst.units.HXutility('COOLER_6', ins = distillation_3.outs[0]\n",
    "                            ,V = 0, rigorous = True)\n",
    "cooler_6.simulate()\n",
    "\n",
    "\n",
    "cooler_7 = bst.units.HXutility('COOLER_7', ins = distillation_4.outs[0],T = 15+273.15, rigorous = True)\n",
    "cooler_7.simulate()\n",
    "cooler_7.outs[0].phase = 'l'   # Just setting it as liquid, because rigorous = True gives both l and g phases. \n",
    "                               # Actual phase is liquid only so asserting phase like this is fine\n",
    "\n",
    "cooler_8 = bst.units.HXutility('COOLER_8', ins = distillation_4.outs[1],T = 15+273.15, rigorous = True)\n",
    "cooler_8.simulate()\n",
    "cooler_8.outs[0].phase = 'l'\n",
    "\n",
    "\n",
    "rn_storage = HydrocarbonProductTank('RN_STORAGE', ins = cooler_6.outs[0], outs = 'RN')\n",
    "rn_storage.simulate()\n",
    "\n",
    "saf_storage = HydrocarbonProductTank('SAF_STORAGE', ins = cooler_7.outs[0], outs = 'SAF')\n",
    "saf_storage.simulate()\n",
    "\n",
    "\n",
    "rd_storage = HydrocarbonProductTank('RD_STORAGE', ins = cooler_8.outs[0], outs = 'RD')\n",
    "rd_storage.simulate()"
   ]
  },
  {
   "cell_type": "code",
   "execution_count": 21,
   "id": "5d66f834",
   "metadata": {},
   "outputs": [
    {
     "name": "stderr",
     "output_type": "stream",
     "text": [
      "c:\\Users\\hwadg\\anaconda3\\envs\\pyfuel\\lib\\site-packages\\biosteam\\units\\design_tools\\pressure_vessel.py:104: CostWarning: \u001b[38;2;229;63;229m<Flash: FLASH_1>\u001b[0m Vertical vessel weight (860.9 lb) is out of bounds (4200 to 1e+06 lb) for cost correlation\n",
      "  return method(pressure, diameter, length)\n",
      "c:\\Users\\hwadg\\anaconda3\\envs\\pyfuel\\lib\\site-packages\\biosteam\\units\\design_tools\\pressure_vessel.py:104: CostWarning: \u001b[38;2;229;63;229m<Flash: FLASH_1>\u001b[0m Vertical vessel length (6.5 ft) is out of bounds (12 to 40 ft) for cost correlation\n",
      "  return method(pressure, diameter, length)\n",
      "c:\\Users\\hwadg\\anaconda3\\envs\\pyfuel\\lib\\site-packages\\biosteam\\_unit.py:1241: CostWarning: \u001b[38;2;229;63;229m<IsentropicCompressor: COMP_2>\u001b[0m power (122.4 hp) is out of bounds (200 to 3e+04 hp) for cost correlation\n",
      "  self._cost(**cost_kwargs) if cost_kwargs else self._cost()\n",
      "c:\\Users\\hwadg\\anaconda3\\envs\\pyfuel\\lib\\site-packages\\biosteam\\units\\design_tools\\pressure_vessel.py:104: CostWarning: \u001b[38;2;229;63;229m<RefluxDrum: reflux_drum>\u001b[0m Vertical vessel weight (751.3 lb) is out of bounds (4200 to 1e+06 lb) for cost correlation\n",
      "  return method(pressure, diameter, length)\n",
      "c:\\Users\\hwadg\\anaconda3\\envs\\pyfuel\\lib\\site-packages\\biosteam\\units\\design_tools\\pressure_vessel.py:104: CostWarning: \u001b[38;2;229;63;229m<RefluxDrum: reflux_drum>\u001b[0m Vertical vessel length (6.5 ft) is out of bounds (12 to 40 ft) for cost correlation\n",
      "  return method(pressure, diameter, length)\n",
      "c:\\users\\hwadg\\onedrive - the pennsylvania state university\\shi_wadgama_shared\\models\\atjspk\\atj_saf\\atj_bst\\atj_bst_units.py:92: CostWarning: \u001b[38;2;229;63;229m<AdiabaticReactor: hydgn>\u001b[0m Vertical vessel length (10.23 ft) is out of bounds (12 to 40 ft) for cost correlation\n",
      "  self._vertical_vessel_design(\n",
      "c:\\Users\\hwadg\\anaconda3\\envs\\pyfuel\\lib\\site-packages\\biosteam\\units\\design_tools\\pressure_vessel.py:104: CostWarning: \u001b[38;2;229;63;229m<RefluxDrum: reflux_drum>\u001b[0m Vertical vessel weight (303.3 lb) is out of bounds (4200 to 1e+06 lb) for cost correlation\n",
      "  return method(pressure, diameter, length)\n",
      "c:\\Users\\hwadg\\anaconda3\\envs\\pyfuel\\lib\\site-packages\\biosteam\\units\\design_tools\\pressure_vessel.py:104: CostWarning: \u001b[38;2;229;63;229m<RefluxDrum: reflux_drum>\u001b[0m Vertical vessel weight (548.4 lb) is out of bounds (4200 to 1e+06 lb) for cost correlation\n",
      "  return method(pressure, diameter, length)\n"
     ]
    }
   ],
   "source": [
    "atj_sys = bst.System('atj_sys', path = (etoh_storage, pump_1, furnace_1, mixer_1, furnace_2, dehyd_1, splitter_1, flash_1, comp_1, \n",
    "                                        distillation_1, comp_2, distillation_2, cooler_1, splitter_2, cooler_2, cooler_3, mixer_2,\n",
    "                                        olig_1, splitter_3, mixer_3, h2_storage, mixer_4, cooler_4, furnace_3, hydgn_1, cooler_5, \n",
    "                                        flash_2, distillation_3, distillation_4, cooler_6, cooler_7, cooler_8,\n",
    "                                        rn_storage, saf_storage, rd_storage), \n",
    "                                        recycle = (dehyd_recycle, ethylene_recycle, h2_recycle))\n",
    "atj_sys.simulate()"
   ]
  },
  {
   "cell_type": "code",
   "execution_count": 22,
   "id": "b54c0d61",
   "metadata": {},
   "outputs": [
    {
     "name": "stdout",
     "output_type": "stream",
     "text": [
      "System: atj_sys\n",
      "Highest convergence error among components in recycle\n",
      "streams {S1-1, SPLIITER_3-0, F1-0} after 4 loops:\n",
      "- flow rate   4.99e-03 kmol/hr (0.62%)\n",
      "- temperature 7.40e-04 K (0.00012%)\n",
      "ins...\n",
      "[0] etoh_in  \n",
      "    phase: 'l', T: 293.15 K, P: 101325 Pa\n",
      "    flow (kmol/hr): Water    2.09\n",
      "                    Ethanol  162\n",
      "[1] h2_in  \n",
      "    phase: 'g', T: 298.15 K, P: 3e+06 Pa\n",
      "    flow (kmol/hr): Hydrogen  44.9\n",
      "outs...\n",
      "[0] SAF  \n",
      "    phases: ('g', 'l'), T: 288.15 K, P: 101325 Pa\n",
      "    flow (kmol/hr): (l) Ethanol     0.00811\n",
      "                        Hexane      0.202\n",
      "                        Decane      20\n",
      "                        Octadecane  0.202\n",
      "[1] RD  \n",
      "    phases: ('g', 'l'), T: 288.15 K, P: 101325 Pa\n",
      "    flow (kmol/hr): (l) Decane      0.00341\n",
      "                        Octadecane  0.338\n",
      "[2] WW_1  \n",
      "    phase: 'l', T: 420 K, P: 1.063e+06 Pa\n",
      "    flow (kmol/hr): Water     51.5\n",
      "                    Ethanol   0.00892\n",
      "                    Ethylene  0.162\n",
      "[3] RN  \n",
      "    phase: 'l', T: 213.38 K, P: 101325 Pa\n",
      "    flow (kmol/hr): Ethanol   0.00811\n",
      "                    Butane    16.2\n",
      "                    Hexane    7.9\n",
      "                    Decane    0.0798\n",
      "                    Hydrogen  4e-09\n",
      "[4] WW_2  \n",
      "    phases: ('g', 'l'), T: 300 K, P: 3.5e+06 Pa\n",
      "    flow (kmol/hr): (l) Water     0.162\n",
      "                        Ethanol   0.102\n",
      "                        Ethylene  1.02e-05\n",
      "[5] WW_3  \n",
      "    phases: ('g', 'l'), T: 300 K, P: 2e+06 Pa\n",
      "    flow (kmol/hr): (l) Water     67.6\n",
      "                        Ethanol   0.0707\n",
      "                        Ethylene  0.0676\n",
      "[6] WW_4  \n",
      "    phases: ('g', 'l'), T: 300 K, P: 2e+06 Pa\n",
      "    flow (kmol/hr): (l) Water     45.1\n",
      "                        Ethanol   0.0471\n",
      "                        Ethylene  0.0451\n"
     ]
    }
   ],
   "source": [
    "atj_sys.show()"
   ]
  },
  {
   "cell_type": "markdown",
   "id": "e68c912d",
   "metadata": {},
   "source": [
    "### Estimation of labor costs\n",
    "In accordance with methodology in Sieder book"
   ]
  },
  {
   "cell_type": "code",
   "execution_count": 23,
   "id": "7c3cdead",
   "metadata": {},
   "outputs": [],
   "source": [
    "\n",
    "operators_per_section = 1  # operators per section from Seider recommendation\n",
    "num_process_sections = 5  # number of proces sections from Seider recommendation [3 reactor, 2 separation]\n",
    "num_operators_per_shift = operators_per_section * num_process_sections * 1  # multiplied by 2 for large continuous flow process (e.g., 1000 ton/day product). from Seider pg 505\n",
    "num_shifts = 5  # number of shifts\n",
    "pay_rate = 40  # $/hr\n",
    "DWandB = num_operators_per_shift * num_shifts * 2080 * pay_rate  # direct wages and benefits. DWandB [$/year] = (operators/shift)*(5 shifts)*(40 hr/week)*(operating days/year-operator)*($/hr)\n",
    "Dsalaries_benefits = 0.15 * DWandB  # direct salaries and benefits from Seider\n",
    "O_supplies = 0.06 * DWandB  # Operating supplies and services from Seider\n",
    "technical_assistance = 5 * 75000  # $/year. Technical assistance to manufacturing. assume 5 workers at $75000/year\n",
    "control_lab = 5 * 80000  # $/year. Control laboratory. assume 5 workers at $80000/year\n",
    "labor = DWandB + Dsalaries_benefits + O_supplies + technical_assistance + control_lab \n",
    "\n",
    "    "
   ]
  },
  {
   "cell_type": "code",
   "execution_count": 24,
   "id": "17a14550",
   "metadata": {},
   "outputs": [],
   "source": [
    "atj_tea = ConventionalEthanolTEA(system = atj_sys,\n",
    "                                IRR = 0.10,\n",
    "                                duration = (2023, 2053),\n",
    "                                depreciation = 'MACRS7',\n",
    "                                income_tax = 0.21,\n",
    "                                operating_days = 330,\n",
    "                                lang_factor = 5.04,\n",
    "                                construction_schedule = (0.08, 0.60, 0.32),\n",
    "                                WC_over_FCI = 0.05,\n",
    "                                labor_cost = labor,\n",
    "                                #fringe_benefits = 0,\n",
    "                                property_tax=0.001, \n",
    "                                property_insurance=0.005, \n",
    "                                #supplies=0, \n",
    "                                maintenance=0.01, \n",
    "                                administration=0.005\n",
    "                                )"
   ]
  },
  {
   "cell_type": "markdown",
   "id": "70be4d19",
   "metadata": {},
   "source": [
    "### Prices data \n",
    "Will be updated to a yaml file in the future once model integration is finalized"
   ]
  },
  {
   "cell_type": "code",
   "execution_count": 25,
   "id": "576c3234",
   "metadata": {},
   "outputs": [],
   "source": [
    "atj_sys.feeds[0].price = 0.9    # Ethanol price, subject to change once integration with Kays model happens\n",
    "atj_sys.feeds[1].price = price_data['hydrogen']\n",
    "atj_sys.products[0].price = -price_data['wastewater_treatment']\n",
    "atj_sys.products[1].price = -price_data['wastewater_treatment']\n",
    "atj_sys.products[2].price = -price_data['wastewater_treatment']\n",
    "atj_sys.products[3].price = -price_data['wastewater_treatment']\n",
    "atj_sys.products[4].price = price_data['renewable_naphtha']\n",
    "saf_stream = atj_sys.products[5] \n",
    "atj_sys.products[6].price = price_data['renewable_diesel']\n"
   ]
  },
  {
   "cell_type": "code",
   "execution_count": 26,
   "id": "6d283384",
   "metadata": {},
   "outputs": [
    {
     "name": "stdout",
     "output_type": "stream",
     "text": [
      "The MSP is 8.72 USD/gal\n"
     ]
    }
   ],
   "source": [
    "print(f'The MSP is {round((atj_tea.solve_price(saf_stream)*saf_stream.rho)/264.172,2)} USD/gal')"
   ]
  },
  {
   "cell_type": "code",
   "execution_count": null,
   "id": "60af9770",
   "metadata": {},
   "outputs": [],
   "source": []
  }
 ],
 "metadata": {
  "kernelspec": {
   "display_name": "pyfuel",
   "language": "python",
   "name": "python3"
  },
  "language_info": {
   "codemirror_mode": {
    "name": "ipython",
    "version": 3
   },
   "file_extension": ".py",
   "mimetype": "text/x-python",
   "name": "python",
   "nbconvert_exporter": "python",
   "pygments_lexer": "ipython3",
   "version": "3.10.18"
  }
 },
 "nbformat": 4,
 "nbformat_minor": 5
}
