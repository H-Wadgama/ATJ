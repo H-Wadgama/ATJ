{
 "cells": [
  {
   "cell_type": "code",
   "execution_count": 1,
   "id": "a97fe9a6",
   "metadata": {},
   "outputs": [],
   "source": [
    "# Global imports\n",
    "\n",
    "import biosteam as bst\n",
    "import thermosteam as tmo\n",
    "import biorefineries as bf\n",
    "from biorefineries import cellulosic\n",
    "from biosteam import main_flowsheet as F\n",
    "\n",
    "# Local imports\n",
    "from lignin_saf.ligsaf_units import SolvolysisReactor, HydrogenolysisReactor, PSA, CatalystMixer\n",
    "from lignin_saf.ligsaf_chemicals import create_chemicals\n",
    "from lignin_saf.ligsaf_settings import rcf_oil_yield\n",
    "from lignin_saf.ligsaf_settings import prices, feed_parameters, rcf_conditions, solvolysis_parameters, meoh_h2o, methanol_to_biomass, h2_biomass_ratio, RCF_catalyst\n",
    "\n",
    "from ligsaf_tea import ConventionalEthanolTEA\n",
    "from cellulosic_tea import create_cellulosic_ethanol_tea\n",
    "\n",
    "bst.nbtutorial() # Light-mode html diagrams and filter warnings"
   ]
  },
  {
   "cell_type": "code",
   "execution_count": 2,
   "id": "4c53ffaa",
   "metadata": {},
   "outputs": [],
   "source": [
    "# Code just to increase the number of display units for the various components\n",
    "tmo.Stream.display_units.N = 40       # Increasing number of display units to see all components of streams \n",
    "tmo.MultiStream.display_units.N = 40  \n",
    "bst.Stream.display_units.N = 40       # Increasing number of display units to see all components of streams \n",
    "bst.MultiStream.display_units.N = 40  "
   ]
  },
  {
   "cell_type": "code",
   "execution_count": 3,
   "id": "04ac3252",
   "metadata": {},
   "outputs": [],
   "source": [
    "chems = create_chemicals()\n",
    "bst.settings.set_thermo(chems)"
   ]
  },
  {
   "cell_type": "code",
   "execution_count": 4,
   "id": "baef6a98",
   "metadata": {},
   "outputs": [],
   "source": [
    "bst.settings.CEPCI = 541.7   # CEPCI for 2016, set to same as Bartling paper"
   ]
  },
  {
   "cell_type": "code",
   "execution_count": 5,
   "id": "eb50db3b",
   "metadata": {},
   "outputs": [],
   "source": [
    "cat_replace = 1                    # [/yr] catalyst replacement rate\n"
   ]
  },
  {
   "cell_type": "code",
   "execution_count": 6,
   "id": "a38244da",
   "metadata": {},
   "outputs": [],
   "source": [
    "# Defining poplar group based off composition given in Bartling et al Table S1\n",
    "\n",
    "chems.define_group(\n",
    "    name='Poplar',\n",
    "    IDs=['Glucan',      # Changed cellulose to glucan name here # Cellulase break this down to glucose\n",
    "         'Xylan',       # Hemicellulose\n",
    "         'Arabinan',    # Hemicellulose\n",
    "         'Mannan',      # Hemicellulose\n",
    "         'Galactan',    # Hemicellulose\n",
    "         'Sucrose',   \n",
    "         'Lignin',\n",
    "         'Acetate',\n",
    "         'Extract',     # Non structural component of biomass that dissolves in solvent/water \n",
    "         'Ash'],\n",
    "    composition=[0.464,      # Dry wt composition, feed also has 20 wt% moisture content\n",
    "                 0.134,\n",
    "                 0.002,\n",
    "                 0.037,\n",
    "                 0.014,\n",
    "                 0.001,\n",
    "                 0.285,\n",
    "                 0.035,\n",
    "                 0.016,\n",
    "                 0.012],\n",
    "    wt=True\n",
    ")\n"
   ]
  },
  {
   "cell_type": "code",
   "execution_count": 7,
   "id": "0d0cb3e4",
   "metadata": {},
   "outputs": [],
   "source": [
    "meoh_recycle = bst.MultiStream('Meoh_recycle', phases = ('s','l','g'))"
   ]
  },
  {
   "cell_type": "code",
   "execution_count": 8,
   "id": "ccce8d8d",
   "metadata": {},
   "outputs": [],
   "source": [
    "# Inlet poplar stream, should ideally be a solid-liquid stream but the cellulosic ethanol model \n",
    "# in BioSTEAM takes in feedstocks as liquid composiiton only and hence I define it solely\n",
    "# as a liquid. Native compopunds like lignin are also described solely as liquid only in BioSTEAM\n",
    "poplar_in = bst.Stream('Poplar_In',\n",
    "                Poplar =  feed_parameters['flow']*1e3, Water = feed_parameters['moisture'] *feed_parameters['flow'] * 1e3,\n",
    "                 phase = 'l', units='kg/d')\n",
    "\n"
   ]
  },
  {
   "cell_type": "code",
   "execution_count": 9,
   "id": "8fc27ada",
   "metadata": {},
   "outputs": [],
   "source": [
    "meoh_in = bst.Stream('Meoh_in',\n",
    "                    Methanol =  (methanol_to_biomass*feed_parameters['flow']*1e3*0.9),\n",
    "                    Water =  methanol_to_biomass*feed_parameters['flow']*1e3*(1/meoh_h2o)*0.9,\n",
    "                     phase = 'l',   \n",
    "                     units = 'L/d')\n",
    "\n",
    "# Set as a MultiStream to make it easier later on as this stream will also contain carbohydrate\n",
    "# derivatives (solids) following solvolysis and hydrogen (gas) following hydrogenolysis\n",
    "\n",
    "# both flows multipled by 0.9 to make the overall meoh_in to biomass liter to kg ratio as 90 which is a requirement"
   ]
  },
  {
   "cell_type": "code",
   "execution_count": 10,
   "id": "2e817674",
   "metadata": {},
   "outputs": [],
   "source": [
    "meoh_h2o_mix = bst.units.Mixer('MIX100', ins = (meoh_in, meoh_recycle), rigorous = True)\n",
    "@meoh_h2o_mix.add_specification(run = True)\n",
    "def meoh_water_flow():\n",
    "    fresh_solvent = meoh_h2o_mix.ins[0]\n",
    "    recycle_solvent = meoh_h2o_mix.ins[1]\n",
    "\n",
    "    meoh_flow_mol  = (((methanol_to_biomass*feed_parameters['flow']*1e3*0.9)/1000)/24) * chems['Methanol'].rho(phase = 'l', T = rcf_conditions['T'], P = rcf_conditions['P'])  * (1/chems['Methanol'].MW)  # Converting flow from L/day to kmol/hr\n",
    "    fresh_solvent.imol['Methanol'] = meoh_flow_mol - recycle_solvent.imol['Methanol']\n",
    "\n",
    "    water_flow_mol = ((methanol_to_biomass*feed_parameters['flow']*1e3*(1/meoh_h2o)*0.9)/1000/24) * chems['Water'].rho(phase = 'l', T = rcf_conditions['T'], P = rcf_conditions['P'])  * (1/chems['Water'].MW) \n",
    "    fresh_solvent.imol['Water'] = water_flow_mol - recycle_solvent.imol['Water']\n",
    "meoh_h2o_mix.simulate()\n",
    "meoh_h2o_mix.outs[0].phases = ('s', 'l','g')  # These phases must be available for solvolysis and hydrogenolysis reactors downstream"
   ]
  },
  {
   "cell_type": "code",
   "execution_count": 11,
   "id": "be030cae",
   "metadata": {},
   "outputs": [],
   "source": [
    "meoh_pump = bst.units.Pump('PUMP101', ins = meoh_h2o_mix-0, P = rcf_conditions['P'])\n",
    "meoh_heater = bst.units.HXutility('HX102', ins = meoh_pump-0, T = rcf_conditions['T'], rigorous = True)\n",
    "meoh_pump.simulate()\n",
    "meoh_heater.simulate()\n",
    "meoh_heater.outs[0].phases = ('l','g')  # These phases must be available for solvolysis and hydrogenolysis reactors downstream"
   ]
  },
  {
   "cell_type": "code",
   "execution_count": 12,
   "id": "99c73b76",
   "metadata": {},
   "outputs": [
    {
     "name": "stdout",
     "output_type": "stream",
     "text": [
      "Correct methanol to biomass ratio\n",
      "Correct methanol water ratio\n"
     ]
    }
   ],
   "source": [
    "\n",
    "# Checks to ensure the correct methanol to biomass and methanol to water ratio is used\n",
    "meoh_biomass_ratio_check = round((meoh_heater.outs[0].F_vol*1000)/(2e6/24),0)\n",
    "methanol_water_ratio_check = round(meoh_heater.outs[0].ivol['Methanol']/meoh_heater.outs[0].ivol['Water'],0)\n",
    "\n",
    "if meoh_biomass_ratio_check == methanol_to_biomass:\n",
    "    print('Correct methanol to biomass ratio')\n",
    "\n",
    "else:\n",
    "    raise ValueError(f'Methanol to biomass ratio is {meoh_biomass_ratio_check} L/kg dry biomass \\n It must be {methanol_to_biomass} L/kg dry biomass as specified')\n",
    "\n",
    "if methanol_water_ratio_check == meoh_h2o:\n",
    "    print('Correct methanol water ratio')\n",
    "\n",
    "else:\n",
    "    raise ValueError(f'Methanol water ratio is {methanol_water_ratio_check} \\n It must be {meoh_h2o}')\n"
   ]
  },
  {
   "cell_type": "code",
   "execution_count": 13,
   "id": "66892a4f",
   "metadata": {},
   "outputs": [],
   "source": [
    "\n",
    "# Solvolysis reaction to solubilize lignin from cell wall\n",
    "solvolysis_rxn = bst.Reaction('Lignin -> SolubleLignin', reactant = 'Lignin', X = solvolysis_parameters['Delignification'], basis = 'wt', correct_atomic_balance = False) \n",
    "# correct atomic balance set to False because we are working with pseudocomponents\n",
    "\n",
    "\n",
    "# Methanol decomposition to light gases\n",
    "methanol_decomposition_rxn = bst.ParallelReaction([\n",
    "    bst.Reaction('Methanol,l -> Methane,g', reactant = 'Methanol', phases = 'lg', X = solvolysis_parameters['MeOH_CH4'] ,basis = 'wt', correct_atomic_balance=False),\n",
    "    bst.Reaction('Methanol,l -> CO,g', reactant = 'Methanol', phases = 'lg', X= solvolysis_parameters['MeOH_CO'], basis = 'wt', correct_atomic_balance=False)\n",
    "])\n"
   ]
  },
  {
   "cell_type": "code",
   "execution_count": 14,
   "id": "91bb2bc3",
   "metadata": {},
   "outputs": [
    {
     "name": "stdout",
     "output_type": "stream",
     "text": [
      "Methanol density at initial conditions is 904.61 kg/m3\n",
      "Methanol density at initial conditions is 580.17 kg/m3\n",
      "Bartling et al for 9 L/kg ratio refer to preheated meoh hence heating methanol \n",
      "before imposing specification of 9 L/kg\n"
     ]
    }
   ],
   "source": [
    "meoh_initial_rho = chems['Methanol'].rho(phase = 'l', T = 18, P = 101325)\n",
    "meoh_rcf_in_rho = chems['Methanol'].rho(phase = 'l', T = 200+273.15, P = 6e6)\n",
    "print(f'Methanol density at initial conditions is {round(meoh_initial_rho,2)} kg/m3')\n",
    "print(f'Methanol density at initial conditions is {round(meoh_rcf_in_rho,2)} kg/m3')\n",
    "print(f'Bartling et al for 9 L/kg ratio refer to preheated meoh hence heating methanol \\nbefore imposing specification of 9 L/kg')"
   ]
  },
  {
   "cell_type": "code",
   "execution_count": 15,
   "id": "d9071a98",
   "metadata": {},
   "outputs": [],
   "source": [
    "solvolysis_reactor = SolvolysisReactor('RCF103-S', ins = (poplar_in, meoh_heater-0), outs = ('Carbohydrate_Pulp', 'Solvolysis_Liquor'),\n",
    "                                    T = rcf_conditions['T'],\n",
    "                                    P = rcf_conditions['P'],\n",
    "                                    tau = rcf_conditions['tau_s'], \n",
    "                                    # N_beds = 14,\n",
    "                                    void_frac= 0.5,\n",
    "                                    superficial_velocity = 0.001, \n",
    "                                    reaction_1 = solvolysis_rxn,\n",
    "                                    reaction_2 = methanol_decomposition_rxn)                                   \n",
    "solvolysis_reactor.simulate()\n",
    "\n",
    "# Yes, some of the bounds exceed the limits, but its primarily due to high solvent loadings in \n",
    "# the solvolysis reactor"
   ]
  },
  {
   "cell_type": "code",
   "execution_count": 16,
   "id": "911ed7f4",
   "metadata": {},
   "outputs": [
    {
     "name": "stdout",
     "output_type": "stream",
     "text": [
      "Pressure drop for solvolysis is 0.0005918 bar\n"
     ]
    }
   ],
   "source": [
    "## Independent pressure drop calculator for verifying purposes\n",
    "\n",
    "\n",
    "bed_length = 2.5\n",
    "\n",
    "def pressure_drop_function(D, rho, mu, epsilon, u, bed_length):\n",
    "    Re = (D*rho*u)/mu\n",
    "    if Re/(1-epsilon) < 500: # Erun equation\n",
    "        f = ((1-epsilon)/(epsilon**3))*(1.75+(150*(1-epsilon)/Re))\n",
    "        dP = (f * ((rho*(u**2))/D)* bed_length)*1e-5\n",
    "    elif 1000 < Re/(1-epsilon) < 5000: # Handley and Heggs\n",
    "        f = ((1-epsilon)/(epsilon**3))*(1.24+(368*(1-epsilon)/Re))\n",
    "        dP = (f * ((rho*(u**2))/D)* bed_length)*1e-5\n",
    "    else: # Hicks equation which fits in Wentz and Thodos results for very high Re\n",
    "        f = 6.8*(((1-epsilon)**1.2)/epsilon**3)*Re**-0.2\n",
    "        dP = (f * ((rho*(u**2))/D) * bed_length)*1e-5\n",
    "    return dP\n",
    "    \n",
    "\n",
    "#P = pressure_drop_function(D = 0.0037, rho = 0.9487, mu = 3.1e-5, epsilon = 0.38, u = 1.37, bed_length = 2.5)\n",
    "#print(f'Pressure drop for example is {round(P,3)} bar') \n",
    "\n",
    "# This check is from the textbook Chemical Reactor Analysis and Design Example 11.5.1.A just to show the algorithsm working\n",
    "\n",
    "P2 = pressure_drop_function(D = 0.004, rho = meoh_heater.outs[0].rho, mu = meoh_heater.outs[0].mu, epsilon = 0.5, u = 0.001, bed_length = 20.41)\n",
    "print(f'Pressure drop for solvolysis is {round(P2,7)} bar')\n",
    "\n"
   ]
  },
  {
   "cell_type": "code",
   "execution_count": 17,
   "id": "9ffc0303",
   "metadata": {},
   "outputs": [],
   "source": [
    "hydrogen_in = bst.Stream('Hydrogen_In', \n",
    "                         Hydrogen = h2_biomass_ratio * 2e6,   # Anderson et al, had MeOH/H2 feeds as 1:100 vol:vol ratio\n",
    "                         units = 'kg/day',\n",
    "                         T = 80+273.15,                   # 80 C outlet temperature of PEM electrolysis\n",
    "                         P = 3e6,                         # 30 bar outlet pressure of H2 through PEM electrolysis\n",
    "                         phase = 'g'\n",
    ")"
   ]
  },
  {
   "cell_type": "code",
   "execution_count": 18,
   "id": "20a5d48c",
   "metadata": {},
   "outputs": [],
   "source": [
    "hydrogen_recycle = bst.Stream('hydrogen_recycle', P = 3e6, phase = 'g')\n"
   ]
  },
  {
   "cell_type": "code",
   "execution_count": 19,
   "id": "8e23113a",
   "metadata": {},
   "outputs": [],
   "source": [
    "h2_mixer = bst.units.Mixer('MIX104', ins = (hydrogen_in, hydrogen_recycle))\n",
    "@h2_mixer.add_specification(run = True)\n",
    "def h2_flow():\n",
    "    fresh_h2 = h2_mixer.ins[0]\n",
    "    recycle_h2 = h2_mixer.ins[1]\n",
    "\n",
    "    h2_flow = (h2_biomass_ratio * (2e6/24)) # * (1/chems['Hydrogen'].MW)\n",
    "    fresh_h2.imass['Hydrogen'] = h2_flow - recycle_h2.imass['Hydrogen']\n",
    "\n",
    "h2_mixer.simulate()\n",
    "h2_mixer.outs[0].phase = 'g'"
   ]
  },
  {
   "cell_type": "code",
   "execution_count": 20,
   "id": "6b79dcbb",
   "metadata": {},
   "outputs": [],
   "source": [
    "h2_pre_heat = bst.units.HXutility('HX105', ins = h2_mixer-0, T = rcf_conditions['T'], rigorous = True)\n",
    "h2_pre_heat.simulate()\n",
    "\n",
    "h2_pre_heat.outs[0].phase = 'g'"
   ]
  },
  {
   "cell_type": "code",
   "execution_count": 21,
   "id": "a3b8f84a",
   "metadata": {},
   "outputs": [],
   "source": [
    "hydrogenolysis = bst.ParallelReaction([\n",
    "    bst.Reaction('SolubleLignin,l ->Propylguaiacol,l', reactant = 'SolubleLignin', phases = 'lg', X = rcf_oil_yield['Monomers']*0.5, basis = 'wt', correct_atomic_balance=False),\n",
    "    bst.Reaction('SolubleLignin,l ->Propylsyringol,l', reactant = 'SolubleLignin', phases = 'lg', X = rcf_oil_yield['Monomers']*0.5, basis = 'wt', correct_atomic_balance=False),\n",
    "    bst.Reaction('SolubleLignin,l -> Syringaresinol,l', reactant= 'SolubleLignin',phases = 'lg', X = rcf_oil_yield['Dimers']*0.5, basis = 'wt', correct_atomic_balance=False),\n",
    "    bst.Reaction('SolubleLignin,l -> G_Dimer,l', reactant= 'SolubleLignin', phases = 'lg',X = rcf_oil_yield['Dimers']*0.5, basis = 'wt', correct_atomic_balance=False),\n",
    "    bst.Reaction('SolubleLignin,l -> S_Oligomer,l', reactant= 'SolubleLignin',phases = 'lg', X = rcf_oil_yield['Oligomers']*0.5, basis = 'wt', correct_atomic_balance=False),\n",
    "    bst.Reaction('SolubleLignin,l -> G_Oligomer,l', reactant= 'SolubleLignin', phases = 'lg',X = rcf_oil_yield['Oligomers']*0.5, basis = 'wt', correct_atomic_balance=False),\n",
    "])"
   ]
  },
  {
   "cell_type": "code",
   "execution_count": 22,
   "id": "57147133",
   "metadata": {},
   "outputs": [],
   "source": [
    "hydrogenolysis_reactor = HydrogenolysisReactor('RCF106-H', ins = (solvolysis_reactor.outs[1], h2_pre_heat-0), \n",
    "                                               tau = rcf_conditions['tau_h'], \n",
    "                                               P = rcf_conditions['P'],\n",
    "                                               T = rcf_conditions['T'],\n",
    "                                               superficial_velocity= 0.003, \n",
    "                                               reaction = hydrogenolysis, \n",
    "                                               N_reactors = 8)\n",
    "hydrogenolysis_reactor.simulate()"
   ]
  },
  {
   "cell_type": "code",
   "execution_count": 23,
   "id": "88eb9973",
   "metadata": {},
   "outputs": [],
   "source": [
    "R102 = bst.units.Flash('FLASH107', ins = hydrogenolysis_reactor-0, T = 320, P = 5e5)\n",
    "R102.simulate()"
   ]
  },
  {
   "cell_type": "code",
   "execution_count": 24,
   "id": "1158ddca",
   "metadata": {},
   "outputs": [],
   "source": [
    "pre_psa_pump = bst.units.IsentropicCompressor('PUMP108', ins = R102-0, P = 5e5, vle = True)\n",
    "pre_psa_pump.simulate()\n",
    "pre_psa_flash = bst.units.Flash('FLASH109', ins = pre_psa_pump-0, T = 260, P = 5e5)\n",
    "pre_psa_flash.simulate()\n",
    "pre_psa_heater = bst.units.HXutility('HX110', ins = pre_psa_flash-0, T = 303, rigorous = True)\n",
    "pre_psa_heater.simulate()\n",
    "pre_psa_heater.outs[0].phase = 'g'  # It will be a gaseous stream anyways, but my doing so, I am asserting that \n",
    "# it is not a MultiStream with avaialble gas and liquid phases"
   ]
  },
  {
   "cell_type": "code",
   "execution_count": 25,
   "id": "b9ec4e3e",
   "metadata": {},
   "outputs": [],
   "source": [
    "psa_system = PSA('PSA111', ins = pre_psa_heater.outs[0], outs = ('', 'Purge_Light_Gases'))\n",
    "psa_system.simulate()"
   ]
  },
  {
   "cell_type": "code",
   "execution_count": 26,
   "id": "be9942de",
   "metadata": {},
   "outputs": [],
   "source": [
    "h2_pump = bst.units.IsentropicCompressor('PUMP112', ins = psa_system-0, outs = hydrogen_recycle, P = 3e6, vle = True)\n",
    "h2_pump.simulate()\n",
    "h2_pump.outs[0].phase = 'g'"
   ]
  },
  {
   "cell_type": "code",
   "execution_count": 27,
   "id": "8d4e3cfe",
   "metadata": {},
   "outputs": [],
   "source": [
    "crude_distillation = bst.units.BinaryDistillation('DIST113', ins = R102-1, \n",
    "                                                LHK = ('Methanol', 'Water'),\n",
    "                                                  Lr = 0.9995,  Hr = 1-0.967, P = 101325,\n",
    "                                                  vessel_material = 'Stainless steel 316',\n",
    "                                                  k = 2, partial_condenser = True) \n",
    "# Recovery values from Bartling et al \n",
    "crude_distillation.simulate()"
   ]
  },
  {
   "cell_type": "code",
   "execution_count": 28,
   "id": "7ae6a60e",
   "metadata": {},
   "outputs": [],
   "source": [
    "meoh_purifier_col = bst.units.BinaryDistillation('DIST114', ins = crude_distillation-0,\n",
    "                                                 outs = (' ', 'To_WW_Treatment'),\n",
    "                                                LHK = ('Methanol', 'Water'),\n",
    "                                                 y_top = 0.9, x_bot = 0.001, P = 101325,\n",
    "                                                 k = 2)\n",
    "meoh_purifier_col.simulate()\n",
    "\n"
   ]
  },
  {
   "cell_type": "code",
   "execution_count": 29,
   "id": "a7f409a2",
   "metadata": {},
   "outputs": [],
   "source": [
    "meoh_mixer = bst.units.Mixer('MIX116', ins = (meoh_purifier_col-0, pre_psa_flash-1), rigorous = True)\n",
    "meoh_mixer.simulate()"
   ]
  },
  {
   "cell_type": "code",
   "execution_count": 30,
   "id": "568f935a",
   "metadata": {},
   "outputs": [],
   "source": [
    "cooler_2 = bst.units.HXutility('HX117', ins = meoh_mixer.outs[0], outs = meoh_recycle, V = 0, rigorous = True)\n",
    "cooler_2.simulate()"
   ]
  },
  {
   "cell_type": "code",
   "execution_count": 31,
   "id": "823eed02",
   "metadata": {},
   "outputs": [
    {
     "name": "stdout",
     "output_type": "stream",
     "text": [
      "Stream:   from <BinaryDistillation: DIST114> to <Mixer: MIX116>\n",
      "phase: 'g', T: 341.48 K, P: 101325 Pa\n",
      "composition (%): Water     10\n",
      "                 Methanol  90\n",
      "                 Methane   0.000836\n",
      "                 --------  3.66e+08 L/hr\n"
     ]
    }
   ],
   "source": [
    "meoh_purifier_col.outs[0].show(flow = 'L/hr', composition = True)\n",
    "# Composition as expected and required"
   ]
  },
  {
   "cell_type": "code",
   "execution_count": 32,
   "id": "ecc0ae1e",
   "metadata": {},
   "outputs": [],
   "source": [
    "water_remover = bst.units.Flash('FLASH118', ins = crude_distillation-1, outs = ('To WW_Treatment_2', \n",
    "                                                                    'RCF_Oil'), T = 400, P = 101325)\n",
    "water_remover.simulate()"
   ]
  },
  {
   "cell_type": "code",
   "execution_count": 33,
   "id": "1fc10b79",
   "metadata": {},
   "outputs": [],
   "source": [
    "wastewater_mixer = bst.Mixer(ins = (meoh_purifier_col.outs[1],water_remover.outs[0]), outs = 'RCF_WW')\n",
    "wastewater_mixer.simulate()"
   ]
  },
  {
   "cell_type": "code",
   "execution_count": 34,
   "id": "6335ee54",
   "metadata": {},
   "outputs": [],
   "source": [
    "# catalyst_opex = CatalystMixer(ins = )"
   ]
  },
  {
   "cell_type": "code",
   "execution_count": 35,
   "id": "911265a9",
   "metadata": {},
   "outputs": [],
   "source": [
    "catalyst = bst.Stream('RCF_Catalyst', NiC = RCF_catalyst['loading']*(feed_parameters['flow']*1e3)*RCF_catalyst['loading'], units = 'kg/yr', price = prices['NiC_catalyst'] )\n",
    "catalyst_stream = CatalystMixer(ins = catalyst)\n",
    "catalyst_stream.simulate()\n",
    "#prices['NiC_catalyst']*catalyst_loading*(feed_parameters['flow']*1e3)\n"
   ]
  },
  {
   "cell_type": "code",
   "execution_count": 36,
   "id": "b85de27a",
   "metadata": {},
   "outputs": [],
   "source": [
    "\n",
    "#BT = bst.facilities.BoilerTurbogenerator(fuel_price = 0.2612)   # Boiler turbogenerator\n",
    "#BT.ins[1] = psa_system.outs[1]               # Takes in the purge gases from PSA \n",
    "#WWT = create_conventional_wastewater_treatment_system(ins=wastewater_mixer.outs[0]) \n",
    "# WWT will take in the methanol water acetate stream and purify it. methanol is a digestbile so will get digested. \n",
    "# Acetate however is non digestible "
   ]
  },
  {
   "cell_type": "code",
   "execution_count": 37,
   "id": "ea67ac85",
   "metadata": {},
   "outputs": [],
   "source": [
    "# HXN = bst.HeatExchangerNetwork('HXN', T_min_app = 10.)   # Heat integrations taken care off by heat echanger network with an approahc temperature of 10 C, as speciifed by Bartling et al"
   ]
  },
  {
   "cell_type": "code",
   "execution_count": 38,
   "id": "3036a469",
   "metadata": {},
   "outputs": [],
   "source": [
    "#flowsheet_sys = bst.main_flowsheet.create_system('flowsheet_sys')\n",
    "#flowsheet_sys.simulate()\n",
    "#flowsheet_sys.show()\n"
   ]
  },
  {
   "cell_type": "code",
   "execution_count": 39,
   "id": "7e768cfc",
   "metadata": {},
   "outputs": [],
   "source": [
    "rcf_system = bst.System('RCF_System', path = (meoh_h2o_mix,meoh_pump, meoh_heater, solvolysis_reactor, h2_mixer, h2_pre_heat, hydrogenolysis_reactor, \n",
    "                                              R102, pre_psa_pump, pre_psa_flash, pre_psa_heater, \n",
    "                                              psa_system, h2_pump ,crude_distillation, meoh_purifier_col, meoh_mixer, cooler_2, \n",
    "                                              water_remover, wastewater_mixer, catalyst_stream), \n",
    "                                              # facilities = [BT, WWT],\n",
    "                                              recycle = (meoh_recycle, hydrogen_recycle))\n",
    "#cf_system.simulate()"
   ]
  },
  {
   "cell_type": "code",
   "execution_count": 40,
   "id": "a39ee2d8",
   "metadata": {},
   "outputs": [],
   "source": [
    "#rcf_system.show()"
   ]
  },
  {
   "cell_type": "code",
   "execution_count": 41,
   "id": "584fe4c7",
   "metadata": {},
   "outputs": [],
   "source": [
    "import numpy as np\n",
    "solvent_to_crude_ratio = 2               # [kg/kg] massratio of solvent to crude RCF oil\n",
    "etoac_h2o_ratio = 1                      # [kg/kg] volumetric ratio of ethyl acetate to water\n",
    "\n",
    "crude_rcf = F.RCF_Oil\n",
    "\n",
    "ethyl_acetate = bst.Stream('EthylAcetate', \n",
    "                           EthylAcetate = solvent_to_crude_ratio * crude_rcf.F_mass, \n",
    "                           Water = solvent_to_crude_ratio * crude_rcf.F_mass * etoac_h2o_ratio,  \n",
    "                           units = 'kg/hr')\n",
    "solvent_recycle = bst.Stream('solvent_recycle')\n",
    "\n",
    "with bst.System('rcf_oil_purification_sys') as rcf_oil_purification_sys:\n",
    "\n",
    "    IDz = (\n",
    "        'Water',\n",
    "        'Propylguaiacol',\n",
    "        'Propylsyringol',\n",
    "        'Syringaresinol',\n",
    "        'G_Dimer',\n",
    "        'S_Oligomer',\n",
    "        'G_Oligomer',\n",
    "    )\n",
    "\n",
    "    Kz = np.array([     # Array just has placeholder values now, can change depending on more granular data, but my assumption is that the separation is really good\n",
    "        1.0,            # Water prefers aqueous (raffinate) phase\n",
    "        200.0,          # Propylguaiacol into EtOAc (extract) > 1  \n",
    "        200.0,          # Propylsyringol\n",
    "        500.0,          # Syringaresinol\n",
    "        109.0,          # G_Dimer\n",
    "        200.0,          # S_Oligomer\n",
    "        200.0,          # G_Oligomer\n",
    "    ], dtype=float)\n",
    "\n",
    "    partition_dataz = {\n",
    "        'K': Kz,\n",
    "        'IDs': IDz,\n",
    "        'raffinate_chemicals': ['Water'],       \n",
    "        'extract_chemicals':  ['EthylAcetate'], \n",
    "    }\n",
    "\n",
    "    mixer = bst.Mixer(ins = (ethyl_acetate, solvent_recycle), rigorous = False)\n",
    "    @mixer.add_specification(run = True)\n",
    "    def adjust_fresh_solvent_flow():\n",
    "        fresh_solvent = mixer.ins[0]\n",
    "        recycled_solvent = mixer.ins[1]\n",
    "\n",
    "        solvent_req =  solvent_to_crude_ratio * crude_rcf.F_mass\n",
    "        fresh_solvent.imass['EthylAcetate'] = solvent_req - recycled_solvent.imass['EthylAcetate']\n",
    "\n",
    "        water_req =  solvent_to_crude_ratio * crude_rcf.F_mass * etoac_h2o_ratio\n",
    "        fresh_solvent.imass['Water'] = water_req - recycled_solvent.imass['Water']\n",
    "\n",
    "    mixer.simulate()\n",
    "\n",
    "    lle_column = bst.MultiStageMixerSettlers(\n",
    "        'LLE column',\n",
    "        ins=(crude_rcf, mixer-0),\n",
    "        outs=('extract', 'raffinate'),\n",
    "        feed_stages=(0, -1, -1),\n",
    "        N_stages=3,                     # 3 times washed with EtOAC as proposed in ACS Sustainable Chem. Eng. 2024, 12, 12919−12926\n",
    "    partition_data = partition_dataz,\n",
    "\n",
    "\n",
    "        use_cache=True,\n",
    "    )\n",
    "\n",
    "    oil_flash = bst.units.Flash(        #  I use a flash rather than a distillation column because the components of RCF oil aren't defined in terms of vle data \n",
    "        ins=lle_column-0,\n",
    "        outs = ('', 'Purified_RCF_Oil'),\n",
    "        T = 400, \n",
    "        P = 101325\n",
    "    )\n",
    "\n",
    "    HX201 = bst.HXutility(\n",
    "        ins = oil_flash-0,\n",
    "        outs = '',\n",
    "        V = 0,\n",
    "        rigorous = True\n",
    "    )\n",
    "\n",
    "    decanter = bst.LiquidsSplitCentrifuge(ins = HX201-0, outs = (solvent_recycle, 'WW'), split = {'EthylAcetate':1} )   # Decanter that perfectly separates the Ethyl Acetate from the Water\n",
    "\n",
    "\n",
    "\n",
    "    water_purifier = bst.units.Flash(        #  I use a flash rather than a distillation column because the components of RCF oil aren't defined in terms of vle data \n",
    "        ins=lle_column-1,\n",
    "        outs = ('WW_2', 'waste_pulp'),\n",
    "        T = 400, \n",
    "        P = 101325\n",
    "    )\n",
    "\n",
    "\n",
    "#rcf_oil_purification_sys.simulate()\n",
    "#rcf_oil_purification_sys.diagram(kind='cluster', format='png')\n",
    "#rcf_oil_purification_sys.diagram()"
   ]
  },
  {
   "cell_type": "code",
   "execution_count": 42,
   "id": "32a72033",
   "metadata": {},
   "outputs": [],
   "source": [
    "import numpy as np\n",
    "solvent_to_lignin_oil = 5                #  [kg/kg] massratio of solvent to lignin oil from https://doi.org/10.1126/science.aau1567\n",
    "etoac_h2o_ratio = 1                      # [kg/kg] volumetric ratio of ethyl acetate to water\n",
    "\n",
    "pure_rcf = F.Purified_RCF_Oil\n",
    "\n",
    "hexane_rho = chems['Hexane'].rho(phase = 'l', T = 298.15, P = 101325)\n",
    "water_rho = chems['Water'].rho(phase = 'l', T = 298.15, P = 101325)\n",
    "\n",
    "hexane = bst.Stream('Hexane', \n",
    "                           Hexane = solvent_to_lignin_oil * pure_rcf.F_mass, \n",
    "                           Water = (solvent_to_lignin_oil * pure_rcf.F_mass)*(water_rho/hexane_rho), \n",
    "                           units = 'kg/hr')\n",
    "hexane_recycle = bst.Stream('hexane_recycle')\n",
    "\n",
    "with bst.System('monomer_purification_sys') as monomer_purification_sys:\n",
    "\n",
    "    IDzz = (\n",
    "        'Water',\n",
    "        'Propylguaiacol',\n",
    "        'Propylsyringol',\n",
    "        'Syringaresinol',\n",
    "        'G_Dimer',\n",
    "\n",
    "        \n",
    "    )\n",
    "\n",
    "    Kzz = np.array([     # Array just has placeholder values now, can change depending on more granular data, but my assumption is that the separation is really effective\n",
    "        10.0,            # Water prefers aqueous (raffinate) phase\n",
    "        2.0,          # Propylguaiacol into hexane \n",
    "        2.0,          # Propylsyringol\n",
    "        2.0,          # Syringaresinol\n",
    "        2.0,          # G-Dimer\n",
    "\n",
    "    ], dtype=float)\n",
    "\n",
    "    partition_datazz = {\n",
    "        'K': Kzz,\n",
    "        'IDs': IDzz,\n",
    "        'raffinate_chemicals': ['Water'],       \n",
    "        'extract_chemicals':  ['Hexane'], \n",
    "    }\n",
    "\n",
    "    hexane_mixer = bst.Mixer(ins = (hexane, hexane_recycle), rigorous = False)\n",
    "    @hexane_mixer.add_specification(run = True)\n",
    "    def adjust_fresh_solvent_flow():\n",
    "        fresh_solvent = hexane_mixer.ins[0]\n",
    "        recycled_solvent = hexane_mixer.ins[1]\n",
    "\n",
    "        solvent_req =  solvent_to_lignin_oil * pure_rcf.F_mass\n",
    "        fresh_solvent.imass['Hexane'] = solvent_req - recycled_solvent.imass['Hexane']\n",
    "\n",
    "        water_req =  (solvent_to_lignin_oil * pure_rcf.F_mass)*(water_rho/hexane_rho)\n",
    "        fresh_solvent.imass['Water'] = water_req - recycled_solvent.imass['Water']\n",
    "\n",
    "    #mixer.simulate()\n",
    "\n",
    "    lle_column_2 = bst.MultiStageMixerSettlers(\n",
    "        'LLE colum_2n',\n",
    "        ins=(pure_rcf, hexane_mixer-0),\n",
    "        outs=('extract', 'raffinate'),\n",
    "        feed_stages=(0, -1, -1),\n",
    "        N_stages=3,                     # 3 times washed with EtOAC as proposed in ACS Sustainable Chem. Eng. 2024, 12, 12919−12926\n",
    "    partition_data = partition_datazz,\n",
    "\n",
    "\n",
    "        use_cache=True,\n",
    "    )\n",
    "    #lle_column.simulate()\n",
    "\n",
    "    oil_flash_2 = bst.units.Flash(        #  I use a flash rather than a distillation column because the components of RCF oil aren't defined in terms of vle data \n",
    "        ins=lle_column_2-0,\n",
    "        outs = ('', 'Purified_RCF_Oil'),\n",
    "        T = 400, \n",
    "        P = 101325\n",
    "    )\n",
    "    #oil_flash.simulate()\n",
    "\n",
    "    HX202 = bst.HXutility(\n",
    "        ins = oil_flash_2-0,\n",
    "        outs = '',\n",
    "        V = 0,\n",
    "        rigorous = True\n",
    "    )\n",
    "    #HX201.simulate()\n",
    "    decanter_2 = bst.LiquidsSplitCentrifuge(ins = HX202-0, outs = (hexane_recycle, 'WW_11'), split = {'Hexane':1} )   # Decanter that perfectly separates the Ethyl Acetate from the Water\n",
    "    #decanter.simulate()\n",
    "\n",
    "\n",
    "    water_purifier_2 = bst.units.Flash(        #  I use a flash rather than a distillation column because the components of RCF oil aren't defined in terms of vle data \n",
    "        ins=lle_column_2-1,\n",
    "        outs = ('WW_21', 'oligomers'),\n",
    "        T = 400, \n",
    "        P = 101325\n",
    "    )\n",
    "    water_purifier_2.simulate()\n",
    "\n",
    "#monomer_purification_sys.simulate()\n",
    "#rcf_oil_purification_sys.diagram(kind='cluster', format='png')\n",
    "#rcf_oil_purification_sys.diagram()"
   ]
  },
  {
   "cell_type": "code",
   "execution_count": 43,
   "id": "a12f694c",
   "metadata": {},
   "outputs": [],
   "source": [
    "combined_sys = bst.System('Combined_sys', (rcf_system, rcf_oil_purification_sys,monomer_purification_sys ))\n",
    "combined_sys.simulate()\n"
   ]
  },
  {
   "cell_type": "code",
   "execution_count": 44,
   "id": "4d8261e0",
   "metadata": {},
   "outputs": [
    {
     "name": "stdout",
     "output_type": "stream",
     "text": [
      "System: Combined_sys\n",
      "Highest convergence error among components in recycle\n",
      "streams {HX117-0, PUMP112-0} after 1 loops:\n",
      "- flow rate   5.17e-04 kmol/hr (0.4%)\n",
      "- temperature 1.87e-03 K (0.0006%)\n",
      "ins...\n",
      "[0] RCF_Catalyst  \n",
      "    phase: 'l', T: 298.15 K, P: 101325 Pa\n",
      "    flow (kmol/hr): NiC  2.28\n",
      "[1] EthylAcetate  \n",
      "    phase: 'l', T: 298.15 K, P: 101325 Pa\n",
      "    flow (kmol/hr): Water  2.76e+03\n",
      "[2] Hexane  \n",
      "    phase: 'l', T: 298.15 K, P: 101325 Pa\n",
      "    flow (kmol/hr): Water  7.02e+03\n",
      "[3] Poplar_In  \n",
      "    phase: 'l', T: 298.15 K, P: 101325 Pa\n",
      "    flow (kmol/hr): Water     925\n",
      "                    Sucrose   0.243\n",
      "                    Extract   7.4\n",
      "                    Acetate   48.6\n",
      "                    Ash       1e+03\n",
      "                    Lignin    156\n",
      "                    Glucan    238\n",
      "                    Xylan     84.5\n",
      "                    Arabinan  1.26\n",
      "                    Mannan    19\n",
      "                    Galactan  7.2\n",
      "[4] Meoh_in  \n",
      "    phase: 'l', T: 298.15 K, P: 101325 Pa\n",
      "    flow (kmol/hr): Water     2.26e+03\n",
      "                    Methanol  73.9\n",
      "[5] Hydrogen_In  \n",
      "    phase: 'g', T: 353.15 K, P: 3e+06 Pa\n",
      "    flow (kmol/hr): Hydrogen  771\n",
      "[6] -  \n",
      "    phase: 'l', T: 298.15 K, P: 101325 Pa\n",
      "    flow: 0\n",
      "[7] -  \n",
      "    phase: 'l', T: 298.15 K, P: 101325 Pa\n",
      "    flow: 0\n",
      "outs...\n",
      "[0] WW  \n",
      "    phase: 'l', T: 344.62 K, P: 101325 Pa\n",
      "    flow (kmol/hr): Water  168\n",
      "[1] RCF_WW  \n",
      "    phase: 'l', T: 408.71 K, P: 101325 Pa\n",
      "    flow (kmol/hr): Water     2.26e+03\n",
      "                    Acetate   48.5\n",
      "                    Methanol  8.15\n",
      "[2] WW_11  \n",
      "    phase: 'l', T: 266.89 K, P: 101325 Pa\n",
      "    flow (kmol/hr): Water  6.27e+03\n",
      "[3] WW_2  \n",
      "    phase: 'g', T: 400 K, P: 101325 Pa\n",
      "    flow (kmol/hr): Water  2.59e+03\n",
      "[4] waste_pulp  \n",
      "    phase: 'l', T: 400 K, P: 101325 Pa\n",
      "    flow (kmol/hr): Extract         7.4\n",
      "                    Glucan          23.8\n",
      "                    Xylan           5.92\n",
      "                    Arabinan        0.757\n",
      "                    Mannan          9.51\n",
      "                    Galactan        3.6\n",
      "                    Propylguaiacol  1.15e-05\n",
      "                    Propylsyringol  9.71e-06\n",
      "                    Syringaresinol  1.48e-07\n",
      "                    G_Dimer         1.59e-05\n",
      "                    S_Oligomer      1.52e-06\n",
      "                    G_Oligomer      1.76e-06\n",
      "[5] s18  \n",
      "    phase: 'l', T: 298.15 K, P: 101325 Pa\n",
      "    flow: 0\n",
      "[6] Purified_RCF_Oil  \n",
      "    phase: 'l', T: 400 K, P: 101325 Pa\n",
      "    flow (kmol/hr): Propylguaiacol  23.1\n",
      "                    Propylsyringol  19.6\n",
      "                    Syringaresinol  4.59\n",
      "                    G_Dimer         5.29\n",
      "[7] WW_21  \n",
      "    phase: 'g', T: 400 K, P: 101325 Pa\n",
      "    flow (kmol/hr): Water  750\n",
      "[8] oligomers  \n",
      "    phase: 'l', T: 400 K, P: 101325 Pa\n",
      "    flow (kmol/hr): Propylguaiacol  1.92\n",
      "                    Propylsyringol  1.63\n",
      "                    Syringaresinol  0.381\n",
      "                    G_Dimer         0.44\n",
      "                    S_Oligomer      3.31\n",
      "                    G_Oligomer      3.84\n",
      "[9] Carbohydrate_Pulp  \n",
      "    phase: 'l', T: 298.15 K, P: 101325 Pa\n",
      "    flow (kmol/hr): Water     925\n",
      "                    Sucrose   0.243\n",
      "                    Ash       1e+03\n",
      "                    Lignin    46.8\n",
      "                    Glucan    215\n",
      "                    Xylan     78.6\n",
      "                    Arabinan  0.505\n",
      "                    Mannan    9.51\n",
      "                    Galactan  3.6\n",
      "[10] Purge_Light_Gases  \n",
      "     phase: 'g', T: 503.68 K, P: 101326 Pa\n",
      "     flow (kmol/hr): Water     0.08\n",
      "                     CO        50.9\n",
      "                     Acetate   0.000295\n",
      "                     Methanol  5.58\n",
      "                     Hydrogen  258\n",
      "                     Methane   31.2\n"
     ]
    }
   ],
   "source": [
    "combined_sys.show()"
   ]
  },
  {
   "cell_type": "code",
   "execution_count": 45,
   "id": "c0da0c09",
   "metadata": {},
   "outputs": [],
   "source": [
    "#etoh_system = cellulosic.create_cellulosic_ethanol_system(ins = rcf_system.products[0])\n",
    "#etoh_system.simulate()"
   ]
  },
  {
   "cell_type": "code",
   "execution_count": 46,
   "id": "83881491",
   "metadata": {},
   "outputs": [],
   "source": [
    "#etoh_system.units[34].ins[2] = rcf_system.products[3] # Adding wastewater stream to cellulois ethanol's wastewater treatment system\n",
    "#etoh_system.units[58].ins[1] = rcf_system.products[1] # The purge light gases from PSA will go to the boiler turbogenererator\n"
   ]
  },
  {
   "cell_type": "code",
   "execution_count": 47,
   "id": "d8e3a345",
   "metadata": {},
   "outputs": [],
   "source": [
    "#integrated_sys = bst.System('RCF_EtOH',\n",
    "#                        path=(rcf_system, etoh_system))\n",
    "#integrated_sys.simulate()"
   ]
  },
  {
   "cell_type": "code",
   "execution_count": 48,
   "id": "cf200eae",
   "metadata": {},
   "outputs": [],
   "source": [
    "\n",
    "#integrated_sys.diagram(format = 'png')"
   ]
  },
  {
   "cell_type": "code",
   "execution_count": 49,
   "id": "3628a295",
   "metadata": {},
   "outputs": [],
   "source": [
    "# integrated_sys.diagram(format = 'png', file = 'integrated_system_7')"
   ]
  },
  {
   "cell_type": "code",
   "execution_count": 50,
   "id": "4136ac30",
   "metadata": {},
   "outputs": [],
   "source": [
    "    operators_per_section = 1  # operators per section from Seider recommendation\n",
    "    num_process_sections = 3  # number of proces sections from Seider recommendation [2 reactor, 1 separation]\n",
    "    num_operators_per_shift = operators_per_section * num_process_sections * 1  # multiplied by 2 for large continuous flow process (e.g., 1000 ton/day product). from Seider pg 505\n",
    "    num_shifts = 5  # number of shifts\n",
    "    pay_rate = 40  # $/hr\n",
    "    DWandB = num_operators_per_shift * num_shifts * 2080 * pay_rate  # direct wages and benefits. DWandB [$/year] = (operators/shift)*(5 shifts)*(40 hr/week)*(operating days/year-operator)*($/hr)\n",
    "    Dsalaries_benefits = 0.15 * DWandB  # direct salaries and benefits from Seider\n",
    "    O_supplies = 0.06 * DWandB  # Operating supplies and services from Seider\n",
    "    technical_assistance = 5 * 75000  # $/year. Technical assistance to manufacturing. assume 5 workers at $75000/year\n",
    "    control_lab = 5 * 80000  # $/year. Control laboratory. assume 5 workers at $80000/year\n",
    "    labor = DWandB + Dsalaries_benefits + O_supplies + technical_assistance + control_lab \n",
    "\n",
    "   "
   ]
  },
  {
   "cell_type": "code",
   "execution_count": 51,
   "id": "6891e922",
   "metadata": {},
   "outputs": [
    {
     "ename": "NameError",
     "evalue": "name 'integrated_sys' is not defined",
     "output_type": "error",
     "traceback": [
      "\u001b[1;31m---------------------------------------------------------------------------\u001b[0m",
      "\u001b[1;31mNameError\u001b[0m                                 Traceback (most recent call last)",
      "Cell \u001b[1;32mIn[51], line 2\u001b[0m\n\u001b[0;32m      1\u001b[0m \u001b[38;5;66;03m# Prices for all streams\u001b[39;00m\n\u001b[1;32m----> 2\u001b[0m meoh_frac_in_feed \u001b[38;5;241m=\u001b[39m \u001b[43mintegrated_sys\u001b[49m\u001b[38;5;241m.\u001b[39mfeeds[\u001b[38;5;241m0\u001b[39m]\u001b[38;5;241m.\u001b[39mimass[\u001b[38;5;124m'\u001b[39m\u001b[38;5;124mMethanol\u001b[39m\u001b[38;5;124m'\u001b[39m]\u001b[38;5;241m/\u001b[39mintegrated_sys\u001b[38;5;241m.\u001b[39mfeeds[\u001b[38;5;241m0\u001b[39m]\u001b[38;5;241m.\u001b[39mF_mass\n\u001b[0;32m      3\u001b[0m F\u001b[38;5;241m.\u001b[39mMeoh_in\u001b[38;5;241m.\u001b[39mprice \u001b[38;5;241m=\u001b[39m meoh_frac_in_feed\u001b[38;5;241m*\u001b[39m prices[\u001b[38;5;124m'\u001b[39m\u001b[38;5;124mMethanol\u001b[39m\u001b[38;5;124m'\u001b[39m]     \n\u001b[0;32m      4\u001b[0m F\u001b[38;5;241m.\u001b[39mPoplar_In\u001b[38;5;241m.\u001b[39mprice \u001b[38;5;241m=\u001b[39m prices[\u001b[38;5;124m'\u001b[39m\u001b[38;5;124mFeedstock\u001b[39m\u001b[38;5;124m'\u001b[39m] \n",
      "\u001b[1;31mNameError\u001b[0m: name 'integrated_sys' is not defined"
     ]
    }
   ],
   "source": [
    "# Prices for all streams\n",
    "meoh_frac_in_feed = integrated_sys.feeds[0].imass['Methanol']/integrated_sys.feeds[0].F_mass\n",
    "F.Meoh_in.price = meoh_frac_in_feed* prices['Methanol']     \n",
    "F.Poplar_In.price = prices['Feedstock'] \n",
    "F.Hydrogen_In.price = prices['Hydrogen']      \n",
    "F.sulfuric_acid.price = prices['H2SO4']\n",
    "F.ammonia.price = prices['NH3']\n",
    "F.cellulase.price = prices['Cellulase'] \n",
    "F.CSL.price = prices ['CSL'] \n",
    "F.DAP.price = prices['DAP'] \n",
    "F.caustic.price = prices['Caustic']\n",
    "F.denaturant.price =  prices['Denaturant'] \n",
    "F.cooling_tower_chemicals.price = prices['CT_chemicals'] \n",
    "F.FGD_lime.price = prices['FOD_lime']\n",
    "F.boiler_chemicals.price = prices['Boiler_chemicals'] \n",
    "\n"
   ]
  },
  {
   "cell_type": "code",
   "execution_count": null,
   "id": "7542e49c",
   "metadata": {},
   "outputs": [],
   "source": [
    "integrated_tea = create_cellulosic_ethanol_tea(integrated_sys)"
   ]
  },
  {
   "cell_type": "code",
   "execution_count": null,
   "id": "ac8121e8",
   "metadata": {},
   "outputs": [
    {
     "name": "stdout",
     "output_type": "stream",
     "text": [
      "The MSP for crude RCF oil is  1.242 USD/kg\n"
     ]
    }
   ],
   "source": [
    "print(f'The MSP for crude RCF oil is  {round(integrated_tea.solve_price(F.RCF_Oil),3)} USD/kg')"
   ]
  },
  {
   "cell_type": "code",
   "execution_count": null,
   "id": "af86b07e",
   "metadata": {},
   "outputs": [],
   "source": [
    "rcf_reactor_installed_cost = (solvolysis_reactor.installed_cost +hydrogenolysis_reactor.installed_cost)"
   ]
  },
  {
   "cell_type": "code",
   "execution_count": null,
   "id": "9c3695ba",
   "metadata": {},
   "outputs": [
    {
     "name": "stdout",
     "output_type": "stream",
     "text": [
      "BioSTEAM system installed equipment cost is 442.98 MM USD\n",
      "BioSTEAM system RCF reactor costs only are 221.57 MM USD\n",
      "BioSTEAM system purchased equipment cost is 228.69 MM USD\n"
     ]
    }
   ],
   "source": [
    "print('BioSTEAM system installed equipment cost is', round(integrated_sys.installed_equipment_cost / 1e6, 2), 'MM USD')\n",
    "print('BioSTEAM system RCF reactor costs only are', round(rcf_reactor_installed_cost / 1e6, 2), 'MM USD')\n",
    "print('BioSTEAM system purchased equipment cost is', round(integrated_sys.purchase_cost / 1e6, 2), 'MM USD')"
   ]
  },
  {
   "cell_type": "code",
   "execution_count": null,
   "id": "3d668ff2",
   "metadata": {},
   "outputs": [
    {
     "name": "stdout",
     "output_type": "stream",
     "text": [
      "The Wastewater system cost is 49.85 MM USD\n"
     ]
    }
   ],
   "source": [
    "print(f'The Wastewater system cost is {round(F.WWTC.installed_cost/1e6,2)} MM USD')"
   ]
  },
  {
   "cell_type": "code",
   "execution_count": null,
   "id": "d92f7f4d",
   "metadata": {},
   "outputs": [
    {
     "name": "stdout",
     "output_type": "stream",
     "text": [
      "Storage tank cost is 2.43 MM USD\n"
     ]
    }
   ],
   "source": [
    "storage_cost = (F.T701.installed_cost +F.T702.installed_cost+F.T703.installed_cost + F.H2SO4_storage.installed_cost)\n",
    "print(f'Storage tank cost is {round(storage_cost/1e6,2)} MM USD')"
   ]
  },
  {
   "cell_type": "code",
   "execution_count": null,
   "id": "b6688045",
   "metadata": {},
   "outputs": [
    {
     "name": "stdout",
     "output_type": "stream",
     "text": [
      "Utility installed cost is 5.44 MM USD\n"
     ]
    }
   ],
   "source": [
    "utilities_cost = F.CWP.installed_cost + F.ADP.installed_cost + F.FWT.installed_cost + F.CT.installed_cost + 957234 + F.PWC.installed_cost\n",
    "print(f'Utility installed cost is {round(utilities_cost/1e6,2)} MM USD')"
   ]
  },
  {
   "cell_type": "code",
   "execution_count": null,
   "id": "53bb0cca",
   "metadata": {},
   "outputs": [
    {
     "name": "stdout",
     "output_type": "stream",
     "text": [
      "The Boiler Turbogenerator cost is 52.1 MM USD\n"
     ]
    }
   ],
   "source": [
    "print(f'The Boiler Turbogenerator cost is {round(F.BT.installed_cost/1e6,2)} MM USD')"
   ]
  },
  {
   "cell_type": "code",
   "execution_count": null,
   "id": "ae3dcca9",
   "metadata": {},
   "outputs": [
    {
     "data": {
      "text/plain": [
       "841917850.6257675"
      ]
     },
     "execution_count": 56,
     "metadata": {},
     "output_type": "execute_result"
    }
   ],
   "source": [
    "integrated_tea.TCI"
   ]
  },
  {
   "cell_type": "code",
   "execution_count": null,
   "id": "f2f05b97",
   "metadata": {},
   "outputs": [],
   "source": [
    "etoh_reaction_separationcost = etoh_system.installed_cost - storage_cost - utilities_cost - F.BT.installed_cost - F.WWTC.installed_cost"
   ]
  },
  {
   "cell_type": "code",
   "execution_count": null,
   "id": "0d565ec2",
   "metadata": {},
   "outputs": [
    {
     "data": {
      "text/plain": [
       "73.7298654152745"
      ]
     },
     "execution_count": 58,
     "metadata": {},
     "output_type": "execute_result"
    }
   ],
   "source": [
    "etoh_reaction_separationcost/1e6"
   ]
  },
  {
   "cell_type": "code",
   "execution_count": null,
   "id": "d58cad96",
   "metadata": {},
   "outputs": [
    {
     "name": "stdout",
     "output_type": "stream",
     "text": [
      "Stream: CIP to <CIPpackage: CIP>\n",
      "phase: 'l', T: 298.15 K, P: 101325 Pa\n",
      "flow (kmol/hr): Water  4.85\n"
     ]
    }
   ],
   "source": [
    "F.CIP"
   ]
  },
  {
   "cell_type": "code",
   "execution_count": null,
   "id": "809f29bc",
   "metadata": {},
   "outputs": [],
   "source": []
  },
  {
   "cell_type": "code",
   "execution_count": null,
   "id": "00a2aab4",
   "metadata": {},
   "outputs": [
    {
     "data": {
      "text/plain": [
       "0"
      ]
     },
     "execution_count": 60,
     "metadata": {},
     "output_type": "execute_result"
    }
   ],
   "source": [
    "F.R601.installed_cost + F.R602.installed_cost + F.S601.installed_cost + F.S603.installed_cost + F.S604.installed_cost"
   ]
  },
  {
   "cell_type": "code",
   "execution_count": null,
   "id": "ba02987f",
   "metadata": {},
   "outputs": [
    {
     "data": {
      "text/html": [
       "\n",
       "        <iframe\n",
       "            width=\"100%\"\n",
       "            height=\"800px\"\n",
       "            src=\"data:text/html;charset=utf-8,%3C%21DOCTYPE%20html%3E%3Chtml%3E%3Chead%3E%3Clink%20rel%3D%22stylesheet%22%20href%3D%22https%3A//unpkg.com/tippy.js%406.3.7/themes/translucent.css%22%3E%3Clink%20rel%3D%22stylesheet%22%20href%3D%22https%3A//rawcdn.githack.com/BioSTEAMDevelopmentGroup/biosteam/e065aca079c216d72b75949bbcbb74a3bbddb75d/biosteam/digraph/digraph.css%22%3E%3Cscript%20src%3D%22https%3A//unpkg.com/%40popperjs/core%402%22%3E%3C/script%3E%3Cscript%20src%3D%22https%3A//unpkg.com/tippy.js%406%22%3E%3C/script%3E%3Cscript%20src%3D%22https%3A//rawcdn.githack.com/BioSTEAMDevelopmentGroup/biosteam/e065aca079c216d72b75949bbcbb74a3bbddb75d/biosteam/digraph/digraph.js%22%3E%3C/script%3E%3C/head%3E%3Cbody%3E%3Csvg%20width%3D%227769pt%22%20height%3D%221375pt%22%20viewBox%3D%220.00%200.00%207769.00%201375.00%22%3E%0A%3Cg%20id%3D%22graph0%22%20class%3D%22graph%22%20transform%3D%22scale%281%201%29%20rotate%280%29%20translate%284%201370.65%29%22%3E%0A%3Cpolygon%20fill%3D%22%23ffffff%22%20fill-opacity%3D%220.666667%22%20stroke%3D%22none%22%20points%3D%22-4%2C4%20-4%2C-1370.65%207765.01%2C-1370.65%207765.01%2C4%20-4%2C4%22%3E%3C/polygon%3E%0A%0A%3Cg%20id%3D%22edge127%22%20class%3D%22edge%22%20data-tippy-content%3D%22Temperature%3A%20473.15%20K%3Cbr%26gt%3BPressure%3A%206e%2B06%20Pa%3Cbr%26gt%3BGas%20flow%3A%2082.3%20kmol/hr%3Cbr%26gt%3BLiquid%20flow%3A%201.6e%2B04%20kmol/hr%22%3E%0A%3Cpath%20fill%3D%22none%22%20stroke%3D%22%234e4e4e%22%20stroke-width%3D%222.2%22%20d%3D%22M505.02%2C-783.05C532.4%2C-783.05%20565.34%2C-783.05%20595.52%2C-783.05%22%3E%3C/path%3E%0A%3Cpolygon%20fill%3D%22%234e4e4e%22%20stroke%3D%22%234e4e4e%22%20stroke-width%3D%222.2%22%20points%3D%22595.38%2C-786.55%20605.38%2C-783.05%20595.38%2C-779.55%20595.38%2C-786.55%22%3E%3C/polygon%3E%0A%3Cg%20id%3D%22a_edge127-label%22%3E%3Ca%20title%3D%22%20Temperature%3A%20473.15%20K%3Cbr%26gt%3BPressure%3A%206e%2B06%20Pa%3Cbr%26gt%3BGas%20flow%3A%2082.3%20kmol/hr%3Cbr%26gt%3BLiquid%20flow%3A%201.6e%2B04%20kmol/hr%22%3E%0A%3Ctext%20text-anchor%3D%22middle%22%20x%3D%22556.8%22%20y%3D%22-801.25%22%20font-family%3D%22Arial%22%20font-size%3D%2214.00%22%20fill%3D%22%234e4e4e%22%20space%3D%22preserve%22%3E%20Solvolysis%3C/text%3E%0A%3Ctext%20text-anchor%3D%22middle%22%20x%3D%22556.8%22%20y%3D%22-785.5%22%20font-family%3D%22Arial%22%20font-size%3D%2214.00%22%20fill%3D%22%234e4e4e%22%20space%3D%22preserve%22%3E%20Liquor%3C/text%3E%0A%3C/a%3E%0A%3C/g%3E%0A%3C/g%3E%0A%0A%3Cg%20id%3D%22edge2%22%20class%3D%22edge%22%20data-tippy-content%3D%22Temperature%3A%20298.15%20K%3Cbr%26gt%3BPressure%3A%20101325%20Pa%3Cbr%26gt%3BLiquid%20flow%3A%202.28e%2B03%20kmol/hr%22%3E%0A%3Cpath%20fill%3D%22none%22%20stroke%3D%22%234e4e4e%22%20stroke-width%3D%221.6%22%20d%3D%22M479.39%2C-761.1C489.88%2C-754.81%20501.54%2C-748.14%20512.55%2C-742.55%20546.29%2C-725.39%20584.98%2C-708.65%20617.15%2C-695.49%22%3E%3C/path%3E%0A%3Cpolygon%20fill%3D%22%234e4e4e%22%20stroke%3D%22%234e4e4e%22%20stroke-width%3D%221.6%22%20points%3D%22618.04%2C-698.91%20625.99%2C-691.91%20615.41%2C-692.42%20618.04%2C-698.91%22%3E%3C/polygon%3E%0A%3Cg%20id%3D%22a_edge2-label%22%3E%3Ca%20title%3D%22%20Temperature%3A%20298.15%20K%3Cbr%26gt%3BPressure%3A%20101325%20Pa%3Cbr%26gt%3BLiquid%20flow%3A%202.28e%2B03%20kmol/hr%22%3E%0A%3Ctext%20text-anchor%3D%22middle%22%20x%3D%22556.8%22%20y%3D%22-760.75%22%20font-family%3D%22Arial%22%20font-size%3D%2214.00%22%20fill%3D%22%234e4e4e%22%20space%3D%22preserve%22%3E%20Carbohydrate%3C/text%3E%0A%3Ctext%20text-anchor%3D%22middle%22%20x%3D%22556.8%22%20y%3D%22-745%22%20font-family%3D%22Arial%22%20font-size%3D%2214.00%22%20fill%3D%22%234e4e4e%22%20space%3D%22preserve%22%3E%20Pulp%3C/text%3E%0A%3C/a%3E%0A%3C/g%3E%0A%3C/g%3E%0A%0A%3Cg%20id%3D%22edge3%22%20class%3D%22edge%22%20data-tippy-content%3D%22Temperature%3A%20456.07%20K%3Cbr%26gt%3BPressure%3A%206e%2B06%20Pa%3Cbr%26gt%3BGas%20flow%3A%203.16e%2B03%20kmol/hr%3Cbr%26gt%3BLiquid%20flow%3A%201.46e%2B04%20kmol/hr%22%3E%0A%3Cpath%20fill%3D%22none%22%20stroke%3D%22%234e4e4e%22%20stroke-width%3D%222.2%22%20d%3D%22M724.92%2C-761.03C780.61%2C-728.66%20884.74%2C-668.13%20947.21%2C-631.82%22%3E%3C/path%3E%0A%3Cpolygon%20fill%3D%22%234e4e4e%22%20stroke%3D%22%234e4e4e%22%20stroke-width%3D%222.2%22%20points%3D%22948.6%2C-635.06%20955.49%2C-627.01%20945.08%2C-629.01%20948.6%2C-635.06%22%3E%3C/polygon%3E%0A%3Cg%20id%3D%22a_edge3-label%22%3E%3Ca%20title%3D%22%20Temperature%3A%20456.07%20K%3Cbr%26gt%3BPressure%3A%206e%2B06%20Pa%3Cbr%26gt%3BGas%20flow%3A%203.16e%2B03%20kmol/hr%3Cbr%26gt%3BLiquid%20flow%3A%201.46e%2B04%20kmol/hr%22%3E%0A%3Ctext%20text-anchor%3D%22middle%22%20x%3D%22815.3%22%20y%3D%22-732.01%22%20font-family%3D%22Arial%22%20font-size%3D%2214.00%22%20fill%3D%22%234e4e4e%22%20space%3D%22preserve%22%3E%20s6%3C/text%3E%0A%3C/a%3E%0A%3C/g%3E%0A%3C/g%3E%0A%0A%3Cg%20id%3D%22edge4%22%20class%3D%22edge%22%20data-tippy-content%3D%22Temperature%3A%20320%20K%3Cbr%26gt%3BPressure%3A%20500000%20Pa%3Cbr%26gt%3BGas%20flow%3A%201.96e%2B03%20kmol/hr%22%3E%0A%3Cpath%20fill%3D%22none%22%20stroke%3D%22%234e4e4e%22%20d%3D%22M999.43%2C-642.65C999.43%2C-710.83%201086.24%2C-701.32%201161.6%2C-680.23%22%3E%3C/path%3E%0A%3Cpolygon%20fill%3D%22%234e4e4e%22%20stroke%3D%22%234e4e4e%22%20points%3D%221162.54%2C-683.6%201171.18%2C-677.46%201160.6%2C-676.88%201162.54%2C-683.6%22%3E%3C/polygon%3E%0A%3Cg%20id%3D%22a_edge4-label%22%3E%3Ca%20title%3D%22%20Temperature%3A%20320%20K%3Cbr%26gt%3BPressure%3A%20500000%20Pa%3Cbr%26gt%3BGas%20flow%3A%201.96e%2B03%20kmol/hr%22%3E%0A%3Ctext%20text-anchor%3D%22middle%22%20x%3D%221152.05%22%20y%3D%22-687.88%22%20font-family%3D%22Arial%22%20font-size%3D%2214.00%22%20fill%3D%22%234e4e4e%22%20space%3D%22preserve%22%3E%20s7%3C/text%3E%0A%3C/a%3E%0A%3C/g%3E%0A%3C/g%3E%0A%0A%3Cg%20id%3D%22edge128%22%20class%3D%22edge%22%20data-tippy-content%3D%22Temperature%3A%20320%20K%3Cbr%26gt%3BPressure%3A%20500000%20Pa%3Cbr%26gt%3BLiquid%20flow%3A%201.58e%2B04%20kmol/hr%22%3E%0A%3Cpath%20fill%3D%22none%22%20stroke%3D%22%234e4e4e%22%20stroke-width%3D%222.2%22%20d%3D%22M999.43%2C-561.45C999.43%2C-477.61%201113.74%2C-458.63%201193.89%2C-455.63%22%3E%3C/path%3E%0A%3Cpolygon%20fill%3D%22%234e4e4e%22%20stroke%3D%22%234e4e4e%22%20stroke-width%3D%222.2%22%20points%3D%221193.71%2C-459.14%201203.61%2C-455.36%201193.52%2C-452.14%201193.71%2C-459.14%22%3E%3C/polygon%3E%0A%3Cg%20id%3D%22a_edge128-label%22%3E%3Ca%20title%3D%22%20Temperature%3A%20320%20K%3Cbr%26gt%3BPressure%3A%20500000%20Pa%3Cbr%26gt%3BLiquid%20flow%3A%201.58e%2B04%20kmol/hr%22%3E%0A%3Ctext%20text-anchor%3D%22middle%22%20x%3D%221152.05%22%20y%3D%22-462.34%22%20font-family%3D%22Arial%22%20font-size%3D%2214.00%22%20fill%3D%22%234e4e4e%22%20space%3D%22preserve%22%3E%20s8%3C/text%3E%0A%3C/a%3E%0A%3C/g%3E%0A%3C/g%3E%0A%0A%3Cg%20id%3D%22edge5%22%20class%3D%22edge%22%20data-tippy-content%3D%22Temperature%3A%20320%20K%3Cbr%26gt%3BPressure%3A%20500000%20Pa%3Cbr%26gt%3BGas%20flow%3A%201.96e%2B03%20kmol/hr%22%3E%0A%3Cpath%20fill%3D%22none%22%20stroke%3D%22%234e4e4e%22%20d%3D%22M1370.49%2C-641.05C1397.2%2C-641.05%201425.08%2C-641.05%201448.08%2C-641.05%22%3E%3C/path%3E%0A%3Cpolygon%20fill%3D%22%234e4e4e%22%20stroke%3D%22%234e4e4e%22%20points%3D%221447.78%2C-644.55%201457.78%2C-641.05%201447.78%2C-637.55%201447.78%2C-644.55%22%3E%3C/polygon%3E%0A%3Cg%20id%3D%22a_edge5-label%22%3E%3Ca%20title%3D%22%20Temperature%3A%20320%20K%3Cbr%26gt%3BPressure%3A%20500000%20Pa%3Cbr%26gt%3BGas%20flow%3A%201.96e%2B03%20kmol/hr%22%3E%0A%3Ctext%20text-anchor%3D%22middle%22%20x%3D%221390.93%22%20y%3D%22-643.5%22%20font-family%3D%22Arial%22%20font-size%3D%2214.00%22%20fill%3D%22%234e4e4e%22%20space%3D%22preserve%22%3E%20s9%3C/text%3E%0A%3C/a%3E%0A%3C/g%3E%0A%3C/g%3E%0A%0A%3Cg%20id%3D%22edge6%22%20class%3D%22edge%22%20data-tippy-content%3D%22Temperature%3A%20260%20K%3Cbr%26gt%3BPressure%3A%20500000%20Pa%3Cbr%26gt%3BGas%20flow%3A%201.81e%2B03%20kmol/hr%22%3E%0A%3Cpath%20fill%3D%22none%22%20stroke%3D%22%234e4e4e%22%20d%3D%22M1500.68%2C-681.65C1500.68%2C-787.03%201683.72%2C-729.94%201767.19%2C-698.43%22%3E%3C/path%3E%0A%3Cpolygon%20fill%3D%22%234e4e4e%22%20stroke%3D%22%234e4e4e%22%20points%3D%221768.31%2C-701.75%201776.4%2C-694.9%201765.81%2C-695.21%201768.31%2C-701.75%22%3E%3C/polygon%3E%0A%3Cg%20id%3D%22a_edge6-label%22%3E%3Ca%20title%3D%22%20Temperature%3A%20260%20K%3Cbr%26gt%3BPressure%3A%20500000%20Pa%3Cbr%26gt%3BGas%20flow%3A%201.81e%2B03%20kmol/hr%22%3E%0A%3Ctext%20text-anchor%3D%22middle%22%20x%3D%221655.06%22%20y%3D%22-743.92%22%20font-family%3D%22Arial%22%20font-size%3D%2214.00%22%20fill%3D%22%234e4e4e%22%20space%3D%22preserve%22%3E%20s10%3C/text%3E%0A%3C/a%3E%0A%3C/g%3E%0A%3C/g%3E%0A%0A%3Cg%20id%3D%22edge143%22%20class%3D%22edge%22%20data-tippy-content%3D%22Temperature%3A%20260%20K%3Cbr%26gt%3BPressure%3A%20500000%20Pa%3Cbr%26gt%3BLiquid%20flow%3A%20157%20kmol/hr%22%3E%0A%3Cpath%20fill%3D%22none%22%20stroke%3D%22%234e4e4e%22%20d%3D%22M1500.68%2C-600.45C1500.68%2C-575.29%201664.32%2C-563.73%201752.71%2C-559.33%22%3E%3C/path%3E%0A%3Cpolygon%20fill%3D%22%234e4e4e%22%20stroke%3D%22%234e4e4e%22%20points%3D%221752.81%2C-562.83%201762.63%2C-558.85%201752.47%2C-555.84%201752.81%2C-562.83%22%3E%3C/polygon%3E%0A%3Cg%20id%3D%22a_edge143-label%22%3E%3Ca%20title%3D%22%20Temperature%3A%20260%20K%3Cbr%26gt%3BPressure%3A%20500000%20Pa%3Cbr%26gt%3BLiquid%20flow%3A%20157%20kmol/hr%22%3E%0A%3Ctext%20text-anchor%3D%22middle%22%20x%3D%221655.06%22%20y%3D%22-573.58%22%20font-family%3D%22Arial%22%20font-size%3D%2214.00%22%20fill%3D%22%234e4e4e%22%20space%3D%22preserve%22%3E%20s11%3C/text%3E%0A%3C/a%3E%0A%3C/g%3E%0A%3C/g%3E%0A%0A%3Cg%20id%3D%22edge7%22%20class%3D%22edge%22%20data-tippy-content%3D%22Temperature%3A%20303%20K%3Cbr%26gt%3BPressure%3A%20500000%20Pa%3Cbr%26gt%3BGas%20flow%3A%201.81e%2B03%20kmol/hr%3Cbr%26gt%3BLiquid%20flow%3A%200%20kmol/hr%22%3E%0A%3Cpath%20fill%3D%22none%22%20stroke%3D%22%234e4e4e%22%20d%3D%22M1841.94%2C-679.38C1892.04%2C-675.23%201988.85%2C-667.21%202044.77%2C-662.58%22%3E%3C/path%3E%0A%3Cpolygon%20fill%3D%22%234e4e4e%22%20stroke%3D%22%234e4e4e%22%20points%3D%222044.87%2C-666.09%202054.54%2C-661.77%202044.29%2C-659.11%202044.87%2C-666.09%22%3E%3C/polygon%3E%0A%3Cg%20id%3D%22a_edge7-label%22%3E%3Ca%20title%3D%22%20Temperature%3A%20303%20K%3Cbr%26gt%3BPressure%3A%20500000%20Pa%3Cbr%26gt%3BGas%20flow%3A%201.81e%2B03%20kmol/hr%3Cbr%26gt%3BLiquid%20flow%3A%200%20kmol/hr%22%3E%0A%3Ctext%20text-anchor%3D%22middle%22%20x%3D%221961.08%22%20y%3D%22-676.4%22%20font-family%3D%22Arial%22%20font-size%3D%2214.00%22%20fill%3D%22%234e4e4e%22%20space%3D%22preserve%22%3E%20s12%3C/text%3E%0A%3C/a%3E%0A%3C/g%3E%0A%3C/g%3E%0A%0A%3Cg%20id%3D%22edge8%22%20class%3D%22edge%22%20data-tippy-content%3D%22Temperature%3A%20303%20K%3Cbr%26gt%3BPressure%3A%20500000%20Pa%3Cbr%26gt%3BGas%20flow%3A%201.46e%2B03%20kmol/hr%22%3E%0A%3Cpath%20fill%3D%22none%22%20stroke%3D%22%234e4e4e%22%20d%3D%22M2120.93%2C-659.05C2150.86%2C-659.05%202197.64%2C-659.05%202241.18%2C-659.05%22%3E%3C/path%3E%0A%3Cpolygon%20fill%3D%22%234e4e4e%22%20stroke%3D%22%234e4e4e%22%20points%3D%222240.95%2C-662.55%202250.95%2C-659.05%202240.95%2C-655.55%202240.95%2C-662.55%22%3E%3C/polygon%3E%0A%3Cg%20id%3D%22a_edge8-label%22%3E%3Ca%20title%3D%22%20Temperature%3A%20303%20K%3Cbr%26gt%3BPressure%3A%20500000%20Pa%3Cbr%26gt%3BGas%20flow%3A%201.46e%2B03%20kmol/hr%22%3E%0A%3Ctext%20text-anchor%3D%22middle%22%20x%3D%222202.33%22%20y%3D%22-661.5%22%20font-family%3D%22Arial%22%20font-size%3D%2214.00%22%20fill%3D%22%234e4e4e%22%20space%3D%22preserve%22%3E%20s13%3C/text%3E%0A%3C/a%3E%0A%3C/g%3E%0A%3C/g%3E%0A%0A%3Cg%20id%3D%22edge144%22%20class%3D%22edge%22%20data-tippy-content%3D%22Temperature%3A%20503.68%20K%3Cbr%26gt%3BPressure%3A%20101326%20Pa%3Cbr%26gt%3BGas%20flow%3A%20345%20kmol/hr%22%3E%0A%3Cpath%20fill%3D%22none%22%20stroke%3D%22%234e4e4e%22%20d%3D%22M2120.68%2C-644.18C2153.25%2C-628.93%202206%2C-604.96%202252.71%2C-587.05%202322.56%2C-560.25%202498.95%2C-495.29%202572.59%2C-482.05%203239.54%2C-362.1%203418.5%2C-423.05%204096.15%2C-423.05%204096.15%2C-423.05%204096.15%2C-423.05%205656.7%2C-423.05%205732.23%2C-423.05%205813.55%2C-386.59%205862.31%2C-360.34%22%3E%3C/path%3E%0A%3Cpolygon%20fill%3D%22%234e4e4e%22%20stroke%3D%22%234e4e4e%22%20points%3D%225863.8%2C-363.52%205870.88%2C-355.64%205860.43%2C-357.38%205863.8%2C-363.52%22%3E%3C/polygon%3E%0A%3Cg%20id%3D%22a_edge144-label%22%3E%3Ca%20title%3D%22%20Temperature%3A%20503.68%20K%3Cbr%26gt%3BPressure%3A%20101326%20Pa%3Cbr%26gt%3BGas%20flow%3A%20345%20kmol/hr%22%3E%0A%3Ctext%20text-anchor%3D%22middle%22%20x%3D%224325.7%22%20y%3D%22-441.25%22%20font-family%3D%22Arial%22%20font-size%3D%2214.00%22%20fill%3D%22%234e4e4e%22%20space%3D%22preserve%22%3E%20Purge%20Light%3C/text%3E%0A%3Ctext%20text-anchor%3D%22middle%22%20x%3D%224325.7%22%20y%3D%22-425.5%22%20font-family%3D%22Arial%22%20font-size%3D%2214.00%22%20fill%3D%22%234e4e4e%22%20space%3D%22preserve%22%3E%20Gases%3C/text%3E%0A%3C/a%3E%0A%3C/g%3E%0A%3C/g%3E%0A%0A%3Cg%20id%3D%22edge96%22%20class%3D%22edge%22%20data-tippy-content%3D%22Temperature%3A%20591.51%20K%3Cbr%26gt%3BPressure%3A%203e%2B06%20Pa%3Cbr%26gt%3BGas%20flow%3A%201.46e%2B03%20kmol/hr%3Cbr%26gt%3BLiquid%20flow%3A%200%20kmol/hr%22%3E%0A%3Cpath%20fill%3D%22none%22%20stroke%3D%22%234e4e4e%22%20d%3D%22M2450.48%2C-689.23C2501.95%2C-705.08%202563.09%2C-723.9%202606.19%2C-737.17%22%3E%3C/path%3E%0A%3Cpolygon%20fill%3D%22%234e4e4e%22%20stroke%3D%22%234e4e4e%22%20points%3D%222604.99%2C-740.46%202615.58%2C-740.05%202607.05%2C-733.77%202604.99%2C-740.46%22%3E%3C/polygon%3E%0A%3Cg%20id%3D%22a_edge96-label%22%3E%3Ca%20title%3D%22%20Temperature%3A%20591.51%20K%3Cbr%26gt%3BPressure%3A%203e%2B06%20Pa%3Cbr%26gt%3BGas%20flow%3A%201.46e%2B03%20kmol/hr%3Cbr%26gt%3BLiquid%20flow%3A%200%20kmol/hr%22%3E%0A%3Ctext%20text-anchor%3D%22middle%22%20x%3D%222511.34%22%20y%3D%22-725.77%22%20font-family%3D%22Arial%22%20font-size%3D%2214.00%22%20fill%3D%22%234e4e4e%22%20space%3D%22preserve%22%3E%20hydrogen%20recycle%3C/text%3E%0A%3C/a%3E%0A%3C/g%3E%0A%3C/g%3E%0A%0A%3Cg%20id%3D%22edge10%22%20class%3D%22edge%22%20data-tippy-content%3D%22Temperature%3A%20509.31%20K%3Cbr%26gt%3BPressure%3A%203e%2B06%20Pa%3Cbr%26gt%3BGas%20flow%3A%202.23e%2B03%20kmol/hr%22%3E%0A%3Cpath%20fill%3D%22none%22%20stroke%3D%22%234e4e4e%22%20d%3D%22M2751.48%2C-754.05C2849.54%2C-754.05%202844.53%2C-834.46%202925.98%2C-889.05%202941.64%2C-899.53%202959.59%2C-910.1%202975.1%2C-918.79%22%3E%3C/path%3E%0A%3Cpolygon%20fill%3D%22%234e4e4e%22%20stroke%3D%22%234e4e4e%22%20points%3D%222973.12%2C-921.7%202983.57%2C-923.48%202976.52%2C-915.57%202973.12%2C-921.7%22%3E%3C/polygon%3E%0A%3Cg%20id%3D%22a_edge10-label%22%3E%3Ca%20title%3D%22%20Temperature%3A%20509.31%20K%3Cbr%26gt%3BPressure%3A%203e%2B06%20Pa%3Cbr%26gt%3BGas%20flow%3A%202.23e%2B03%20kmol/hr%22%3E%0A%3Ctext%20text-anchor%3D%22middle%22%20x%3D%222838.73%22%20y%3D%22-884.83%22%20font-family%3D%22Arial%22%20font-size%3D%2214.00%22%20fill%3D%22%234e4e4e%22%20space%3D%22preserve%22%3E%20s4%3C/text%3E%0A%3C/a%3E%0A%3C/g%3E%0A%3C/g%3E%0A%0A%3Cg%20id%3D%22edge95%22%20class%3D%22edge%22%20data-tippy-content%3D%22Temperature%3A%20473.15%20K%3Cbr%26gt%3BPressure%3A%203e%2B06%20Pa%3Cbr%26gt%3BGas%20flow%3A%202.23e%2B03%20kmol/hr%3Cbr%26gt%3BLiquid%20flow%3A%200%20kmol/hr%22%3E%0A%3Cpath%20fill%3D%22none%22%20stroke%3D%22%234e4e4e%22%20d%3D%22M2981.81%2C-933.67C2843.04%2C-909.75%202282.97%2C-814.05%202203.33%2C-814.05%20998.43%2C-814.05%20998.43%2C-814.05%20998.43%2C-814.05%20922.61%2C-814.05%20836.91%2C-804.83%20774.64%2C-796.45%22%3E%3C/path%3E%0A%3Cpolygon%20fill%3D%22%234e4e4e%22%20stroke%3D%22%234e4e4e%22%20points%3D%22775.18%2C-792.99%20764.8%2C-795.1%20774.23%2C-799.93%20775.18%2C-792.99%22%3E%3C/polygon%3E%0A%3Cg%20id%3D%22a_edge95-label%22%3E%3Ca%20title%3D%22%20Temperature%3A%20473.15%20K%3Cbr%26gt%3BPressure%3A%203e%2B06%20Pa%3Cbr%26gt%3BGas%20flow%3A%202.23e%2B03%20kmol/hr%3Cbr%26gt%3BLiquid%20flow%3A%200%20kmol/hr%22%3E%0A%3Ctext%20text-anchor%3D%22middle%22%20x%3D%221808.82%22%20y%3D%22-816.5%22%20font-family%3D%22Arial%22%20font-size%3D%2214.00%22%20fill%3D%22%234e4e4e%22%20space%3D%22preserve%22%3E%20s5%3C/text%3E%0A%3C/a%3E%0A%3C/g%3E%0A%3C/g%3E%0A%0A%3Cg%20id%3D%22edge11%22%20class%3D%22edge%22%20data-tippy-content%3D%22Temperature%3A%20346.65%20K%3Cbr%26gt%3BPressure%3A%20101325%20Pa%3Cbr%26gt%3BGas%20flow%3A%201.55e%2B04%20kmol/hr%22%3E%0A%3Cpath%20fill%3D%22none%22%20stroke%3D%22%234e4e4e%22%20stroke-width%3D%222.2%22%20d%3D%22M1271.49%2C-501.25C1271.49%2C-563.4%201357.19%2C-548.92%201423.56%2C-528.39%22%3E%3C/path%3E%0A%3Cpolygon%20fill%3D%22%234e4e4e%22%20stroke%3D%22%234e4e4e%22%20stroke-width%3D%222.2%22%20points%3D%221424.49%2C-531.77%201432.95%2C-525.39%201422.35%2C-525.1%201424.49%2C-531.77%22%3E%3C/polygon%3E%0A%3Cg%20id%3D%22a_edge11-label%22%3E%3Ca%20title%3D%22%20Temperature%3A%20346.65%20K%3Cbr%26gt%3BPressure%3A%20101325%20Pa%3Cbr%26gt%3BGas%20flow%3A%201.55e%2B04%20kmol/hr%22%3E%0A%3Ctext%20text-anchor%3D%22middle%22%20x%3D%221390.93%22%20y%3D%22-542.38%22%20font-family%3D%22Arial%22%20font-size%3D%2214.00%22%20fill%3D%22%234e4e4e%22%20space%3D%22preserve%22%3E%20s15%3C/text%3E%0A%3C/a%3E%0A%3C/g%3E%0A%3C/g%3E%0A%0A%3Cg%20id%3D%22edge129%22%20class%3D%22edge%22%20data-tippy-content%3D%22Temperature%3A%20369.79%20K%3Cbr%26gt%3BPressure%3A%20101325%20Pa%3Cbr%26gt%3BLiquid%20flow%3A%20288%20kmol/hr%22%3E%0A%3Cpath%20fill%3D%22none%22%20stroke%3D%22%234e4e4e%22%20stroke-width%3D%221.6%22%20d%3D%22M1271.49%2C-412.85C1271.49%2C-324.27%201380.72%2C-274.11%201448.03%2C-251.6%22%3E%3C/path%3E%0A%3Cpolygon%20fill%3D%22%234e4e4e%22%20stroke%3D%22%234e4e4e%22%20stroke-width%3D%221.6%22%20points%3D%221448.93%2C-254.99%201457.37%2C-248.59%201446.78%2C-248.33%201448.93%2C-254.99%22%3E%3C/polygon%3E%0A%3Cg%20id%3D%22a_edge129-label%22%3E%3Ca%20title%3D%22%20Temperature%3A%20369.79%20K%3Cbr%26gt%3BPressure%3A%20101325%20Pa%3Cbr%26gt%3BLiquid%20flow%3A%20288%20kmol/hr%22%3E%0A%3Ctext%20text-anchor%3D%22middle%22%20x%3D%221390.93%22%20y%3D%22-282.23%22%20font-family%3D%22Arial%22%20font-size%3D%2214.00%22%20fill%3D%22%234e4e4e%22%20space%3D%22preserve%22%3E%20s16%3C/text%3E%0A%3C/a%3E%0A%3C/g%3E%0A%3C/g%3E%0A%0A%3Cg%20id%3D%22edge12%22%20class%3D%22edge%22%20data-tippy-content%3D%22Temperature%3A%20341.48%20K%3Cbr%26gt%3BPressure%3A%20101325%20Pa%3Cbr%26gt%3BGas%20flow%3A%201.33e%2B04%20kmol/hr%22%3E%0A%3Cpath%20fill%3D%22none%22%20stroke%3D%22%234e4e4e%22%20stroke-width%3D%222.2%22%20d%3D%22M1500.68%2C-544.25C1500.68%2C-572.8%201536.41%2C-544.75%201564.93%2C-543.25%201579.52%2C-542.48%201583.08%2C-540.95%201597.68%2C-540.3%201648.63%2C-538.01%201661.62%2C-535.87%201712.43%2C-540.3%201725.11%2C-541.4%201738.63%2C-543.32%201751.39%2C-545.47%22%3E%3C/path%3E%0A%3Cpolygon%20fill%3D%22%234e4e4e%22%20stroke%3D%22%234e4e4e%22%20stroke-width%3D%222.2%22%20points%3D%221750.6%2C-548.88%201761.06%2C-547.19%201751.83%2C-541.99%201750.6%2C-548.88%22%3E%3C/polygon%3E%0A%3Cg%20id%3D%22a_edge12-label%22%3E%3Ca%20title%3D%22%20Temperature%3A%20341.48%20K%3Cbr%26gt%3BPressure%3A%20101325%20Pa%3Cbr%26gt%3BGas%20flow%3A%201.33e%2B04%20kmol/hr%22%3E%0A%3Ctext%20text-anchor%3D%22middle%22%20x%3D%221655.06%22%20y%3D%22-542.75%22%20font-family%3D%22Arial%22%20font-size%3D%2214.00%22%20fill%3D%22%234e4e4e%22%20space%3D%22preserve%22%3E%20%C2%A0%3C/text%3E%0A%3C/a%3E%0A%3C/g%3E%0A%3C/g%3E%0A%0A%3Cg%20id%3D%22edge130%22%20class%3D%22edge%22%20data-tippy-content%3D%22Temperature%3A%20372.93%20K%3Cbr%26gt%3BPressure%3A%20101325%20Pa%3Cbr%26gt%3BLiquid%20flow%3A%202.14e%2B03%20kmol/hr%22%3E%0A%3Cpath%20fill%3D%22none%22%20stroke%3D%22%234e4e4e%22%20stroke-width%3D%221.6%22%20d%3D%22M1500.68%2C-455.85C1500.68%2C-414.54%201562.62%2C-460.25%201589.68%2C-429.05%201605.22%2C-411.13%201583.26%2C-395.12%201597.68%2C-376.3%201618.56%2C-349.04%201706.58%2C-316.67%201761.86%2C-298.43%22%3E%3C/path%3E%0A%3Cpolygon%20fill%3D%22%234e4e4e%22%20stroke%3D%22%234e4e4e%22%20stroke-width%3D%221.6%22%20points%3D%221762.74%2C-301.82%201771.16%2C-295.4%201760.57%2C-295.17%201762.74%2C-301.82%22%3E%3C/polygon%3E%0A%3Cg%20id%3D%22a_edge130-label%22%3E%3Ca%20title%3D%22%20Temperature%3A%20372.93%20K%3Cbr%26gt%3BPressure%3A%20101325%20Pa%3Cbr%26gt%3BLiquid%20flow%3A%202.14e%2B03%20kmol/hr%22%3E%0A%3Ctext%20text-anchor%3D%22middle%22%20x%3D%221655.06%22%20y%3D%22-378.75%22%20font-family%3D%22Arial%22%20font-size%3D%2214.00%22%20fill%3D%22%234e4e4e%22%20space%3D%22preserve%22%3E%20To%20WW%20Treatment%3C/text%3E%0A%3C/a%3E%0A%3C/g%3E%0A%3C/g%3E%0A%0A%3Cg%20id%3D%22edge13%22%20class%3D%22edge%22%20data-tippy-content%3D%22Temperature%3A%20341.4%20K%3Cbr%26gt%3BPressure%3A%20101325%20Pa%3Cbr%26gt%3BGas%20flow%3A%201.33e%2B04%20kmol/hr%3Cbr%26gt%3BLiquid%20flow%3A%20179%20kmol/hr%22%3E%0A%3Cpath%20fill%3D%22none%22%20stroke%3D%22%234e4e4e%22%20stroke-width%3D%222.2%22%20d%3D%22M1897.21%2C-557.05C1929.3%2C-557.05%202004.44%2C-512.15%202050.1%2C-482.83%22%3E%3C/path%3E%0A%3Cpolygon%20fill%3D%22%234e4e4e%22%20stroke%3D%22%234e4e4e%22%20stroke-width%3D%222.2%22%20points%3D%222051.75%2C-485.93%202058.24%2C-477.56%202047.94%2C-480.06%202051.75%2C-485.93%22%3E%3C/polygon%3E%0A%3Cg%20id%3D%22a_edge13-label%22%3E%3Ca%20title%3D%22%20Temperature%3A%20341.4%20K%3Cbr%26gt%3BPressure%3A%20101325%20Pa%3Cbr%26gt%3BGas%20flow%3A%201.33e%2B04%20kmol/hr%3Cbr%26gt%3BLiquid%20flow%3A%20179%20kmol/hr%22%3E%0A%3Ctext%20text-anchor%3D%22middle%22%20x%3D%221961.08%22%20y%3D%22-558.47%22%20font-family%3D%22Arial%22%20font-size%3D%2214.00%22%20fill%3D%22%234e4e4e%22%20space%3D%22preserve%22%3E%20s17%3C/text%3E%0A%3C/a%3E%0A%3C/g%3E%0A%3C/g%3E%0A%0A%3Cg%20id%3D%22edge97%22%20class%3D%22edge%22%20data-tippy-content%3D%22Temperature%3A%20309.63%20K%3Cbr%26gt%3BPressure%3A%20101325%20Pa%3Cbr%26gt%3BLiquid%20flow%3A%201.35e%2B04%20kmol/hr%22%3E%0A%3Cpath%20fill%3D%22none%22%20stroke%3D%22%234e4e4e%22%20stroke-width%3D%222.2%22%20d%3D%22M2120.99%2C-453.66C2133.15%2C-452.09%202147.18%2C-450.43%202159.96%2C-449.3%202204.8%2C-445.31%202255.73%2C-442.67%202293.63%2C-441.06%22%3E%3C/path%3E%0A%3Cpolygon%20fill%3D%22%234e4e4e%22%20stroke%3D%22%234e4e4e%22%20stroke-width%3D%222.2%22%20points%3D%222293.29%2C-444.58%202303.14%2C-440.68%202293%2C-437.59%202293.29%2C-444.58%22%3E%3C/polygon%3E%0A%3Cg%20id%3D%22a_edge97-label%22%3E%3Ca%20title%3D%22%20Temperature%3A%20309.63%20K%3Cbr%26gt%3BPressure%3A%20101325%20Pa%3Cbr%26gt%3BLiquid%20flow%3A%201.35e%2B04%20kmol/hr%22%3E%0A%3Ctext%20text-anchor%3D%22middle%22%20x%3D%222202.33%22%20y%3D%22-451.75%22%20font-family%3D%22Arial%22%20font-size%3D%2214.00%22%20fill%3D%22%234e4e4e%22%20space%3D%22preserve%22%3E%20Meoh%20recycle%3C/text%3E%0A%3C/a%3E%0A%3C/g%3E%0A%3C/g%3E%0A%0A%3Cg%20id%3D%22edge15%22%20class%3D%22edge%22%20data-tippy-content%3D%22Temperature%3A%20308.07%20K%3Cbr%26gt%3BPressure%3A%20101325%20Pa%3Cbr%26gt%3BLiquid%20flow%3A%201.58e%2B04%20kmol/hr%22%3E%0A%3Cpath%20fill%3D%22none%22%20stroke%3D%22%234e4e4e%22%20stroke-width%3D%222.2%22%20d%3D%22M2443.15%2C-439.05C2535.31%2C-439.05%202499.82%2C-544.49%202572.59%2C-601.05%202583.88%2C-609.82%202597.41%2C-617.18%202610.45%2C-623.09%22%3E%3C/path%3E%0A%3Cpolygon%20fill%3D%22%234e4e4e%22%20stroke%3D%22%234e4e4e%22%20stroke-width%3D%222.2%22%20points%3D%222609.07%2C-626.31%202619.65%2C-627.01%202611.82%2C-619.87%202609.07%2C-626.31%22%3E%3C/polygon%3E%0A%3Cg%20id%3D%22a_edge15-label%22%3E%3Ca%20title%3D%22%20Temperature%3A%20308.07%20K%3Cbr%26gt%3BPressure%3A%20101325%20Pa%3Cbr%26gt%3BLiquid%20flow%3A%201.58e%2B04%20kmol/hr%22%3E%0A%3Ctext%20text-anchor%3D%22middle%22%20x%3D%222511.34%22%20y%3D%22-596.48%22%20font-family%3D%22Arial%22%20font-size%3D%2214.00%22%20fill%3D%22%234e4e4e%22%20space%3D%22preserve%22%3E%20s1%3C/text%3E%0A%3C/a%3E%0A%3C/g%3E%0A%3C/g%3E%0A%0A%3Cg%20id%3D%22edge16%22%20class%3D%22edge%22%20data-tippy-content%3D%22Temperature%3A%20308.07%20K%3Cbr%26gt%3BPressure%3A%206e%2B06%20Pa%3Cbr%26gt%3BGas%20flow%3A%200%20kmol/hr%3Cbr%26gt%3BLiquid%20flow%3A%201.58e%2B04%20kmol/hr%3Cbr%26gt%3BSolid%20flow%3A%200%20kmol/hr%22%3E%0A%3Cpath%20fill%3D%22none%22%20stroke%3D%22%234e4e4e%22%20stroke-width%3D%222.2%22%20d%3D%22M2701.53%2C-642.43C2758.43%2C-646.7%202864.03%2C-663.6%202917.98%2C-729.3%202934.43%2C-749.32%202911.59%2C-765.5%202925.98%2C-787.05%202936.61%2C-802.96%202954.03%2C-814.59%202970.49%2C-822.69%22%3E%3C/path%3E%0A%3Cpolygon%20fill%3D%22%234e4e4e%22%20stroke%3D%22%234e4e4e%22%20stroke-width%3D%222.2%22%20points%3D%222968.61%2C-825.68%202979.16%2C-826.6%202971.49%2C-819.3%202968.61%2C-825.68%22%3E%3C/polygon%3E%0A%3Cg%20id%3D%22a_edge16-label%22%3E%3Ca%20title%3D%22%20Temperature%3A%20308.07%20K%3Cbr%26gt%3BPressure%3A%206e%2B06%20Pa%3Cbr%26gt%3BGas%20flow%3A%200%20kmol/hr%3Cbr%26gt%3BLiquid%20flow%3A%201.58e%2B04%20kmol/hr%3Cbr%26gt%3BSolid%20flow%3A%200%20kmol/hr%22%3E%0A%3Ctext%20text-anchor%3D%22middle%22%20x%3D%222838.73%22%20y%3D%22-731.75%22%20font-family%3D%22Arial%22%20font-size%3D%2214.00%22%20fill%3D%22%234e4e4e%22%20space%3D%22preserve%22%3E%20s2%3C/text%3E%0A%3C/a%3E%0A%3C/g%3E%0A%3C/g%3E%0A%0A%3Cg%20id%3D%22edge94%22%20class%3D%22edge%22%20data-tippy-content%3D%22Temperature%3A%20473.15%20K%3Cbr%26gt%3BPressure%3A%206e%2B06%20Pa%3Cbr%26gt%3BGas%20flow%3A%200.156%20kmol/hr%3Cbr%26gt%3BLiquid%20flow%3A%201.58e%2B04%20kmol/hr%22%3E%0A%3Cpath%20fill%3D%22none%22%20stroke%3D%22%234e4e4e%22%20stroke-width%3D%222.2%22%20d%3D%22M2980.89%2C-841.44C2872.14%2C-852.7%202506.43%2C-888.05%202203.33%2C-888.05%20685.05%2C-888.05%20685.05%2C-888.05%20685.05%2C-888.05%20603.12%2C-888.05%20586.45%2C-858.42%20512.55%2C-823.05%20505.35%2C-819.6%20497.91%2C-815.65%20490.7%2C-811.59%22%3E%3C/path%3E%0A%3Cpolygon%20fill%3D%22%234e4e4e%22%20stroke%3D%22%234e4e4e%22%20stroke-width%3D%222.2%22%20points%3D%22492.57%2C-808.63%20482.16%2C-806.65%20489.06%2C-814.69%20492.57%2C-808.63%22%3E%3C/polygon%3E%0A%3Cg%20id%3D%22a_edge94-label%22%3E%3Ca%20title%3D%22%20Temperature%3A%20473.15%20K%3Cbr%26gt%3BPressure%3A%206e%2B06%20Pa%3Cbr%26gt%3BGas%20flow%3A%200.156%20kmol/hr%3Cbr%26gt%3BLiquid%20flow%3A%201.58e%2B04%20kmol/hr%22%3E%0A%3Ctext%20text-anchor%3D%22middle%22%20x%3D%221655.06%22%20y%3D%22-890.5%22%20font-family%3D%22Arial%22%20font-size%3D%2214.00%22%20fill%3D%22%234e4e4e%22%20space%3D%22preserve%22%3E%20s3%3C/text%3E%0A%3C/a%3E%0A%3C/g%3E%0A%3C/g%3E%0A%0A%3Cg%20id%3D%22edge17%22%20class%3D%22edge%22%20data-tippy-content%3D%22Temperature%3A%20298.15%20K%3Cbr%26gt%3BPressure%3A%20101325%20Pa%3Cbr%26gt%3BLiquid%20flow%3A%202.28e%2B03%20kmol/hr%22%3E%0A%3Cpath%20fill%3D%22none%22%20stroke%3D%22%234e4e4e%22%20stroke-width%3D%221.6%22%20d%3D%22M710.45%2C-646.95C757.04%2C-602.96%20862.89%2C-503.02%20932.45%2C-437.34%22%3E%3C/path%3E%0A%3Cpolygon%20fill%3D%22%234e4e4e%22%20stroke%3D%22%234e4e4e%22%20stroke-width%3D%221.6%22%20points%3D%22934.54%2C-440.18%20939.41%2C-430.77%20929.74%2C-435.09%20934.54%2C-440.18%22%3E%3C/polygon%3E%0A%3Cg%20id%3D%22a_edge17-label%22%3E%3Ca%20title%3D%22%20Temperature%3A%20298.15%20K%3Cbr%26gt%3BPressure%3A%20101325%20Pa%3Cbr%26gt%3BLiquid%20flow%3A%202.28e%2B03%20kmol/hr%22%3E%0A%3Ctext%20text-anchor%3D%22middle%22%20x%3D%22815.3%22%20y%3D%22-584.62%22%20font-family%3D%22Arial%22%20font-size%3D%2214.00%22%20fill%3D%22%234e4e4e%22%20space%3D%22preserve%22%3E%20s19%3C/text%3E%0A%3C/a%3E%0A%3C/g%3E%0A%3C/g%3E%0A%0A%3Cg%20id%3D%22edge19%22%20class%3D%22edge%22%20data-tippy-content%3D%22Temperature%3A%20294.15%20K%3Cbr%26gt%3BPressure%3A%20547155%20Pa%3Cbr%26gt%3BLiquid%20flow%3A%2017.1%20kmol/hr%22%3E%0A%3Cpath%20fill%3D%22none%22%20stroke%3D%22%234e4e4e%22%20d%3D%22M284.04%2C-278.05C312.98%2C-278.05%20345.13%2C-278.05%20372.88%2C-278.05%22%3E%3C/path%3E%0A%3Cpolygon%20fill%3D%22%234e4e4e%22%20stroke%3D%22%234e4e4e%22%20points%3D%22372.56%2C-281.55%20382.56%2C-278.05%20372.56%2C-274.55%20372.56%2C-281.55%22%3E%3C/polygon%3E%0A%3Cg%20id%3D%22a_edge19-label%22%3E%3Ca%20title%3D%22%20Temperature%3A%20294.15%20K%3Cbr%26gt%3BPressure%3A%20547155%20Pa%3Cbr%26gt%3BLiquid%20flow%3A%2017.1%20kmol/hr%22%3E%0A%3Ctext%20text-anchor%3D%22middle%22%20x%3D%22333.17%22%20y%3D%22-280.5%22%20font-family%3D%22Arial%22%20font-size%3D%2214.00%22%20fill%3D%22%234e4e4e%22%20space%3D%22preserve%22%3E%20s20%3C/text%3E%0A%3C/a%3E%0A%3C/g%3E%0A%3C/g%3E%0A%0A%3Cg%20id%3D%22edge98%22%20class%3D%22edge%22%20data-tippy-content%3D%22Temperature%3A%20294.15%20K%3Cbr%26gt%3BPressure%3A%20547155%20Pa%3Cbr%26gt%3BLiquid%20flow%3A%2017.1%20kmol/hr%22%3E%0A%3Cpath%20fill%3D%22none%22%20stroke%3D%22%234e4e4e%22%20d%3D%22M503.48%2C-286.36C535.96%2C-290.96%20576.62%2C-296.71%20611.22%2C-301.6%22%3E%3C/path%3E%0A%3Cpolygon%20fill%3D%22%234e4e4e%22%20stroke%3D%22%234e4e4e%22%20points%3D%22610.34%2C-305.01%20620.73%2C-302.95%20611.32%2C-298.08%20610.34%2C-305.01%22%3E%3C/polygon%3E%0A%3Cg%20id%3D%22a_edge98-label%22%3E%3Ca%20title%3D%22%20Temperature%3A%20294.15%20K%3Cbr%26gt%3BPressure%3A%20547155%20Pa%3Cbr%26gt%3BLiquid%20flow%3A%2017.1%20kmol/hr%22%3E%0A%3Ctext%20text-anchor%3D%22middle%22%20x%3D%22556.8%22%20y%3D%22-302.53%22%20font-family%3D%22Arial%22%20font-size%3D%2214.00%22%20fill%3D%22%234e4e4e%22%20space%3D%22preserve%22%3E%20s21%3C/text%3E%0A%3C/a%3E%0A%3C/g%3E%0A%3C/g%3E%0A%0A%3Cg%20id%3D%22edge119%22%20class%3D%22edge%22%20data-tippy-content%3D%22Temperature%3A%20366.43%20K%3Cbr%26gt%3BPressure%3A%20476228%20Pa%3Cbr%26gt%3BLiquid%20flow%3A%20887%20kmol/hr%22%3E%0A%3Cpath%20fill%3D%22none%22%20stroke%3D%22%234e4e4e%22%20stroke-width%3D%221.6%22%20d%3D%22M749.76%2C-324.37C782.49%2C-330.83%20823.19%2C-338.92%20859.55%2C-346.3%20879.53%2C-350.35%20901.11%2C-354.78%20921.16%2C-358.93%22%3E%3C/path%3E%0A%3Cpolygon%20fill%3D%22%234e4e4e%22%20stroke%3D%22%234e4e4e%22%20stroke-width%3D%221.6%22%20points%3D%22920.23%2C-362.31%20930.73%2C-360.92%20921.65%2C-355.46%20920.23%2C-362.31%22%3E%3C/polygon%3E%0A%3Cg%20id%3D%22a_edge119-label%22%3E%3Ca%20title%3D%22%20Temperature%3A%20366.43%20K%3Cbr%26gt%3BPressure%3A%20476228%20Pa%3Cbr%26gt%3BLiquid%20flow%3A%20887%20kmol/hr%22%3E%0A%3Ctext%20text-anchor%3D%22middle%22%20x%3D%22815.3%22%20y%3D%22-348.75%22%20font-family%3D%22Arial%22%20font-size%3D%2214.00%22%20fill%3D%22%234e4e4e%22%20space%3D%22preserve%22%3E%20s22%3C/text%3E%0A%3C/a%3E%0A%3C/g%3E%0A%3C/g%3E%0A%0A%3Cg%20id%3D%22edge21%22%20class%3D%22edge%22%20data-tippy-content%3D%22Temperature%3A%20431.15%20K%3Cbr%26gt%3BPressure%3A%20557288%20Pa%3Cbr%26gt%3BLiquid%20flow%3A%209.92e%2B03%20kmol/hr%22%3E%0A%3Cpath%20fill%3D%22none%22%20stroke%3D%22%234e4e4e%22%20stroke-width%3D%222.2%22%20d%3D%22M1131.3%2C-375.05C1234.41%2C-375.05%201261.17%2C-223.56%201268.09%2C-140.32%22%3E%3C/path%3E%0A%3Cpolygon%20fill%3D%22%234e4e4e%22%20stroke%3D%22%234e4e4e%22%20stroke-width%3D%222.2%22%20points%3D%221271.58%2C-140.64%201268.83%2C-130.41%201264.6%2C-140.13%201271.58%2C-140.64%22%3E%3C/polygon%3E%0A%3Cg%20id%3D%22a_edge21-label%22%3E%3Ca%20title%3D%22%20Temperature%3A%20431.15%20K%3Cbr%26gt%3BPressure%3A%20557288%20Pa%3Cbr%26gt%3BLiquid%20flow%3A%209.92e%2B03%20kmol/hr%22%3E%0A%3Ctext%20text-anchor%3D%22middle%22%20x%3D%221152.05%22%20y%3D%22-377.15%22%20font-family%3D%22Arial%22%20font-size%3D%2214.00%22%20fill%3D%22%234e4e4e%22%20space%3D%22preserve%22%3E%20s23%3C/text%3E%0A%3C/a%3E%0A%3C/g%3E%0A%3C/g%3E%0A%0A%3Cg%20id%3D%22edge131%22%20class%3D%22edge%22%20data-tippy-content%3D%22Temperature%3A%20403.15%20K%3Cbr%26gt%3BPressure%3A%20270006%20Pa%3Cbr%26gt%3BLiquid%20flow%3A%209.35e%2B03%20kmol/hr%22%3E%0A%3Cpath%20fill%3D%22none%22%20stroke%3D%22%234e4e4e%22%20stroke-width%3D%222.2%22%20d%3D%22M1271.49%2C-46.45C1271.49%2C16.46%201359.26%2C3.03%201425.93%2C-16.24%22%3E%3C/path%3E%0A%3Cpolygon%20fill%3D%22%234e4e4e%22%20stroke%3D%22%234e4e4e%22%20stroke-width%3D%222.2%22%20points%3D%221424.76%2C-19.54%201435.34%2C-19.07%201426.77%2C-12.84%201424.76%2C-19.54%22%3E%3C/polygon%3E%0A%3Cg%20id%3D%22a_edge131-label%22%3E%3Ca%20title%3D%22%20Temperature%3A%20403.15%20K%3Cbr%26gt%3BPressure%3A%20270006%20Pa%3Cbr%26gt%3BLiquid%20flow%3A%209.35e%2B03%20kmol/hr%22%3E%0A%3Ctext%20text-anchor%3D%22middle%22%20x%3D%221390.93%22%20y%3D%22-12.47%22%20font-family%3D%22Arial%22%20font-size%3D%2214.00%22%20fill%3D%22%234e4e4e%22%20space%3D%22preserve%22%3E%20s25%3C/text%3E%0A%3C/a%3E%0A%3C/g%3E%0A%3C/g%3E%0A%0A%3Cg%20id%3D%22edge22%22%20class%3D%22edge%22%20data-tippy-content%3D%22Temperature%3A%20403.15%20K%3Cbr%26gt%3BPressure%3A%20270006%20Pa%3Cbr%26gt%3BGas%20flow%3A%20489%20kmol/hr%22%3E%0A%3Cpath%20fill%3D%22none%22%20stroke%3D%22%234e4e4e%22%20d%3D%22M1271.49%2C-127.65C1271.49%2C-229.07%201398.26%2C-126.05%201499.68%2C-126.05%201499.68%2C-126.05%201499.68%2C-126.05%202089.46%2C-126.05%202164.98%2C-126.05%202252.24%2C-115.54%202304.28%2C-108.15%22%3E%3C/path%3E%0A%3Cpolygon%20fill%3D%22%234e4e4e%22%20stroke%3D%22%234e4e4e%22%20points%3D%222304.57%2C-111.64%202313.97%2C-106.75%202303.57%2C-104.72%202304.57%2C-111.64%22%3E%3C/polygon%3E%0A%3Cg%20id%3D%22a_edge22-label%22%3E%3Ca%20title%3D%22%20Temperature%3A%20403.15%20K%3Cbr%26gt%3BPressure%3A%20270006%20Pa%3Cbr%26gt%3BGas%20flow%3A%20489%20kmol/hr%22%3E%0A%3Ctext%20text-anchor%3D%22middle%22%20x%3D%221808.82%22%20y%3D%22-128.5%22%20font-family%3D%22Arial%22%20font-size%3D%2214.00%22%20fill%3D%22%234e4e4e%22%20space%3D%22preserve%22%3E%20s24%3C/text%3E%0A%3C/a%3E%0A%3C/g%3E%0A%3C/g%3E%0A%0A%3Cg%20id%3D%22edge23%22%20class%3D%22edge%22%20data-tippy-content%3D%22Temperature%3A%20403.15%20K%3Cbr%26gt%3BPressure%3A%20270006%20Pa%3Cbr%26gt%3BLiquid%20flow%3A%209.35e%2B03%20kmol/hr%22%3E%0A%3Cpath%20fill%3D%22none%22%20stroke%3D%22%234e4e4e%22%20stroke-width%3D%222.2%22%20d%3D%22M1589.82%2C-39.17C1627.43%2C-37.94%201671.46%2C-36.5%201710.06%2C-35.24%22%3E%3C/path%3E%0A%3Cpolygon%20fill%3D%22%234e4e4e%22%20stroke%3D%22%234e4e4e%22%20stroke-width%3D%222.2%22%20points%3D%221709.99%2C-38.74%201719.87%2C-34.92%201709.76%2C-31.75%201709.99%2C-38.74%22%3E%3C/polygon%3E%0A%3Cg%20id%3D%22a_edge23-label%22%3E%3Ca%20title%3D%22%20Temperature%3A%20403.15%20K%3Cbr%26gt%3BPressure%3A%20270006%20Pa%3Cbr%26gt%3BLiquid%20flow%3A%209.35e%2B03%20kmol/hr%22%3E%0A%3Ctext%20text-anchor%3D%22middle%22%20x%3D%221655.06%22%20y%3D%22-41.26%22%20font-family%3D%22Arial%22%20font-size%3D%2214.00%22%20fill%3D%22%234e4e4e%22%20space%3D%22preserve%22%3E%20s26%3C/text%3E%0A%3C/a%3E%0A%3C/g%3E%0A%3C/g%3E%0A%0A%3Cg%20id%3D%22edge24%22%20class%3D%22edge%22%20data-tippy-content%3D%22Temperature%3A%20403.15%20K%3Cbr%26gt%3BPressure%3A%20270006%20Pa%3Cbr%26gt%3BLiquid%20flow%3A%209.35e%2B03%20kmol/hr%22%3E%0A%3Cpath%20fill%3D%22none%22%20stroke%3D%22%234e4e4e%22%20stroke-width%3D%222.2%22%20d%3D%22M1894.25%2C-37.22C1931.62%2C-39.5%201975.23%2C-42.17%202011.56%2C-44.4%22%3E%3C/path%3E%0A%3Cpolygon%20fill%3D%22%234e4e4e%22%20stroke%3D%22%234e4e4e%22%20stroke-width%3D%222.2%22%20points%3D%222011.07%2C-47.87%202021.26%2C-44.99%202011.5%2C-40.89%202011.07%2C-47.87%22%3E%3C/polygon%3E%0A%3Cg%20id%3D%22a_edge24-label%22%3E%3Ca%20title%3D%22%20Temperature%3A%20403.15%20K%3Cbr%26gt%3BPressure%3A%20270006%20Pa%3Cbr%26gt%3BLiquid%20flow%3A%209.35e%2B03%20kmol/hr%22%3E%0A%3Ctext%20text-anchor%3D%22middle%22%20x%3D%221961.08%22%20y%3D%22-46.94%22%20font-family%3D%22Arial%22%20font-size%3D%2214.00%22%20fill%3D%22%234e4e4e%22%20space%3D%22preserve%22%3E%20s27%3C/text%3E%0A%3C/a%3E%0A%3C/g%3E%0A%3C/g%3E%0A%0A%3Cg%20id%3D%22edge132%22%20class%3D%22edge%22%20data-tippy-content%3D%22Temperature%3A%20373.17%20K%3Cbr%26gt%3BPressure%3A%20101325%20Pa%3Cbr%26gt%3BLiquid%20flow%3A%208.84e%2B03%20kmol/hr%22%3E%0A%3Cpath%20fill%3D%22none%22%20stroke%3D%22%234e4e4e%22%20stroke-width%3D%222.2%22%20d%3D%22M2113.36%2C-71.02C2143.88%2C-98.21%202199.16%2C-144.63%202252.71%2C-175.05%202259.98%2C-179.18%202267.78%2C-183.08%202275.69%2C-186.7%22%3E%3C/path%3E%0A%3Cpolygon%20fill%3D%22%234e4e4e%22%20stroke%3D%22%234e4e4e%22%20stroke-width%3D%222.2%22%20points%3D%222274.1%2C-189.83%202284.66%2C-190.64%202276.91%2C-183.42%202274.1%2C-189.83%22%3E%3C/polygon%3E%0A%3Cg%20id%3D%22a_edge132-label%22%3E%3Ca%20title%3D%22%20Temperature%3A%20373.17%20K%3Cbr%26gt%3BPressure%3A%20101325%20Pa%3Cbr%26gt%3BLiquid%20flow%3A%208.84e%2B03%20kmol/hr%22%3E%0A%3Ctext%20text-anchor%3D%22middle%22%20x%3D%222202.33%22%20y%3D%22-171.9%22%20font-family%3D%22Arial%22%20font-size%3D%2214.00%22%20fill%3D%22%234e4e4e%22%20space%3D%22preserve%22%3E%20s29%3C/text%3E%0A%3C/a%3E%0A%3C/g%3E%0A%3C/g%3E%0A%0A%3Cg%20id%3D%22edge100%22%20class%3D%22edge%22%20data-tippy-content%3D%22Temperature%3A%20373.17%20K%3Cbr%26gt%3BPressure%3A%20101325%20Pa%3Cbr%26gt%3BGas%20flow%3A%20513%20kmol/hr%22%3E%0A%3Cpath%20fill%3D%22none%22%20stroke%3D%22%234e4e4e%22%20d%3D%22M2152.29%2C-61.57C2199.12%2C-70.9%202262.02%2C-83.43%202304.27%2C-91.85%22%3E%3C/path%3E%0A%3Cpolygon%20fill%3D%22%234e4e4e%22%20stroke%3D%22%234e4e4e%22%20points%3D%222303.36%2C-95.24%202313.85%2C-93.76%202304.73%2C-88.38%202303.36%2C-95.24%22%3E%3C/polygon%3E%0A%3Cg%20id%3D%22a_edge100-label%22%3E%3Ca%20title%3D%22%20Temperature%3A%20373.17%20K%3Cbr%26gt%3BPressure%3A%20101325%20Pa%3Cbr%26gt%3BGas%20flow%3A%20513%20kmol/hr%22%3E%0A%3Ctext%20text-anchor%3D%22middle%22%20x%3D%222202.33%22%20y%3D%22-82.15%22%20font-family%3D%22Arial%22%20font-size%3D%2214.00%22%20fill%3D%22%234e4e4e%22%20space%3D%22preserve%22%3E%20s28%3C/text%3E%0A%3C/a%3E%0A%3C/g%3E%0A%3C/g%3E%0A%0A%3Cg%20id%3D%22edge26%22%20class%3D%22edge%22%20data-tippy-content%3D%22Temperature%3A%20298.15%20K%3Cbr%26gt%3BPressure%3A%201.2159e%2B06%20Pa%3Cbr%26gt%3BLiquid%20flow%3A%2025.5%20kmol/hr%22%3E%0A%3Cpath%20fill%3D%22none%22%20stroke%3D%22%234e4e4e%22%20d%3D%22M1885.32%2C-389.16C1927.74%2C-384.73%201980.19%2C-379.25%202021.04%2C-374.98%22%3E%3C/path%3E%0A%3Cpolygon%20fill%3D%22%234e4e4e%22%20stroke%3D%22%234e4e4e%22%20points%3D%222021.14%2C-378.49%202030.73%2C-373.97%202020.42%2C-371.53%202021.14%2C-378.49%22%3E%3C/polygon%3E%0A%3Cg%20id%3D%22a_edge26-label%22%3E%3Ca%20title%3D%22%20Temperature%3A%20298.15%20K%3Cbr%26gt%3BPressure%3A%201.2159e%2B06%20Pa%3Cbr%26gt%3BLiquid%20flow%3A%2025.5%20kmol/hr%22%3E%0A%3Ctext%20text-anchor%3D%22middle%22%20x%3D%221961.08%22%20y%3D%22-389.29%22%20font-family%3D%22Arial%22%20font-size%3D%2214.00%22%20fill%3D%22%234e4e4e%22%20space%3D%22preserve%22%3E%20s31%3C/text%3E%0A%3C/a%3E%0A%3C/g%3E%0A%3C/g%3E%0A%0A%3Cg%20id%3D%22edge102%22%20class%3D%22edge%22%20data-tippy-content%3D%22Temperature%3A%20367.61%20K%3Cbr%26gt%3BPressure%3A%20476228%20Pa%3Cbr%26gt%3BLiquid%20flow%3A%203.34e%2B03%20kmol/hr%22%3E%0A%3Cpath%20fill%3D%22none%22%20stroke%3D%22%234e4e4e%22%20stroke-width%3D%221.6%22%20d%3D%22M2126.84%2C-345.98C2173.06%2C-318.71%202251.78%2C-272.25%202302.41%2C-242.36%22%3E%3C/path%3E%0A%3Cpolygon%20fill%3D%22%234e4e4e%22%20stroke%3D%22%234e4e4e%22%20stroke-width%3D%221.6%22%20points%3D%222304.16%2C-245.4%202310.99%2C-237.3%202300.6%2C-239.37%202304.16%2C-245.4%22%3E%3C/polygon%3E%0A%3Cg%20id%3D%22a_edge102-label%22%3E%3Ca%20title%3D%22%20Temperature%3A%20367.61%20K%3Cbr%26gt%3BPressure%3A%20476228%20Pa%3Cbr%26gt%3BLiquid%20flow%3A%203.34e%2B03%20kmol/hr%22%3E%0A%3Ctext%20text-anchor%3D%22middle%22%20x%3D%222202.33%22%20y%3D%22-324.99%22%20font-family%3D%22Arial%22%20font-size%3D%2214.00%22%20fill%3D%22%234e4e4e%22%20space%3D%22preserve%22%3E%20s32%3C/text%3E%0A%3C/a%3E%0A%3C/g%3E%0A%3C/g%3E%0A%0A%3Cg%20id%3D%22edge27%22%20class%3D%22edge%22%20data-tippy-content%3D%22Temperature%3A%20374.41%20K%3Cbr%26gt%3BPressure%3A%20101325%20Pa%3Cbr%26gt%3BLiquid%20flow%3A%201.22e%2B04%20kmol/hr%22%3E%0A%3Cpath%20fill%3D%22none%22%20stroke%3D%22%234e4e4e%22%20stroke-width%3D%222.2%22%20d%3D%22M2396.62%2C-236.11C2451.51%2C-263.5%202545.18%2C-310.24%202605.03%2C-340.1%22%3E%3C/path%3E%0A%3Cpolygon%20fill%3D%22%234e4e4e%22%20stroke%3D%22%234e4e4e%22%20stroke-width%3D%222.2%22%20points%3D%222603.41%2C-343.2%202613.92%2C-344.54%202606.53%2C-336.94%202603.41%2C-343.2%22%3E%3C/polygon%3E%0A%3Cg%20id%3D%22a_edge27-label%22%3E%3Ca%20title%3D%22%20Temperature%3A%20374.41%20K%3Cbr%26gt%3BPressure%3A%20101325%20Pa%3Cbr%26gt%3BLiquid%20flow%3A%201.22e%2B04%20kmol/hr%22%3E%0A%3Ctext%20text-anchor%3D%22middle%22%20x%3D%222511.34%22%20y%3D%22-320.68%22%20font-family%3D%22Arial%22%20font-size%3D%2214.00%22%20fill%3D%22%234e4e4e%22%20space%3D%22preserve%22%3E%20s33%3C/text%3E%0A%3C/a%3E%0A%3C/g%3E%0A%3C/g%3E%0A%0A%3Cg%20id%3D%22edge28%22%20class%3D%22edge%22%20data-tippy-content%3D%22Temperature%3A%20374.41%20K%3Cbr%26gt%3BPressure%3A%20101325%20Pa%3Cbr%26gt%3BLiquid%20flow%3A%201.22e%2B04%20kmol/hr%22%3E%0A%3Cpath%20fill%3D%22none%22%20stroke%3D%22%234e4e4e%22%20stroke-width%3D%222.2%22%20d%3D%22M2725.27%2C-381.85C2778.66%2C-395.31%202856.48%2C-418.85%202917.98%2C-453.55%202941.8%2C-466.98%202965.25%2C-486.8%202982.89%2C-503.42%22%3E%3C/path%3E%0A%3Cpolygon%20fill%3D%22%234e4e4e%22%20stroke%3D%22%234e4e4e%22%20stroke-width%3D%222.2%22%20points%3D%222980.02%2C-505.52%202989.65%2C-509.95%202984.88%2C-500.48%202980.02%2C-505.52%22%3E%3C/polygon%3E%0A%3Cg%20id%3D%22a_edge28-label%22%3E%3Ca%20title%3D%22%20Temperature%3A%20374.41%20K%3Cbr%26gt%3BPressure%3A%20101325%20Pa%3Cbr%26gt%3BLiquid%20flow%3A%201.22e%2B04%20kmol/hr%22%3E%0A%3Ctext%20text-anchor%3D%22middle%22%20x%3D%222838.73%22%20y%3D%22-471.75%22%20font-family%3D%22Arial%22%20font-size%3D%2214.00%22%20fill%3D%22%234e4e4e%22%20space%3D%22preserve%22%3E%20pretreated%3C/text%3E%0A%3Ctext%20text-anchor%3D%22middle%22%20x%3D%222838.73%22%20y%3D%22-456%22%20font-family%3D%22Arial%22%20font-size%3D%2214.00%22%20fill%3D%22%234e4e4e%22%20space%3D%22preserve%22%3E%20biomass%3C/text%3E%0A%3C/a%3E%0A%3C/g%3E%0A%3C/g%3E%0A%0A%3Cg%20id%3D%22edge29%22%20class%3D%22edge%22%20data-tippy-content%3D%22Temperature%3A%20344.72%20K%3Cbr%26gt%3BPressure%3A%20101325%20Pa%3Cbr%26gt%3BLiquid%20flow%3A%201.98e%2B04%20kmol/hr%22%3E%0A%3Cpath%20fill%3D%22none%22%20stroke%3D%22%234e4e4e%22%20stroke-width%3D%222.2%22%20d%3D%22M3102%2C-534.82C3113.04%2C-534.92%203124.42%2C-535.02%203135.7%2C-535.12%22%3E%3C/path%3E%0A%3Cpolygon%20fill%3D%22%234e4e4e%22%20stroke%3D%22%234e4e4e%22%20stroke-width%3D%222.2%22%20points%3D%223135.5%2C-538.62%203145.53%2C-535.21%203135.56%2C-531.62%203135.5%2C-538.62%22%3E%3C/polygon%3E%0A%3Cg%20id%3D%22a_edge29-label%22%3E%3Ca%20title%3D%22%20Temperature%3A%20344.72%20K%3Cbr%26gt%3BPressure%3A%20101325%20Pa%3Cbr%26gt%3BLiquid%20flow%3A%201.98e%2B04%20kmol/hr%22%3E%0A%3Ctext%20text-anchor%3D%22middle%22%20x%3D%223125.48%22%20y%3D%22-537.62%22%20font-family%3D%22Arial%22%20font-size%3D%2214.00%22%20fill%3D%22%234e4e4e%22%20space%3D%22preserve%22%3E%20s34%3C/text%3E%0A%3C/a%3E%0A%3C/g%3E%0A%3C/g%3E%0A%0A%3Cg%20id%3D%22edge30%22%20class%3D%22edge%22%20data-tippy-content%3D%22Temperature%3A%20321.15%20K%3Cbr%26gt%3BPressure%3A%20101325%20Pa%3Cbr%26gt%3BLiquid%20flow%3A%201.98e%2B04%20kmol/hr%22%3E%0A%3Cpath%20fill%3D%22none%22%20stroke%3D%22%234e4e4e%22%20stroke-width%3D%222.2%22%20d%3D%22M3333.5%2C-540.38C3342.62%2C-540.81%203351.96%2C-541.25%203361.27%2C-541.7%22%3E%3C/path%3E%0A%3Cpolygon%20fill%3D%22%234e4e4e%22%20stroke%3D%22%234e4e4e%22%20stroke-width%3D%222.2%22%20points%3D%223360.91%2C-545.18%203371.07%2C-542.16%203361.25%2C-538.19%203360.91%2C-545.18%22%3E%3C/polygon%3E%0A%3Cg%20id%3D%22a_edge30-label%22%3E%3Ca%20title%3D%22%20Temperature%3A%20321.15%20K%3Cbr%26gt%3BPressure%3A%20101325%20Pa%3Cbr%26gt%3BLiquid%20flow%3A%201.98e%2B04%20kmol/hr%22%3E%0A%3Ctext%20text-anchor%3D%22middle%22%20x%3D%223353.98%22%20y%3D%22-544.33%22%20font-family%3D%22Arial%22%20font-size%3D%2214.00%22%20fill%3D%22%234e4e4e%22%20space%3D%22preserve%22%3E%20s35%3C/text%3E%0A%3C/a%3E%0A%3C/g%3E%0A%3C/g%3E%0A%0A%3Cg%20id%3D%22edge31%22%20class%3D%22edge%22%20data-tippy-content%3D%22Temperature%3A%20321.15%20K%3Cbr%26gt%3BPressure%3A%20101325%20Pa%3Cbr%26gt%3BLiquid%20flow%3A%201.98e%2B04%20kmol/hr%22%3E%0A%3Cpath%20fill%3D%22none%22%20stroke%3D%22%234e4e4e%22%20stroke-width%3D%222.2%22%20d%3D%22M3526.91%2C-569.05C3571.44%2C-588.3%203636.27%2C-616.31%203683.99%2C-636.93%22%3E%3C/path%3E%0A%3Cpolygon%20fill%3D%22%234e4e4e%22%20stroke%3D%22%234e4e4e%22%20stroke-width%3D%222.2%22%20points%3D%223682.41%2C-640.06%203692.98%2C-640.82%203685.19%2C-633.64%203682.41%2C-640.06%22%3E%3C/polygon%3E%0A%3Cg%20id%3D%22a_edge31-label%22%3E%3Ca%20title%3D%22%20Temperature%3A%20321.15%20K%3Cbr%26gt%3BPressure%3A%20101325%20Pa%3Cbr%26gt%3BLiquid%20flow%3A%201.98e%2B04%20kmol/hr%22%3E%0A%3Ctext%20text-anchor%3D%22middle%22%20x%3D%223602.73%22%20y%3D%22-611.5%22%20font-family%3D%22Arial%22%20font-size%3D%2214.00%22%20fill%3D%22%234e4e4e%22%20space%3D%22preserve%22%3E%20slurry%3C/text%3E%0A%3C/a%3E%0A%3C/g%3E%0A%3C/g%3E%0A%0A%3Cg%20id%3D%22edge33%22%20class%3D%22edge%22%20data-tippy-content%3D%22Temperature%3A%20298.15%20K%3Cbr%26gt%3BPressure%3A%20101325%20Pa%3Cbr%26gt%3BLiquid%20flow%3A%2031.5%20kmol/hr%22%3E%0A%3Cpath%20fill%3D%22none%22%20stroke%3D%22%234e4e4e%22%20d%3D%22M3300.79%2C-664.05C3324.71%2C-664.05%203352.95%2C-664.05%203379.51%2C-664.05%22%3E%3C/path%3E%0A%3Cpolygon%20fill%3D%22%234e4e4e%22%20stroke%3D%22%234e4e4e%22%20points%3D%223379.25%2C-667.55%203389.25%2C-664.05%203379.25%2C-660.55%203379.25%2C-667.55%22%3E%3C/polygon%3E%0A%3Cg%20id%3D%22a_edge33-label%22%3E%3Ca%20title%3D%22%20Temperature%3A%20298.15%20K%3Cbr%26gt%3BPressure%3A%20101325%20Pa%3Cbr%26gt%3BLiquid%20flow%3A%2031.5%20kmol/hr%22%3E%0A%3Ctext%20text-anchor%3D%22middle%22%20x%3D%223353.98%22%20y%3D%22-666.5%22%20font-family%3D%22Arial%22%20font-size%3D%2214.00%22%20fill%3D%22%234e4e4e%22%20space%3D%22preserve%22%3E%20s37%3C/text%3E%0A%3C/a%3E%0A%3C/g%3E%0A%3C/g%3E%0A%0A%3Cg%20id%3D%22edge145%22%20class%3D%22edge%22%20data-tippy-content%3D%22Temperature%3A%20298.15%20K%3Cbr%26gt%3BPressure%3A%20101325%20Pa%3Cbr%26gt%3BLiquid%20flow%3A%2026.3%20kmol/hr%22%3E%0A%3Cpath%20fill%3D%22none%22%20stroke%3D%22%234e4e4e%22%20d%3D%22M3516.47%2C-662.76C3536.55%2C-662.19%203561.16%2C-661.58%203583.23%2C-661.3%203594.64%2C-661.15%203606.48%2C-661.12%203618.36%2C-661.17%22%3E%3C/path%3E%0A%3Cpolygon%20fill%3D%22%234e4e4e%22%20stroke%3D%22%234e4e4e%22%20points%3D%223618.2%2C-664.66%203628.22%2C-661.23%203618.25%2C-657.67%203618.2%2C-664.66%22%3E%3C/polygon%3E%0A%3Cg%20id%3D%22a_edge145-label%22%3E%3Ca%20title%3D%22%20Temperature%3A%20298.15%20K%3Cbr%26gt%3BPressure%3A%20101325%20Pa%3Cbr%26gt%3BLiquid%20flow%3A%2026.3%20kmol/hr%22%3E%0A%3Ctext%20text-anchor%3D%22middle%22%20x%3D%223602.73%22%20y%3D%22-663.75%22%20font-family%3D%22Arial%22%20font-size%3D%2214.00%22%20fill%3D%22%234e4e4e%22%20space%3D%22preserve%22%3E%20CSL2%3C/text%3E%0A%3C/a%3E%0A%3C/g%3E%0A%3C/g%3E%0A%0A%3Cg%20id%3D%22edge89%22%20class%3D%22edge%22%20data-tippy-content%3D%22Temperature%3A%20298.15%20K%3Cbr%26gt%3BPressure%3A%20101325%20Pa%3Cbr%26gt%3BLiquid%20flow%3A%205.25%20kmol/hr%22%3E%0A%3Cpath%20fill%3D%22none%22%20stroke%3D%22%234e4e4e%22%20d%3D%22M3516.47%2C-694.69C3545.18%2C-716.28%203579.28%2C-741.61%203583.23%2C-743.05%203689.09%2C-781.59%203823.84%2C-777.43%203895.11%2C-771.47%22%3E%3C/path%3E%0A%3Cpolygon%20fill%3D%22%234e4e4e%22%20stroke%3D%22%234e4e4e%22%20points%3D%223895.25%2C-774.98%203904.9%2C-770.6%203894.63%2C-768%203895.25%2C-774.98%22%3E%3C/polygon%3E%0A%3Cg%20id%3D%22a_edge89-label%22%3E%3Ca%20title%3D%22%20Temperature%3A%20298.15%20K%3Cbr%26gt%3BPressure%3A%20101325%20Pa%3Cbr%26gt%3BLiquid%20flow%3A%205.25%20kmol/hr%22%3E%0A%3Ctext%20text-anchor%3D%22middle%22%20x%3D%223747.73%22%20y%3D%22-777.77%22%20font-family%3D%22Arial%22%20font-size%3D%2214.00%22%20fill%3D%22%234e4e4e%22%20space%3D%22preserve%22%3E%20CSL1%3C/text%3E%0A%3C/a%3E%0A%3C/g%3E%0A%3C/g%3E%0A%0A%3Cg%20id%3D%22edge35%22%20class%3D%22edge%22%20data-tippy-content%3D%22Temperature%3A%20298.15%20K%3Cbr%26gt%3BPressure%3A%20101325%20Pa%3Cbr%26gt%3BLiquid%20flow%3A%201.14%20kmol/hr%22%3E%0A%3Cpath%20fill%3D%22none%22%20stroke%3D%22%234e4e4e%22%20d%3D%22M3301.51%2C-802.08C3325.18%2C-806.67%203353.07%2C-810.86%203379.53%2C-811.83%22%3E%3C/path%3E%0A%3Cpolygon%20fill%3D%22%234e4e4e%22%20stroke%3D%22%234e4e4e%22%20points%3D%223379.19%2C-815.33%203389.25%2C-812.02%203379.32%2C-808.33%203379.19%2C-815.33%22%3E%3C/polygon%3E%0A%3Cg%20id%3D%22a_edge35-label%22%3E%3Ca%20title%3D%22%20Temperature%3A%20298.15%20K%3Cbr%26gt%3BPressure%3A%20101325%20Pa%3Cbr%26gt%3BLiquid%20flow%3A%201.14%20kmol/hr%22%3E%0A%3Ctext%20text-anchor%3D%22middle%22%20x%3D%223353.98%22%20y%3D%22-813.54%22%20font-family%3D%22Arial%22%20font-size%3D%2214.00%22%20fill%3D%22%234e4e4e%22%20space%3D%22preserve%22%3E%20s36%3C/text%3E%0A%3C/a%3E%0A%3C/g%3E%0A%3C/g%3E%0A%0A%3Cg%20id%3D%22edge149%22%20class%3D%22edge%22%20data-tippy-content%3D%22Temperature%3A%20298.15%20K%3Cbr%26gt%3BPressure%3A%20101325%20Pa%3Cbr%26gt%3BLiquid%20flow%3A%200.96%20kmol/hr%22%3E%0A%3Cpath%20fill%3D%22none%22%20stroke%3D%22%234e4e4e%22%20d%3D%22M3516.41%2C-787.03C3547.24%2C-768.23%203590.95%2C-742.2%203630.23%2C-721.05%203649.22%2C-710.82%203670.3%2C-700.27%203689.26%2C-691.07%22%3E%3C/path%3E%0A%3Cpolygon%20fill%3D%22%234e4e4e%22%20stroke%3D%22%234e4e4e%22%20points%3D%223690.7%2C-694.26%203698.18%2C-686.76%203687.65%2C-687.96%203690.7%2C-694.26%22%3E%3C/polygon%3E%0A%3Cg%20id%3D%22a_edge149-label%22%3E%3Ca%20title%3D%22%20Temperature%3A%20298.15%20K%3Cbr%26gt%3BPressure%3A%20101325%20Pa%3Cbr%26gt%3BLiquid%20flow%3A%200.96%20kmol/hr%22%3E%0A%3Ctext%20text-anchor%3D%22middle%22%20x%3D%223602.73%22%20y%3D%22-747.45%22%20font-family%3D%22Arial%22%20font-size%3D%2214.00%22%20fill%3D%22%234e4e4e%22%20space%3D%22preserve%22%3E%20DAP2%3C/text%3E%0A%3C/a%3E%0A%3C/g%3E%0A%3C/g%3E%0A%0A%3Cg%20id%3D%22edge114%22%20class%3D%22edge%22%20data-tippy-content%3D%22Temperature%3A%20298.15%20K%3Cbr%26gt%3BPressure%3A%20101325%20Pa%3Cbr%26gt%3BLiquid%20flow%3A%200.178%20kmol/hr%22%3E%0A%3Cpath%20fill%3D%22none%22%20stroke%3D%22%234e4e4e%22%20d%3D%22M3516.44%2C-816.91C3593.04%2C-824.71%203763.64%2C-835.23%203898.73%2C-794.05%203900.09%2C-793.63%203901.44%2C-793.17%203902.79%2C-792.67%22%3E%3C/path%3E%0A%3Cpolygon%20fill%3D%22%234e4e4e%22%20stroke%3D%22%234e4e4e%22%20points%3D%223903.9%2C-796.01%203911.59%2C-788.72%203901.03%2C-789.62%203903.9%2C-796.01%22%3E%3C/polygon%3E%0A%3Cg%20id%3D%22a_edge114-label%22%3E%3Ca%20title%3D%22%20Temperature%3A%20298.15%20K%3Cbr%26gt%3BPressure%3A%20101325%20Pa%3Cbr%26gt%3BLiquid%20flow%3A%200.178%20kmol/hr%22%3E%0A%3Ctext%20text-anchor%3D%22middle%22%20x%3D%223747.73%22%20y%3D%22-826.6%22%20font-family%3D%22Arial%22%20font-size%3D%2214.00%22%20fill%3D%22%234e4e4e%22%20space%3D%22preserve%22%3E%20DAP1%3C/text%3E%0A%3C/a%3E%0A%3C/g%3E%0A%3C/g%3E%0A%0A%3Cg%20id%3D%22edge150%22%20class%3D%22edge%22%20data-tippy-content%3D%22Temperature%3A%20305.15%20K%3Cbr%26gt%3BPressure%3A%20101325%20Pa%3Cbr%26gt%3BLiquid%20flow%3A%201.96e%2B03%20kmol/hr%22%3E%0A%3Cpath%20fill%3D%22none%22%20stroke%3D%22%234e4e4e%22%20stroke-width%3D%221.6%22%20d%3D%22M3822.46%2C-686.15C3847.68%2C-695.37%203875.4%2C-707.45%203898.73%2C-722.3%203904.79%2C-726.15%203910.74%2C-730.89%203916.24%2C-735.81%22%3E%3C/path%3E%0A%3Cpolygon%20fill%3D%22%234e4e4e%22%20stroke%3D%22%234e4e4e%22%20stroke-width%3D%221.6%22%20points%3D%223913.58%2C-738.12%203923.25%2C-742.46%203918.4%2C-733.04%203913.58%2C-738.12%22%3E%3C/polygon%3E%0A%3Cg%20id%3D%22a_edge150-label%22%3E%3Ca%20title%3D%22%20Temperature%3A%20305.15%20K%3Cbr%26gt%3BPressure%3A%20101325%20Pa%3Cbr%26gt%3BLiquid%20flow%3A%201.96e%2B03%20kmol/hr%22%3E%0A%3Ctext%20text-anchor%3D%22middle%22%20x%3D%223885.98%22%20y%3D%22-724.75%22%20font-family%3D%22Arial%22%20font-size%3D%2214.00%22%20fill%3D%22%234e4e4e%22%20space%3D%22preserve%22%3E%20s38%3C/text%3E%0A%3C/a%3E%0A%3C/g%3E%0A%3C/g%3E%0A%0A%3Cg%20id%3D%22edge103%22%20class%3D%22edge%22%20data-tippy-content%3D%22Temperature%3A%20305.15%20K%3Cbr%26gt%3BPressure%3A%20101325%20Pa%3Cbr%26gt%3BGas%20flow%3A%20436%20kmol/hr%22%3E%0A%3Cpath%20fill%3D%22none%22%20stroke%3D%22%234e4e4e%22%20stroke-width%3D%221.6%22%20d%3D%22M3865.47%2C-682.16C3903.72%2C-689.36%203946.16%2C-698.73%203984.23%2C-710.3%204006.3%2C-717%204029.97%2C-726.52%204049.83%2C-735.22%22%3E%3C/path%3E%0A%3Cpolygon%20fill%3D%22%234e4e4e%22%20stroke%3D%22%234e4e4e%22%20stroke-width%3D%221.6%22%20points%3D%224048.27%2C-738.36%204058.83%2C-739.24%204051.12%2C-731.97%204048.27%2C-738.36%22%3E%3C/polygon%3E%0A%3Cg%20id%3D%22a_edge103-label%22%3E%3Ca%20title%3D%22%20Temperature%3A%20305.15%20K%3Cbr%26gt%3BPressure%3A%20101325%20Pa%3Cbr%26gt%3BGas%20flow%3A%20436%20kmol/hr%22%3E%0A%3Ctext%20text-anchor%3D%22middle%22%20x%3D%223945.48%22%20y%3D%22-712.75%22%20font-family%3D%22Arial%22%20font-size%3D%2214.00%22%20fill%3D%22%234e4e4e%22%20space%3D%22preserve%22%3E%20s42%3C/text%3E%0A%3C/a%3E%0A%3C/g%3E%0A%3C/g%3E%0A%0A%3Cg%20id%3D%22edge122%22%20class%3D%22edge%22%20data-tippy-content%3D%22Temperature%3A%20305.15%20K%3Cbr%26gt%3BPressure%3A%20101325%20Pa%3Cbr%26gt%3BLiquid%20flow%3A%201.99e%2B04%20kmol/hr%22%3E%0A%3Cpath%20fill%3D%22none%22%20stroke%3D%22%234e4e4e%22%20stroke-width%3D%222.2%22%20d%3D%22M3762.78%2C-642.23C3791.48%2C-600.63%203861.21%2C-514.05%203944.48%2C-514.05%203944.48%2C-514.05%203944.48%2C-514.05%204326.7%2C-514.05%204366.88%2C-514.05%204411.21%2C-524.97%204443.69%2C-535.11%22%3E%3C/path%3E%0A%3Cpolygon%20fill%3D%22%234e4e4e%22%20stroke%3D%22%234e4e4e%22%20stroke-width%3D%222.2%22%20points%3D%224442.2%2C-538.3%204452.79%2C-538.05%204444.35%2C-531.64%204442.2%2C-538.3%22%3E%3C/polygon%3E%0A%3Cg%20id%3D%22a_edge122-label%22%3E%3Ca%20title%3D%22%20Temperature%3A%20305.15%20K%3Cbr%26gt%3BPressure%3A%20101325%20Pa%3Cbr%26gt%3BLiquid%20flow%3A%201.99e%2B04%20kmol/hr%22%3E%0A%3Ctext%20text-anchor%3D%22middle%22%20x%3D%224097.15%22%20y%3D%22-516.5%22%20font-family%3D%22Arial%22%20font-size%3D%2214.00%22%20fill%3D%22%234e4e4e%22%20space%3D%22preserve%22%3E%20s43%3C/text%3E%0A%3C/a%3E%0A%3C/g%3E%0A%3C/g%3E%0A%0A%3Cg%20id%3D%22edge133%22%20class%3D%22edge%22%20data-tippy-content%3D%22Temperature%3A%20305.15%20K%3Cbr%26gt%3BPressure%3A%20101325%20Pa%3Cbr%26gt%3BLiquid%20flow%3A%202e%2B03%20kmol/hr%22%3E%0A%3Cpath%20fill%3D%22none%22%20stroke%3D%22%234e4e4e%22%20stroke-width%3D%221.6%22%20d%3D%22M3964.13%2C-744.17C3979.24%2C-726.32%204002.23%2C-701.18%204025.73%2C-683.05%204030.59%2C-679.3%204035.85%2C-675.69%204041.23%2C-672.29%22%3E%3C/path%3E%0A%3Cpolygon%20fill%3D%22%234e4e4e%22%20stroke%3D%22%234e4e4e%22%20stroke-width%3D%221.6%22%20points%3D%224042.83%2C-675.41%204049.58%2C-667.25%204039.21%2C-669.42%204042.83%2C-675.41%22%3E%3C/polygon%3E%0A%3Cg%20id%3D%22a_edge133-label%22%3E%3Ca%20title%3D%22%20Temperature%3A%20305.15%20K%3Cbr%26gt%3BPressure%3A%20101325%20Pa%3Cbr%26gt%3BLiquid%20flow%3A%202e%2B03%20kmol/hr%22%3E%0A%3Ctext%20text-anchor%3D%22middle%22%20x%3D%224004.98%22%20y%3D%22-714.94%22%20font-family%3D%22Arial%22%20font-size%3D%2214.00%22%20fill%3D%22%234e4e4e%22%20space%3D%22preserve%22%3E%20s40%3C/text%3E%0A%3C/a%3E%0A%3C/g%3E%0A%3C/g%3E%0A%0A%3Cg%20id%3D%22edge36%22%20class%3D%22edge%22%20data-tippy-content%3D%22Temperature%3A%20298.15%20K%3Cbr%26gt%3BPressure%3A%20101325%20Pa%3Cbr%26gt%3BGas%20flow%3A%2044.5%20kmol/hr%22%3E%0A%3Cpath%20fill%3D%22none%22%20stroke%3D%22%234e4e4e%22%20d%3D%22M3984.64%2C-763.75C4004.52%2C-762.56%204028.98%2C-761.09%204049.92%2C-759.83%22%3E%3C/path%3E%0A%3Cpolygon%20fill%3D%22%234e4e4e%22%20stroke%3D%22%234e4e4e%22%20points%3D%224049.86%2C-763.34%204059.63%2C-759.24%204049.44%2C-756.35%204049.86%2C-763.34%22%3E%3C/polygon%3E%0A%3Cg%20id%3D%22a_edge36-label%22%3E%3Ca%20title%3D%22%20Temperature%3A%20298.15%20K%3Cbr%26gt%3BPressure%3A%20101325%20Pa%3Cbr%26gt%3BGas%20flow%3A%2044.5%20kmol/hr%22%3E%0A%3Ctext%20text-anchor%3D%22middle%22%20x%3D%224004.98%22%20y%3D%22-765.58%22%20font-family%3D%22Arial%22%20font-size%3D%2214.00%22%20fill%3D%22%234e4e4e%22%20space%3D%22preserve%22%3E%20s39%3C/text%3E%0A%3C/a%3E%0A%3C/g%3E%0A%3C/g%3E%0A%0A%3Cg%20id%3D%22edge85%22%20class%3D%22edge%22%20data-tippy-content%3D%22Temperature%3A%20305.15%20K%3Cbr%26gt%3BPressure%3A%20101325%20Pa%3Cbr%26gt%3BLiquid%20flow%3A%202e%2B03%20kmol/hr%22%3E%0A%3Cpath%20fill%3D%22none%22%20stroke%3D%22%234e4e4e%22%20stroke-width%3D%221.6%22%20d%3D%22M4043.86%2C-637.41C4025.09%2C-635.33%204003.74%2C-633.32%203984.23%2C-632.3%203949.84%2C-630.5%203941.05%2C-629.37%203906.73%2C-632.3%203889.1%2C-633.8%203870.52%2C-636.5%203852.56%2C-639.71%22%3E%3C/path%3E%0A%3Cpolygon%20fill%3D%22%234e4e4e%22%20stroke%3D%22%234e4e4e%22%20stroke-width%3D%221.6%22%20points%3D%223852.12%2C-636.23%203842.93%2C-641.5%203853.4%2C-643.11%203852.12%2C-636.23%22%3E%3C/polygon%3E%0A%3Cg%20id%3D%22a_edge85-label%22%3E%3Ca%20title%3D%22%20Temperature%3A%20305.15%20K%3Cbr%26gt%3BPressure%3A%20101325%20Pa%3Cbr%26gt%3BLiquid%20flow%3A%202e%2B03%20kmol/hr%22%3E%0A%3Ctext%20text-anchor%3D%22middle%22%20x%3D%223945.48%22%20y%3D%22-634.75%22%20font-family%3D%22Arial%22%20font-size%3D%2214.00%22%20fill%3D%22%234e4e4e%22%20space%3D%22preserve%22%3E%20s41%3C/text%3E%0A%3C/a%3E%0A%3C/g%3E%0A%3C/g%3E%0A%0A%3Cg%20id%3D%22edge104%22%20class%3D%22edge%22%20data-tippy-content%3D%22Temperature%3A%20304.51%20K%3Cbr%26gt%3BPressure%3A%20101325%20Pa%3Cbr%26gt%3BGas%20flow%3A%20480%20kmol/hr%22%3E%0A%3Cpath%20fill%3D%22none%22%20stroke%3D%22%234e4e4e%22%20stroke-width%3D%221.6%22%20d%3D%22M4168.57%2C-757.05C4234.11%2C-757.05%204283.71%2C-687.6%204308.04%2C-644.83%22%3E%3C/path%3E%0A%3Cpolygon%20fill%3D%22%234e4e4e%22%20stroke%3D%22%234e4e4e%22%20stroke-width%3D%221.6%22%20points%3D%224311.04%2C-646.64%204312.79%2C-636.19%204304.91%2C-643.27%204311.04%2C-646.64%22%3E%3C/polygon%3E%0A%3Cg%20id%3D%22a_edge104-label%22%3E%3Ca%20title%3D%22%20Temperature%3A%20304.51%20K%3Cbr%26gt%3BPressure%3A%20101325%20Pa%3Cbr%26gt%3BGas%20flow%3A%20480%20kmol/hr%22%3E%0A%3Ctext%20text-anchor%3D%22middle%22%20x%3D%224222.32%22%20y%3D%22-758.82%22%20font-family%3D%22Arial%22%20font-size%3D%2214.00%22%20fill%3D%22%234e4e4e%22%20space%3D%22preserve%22%3E%20s45%3C/text%3E%0A%3C/a%3E%0A%3C/g%3E%0A%3C/g%3E%0A%0A%3Cg%20id%3D%22edge146%22%20class%3D%22edge%22%20data-tippy-content%3D%22Temperature%3A%20298.15%20K%3Cbr%26gt%3BPressure%3A%20101325%20Pa%3Cbr%26gt%3BLiquid%20flow%3A%201.47e%2B03%20kmol/hr%22%3E%0A%3Cpath%20fill%3D%22none%22%20stroke%3D%22%234e4e4e%22%20stroke-width%3D%221.6%22%20d%3D%22M4375.54%2C-594.21C4397.33%2C-586.25%204422.88%2C-576.92%204444.4%2C-569.06%22%3E%3C/path%3E%0A%3Cpolygon%20fill%3D%22%234e4e4e%22%20stroke%3D%22%234e4e4e%22%20stroke-width%3D%221.6%22%20points%3D%224445.42%2C-572.41%204453.61%2C-565.7%204443.02%2C-565.84%204445.42%2C-572.41%22%3E%3C/polygon%3E%0A%3Cg%20id%3D%22a_edge146-label%22%3E%3Ca%20title%3D%22%20Temperature%3A%20298.15%20K%3Cbr%26gt%3BPressure%3A%20101325%20Pa%3Cbr%26gt%3BLiquid%20flow%3A%201.47e%2B03%20kmol/hr%22%3E%0A%3Ctext%20text-anchor%3D%22middle%22%20x%3D%224397.95%22%20y%3D%22-593.38%22%20font-family%3D%22Arial%22%20font-size%3D%2214.00%22%20fill%3D%22%234e4e4e%22%20space%3D%22preserve%22%3E%20s46%3C/text%3E%0A%3C/a%3E%0A%3C/g%3E%0A%3C/g%3E%0A%0A%3Cg%20id%3D%22edge38%22%20class%3D%22edge%22%20data-tippy-content%3D%22Temperature%3A%20304.51%20K%3Cbr%26gt%3BPressure%3A%20101325%20Pa%3Cbr%26gt%3BGas%20flow%3A%20458%20kmol/hr%22%3E%0A%3Cpath%20fill%3D%22none%22%20stroke%3D%22%234e4e4e%22%20stroke-width%3D%221.6%22%20d%3D%22M4375.7%2C-630.29C4407.28%2C-640.44%204449.46%2C-651.05%204487.91%2C-651.05%22%3E%3C/path%3E%0A%3Cg%20id%3D%22a_edge38-label%22%3E%3Ca%20title%3D%22%20Temperature%3A%20304.51%20K%3Cbr%26gt%3BPressure%3A%20101325%20Pa%3Cbr%26gt%3BGas%20flow%3A%20458%20kmol/hr%22%3E%0A%3Ctext%20text-anchor%3D%22middle%22%20x%3D%224397.95%22%20y%3D%22-643.04%22%20font-family%3D%22Arial%22%20font-size%3D%2214.00%22%20fill%3D%22%234e4e4e%22%20space%3D%22preserve%22%3E%20vent%3C/text%3E%0A%3C/a%3E%0A%3C/g%3E%0A%3C/g%3E%0A%0A%3Cg%20id%3D%22edge39%22%20class%3D%22edge%22%20data-tippy-content%3D%22Temperature%3A%20304.66%20K%3Cbr%26gt%3BPressure%3A%20101325%20Pa%3Cbr%26gt%3BLiquid%20flow%3A%202.14e%2B04%20kmol/hr%22%3E%0A%3Cpath%20fill%3D%22none%22%20stroke%3D%22%234e4e4e%22%20stroke-width%3D%222.2%22%20d%3D%22M4563.41%2C-552.05C4585.01%2C-552.05%204604.03%2C-566.95%204617.8%2C-582.14%22%3E%3C/path%3E%0A%3Cpolygon%20fill%3D%22%234e4e4e%22%20stroke%3D%22%234e4e4e%22%20stroke-width%3D%222.2%22%20points%3D%224614.83%2C-584.04%204623.94%2C-589.46%204620.2%2C-579.55%204614.83%2C-584.04%22%3E%3C/polygon%3E%0A%3Cg%20id%3D%22a_edge39-label%22%3E%3Ca%20title%3D%22%20Temperature%3A%20304.66%20K%3Cbr%26gt%3BPressure%3A%20101325%20Pa%3Cbr%26gt%3BLiquid%20flow%3A%202.14e%2B04%20kmol/hr%22%3E%0A%3Ctext%20text-anchor%3D%22middle%22%20x%3D%224584.16%22%20y%3D%22-564.89%22%20font-family%3D%22Arial%22%20font-size%3D%2214.00%22%20fill%3D%22%234e4e4e%22%20space%3D%22preserve%22%3E%20s44%3C/text%3E%0A%3C/a%3E%0A%3C/g%3E%0A%3C/g%3E%0A%0A%3Cg%20id%3D%22edge40%22%20class%3D%22edge%22%20data-tippy-content%3D%22Temperature%3A%20304.66%20K%3Cbr%26gt%3BPressure%3A%20101325%20Pa%3Cbr%26gt%3BLiquid%20flow%3A%202.14e%2B04%20kmol/hr%22%3E%0A%3Cpath%20fill%3D%22none%22%20stroke%3D%22%234e4e4e%22%20stroke-width%3D%222.2%22%20d%3D%22M4678.92%2C-625.46C4689.68%2C-628.86%204701.51%2C-632.6%204712.4%2C-636.04%22%3E%3C/path%3E%0A%3Cpolygon%20fill%3D%22%234e4e4e%22%20stroke%3D%22%234e4e4e%22%20stroke-width%3D%222.2%22%20points%3D%224711.3%2C-639.36%204721.89%2C-639.04%204713.41%2C-632.69%204711.3%2C-639.36%22%3E%3C/polygon%3E%0A%3Cg%20id%3D%22a_edge40-label%22%3E%3Ca%20title%3D%22%20Temperature%3A%20304.66%20K%3Cbr%26gt%3BPressure%3A%20101325%20Pa%3Cbr%26gt%3BLiquid%20flow%3A%202.14e%2B04%20kmol/hr%22%3E%0A%3Ctext%20text-anchor%3D%22middle%22%20x%3D%224702.03%22%20y%3D%22-639.5%22%20font-family%3D%22Arial%22%20font-size%3D%2214.00%22%20fill%3D%22%234e4e4e%22%20space%3D%22preserve%22%3E%20beer%3C/text%3E%0A%3C/a%3E%0A%3C/g%3E%0A%3C/g%3E%0A%0A%3Cg%20id%3D%22edge41%22%20class%3D%22edge%22%20data-tippy-content%3D%22Temperature%3A%20304.66%20K%3Cbr%26gt%3BPressure%3A%20607950%20Pa%3Cbr%26gt%3BLiquid%20flow%3A%202.14e%2B04%20kmol/hr%22%3E%0A%3Cpath%20fill%3D%22none%22%20stroke%3D%22%234e4e4e%22%20stroke-width%3D%222.2%22%20d%3D%22M4777.71%2C-650.71C4786.02%2C-651.59%204795.74%2C-652.61%204805.89%2C-653.68%22%3E%3C/path%3E%0A%3Cpolygon%20fill%3D%22%234e4e4e%22%20stroke%3D%22%234e4e4e%22%20stroke-width%3D%222.2%22%20points%3D%224805.27%2C-657.14%204815.58%2C-654.7%204806%2C-650.17%204805.27%2C-657.14%22%3E%3C/polygon%3E%0A%3Cg%20id%3D%22a_edge41-label%22%3E%3Ca%20title%3D%22%20Temperature%3A%20304.66%20K%3Cbr%26gt%3BPressure%3A%20607950%20Pa%3Cbr%26gt%3BLiquid%20flow%3A%202.14e%2B04%20kmol/hr%22%3E%0A%3Ctext%20text-anchor%3D%22middle%22%20x%3D%224798.16%22%20y%3D%22-656.66%22%20font-family%3D%22Arial%22%20font-size%3D%2214.00%22%20fill%3D%22%234e4e4e%22%20space%3D%22preserve%22%3E%20s48%3C/text%3E%0A%3C/a%3E%0A%3C/g%3E%0A%3C/g%3E%0A%0A%3Cg%20id%3D%22edge42%22%20class%3D%22edge%22%20data-tippy-content%3D%22Temperature%3A%20377.99%20K%3Cbr%26gt%3BPressure%3A%20607950%20Pa%3Cbr%26gt%3BLiquid%20flow%3A%202.14e%2B04%20kmol/hr%22%3E%0A%3Cpath%20fill%3D%22none%22%20stroke%3D%22%234e4e4e%22%20stroke-width%3D%222.2%22%20d%3D%22M4945.97%2C-693.65C4964.07%2C-703.39%204984.27%2C-714.26%205003.33%2C-724.52%22%3E%3C/path%3E%0A%3Cpolygon%20fill%3D%22%234e4e4e%22%20stroke%3D%22%234e4e4e%22%20stroke-width%3D%222.2%22%20points%3D%225001.62%2C-727.58%205012.09%2C-729.24%205004.94%2C-721.42%205001.62%2C-727.58%22%3E%3C/polygon%3E%0A%3Cg%20id%3D%22a_edge42-label%22%3E%3Ca%20title%3D%22%20Temperature%3A%20377.99%20K%3Cbr%26gt%3BPressure%3A%20607950%20Pa%3Cbr%26gt%3BLiquid%20flow%3A%202.14e%2B04%20kmol/hr%22%3E%0A%3Ctext%20text-anchor%3D%22middle%22%20x%3D%224984.48%22%20y%3D%22-728.25%22%20font-family%3D%22Arial%22%20font-size%3D%2214.00%22%20fill%3D%22%234e4e4e%22%20space%3D%22preserve%22%3E%20s51%3C/text%3E%0A%3C/a%3E%0A%3C/g%3E%0A%3C/g%3E%0A%0A%3Cg%20id%3D%22edge134%22%20class%3D%22edge%22%20data-tippy-content%3D%22Temperature%3A%20314.66%20K%3Cbr%26gt%3BPressure%3A%20607950%20Pa%3Cbr%26gt%3BLiquid%20flow%3A%201.98e%2B04%20kmol/hr%22%3E%0A%3Cpath%20fill%3D%22none%22%20stroke%3D%22%234e4e4e%22%20stroke-width%3D%222.2%22%20d%3D%22M4944.67%2C-627.73C4950.36%2C-624.49%204956.08%2C-621.29%204961.61%2C-618.3%204980.6%2C-608%205001.64%2C-597.3%205020.59%2C-587.93%22%3E%3C/path%3E%0A%3Cpolygon%20fill%3D%22%234e4e4e%22%20stroke%3D%22%234e4e4e%22%20stroke-width%3D%222.2%22%20points%3D%225021.97%2C-591.16%205029.4%2C-583.6%205018.88%2C-584.87%205021.97%2C-591.16%22%3E%3C/polygon%3E%0A%3Cg%20id%3D%22a_edge134-label%22%3E%3Ca%20title%3D%22%20Temperature%3A%20314.66%20K%3Cbr%26gt%3BPressure%3A%20607950%20Pa%3Cbr%26gt%3BLiquid%20flow%3A%201.98e%2B04%20kmol/hr%22%3E%0A%3Ctext%20text-anchor%3D%22middle%22%20x%3D%224984.48%22%20y%3D%22-620.75%22%20font-family%3D%22Arial%22%20font-size%3D%2214.00%22%20fill%3D%22%234e4e4e%22%20space%3D%22preserve%22%3E%20stillage%3C/text%3E%0A%3C/a%3E%0A%3C/g%3E%0A%3C/g%3E%0A%0A%3Cg%20id%3D%22edge135%22%20class%3D%22edge%22%20data-tippy-content%3D%22Temperature%3A%20395.35%20K%3Cbr%26gt%3BPressure%3A%20212782%20Pa%3Cbr%26gt%3BLiquid%20flow%3A%201.98e%2B04%20kmol/hr%22%3E%0A%3Cpath%20fill%3D%22none%22%20stroke%3D%22%234e4e4e%22%20stroke-width%3D%222.2%22%20d%3D%22M5079.61%2C-720.85C5079.61%2C-693.26%205165.38%2C-692.1%205217.22%2C-693.91%22%3E%3C/path%3E%0A%3Cpolygon%20fill%3D%22%234e4e4e%22%20stroke%3D%22%234e4e4e%22%20stroke-width%3D%222.2%22%20points%3D%225217.07%2C-697.41%205227.21%2C-694.33%205217.36%2C-690.42%205217.07%2C-697.41%22%3E%3C/polygon%3E%0A%3Cg%20id%3D%22a_edge135-label%22%3E%3Ca%20title%3D%22%20Temperature%3A%20395.35%20K%3Cbr%26gt%3BPressure%3A%20212782%20Pa%3Cbr%26gt%3BLiquid%20flow%3A%201.98e%2B04%20kmol/hr%22%3E%0A%3Ctext%20text-anchor%3D%22middle%22%20x%3D%225164.61%22%20y%3D%22-696.75%22%20font-family%3D%22Arial%22%20font-size%3D%2214.00%22%20fill%3D%22%234e4e4e%22%20space%3D%22preserve%22%3E%20s49%3C/text%3E%0A%3C/a%3E%0A%3C/g%3E%0A%3C/g%3E%0A%0A%3Cg%20id%3D%22edge43%22%20class%3D%22edge%22%20data-tippy-content%3D%22Temperature%3A%20386.14%20K%3Cbr%26gt%3BPressure%3A%20212782%20Pa%3Cbr%26gt%3BGas%20flow%3A%201.63e%2B03%20kmol/hr%22%3E%0A%3Cpath%20fill%3D%22none%22%20stroke%3D%22%234e4e4e%22%20stroke-width%3D%221.6%22%20d%3D%22M5079.61%2C-809.25C5079.61%2C-892.91%205158.73%2C-962.71%205210.92%2C-999.65%22%3E%3C/path%3E%0A%3Cpolygon%20fill%3D%22%234e4e4e%22%20stroke%3D%22%234e4e4e%22%20stroke-width%3D%221.6%22%20points%3D%225208.76%2C-1002.41%205218.98%2C-1005.21%205212.74%2C-996.65%205208.76%2C-1002.41%22%3E%3C/polygon%3E%0A%3Cg%20id%3D%22a_edge43-label%22%3E%3Ca%20title%3D%22%20Temperature%3A%20386.14%20K%3Cbr%26gt%3BPressure%3A%20212782%20Pa%3Cbr%26gt%3BGas%20flow%3A%201.63e%2B03%20kmol/hr%22%3E%0A%3Ctext%20text-anchor%3D%22middle%22%20x%3D%225164.61%22%20y%3D%22-972.53%22%20font-family%3D%22Arial%22%20font-size%3D%2214.00%22%20fill%3D%22%234e4e4e%22%20space%3D%22preserve%22%3E%20s47%3C/text%3E%0A%3C/a%3E%0A%3C/g%3E%0A%3C/g%3E%0A%0A%3Cg%20id%3D%22edge105%22%20class%3D%22edge%22%20data-tippy-content%3D%22Temperature%3A%20395.35%20K%3Cbr%26gt%3BPressure%3A%20607950%20Pa%3Cbr%26gt%3BLiquid%20flow%3A%201.98e%2B04%20kmol/hr%22%3E%0A%3Cpath%20fill%3D%22none%22%20stroke%3D%22%234e4e4e%22%20stroke-width%3D%222.2%22%20d%3D%22M5230.4%2C-692.09C5215.07%2C-689.8%205195.12%2C-686.99%205177.36%2C-685.05%205106.42%2C-677.27%205025.45%2C-671.07%204967.11%2C-667.08%22%3E%3C/path%3E%0A%3Cpolygon%20fill%3D%22%234e4e4e%22%20stroke%3D%22%234e4e4e%22%20stroke-width%3D%222.2%22%20points%3D%224967.44%2C-663.59%204957.23%2C-666.41%204966.97%2C-670.58%204967.44%2C-663.59%22%3E%3C/polygon%3E%0A%3Cg%20id%3D%22a_edge105-label%22%3E%3Ca%20title%3D%22%20Temperature%3A%20395.35%20K%3Cbr%26gt%3BPressure%3A%20607950%20Pa%3Cbr%26gt%3BLiquid%20flow%3A%201.98e%2B04%20kmol/hr%22%3E%0A%3Ctext%20text-anchor%3D%22middle%22%20x%3D%225079.61%22%20y%3D%22-683.86%22%20font-family%3D%22Arial%22%20font-size%3D%2214.00%22%20fill%3D%22%234e4e4e%22%20space%3D%22preserve%22%3E%20s50%3C/text%3E%0A%3C/a%3E%0A%3C/g%3E%0A%3C/g%3E%0A%0A%3Cg%20id%3D%22edge136%22%20class%3D%22edge%22%20data-tippy-content%3D%22Temperature%3A%20314.66%20K%3Cbr%26gt%3BPressure%3A%20395168%20Pa%3Cbr%26gt%3BLiquid%20flow%3A%201.83e%2B04%20kmol/hr%22%3E%0A%3Cpath%20fill%3D%22none%22%20stroke%3D%22%234e4e4e%22%20stroke-width%3D%222.2%22%20d%3D%22M5096.15%2C-537.95C5122.16%2C-500.98%205175.36%2C-425.36%205213.19%2C-371.59%22%3E%3C/path%3E%0A%3Cpolygon%20fill%3D%22%234e4e4e%22%20stroke%3D%22%234e4e4e%22%20stroke-width%3D%222.2%22%20points%3D%225215.96%2C-373.72%205218.85%2C-363.53%205210.24%2C-369.7%205215.96%2C-373.72%22%3E%3C/polygon%3E%0A%3Cg%20id%3D%22a_edge136-label%22%3E%3Ca%20title%3D%22%20Temperature%3A%20314.66%20K%3Cbr%26gt%3BPressure%3A%20395168%20Pa%3Cbr%26gt%3BLiquid%20flow%3A%201.83e%2B04%20kmol/hr%22%3E%0A%3Ctext%20text-anchor%3D%22middle%22%20x%3D%225164.61%22%20y%3D%22-460.3%22%20font-family%3D%22Arial%22%20font-size%3D%2214.00%22%20fill%3D%22%234e4e4e%22%20space%3D%22preserve%22%3E%20s66%3C/text%3E%0A%3C/a%3E%0A%3C/g%3E%0A%3C/g%3E%0A%0A%3Cg%20id%3D%22edge44%22%20class%3D%22edge%22%20data-tippy-content%3D%22Temperature%3A%20314.66%20K%3Cbr%26gt%3BPressure%3A%20395168%20Pa%3Cbr%26gt%3BLiquid%20flow%3A%201.48e%2B03%20kmol/hr%22%3E%0A%3Cpath%20fill%3D%22none%22%20stroke%3D%22%234e4e4e%22%20stroke-width%3D%221.6%22%20d%3D%22M5129.6%2C-574.33C5164.47%2C-583.25%205212.61%2C-593.05%205255.78%2C-593.05%205255.78%2C-593.05%205255.78%2C-593.05%206613.02%2C-593.05%206868.82%2C-593.05%207175.3%2C-603.78%207290.49%2C-608.19%22%3E%3C/path%3E%0A%3Cpolygon%20fill%3D%22%234e4e4e%22%20stroke%3D%22%234e4e4e%22%20stroke-width%3D%221.6%22%20points%3D%227290.08%2C-611.67%207300.21%2C-608.56%207290.35%2C-604.68%207290.08%2C-611.67%22%3E%3C/polygon%3E%0A%3Cg%20id%3D%22a_edge44-label%22%3E%3Ca%20title%3D%22%20Temperature%3A%20314.66%20K%3Cbr%26gt%3BPressure%3A%20395168%20Pa%3Cbr%26gt%3BLiquid%20flow%3A%201.48e%2B03%20kmol/hr%22%3E%0A%3Ctext%20text-anchor%3D%22middle%22%20x%3D%226195.75%22%20y%3D%22-595.5%22%20font-family%3D%22Arial%22%20font-size%3D%2214.00%22%20fill%3D%22%234e4e4e%22%20space%3D%22preserve%22%3E%20s65%3C/text%3E%0A%3C/a%3E%0A%3C/g%3E%0A%3C/g%3E%0A%0A%3Cg%20id%3D%22edge45%22%20class%3D%22edge%22%20data-tippy-content%3D%22Temperature%3A%20387.83%20K%3Cbr%26gt%3BPressure%3A%20101325%20Pa%3Cbr%26gt%3BGas%20flow%3A%201e%2B03%20kmol/hr%22%3E%0A%3Cpath%20fill%3D%22none%22%20stroke%3D%22%234e4e4e%22%20stroke-width%3D%221.6%22%20d%3D%22M2424.85%2C-101.05C2536.06%2C-101.05%202663.4%2C-114.88%202746.91%2C-125.86%22%3E%3C/path%3E%0A%3Cpolygon%20fill%3D%22%234e4e4e%22%20stroke%3D%22%234e4e4e%22%20stroke-width%3D%221.6%22%20points%3D%222746.39%2C-129.32%202756.76%2C-127.17%202747.31%2C-122.38%202746.39%2C-129.32%22%3E%3C/polygon%3E%0A%3Cg%20id%3D%22a_edge45-label%22%3E%3Ca%20title%3D%22%20Temperature%3A%20387.83%20K%3Cbr%26gt%3BPressure%3A%20101325%20Pa%3Cbr%26gt%3BGas%20flow%3A%201e%2B03%20kmol/hr%22%3E%0A%3Ctext%20text-anchor%3D%22middle%22%20x%3D%222511.34%22%20y%3D%22-109.13%22%20font-family%3D%22Arial%22%20font-size%3D%2214.00%22%20fill%3D%22%234e4e4e%22%20space%3D%22preserve%22%3E%20s30%3C/text%3E%0A%3C/a%3E%0A%3C/g%3E%0A%3C/g%3E%0A%0A%3Cg%20id%3D%22edge90%22%20class%3D%22edge%22%20data-tippy-content%3D%22Temperature%3A%20373.15%20K%3Cbr%26gt%3BPressure%3A%20101325%20Pa%3Cbr%26gt%3BLiquid%20flow%3A%201e%2B03%20kmol/hr%22%3E%0A%3Cpath%20fill%3D%22none%22%20stroke%3D%22%234e4e4e%22%20stroke-width%3D%221.6%22%20d%3D%22M2918.28%2C-159.97C2975.12%2C-173.29%203054.01%2C-188.05%203124.48%2C-188.05%203124.48%2C-188.05%203124.48%2C-188.05%205080.61%2C-188.05%205132.63%2C-188.05%205180.14%2C-224.83%205212.51%2C-258.16%22%3E%3C/path%3E%0A%3Cpolygon%20fill%3D%22%234e4e4e%22%20stroke%3D%22%234e4e4e%22%20stroke-width%3D%221.6%22%20points%3D%225209.76%2C-260.34%205219.16%2C-265.22%205214.85%2C-255.54%205209.76%2C-260.34%22%3E%3C/polygon%3E%0A%3Cg%20id%3D%22a_edge90-label%22%3E%3Ca%20title%3D%22%20Temperature%3A%20373.15%20K%3Cbr%26gt%3BPressure%3A%20101325%20Pa%3Cbr%26gt%3BLiquid%20flow%3A%201e%2B03%20kmol/hr%22%3E%0A%3Ctext%20text-anchor%3D%22middle%22%20x%3D%224222.32%22%20y%3D%22-206.25%22%20font-family%3D%22Arial%22%20font-size%3D%2214.00%22%20fill%3D%22%234e4e4e%22%20space%3D%22preserve%22%3E%20pretreatment%3C/text%3E%0A%3Ctext%20text-anchor%3D%22middle%22%20x%3D%224222.32%22%20y%3D%22-190.5%22%20font-family%3D%22Arial%22%20font-size%3D%2214.00%22%20fill%3D%22%234e4e4e%22%20space%3D%22preserve%22%3E%20wastewater%3C/text%3E%0A%3C/a%3E%0A%3C/g%3E%0A%3C/g%3E%0A%0A%3Cg%20id%3D%22edge107%22%20class%3D%22edge%22%20data-tippy-content%3D%22Temperature%3A%20400%20K%3Cbr%26gt%3BPressure%3A%20101325%20Pa%3Cbr%26gt%3BGas%20flow%3A%20173%20kmol/hr%22%3E%0A%3Cpath%20fill%3D%22none%22%20stroke%3D%22%234e4e4e%22%20d%3D%22M1500.68%2C-277.65C1500.68%2C-281.01%201580.59%2C-273.17%201597.68%2C-272.55%201648.65%2C-270.69%201661.52%2C-269.49%201712.43%2C-272.55%201728.78%2C-273.53%201746.61%2C-275.45%201762.39%2C-277.44%22%3E%3C/path%3E%0A%3Cpolygon%20fill%3D%22%234e4e4e%22%20stroke%3D%22%234e4e4e%22%20points%3D%221761.6%2C-280.87%201771.97%2C-278.7%201762.51%2C-273.93%201761.6%2C-280.87%22%3E%3C/polygon%3E%0A%3Cg%20id%3D%22a_edge107-label%22%3E%3Ca%20title%3D%22%20Temperature%3A%20400%20K%3Cbr%26gt%3BPressure%3A%20101325%20Pa%3Cbr%26gt%3BGas%20flow%3A%20173%20kmol/hr%22%3E%0A%3Ctext%20text-anchor%3D%22middle%22%20x%3D%221655.06%22%20y%3D%22-290.75%22%20font-family%3D%22Arial%22%20font-size%3D%2214.00%22%20fill%3D%22%234e4e4e%22%20space%3D%22preserve%22%3E%20To%20WW%20Treatment%3C/text%3E%0A%3Ctext%20text-anchor%3D%22middle%22%20x%3D%221655.06%22%20y%3D%22-275%22%20font-family%3D%22Arial%22%20font-size%3D%2214.00%22%20fill%3D%22%234e4e4e%22%20space%3D%22preserve%22%3E%202%3C/text%3E%0A%3C/a%3E%0A%3C/g%3E%0A%3C/g%3E%0A%0A%3Cg%20id%3D%22edge137%22%20class%3D%22edge%22%20data-tippy-content%3D%22Temperature%3A%20400%20K%3Cbr%26gt%3BPressure%3A%20101325%20Pa%3Cbr%26gt%3BLiquid%20flow%3A%20115%20kmol/hr%22%3E%0A%3Cpath%20fill%3D%22none%22%20stroke%3D%22%234e4e4e%22%20stroke-width%3D%221.6%22%20d%3D%22M1500.68%2C-196.45C1500.68%2C-128.83%201737.12%2C-185.05%201804.74%2C-185.05%22%3E%3C/path%3E%0A%3Cg%20id%3D%22a_edge137-label%22%3E%3Ca%20title%3D%22%20Temperature%3A%20400%20K%3Cbr%26gt%3BPressure%3A%20101325%20Pa%3Cbr%26gt%3BLiquid%20flow%3A%20115%20kmol/hr%22%3E%0A%3Ctext%20text-anchor%3D%22middle%22%20x%3D%221655.06%22%20y%3D%22-177.18%22%20font-family%3D%22Arial%22%20font-size%3D%2214.00%22%20fill%3D%22%234e4e4e%22%20space%3D%22preserve%22%3E%20RCF%20Oil%3C/text%3E%0A%3C/a%3E%0A%3C/g%3E%0A%3C/g%3E%0A%0A%3Cg%20id%3D%22edge115%22%20class%3D%22edge%22%20data-tippy-content%3D%22Temperature%3A%20408.71%20K%3Cbr%26gt%3BPressure%3A%20101325%20Pa%3Cbr%26gt%3BLiquid%20flow%3A%202.32e%2B03%20kmol/hr%22%3E%0A%3Cpath%20fill%3D%22none%22%20stroke%3D%22%234e4e4e%22%20stroke-width%3D%221.6%22%20d%3D%22M1881.2%2C-284.05C1972.92%2C-284.05%201995.73%2C-291.05%202087.46%2C-291.05%202087.46%2C-291.05%202087.46%2C-291.05%205080.61%2C-291.05%205124.28%2C-291.05%205173.68%2C-297.26%205208.87%2C-302.76%22%3E%3C/path%3E%0A%3Cpolygon%20fill%3D%22%234e4e4e%22%20stroke%3D%22%234e4e4e%22%20stroke-width%3D%221.6%22%20points%3D%225207.86%2C-306.14%205218.29%2C-304.28%205208.98%2C-299.23%205207.86%2C-306.14%22%3E%3C/polygon%3E%0A%3Cg%20id%3D%22a_edge115-label%22%3E%3Ca%20title%3D%22%20Temperature%3A%20408.71%20K%3Cbr%26gt%3BPressure%3A%20101325%20Pa%3Cbr%26gt%3BLiquid%20flow%3A%202.32e%2B03%20kmol/hr%22%3E%0A%3Ctext%20text-anchor%3D%22middle%22%20x%3D%223945.48%22%20y%3D%22-293.5%22%20font-family%3D%22Arial%22%20font-size%3D%2214.00%22%20fill%3D%22%234e4e4e%22%20space%3D%22preserve%22%3E%20RCF%20WW%3C/text%3E%0A%3C/a%3E%0A%3C/g%3E%0A%3C/g%3E%0A%0A%3Cg%20id%3D%22edge46%22%20class%3D%22edge%22%20data-tippy-content%3D%22Temperature%3A%20327.64%20K%3Cbr%26gt%3BPressure%3A%20101325%20Pa%3Cbr%26gt%3BLiquid%20flow%3A%202.16e%2B04%20kmol/hr%22%3E%0A%3Cpath%20fill%3D%22none%22%20stroke%3D%22%234e4e4e%22%20stroke-width%3D%222.2%22%20d%3D%22M5328.2%2C-311.05C5339.56%2C-311.05%205351.47%2C-311.51%205363.26%2C-312.26%22%3E%3C/path%3E%0A%3Cpolygon%20fill%3D%22%234e4e4e%22%20stroke%3D%22%234e4e4e%22%20stroke-width%3D%222.2%22%20points%3D%225362.95%2C-315.75%205373.17%2C-312.98%205363.45%2C-308.77%205362.95%2C-315.75%22%3E%3C/polygon%3E%0A%3Cg%20id%3D%22a_edge46-label%22%3E%3Ca%20title%3D%22%20Temperature%3A%20327.64%20K%3Cbr%26gt%3BPressure%3A%20101325%20Pa%3Cbr%26gt%3BLiquid%20flow%3A%202.16e%2B04%20kmol/hr%22%3E%0A%3Ctext%20text-anchor%3D%22middle%22%20x%3D%225348.95%22%20y%3D%22-314.52%22%20font-family%3D%22Arial%22%20font-size%3D%2214.00%22%20fill%3D%22%234e4e4e%22%20space%3D%22preserve%22%3E%20s67%3C/text%3E%0A%3C/a%3E%0A%3C/g%3E%0A%3C/g%3E%0A%0A%3Cg%20id%3D%22edge47%22%20class%3D%22edge%22%20data-tippy-content%3D%22Temperature%3A%20327.64%20K%3Cbr%26gt%3BPressure%3A%20101325%20Pa%3Cbr%26gt%3BLiquid%20flow%3A%202.16e%2B04%20kmol/hr%22%3E%0A%3Cpath%20fill%3D%22none%22%20stroke%3D%22%234e4e4e%22%20stroke-width%3D%222.2%22%20d%3D%22M5540.2%2C-326.77C5551.67%2C-327.3%205563.45%2C-327.84%205574.9%2C-328.37%22%3E%3C/path%3E%0A%3Cpolygon%20fill%3D%22%234e4e4e%22%20stroke%3D%22%234e4e4e%22%20stroke-width%3D%222.2%22%20points%3D%225574.67%2C-331.86%205584.82%2C-328.83%205574.99%2C-324.87%205574.67%2C-331.86%22%3E%3C/polygon%3E%0A%3Cg%20id%3D%22a_edge47-label%22%3E%3Ca%20title%3D%22%20Temperature%3A%20327.64%20K%3Cbr%26gt%3BPressure%3A%20101325%20Pa%3Cbr%26gt%3BLiquid%20flow%3A%202.16e%2B04%20kmol/hr%22%3E%0A%3Ctext%20text-anchor%3D%22middle%22%20x%3D%225567.7%22%20y%3D%22-331.07%22%20font-family%3D%22Arial%22%20font-size%3D%2214.00%22%20fill%3D%22%234e4e4e%22%20space%3D%22preserve%22%3E%20s68%3C/text%3E%0A%3C/a%3E%0A%3C/g%3E%0A%3C/g%3E%0A%0A%3Cg%20id%3D%22edge126%22%20class%3D%22edge%22%20data-tippy-content%3D%22Temperature%3A%20308%20K%3Cbr%26gt%3BPressure%3A%20101325%20Pa%3Cbr%26gt%3BLiquid%20flow%3A%202e%2B04%20kmol/hr%22%3E%0A%3Cpath%20fill%3D%22none%22%20stroke%3D%22%234e4e4e%22%20stroke-width%3D%222.2%22%20d%3D%22M5693.34%2C-354.02C5737.6%2C-380.56%205812.1%2C-425.23%205860.37%2C-454.17%22%3E%3C/path%3E%0A%3Cpolygon%20fill%3D%22%234e4e4e%22%20stroke%3D%22%234e4e4e%22%20stroke-width%3D%222.2%22%20points%3D%225858.5%2C-457.13%205868.88%2C-459.27%205862.1%2C-451.13%205858.5%2C-457.13%22%3E%3C/polygon%3E%0A%3Cg%20id%3D%22a_edge126-label%22%3E%3Ca%20title%3D%22%20Temperature%3A%20308%20K%3Cbr%26gt%3BPressure%3A%20101325%20Pa%3Cbr%26gt%3BLiquid%20flow%3A%202e%2B04%20kmol/hr%22%3E%0A%3Ctext%20text-anchor%3D%22middle%22%20x%3D%225779.7%22%20y%3D%22-435.98%22%20font-family%3D%22Arial%22%20font-size%3D%2214.00%22%20fill%3D%22%234e4e4e%22%20space%3D%22preserve%22%3E%20s69%3C/text%3E%0A%3C/a%3E%0A%3C/g%3E%0A%3C/g%3E%0A%0A%3Cg%20id%3D%22edge151%22%20class%3D%22edge%22%20data-tippy-content%3D%22Temperature%3A%20308.15%20K%3Cbr%26gt%3BPressure%3A%20101325%20Pa%3Cbr%26gt%3BLiquid%20flow%3A%201.55e%2B03%20kmol/hr%22%3E%0A%3Cpath%20fill%3D%22none%22%20stroke%3D%22%234e4e4e%22%20stroke-width%3D%221.6%22%20d%3D%22M5685.71%2C-309.99C5730.57%2C-278.14%205820.64%2C-223.05%205906.86%2C-223.05%205906.86%2C-223.05%205906.86%2C-223.05%206300.12%2C-223.05%206430.16%2C-223.05%206413.58%2C-346.1%206530%2C-404.05%206623.5%2C-450.58%206744.95%2C-473.94%206810.6%2C-483.88%22%3E%3C/path%3E%0A%3Cpolygon%20fill%3D%22%234e4e4e%22%20stroke%3D%22%234e4e4e%22%20stroke-width%3D%221.6%22%20points%3D%226809.77%2C-487.3%206820.17%2C-485.28%206810.79%2C-480.37%206809.77%2C-487.3%22%3E%3C/polygon%3E%0A%3Cg%20id%3D%22a_edge151-label%22%3E%3Ca%20title%3D%22%20Temperature%3A%20308.15%20K%3Cbr%26gt%3BPressure%3A%20101325%20Pa%3Cbr%26gt%3BLiquid%20flow%3A%201.55e%2B03%20kmol/hr%22%3E%0A%3Ctext%20text-anchor%3D%22middle%22%20x%3D%226299.12%22%20y%3D%22-225.5%22%20font-family%3D%22Arial%22%20font-size%3D%2214.00%22%20fill%3D%22%234e4e4e%22%20space%3D%22preserve%22%3E%20s70%3C/text%3E%0A%3C/a%3E%0A%3C/g%3E%0A%3C/g%3E%0A%0A%3Cg%20id%3D%22edge48%22%20class%3D%22edge%22%20data-tippy-content%3D%22Temperature%3A%20308%20K%3Cbr%26gt%3BPressure%3A%20101325%20Pa%3Cbr%26gt%3BGas%20flow%3A%20231%20kmol/hr%22%3E%0A%3Cpath%20fill%3D%22none%22%20stroke%3D%22%234e4e4e%22%20d%3D%22M5723.41%2C-332.58C5766.83%2C-332.93%205822.34%2C-333.37%205860.87%2C-333.68%22%3E%3C/path%3E%0A%3Cpolygon%20fill%3D%22%234e4e4e%22%20stroke%3D%22%234e4e4e%22%20points%3D%225860.71%2C-337.18%205870.74%2C-333.76%205860.77%2C-330.18%205860.71%2C-337.18%22%3E%3C/polygon%3E%0A%3Cg%20id%3D%22a_edge48-label%22%3E%3Ca%20title%3D%22%20Temperature%3A%20308%20K%3Cbr%26gt%3BPressure%3A%20101325%20Pa%3Cbr%26gt%3BGas%20flow%3A%20231%20kmol/hr%22%3E%0A%3Ctext%20text-anchor%3D%22middle%22%20x%3D%225779.7%22%20y%3D%22-335.85%22%20font-family%3D%22Arial%22%20font-size%3D%2214.00%22%20fill%3D%22%234e4e4e%22%20space%3D%22preserve%22%3E%20biogas%3C/text%3E%0A%3C/a%3E%0A%3C/g%3E%0A%3C/g%3E%0A%0A%3Cg%20id%3D%22edge50%22%20class%3D%22edge%22%20data-tippy-content%3D%22Temperature%3A%20308.01%20K%3Cbr%26gt%3BPressure%3A%20101325%20Pa%3Cbr%26gt%3BLiquid%20flow%3A%201.39e%2B05%20kmol/hr%22%3E%0A%3Cpath%20fill%3D%22none%22%20stroke%3D%22%234e4e4e%22%20stroke-width%3D%222.2%22%20d%3D%22M5979.28%2C-482.05C6032.35%2C-482.05%206129.47%2C-614.16%206172.83%2C-677.25%22%3E%3C/path%3E%0A%3Cpolygon%20fill%3D%22%234e4e4e%22%20stroke%3D%22%234e4e4e%22%20stroke-width%3D%222.2%22%20points%3D%226169.88%2C-679.14%206178.41%2C-685.43%206175.67%2C-675.2%206169.88%2C-679.14%22%3E%3C/polygon%3E%0A%3Cg%20id%3D%22a_edge50-label%22%3E%3Ca%20title%3D%22%20Temperature%3A%20308.01%20K%3Cbr%26gt%3BPressure%3A%20101325%20Pa%3Cbr%26gt%3BLiquid%20flow%3A%201.39e%2B05%20kmol/hr%22%3E%0A%3Ctext%20text-anchor%3D%22middle%22%20x%3D%226057.64%22%20y%3D%22-612.15%22%20font-family%3D%22Arial%22%20font-size%3D%2214.00%22%20fill%3D%22%234e4e4e%22%20space%3D%22preserve%22%3E%20s73%3C/text%3E%0A%3C/a%3E%0A%3C/g%3E%0A%3C/g%3E%0A%0A%3Cg%20id%3D%22edge138%22%20class%3D%22edge%22%20data-tippy-content%3D%22Temperature%3A%20308.01%20K%3Cbr%26gt%3BPressure%3A%20101325%20Pa%3Cbr%26gt%3BLiquid%20flow%3A%201.38e%2B05%20kmol/hr%22%3E%0A%3Cpath%20fill%3D%22none%22%20stroke%3D%22%234e4e4e%22%20stroke-width%3D%222.2%22%20d%3D%22M6255.99%2C-709.5C6278.64%2C-709.29%206304.93%2C-709.05%206329.51%2C-708.83%22%3E%3C/path%3E%0A%3Cpolygon%20fill%3D%22%234e4e4e%22%20stroke%3D%22%234e4e4e%22%20stroke-width%3D%222.2%22%20points%3D%226329.28%2C-712.33%206339.24%2C-708.74%206329.21%2C-705.33%206329.28%2C-712.33%22%3E%3C/polygon%3E%0A%3Cg%20id%3D%22a_edge138-label%22%3E%3Ca%20title%3D%22%20Temperature%3A%20308.01%20K%3Cbr%26gt%3BPressure%3A%20101325%20Pa%3Cbr%26gt%3BLiquid%20flow%3A%201.38e%2B05%20kmol/hr%22%3E%0A%3Ctext%20text-anchor%3D%22middle%22%20x%3D%226299.12%22%20y%3D%22-711.85%22%20font-family%3D%22Arial%22%20font-size%3D%2214.00%22%20fill%3D%22%234e4e4e%22%20space%3D%22preserve%22%3E%20s74%3C/text%3E%0A%3C/a%3E%0A%3C/g%3E%0A%3C/g%3E%0A%0A%3Cg%20id%3D%22edge51%22%20class%3D%22edge%22%20data-tippy-content%3D%22Temperature%3A%20298.15%20K%3Cbr%26gt%3BPressure%3A%20101325%20Pa%3Cbr%26gt%3BGas%20flow%3A%201.68e%2B03%20kmol/hr%22%3E%0A%3Cpath%20fill%3D%22none%22%20stroke%3D%22%234e4e4e%22%20stroke-width%3D%221.6%22%20d%3D%22M6243.37%2C-732.08C6286.12%2C-750.25%206351.69%2C-773.05%206411.54%2C-773.05%22%3E%3C/path%3E%0A%3Cg%20id%3D%22a_edge51-label%22%3E%3Ca%20title%3D%22%20Temperature%3A%20298.15%20K%3Cbr%26gt%3BPressure%3A%20101325%20Pa%3Cbr%26gt%3BGas%20flow%3A%201.68e%2B03%20kmol/hr%22%3E%0A%3Ctext%20text-anchor%3D%22middle%22%20x%3D%226299.12%22%20y%3D%22-780.68%22%20font-family%3D%22Arial%22%20font-size%3D%2214.00%22%20fill%3D%22%234e4e4e%22%20space%3D%22preserve%22%3E%20evaporated%3C/text%3E%0A%3Ctext%20text-anchor%3D%22middle%22%20x%3D%226299.12%22%20y%3D%22-764.93%22%20font-family%3D%22Arial%22%20font-size%3D%2214.00%22%20fill%3D%22%234e4e4e%22%20space%3D%22preserve%22%3E%20water%3C/text%3E%0A%3C/a%3E%0A%3C/g%3E%0A%3C/g%3E%0A%0A%3Cg%20id%3D%22edge139%22%20class%3D%22edge%22%20data-tippy-content%3D%22Temperature%3A%20308.01%20K%3Cbr%26gt%3BPressure%3A%20101325%20Pa%3Cbr%26gt%3BLiquid%20flow%3A%201.18e%2B05%20kmol/hr%22%3E%0A%3Cpath%20fill%3D%22none%22%20stroke%3D%22%234e4e4e%22%20stroke-width%3D%222.2%22%20d%3D%22M6488.88%2C-704.73C6498.05%2C-704.46%206507.46%2C-704.24%206516.68%2C-704.13%22%3E%3C/path%3E%0A%3Cpolygon%20fill%3D%22%234e4e4e%22%20stroke%3D%22%234e4e4e%22%20stroke-width%3D%222.2%22%20points%3D%226516.69%2C-707.63%206526.67%2C-704.07%206516.64%2C-700.63%206516.69%2C-707.63%22%3E%3C/polygon%3E%0A%3Cg%20id%3D%22a_edge139-label%22%3E%3Ca%20title%3D%22%20Temperature%3A%20308.01%20K%3Cbr%26gt%3BPressure%3A%20101325%20Pa%3Cbr%26gt%3BLiquid%20flow%3A%201.18e%2B05%20kmol/hr%22%3E%0A%3Ctext%20text-anchor%3D%22middle%22%20x%3D%226509.25%22%20y%3D%22-706.91%22%20font-family%3D%22Arial%22%20font-size%3D%2214.00%22%20fill%3D%22%234e4e4e%22%20space%3D%22preserve%22%3E%20s76%3C/text%3E%0A%3C/a%3E%0A%3C/g%3E%0A%3C/g%3E%0A%0A%3Cg%20id%3D%22edge52%22%20class%3D%22edge%22%20data-tippy-content%3D%22Temperature%3A%20308.01%20K%3Cbr%26gt%3BPressure%3A%20101325%20Pa%3Cbr%26gt%3BLiquid%20flow%3A%202e%2B04%20kmol/hr%22%3E%0A%3Cpath%20fill%3D%22none%22%20stroke%3D%22%234e4e4e%22%20stroke-width%3D%222.2%22%20d%3D%22M6458.16%2C-730.07C6468.22%2C-735.7%206478.86%2C-741.91%206488.5%2C-748.05%206507.69%2C-760.27%206511.3%2C-765.07%206530%2C-778.05%206541.68%2C-786.16%206554.43%2C-794.77%206566.29%2C-802.67%22%3E%3C/path%3E%0A%3Cpolygon%20fill%3D%22%234e4e4e%22%20stroke%3D%22%234e4e4e%22%20stroke-width%3D%222.2%22%20points%3D%226564.28%2C-805.54%206574.54%2C-808.16%206568.15%2C-799.71%206564.28%2C-805.54%22%3E%3C/polygon%3E%0A%3Cg%20id%3D%22a_edge52-label%22%3E%3Ca%20title%3D%22%20Temperature%3A%20308.01%20K%3Cbr%26gt%3BPressure%3A%20101325%20Pa%3Cbr%26gt%3BLiquid%20flow%3A%202e%2B04%20kmol/hr%22%3E%0A%3Ctext%20text-anchor%3D%22middle%22%20x%3D%226509.25%22%20y%3D%22-774.19%22%20font-family%3D%22Arial%22%20font-size%3D%2214.00%22%20fill%3D%22%234e4e4e%22%20space%3D%22preserve%22%3E%20s75%3C/text%3E%0A%3C/a%3E%0A%3C/g%3E%0A%3C/g%3E%0A%0A%3Cg%20id%3D%22edge147%22%20class%3D%22edge%22%20data-tippy-content%3D%22Temperature%3A%20308.01%20K%3Cbr%26gt%3BPressure%3A%20101325%20Pa%3Cbr%26gt%3BLiquid%20flow%3A%204.7e%2B03%20kmol/hr%22%3E%0A%3Cpath%20fill%3D%22none%22%20stroke%3D%22%234e4e4e%22%20stroke-width%3D%221.6%22%20d%3D%22M6653.43%2C-668.71C6697.53%2C-630.14%206767.92%2C-568.58%206813.47%2C-528.74%22%3E%3C/path%3E%0A%3Cpolygon%20fill%3D%22%234e4e4e%22%20stroke%3D%22%234e4e4e%22%20stroke-width%3D%221.6%22%20points%3D%226815.75%2C-531.39%206820.98%2C-522.17%206811.15%2C-526.12%206815.75%2C-531.39%22%3E%3C/polygon%3E%0A%3Cg%20id%3D%22a_edge147-label%22%3E%3Ca%20title%3D%22%20Temperature%3A%20308.01%20K%3Cbr%26gt%3BPressure%3A%20101325%20Pa%3Cbr%26gt%3BLiquid%20flow%3A%204.7e%2B03%20kmol/hr%22%3E%0A%3Ctext%20text-anchor%3D%22middle%22%20x%3D%226740.67%22%20y%3D%22-624.96%22%20font-family%3D%22Arial%22%20font-size%3D%2214.00%22%20fill%3D%22%234e4e4e%22%20space%3D%22preserve%22%3E%20s78%3C/text%3E%0A%3C/a%3E%0A%3C/g%3E%0A%3C/g%3E%0A%0A%3Cg%20id%3D%22edge53%22%20class%3D%22edge%22%20data-tippy-content%3D%22Temperature%3A%20308.01%20K%3Cbr%26gt%3BPressure%3A%20101325%20Pa%3Cbr%26gt%3BLiquid%20flow%3A%201.13e%2B05%20kmol/hr%22%3E%0A%3Cpath%20fill%3D%22none%22%20stroke%3D%22%234e4e4e%22%20stroke-width%3D%222.2%22%20d%3D%22M6653.41%2C-699.7C6759.11%2C-686.94%207050.09%2C-642.77%207258.88%2C-525.05%207270.87%2C-518.29%207282.43%2C-509.31%207292.84%2C-499.94%22%3E%3C/path%3E%0A%3Cpolygon%20fill%3D%22%234e4e4e%22%20stroke%3D%22%234e4e4e%22%20stroke-width%3D%222.2%22%20points%3D%227295.13%2C-502.59%207300%2C-493.19%207290.33%2C-497.5%207295.13%2C-502.59%22%3E%3C/polygon%3E%0A%3Cg%20id%3D%22a_edge53-label%22%3E%3Ca%20title%3D%22%20Temperature%3A%20308.01%20K%3Cbr%26gt%3BPressure%3A%20101325%20Pa%3Cbr%26gt%3BLiquid%20flow%3A%201.13e%2B05%20kmol/hr%22%3E%0A%3Ctext%20text-anchor%3D%22middle%22%20x%3D%226995.13%22%20y%3D%22-648.84%22%20font-family%3D%22Arial%22%20font-size%3D%2214.00%22%20fill%3D%22%234e4e4e%22%20space%3D%22preserve%22%3E%20s77%3C/text%3E%0A%3C/a%3E%0A%3C/g%3E%0A%3C/g%3E%0A%0A%3Cg%20id%3D%22edge54%22%20class%3D%22edge%22%20data-tippy-content%3D%22Temperature%3A%20308.04%20K%3Cbr%26gt%3BPressure%3A%20101325%20Pa%3Cbr%26gt%3BLiquid%20flow%3A%206.26e%2B03%20kmol/hr%22%3E%0A%3Cpath%20fill%3D%22none%22%20stroke%3D%22%234e4e4e%22%20stroke-width%3D%222.2%22%20d%3D%22M6930.13%2C-490.05C6972.48%2C-490.05%207019.65%2C-485.79%207057.58%2C-481.3%22%3E%3C/path%3E%0A%3Cpolygon%20fill%3D%22%234e4e4e%22%20stroke%3D%22%234e4e4e%22%20stroke-width%3D%222.2%22%20points%3D%227057.78%2C-484.8%207067.28%2C-480.12%207056.93%2C-477.85%207057.78%2C-484.8%22%3E%3C/polygon%3E%0A%3Cg%20id%3D%22a_edge54-label%22%3E%3Ca%20title%3D%22%20Temperature%3A%20308.04%20K%3Cbr%26gt%3BPressure%3A%20101325%20Pa%3Cbr%26gt%3BLiquid%20flow%3A%206.26e%2B03%20kmol/hr%22%3E%0A%3Ctext%20text-anchor%3D%22middle%22%20x%3D%226995.13%22%20y%3D%22-492.41%22%20font-family%3D%22Arial%22%20font-size%3D%2214.00%22%20fill%3D%22%234e4e4e%22%20space%3D%22preserve%22%3E%20s79%3C/text%3E%0A%3C/a%3E%0A%3C/g%3E%0A%3C/g%3E%0A%0A%3Cg%20id%3D%22edge108%22%20class%3D%22edge%22%20data-tippy-content%3D%22Temperature%3A%20308.04%20K%3Cbr%26gt%3BPressure%3A%20101325%20Pa%3Cbr%26gt%3BLiquid%20flow%3A%206.09e%2B03%20kmol/hr%22%3E%0A%3Cpath%20fill%3D%22none%22%20stroke%3D%22%234e4e4e%22%20stroke-width%3D%222.2%22%20d%3D%22M7192.43%2C-450.94C7198.6%2C-449.46%207204.83%2C-448.19%207210.88%2C-447.3%207236.48%2C-443.5%207265.31%2C-444%207288.96%2C-445.64%22%3E%3C/path%3E%0A%3Cpolygon%20fill%3D%22%234e4e4e%22%20stroke%3D%22%234e4e4e%22%20stroke-width%3D%222.2%22%20points%3D%227288.66%2C-449.12%207298.91%2C-446.44%207289.22%2C-442.14%207288.66%2C-449.12%22%3E%3C/polygon%3E%0A%3Cg%20id%3D%22a_edge108-label%22%3E%3Ca%20title%3D%22%20Temperature%3A%20308.04%20K%3Cbr%26gt%3BPressure%3A%20101325%20Pa%3Cbr%26gt%3BLiquid%20flow%3A%206.09e%2B03%20kmol/hr%22%3E%0A%3Ctext%20text-anchor%3D%22middle%22%20x%3D%227234.88%22%20y%3D%22-449.75%22%20font-family%3D%22Arial%22%20font-size%3D%2214.00%22%20fill%3D%22%234e4e4e%22%20space%3D%22preserve%22%3E%20s80%3C/text%3E%0A%3C/a%3E%0A%3C/g%3E%0A%3C/g%3E%0A%0A%3Cg%20id%3D%22edge148%22%20class%3D%22edge%22%20data-tippy-content%3D%22Temperature%3A%20308.04%20K%3Cbr%26gt%3BPressure%3A%20101325%20Pa%3Cbr%26gt%3BLiquid%20flow%3A%20169%20kmol/hr%22%3E%0A%3Cpath%20fill%3D%22none%22%20stroke%3D%22%234e4e4e%22%20d%3D%22M7164.95%2C-493.07C7199.68%2C-516.64%207254.97%2C-554.17%207293.53%2C-580.34%22%3E%3C/path%3E%0A%3Cpolygon%20fill%3D%22%234e4e4e%22%20stroke%3D%22%234e4e4e%22%20points%3D%227291.46%2C-583.16%207301.7%2C-585.88%207295.39%2C-577.37%207291.46%2C-583.16%22%3E%3C/polygon%3E%0A%3Cg%20id%3D%22a_edge148-label%22%3E%3Ca%20title%3D%22%20Temperature%3A%20308.04%20K%3Cbr%26gt%3BPressure%3A%20101325%20Pa%3Cbr%26gt%3BLiquid%20flow%3A%20169%20kmol/hr%22%3E%0A%3Ctext%20text-anchor%3D%22middle%22%20x%3D%227234.88%22%20y%3D%22-555.45%22%20font-family%3D%22Arial%22%20font-size%3D%2214.00%22%20fill%3D%22%234e4e4e%22%20space%3D%22preserve%22%3E%20sludge%3C/text%3E%0A%3C/a%3E%0A%3C/g%3E%0A%3C/g%3E%0A%0A%3Cg%20id%3D%22edge49%22%20class%3D%22edge%22%20data-tippy-content%3D%22Temperature%3A%20308.01%20K%3Cbr%26gt%3BPressure%3A%20101325%20Pa%3Cbr%26gt%3BLiquid%20flow%3A%201.19e%2B05%20kmol/hr%22%3E%0A%3Cpath%20fill%3D%22none%22%20stroke%3D%22%234e4e4e%22%20stroke-width%3D%222.2%22%20d%3D%22M7411.75%2C-451.05C7413.31%2C-451.05%207411.86%2C-505.82%207410.75%2C-506.91%207387.94%2C-529.31%207290.7%2C-528.23%207266.88%2C-506.91%207254.91%2C-496.19%207268.38%2C-448.01%207258.88%2C-435.05%207222.57%2C-385.49%207193.94%2C-379.05%207132.5%2C-379.05%206194.75%2C-379.05%206194.75%2C-379.05%206194.75%2C-379.05%206104.56%2C-379.05%206007.33%2C-424.98%205952.69%2C-455.5%22%3E%3C/path%3E%0A%3Cpolygon%20fill%3D%22%234e4e4e%22%20stroke%3D%22%234e4e4e%22%20stroke-width%3D%222.2%22%20points%3D%225951.22%2C-452.31%205944.26%2C-460.29%205954.69%2C-458.39%205951.22%2C-452.31%22%3E%3C/polygon%3E%0A%3Cg%20id%3D%22a_edge49-label%22%3E%3Ca%20title%3D%22%20Temperature%3A%20308.01%20K%3Cbr%26gt%3BPressure%3A%20101325%20Pa%3Cbr%26gt%3BLiquid%20flow%3A%201.19e%2B05%20kmol/hr%22%3E%0A%3Ctext%20text-anchor%3D%22middle%22%20x%3D%226612.02%22%20y%3D%22-381.5%22%20font-family%3D%22Arial%22%20font-size%3D%2214.00%22%20fill%3D%22%234e4e4e%22%20space%3D%22preserve%22%3E%20s72%3C/text%3E%0A%3C/a%3E%0A%3C/g%3E%0A%3C/g%3E%0A%0A%3Cg%20id%3D%22edge55%22%20class%3D%22edge%22%20data-tippy-content%3D%22Temperature%3A%20313.33%20K%3Cbr%26gt%3BPressure%3A%20101325%20Pa%3Cbr%26gt%3BLiquid%20flow%3A%201.65e%2B03%20kmol/hr%22%3E%0A%3Cpath%20fill%3D%22none%22%20stroke%3D%22%234e4e4e%22%20stroke-width%3D%221.6%22%20d%3D%22M7409.71%2C-610.05C7515.13%2C-610.05%207569.34%2C-754.77%207588.78%2C-821.75%22%3E%3C/path%3E%0A%3Cpolygon%20fill%3D%22%234e4e4e%22%20stroke%3D%22%234e4e4e%22%20stroke-width%3D%221.6%22%20points%3D%227585.3%2C-822.28%207591.36%2C-830.97%207592.04%2C-820.4%207585.3%2C-822.28%22%3E%3C/polygon%3E%0A%3Cg%20id%3D%22a_edge55-label%22%3E%3Ca%20title%3D%22%20Temperature%3A%20313.33%20K%3Cbr%26gt%3BPressure%3A%20101325%20Pa%3Cbr%26gt%3BLiquid%20flow%3A%201.65e%2B03%20kmol/hr%22%3E%0A%3Ctext%20text-anchor%3D%22middle%22%20x%3D%227468.34%22%20y%3D%22-671.7%22%20font-family%3D%22Arial%22%20font-size%3D%2214.00%22%20fill%3D%22%234e4e4e%22%20space%3D%22preserve%22%3E%20to%20boiler%3C/text%3E%0A%3C/a%3E%0A%3C/g%3E%0A%3C/g%3E%0A%0A%3Cg%20id%3D%22edge56%22%20class%3D%22edge%22%20data-tippy-content%3D%22Temperature%3A%20308.01%20K%3Cbr%26gt%3BPressure%3A%20101325%20Pa%3Cbr%26gt%3BLiquid%20flow%3A%201.96e%2B04%20kmol/hr%22%3E%0A%3Cpath%20fill%3D%22none%22%20stroke%3D%22%234e4e4e%22%20stroke-width%3D%222.2%22%20d%3D%22M6672.56%2C-832.05C6714.83%2C-832.05%206770.82%2C-832.05%206810.11%2C-832.05%22%3E%3C/path%3E%0A%3Cpolygon%20fill%3D%22%234e4e4e%22%20stroke%3D%22%234e4e4e%22%20stroke-width%3D%222.2%22%20points%3D%226809.94%2C-835.55%206819.94%2C-832.05%206809.94%2C-828.55%206809.94%2C-835.55%22%3E%3C/polygon%3E%0A%3Cg%20id%3D%22a_edge56-label%22%3E%3Ca%20title%3D%22%20Temperature%3A%20308.01%20K%3Cbr%26gt%3BPressure%3A%20101325%20Pa%3Cbr%26gt%3BLiquid%20flow%3A%201.96e%2B04%20kmol/hr%22%3E%0A%3Ctext%20text-anchor%3D%22middle%22%20x%3D%226740.67%22%20y%3D%22-850.25%22%20font-family%3D%22Arial%22%20font-size%3D%2214.00%22%20fill%3D%22%234e4e4e%22%20space%3D%22preserve%22%3E%20RO%20treated%3C/text%3E%0A%3Ctext%20text-anchor%3D%22middle%22%20x%3D%226740.67%22%20y%3D%22-834.5%22%20font-family%3D%22Arial%22%20font-size%3D%2214.00%22%20fill%3D%22%234e4e4e%22%20space%3D%22preserve%22%3E%20water%3C/text%3E%0A%3C/a%3E%0A%3C/g%3E%0A%3C/g%3E%0A%0A%3Cg%20id%3D%22edge140%22%20class%3D%22edge%22%20data-tippy-content%3D%22Temperature%3A%20308.01%20K%3Cbr%26gt%3BPressure%3A%20101325%20Pa%3Cbr%26gt%3BLiquid%20flow%3A%20388%20kmol/hr%22%3E%0A%3Cpath%20fill%3D%22none%22%20stroke%3D%22%234e4e4e%22%20stroke-width%3D%221.6%22%20d%3D%22M6632.23%2C-853.9C6670.29%2C-894.63%206759.8%2C-978.05%206854.63%2C-978.05%22%3E%3C/path%3E%0A%3Cg%20id%3D%22a_edge140-label%22%3E%3Ca%20title%3D%22%20Temperature%3A%20308.01%20K%3Cbr%26gt%3BPressure%3A%20101325%20Pa%3Cbr%26gt%3BLiquid%20flow%3A%20388%20kmol/hr%22%3E%0A%3Ctext%20text-anchor%3D%22middle%22%20x%3D%226740.67%22%20y%3D%22-962.41%22%20font-family%3D%22Arial%22%20font-size%3D%2214.00%22%20fill%3D%22%234e4e4e%22%20space%3D%22preserve%22%3E%20brine%3C/text%3E%0A%3C/a%3E%0A%3C/g%3E%0A%3C/g%3E%0A%0A%3Cg%20id%3D%22edge57%22%20class%3D%22edge%22%20data-tippy-content%3D%22Temperature%3A%20308.01%20K%3Cbr%26gt%3BPressure%3A%20101325%20Pa%3Cbr%26gt%3BLiquid%20flow%3A%201.96e%2B04%20kmol/hr%22%3E%0A%3Cpath%20fill%3D%22none%22%20stroke%3D%22%234e4e4e%22%20stroke-width%3D%222.2%22%20d%3D%22M6930.13%2C-832.05C6968.55%2C-832.05%207011.11%2C-832.05%207047.09%2C-832.05%22%3E%3C/path%3E%0A%3Cpolygon%20fill%3D%22%234e4e4e%22%20stroke%3D%22%234e4e4e%22%20stroke-width%3D%222.2%22%20points%3D%227046.7%2C-835.55%207056.7%2C-832.05%207046.7%2C-828.55%207046.7%2C-835.55%22%3E%3C/polygon%3E%0A%3Cg%20id%3D%22a_edge57-label%22%3E%3Ca%20title%3D%22%20Temperature%3A%20308.01%20K%3Cbr%26gt%3BPressure%3A%20101325%20Pa%3Cbr%26gt%3BLiquid%20flow%3A%201.96e%2B04%20kmol/hr%22%3E%0A%3Ctext%20text-anchor%3D%22middle%22%20x%3D%226995.13%22%20y%3D%22-834.5%22%20font-family%3D%22Arial%22%20font-size%3D%2214.00%22%20fill%3D%22%234e4e4e%22%20space%3D%22preserve%22%3E%20s85%3C/text%3E%0A%3C/a%3E%0A%3C/g%3E%0A%3C/g%3E%0A%0A%3Cg%20id%3D%22edge58%22%20class%3D%22edge%22%20data-tippy-content%3D%22Temperature%3A%20386.4%20K%3Cbr%26gt%3BPressure%3A%20162120%20Pa%3Cbr%26gt%3BGas%20flow%3A%201.84e%2B03%20kmol/hr%22%3E%0A%3Cpath%20fill%3D%22none%22%20stroke%3D%22%234e4e4e%22%20stroke-width%3D%221.6%22%20d%3D%22M5328.2%2C-1028.05C5337.57%2C-1028.05%205347.34%2C-1028.05%205357.1%2C-1028.05%22%3E%3C/path%3E%0A%3Cpolygon%20fill%3D%22%234e4e4e%22%20stroke%3D%22%234e4e4e%22%20stroke-width%3D%221.6%22%20points%3D%225357.03%2C-1031.55%205367.03%2C-1028.05%205357.03%2C-1024.55%205357.03%2C-1031.55%22%3E%3C/polygon%3E%0A%3Cg%20id%3D%22a_edge58-label%22%3E%3Ca%20title%3D%22%20Temperature%3A%20386.4%20K%3Cbr%26gt%3BPressure%3A%20162120%20Pa%3Cbr%26gt%3BGas%20flow%3A%201.84e%2B03%20kmol/hr%22%3E%0A%3Ctext%20text-anchor%3D%22middle%22%20x%3D%225348.95%22%20y%3D%22-1030.5%22%20font-family%3D%22Arial%22%20font-size%3D%2214.00%22%20fill%3D%22%234e4e4e%22%20space%3D%22preserve%22%3E%20s52%3C/text%3E%0A%3C/a%3E%0A%3C/g%3E%0A%3C/g%3E%0A%0A%3Cg%20id%3D%22edge59%22%20class%3D%22edge%22%20data-tippy-content%3D%22Temperature%3A%20363.92%20K%3Cbr%26gt%3BPressure%3A%20162120%20Pa%3Cbr%26gt%3BGas%20flow%3A%20676%20kmol/hr%22%3E%0A%3Cpath%20fill%3D%22none%22%20stroke%3D%22%234e4e4e%22%20stroke-width%3D%221.6%22%20d%3D%22M5458.32%2C-1072.25C5458.32%2C-1102.58%205553.2%2C-1090.65%205611.06%2C-1080.55%22%3E%3C/path%3E%0A%3Cpolygon%20fill%3D%22%234e4e4e%22%20stroke%3D%22%234e4e4e%22%20stroke-width%3D%221.6%22%20points%3D%225611.54%2C-1084.02%205620.76%2C-1078.8%205610.3%2C-1077.13%205611.54%2C-1084.02%22%3E%3C/polygon%3E%0A%3Cg%20id%3D%22a_edge59-label%22%3E%3Ca%20title%3D%22%20Temperature%3A%20363.92%20K%3Cbr%26gt%3BPressure%3A%20162120%20Pa%3Cbr%26gt%3BGas%20flow%3A%20676%20kmol/hr%22%3E%0A%3Ctext%20text-anchor%3D%22middle%22%20x%3D%225567.7%22%20y%3D%22-1090.96%22%20font-family%3D%22Arial%22%20font-size%3D%2214.00%22%20fill%3D%22%234e4e4e%22%20space%3D%22preserve%22%3E%20s53%3C/text%3E%0A%3C/a%3E%0A%3C/g%3E%0A%3C/g%3E%0A%0A%3Cg%20id%3D%22edge141%22%20class%3D%22edge%22%20data-tippy-content%3D%22Temperature%3A%20386.85%20K%3Cbr%26gt%3BPressure%3A%20162120%20Pa%3Cbr%26gt%3BLiquid%20flow%3A%201.17e%2B03%20kmol/hr%22%3E%0A%3Cpath%20fill%3D%22none%22%20stroke%3D%22%234e4e4e%22%20stroke-width%3D%221.6%22%20d%3D%22M5458.32%2C-983.85C5458.32%2C-920.66%205561.23%2C-948.01%205618.05%2C-967.93%22%3E%3C/path%3E%0A%3Cpolygon%20fill%3D%22%234e4e4e%22%20stroke%3D%22%234e4e4e%22%20stroke-width%3D%221.6%22%20points%3D%225616.55%2C-971.11%205627.15%2C-971.21%205618.93%2C-964.53%205616.55%2C-971.11%22%3E%3C/polygon%3E%0A%3Cg%20id%3D%22a_edge141-label%22%3E%3Ca%20title%3D%22%20Temperature%3A%20386.85%20K%3Cbr%26gt%3BPressure%3A%20162120%20Pa%3Cbr%26gt%3BLiquid%20flow%3A%201.17e%2B03%20kmol/hr%22%3E%0A%3Ctext%20text-anchor%3D%22middle%22%20x%3D%225567.7%22%20y%3D%22-958.39%22%20font-family%3D%22Arial%22%20font-size%3D%2214.00%22%20fill%3D%22%234e4e4e%22%20space%3D%22preserve%22%3E%20s54%3C/text%3E%0A%3C/a%3E%0A%3C/g%3E%0A%3C/g%3E%0A%0A%3Cg%20id%3D%22edge60%22%20class%3D%22edge%22%20data-tippy-content%3D%22Temperature%3A%20388.15%20K%3Cbr%26gt%3BPressure%3A%20162120%20Pa%3Cbr%26gt%3BGas%20flow%3A%20676%20kmol/hr%22%3E%0A%3Cpath%20fill%3D%22none%22%20stroke%3D%22%234e4e4e%22%20stroke-width%3D%221.6%22%20d%3D%22M5688.13%2C-1079.58C5726.19%2C-1088.71%205791.34%2C-1104.34%205840.66%2C-1116.17%22%3E%3C/path%3E%0A%3Cpolygon%20fill%3D%22%234e4e4e%22%20stroke%3D%22%234e4e4e%22%20stroke-width%3D%221.6%22%20points%3D%225839.62%2C-1119.52%205850.16%2C-1118.45%205841.25%2C-1112.71%205839.62%2C-1119.52%22%3E%3C/polygon%3E%0A%3Cg%20id%3D%22a_edge60-label%22%3E%3Ca%20title%3D%22%20Temperature%3A%20388.15%20K%3Cbr%26gt%3BPressure%3A%20162120%20Pa%3Cbr%26gt%3BGas%20flow%3A%20676%20kmol/hr%22%3E%0A%3Ctext%20text-anchor%3D%22middle%22%20x%3D%225779.7%22%20y%3D%22-1115.09%22%20font-family%3D%22Arial%22%20font-size%3D%2214.00%22%20fill%3D%22%234e4e4e%22%20space%3D%22preserve%22%3E%20s55%3C/text%3E%0A%3C/a%3E%0A%3C/g%3E%0A%3C/g%3E%0A%0A%3Cg%20id%3D%22edge109%22%20class%3D%22edge%22%20data-tippy-content%3D%22Temperature%3A%20388.15%20K%3Cbr%26gt%3BPressure%3A%20162120%20Pa%3Cbr%26gt%3BGas%20flow%3A%20208%20kmol/hr%22%3E%0A%3Cpath%20fill%3D%22none%22%20stroke%3D%22%234e4e4e%22%20d%3D%22M5852.12%2C-1136.29C5752.96%2C-1142.13%205538.28%2C-1146.15%205369.7%2C-1089.05%205344.84%2C-1080.63%205318.99%2C-1066.92%205298.41%2C-1054.62%22%3E%3C/path%3E%0A%3Cpolygon%20fill%3D%22%234e4e4e%22%20stroke%3D%22%234e4e4e%22%20points%3D%225300.41%2C-1051.74%205290.05%2C-1049.52%205296.76%2C-1057.72%205300.41%2C-1051.74%22%3E%3C/polygon%3E%0A%3Cg%20id%3D%22a_edge109-label%22%3E%3Ca%20title%3D%22%20Temperature%3A%20388.15%20K%3Cbr%26gt%3BPressure%3A%20162120%20Pa%3Cbr%26gt%3BGas%20flow%3A%20208%20kmol/hr%22%3E%0A%3Ctext%20text-anchor%3D%22middle%22%20x%3D%225567.7%22%20y%3D%22-1134.12%22%20font-family%3D%22Arial%22%20font-size%3D%2214.00%22%20fill%3D%22%234e4e4e%22%20space%3D%22preserve%22%3E%20s56%3C/text%3E%0A%3C/a%3E%0A%3C/g%3E%0A%3C/g%3E%0A%0A%3Cg%20id%3D%22edge142%22%20class%3D%22edge%22%20data-tippy-content%3D%22Temperature%3A%20388.15%20K%3Cbr%26gt%3BPressure%3A%20162120%20Pa%3Cbr%26gt%3BGas%20flow%3A%20467%20kmol/hr%22%3E%0A%3Cpath%20fill%3D%22none%22%20stroke%3D%22%234e4e4e%22%20stroke-width%3D%221.6%22%20d%3D%22M5963.31%2C-1132.05C6017.7%2C-1132.05%206100.29%2C-1132.05%206150.7%2C-1132.05%22%3E%3C/path%3E%0A%3Cpolygon%20fill%3D%22%234e4e4e%22%20stroke%3D%22%234e4e4e%22%20stroke-width%3D%221.6%22%20points%3D%226150.67%2C-1135.55%206160.67%2C-1132.05%206150.67%2C-1128.55%206150.67%2C-1135.55%22%3E%3C/polygon%3E%0A%3Cg%20id%3D%22a_edge142-label%22%3E%3Ca%20title%3D%22%20Temperature%3A%20388.15%20K%3Cbr%26gt%3BPressure%3A%20162120%20Pa%3Cbr%26gt%3BGas%20flow%3A%20467%20kmol/hr%22%3E%0A%3Ctext%20text-anchor%3D%22middle%22%20x%3D%226057.64%22%20y%3D%22-1134.5%22%20font-family%3D%22Arial%22%20font-size%3D%2214.00%22%20fill%3D%22%234e4e4e%22%20space%3D%22preserve%22%3E%20s57%3C/text%3E%0A%3C/a%3E%0A%3C/g%3E%0A%3C/g%3E%0A%0A%3Cg%20id%3D%22edge61%22%20class%3D%22edge%22%20data-tippy-content%3D%22Temperature%3A%20340%20K%3Cbr%26gt%3BPressure%3A%20162120%20Pa%3Cbr%26gt%3BLiquid%20flow%3A%20467%20kmol/hr%22%3E%0A%3Cpath%20fill%3D%22none%22%20stroke%3D%22%234e4e4e%22%20stroke-width%3D%221.6%22%20d%3D%22M6228.43%2C-1132.05C6262.01%2C-1132.05%206315.78%2C-1132.05%206356.92%2C-1132.05%22%3E%3C/path%3E%0A%3Cpolygon%20fill%3D%22%234e4e4e%22%20stroke%3D%22%234e4e4e%22%20stroke-width%3D%221.6%22%20points%3D%226356.83%2C-1135.55%206366.83%2C-1132.05%206356.83%2C-1128.55%206356.83%2C-1135.55%22%3E%3C/polygon%3E%0A%3Cg%20id%3D%22a_edge61-label%22%3E%3Ca%20title%3D%22%20Temperature%3A%20340%20K%3Cbr%26gt%3BPressure%3A%20162120%20Pa%3Cbr%26gt%3BLiquid%20flow%3A%20467%20kmol/hr%22%3E%0A%3Ctext%20text-anchor%3D%22middle%22%20x%3D%226299.12%22%20y%3D%22-1134.5%22%20font-family%3D%22Arial%22%20font-size%3D%2214.00%22%20fill%3D%22%234e4e4e%22%20space%3D%22preserve%22%3E%20s58%3C/text%3E%0A%3C/a%3E%0A%3C/g%3E%0A%3C/g%3E%0A%0A%3Cg%20id%3D%22edge62%22%20class%3D%22edge%22%20data-tippy-content%3D%22Temperature%3A%20340%20K%3Cbr%26gt%3BPressure%3A%20162120%20Pa%3Cbr%26gt%3BLiquid%20flow%3A%20467%20kmol/hr%22%3E%0A%3Cpath%20fill%3D%22none%22%20stroke%3D%22%234e4e4e%22%20stroke-width%3D%221.6%22%20d%3D%22M6462.2%2C-1132.05C6496.03%2C-1132.05%206541.62%2C-1132.05%206573.38%2C-1132.05%22%3E%3C/path%3E%0A%3Cpolygon%20fill%3D%22%234e4e4e%22%20stroke%3D%22%234e4e4e%22%20stroke-width%3D%221.6%22%20points%3D%226573.24%2C-1135.55%206583.24%2C-1132.05%206573.24%2C-1128.55%206573.24%2C-1135.55%22%3E%3C/polygon%3E%0A%3Cg%20id%3D%22a_edge62-label%22%3E%3Ca%20title%3D%22%20Temperature%3A%20340%20K%3Cbr%26gt%3BPressure%3A%20162120%20Pa%3Cbr%26gt%3BLiquid%20flow%3A%20467%20kmol/hr%22%3E%0A%3Ctext%20text-anchor%3D%22middle%22%20x%3D%226509.25%22%20y%3D%22-1134.5%22%20font-family%3D%22Arial%22%20font-size%3D%2214.00%22%20fill%3D%22%234e4e4e%22%20space%3D%22preserve%22%3E%20s59%3C/text%3E%0A%3C/a%3E%0A%3C/g%3E%0A%3C/g%3E%0A%0A%3Cg%20id%3D%22edge110%22%20class%3D%22edge%22%20data-tippy-content%3D%22Temperature%3A%20340%20K%3Cbr%26gt%3BPressure%3A%20162120%20Pa%3Cbr%26gt%3BLiquid%20flow%3A%20467%20kmol/hr%22%3E%0A%3Cpath%20fill%3D%22none%22%20stroke%3D%22%234e4e4e%22%20stroke-width%3D%221.6%22%20d%3D%22M6638.28%2C-1136.28C6678.89%2C-1143.08%206759.33%2C-1156.56%206810.72%2C-1165.17%22%3E%3C/path%3E%0A%3Cpolygon%20fill%3D%22%234e4e4e%22%20stroke%3D%22%234e4e4e%22%20stroke-width%3D%221.6%22%20points%3D%226809.97%2C-1168.6%206820.41%2C-1166.8%206811.13%2C-1161.69%206809.97%2C-1168.6%22%3E%3C/polygon%3E%0A%3Cg%20id%3D%22a_edge110-label%22%3E%3Ca%20title%3D%22%20Temperature%3A%20340%20K%3Cbr%26gt%3BPressure%3A%20162120%20Pa%3Cbr%26gt%3BLiquid%20flow%3A%20467%20kmol/hr%22%3E%0A%3Ctext%20text-anchor%3D%22middle%22%20x%3D%226740.67%22%20y%3D%22-1162.23%22%20font-family%3D%22Arial%22%20font-size%3D%2214.00%22%20fill%3D%22%234e4e4e%22%20space%3D%22preserve%22%3E%20s60%3C/text%3E%0A%3C/a%3E%0A%3C/g%3E%0A%3C/g%3E%0A%0A%3Cg%20id%3D%22edge64%22%20class%3D%22edge%22%20data-tippy-content%3D%22Temperature%3A%20298.15%20K%3Cbr%26gt%3BPressure%3A%20101325%20Pa%3Cbr%26gt%3BLiquid%20flow%3A%204.09%20kmol/hr%22%3E%0A%3Cpath%20fill%3D%22none%22%20stroke%3D%22%234e4e4e%22%20d%3D%22M6462.2%2C-1211.05C6496.33%2C-1211.05%206542.43%2C-1211.05%206574.23%2C-1211.05%22%3E%3C/path%3E%0A%3Cpolygon%20fill%3D%22%234e4e4e%22%20stroke%3D%22%234e4e4e%22%20points%3D%226574.15%2C-1214.55%206584.15%2C-1211.05%206574.15%2C-1207.55%206574.15%2C-1214.55%22%3E%3C/polygon%3E%0A%3Cg%20id%3D%22a_edge64-label%22%3E%3Ca%20title%3D%22%20Temperature%3A%20298.15%20K%3Cbr%26gt%3BPressure%3A%20101325%20Pa%3Cbr%26gt%3BLiquid%20flow%3A%204.09%20kmol/hr%22%3E%0A%3Ctext%20text-anchor%3D%22middle%22%20x%3D%226509.25%22%20y%3D%22-1213.5%22%20font-family%3D%22Arial%22%20font-size%3D%2214.00%22%20fill%3D%22%234e4e4e%22%20space%3D%22preserve%22%3E%20s61%3C/text%3E%0A%3C/a%3E%0A%3C/g%3E%0A%3C/g%3E%0A%0A%3Cg%20id%3D%22edge65%22%20class%3D%22edge%22%20data-tippy-content%3D%22Temperature%3A%20298.15%20K%3Cbr%26gt%3BPressure%3A%20101325%20Pa%3Cbr%26gt%3BLiquid%20flow%3A%204.09%20kmol/hr%22%3E%0A%3Cpath%20fill%3D%22none%22%20stroke%3D%22%234e4e4e%22%20d%3D%22M6638.28%2C-1207.12C6679.15%2C-1200.78%206760.35%2C-1188.17%206811.69%2C-1180.19%22%3E%3C/path%3E%0A%3Cpolygon%20fill%3D%22%234e4e4e%22%20stroke%3D%22%234e4e4e%22%20points%3D%226811.96%2C-1183.69%206821.3%2C-1178.7%206810.89%2C-1176.78%206811.96%2C-1183.69%22%3E%3C/polygon%3E%0A%3Cg%20id%3D%22a_edge65-label%22%3E%3Ca%20title%3D%22%20Temperature%3A%20298.15%20K%3Cbr%26gt%3BPressure%3A%20101325%20Pa%3Cbr%26gt%3BLiquid%20flow%3A%204.09%20kmol/hr%22%3E%0A%3Ctext%20text-anchor%3D%22middle%22%20x%3D%226740.67%22%20y%3D%22-1199.02%22%20font-family%3D%22Arial%22%20font-size%3D%2214.00%22%20fill%3D%22%234e4e4e%22%20space%3D%22preserve%22%3E%20s62%3C/text%3E%0A%3C/a%3E%0A%3C/g%3E%0A%3C/g%3E%0A%0A%3Cg%20id%3D%22edge66%22%20class%3D%22edge%22%20data-tippy-content%3D%22Temperature%3A%20339.26%20K%3Cbr%26gt%3BPressure%3A%20101325%20Pa%3Cbr%26gt%3BLiquid%20flow%3A%20472%20kmol/hr%22%3E%0A%3Cpath%20fill%3D%22none%22%20stroke%3D%22%234e4e4e%22%20stroke-width%3D%221.6%22%20d%3D%22M6930.13%2C-1173.05C6978.26%2C-1173.05%207032.89%2C-1173.05%207072.94%2C-1173.05%22%3E%3C/path%3E%0A%3Cpolygon%20fill%3D%22%234e4e4e%22%20stroke%3D%22%234e4e4e%22%20stroke-width%3D%221.6%22%20points%3D%227072.72%2C-1176.55%207082.72%2C-1173.05%207072.72%2C-1169.55%207072.72%2C-1176.55%22%3E%3C/polygon%3E%0A%3Cg%20id%3D%22a_edge66-label%22%3E%3Ca%20title%3D%22%20Temperature%3A%20339.26%20K%3Cbr%26gt%3BPressure%3A%20101325%20Pa%3Cbr%26gt%3BLiquid%20flow%3A%20472%20kmol/hr%22%3E%0A%3Ctext%20text-anchor%3D%22middle%22%20x%3D%226995.13%22%20y%3D%22-1175.5%22%20font-family%3D%22Arial%22%20font-size%3D%2214.00%22%20fill%3D%22%234e4e4e%22%20space%3D%22preserve%22%3E%20s63%3C/text%3E%0A%3C/a%3E%0A%3C/g%3E%0A%3C/g%3E%0A%0A%3Cg%20id%3D%22edge67%22%20class%3D%22edge%22%20data-tippy-content%3D%22Temperature%3A%20339.26%20K%3Cbr%26gt%3BPressure%3A%20101325%20Pa%3Cbr%26gt%3BLiquid%20flow%3A%20472%20kmol/hr%22%3E%0A%3Cpath%20fill%3D%22none%22%20stroke%3D%22%234e4e4e%22%20stroke-width%3D%221.6%22%20d%3D%22M7178.17%2C-1173.05C7219.05%2C-1173.05%207280.64%2C-1173.05%207334.22%2C-1173.05%22%3E%3C/path%3E%0A%3Cg%20id%3D%22a_edge67-label%22%3E%3Ca%20title%3D%22%20Temperature%3A%20339.26%20K%3Cbr%26gt%3BPressure%3A%20101325%20Pa%3Cbr%26gt%3BLiquid%20flow%3A%20472%20kmol/hr%22%3E%0A%3Ctext%20text-anchor%3D%22middle%22%20x%3D%227234.88%22%20y%3D%22-1175.5%22%20font-family%3D%22Arial%22%20font-size%3D%2214.00%22%20fill%3D%22%234e4e4e%22%20space%3D%22preserve%22%3E%20ethanol%3C/text%3E%0A%3C/a%3E%0A%3C/g%3E%0A%3C/g%3E%0A%0A%3Cg%20id%3D%22edge83%22%20class%3D%22edge%22%20data-tippy-content%3D%22Temperature%3A%20414.43%20K%3Cbr%26gt%3BPressure%3A%20101325%20Pa%3Cbr%26gt%3BGas%20flow%3A%20577%20kmol/hr%22%3E%0A%3Cpath%20fill%3D%22none%22%20stroke%3D%22%234e4e4e%22%20d%3D%22M5979.28%2C-334.05C6317.85%2C-334.05%206401.1%2C-288.05%206739.67%2C-288.05%206739.67%2C-288.05%206739.67%2C-288.05%207339.3%2C-288.05%207575.34%2C-288.05%207596.46%2C-700.17%207597.56%2C-821.7%22%3E%3C/path%3E%0A%3Cpolygon%20fill%3D%22%234e4e4e%22%20stroke%3D%22%234e4e4e%22%20points%3D%227594.06%2C-821.67%207597.6%2C-831.65%207601.06%2C-821.64%207594.06%2C-821.67%22%3E%3C/polygon%3E%0A%3Cg%20id%3D%22a_edge83-label%22%3E%3Ca%20title%3D%22%20Temperature%3A%20414.43%20K%3Cbr%26gt%3BPressure%3A%20101325%20Pa%3Cbr%26gt%3BGas%20flow%3A%20577%20kmol/hr%22%3E%0A%3Ctext%20text-anchor%3D%22middle%22%20x%3D%226740.67%22%20y%3D%22-290.65%22%20font-family%3D%22Arial%22%20font-size%3D%2214.00%22%20fill%3D%22%234e4e4e%22%20space%3D%22preserve%22%3E%20gas%20to%20boiler%3C/text%3E%0A%3C/a%3E%0A%3C/g%3E%0A%3C/g%3E%0A%0A%3Cg%20id%3D%22edge68%22%20class%3D%22edge%22%20data-tippy-content%3D%22Temperature%3A%20386.85%20K%3Cbr%26gt%3BPressure%3A%20162120%20Pa%3Cbr%26gt%3BLiquid%20flow%3A%201.17e%2B03%20kmol/hr%22%3E%0A%3Cpath%20fill%3D%22none%22%20stroke%3D%22%234e4e4e%22%20stroke-width%3D%221.6%22%20d%3D%22M5682.02%2C-984.89C5747.82%2C-992.3%205925.01%2C-1012.24%206009.96%2C-1021.79%22%3E%3C/path%3E%0A%3Cpolygon%20fill%3D%22%234e4e4e%22%20stroke%3D%22%234e4e4e%22%20stroke-width%3D%221.6%22%20points%3D%226009.31%2C-1025.24%206019.64%2C-1022.88%206010.09%2C-1018.29%206009.31%2C-1025.24%22%3E%3C/polygon%3E%0A%3Cg%20id%3D%22a_edge68-label%22%3E%3Ca%20title%3D%22%20Temperature%3A%20386.85%20K%3Cbr%26gt%3BPressure%3A%20162120%20Pa%3Cbr%26gt%3BLiquid%20flow%3A%201.17e%2B03%20kmol/hr%22%3E%0A%3Ctext%20text-anchor%3D%22middle%22%20x%3D%225779.7%22%20y%3D%22-1018.91%22%20font-family%3D%22Arial%22%20font-size%3D%2214.00%22%20fill%3D%22%234e4e4e%22%20space%3D%22preserve%22%3E%20recycle%20process%3C/text%3E%0A%3Ctext%20text-anchor%3D%22middle%22%20x%3D%225779.7%22%20y%3D%22-1003.16%22%20font-family%3D%22Arial%22%20font-size%3D%2214.00%22%20fill%3D%22%234e4e4e%22%20space%3D%22preserve%22%3E%20water%3C/text%3E%0A%3C/a%3E%0A%3C/g%3E%0A%3C/g%3E%0A%0A%3Cg%20id%3D%22edge111%22%20class%3D%22edge%22%20data-tippy-content%3D%22Temperature%3A%20386.85%20K%3Cbr%26gt%3BPressure%3A%20162120%20Pa%3Cbr%26gt%3BLiquid%20flow%3A%201.17e%2B03%20kmol/hr%22%3E%0A%3Cpath%20fill%3D%22none%22%20stroke%3D%22%234e4e4e%22%20stroke-width%3D%221.6%22%20d%3D%22M6128%2C-1027.05C6203.83%2C-1027.05%206222.29%2C-1040.05%206298.12%2C-1040.05%206298.12%2C-1040.05%206298.12%2C-1040.05%206859.71%2C-1040.05%206955.28%2C-1040.05%206979.74%2C-1006.45%207052.13%2C-944.05%207078.04%2C-921.7%207099.63%2C-889.01%207113.54%2C-864.7%22%3E%3C/path%3E%0A%3Cpolygon%20fill%3D%22%234e4e4e%22%20stroke%3D%22%234e4e4e%22%20stroke-width%3D%221.6%22%20points%3D%227116.59%2C-866.42%207118.38%2C-855.98%207110.47%2C-863.02%207116.59%2C-866.42%22%3E%3C/polygon%3E%0A%3Cg%20id%3D%22a_edge111-label%22%3E%3Ca%20title%3D%22%20Temperature%3A%20386.85%20K%3Cbr%26gt%3BPressure%3A%20162120%20Pa%3Cbr%26gt%3BLiquid%20flow%3A%201.17e%2B03%20kmol/hr%22%3E%0A%3Ctext%20text-anchor%3D%22middle%22%20x%3D%226509.25%22%20y%3D%22-1042.5%22%20font-family%3D%22Arial%22%20font-size%3D%2214.00%22%20fill%3D%22%234e4e4e%22%20space%3D%22preserve%22%3E%20s84%3C/text%3E%0A%3C/a%3E%0A%3C/g%3E%0A%3C/g%3E%0A%0A%3Cg%20id%3D%22edge70%22%20class%3D%22edge%22%20data-tippy-content%3D%22%28empty%29%22%3E%0A%3Cpath%20fill%3D%22none%22%20stroke%3D%22%234e4e4e%22%20stroke-dasharray%3D%225%2C2%22%20d%3D%22M251.11%2C-848.05C299.44%2C-848.05%20374.51%2C-848.05%20439.59%2C-848.05%22%3E%3C/path%3E%0A%3Cg%20id%3D%22a_edge70-label%22%3E%3Ca%20title%3D%22%28empty%29%22%3E%0A%3Ctext%20text-anchor%3D%22middle%22%20x%3D%22333.17%22%20y%3D%22-850.5%22%20font-family%3D%22Arial%22%20font-size%3D%2214.00%22%20fill%3D%22%234e4e4e%22%20space%3D%22preserve%22%3E%20s18%3C/text%3E%0A%3C/a%3E%0A%3C/g%3E%0A%3C/g%3E%0A%0A%3Cg%20id%3D%22edge72%22%20class%3D%22edge%22%20data-tippy-content%3D%22Temperature%3A%20300.15%20K%3Cbr%26gt%3BPressure%3A%20101325%20Pa%3Cbr%26gt%3BLiquid%20flow%3A%202.87e%2B04%20kmol/hr%22%3E%0A%3Cpath%20fill%3D%22none%22%20stroke%3D%22%234e4e4e%22%20stroke-width%3D%222.2%22%20d%3D%22M274.49%2C-927.05C321.69%2C-927.05%20384.25%2C-927.05%20439.59%2C-927.05%22%3E%3C/path%3E%0A%3Cg%20id%3D%22a_edge72-label%22%3E%3Ca%20title%3D%22%20Temperature%3A%20300.15%20K%3Cbr%26gt%3BPressure%3A%20101325%20Pa%3Cbr%26gt%3BLiquid%20flow%3A%202.87e%2B04%20kmol/hr%22%3E%0A%3Ctext%20text-anchor%3D%22middle%22%20x%3D%22333.17%22%20y%3D%22-929.5%22%20font-family%3D%22Arial%22%20font-size%3D%2214.00%22%20fill%3D%22%234e4e4e%22%20space%3D%22preserve%22%3E%20%3C/text%3E%0A%3C/a%3E%0A%3C/g%3E%0A%3C/g%3E%0A%0A%3Cg%20id%3D%22edge74%22%20class%3D%22edge%22%20data-tippy-content%3D%22Temperature%3A%20298.15%20K%3Cbr%26gt%3BPressure%3A%20101325%20Pa%3Cbr%26gt%3BLiquid%20flow%3A%20321%20kmol/hr%22%3E%0A%3Cpath%20fill%3D%22none%22%20stroke%3D%22%234e4e4e%22%20d%3D%22M252.51%2C-1006.05C300.87%2C-1006.05%20375.13%2C-1006.05%20439.59%2C-1006.05%22%3E%3C/path%3E%0A%3Cg%20id%3D%22a_edge74-label%22%3E%3Ca%20title%3D%22%20Temperature%3A%20298.15%20K%3Cbr%26gt%3BPressure%3A%20101325%20Pa%3Cbr%26gt%3BLiquid%20flow%3A%20321%20kmol/hr%22%3E%0A%3Ctext%20text-anchor%3D%22middle%22%20x%3D%22333.17%22%20y%3D%22-1008.5%22%20font-family%3D%22Arial%22%20font-size%3D%2214.00%22%20fill%3D%22%234e4e4e%22%20space%3D%22preserve%22%3E%20s83%3C/text%3E%0A%3C/a%3E%0A%3C/g%3E%0A%3C/g%3E%0A%0A%3Cg%20id%3D%22edge76%22%20class%3D%22edge%22%20data-tippy-content%3D%22Temperature%3A%20298.15%20K%3Cbr%26gt%3BPressure%3A%20101325%20Pa%3Cbr%26gt%3BLiquid%20flow%3A%204.85%20kmol/hr%22%3E%0A%3Cpath%20fill%3D%22none%22%20stroke%3D%22%234e4e4e%22%20d%3D%22M247.42%2C-1082.75C261.59%2C-1082.15%20277.2%2C-1081.59%20291.55%2C-1081.3%20328.54%2C-1080.53%20337.82%2C-1080.23%20374.8%2C-1081.3%20403.63%2C-1082.13%20410.75%2C-1085.05%20439.59%2C-1085.05%22%3E%3C/path%3E%0A%3Cg%20id%3D%22a_edge76-label%22%3E%3Ca%20title%3D%22%20Temperature%3A%20298.15%20K%3Cbr%26gt%3BPressure%3A%20101325%20Pa%3Cbr%26gt%3BLiquid%20flow%3A%204.85%20kmol/hr%22%3E%0A%3Ctext%20text-anchor%3D%22middle%22%20x%3D%22333.17%22%20y%3D%22-1083.75%22%20font-family%3D%22Arial%22%20font-size%3D%2214.00%22%20fill%3D%22%234e4e4e%22%20space%3D%22preserve%22%3E%20s81%3C/text%3E%0A%3C/a%3E%0A%3C/g%3E%0A%3C/g%3E%0A%0A%3Cg%20id%3D%22edge78%22%20class%3D%22edge%22%20data-tippy-content%3D%22Temperature%3A%20324.82%20K%3Cbr%26gt%3BPressure%3A%20101325%20Pa%3Cbr%26gt%3BLiquid%20flow%3A%201.65e%2B05%20kmol/hr%22%3E%0A%3Cpath%20fill%3D%22none%22%20stroke%3D%22%234e4e4e%22%20stroke-width%3D%222.2%22%20d%3D%22M244.47%2C-1236.95C291.44%2C-1258.45%20368.93%2C-1288.05%20439.59%2C-1288.05%22%3E%3C/path%3E%0A%3Cg%20id%3D%22a_edge78-label%22%3E%3Ca%20title%3D%22%20Temperature%3A%20324.82%20K%3Cbr%26gt%3BPressure%3A%20101325%20Pa%3Cbr%26gt%3BLiquid%20flow%3A%201.65e%2B05%20kmol/hr%22%3E%0A%3Ctext%20text-anchor%3D%22middle%22%20x%3D%22333.17%22%20y%3D%22-1282.9%22%20font-family%3D%22Arial%22%20font-size%3D%2214.00%22%20fill%3D%22%234e4e4e%22%20space%3D%22preserve%22%3E%20%3C/text%3E%0A%3C/a%3E%0A%3C/g%3E%0A%3C/g%3E%0A%0A%3Cg%20id%3D%22edge123%22%20class%3D%22edge%22%20data-tippy-content%3D%22Temperature%3A%20324.82%20K%3Cbr%26gt%3BPressure%3A%20101325%20Pa%3Cbr%26gt%3BLiquid%20flow%3A%20165%20kmol/hr%22%3E%0A%3Cpath%20fill%3D%22none%22%20stroke%3D%22%234e4e4e%22%20d%3D%22M249.3%2C-1212.83C262.96%2C-1212.3%20277.84%2C-1211.81%20291.55%2C-1211.55%20328.54%2C-1210.83%20337.81%2C-1210.55%20374.8%2C-1211.55%20403.63%2C-1212.32%20410.75%2C-1215.05%20439.59%2C-1215.05%22%3E%3C/path%3E%0A%3Cg%20id%3D%22a_edge123-label%22%3E%3Ca%20title%3D%22%20Temperature%3A%20324.82%20K%3Cbr%26gt%3BPressure%3A%20101325%20Pa%3Cbr%26gt%3BLiquid%20flow%3A%20165%20kmol/hr%22%3E%0A%3Ctext%20text-anchor%3D%22middle%22%20x%3D%22333.17%22%20y%3D%22-1229.75%22%20font-family%3D%22Arial%22%20font-size%3D%2214.00%22%20fill%3D%22%234e4e4e%22%20space%3D%22preserve%22%3E%20cooling%20tower%3C/text%3E%0A%3Ctext%20text-anchor%3D%22middle%22%20x%3D%22333.17%22%20y%3D%22-1214%22%20font-family%3D%22Arial%22%20font-size%3D%2214.00%22%20fill%3D%22%234e4e4e%22%20space%3D%22preserve%22%3E%20blowdown%3C/text%3E%0A%3C/a%3E%0A%3C/g%3E%0A%3C/g%3E%0A%0A%3Cg%20id%3D%22edge152%22%20class%3D%22edge%22%20data-tippy-content%3D%22Temperature%3A%20324.82%20K%3Cbr%26gt%3BPressure%3A%20101325%20Pa%3Cbr%26gt%3BGas%20flow%3A%201.65e%2B03%20kmol/hr%22%3E%0A%3Cpath%20fill%3D%22none%22%20stroke%3D%22%234e4e4e%22%20stroke-width%3D%221.6%22%20d%3D%22M240.04%2C-1192.97C255.67%2C-1184.93%20274.08%2C-1176.39%20291.55%2C-1170.55%20355.09%2C-1149.27%20372.59%2C-1142.05%20439.59%2C-1142.05%22%3E%3C/path%3E%0A%3Cg%20id%3D%22a_edge152-label%22%3E%3Ca%20title%3D%22%20Temperature%3A%20324.82%20K%3Cbr%26gt%3BPressure%3A%20101325%20Pa%3Cbr%26gt%3BGas%20flow%3A%201.65e%2B03%20kmol/hr%22%3E%0A%3Ctext%20text-anchor%3D%22middle%22%20x%3D%22333.17%22%20y%3D%22-1188.75%22%20font-family%3D%22Arial%22%20font-size%3D%2214.00%22%20fill%3D%22%234e4e4e%22%20space%3D%22preserve%22%3E%20cooling%20tower%3C/text%3E%0A%3Ctext%20text-anchor%3D%22middle%22%20x%3D%22333.17%22%20y%3D%22-1173%22%20font-family%3D%22Arial%22%20font-size%3D%2214.00%22%20fill%3D%22%234e4e4e%22%20space%3D%22preserve%22%3E%20evaporation%3C/text%3E%0A%3C/a%3E%0A%3C/g%3E%0A%3C/g%3E%0A%0A%3Cg%20id%3D%22edge80%22%20class%3D%22edge%22%20data-tippy-content%3D%22Temperature%3A%20298.15%20K%3Cbr%26gt%3BPressure%3A%20101325%20Pa%3Cbr%26gt%3BLiquid%20flow%3A%202.06e%2B03%20kmol/hr%22%3E%0A%3Cpath%20fill%3D%22none%22%20stroke%3D%22%234e4e4e%22%20stroke-width%3D%221.6%22%20d%3D%22M278.23%2C-1345.05C324.96%2C-1345.05%20385.7%2C-1345.05%20439.59%2C-1345.05%22%3E%3C/path%3E%0A%3Cg%20id%3D%22a_edge80-label%22%3E%3Ca%20title%3D%22%20Temperature%3A%20298.15%20K%3Cbr%26gt%3BPressure%3A%20101325%20Pa%3Cbr%26gt%3BLiquid%20flow%3A%202.06e%2B03%20kmol/hr%22%3E%0A%3Ctext%20text-anchor%3D%22middle%22%20x%3D%22333.17%22%20y%3D%22-1347.5%22%20font-family%3D%22Arial%22%20font-size%3D%2214.00%22%20fill%3D%22%234e4e4e%22%20space%3D%22preserve%22%3E%20s82%3C/text%3E%0A%3C/a%3E%0A%3C/g%3E%0A%3C/g%3E%0A%0A%3Cg%20id%3D%22edge81%22%20class%3D%22edge%22%20data-tippy-content%3D%22Temperature%3A%20418.95%20K%3Cbr%26gt%3BPressure%3A%20101325%20Pa%3Cbr%26gt%3BGas%20flow%3A%202.52e%2B04%20kmol/hr%22%3E%0A%3Cpath%20fill%3D%22none%22%20stroke%3D%22%234e4e4e%22%20stroke-width%3D%222.2%22%20d%3D%22M7635.75%2C-877.08C7665.73%2C-893.12%207709.92%2C-912.05%207751.53%2C-912.05%22%3E%3C/path%3E%0A%3Cg%20id%3D%22a_edge81-label%22%3E%3Ca%20title%3D%22%20Temperature%3A%20418.95%20K%3Cbr%26gt%3BPressure%3A%20101325%20Pa%3Cbr%26gt%3BGas%20flow%3A%202.52e%2B04%20kmol/hr%22%3E%0A%3Ctext%20text-anchor%3D%22middle%22%20x%3D%227709.96%22%20y%3D%22-913.9%22%20font-family%3D%22Arial%22%20font-size%3D%2214.00%22%20fill%3D%22%234e4e4e%22%20space%3D%22preserve%22%3E%20emissions%3C/text%3E%0A%3C/a%3E%0A%3C/g%3E%0A%3C/g%3E%0A%0A%3Cg%20id%3D%22edge124%22%20class%3D%22edge%22%20data-tippy-content%3D%22Temperature%3A%20298.15%20K%3Cbr%26gt%3BPressure%3A%20101325%20Pa%3Cbr%26gt%3BLiquid%20flow%3A%20281%20kmol/hr%22%3E%0A%3Cpath%20fill%3D%22none%22%20stroke%3D%22%234e4e4e%22%20d%3D%22M7669.83%2C-851.51C7672.49%2C-851.43%207675.13%2C-851.36%207677.71%2C-851.3%207706.37%2C-850.61%207714.07%2C-845.85%207742.21%2C-851.3%207746.6%2C-852.14%207747.07%2C-855.05%207751.53%2C-855.05%22%3E%3C/path%3E%0A%3Cg%20id%3D%22a_edge124-label%22%3E%3Ca%20title%3D%22%20Temperature%3A%20298.15%20K%3Cbr%26gt%3BPressure%3A%20101325%20Pa%3Cbr%26gt%3BLiquid%20flow%3A%20281%20kmol/hr%22%3E%0A%3Ctext%20text-anchor%3D%22middle%22%20x%3D%227709.96%22%20y%3D%22-853.75%22%20font-family%3D%22Arial%22%20font-size%3D%2214.00%22%20fill%3D%22%234e4e4e%22%20space%3D%22preserve%22%3E%20blowdown%3C/text%3E%0A%3C/a%3E%0A%3C/g%3E%0A%3C/g%3E%0A%0A%3Cg%20id%3D%22edge153%22%20class%3D%22edge%22%20data-tippy-content%3D%22Temperature%3A%20298.15%20K%3Cbr%26gt%3BPressure%3A%20101325%20Pa%3Cbr%26gt%3BLiquid%20flow%3A%201.03e%2B03%20kmol/hr%22%3E%0A%3Cpath%20fill%3D%22none%22%20stroke%3D%22%234e4e4e%22%20d%3D%22M7635.75%2C-833.01C7665.73%2C-816.97%207709.92%2C-798.05%207751.53%2C-798.05%22%3E%3C/path%3E%0A%3Cg%20id%3D%22a_edge153-label%22%3E%3Ca%20title%3D%22%20Temperature%3A%20298.15%20K%3Cbr%26gt%3BPressure%3A%20101325%20Pa%3Cbr%26gt%3BLiquid%20flow%3A%201.03e%2B03%20kmol/hr%22%3E%0A%3Ctext%20text-anchor%3D%22middle%22%20x%3D%227709.96%22%20y%3D%22-815.78%22%20font-family%3D%22Arial%22%20font-size%3D%2214.00%22%20fill%3D%22%234e4e4e%22%20space%3D%22preserve%22%3E%20ash%3C/text%3E%0A%3C/a%3E%0A%3C/g%3E%0A%3C/g%3E%0A%0A%3Cg%20id%3D%22edge82%22%20class%3D%22edge%22%20data-tippy-content%3D%22Temperature%3A%20298.15%20K%3Cbr%26gt%3BPressure%3A%20101325%20Pa%3Cbr%26gt%3BLiquid%20flow%3A%202.09e%2B03%20kmol/hr%22%3E%0A%3Cpath%20fill%3D%22none%22%20stroke%3D%22%234e4e4e%22%20stroke-width%3D%221.6%22%20d%3D%22M7138.95%2C-854.04C7157.99%2C-913.86%207219.9%2C-1075.05%207334.22%2C-1075.05%22%3E%3C/path%3E%0A%3Cg%20id%3D%22a_edge82-label%22%3E%3Ca%20title%3D%22%20Temperature%3A%20298.15%20K%3Cbr%26gt%3BPressure%3A%20101325%20Pa%3Cbr%26gt%3BLiquid%20flow%3A%202.09e%2B03%20kmol/hr%22%3E%0A%3Ctext%20text-anchor%3D%22middle%22%20x%3D%227234.88%22%20y%3D%22-1047.39%22%20font-family%3D%22Arial%22%20font-size%3D%2214.00%22%20fill%3D%22%234e4e4e%22%20space%3D%22preserve%22%3E%20s86%3C/text%3E%0A%3C/a%3E%0A%3C/g%3E%0A%3C/g%3E%0A%0A%3Cg%20id%3D%22edge125%22%20class%3D%22edge%22%20data-tippy-content%3D%22Temperature%3A%20298.15%20K%3Cbr%26gt%3BPressure%3A%20101325%20Pa%3Cbr%26gt%3BLiquid%20flow%3A%201.95e%2B04%20kmol/hr%22%3E%0A%3Cpath%20fill%3D%22none%22%20stroke%3D%22%234e4e4e%22%20stroke-width%3D%222.2%22%20d%3D%22M7168.99%2C-810.14C7208.33%2C-788.64%207273.51%2C-759.05%207334.22%2C-759.05%22%3E%3C/path%3E%0A%3Cg%20id%3D%22a_edge125-label%22%3E%3Ca%20title%3D%22%20Temperature%3A%20298.15%20K%3Cbr%26gt%3BPressure%3A%20101325%20Pa%3Cbr%26gt%3BLiquid%20flow%3A%201.95e%2B04%20kmol/hr%22%3E%0A%3Ctext%20text-anchor%3D%22middle%22%20x%3D%227234.88%22%20y%3D%22-791.46%22%20font-family%3D%22Arial%22%20font-size%3D%2214.00%22%20fill%3D%22%234e4e4e%22%20space%3D%22preserve%22%3E%20s87%3C/text%3E%0A%3C/a%3E%0A%3C/g%3E%0A%3C/g%3E%0A%0A%3Cg%20id%3D%22edge154%22%20class%3D%22edge%22%20data-tippy-content%3D%22%28empty%29%22%3E%0A%3Cpath%20fill%3D%22none%22%20stroke%3D%22%234e4e4e%22%20stroke-dasharray%3D%225%2C2%22%20d%3D%22M7147.85%2C-810.18C7162.16%2C-791.3%207185.12%2C-764.57%207210.88%2C-748.3%207259.52%2C-717.58%207276.69%2C-709.05%207334.22%2C-709.05%22%3E%3C/path%3E%0A%3Cg%20id%3D%22a_edge154-label%22%3E%3Ca%20title%3D%22%28empty%29%22%3E%0A%3Ctext%20text-anchor%3D%22middle%22%20x%3D%227234.88%22%20y%3D%22-750.75%22%20font-family%3D%22Arial%22%20font-size%3D%2214.00%22%20fill%3D%22%234e4e4e%22%20space%3D%22preserve%22%3E%20s88%3C/text%3E%0A%3C/a%3E%0A%3C/g%3E%0A%3C/g%3E%0A%0A%3Cg%20id%3D%22edge1%22%20class%3D%22edge%22%20data-tippy-content%3D%22Temperature%3A%20298.15%20K%3Cbr%26gt%3BPressure%3A%20101325%20Pa%3Cbr%26gt%3BLiquid%20flow%3A%202.49e%2B03%20kmol/hr%22%3E%0A%3Cpath%20fill%3D%22none%22%20stroke%3D%22%234e4e4e%22%20stroke-width%3D%221.6%22%20d%3D%22M206.7%2C-783.05C266.51%2C-783.05%20334.86%2C-783.05%20382.54%2C-783.05%22%3E%3C/path%3E%0A%3Cg%20id%3D%22a_edge1-label%22%3E%3Ca%20title%3D%22%20Temperature%3A%20298.15%20K%3Cbr%26gt%3BPressure%3A%20101325%20Pa%3Cbr%26gt%3BLiquid%20flow%3A%202.49e%2B03%20kmol/hr%22%3E%0A%3Ctext%20text-anchor%3D%22middle%22%20x%3D%22333.17%22%20y%3D%22-785.5%22%20font-family%3D%22Arial%22%20font-size%3D%2214.00%22%20fill%3D%22%234e4e4e%22%20space%3D%22preserve%22%3E%20Poplar%20In%3C/text%3E%0A%3C/a%3E%0A%3C/g%3E%0A%3C/g%3E%0A%0A%3Cg%20id%3D%22edge9%22%20class%3D%22edge%22%20data-tippy-content%3D%22Temperature%3A%20353.15%20K%3Cbr%26gt%3BPressure%3A%203e%2B06%20Pa%3Cbr%26gt%3BGas%20flow%3A%20771%20kmol/hr%22%3E%0A%3Cpath%20fill%3D%22none%22%20stroke%3D%22%234e4e4e%22%20d%3D%22M2358.3%2C-754.05C2450.28%2C-754.05%202557.97%2C-754.05%202616.92%2C-754.05%22%3E%3C/path%3E%0A%3Cg%20id%3D%22a_edge9-label%22%3E%3Ca%20title%3D%22%20Temperature%3A%20353.15%20K%3Cbr%26gt%3BPressure%3A%203e%2B06%20Pa%3Cbr%26gt%3BGas%20flow%3A%20771%20kmol/hr%22%3E%0A%3Ctext%20text-anchor%3D%22middle%22%20x%3D%222511.34%22%20y%3D%22-756.5%22%20font-family%3D%22Arial%22%20font-size%3D%2214.00%22%20fill%3D%22%234e4e4e%22%20space%3D%22preserve%22%3E%20Hydrogen%20In%3C/text%3E%0A%3C/a%3E%0A%3C/g%3E%0A%3C/g%3E%0A%0A%3Cg%20id%3D%22edge14%22%20class%3D%22edge%22%20data-tippy-content%3D%22Temperature%3A%20298.15%20K%3Cbr%26gt%3BPressure%3A%20101325%20Pa%3Cbr%26gt%3BLiquid%20flow%3A%202.33e%2B03%20kmol/hr%22%3E%0A%3Cpath%20fill%3D%22none%22%20stroke%3D%22%234e4e4e%22%20stroke-width%3D%221.6%22%20d%3D%22M2095.36%2C-532.05C2126.27%2C-532.05%202131.02%2C-517.17%202159.96%2C-506.3%202209.85%2C-487.55%202267.63%2C-467.36%202306.35%2C-454.04%22%3E%3C/path%3E%0A%3Cg%20id%3D%22a_edge14-label%22%3E%3Ca%20title%3D%22%20Temperature%3A%20298.15%20K%3Cbr%26gt%3BPressure%3A%20101325%20Pa%3Cbr%26gt%3BLiquid%20flow%3A%202.33e%2B03%20kmol/hr%22%3E%0A%3Ctext%20text-anchor%3D%22middle%22%20x%3D%222202.33%22%20y%3D%22-508.75%22%20font-family%3D%22Arial%22%20font-size%3D%2214.00%22%20fill%3D%22%234e4e4e%22%20space%3D%22preserve%22%3E%20Meoh%20in%3C/text%3E%0A%3C/a%3E%0A%3C/g%3E%0A%3C/g%3E%0A%0A%3Cg%20id%3D%22edge18%22%20class%3D%22edge%22%20data-tippy-content%3D%22Temperature%3A%20294.15%20K%3Cbr%26gt%3BPressure%3A%20547155%20Pa%3Cbr%26gt%3BLiquid%20flow%3A%2017.1%20kmol/hr%22%3E%0A%3Cpath%20fill%3D%22none%22%20stroke%3D%22%234e4e4e%22%20d%3D%22M10.8%2C-278.05C45.23%2C-278.05%2083.22%2C-278.05%20115.97%2C-278.05%22%3E%3C/path%3E%0A%3Cg%20id%3D%22a_edge18-label%22%3E%3Ca%20title%3D%22%20Temperature%3A%20294.15%20K%3Cbr%26gt%3BPressure%3A%20547155%20Pa%3Cbr%26gt%3BLiquid%20flow%3A%2017.1%20kmol/hr%22%3E%0A%3Ctext%20text-anchor%3D%22middle%22%20x%3D%2263.42%22%20y%3D%22-280.5%22%20font-family%3D%22Arial%22%20font-size%3D%2214.00%22%20fill%3D%22%234e4e4e%22%20space%3D%22preserve%22%3E%20sulfuric%20acid%3C/text%3E%0A%3C/a%3E%0A%3C/g%3E%0A%3C/g%3E%0A%0A%3Cg%20id%3D%22edge20%22%20class%3D%22edge%22%20data-tippy-content%3D%22Temperature%3A%20368.15%20K%3Cbr%26gt%3BPressure%3A%20476228%20Pa%3Cbr%26gt%3BLiquid%20flow%3A%20870%20kmol/hr%22%3E%0A%3Cpath%20fill%3D%22none%22%20stroke%3D%22%234e4e4e%22%20stroke-width%3D%221.6%22%20d%3D%22M450.58%2C-341.05C509.03%2C-341.05%20575.06%2C-332.06%20622.12%2C-324.09%22%3E%3C/path%3E%0A%3Cg%20id%3D%22a_edge20-label%22%3E%3Ca%20title%3D%22%20Temperature%3A%20368.15%20K%3Cbr%26gt%3BPressure%3A%20476228%20Pa%3Cbr%26gt%3BLiquid%20flow%3A%20870%20kmol/hr%22%3E%0A%3Ctext%20text-anchor%3D%22middle%22%20x%3D%22556.8%22%20y%3D%22-356.23%22%20font-family%3D%22Arial%22%20font-size%3D%2214.00%22%20fill%3D%22%234e4e4e%22%20space%3D%22preserve%22%3E%20warm%20process%3C/text%3E%0A%3Ctext%20text-anchor%3D%22middle%22%20x%3D%22556.8%22%20y%3D%22-340.48%22%20font-family%3D%22Arial%22%20font-size%3D%2214.00%22%20fill%3D%22%234e4e4e%22%20space%3D%22preserve%22%3E%20water%201%3C/text%3E%0A%3C/a%3E%0A%3C/g%3E%0A%3C/g%3E%0A%0A%3Cg%20id%3D%22edge25%22%20class%3D%22edge%22%20data-tippy-content%3D%22Temperature%3A%20298.15%20K%3Cbr%26gt%3BPressure%3A%201.2159e%2B06%20Pa%3Cbr%26gt%3BLiquid%20flow%3A%2025.5%20kmol/hr%22%3E%0A%3Cpath%20fill%3D%22none%22%20stroke%3D%22%234e4e4e%22%20d%3D%22M1507.58%2C-406.05C1584.11%2C-406.05%201671.56%2C-403.09%201732.26%2C-400.56%22%3E%3C/path%3E%0A%3Cg%20id%3D%22a_edge25-label%22%3E%3Ca%20title%3D%22%20Temperature%3A%20298.15%20K%3Cbr%26gt%3BPressure%3A%201.2159e%2B06%20Pa%3Cbr%26gt%3BLiquid%20flow%3A%2025.5%20kmol/hr%22%3E%0A%3Ctext%20text-anchor%3D%22middle%22%20x%3D%221655.06%22%20y%3D%22-407.38%22%20font-family%3D%22Arial%22%20font-size%3D%2214.00%22%20fill%3D%22%234e4e4e%22%20space%3D%22preserve%22%3E%20ammonia%3C/text%3E%0A%3C/a%3E%0A%3C/g%3E%0A%3C/g%3E%0A%0A%3Cg%20id%3D%22edge32%22%20class%3D%22edge%22%20data-tippy-content%3D%22Temperature%3A%20298.15%20K%3Cbr%26gt%3BPressure%3A%20101325%20Pa%3Cbr%26gt%3BLiquid%20flow%3A%2031.5%20kmol/hr%22%3E%0A%3Cpath%20fill%3D%22none%22%20stroke%3D%22%234e4e4e%22%20d%3D%22M3020.76%2C-664.05C3075.25%2C-664.05%203137.35%2C-664.05%203181.55%2C-664.05%22%3E%3C/path%3E%0A%3Cg%20id%3D%22a_edge32-label%22%3E%3Ca%20title%3D%22%20Temperature%3A%20298.15%20K%3Cbr%26gt%3BPressure%3A%20101325%20Pa%3Cbr%26gt%3BLiquid%20flow%3A%2031.5%20kmol/hr%22%3E%0A%3Ctext%20text-anchor%3D%22middle%22%20x%3D%223125.48%22%20y%3D%22-666.5%22%20font-family%3D%22Arial%22%20font-size%3D%2214.00%22%20fill%3D%22%234e4e4e%22%20space%3D%22preserve%22%3E%20CSL%3C/text%3E%0A%3C/a%3E%0A%3C/g%3E%0A%3C/g%3E%0A%0A%3Cg%20id%3D%22edge34%22%20class%3D%22edge%22%20data-tippy-content%3D%22Temperature%3A%20298.15%20K%3Cbr%26gt%3BPressure%3A%20101325%20Pa%3Cbr%26gt%3BLiquid%20flow%3A%201.14%20kmol/hr%22%3E%0A%3Cpath%20fill%3D%22none%22%20stroke%3D%22%234e4e4e%22%20d%3D%22M3020.76%2C-764.05C3075.19%2C-764.05%203136.76%2C-771.43%203180.81%2C-778.01%22%3E%3C/path%3E%0A%3Cg%20id%3D%22a_edge34-label%22%3E%3Ca%20title%3D%22%20Temperature%3A%20298.15%20K%3Cbr%26gt%3BPressure%3A%20101325%20Pa%3Cbr%26gt%3BLiquid%20flow%3A%201.14%20kmol/hr%22%3E%0A%3Ctext%20text-anchor%3D%22middle%22%20x%3D%223125.48%22%20y%3D%22-774.94%22%20font-family%3D%22Arial%22%20font-size%3D%2214.00%22%20fill%3D%22%234e4e4e%22%20space%3D%22preserve%22%3E%20DAP%3C/text%3E%0A%3C/a%3E%0A%3C/g%3E%0A%3C/g%3E%0A%0A%3Cg%20id%3D%22edge37%22%20class%3D%22edge%22%20data-tippy-content%3D%22Temperature%3A%20298.15%20K%3Cbr%26gt%3BPressure%3A%20101325%20Pa%3Cbr%26gt%3BLiquid%20flow%3A%201.45e%2B03%20kmol/hr%22%3E%0A%3Cpath%20fill%3D%22none%22%20stroke%3D%22%234e4e4e%22%20stroke-width%3D%221.6%22%20d%3D%22M4104.05%2C-581.05C4163.62%2C-581.05%204231.37%2C-592.26%204275.9%2C-601.2%22%3E%3C/path%3E%0A%3Cg%20id%3D%22a_edge37-label%22%3E%3Ca%20title%3D%22%20Temperature%3A%20298.15%20K%3Cbr%26gt%3BPressure%3A%20101325%20Pa%3Cbr%26gt%3BLiquid%20flow%3A%201.45e%2B03%20kmol/hr%22%3E%0A%3Ctext%20text-anchor%3D%22middle%22%20x%3D%224222.32%22%20y%3D%22-601.77%22%20font-family%3D%22Arial%22%20font-size%3D%2214.00%22%20fill%3D%22%234e4e4e%22%20space%3D%22preserve%22%3E%20stripping%20water%3C/text%3E%0A%3C/a%3E%0A%3C/g%3E%0A%3C/g%3E%0A%0A%3Cg%20id%3D%22edge63%22%20class%3D%22edge%22%20data-tippy-content%3D%22Temperature%3A%20298.15%20K%3Cbr%26gt%3BPressure%3A%20101325%20Pa%3Cbr%26gt%3BLiquid%20flow%3A%204.09%20kmol/hr%22%3E%0A%3Cpath%20fill%3D%22none%22%20stroke%3D%22%234e4e4e%22%20d%3D%22M6202.65%2C-1211.05C6260.06%2C-1211.05%206326.21%2C-1211.05%206369.14%2C-1211.05%22%3E%3C/path%3E%0A%3Cg%20id%3D%22a_edge63-label%22%3E%3Ca%20title%3D%22%20Temperature%3A%20298.15%20K%3Cbr%26gt%3BPressure%3A%20101325%20Pa%3Cbr%26gt%3BLiquid%20flow%3A%204.09%20kmol/hr%22%3E%0A%3Ctext%20text-anchor%3D%22middle%22%20x%3D%226299.12%22%20y%3D%22-1213.5%22%20font-family%3D%22Arial%22%20font-size%3D%2214.00%22%20fill%3D%22%234e4e4e%22%20space%3D%22preserve%22%3E%20denaturant%3C/text%3E%0A%3C/a%3E%0A%3C/g%3E%0A%3C/g%3E%0A%0A%3Cg%20id%3D%22edge69%22%20class%3D%22edge%22%20data-tippy-content%3D%22Temperature%3A%20298.15%20K%3Cbr%26gt%3BPressure%3A%20101325%20Pa%3Cbr%26gt%3BLiquid%20flow%3A%2022.8%20kmol/hr%22%3E%0A%3Cpath%20fill%3D%22none%22%20stroke%3D%22%234e4e4e%22%20d%3D%22M10.8%2C-848.05C57.47%2C-848.05%20110.67%2C-848.05%20148.53%2C-848.05%22%3E%3C/path%3E%0A%3Cg%20id%3D%22a_edge69-label%22%3E%3Ca%20title%3D%22%20Temperature%3A%20298.15%20K%3Cbr%26gt%3BPressure%3A%20101325%20Pa%3Cbr%26gt%3BLiquid%20flow%3A%2022.8%20kmol/hr%22%3E%0A%3Ctext%20text-anchor%3D%22middle%22%20x%3D%2263.42%22%20y%3D%22-850.5%22%20font-family%3D%22Arial%22%20font-size%3D%2214.00%22%20fill%3D%22%234e4e4e%22%20space%3D%22preserve%22%3E%20RCF%20Catalyst%3C/text%3E%0A%3C/a%3E%0A%3C/g%3E%0A%3C/g%3E%0A%0A%3Cg%20id%3D%22edge71%22%20class%3D%22edge%22%20data-tippy-content%3D%22Temperature%3A%20300.15%20K%3Cbr%26gt%3BPressure%3A%20101325%20Pa%3Cbr%26gt%3BLiquid%20flow%3A%202.87e%2B04%20kmol/hr%22%3E%0A%3Cpath%20fill%3D%22none%22%20stroke%3D%22%234e4e4e%22%20stroke-width%3D%222.2%22%20d%3D%22M10.8%2C-927.05C48.5%2C-927.05%2090.45%2C-927.05%20125.14%2C-927.05%22%3E%3C/path%3E%0A%3Cg%20id%3D%22a_edge71-label%22%3E%3Ca%20title%3D%22%20Temperature%3A%20300.15%20K%3Cbr%26gt%3BPressure%3A%20101325%20Pa%3Cbr%26gt%3BLiquid%20flow%3A%202.87e%2B04%20kmol/hr%22%3E%0A%3Ctext%20text-anchor%3D%22middle%22%20x%3D%2263.42%22%20y%3D%22-945.25%22%20font-family%3D%22Arial%22%20font-size%3D%2214.00%22%20fill%3D%22%234e4e4e%22%20space%3D%22preserve%22%3E%20recirculated%3C/text%3E%0A%3Ctext%20text-anchor%3D%22middle%22%20x%3D%2263.42%22%20y%3D%22-929.5%22%20font-family%3D%22Arial%22%20font-size%3D%2214.00%22%20fill%3D%22%234e4e4e%22%20space%3D%22preserve%22%3E%20chilled%20water%3C/text%3E%0A%3C/a%3E%0A%3C/g%3E%0A%3C/g%3E%0A%0A%3Cg%20id%3D%22edge73%22%20class%3D%22edge%22%20data-tippy-content%3D%22Temperature%3A%20298.15%20K%3Cbr%26gt%3BPressure%3A%20101325%20Pa%3Cbr%26gt%3BLiquid%20flow%3A%20321%20kmol/hr%22%3E%0A%3Cpath%20fill%3D%22none%22%20stroke%3D%22%234e4e4e%22%20d%3D%22M10.8%2C-1006.05C56.82%2C-1006.05%20109.18%2C-1006.05%20146.93%2C-1006.05%22%3E%3C/path%3E%0A%3Cg%20id%3D%22a_edge73-label%22%3E%3Ca%20title%3D%22%20Temperature%3A%20298.15%20K%3Cbr%26gt%3BPressure%3A%20101325%20Pa%3Cbr%26gt%3BLiquid%20flow%3A%20321%20kmol/hr%22%3E%0A%3Ctext%20text-anchor%3D%22middle%22%20x%3D%2263.42%22%20y%3D%22-1008.5%22%20font-family%3D%22Arial%22%20font-size%3D%2214.00%22%20fill%3D%22%234e4e4e%22%20space%3D%22preserve%22%3E%20fire%20water%3C/text%3E%0A%3C/a%3E%0A%3C/g%3E%0A%3C/g%3E%0A%0A%3Cg%20id%3D%22edge75%22%20class%3D%22edge%22%20data-tippy-content%3D%22Temperature%3A%20298.15%20K%3Cbr%26gt%3BPressure%3A%20101325%20Pa%3Cbr%26gt%3BLiquid%20flow%3A%204.85%20kmol/hr%22%3E%0A%3Cpath%20fill%3D%22none%22%20stroke%3D%22%234e4e4e%22%20d%3D%22M10.8%2C-1085.05C14.73%2C-1085.05%2014.97%2C-1082.15%2018.8%2C-1081.3%2057.52%2C-1072.67%2068.39%2C-1080.48%20108.05%2C-1081.3%20122.4%2C-1081.59%20138.01%2C-1082.15%20152.18%2C-1082.75%22%3E%3C/path%3E%0A%3Cg%20id%3D%22a_edge75-label%22%3E%3Ca%20title%3D%22%20Temperature%3A%20298.15%20K%3Cbr%26gt%3BPressure%3A%20101325%20Pa%3Cbr%26gt%3BLiquid%20flow%3A%204.85%20kmol/hr%22%3E%0A%3Ctext%20text-anchor%3D%22middle%22%20x%3D%2263.42%22%20y%3D%22-1083.75%22%20font-family%3D%22Arial%22%20font-size%3D%2214.00%22%20fill%3D%22%234e4e4e%22%20space%3D%22preserve%22%3E%20CIP%3C/text%3E%0A%3C/a%3E%0A%3C/g%3E%0A%3C/g%3E%0A%0A%3Cg%20id%3D%22edge77%22%20class%3D%22edge%22%20data-tippy-content%3D%22Temperature%3A%20305.37%20K%3Cbr%26gt%3BPressure%3A%20101325%20Pa%3Cbr%26gt%3BLiquid%20flow%3A%201.65e%2B05%20kmol/hr%22%3E%0A%3Cpath%20fill%3D%22none%22%20stroke%3D%22%234e4e4e%22%20stroke-width%3D%222.2%22%20d%3D%22M10.8%2C-1288.05C67.87%2C-1288.05%20128.48%2C-1258.45%20164.99%2C-1236.95%22%3E%3C/path%3E%0A%3Cg%20id%3D%22a_edge77-label%22%3E%3Ca%20title%3D%22%20Temperature%3A%20305.37%20K%3Cbr%26gt%3BPressure%3A%20101325%20Pa%3Cbr%26gt%3BLiquid%20flow%3A%201.65e%2B05%20kmol/hr%22%3E%0A%3Ctext%20text-anchor%3D%22middle%22%20x%3D%2263.42%22%20y%3D%22-1290.15%22%20font-family%3D%22Arial%22%20font-size%3D%2214.00%22%20fill%3D%22%234e4e4e%22%20space%3D%22preserve%22%3E%20%3C/text%3E%0A%3C/a%3E%0A%3C/g%3E%0A%3C/g%3E%0A%0A%3Cg%20id%3D%22edge79%22%20class%3D%22edge%22%20data-tippy-content%3D%22Temperature%3A%20298.15%20K%3Cbr%26gt%3BPressure%3A%20101325%20Pa%3Cbr%26gt%3BLiquid%20flow%3A%202.06e%2B03%20kmol/hr%22%3E%0A%3Cpath%20fill%3D%22none%22%20stroke%3D%22%234e4e4e%22%20stroke-width%3D%221.6%22%20d%3D%22M10.8%2C-1345.05C47.19%2C-1345.05%2087.55%2C-1345.05%20121.51%2C-1345.05%22%3E%3C/path%3E%0A%3Cg%20id%3D%22a_edge79-label%22%3E%3Ca%20title%3D%22%20Temperature%3A%20298.15%20K%3Cbr%26gt%3BPressure%3A%20101325%20Pa%3Cbr%26gt%3BLiquid%20flow%3A%202.06e%2B03%20kmol/hr%22%3E%0A%3Ctext%20text-anchor%3D%22middle%22%20x%3D%2263.42%22%20y%3D%22-1347.5%22%20font-family%3D%22Arial%22%20font-size%3D%2214.00%22%20fill%3D%22%234e4e4e%22%20space%3D%22preserve%22%3E%20plant%20air%3C/text%3E%0A%3C/a%3E%0A%3C/g%3E%0A%3C/g%3E%0A%0A%3Cg%20id%3D%22edge84%22%20class%3D%22edge%22%20data-tippy-content%3D%22Temperature%3A%20541.15%20K%3Cbr%26gt%3BPressure%3A%201.31722e%2B06%20Pa%3Cbr%26gt%3BGas%20flow%3A%201.2e%2B03%20kmol/hr%22%3E%0A%3Cpath%20fill%3D%22none%22%20stroke%3D%22%234e4e4e%22%20stroke-width%3D%221.6%22%20d%3D%22M692.95%2C-448.05C777.61%2C-448.05%20871.93%2C-421.2%20933.06%2C-400.07%22%3E%3C/path%3E%0A%3Cg%20id%3D%22a_edge84-label%22%3E%3Ca%20title%3D%22%20Temperature%3A%20541.15%20K%3Cbr%26gt%3BPressure%3A%201.31722e%2B06%20Pa%3Cbr%26gt%3BGas%20flow%3A%201.2e%2B03%20kmol/hr%22%3E%0A%3Ctext%20text-anchor%3D%22middle%22%20x%3D%22815.3%22%20y%3D%22-458.65%22%20font-family%3D%22Arial%22%20font-size%3D%2214.00%22%20fill%3D%22%234e4e4e%22%20space%3D%22preserve%22%3E%20pretreatment%3C/text%3E%0A%3Ctext%20text-anchor%3D%22middle%22%20x%3D%22815.3%22%20y%3D%22-442.9%22%20font-family%3D%22Arial%22%20font-size%3D%2214.00%22%20fill%3D%22%234e4e4e%22%20space%3D%22preserve%22%3E%20steam%3C/text%3E%0A%3C/a%3E%0A%3C/g%3E%0A%3C/g%3E%0A%0A%3Cg%20id%3D%22edge86%22%20class%3D%22edge%22%20data-tippy-content%3D%22%28empty%29%22%3E%0A%3Cpath%20fill%3D%22none%22%20stroke%3D%22%234e4e4e%22%20stroke-dasharray%3D%225%2C2%22%20d%3D%22M6865.61%2C-929.05C6952.3%2C-929.05%207045.74%2C-882.68%207095.16%2C-854.06%22%3E%3C/path%3E%0A%3Cg%20id%3D%22a_edge86-label%22%3E%3Ca%20title%3D%22%28empty%29%22%3E%0A%3Ctext%20text-anchor%3D%22middle%22%20x%3D%226995.13%22%20y%3D%22-921.41%22%20font-family%3D%22Arial%22%20font-size%3D%2214.00%22%20fill%3D%22%234e4e4e%22%20space%3D%22preserve%22%3E%20makeup%20RO%20water%3C/text%3E%0A%3C/a%3E%0A%3C/g%3E%0A%3C/g%3E%0A%0A%3Cg%20id%3D%22edge87%22%20class%3D%22edge%22%20data-tippy-content%3D%22Temperature%3A%20298.15%20K%3Cbr%26gt%3BPressure%3A%20101325%20Pa%3Cbr%26gt%3BLiquid%20flow%3A%20281%20kmol/hr%22%3E%0A%3Cpath%20fill%3D%22none%22%20stroke%3D%22%234e4e4e%22%20d%3D%22M7345.2%2C-1026.05C7424.76%2C-1026.05%207454.77%2C-1030.04%207518.96%2C-983.05%207555.97%2C-955.95%207579.14%2C-905.61%207590%2C-876.8%22%3E%3C/path%3E%0A%3Cg%20id%3D%22a_edge87-label%22%3E%3Ca%20title%3D%22%20Temperature%3A%20298.15%20K%3Cbr%26gt%3BPressure%3A%20101325%20Pa%3Cbr%26gt%3BLiquid%20flow%3A%20281%20kmol/hr%22%3E%0A%3Ctext%20text-anchor%3D%22middle%22%20x%3D%227468.34%22%20y%3D%22-1027.21%22%20font-family%3D%22Arial%22%20font-size%3D%2214.00%22%20fill%3D%22%234e4e4e%22%20space%3D%22preserve%22%3E%20makeup%20water%3C/text%3E%0A%3C/a%3E%0A%3C/g%3E%0A%3C/g%3E%0A%0A%3Cg%20id%3D%22edge88%22%20class%3D%22edge%22%20data-tippy-content%3D%22Temperature%3A%20298.15%20K%3Cbr%26gt%3BPressure%3A%20101325%20Pa%3Cbr%26gt%3BLiquid%20flow%3A%20819%20kmol/hr%22%3E%0A%3Cpath%20fill%3D%22none%22%20stroke%3D%22%234e4e4e%22%20stroke-width%3D%221.6%22%20d%3D%22M2668.94%2C-578.05C2756.82%2C-578.05%202856.33%2C-563.73%202925.61%2C-551.44%22%3E%3C/path%3E%0A%3Cg%20id%3D%22a_edge88-label%22%3E%3Ca%20title%3D%22%20Temperature%3A%20298.15%20K%3Cbr%26gt%3BPressure%3A%20101325%20Pa%3Cbr%26gt%3BLiquid%20flow%3A%20819%20kmol/hr%22%3E%0A%3Ctext%20text-anchor%3D%22middle%22%20x%3D%222838.73%22%20y%3D%22-575.92%22%20font-family%3D%22Arial%22%20font-size%3D%2214.00%22%20fill%3D%22%234e4e4e%22%20space%3D%22preserve%22%3E%20cellulase%3C/text%3E%0A%3C/a%3E%0A%3C/g%3E%0A%3C/g%3E%0A%0A%3Cg%20id%3D%22edge91%22%20class%3D%22edge%22%20data-tippy-content%3D%22Temperature%3A%20298.15%20K%3Cbr%26gt%3BPressure%3A%20101325%20Pa%3Cbr%26gt%3BGas%20flow%3A%20121%20kmol/hr%22%3E%0A%3Cpath%20fill%3D%22none%22%20stroke%3D%22%234e4e4e%22%20d%3D%22M5914.77%2C-767.05C5992.27%2C-767.05%206079.47%2C-745.81%206135.65%2C-729.26%22%3E%3C/path%3E%0A%3Cg%20id%3D%22a_edge91-label%22%3E%3Ca%20title%3D%22%20Temperature%3A%20298.15%20K%3Cbr%26gt%3BPressure%3A%20101325%20Pa%3Cbr%26gt%3BGas%20flow%3A%20121%20kmol/hr%22%3E%0A%3Ctext%20text-anchor%3D%22middle%22%20x%3D%226057.64%22%20y%3D%22-763.57%22%20font-family%3D%22Arial%22%20font-size%3D%2214.00%22%20fill%3D%22%234e4e4e%22%20space%3D%22preserve%22%3E%20air%20lagoon%3C/text%3E%0A%3C/a%3E%0A%3C/g%3E%0A%3C/g%3E%0A%0A%3Cg%20id%3D%22edge92%22%20class%3D%22edge%22%20data-tippy-content%3D%22Temperature%3A%20305.37%20K%3Cbr%26gt%3BPressure%3A%20101325%20Pa%3Cbr%26gt%3BLiquid%20flow%3A%201.81e%2B03%20kmol/hr%22%3E%0A%3Cpath%20fill%3D%22none%22%20stroke%3D%22%234e4e4e%22%20stroke-width%3D%221.6%22%20d%3D%22M10.8%2C-1215.05C14.68%2C-1215.05%2015%2C-1212.34%2018.8%2C-1211.55%2057.63%2C-1203.42%2068.39%2C-1210.78%20108.05%2C-1211.55%20121.76%2C-1211.81%20136.64%2C-1212.3%20150.3%2C-1212.83%22%3E%3C/path%3E%0A%3Cg%20id%3D%22a_edge92-label%22%3E%3Ca%20title%3D%22%20Temperature%3A%20305.37%20K%3Cbr%26gt%3BPressure%3A%20101325%20Pa%3Cbr%26gt%3BLiquid%20flow%3A%201.81e%2B03%20kmol/hr%22%3E%0A%3Ctext%20text-anchor%3D%22middle%22%20x%3D%2263.42%22%20y%3D%22-1229.75%22%20font-family%3D%22Arial%22%20font-size%3D%2214.00%22%20fill%3D%22%234e4e4e%22%20space%3D%22preserve%22%3E%20cooling%20tower%3C/text%3E%0A%3Ctext%20text-anchor%3D%22middle%22%20x%3D%2263.42%22%20y%3D%22-1214%22%20font-family%3D%22Arial%22%20font-size%3D%2214.00%22%20fill%3D%22%234e4e4e%22%20space%3D%22preserve%22%3E%20makeup%20water%3C/text%3E%0A%3C/a%3E%0A%3C/g%3E%0A%3C/g%3E%0A%0A%3Cg%20id%3D%22edge93%22%20class%3D%22edge%22%20data-tippy-content%3D%22Temperature%3A%20288.71%20K%3Cbr%26gt%3BPressure%3A%20101560%20Pa%3Cbr%26gt%3BGas%20flow%3A%2026.3%20kmol/hr%22%3E%0A%3Cpath%20fill%3D%22none%22%20stroke%3D%22%234e4e4e%22%20d%3D%22M7345.2%2C-969.05C7384.82%2C-969.05%207484.03%2C-947.75%207518.96%2C-929.05%207543.22%2C-916.06%207565.46%2C-893.59%207580%2C-876.81%22%3E%3C/path%3E%0A%3Cg%20id%3D%22a_edge93-label%22%3E%3Ca%20title%3D%22%20Temperature%3A%20288.71%20K%3Cbr%26gt%3BPressure%3A%20101560%20Pa%3Cbr%26gt%3BGas%20flow%3A%2026.3%20kmol/hr%22%3E%0A%3Ctext%20text-anchor%3D%22middle%22%20x%3D%227468.34%22%20y%3D%22-961.16%22%20font-family%3D%22Arial%22%20font-size%3D%2214.00%22%20fill%3D%22%234e4e4e%22%20space%3D%22preserve%22%3E%20natural%20gas%3C/text%3E%0A%3C/a%3E%0A%3C/g%3E%0A%3C/g%3E%0A%0A%3Cg%20id%3D%22edge99%22%20class%3D%22edge%22%20data-tippy-content%3D%22Temperature%3A%20368.15%20K%3Cbr%26gt%3BPressure%3A%20476228%20Pa%3Cbr%26gt%3BLiquid%20flow%3A%205.55e%2B03%20kmol/hr%22%3E%0A%3Cpath%20fill%3D%22none%22%20stroke%3D%22%234e4e4e%22%20stroke-width%3D%222.2%22%20d%3D%22M692.95%2C-375.05C727.7%2C-375.05%20736.31%2C-372.32%20771.05%2C-371.55%20810.37%2C-370.67%20820.22%2C-371.05%20859.55%2C-371.55%20883.55%2C-371.85%20909.87%2C-372.44%20933.08%2C-373.06%22%3E%3C/path%3E%0A%3Cg%20id%3D%22a_edge99-label%22%3E%3Ca%20title%3D%22%20Temperature%3A%20368.15%20K%3Cbr%26gt%3BPressure%3A%20476228%20Pa%3Cbr%26gt%3BLiquid%20flow%3A%205.55e%2B03%20kmol/hr%22%3E%0A%3Ctext%20text-anchor%3D%22middle%22%20x%3D%22815.3%22%20y%3D%22-389.75%22%20font-family%3D%22Arial%22%20font-size%3D%2214.00%22%20fill%3D%22%234e4e4e%22%20space%3D%22preserve%22%3E%20warm%20process%3C/text%3E%0A%3Ctext%20text-anchor%3D%22middle%22%20x%3D%22815.3%22%20y%3D%22-374%22%20font-family%3D%22Arial%22%20font-size%3D%2214.00%22%20fill%3D%22%234e4e4e%22%20space%3D%22preserve%22%3E%20water%202%3C/text%3E%0A%3C/a%3E%0A%3C/g%3E%0A%3C/g%3E%0A%0A%3Cg%20id%3D%22edge101%22%20class%3D%22edge%22%20data-tippy-content%3D%22Temperature%3A%20368.15%20K%3Cbr%26gt%3BPressure%3A%20476228%20Pa%3Cbr%26gt%3BLiquid%20flow%3A%203.31e%2B03%20kmol/hr%22%3E%0A%3Cpath%20fill%3D%22none%22%20stroke%3D%22%234e4e4e%22%20stroke-width%3D%221.6%22%20d%3D%22M1815.72%2C-460.05C1907.67%2C-460.05%201932.13%2C-447.52%202016.96%2C-412.05%202021.05%2C-410.33%202037.49%2C-400.11%202053.46%2C-389.95%22%3E%3C/path%3E%0A%3Cg%20id%3D%22a_edge101-label%22%3E%3Ca%20title%3D%22%20Temperature%3A%20368.15%20K%3Cbr%26gt%3BPressure%3A%20476228%20Pa%3Cbr%26gt%3BLiquid%20flow%3A%203.31e%2B03%20kmol/hr%22%3E%0A%3Ctext%20text-anchor%3D%22middle%22%20x%3D%221961.08%22%20y%3D%22-470.84%22%20font-family%3D%22Arial%22%20font-size%3D%2214.00%22%20fill%3D%22%234e4e4e%22%20space%3D%22preserve%22%3E%20ammonia%20process%3C/text%3E%0A%3Ctext%20text-anchor%3D%22middle%22%20x%3D%221961.08%22%20y%3D%22-455.09%22%20font-family%3D%22Arial%22%20font-size%3D%2214.00%22%20fill%3D%22%234e4e4e%22%20space%3D%22preserve%22%3E%20water%3C/text%3E%0A%3C/a%3E%0A%3C/g%3E%0A%3C/g%3E%0A%0A%3Cg%20id%3D%22edge106%22%20class%3D%22edge%22%20data-tippy-content%3D%22Temperature%3A%20320.15%20K%3Cbr%26gt%3BPressure%3A%20395168%20Pa%3Cbr%26gt%3BLiquid%20flow%3A%200.0555%20kmol/hr%22%3E%0A%3Cpath%20fill%3D%22none%22%20stroke%3D%22%234e4e4e%22%20d%3D%22M4893.16%2C-553.05C4943.93%2C-553.05%204956.64%2C-553.11%205007.36%2C-555.3%205014.54%2C-555.61%205022.13%2C-556.02%205029.57%2C-556.47%22%3E%3C/path%3E%0A%3Cg%20id%3D%22a_edge106-label%22%3E%3Ca%20title%3D%22%20Temperature%3A%20320.15%20K%3Cbr%26gt%3BPressure%3A%20395168%20Pa%3Cbr%26gt%3BLiquid%20flow%3A%200.0555%20kmol/hr%22%3E%0A%3Ctext%20text-anchor%3D%22middle%22%20x%3D%224984.48%22%20y%3D%22-557.75%22%20font-family%3D%22Arial%22%20font-size%3D%2214.00%22%20fill%3D%22%234e4e4e%22%20space%3D%22preserve%22%3E%20s64%3C/text%3E%0A%3C/a%3E%0A%3C/g%3E%0A%3C/g%3E%0A%0A%3Cg%20id%3D%22edge112%22%20class%3D%22edge%22%20data-tippy-content%3D%22Temperature%3A%20298.15%20K%3Cbr%26gt%3BPressure%3A%20101325%20Pa%3Cbr%26gt%3BLiquid%20flow%3A%205%20kmol/hr%22%3E%0A%3Cpath%20fill%3D%22none%22%20stroke%3D%22%234e4e4e%22%20d%3D%22M7345.2%2C-912.05C7411.4%2C-912.05%207485.02%2C-893.12%207535.53%2C-877.08%22%3E%3C/path%3E%0A%3Cg%20id%3D%22a_edge112-label%22%3E%3Ca%20title%3D%22%20Temperature%3A%20298.15%20K%3Cbr%26gt%3BPressure%3A%20101325%20Pa%3Cbr%26gt%3BLiquid%20flow%3A%205%20kmol/hr%22%3E%0A%3Ctext%20text-anchor%3D%22middle%22%20x%3D%227468.34%22%20y%3D%22-907.43%22%20font-family%3D%22Arial%22%20font-size%3D%2214.00%22%20fill%3D%22%234e4e4e%22%20space%3D%22preserve%22%3E%20FGD%20lime%3C/text%3E%0A%3C/a%3E%0A%3C/g%3E%0A%3C/g%3E%0A%0A%3Cg%20id%3D%22edge113%22%20class%3D%22edge%22%20data-tippy-content%3D%22Temperature%3A%20298.15%20K%3Cbr%26gt%3BPressure%3A%20101325%20Pa%3Cbr%26gt%3BLiquid%20flow%3A%206.83e%2B03%20kmol/hr%22%3E%0A%3Cpath%20fill%3D%22none%22%20stroke%3D%22%234e4e4e%22%20stroke-width%3D%222.2%22%20d%3D%22M2668.94%2C-505.05C2779.64%2C-505.05%202808.79%2C-483.36%202917.98%2C-501.55%202931.38%2C-503.78%202945.42%2C-507.67%202958.47%2C-511.99%22%3E%3C/path%3E%0A%3Cg%20id%3D%22a_edge113-label%22%3E%3Ca%20title%3D%22%20Temperature%3A%20298.15%20K%3Cbr%26gt%3BPressure%3A%20101325%20Pa%3Cbr%26gt%3BLiquid%20flow%3A%206.83e%2B03%20kmol/hr%22%3E%0A%3Ctext%20text-anchor%3D%22middle%22%20x%3D%222838.73%22%20y%3D%22-519.75%22%20font-family%3D%22Arial%22%20font-size%3D%2214.00%22%20fill%3D%22%234e4e4e%22%20space%3D%22preserve%22%3E%20saccharification%3C/text%3E%0A%3Ctext%20text-anchor%3D%22middle%22%20x%3D%222838.73%22%20y%3D%22-504%22%20font-family%3D%22Arial%22%20font-size%3D%2214.00%22%20fill%3D%22%234e4e4e%22%20space%3D%22preserve%22%3E%20water%3C/text%3E%0A%3C/a%3E%0A%3C/g%3E%0A%3C/g%3E%0A%0A%3Cg%20id%3D%22edge116%22%20class%3D%22edge%22%20data-tippy-content%3D%22Temperature%3A%20298.15%20K%3Cbr%26gt%3BPressure%3A%20101325%20Pa%3Cbr%26gt%3BLiquid%20flow%3A%20181%20kmol/hr%22%3E%0A%3Cpath%20fill%3D%22none%22%20stroke%3D%22%234e4e4e%22%20d%3D%22M5914.77%2C-710.05C5947.04%2C-710.05%205955.02%2C-707.13%205987.28%2C-706.3%206049.8%2C-704.68%206065.48%2C-704.54%206128%2C-706.3%206130.55%2C-706.37%206133.15%2C-706.45%206135.79%2C-706.55%22%3E%3C/path%3E%0A%3Cg%20id%3D%22a_edge116-label%22%3E%3Ca%20title%3D%22%20Temperature%3A%20298.15%20K%3Cbr%26gt%3BPressure%3A%20101325%20Pa%3Cbr%26gt%3BLiquid%20flow%3A%20181%20kmol/hr%22%3E%0A%3Ctext%20text-anchor%3D%22middle%22%20x%3D%226057.64%22%20y%3D%22-708.75%22%20font-family%3D%22Arial%22%20font-size%3D%2214.00%22%20fill%3D%22%234e4e4e%22%20space%3D%22preserve%22%3E%20caustic%3C/text%3E%0A%3C/a%3E%0A%3C/g%3E%0A%3C/g%3E%0A%0A%3Cg%20id%3D%22edge117%22%20class%3D%22edge%22%20data-tippy-content%3D%22Temperature%3A%20305.37%20K%3Cbr%26gt%3BPressure%3A%20101325%20Pa%3Cbr%26gt%3BLiquid%20flow%3A%200.0415%20kmol/hr%22%3E%0A%3Cpath%20fill%3D%22none%22%20stroke%3D%22%234e4e4e%22%20d%3D%22M10.8%2C-1142.05C67.87%2C-1142.05%20128.48%2C-1171.64%20164.99%2C-1193.14%22%3E%3C/path%3E%0A%3Cg%20id%3D%22a_edge117-label%22%3E%3Ca%20title%3D%22%20Temperature%3A%20305.37%20K%3Cbr%26gt%3BPressure%3A%20101325%20Pa%3Cbr%26gt%3BLiquid%20flow%3A%200.0415%20kmol/hr%22%3E%0A%3Ctext%20text-anchor%3D%22middle%22%20x%3D%2263.42%22%20y%3D%22-1181.82%22%20font-family%3D%22Arial%22%20font-size%3D%2214.00%22%20fill%3D%22%234e4e4e%22%20space%3D%22preserve%22%3E%20cooling%20tower%3C/text%3E%0A%3Ctext%20text-anchor%3D%22middle%22%20x%3D%2263.42%22%20y%3D%22-1166.07%22%20font-family%3D%22Arial%22%20font-size%3D%2214.00%22%20fill%3D%22%234e4e4e%22%20space%3D%22preserve%22%3E%20chemicals%3C/text%3E%0A%3C/a%3E%0A%3C/g%3E%0A%3C/g%3E%0A%0A%3Cg%20id%3D%22edge118%22%20class%3D%22edge%22%20data-tippy-content%3D%22Temperature%3A%20298.15%20K%3Cbr%26gt%3BPressure%3A%20101325%20Pa%3Cbr%26gt%3BLiquid%20flow%3A%200.326%20kmol/hr%22%3E%0A%3Cpath%20fill%3D%22none%22%20stroke%3D%22%234e4e4e%22%20d%3D%22M7345.2%2C-855.05C7377.47%2C-855.05%207385.45%2C-852.13%207417.71%2C-851.3%207462.7%2C-850.13%207473.98%2C-850.22%207518.96%2C-851.3%207521.55%2C-851.36%207524.19%2C-851.43%207526.85%2C-851.51%22%3E%3C/path%3E%0A%3Cg%20id%3D%22a_edge118-label%22%3E%3Ca%20title%3D%22%20Temperature%3A%20298.15%20K%3Cbr%26gt%3BPressure%3A%20101325%20Pa%3Cbr%26gt%3BLiquid%20flow%3A%200.326%20kmol/hr%22%3E%0A%3Ctext%20text-anchor%3D%22middle%22%20x%3D%227468.34%22%20y%3D%22-853.75%22%20font-family%3D%22Arial%22%20font-size%3D%2214.00%22%20fill%3D%22%234e4e4e%22%20space%3D%22preserve%22%3E%20boiler%20chemicals%3C/text%3E%0A%3C/a%3E%0A%3C/g%3E%0A%3C/g%3E%0A%0A%3Cg%20id%3D%22edge120%22%20class%3D%22edge%22%20data-tippy-content%3D%22Temperature%3A%20298.15%20K%3Cbr%26gt%3BPressure%3A%20101325%20Pa%3Cbr%26gt%3BLiquid%20flow%3A%20852%20kmol/hr%22%3E%0A%3Cpath%20fill%3D%22none%22%20stroke%3D%22%234e4e4e%22%20stroke-width%3D%221.6%22%20d%3D%22M6865.61%2C-735.05C6952.3%2C-735.05%207045.74%2C-781.42%207095.16%2C-810.04%22%3E%3C/path%3E%0A%3Cg%20id%3D%22a_edge120-label%22%3E%3Ca%20title%3D%22%20Temperature%3A%20298.15%20K%3Cbr%26gt%3BPressure%3A%20101325%20Pa%3Cbr%26gt%3BLiquid%20flow%3A%20852%20kmol/hr%22%3E%0A%3Ctext%20text-anchor%3D%22middle%22%20x%3D%226995.13%22%20y%3D%22-804.65%22%20font-family%3D%22Arial%22%20font-size%3D%2214.00%22%20fill%3D%22%234e4e4e%22%20space%3D%22preserve%22%3E%20makeup%20process%3C/text%3E%0A%3Ctext%20text-anchor%3D%22middle%22%20x%3D%226995.13%22%20y%3D%22-788.9%22%20font-family%3D%22Arial%22%20font-size%3D%2214.00%22%20fill%3D%22%234e4e4e%22%20space%3D%22preserve%22%3E%20water%3C/text%3E%0A%3C/a%3E%0A%3C/g%3E%0A%3C/g%3E%0A%0A%3Cg%20id%3D%22edge121%22%20class%3D%22edge%22%20data-tippy-content%3D%22Temperature%3A%20298.15%20K%3Cbr%26gt%3BPressure%3A%20101325%20Pa%3Cbr%26gt%3BGas%20flow%3A%202.39e%2B04%20kmol/hr%22%3E%0A%3Cpath%20fill%3D%22none%22%20stroke%3D%22%234e4e4e%22%20stroke-width%3D%222.2%22%20d%3D%22M7345.2%2C-808.05C7422.81%2C-808.05%207443.42%2C-807.54%207518.96%2C-825.3%207527.47%2C-827.29%207536.29%2C-829.99%207544.81%2C-832.95%22%3E%3C/path%3E%0A%3Cg%20id%3D%22a_edge121-label%22%3E%3Ca%20title%3D%22%20Temperature%3A%20298.15%20K%3Cbr%26gt%3BPressure%3A%20101325%20Pa%3Cbr%26gt%3BGas%20flow%3A%202.39e%2B04%20kmol/hr%22%3E%0A%3Ctext%20text-anchor%3D%22middle%22%20x%3D%227468.34%22%20y%3D%22-827.75%22%20font-family%3D%22Arial%22%20font-size%3D%2214.00%22%20fill%3D%22%234e4e4e%22%20space%3D%22preserve%22%3E%20air%3C/text%3E%0A%3C/a%3E%0A%3C/g%3E%0A%3C/g%3E%0A%0A%3Cg%20id%3D%22node1%22%20class%3D%22node%22%20data-tippy-content%3D%22Electricity%20consumption%3A%2028.2%20kW%3Cbr%26gt%3BUtility%20cost%3A%202.2%20USD/hr%3Cbr%26gt%3BPurchase%20cost%3A%2048%2C781%2C671%20USD%3Cbr%26gt%3BInstalled%20equipment%20cost%3A%20121%2C134%2C910%20USD%22%3E%0A%3Cg%20id%3D%22a_node1%22%3E%3Ca%20title%3D%22%20Electricity%20consumption%3A%2028.2%20kW%3Cbr%26gt%3BUtility%20cost%3A%202.2%20USD/hr%3Cbr%26gt%3BPurchase%20cost%3A%2048%2C781%2C671%20USD%3Cbr%26gt%3BInstalled%20equipment%20cost%3A%20121%2C134%2C910%20USD%22%3E%0A%3Cdefs%3E%0A%3ClinearGradient%20id%3D%22node1_l_0%22%20gradientUnits%3D%22userSpaceOnUse%22%20x1%3D%22382.8%22%20y1%3D%22-783.05%22%20x2%3D%22504.55%22%20y2%3D%22-783.05%22%3E%0A%3Cstop%20offset%3D%220%22%20style%3D%22stop-color%3A%23fcfcfc%3Bstop-opacity%3A1.%3B%22%3E%3C/stop%3E%0A%3Cstop%20offset%3D%221%22%20style%3D%22stop-color%3A%23e6e6e6%3Bstop-opacity%3A1.%3B%22%3E%3C/stop%3E%0A%3C/linearGradient%3E%0A%3C/defs%3E%0A%3Cpolygon%20fill%3D%22url%28%23node1_l_0%29%22%20stroke%3D%22%234e4e4e%22%20points%3D%22504.55%2C-804.65%20382.8%2C-804.65%20382.8%2C-761.45%20504.55%2C-761.45%20504.55%2C-804.65%22%3E%3C/polygon%3E%0A%3Ctext%20text-anchor%3D%22middle%22%20x%3D%22443.67%22%20y%3D%22-785.5%22%20font-family%3D%22Arial%22%20font-size%3D%2214.00%22%20space%3D%22preserve%22%3ERCF103-S%3C/text%3E%0A%3Ctext%20text-anchor%3D%22middle%22%20x%3D%22443.67%22%20y%3D%22-769.75%22%20font-family%3D%22Arial%22%20font-size%3D%2214.00%22%20space%3D%22preserve%22%3ESolvolysis%20reactor%3C/text%3E%0A%3C/a%3E%0A%3C/g%3E%0A%3C/g%3E%0A%0A%3Cg%20id%3D%22node2%22%20class%3D%22node%22%20data-tippy-content%3D%22Heating%20duty%3A%201.84e%2B05%20MJ/hr%3Cbr%26gt%3BUtility%20cost%3A%201.81e%2B03%20USD/hr%3Cbr%26gt%3BPurchase%20cost%3A%2040%2C413%2C419%20USD%3Cbr%26gt%3BInstalled%20equipment%20cost%3A%20100%2C432%2C852%20USD%22%3E%0A%3Cg%20id%3D%22a_node2%22%3E%3Ca%20title%3D%22%20Heating%20duty%3A%201.84e%2B05%20MJ/hr%3Cbr%26gt%3BUtility%20cost%3A%201.81e%2B03%20USD/hr%3Cbr%26gt%3BPurchase%20cost%3A%2040%2C413%2C419%20USD%3Cbr%26gt%3BInstalled%20equipment%20cost%3A%20100%2C432%2C852%20USD%22%3E%0A%3Cdefs%3E%0A%3ClinearGradient%20id%3D%22node2_l_1%22%20gradientUnits%3D%22userSpaceOnUse%22%20x1%3D%22609.05%22%20y1%3D%22-783.05%22%20x2%3D%22763.05%22%20y2%3D%22-783.05%22%3E%0A%3Cstop%20offset%3D%220%22%20style%3D%22stop-color%3A%23fcfcfc%3Bstop-opacity%3A1.%3B%22%3E%3C/stop%3E%0A%3Cstop%20offset%3D%221%22%20style%3D%22stop-color%3A%23e6e6e6%3Bstop-opacity%3A1.%3B%22%3E%3C/stop%3E%0A%3C/linearGradient%3E%0A%3C/defs%3E%0A%3Cpolygon%20fill%3D%22url%28%23node2_l_1%29%22%20stroke%3D%22%234e4e4e%22%20points%3D%22763.05%2C-804.65%20609.05%2C-804.65%20609.05%2C-761.45%20763.05%2C-761.45%20763.05%2C-804.65%22%3E%3C/polygon%3E%0A%3Ctext%20text-anchor%3D%22middle%22%20x%3D%22686.05%22%20y%3D%22-785.5%22%20font-family%3D%22Arial%22%20font-size%3D%2214.00%22%20space%3D%22preserve%22%3ERCF106-H%3C/text%3E%0A%3Ctext%20text-anchor%3D%22middle%22%20x%3D%22686.05%22%20y%3D%22-769.75%22%20font-family%3D%22Arial%22%20font-size%3D%2214.00%22%20space%3D%22preserve%22%3EHydrogenolysis%20reactor%3C/text%3E%0A%3C/a%3E%0A%3C/g%3E%0A%3C/g%3E%0A%0A%3Cg%20id%3D%22node3%22%20class%3D%22node%22%20data-tippy-content%3D%22Cooling%20duty%3A%20-2.72e%2B05%20MJ/hr%3Cbr%26gt%3BUtility%20cost%3A%2090.8%20USD/hr%3Cbr%26gt%3BPurchase%20cost%3A%20488%2C855%20USD%3Cbr%26gt%3BInstalled%20equipment%20cost%3A%201%2C352%2C868%20USD%22%3E%0A%3Cg%20id%3D%22a_node3%22%3E%3Ca%20title%3D%22%20Cooling%20duty%3A%20-2.72e%2B05%20MJ/hr%3Cbr%26gt%3BUtility%20cost%3A%2090.8%20USD/hr%3Cbr%26gt%3BPurchase%20cost%3A%20488%2C855%20USD%3Cbr%26gt%3BInstalled%20equipment%20cost%3A%201%2C352%2C868%20USD%22%3E%0A%3Cdefs%3E%0A%3ClinearGradient%20id%3D%22node3_l_2%22%20gradientUnits%3D%22userSpaceOnUse%22%20x1%3D%22958.43%22%20y1%3D%22-602.05%22%20x2%3D%221040.43%22%20y2%3D%22-602.05%22%3E%0A%3Cstop%20offset%3D%220%22%20style%3D%22stop-color%3A%23fcfcfc%3Bstop-opacity%3A1.%3B%22%3E%3C/stop%3E%0A%3Cstop%20offset%3D%221%22%20style%3D%22stop-color%3A%23e6e6e6%3Bstop-opacity%3A1.%3B%22%3E%3C/stop%3E%0A%3C/linearGradient%3E%0A%3C/defs%3E%0A%3Cpolygon%20fill%3D%22url%28%23node3_l_2%29%22%20stroke%3D%22%234e4e4e%22%20points%3D%221040.43%2C-641.65%20958.43%2C-641.65%20958.43%2C-562.45%201040.43%2C-562.45%201040.43%2C-641.65%22%3E%3C/polygon%3E%0A%3Ctext%20text-anchor%3D%22middle%22%20x%3D%22999.43%22%20y%3D%22-604.5%22%20font-family%3D%22Arial%22%20font-size%3D%2214.00%22%20space%3D%22preserve%22%3EFLASH107%3C/text%3E%0A%3Ctext%20text-anchor%3D%22middle%22%20x%3D%22999.43%22%20y%3D%22-588.75%22%20font-family%3D%22Arial%22%20font-size%3D%2214.00%22%20space%3D%22preserve%22%3EFlash%3C/text%3E%0A%3C/a%3E%0A%3C/g%3E%0A%3C/g%3E%0A%0A%3Cg%20id%3D%22node4%22%20class%3D%22node%22%20data-tippy-content%3D%22Electricity%20consumption%3A%201.85e-12%20kW%3Cbr%26gt%3BUtility%20cost%3A%201.45e-13%20USD/hr%22%3E%0A%3Cg%20id%3D%22a_node4%22%3E%3Ca%20title%3D%22%20Electricity%20consumption%3A%201.85e-12%20kW%3Cbr%26gt%3BUtility%20cost%3A%201.45e-13%20USD/hr%22%3E%0A%3Cdefs%3E%0A%3ClinearGradient%20id%3D%22node4_l_3%22%20gradientUnits%3D%22userSpaceOnUse%22%20x1%3D%221172.8%22%20y1%3D%22-641.05%22%20x2%3D%221370.18%22%20y2%3D%22-641.05%22%3E%0A%3Cstop%20offset%3D%220%22%20style%3D%22stop-color%3A%23fcfcfc%3Bstop-opacity%3A1.%3B%22%3E%3C/stop%3E%0A%3Cstop%20offset%3D%221%22%20style%3D%22stop-color%3A%23e6e6e6%3Bstop-opacity%3A1.%3B%22%3E%3C/stop%3E%0A%3C/linearGradient%3E%0A%3C/defs%3E%0A%3Cpolygon%20fill%3D%22url%28%23node4_l_3%29%22%20stroke%3D%22%234e4e4e%22%20points%3D%221370.18%2C-609.51%201370.18%2C-672.58%201172.8%2C-695.05%201172.8%2C-587.05%201370.18%2C-609.51%22%3E%3C/polygon%3E%0A%3Ctext%20text-anchor%3D%22middle%22%20x%3D%221271.49%22%20y%3D%22-643.5%22%20font-family%3D%22Arial%22%20font-size%3D%2214.00%22%20space%3D%22preserve%22%3EPUMP108%3C/text%3E%0A%3Ctext%20text-anchor%3D%22middle%22%20x%3D%221271.49%22%20y%3D%22-627.75%22%20font-family%3D%22Arial%22%20font-size%3D%2214.00%22%20space%3D%22preserve%22%3EIsentropic%20compressor%3C/text%3E%0A%3C/a%3E%0A%3C/g%3E%0A%3C/g%3E%0A%0A%3Cg%20id%3D%22node5%22%20class%3D%22node%22%20data-tippy-content%3D%22Cooling%20duty%3A%20-9.61e%2B03%20MJ/hr%3Cbr%26gt%3BUtility%20cost%3A%20127%20USD/hr%3Cbr%26gt%3BPurchase%20cost%3A%2049%2C949%20USD%3Cbr%26gt%3BInstalled%20equipment%20cost%3A%20165%2C317%20USD%22%3E%0A%3Cg%20id%3D%22a_node5%22%3E%3Ca%20title%3D%22%20Cooling%20duty%3A%20-9.61e%2B03%20MJ/hr%3Cbr%26gt%3BUtility%20cost%3A%20127%20USD/hr%3Cbr%26gt%3BPurchase%20cost%3A%2049%2C949%20USD%3Cbr%26gt%3BInstalled%20equipment%20cost%3A%20165%2C317%20USD%22%3E%0A%3Cdefs%3E%0A%3ClinearGradient%20id%3D%22node5_l_4%22%20gradientUnits%3D%22userSpaceOnUse%22%20x1%3D%221459.68%22%20y1%3D%22-641.05%22%20x2%3D%221541.68%22%20y2%3D%22-641.05%22%3E%0A%3Cstop%20offset%3D%220%22%20style%3D%22stop-color%3A%23fcfcfc%3Bstop-opacity%3A1.%3B%22%3E%3C/stop%3E%0A%3Cstop%20offset%3D%221%22%20style%3D%22stop-color%3A%23e6e6e6%3Bstop-opacity%3A1.%3B%22%3E%3C/stop%3E%0A%3C/linearGradient%3E%0A%3C/defs%3E%0A%3Cpolygon%20fill%3D%22url%28%23node5_l_4%29%22%20stroke%3D%22%234e4e4e%22%20points%3D%221541.68%2C-680.65%201459.68%2C-680.65%201459.68%2C-601.45%201541.68%2C-601.45%201541.68%2C-680.65%22%3E%3C/polygon%3E%0A%3Ctext%20text-anchor%3D%22middle%22%20x%3D%221500.68%22%20y%3D%22-643.5%22%20font-family%3D%22Arial%22%20font-size%3D%2214.00%22%20space%3D%22preserve%22%3EFLASH109%3C/text%3E%0A%3Ctext%20text-anchor%3D%22middle%22%20x%3D%221500.68%22%20y%3D%22-627.75%22%20font-family%3D%22Arial%22%20font-size%3D%2214.00%22%20space%3D%22preserve%22%3EFlash%3C/text%3E%0A%3C/a%3E%0A%3C/g%3E%0A%3C/g%3E%0A%0A%3Cg%20id%3D%22node6%22%20class%3D%22node%22%20data-tippy-content%3D%22Heating%20duty%3A%202.36e%2B03%20MJ/hr%3Cbr%26gt%3BUtility%20cost%3A%2014.5%20USD/hr%3Cbr%26gt%3BPurchase%20cost%3A%205%2C048%20USD%3Cbr%26gt%3BInstalled%20equipment%20cost%3A%207%2C378%20USD%22%3E%0A%3Cg%20id%3D%22a_node6%22%3E%3Ca%20title%3D%22%20Heating%20duty%3A%202.36e%2B03%20MJ/hr%3Cbr%26gt%3BUtility%20cost%3A%2014.5%20USD/hr%3Cbr%26gt%3BPurchase%20cost%3A%205%2C048%20USD%3Cbr%26gt%3BInstalled%20equipment%20cost%3A%207%2C378%20USD%22%3E%0A%3Cellipse%20fill%3D%22%23ed5a6a%22%20stroke%3D%22none%22%20cx%3D%221808.82%22%20cy%3D%22-682.05%22%20rx%3D%2232.88%22%20ry%3D%2232.88%22%3E%3C/ellipse%3E%0A%3Ctext%20text-anchor%3D%22middle%22%20x%3D%221808.82%22%20y%3D%22-684.5%22%20font-family%3D%22Arial%22%20font-size%3D%2214.00%22%20fill%3D%22white%22%20space%3D%22preserve%22%3EHX110%3C/text%3E%0A%3Ctext%20text-anchor%3D%22middle%22%20x%3D%221808.82%22%20y%3D%22-668.75%22%20font-family%3D%22Arial%22%20font-size%3D%2214.00%22%20fill%3D%22white%22%20space%3D%22preserve%22%3EHeating%3C/text%3E%0A%3C/a%3E%0A%3C/g%3E%0A%3C/g%3E%0A%0A%3Cg%20id%3D%22node7%22%20class%3D%22node%22%20data-tippy-content%3D%22Electricity%20consumption%3A%20737%20kW%3Cbr%26gt%3BUtility%20cost%3A%2057.6%20USD/hr%3Cbr%26gt%3BPurchase%20cost%3A%201%2C217%2C377%20USD%3Cbr%26gt%3BInstalled%20equipment%20cost%3A%202%2C539%2C302%20USD%22%3E%0A%3Cg%20id%3D%22a_node7%22%3E%3Ca%20title%3D%22%20Electricity%20consumption%3A%20737%20kW%3Cbr%26gt%3BUtility%20cost%3A%2057.6%20USD/hr%3Cbr%26gt%3BPurchase%20cost%3A%201%2C217%2C377%20USD%3Cbr%26gt%3BInstalled%20equipment%20cost%3A%202%2C539%2C302%20USD%22%3E%0A%3Cdefs%3E%0A%3ClinearGradient%20id%3D%22node7_l_5%22%20gradientUnits%3D%22userSpaceOnUse%22%20x1%3D%222056.46%22%20y1%3D%22-659.05%22%20x2%3D%222120.46%22%20y2%3D%22-659.05%22%3E%0A%3Cstop%20offset%3D%220%22%20style%3D%22stop-color%3A%23fcfcfc%3Bstop-opacity%3A1.%3B%22%3E%3C/stop%3E%0A%3Cstop%20offset%3D%221%22%20style%3D%22stop-color%3A%23e6e6e6%3Bstop-opacity%3A1.%3B%22%3E%3C/stop%3E%0A%3C/linearGradient%3E%0A%3C/defs%3E%0A%3Cpolygon%20fill%3D%22url%28%23node7_l_5%29%22%20stroke%3D%22%234e4e4e%22%20points%3D%222120.46%2C-680.65%202056.46%2C-680.65%202056.46%2C-637.45%202120.46%2C-637.45%202120.46%2C-680.65%22%3E%3C/polygon%3E%0A%3Ctext%20text-anchor%3D%22middle%22%20x%3D%222088.46%22%20y%3D%22-661.5%22%20font-family%3D%22Arial%22%20font-size%3D%2214.00%22%20space%3D%22preserve%22%3EPSA111%3C/text%3E%0A%3Ctext%20text-anchor%3D%22middle%22%20x%3D%222088.46%22%20y%3D%22-645.75%22%20font-family%3D%22Arial%22%20font-size%3D%2214.00%22%20space%3D%22preserve%22%3EPSA%3C/text%3E%0A%3C/a%3E%0A%3C/g%3E%0A%3C/g%3E%0A%0A%3Cg%20id%3D%22node8%22%20class%3D%22node%22%20data-tippy-content%3D%22Electricity%20consumption%3A%205.25e%2B03%20kW%3Cbr%26gt%3BElectricity%20production%3A%205.25e%2B03%20kW%3Cbr%26gt%3BHeating%20duty%3A%206.18%20MJ/hr%3Cbr%26gt%3BUtility%20cost%3A%200.0609%20USD/hr%3Cbr%26gt%3BPurchase%20cost%3A%202%2C761%2C763%20USD%3Cbr%26gt%3BInstalled%20equipment%20cost%3A%205%2C523%2C527%20USD%22%3E%0A%3Cg%20id%3D%22a_node8%22%3E%3Ca%20title%3D%22%20Electricity%20consumption%3A%205.25e%2B03%20kW%3Cbr%26gt%3BElectricity%20production%3A%205.25e%2B03%20kW%3Cbr%26gt%3BHeating%20duty%3A%206.18%20MJ/hr%3Cbr%26gt%3BUtility%20cost%3A%200.0609%20USD/hr%3Cbr%26gt%3BPurchase%20cost%3A%202%2C761%2C763%20USD%3Cbr%26gt%3BInstalled%20equipment%20cost%3A%205%2C523%2C527%20USD%22%3E%0A%3Cdefs%3E%0A%3ClinearGradient%20id%3D%22node8_l_6%22%20gradientUnits%3D%22userSpaceOnUse%22%20x1%3D%222252.71%22%20y1%3D%22-659.05%22%20x2%3D%222450.09%22%20y2%3D%22-659.05%22%3E%0A%3Cstop%20offset%3D%220%22%20style%3D%22stop-color%3A%23fcfcfc%3Bstop-opacity%3A1.%3B%22%3E%3C/stop%3E%0A%3Cstop%20offset%3D%221%22%20style%3D%22stop-color%3A%23e6e6e6%3Bstop-opacity%3A1.%3B%22%3E%3C/stop%3E%0A%3C/linearGradient%3E%0A%3C/defs%3E%0A%3Cpolygon%20fill%3D%22url%28%23node8_l_6%29%22%20stroke%3D%22%234e4e4e%22%20points%3D%222450.09%2C-627.51%202450.09%2C-690.58%202252.71%2C-713.05%202252.71%2C-605.05%202450.09%2C-627.51%22%3E%3C/polygon%3E%0A%3Ctext%20text-anchor%3D%22middle%22%20x%3D%222351.4%22%20y%3D%22-661.5%22%20font-family%3D%22Arial%22%20font-size%3D%2214.00%22%20space%3D%22preserve%22%3EPUMP112%3C/text%3E%0A%3Ctext%20text-anchor%3D%22middle%22%20x%3D%222351.4%22%20y%3D%22-645.75%22%20font-family%3D%22Arial%22%20font-size%3D%2214.00%22%20space%3D%22preserve%22%3EIsentropic%20compressor%3C/text%3E%0A%3C/a%3E%0A%3C/g%3E%0A%3C/g%3E%0A%0A%3Cg%20id%3D%22node9%22%20class%3D%22node%22%20data-tippy-content%3D%22No%20capital%20costs%20or%20utilities%22%3E%0A%3Cg%20id%3D%22a_node9%22%3E%3Ca%20title%3D%22%20No%20capital%20costs%20or%20utilities%22%3E%0A%3Cdefs%3E%0A%3ClinearGradient%20id%3D%22node9_l_7%22%20gradientUnits%3D%22userSpaceOnUse%22%20x1%3D%222617.31%22%20y1%3D%22-754.05%22%20x2%3D%222751.48%22%20y2%3D%22-754.05%22%3E%0A%3Cstop%20offset%3D%220%22%20style%3D%22stop-color%3A%23fcfcfc%3Bstop-opacity%3A1.%3B%22%3E%3C/stop%3E%0A%3Cstop%20offset%3D%221%22%20style%3D%22stop-color%3A%23e6e6e6%3Bstop-opacity%3A1.%3B%22%3E%3C/stop%3E%0A%3C/linearGradient%3E%0A%3C/defs%3E%0A%3Cpolygon%20fill%3D%22url%28%23node9_l_7%29%22%20stroke%3D%22%234e4e4e%22%20points%3D%222751.48%2C-754.05%202617.31%2C-809.91%202617.31%2C-698.18%202751.48%2C-754.05%22%3E%3C/polygon%3E%0A%3Ctext%20text-anchor%3D%22middle%22%20x%3D%222662.04%22%20y%3D%22-756.5%22%20font-family%3D%22Arial%22%20font-size%3D%2214.00%22%20space%3D%22preserve%22%3EMIX104%3C/text%3E%0A%3Ctext%20text-anchor%3D%22middle%22%20x%3D%222662.04%22%20y%3D%22-740.75%22%20font-family%3D%22Arial%22%20font-size%3D%2214.00%22%20space%3D%22preserve%22%3EMixer%3C/text%3E%0A%3C/a%3E%0A%3C/g%3E%0A%3C/g%3E%0A%0A%3Cg%20id%3D%22node10%22%20class%3D%22node%22%20data-tippy-content%3D%22Cooling%20duty%3A%20-2.36e%2B03%20MJ/hr%3Cbr%26gt%3BUtility%20cost%3A%200.786%20USD/hr%3Cbr%26gt%3BPurchase%20cost%3A%205%2C297%20USD%3Cbr%26gt%3BInstalled%20equipment%20cost%3A%207%2C515%20USD%22%3E%0A%3Cg%20id%3D%22a_node10%22%3E%3Ca%20title%3D%22%20Cooling%20duty%3A%20-2.36e%2B03%20MJ/hr%3Cbr%26gt%3BUtility%20cost%3A%200.786%20USD/hr%3Cbr%26gt%3BPurchase%20cost%3A%205%2C297%20USD%3Cbr%26gt%3BInstalled%20equipment%20cost%3A%207%2C515%20USD%22%3E%0A%3Cellipse%20fill%3D%22%2360c1cf%22%20stroke%3D%22none%22%20cx%3D%223013.86%22%20cy%3D%22-939.05%22%20rx%3D%2232.35%22%20ry%3D%2232.35%22%3E%3C/ellipse%3E%0A%3Ctext%20text-anchor%3D%22middle%22%20x%3D%223013.86%22%20y%3D%22-941.5%22%20font-family%3D%22Arial%22%20font-size%3D%2214.00%22%20fill%3D%22white%22%20space%3D%22preserve%22%3EHX105%3C/text%3E%0A%3Ctext%20text-anchor%3D%22middle%22%20x%3D%223013.86%22%20y%3D%22-925.75%22%20font-family%3D%22Arial%22%20font-size%3D%2214.00%22%20fill%3D%22white%22%20space%3D%22preserve%22%3ECooling%3C/text%3E%0A%3C/a%3E%0A%3C/g%3E%0A%3C/g%3E%0A%0A%3Cg%20id%3D%22node11%22%20class%3D%22node%22%20data-tippy-content%3D%22Electricity%20consumption%3A%2019.3%20kW%3Cbr%26gt%3BCooling%20duty%3A%20-1.21e%2B04%20MJ/hr%3Cbr%26gt%3BHeating%20duty%3A%206.49e%2B05%20MJ/hr%3Cbr%26gt%3BUtility%20cost%3A%203.99e%2B03%20USD/hr%3Cbr%26gt%3BPurchase%20cost%3A%202%2C079%2C269%20USD%3Cbr%26gt%3BInstalled%20equipment%20cost%3A%206%2C685%2C740%20USD%22%3E%0A%3Cg%20id%3D%22a_node11%22%3E%3Ca%20title%3D%22%20Electricity%20consumption%3A%2019.3%20kW%3Cbr%26gt%3BCooling%20duty%3A%20-1.21e%2B04%20MJ/hr%3Cbr%26gt%3BHeating%20duty%3A%206.49e%2B05%20MJ/hr%3Cbr%26gt%3BUtility%20cost%3A%203.99e%2B03%20USD/hr%3Cbr%26gt%3BPurchase%20cost%3A%202%2C079%2C269%20USD%3Cbr%26gt%3BInstalled%20equipment%20cost%3A%206%2C685%2C740%20USD%22%3E%0A%3Cdefs%3E%0A%3ClinearGradient%20id%3D%22node11_l_8%22%20gradientUnits%3D%22userSpaceOnUse%22%20x1%3D%221207.24%22%20y1%3D%22-457.05%22%20x2%3D%221335.74%22%20y2%3D%22-457.05%22%3E%0A%3Cstop%20offset%3D%220%22%20style%3D%22stop-color%3A%23fcfcfc%3Bstop-opacity%3A1.%3B%22%3E%3C/stop%3E%0A%3Cstop%20offset%3D%221%22%20style%3D%22stop-color%3A%23e6e6e6%3Bstop-opacity%3A1.%3B%22%3E%3C/stop%3E%0A%3C/linearGradient%3E%0A%3C/defs%3E%0A%3Cpolygon%20fill%3D%22url%28%23node11_l_8%29%22%20stroke%3D%22%234e4e4e%22%20points%3D%221335.74%2C-500.25%201207.24%2C-500.25%201207.24%2C-413.85%201335.74%2C-413.85%201335.74%2C-500.25%22%3E%3C/polygon%3E%0A%3Ctext%20text-anchor%3D%22middle%22%20x%3D%221271.49%22%20y%3D%22-459.5%22%20font-family%3D%22Arial%22%20font-size%3D%2214.00%22%20space%3D%22preserve%22%3EDIST113%3C/text%3E%0A%3Ctext%20text-anchor%3D%22middle%22%20x%3D%221271.49%22%20y%3D%22-443.75%22%20font-family%3D%22Arial%22%20font-size%3D%2214.00%22%20space%3D%22preserve%22%3EDistillation%20Column%3C/text%3E%0A%3C/a%3E%0A%3C/g%3E%0A%3C/g%3E%0A%0A%3Cg%20id%3D%22node12%22%20class%3D%22node%22%20data-tippy-content%3D%22Electricity%20consumption%3A%208.95%20kW%3Cbr%26gt%3BCooling%20duty%3A%20-4.11e%2B05%20MJ/hr%3Cbr%26gt%3BHeating%20duty%3A%203.83e%2B05%20MJ/hr%3Cbr%26gt%3BUtility%20cost%3A%202.49e%2B03%20USD/hr%3Cbr%26gt%3BPurchase%20cost%3A%204%2C313%2C126%20USD%3Cbr%26gt%3BInstalled%20equipment%20cost%3A%2016%2C845%2C744%20USD%22%3E%0A%3Cg%20id%3D%22a_node12%22%3E%3Ca%20title%3D%22%20Electricity%20consumption%3A%208.95%20kW%3Cbr%26gt%3BCooling%20duty%3A%20-4.11e%2B05%20MJ/hr%3Cbr%26gt%3BHeating%20duty%3A%203.83e%2B05%20MJ/hr%3Cbr%26gt%3BUtility%20cost%3A%202.49e%2B03%20USD/hr%3Cbr%26gt%3BPurchase%20cost%3A%204%2C313%2C126%20USD%3Cbr%26gt%3BInstalled%20equipment%20cost%3A%2016%2C845%2C744%20USD%22%3E%0A%3Cdefs%3E%0A%3ClinearGradient%20id%3D%22node12_l_9%22%20gradientUnits%3D%22userSpaceOnUse%22%20x1%3D%221436.43%22%20y1%3D%22-500.05%22%20x2%3D%221564.93%22%20y2%3D%22-500.05%22%3E%0A%3Cstop%20offset%3D%220%22%20style%3D%22stop-color%3A%23fcfcfc%3Bstop-opacity%3A1.%3B%22%3E%3C/stop%3E%0A%3Cstop%20offset%3D%221%22%20style%3D%22stop-color%3A%23e6e6e6%3Bstop-opacity%3A1.%3B%22%3E%3C/stop%3E%0A%3C/linearGradient%3E%0A%3C/defs%3E%0A%3Cpolygon%20fill%3D%22url%28%23node12_l_9%29%22%20stroke%3D%22%234e4e4e%22%20points%3D%221564.93%2C-543.25%201436.43%2C-543.25%201436.43%2C-456.85%201564.93%2C-456.85%201564.93%2C-543.25%22%3E%3C/polygon%3E%0A%3Ctext%20text-anchor%3D%22middle%22%20x%3D%221500.68%22%20y%3D%22-502.5%22%20font-family%3D%22Arial%22%20font-size%3D%2214.00%22%20space%3D%22preserve%22%3EDIST114%3C/text%3E%0A%3Ctext%20text-anchor%3D%22middle%22%20x%3D%221500.68%22%20y%3D%22-486.75%22%20font-family%3D%22Arial%22%20font-size%3D%2214.00%22%20space%3D%22preserve%22%3EDistillation%20Column%3C/text%3E%0A%3C/a%3E%0A%3C/g%3E%0A%3C/g%3E%0A%0A%3Cg%20id%3D%22node13%22%20class%3D%22node%22%20data-tippy-content%3D%22No%20capital%20costs%20or%20utilities%22%3E%0A%3Cg%20id%3D%22a_node13%22%3E%3Ca%20title%3D%22%20No%20capital%20costs%20or%20utilities%22%3E%0A%3Cdefs%3E%0A%3ClinearGradient%20id%3D%22node13_l_10%22%20gradientUnits%3D%22userSpaceOnUse%22%20x1%3D%221764.62%22%20y1%3D%22-557.05%22%20x2%3D%221897.21%22%20y2%3D%22-557.05%22%3E%0A%3Cstop%20offset%3D%220%22%20style%3D%22stop-color%3A%23fcfcfc%3Bstop-opacity%3A1.%3B%22%3E%3C/stop%3E%0A%3Cstop%20offset%3D%221%22%20style%3D%22stop-color%3A%23e6e6e6%3Bstop-opacity%3A1.%3B%22%3E%3C/stop%3E%0A%3C/linearGradient%3E%0A%3C/defs%3E%0A%3Cpolygon%20fill%3D%22url%28%23node13_l_10%29%22%20stroke%3D%22%234e4e4e%22%20points%3D%221897.21%2C-557.05%201764.62%2C-612.91%201764.62%2C-501.18%201897.21%2C-557.05%22%3E%3C/polygon%3E%0A%3Ctext%20text-anchor%3D%22middle%22%20x%3D%221808.82%22%20y%3D%22-559.5%22%20font-family%3D%22Arial%22%20font-size%3D%2214.00%22%20space%3D%22preserve%22%3EMIX116%3C/text%3E%0A%3Ctext%20text-anchor%3D%22middle%22%20x%3D%221808.82%22%20y%3D%22-543.75%22%20font-family%3D%22Arial%22%20font-size%3D%2214.00%22%20space%3D%22preserve%22%3EMixer%3C/text%3E%0A%3C/a%3E%0A%3C/g%3E%0A%3C/g%3E%0A%0A%3Cg%20id%3D%22node14%22%20class%3D%22node%22%20data-tippy-content%3D%22Cooling%20duty%3A%20-5.14e%2B05%20MJ/hr%3Cbr%26gt%3BUtility%20cost%3A%202.57e%2B03%20USD/hr%3Cbr%26gt%3BPurchase%20cost%3A%20939%2C544%20USD%3Cbr%26gt%3BInstalled%20equipment%20cost%3A%203%2C016%2C596%20USD%22%3E%0A%3Cg%20id%3D%22a_node14%22%3E%3Ca%20title%3D%22%20Cooling%20duty%3A%20-5.14e%2B05%20MJ/hr%3Cbr%26gt%3BUtility%20cost%3A%202.57e%2B03%20USD/hr%3Cbr%26gt%3BPurchase%20cost%3A%20939%2C544%20USD%3Cbr%26gt%3BInstalled%20equipment%20cost%3A%203%2C016%2C596%20USD%22%3E%0A%3Cellipse%20fill%3D%22%2360c1cf%22%20stroke%3D%22none%22%20cx%3D%222088.46%22%20cy%3D%22-458.05%22%20rx%3D%2232.35%22%20ry%3D%2232.35%22%3E%3C/ellipse%3E%0A%3Ctext%20text-anchor%3D%22middle%22%20x%3D%222088.46%22%20y%3D%22-460.5%22%20font-family%3D%22Arial%22%20font-size%3D%2214.00%22%20fill%3D%22white%22%20space%3D%22preserve%22%3EHX117%3C/text%3E%0A%3Ctext%20text-anchor%3D%22middle%22%20x%3D%222088.46%22%20y%3D%22-444.75%22%20font-family%3D%22Arial%22%20font-size%3D%2214.00%22%20fill%3D%22white%22%20space%3D%22preserve%22%3ECooling%3C/text%3E%0A%3C/a%3E%0A%3C/g%3E%0A%3C/g%3E%0A%0A%3Cg%20id%3D%22node15%22%20class%3D%22node%22%20data-tippy-content%3D%22No%20capital%20costs%20or%20utilities%22%3E%0A%3Cg%20id%3D%22a_node15%22%3E%3Ca%20title%3D%22%20No%20capital%20costs%20or%20utilities%22%3E%0A%3Cdefs%3E%0A%3ClinearGradient%20id%3D%22node15_l_11%22%20gradientUnits%3D%22userSpaceOnUse%22%20x1%3D%222306.67%22%20y1%3D%22-439.05%22%20x2%3D%222440.85%22%20y2%3D%22-439.05%22%3E%0A%3Cstop%20offset%3D%220%22%20style%3D%22stop-color%3A%23fcfcfc%3Bstop-opacity%3A1.%3B%22%3E%3C/stop%3E%0A%3Cstop%20offset%3D%221%22%20style%3D%22stop-color%3A%23e6e6e6%3Bstop-opacity%3A1.%3B%22%3E%3C/stop%3E%0A%3C/linearGradient%3E%0A%3C/defs%3E%0A%3Cpolygon%20fill%3D%22url%28%23node15_l_11%29%22%20stroke%3D%22%234e4e4e%22%20points%3D%222440.85%2C-439.05%202306.67%2C-494.91%202306.67%2C-383.18%202440.85%2C-439.05%22%3E%3C/polygon%3E%0A%3Ctext%20text-anchor%3D%22middle%22%20x%3D%222351.4%22%20y%3D%22-441.5%22%20font-family%3D%22Arial%22%20font-size%3D%2214.00%22%20space%3D%22preserve%22%3EMIX100%3C/text%3E%0A%3Ctext%20text-anchor%3D%22middle%22%20x%3D%222351.4%22%20y%3D%22-425.75%22%20font-family%3D%22Arial%22%20font-size%3D%2214.00%22%20space%3D%22preserve%22%3EMixer%3C/text%3E%0A%3C/a%3E%0A%3C/g%3E%0A%3C/g%3E%0A%0A%3Cg%20id%3D%22node16%22%20class%3D%22node%22%20data-tippy-content%3D%22Electricity%20consumption%3A%201.2e%2B03%20kW%3Cbr%26gt%3BUtility%20cost%3A%2094%20USD/hr%3Cbr%26gt%3BPurchase%20cost%3A%20601%2C845%20USD%3Cbr%26gt%3BInstalled%20equipment%20cost%3A%201%2C207%2C619%20USD%22%3E%0A%3Cg%20id%3D%22a_node16%22%3E%3Ca%20title%3D%22%20Electricity%20consumption%3A%201.2e%2B03%20kW%3Cbr%26gt%3BUtility%20cost%3A%2094%20USD/hr%3Cbr%26gt%3BPurchase%20cost%3A%20601%2C845%20USD%3Cbr%26gt%3BInstalled%20equipment%20cost%3A%201%2C207%2C619%20USD%22%3E%0A%3Cdefs%3E%0A%3ClinearGradient%20id%3D%22node16_l_12%22%20gradientUnits%3D%22userSpaceOnUse%22%20x1%3D%222622.91%22%20y1%3D%22-641.05%22%20x2%3D%222701.16%22%20y2%3D%22-641.05%22%3E%0A%3Cstop%20offset%3D%220%22%20style%3D%22stop-color%3A%23fcfcfc%3Bstop-opacity%3A1.%3B%22%3E%3C/stop%3E%0A%3Cstop%20offset%3D%221%22%20style%3D%22stop-color%3A%23e6e6e6%3Bstop-opacity%3A1.%3B%22%3E%3C/stop%3E%0A%3C/linearGradient%3E%0A%3C/defs%3E%0A%3Cpolygon%20fill%3D%22url%28%23node16_l_12%29%22%20stroke%3D%22%234e4e4e%22%20points%3D%222701.16%2C-662.65%202622.91%2C-662.65%202622.91%2C-619.45%202701.16%2C-619.45%202701.16%2C-662.65%22%3E%3C/polygon%3E%0A%3Ctext%20text-anchor%3D%22middle%22%20x%3D%222662.04%22%20y%3D%22-643.5%22%20font-family%3D%22Arial%22%20font-size%3D%2214.00%22%20space%3D%22preserve%22%3EPUMP101%3C/text%3E%0A%3Ctext%20text-anchor%3D%22middle%22%20x%3D%222662.04%22%20y%3D%22-627.75%22%20font-family%3D%22Arial%22%20font-size%3D%2214.00%22%20space%3D%22preserve%22%3EPump%3C/text%3E%0A%3C/a%3E%0A%3C/g%3E%0A%3C/g%3E%0A%0A%3Cg%20id%3D%22node17%22%20class%3D%22node%22%20data-tippy-content%3D%22Heating%20duty%3A%203.22e%2B05%20MJ/hr%3Cbr%26gt%3BUtility%20cost%3A%203.17e%2B03%20USD/hr%3Cbr%26gt%3BPurchase%20cost%3A%20138%2C743%20USD%3Cbr%26gt%3BInstalled%20equipment%20cost%3A%20376%2C934%20USD%22%3E%0A%3Cg%20id%3D%22a_node17%22%3E%3Ca%20title%3D%22%20Heating%20duty%3A%203.22e%2B05%20MJ/hr%3Cbr%26gt%3BUtility%20cost%3A%203.17e%2B03%20USD/hr%3Cbr%26gt%3BPurchase%20cost%3A%20138%2C743%20USD%3Cbr%26gt%3BInstalled%20equipment%20cost%3A%20376%2C934%20USD%22%3E%0A%3Cellipse%20fill%3D%22%23ed5a6a%22%20stroke%3D%22none%22%20cx%3D%223013.86%22%20cy%3D%22-838.05%22%20rx%3D%2232.88%22%20ry%3D%2232.88%22%3E%3C/ellipse%3E%0A%3Ctext%20text-anchor%3D%22middle%22%20x%3D%223013.86%22%20y%3D%22-840.5%22%20font-family%3D%22Arial%22%20font-size%3D%2214.00%22%20fill%3D%22white%22%20space%3D%22preserve%22%3EHX102%3C/text%3E%0A%3Ctext%20text-anchor%3D%22middle%22%20x%3D%223013.86%22%20y%3D%22-824.75%22%20font-family%3D%22Arial%22%20font-size%3D%2214.00%22%20fill%3D%22white%22%20space%3D%22preserve%22%3EHeating%3C/text%3E%0A%3C/a%3E%0A%3C/g%3E%0A%3C/g%3E%0A%0A%3Cg%20id%3D%22node18%22%20class%3D%22node%22%20data-tippy-content%3D%22Electricity%20consumption%3A%20597%20kW%3Cbr%26gt%3BUtility%20cost%3A%2046.7%20USD/hr%22%3E%0A%3Cg%20id%3D%22a_node18%22%3E%3Ca%20title%3D%22%20Electricity%20consumption%3A%20597%20kW%3Cbr%26gt%3BUtility%20cost%3A%2046.7%20USD/hr%22%3E%0A%3Cdefs%3E%0A%3ClinearGradient%20id%3D%22node18_l_13%22%20gradientUnits%3D%22userSpaceOnUse%22%20x1%3D%22617.67%22%20y1%3D%22-669.05%22%20x2%3D%22754.42%22%20y2%3D%22-669.05%22%3E%0A%3Cstop%20offset%3D%220%22%20style%3D%22stop-color%3A%23fcfcfc%3Bstop-opacity%3A1.%3B%22%3E%3C/stop%3E%0A%3Cstop%20offset%3D%221%22%20style%3D%22stop-color%3A%23e6e6e6%3Bstop-opacity%3A1.%3B%22%3E%3C/stop%3E%0A%3C/linearGradient%3E%0A%3C/defs%3E%0A%3Cpolygon%20fill%3D%22url%28%23node18_l_13%29%22%20stroke%3D%22%234e4e4e%22%20points%3D%22754.42%2C-690.65%20617.67%2C-690.65%20617.67%2C-647.45%20754.42%2C-647.45%20754.42%2C-690.65%22%3E%3C/polygon%3E%0A%3Ctext%20text-anchor%3D%22middle%22%20x%3D%22686.05%22%20y%3D%22-671.5%22%20font-family%3D%22Arial%22%20font-size%3D%2214.00%22%20space%3D%22preserve%22%3EU101%3C/text%3E%0A%3Ctext%20text-anchor%3D%22middle%22%20x%3D%22686.05%22%20y%3D%22-655.75%22%20font-family%3D%22Arial%22%20font-size%3D%2214.00%22%20space%3D%22preserve%22%3EFeed%20stock%20handling%3C/text%3E%0A%3C/a%3E%0A%3C/g%3E%0A%3C/g%3E%0A%0A%3Cg%20id%3D%22node19%22%20class%3D%22node%22%20data-tippy-content%3D%22Electricity%20consumption%3A%200.325%20kW%3Cbr%26gt%3BUtility%20cost%3A%200.0254%20USD/hr%3Cbr%26gt%3BPurchase%20cost%3A%2079%2C184%20USD%3Cbr%26gt%3BInstalled%20equipment%20cost%3A%20123%2C182%20USD%22%3E%0A%3Cg%20id%3D%22a_node19%22%3E%3Ca%20title%3D%22%20Electricity%20consumption%3A%200.325%20kW%3Cbr%26gt%3BUtility%20cost%3A%200.0254%20USD/hr%3Cbr%26gt%3BPurchase%20cost%3A%2079%2C184%20USD%3Cbr%26gt%3BInstalled%20equipment%20cost%3A%20123%2C182%20USD%22%3E%0A%3Cdefs%3E%0A%3ClinearGradient%20id%3D%22node19_l_14%22%20gradientUnits%3D%22userSpaceOnUse%22%20x1%3D%22116.05%22%20y1%3D%22-278.05%22%20x2%3D%22283.55%22%20y2%3D%22-278.05%22%3E%0A%3Cstop%20offset%3D%220%22%20style%3D%22stop-color%3A%23fcfcfc%3Bstop-opacity%3A1.%3B%22%3E%3C/stop%3E%0A%3Cstop%20offset%3D%221%22%20style%3D%22stop-color%3A%23e6e6e6%3Bstop-opacity%3A1.%3B%22%3E%3C/stop%3E%0A%3C/linearGradient%3E%0A%3C/defs%3E%0A%3Cpolygon%20fill%3D%22url%28%23node19_l_14%29%22%20stroke%3D%22%234e4e4e%22%20points%3D%22283.55%2C-299.65%20116.05%2C-299.65%20116.05%2C-256.45%20283.55%2C-256.45%20283.55%2C-299.65%22%3E%3C/polygon%3E%0A%3Ctext%20text-anchor%3D%22middle%22%20x%3D%22199.8%22%20y%3D%22-280.5%22%20font-family%3D%22Arial%22%20font-size%3D%2214.00%22%20space%3D%22preserve%22%3EH2SO4_storage%3C/text%3E%0A%3Ctext%20text-anchor%3D%22middle%22%20x%3D%22199.8%22%20y%3D%22-264.75%22%20font-family%3D%22Arial%22%20font-size%3D%2214.00%22%20space%3D%22preserve%22%3ESulfuric%20acid%20storage%20tank%3C/text%3E%0A%3C/a%3E%0A%3C/g%3E%0A%3C/g%3E%0A%0A%3Cg%20id%3D%22node20%22%20class%3D%22node%22%20data-tippy-content%3D%22Electricity%20consumption%3A%200.346%20kW%3Cbr%26gt%3BUtility%20cost%3A%200.0271%20USD/hr%3Cbr%26gt%3BPurchase%20cost%3A%208%2C067%20USD%3Cbr%26gt%3BInstalled%20equipment%20cost%3A%2017%2C200%20USD%22%3E%0A%3Cg%20id%3D%22a_node20%22%3E%3Ca%20title%3D%22%20Electricity%20consumption%3A%200.346%20kW%3Cbr%26gt%3BUtility%20cost%3A%200.0271%20USD/hr%3Cbr%26gt%3BPurchase%20cost%3A%208%2C067%20USD%3Cbr%26gt%3BInstalled%20equipment%20cost%3A%2017%2C200%20USD%22%3E%0A%3Cdefs%3E%0A%3ClinearGradient%20id%3D%22node20_l_15%22%20gradientUnits%3D%22userSpaceOnUse%22%20x1%3D%22384.3%22%20y1%3D%22-278.05%22%20x2%3D%22503.05%22%20y2%3D%22-278.05%22%3E%0A%3Cstop%20offset%3D%220%22%20style%3D%22stop-color%3A%23fcfcfc%3Bstop-opacity%3A1.%3B%22%3E%3C/stop%3E%0A%3Cstop%20offset%3D%221%22%20style%3D%22stop-color%3A%23e6e6e6%3Bstop-opacity%3A1.%3B%22%3E%3C/stop%3E%0A%3C/linearGradient%3E%0A%3C/defs%3E%0A%3Cpolygon%20fill%3D%22url%28%23node20_l_15%29%22%20stroke%3D%22%234e4e4e%22%20points%3D%22503.05%2C-299.65%20384.3%2C-299.65%20384.3%2C-256.45%20503.05%2C-256.45%20503.05%2C-299.65%22%3E%3C/polygon%3E%0A%3Ctext%20text-anchor%3D%22middle%22%20x%3D%22443.67%22%20y%3D%22-280.5%22%20font-family%3D%22Arial%22%20font-size%3D%2214.00%22%20space%3D%22preserve%22%3ET201%3C/text%3E%0A%3Ctext%20text-anchor%3D%22middle%22%20x%3D%22443.67%22%20y%3D%22-264.75%22%20font-family%3D%22Arial%22%20font-size%3D%2214.00%22%20space%3D%22preserve%22%3ESulfuric%20acid%20tank%3C/text%3E%0A%3C/a%3E%0A%3C/g%3E%0A%3C/g%3E%0A%0A%3Cg%20id%3D%22node21%22%20class%3D%22node%22%20data-tippy-content%3D%22Purchase%20cost%3A%202%2C196%20USD%3Cbr%26gt%3BInstalled%20equipment%20cost%3A%202%2C196%20USD%22%3E%0A%3Cg%20id%3D%22a_node21%22%3E%3Ca%20title%3D%22%20Purchase%20cost%3A%202%2C196%20USD%3Cbr%26gt%3BInstalled%20equipment%20cost%3A%202%2C196%20USD%22%3E%0A%3Cdefs%3E%0A%3ClinearGradient%20id%3D%22node21_l_16%22%20gradientUnits%3D%22userSpaceOnUse%22%20x1%3D%22622.55%22%20y1%3D%22-312.05%22%20x2%3D%22749.55%22%20y2%3D%22-312.05%22%3E%0A%3Cstop%20offset%3D%220%22%20style%3D%22stop-color%3A%23fcfcfc%3Bstop-opacity%3A1.%3B%22%3E%3C/stop%3E%0A%3Cstop%20offset%3D%221%22%20style%3D%22stop-color%3A%23e6e6e6%3Bstop-opacity%3A1.%3B%22%3E%3C/stop%3E%0A%3C/linearGradient%3E%0A%3C/defs%3E%0A%3Cpolygon%20fill%3D%22url%28%23node21_l_16%29%22%20stroke%3D%22%234e4e4e%22%20points%3D%22749.55%2C-333.65%20622.55%2C-333.65%20622.55%2C-290.45%20749.55%2C-290.45%20749.55%2C-333.65%22%3E%3C/polygon%3E%0A%3Ctext%20text-anchor%3D%22middle%22%20x%3D%22686.05%22%20y%3D%22-314.5%22%20font-family%3D%22Arial%22%20font-size%3D%2214.00%22%20space%3D%22preserve%22%3EM201%3C/text%3E%0A%3Ctext%20text-anchor%3D%22middle%22%20x%3D%22686.05%22%20y%3D%22-298.75%22%20font-family%3D%22Arial%22%20font-size%3D%2214.00%22%20space%3D%22preserve%22%3ESulfuric%20acid%20mixer%3C/text%3E%0A%3C/a%3E%0A%3C/g%3E%0A%3C/g%3E%0A%0A%3Cg%20id%3D%22node22%22%20class%3D%22node%22%20data-tippy-content%3D%22Heating%20duty%3A%201.02e%2B05%20MJ/hr%3Cbr%26gt%3BUtility%20cost%3A%20780%20USD/hr%22%3E%0A%3Cg%20id%3D%22a_node22%22%3E%3Ca%20title%3D%22%20Heating%20duty%3A%201.02e%2B05%20MJ/hr%3Cbr%26gt%3BUtility%20cost%3A%20780%20USD/hr%22%3E%0A%3Cdefs%3E%0A%3ClinearGradient%20id%3D%22node22_l_17%22%20gradientUnits%3D%22userSpaceOnUse%22%20x1%3D%22933.49%22%20y1%3D%22-375.05%22%20x2%3D%221131.3%22%20y2%3D%22-375.05%22%3E%0A%3Cstop%20offset%3D%220%22%20style%3D%22stop-color%3A%23fcfcfc%3Bstop-opacity%3A1.%3B%22%3E%3C/stop%3E%0A%3Cstop%20offset%3D%221%22%20style%3D%22stop-color%3A%23e6e6e6%3Bstop-opacity%3A1.%3B%22%3E%3C/stop%3E%0A%3C/linearGradient%3E%0A%3C/defs%3E%0A%3Cpolygon%20fill%3D%22url%28%23node22_l_17%29%22%20stroke%3D%22%234e4e4e%22%20points%3D%221131.3%2C-375.05%20933.49%2C-430.91%20933.49%2C-319.18%201131.3%2C-375.05%22%3E%3C/polygon%3E%0A%3Ctext%20text-anchor%3D%22middle%22%20x%3D%22999.43%22%20y%3D%22-377.5%22%20font-family%3D%22Arial%22%20font-size%3D%2214.00%22%20space%3D%22preserve%22%3EM203%3C/text%3E%0A%3Ctext%20text-anchor%3D%22middle%22%20x%3D%22999.43%22%20y%3D%22-361.75%22%20font-family%3D%22Arial%22%20font-size%3D%2214.00%22%20space%3D%22preserve%22%3ESteam%20mixer%3C/text%3E%0A%3C/a%3E%0A%3C/g%3E%0A%3C/g%3E%0A%0A%3Cg%20id%3D%22node23%22%20class%3D%22node%22%20data-tippy-content%3D%22Electricity%20consumption%3A%203.12e%2B03%20kW%3Cbr%26gt%3BUtility%20cost%3A%20244%20USD/hr%3Cbr%26gt%3BPurchase%20cost%3A%2016%2C316%2C729%20USD%3Cbr%26gt%3BInstalled%20equipment%20cost%3A%2024%2C518%2C176%20USD%22%3E%0A%3Cg%20id%3D%22a_node23%22%3E%3Ca%20title%3D%22%20Electricity%20consumption%3A%203.12e%2B03%20kW%3Cbr%26gt%3BUtility%20cost%3A%20244%20USD/hr%3Cbr%26gt%3BPurchase%20cost%3A%2016%2C316%2C729%20USD%3Cbr%26gt%3BInstalled%20equipment%20cost%3A%2024%2C518%2C176%20USD%22%3E%0A%3Cdefs%3E%0A%3ClinearGradient%20id%3D%22node23_l_18%22%20gradientUnits%3D%22userSpaceOnUse%22%20x1%3D%221177.62%22%20y1%3D%22-87.05%22%20x2%3D%221365.37%22%20y2%3D%22-87.05%22%3E%0A%3Cstop%20offset%3D%220%22%20style%3D%22stop-color%3A%23fcfcfc%3Bstop-opacity%3A1.%3B%22%3E%3C/stop%3E%0A%3Cstop%20offset%3D%221%22%20style%3D%22stop-color%3A%23e6e6e6%3Bstop-opacity%3A1.%3B%22%3E%3C/stop%3E%0A%3C/linearGradient%3E%0A%3C/defs%3E%0A%3Cpolygon%20fill%3D%22url%28%23node23_l_18%29%22%20stroke%3D%22%234e4e4e%22%20points%3D%221365.37%2C-126.65%201177.62%2C-126.65%201177.62%2C-47.45%201365.37%2C-47.45%201365.37%2C-126.65%22%3E%3C/polygon%3E%0A%3Ctext%20text-anchor%3D%22middle%22%20x%3D%221271.49%22%20y%3D%22-89.5%22%20font-family%3D%22Arial%22%20font-size%3D%2214.00%22%20space%3D%22preserve%22%3ER201%3C/text%3E%0A%3Ctext%20text-anchor%3D%22middle%22%20x%3D%221271.49%22%20y%3D%22-73.75%22%20font-family%3D%22Arial%22%20font-size%3D%2214.00%22%20space%3D%22preserve%22%3EPretreatment%20reactor%20system%3C/text%3E%0A%3C/a%3E%0A%3C/g%3E%0A%3C/g%3E%0A%0A%3Cg%20id%3D%22node24%22%20class%3D%22node%22%20data-tippy-content%3D%22Electricity%20consumption%3A%2064.4%20kW%3Cbr%26gt%3BUtility%20cost%3A%205.04%20USD/hr%3Cbr%26gt%3BPurchase%20cost%3A%2018%2C552%20USD%3Cbr%26gt%3BInstalled%20equipment%20cost%3A%2042%2C670%20USD%22%3E%0A%3Cg%20id%3D%22a_node24%22%3E%3Ca%20title%3D%22%20Electricity%20consumption%3A%2064.4%20kW%3Cbr%26gt%3BUtility%20cost%3A%205.04%20USD/hr%3Cbr%26gt%3BPurchase%20cost%3A%2018%2C552%20USD%3Cbr%26gt%3BInstalled%20equipment%20cost%3A%2042%2C670%20USD%22%3E%0A%3Cdefs%3E%0A%3ClinearGradient%20id%3D%22node24_l_19%22%20gradientUnits%3D%22userSpaceOnUse%22%20x1%3D%221411.68%22%20y1%3D%22-42.05%22%20x2%3D%221589.68%22%20y2%3D%22-42.05%22%3E%0A%3Cstop%20offset%3D%220%22%20style%3D%22stop-color%3A%23fcfcfc%3Bstop-opacity%3A1.%3B%22%3E%3C/stop%3E%0A%3Cstop%20offset%3D%221%22%20style%3D%22stop-color%3A%23e6e6e6%3Bstop-opacity%3A1.%3B%22%3E%3C/stop%3E%0A%3C/linearGradient%3E%0A%3C/defs%3E%0A%3Cpolygon%20fill%3D%22url%28%23node24_l_19%29%22%20stroke%3D%22%234e4e4e%22%20points%3D%221589.68%2C-63.65%201411.68%2C-63.65%201411.68%2C-20.45%201589.68%2C-20.45%201589.68%2C-63.65%22%3E%3C/polygon%3E%0A%3Ctext%20text-anchor%3D%22middle%22%20x%3D%221500.68%22%20y%3D%22-44.5%22%20font-family%3D%22Arial%22%20font-size%3D%2214.00%22%20space%3D%22preserve%22%3EP201%3C/text%3E%0A%3Ctext%20text-anchor%3D%22middle%22%20x%3D%221500.68%22%20y%3D%22-28.75%22%20font-family%3D%22Arial%22%20font-size%3D%2214.00%22%20space%3D%22preserve%22%3EBlowdown%20discharge%20pump%3C/text%3E%0A%3C/a%3E%0A%3C/g%3E%0A%3C/g%3E%0A%0A%3Cg%20id%3D%22node25%22%20class%3D%22node%22%20data-tippy-content%3D%22Electricity%20consumption%3A%20173%20kW%3Cbr%26gt%3BUtility%20cost%3A%2013.5%20USD/hr%3Cbr%26gt%3BPurchase%20cost%3A%20270%2C189%20USD%3Cbr%26gt%3BInstalled%20equipment%20cost%3A%20495%2C375%20USD%22%3E%0A%3Cg%20id%3D%22a_node25%22%3E%3Ca%20title%3D%22%20Electricity%20consumption%3A%20173%20kW%3Cbr%26gt%3BUtility%20cost%3A%2013.5%20USD/hr%3Cbr%26gt%3BPurchase%20cost%3A%20270%2C189%20USD%3Cbr%26gt%3BInstalled%20equipment%20cost%3A%20495%2C375%20USD%22%3E%0A%3Cdefs%3E%0A%3ClinearGradient%20id%3D%22node25_l_20%22%20gradientUnits%3D%22userSpaceOnUse%22%20x1%3D%221723.57%22%20y1%3D%22-32.05%22%20x2%3D%221894.07%22%20y2%3D%22-32.05%22%3E%0A%3Cstop%20offset%3D%220%22%20style%3D%22stop-color%3A%23fcfcfc%3Bstop-opacity%3A1.%3B%22%3E%3C/stop%3E%0A%3Cstop%20offset%3D%221%22%20style%3D%22stop-color%3A%23e6e6e6%3Bstop-opacity%3A1.%3B%22%3E%3C/stop%3E%0A%3C/linearGradient%3E%0A%3C/defs%3E%0A%3Cpolygon%20fill%3D%22url%28%23node25_l_20%29%22%20stroke%3D%22%234e4e4e%22%20points%3D%221894.07%2C-53.65%201723.57%2C-53.65%201723.57%2C-10.45%201894.07%2C-10.45%201894.07%2C-53.65%22%3E%3C/polygon%3E%0A%3Ctext%20text-anchor%3D%22middle%22%20x%3D%221808.82%22%20y%3D%22-34.5%22%20font-family%3D%22Arial%22%20font-size%3D%2214.00%22%20space%3D%22preserve%22%3ET202%3C/text%3E%0A%3Ctext%20text-anchor%3D%22middle%22%20x%3D%221808.82%22%20y%3D%22-18.75%22%20font-family%3D%22Arial%22%20font-size%3D%2214.00%22%20space%3D%22preserve%22%3EOligomer%20conversion%20tank%3C/text%3E%0A%3C/a%3E%0A%3C/g%3E%0A%3C/g%3E%0A%0A%3Cg%20id%3D%22node26%22%20class%3D%22node%22%20data-tippy-content%3D%22Electricity%20consumption%3A%20180%20kW%3Cbr%26gt%3BUtility%20cost%3A%2014.1%20USD/hr%3Cbr%26gt%3BPurchase%20cost%3A%20562%2C659%20USD%3Cbr%26gt%3BInstalled%20equipment%20cost%3A%201%2C075%2C774%20USD%22%3E%0A%3Cg%20id%3D%22a_node26%22%3E%3Ca%20title%3D%22%20Electricity%20consumption%3A%20180%20kW%3Cbr%26gt%3BUtility%20cost%3A%2014.1%20USD/hr%3Cbr%26gt%3BPurchase%20cost%3A%20562%2C659%20USD%3Cbr%26gt%3BInstalled%20equipment%20cost%3A%201%2C075%2C774%20USD%22%3E%0A%3Cdefs%3E%0A%3ClinearGradient%20id%3D%22node26_l_21%22%20gradientUnits%3D%22userSpaceOnUse%22%20x1%3D%222024.96%22%20y1%3D%22-49.05%22%20x2%3D%222151.96%22%20y2%3D%22-49.05%22%3E%0A%3Cstop%20offset%3D%220%22%20style%3D%22stop-color%3A%23fcfcfc%3Bstop-opacity%3A1.%3B%22%3E%3C/stop%3E%0A%3Cstop%20offset%3D%221%22%20style%3D%22stop-color%3A%23e6e6e6%3Bstop-opacity%3A1.%3B%22%3E%3C/stop%3E%0A%3C/linearGradient%3E%0A%3C/defs%3E%0A%3Cpolygon%20fill%3D%22url%28%23node26_l_21%29%22%20stroke%3D%22%234e4e4e%22%20points%3D%222151.96%2C-70.65%202024.96%2C-70.65%202024.96%2C-27.45%202151.96%2C-27.45%202151.96%2C-70.65%22%3E%3C/polygon%3E%0A%3Ctext%20text-anchor%3D%22middle%22%20x%3D%222088.46%22%20y%3D%22-51.5%22%20font-family%3D%22Arial%22%20font-size%3D%2214.00%22%20space%3D%22preserve%22%3EF201%3C/text%3E%0A%3Ctext%20text-anchor%3D%22middle%22%20x%3D%222088.46%22%20y%3D%22-35.75%22%20font-family%3D%22Arial%22%20font-size%3D%2214.00%22%20space%3D%22preserve%22%3EPretreatment%20flash%3C/text%3E%0A%3C/a%3E%0A%3C/g%3E%0A%3C/g%3E%0A%0A%3Cg%20id%3D%22node27%22%20class%3D%22node%22%20data-tippy-content%3D%22Purchase%20cost%3A%20165%2C875%20USD%3Cbr%26gt%3BInstalled%20equipment%20cost%3A%20331%2C750%20USD%22%3E%0A%3Cg%20id%3D%22a_node27%22%3E%3Ca%20title%3D%22%20Purchase%20cost%3A%20165%2C875%20USD%3Cbr%26gt%3BInstalled%20equipment%20cost%3A%20331%2C750%20USD%22%3E%0A%3Cdefs%3E%0A%3ClinearGradient%20id%3D%22node27_l_22%22%20gradientUnits%3D%22userSpaceOnUse%22%20x1%3D%221732.57%22%20y1%3D%22-397.05%22%20x2%3D%221885.07%22%20y2%3D%22-397.05%22%3E%0A%3Cstop%20offset%3D%220%22%20style%3D%22stop-color%3A%23fcfcfc%3Bstop-opacity%3A1.%3B%22%3E%3C/stop%3E%0A%3Cstop%20offset%3D%221%22%20style%3D%22stop-color%3A%23e6e6e6%3Bstop-opacity%3A1.%3B%22%3E%3C/stop%3E%0A%3C/linearGradient%3E%0A%3C/defs%3E%0A%3Cpolygon%20fill%3D%22url%28%23node27_l_22%29%22%20stroke%3D%22%234e4e4e%22%20points%3D%221885.07%2C-418.65%201732.57%2C-418.65%201732.57%2C-375.45%201885.07%2C-375.45%201885.07%2C-418.65%22%3E%3C/polygon%3E%0A%3Ctext%20text-anchor%3D%22middle%22%20x%3D%221808.82%22%20y%3D%22-399.5%22%20font-family%3D%22Arial%22%20font-size%3D%2214.00%22%20space%3D%22preserve%22%3EAmmonia_storage%3C/text%3E%0A%3Ctext%20text-anchor%3D%22middle%22%20x%3D%221808.82%22%20y%3D%22-383.75%22%20font-family%3D%22Arial%22%20font-size%3D%2214.00%22%20space%3D%22preserve%22%3EAmmonia%20storage%20tank%3C/text%3E%0A%3C/a%3E%0A%3C/g%3E%0A%3C/g%3E%0A%0A%3Cg%20id%3D%22node28%22%20class%3D%22node%22%20data-tippy-content%3D%22Purchase%20cost%3A%203%2C216%20USD%3Cbr%26gt%3BInstalled%20equipment%20cost%3A%203%2C216%20USD%22%3E%0A%3Cg%20id%3D%22a_node28%22%3E%3Ca%20title%3D%22%20Purchase%20cost%3A%203%2C216%20USD%3Cbr%26gt%3BInstalled%20equipment%20cost%3A%203%2C216%20USD%22%3E%0A%3Cdefs%3E%0A%3ClinearGradient%20id%3D%22node28_l_23%22%20gradientUnits%3D%22userSpaceOnUse%22%20x1%3D%222032.46%22%20y1%3D%22-368.05%22%20x2%3D%222144.46%22%20y2%3D%22-368.05%22%3E%0A%3Cstop%20offset%3D%220%22%20style%3D%22stop-color%3A%23fcfcfc%3Bstop-opacity%3A1.%3B%22%3E%3C/stop%3E%0A%3Cstop%20offset%3D%221%22%20style%3D%22stop-color%3A%23e6e6e6%3Bstop-opacity%3A1.%3B%22%3E%3C/stop%3E%0A%3C/linearGradient%3E%0A%3C/defs%3E%0A%3Cpolygon%20fill%3D%22url%28%23node28_l_23%29%22%20stroke%3D%22%234e4e4e%22%20points%3D%222144.46%2C-389.65%202032.46%2C-389.65%202032.46%2C-346.45%202144.46%2C-346.45%202144.46%2C-389.65%22%3E%3C/polygon%3E%0A%3Ctext%20text-anchor%3D%22middle%22%20x%3D%222088.46%22%20y%3D%22-370.5%22%20font-family%3D%22Arial%22%20font-size%3D%2214.00%22%20space%3D%22preserve%22%3EM205%3C/text%3E%0A%3Ctext%20text-anchor%3D%22middle%22%20x%3D%222088.46%22%20y%3D%22-354.75%22%20font-family%3D%22Arial%22%20font-size%3D%2214.00%22%20space%3D%22preserve%22%3EAmmonia%20mixer%3C/text%3E%0A%3C/a%3E%0A%3C/g%3E%0A%3C/g%3E%0A%0A%3Cg%20id%3D%22node29%22%20class%3D%22node%22%20data-tippy-content%3D%22Electricity%20consumption%3A%204.6%20kW%3Cbr%26gt%3BUtility%20cost%3A%200.36%20USD/hr%3Cbr%26gt%3BPurchase%20cost%3A%20367%2C205%20USD%3Cbr%26gt%3BInstalled%20equipment%20cost%3A%20550%2C808%20USD%22%3E%0A%3Cg%20id%3D%22a_node29%22%3E%3Ca%20title%3D%22%20Electricity%20consumption%3A%204.6%20kW%3Cbr%26gt%3BUtility%20cost%3A%200.36%20USD/hr%3Cbr%26gt%3BPurchase%20cost%3A%20367%2C205%20USD%3Cbr%26gt%3BInstalled%20equipment%20cost%3A%20550%2C808%20USD%22%3E%0A%3Cdefs%3E%0A%3ClinearGradient%20id%3D%22node29_l_24%22%20gradientUnits%3D%22userSpaceOnUse%22%20x1%3D%222274.02%22%20y1%3D%22-214.05%22%20x2%3D%222428.77%22%20y2%3D%22-214.05%22%3E%0A%3Cstop%20offset%3D%220%22%20style%3D%22stop-color%3A%23fcfcfc%3Bstop-opacity%3A1.%3B%22%3E%3C/stop%3E%0A%3Cstop%20offset%3D%221%22%20style%3D%22stop-color%3A%23e6e6e6%3Bstop-opacity%3A1.%3B%22%3E%3C/stop%3E%0A%3C/linearGradient%3E%0A%3C/defs%3E%0A%3Cpolygon%20fill%3D%22url%28%23node29_l_24%29%22%20stroke%3D%22%234e4e4e%22%20points%3D%222428.77%2C-235.65%202274.02%2C-235.65%202274.02%2C-192.45%202428.77%2C-192.45%202428.77%2C-235.65%22%3E%3C/polygon%3E%0A%3Ctext%20text-anchor%3D%22middle%22%20x%3D%222351.4%22%20y%3D%22-216.5%22%20font-family%3D%22Arial%22%20font-size%3D%2214.00%22%20space%3D%22preserve%22%3ET203%3C/text%3E%0A%3Ctext%20text-anchor%3D%22middle%22%20x%3D%222351.4%22%20y%3D%22-200.75%22%20font-family%3D%22Arial%22%20font-size%3D%2214.00%22%20space%3D%22preserve%22%3EAmmonia%20addition%20tank%3C/text%3E%0A%3C/a%3E%0A%3C/g%3E%0A%3C/g%3E%0A%0A%3Cg%20id%3D%22node30%22%20class%3D%22node%22%20data-tippy-content%3D%22Electricity%20consumption%3A%2047%20kW%3Cbr%26gt%3BUtility%20cost%3A%203.67%20USD/hr%3Cbr%26gt%3BPurchase%20cost%3A%2016%2C126%20USD%3Cbr%26gt%3BInstalled%20equipment%20cost%3A%2037%2C090%20USD%22%3E%0A%3Cg%20id%3D%22a_node30%22%3E%3Ca%20title%3D%22%20Electricity%20consumption%3A%2047%20kW%3Cbr%26gt%3BUtility%20cost%3A%203.67%20USD/hr%3Cbr%26gt%3BPurchase%20cost%3A%2016%2C126%20USD%3Cbr%26gt%3BInstalled%20equipment%20cost%3A%2037%2C090%20USD%22%3E%0A%3Cdefs%3E%0A%3ClinearGradient%20id%3D%22node30_l_25%22%20gradientUnits%3D%22userSpaceOnUse%22%20x1%3D%222599.29%22%20y1%3D%22-368.05%22%20x2%3D%222724.79%22%20y2%3D%22-368.05%22%3E%0A%3Cstop%20offset%3D%220%22%20style%3D%22stop-color%3A%23fcfcfc%3Bstop-opacity%3A1.%3B%22%3E%3C/stop%3E%0A%3Cstop%20offset%3D%221%22%20style%3D%22stop-color%3A%23e6e6e6%3Bstop-opacity%3A1.%3B%22%3E%3C/stop%3E%0A%3C/linearGradient%3E%0A%3C/defs%3E%0A%3Cpolygon%20fill%3D%22url%28%23node30_l_25%29%22%20stroke%3D%22%234e4e4e%22%20points%3D%222724.79%2C-389.65%202599.29%2C-389.65%202599.29%2C-346.45%202724.79%2C-346.45%202724.79%2C-389.65%22%3E%3C/polygon%3E%0A%3Ctext%20text-anchor%3D%22middle%22%20x%3D%222662.04%22%20y%3D%22-370.5%22%20font-family%3D%22Arial%22%20font-size%3D%2214.00%22%20space%3D%22preserve%22%3EP202%3C/text%3E%0A%3Ctext%20text-anchor%3D%22middle%22%20x%3D%222662.04%22%20y%3D%22-354.75%22%20font-family%3D%22Arial%22%20font-size%3D%2214.00%22%20space%3D%22preserve%22%3EHydrolyzate%20pump%3C/text%3E%0A%3C/a%3E%0A%3C/g%3E%0A%3C/g%3E%0A%0A%3Cg%20id%3D%22node31%22%20class%3D%22node%22%20data-tippy-content%3D%22Electricity%20consumption%3A%2076.8%20kW%3Cbr%26gt%3BUtility%20cost%3A%206%20USD/hr%3Cbr%26gt%3BPurchase%20cost%3A%20114%2C762%20USD%3Cbr%26gt%3BInstalled%20equipment%20cost%3A%20195%2C096%20USD%22%3E%0A%3Cg%20id%3D%22a_node31%22%3E%3Ca%20title%3D%22%20Electricity%20consumption%3A%2076.8%20kW%3Cbr%26gt%3BUtility%20cost%3A%206%20USD/hr%3Cbr%26gt%3BPurchase%20cost%3A%20114%2C762%20USD%3Cbr%26gt%3BInstalled%20equipment%20cost%3A%20195%2C096%20USD%22%3E%0A%3Cdefs%3E%0A%3ClinearGradient%20id%3D%22node31_l_26%22%20gradientUnits%3D%22userSpaceOnUse%22%20x1%3D%222925.98%22%20y1%3D%22-534.05%22%20x2%3D%223101.73%22%20y2%3D%22-534.05%22%3E%0A%3Cstop%20offset%3D%220%22%20style%3D%22stop-color%3A%23fcfcfc%3Bstop-opacity%3A1.%3B%22%3E%3C/stop%3E%0A%3Cstop%20offset%3D%221%22%20style%3D%22stop-color%3A%23e6e6e6%3Bstop-opacity%3A1.%3B%22%3E%3C/stop%3E%0A%3C/linearGradient%3E%0A%3C/defs%3E%0A%3Cpolygon%20fill%3D%22url%28%23node31_l_26%29%22%20stroke%3D%22%234e4e4e%22%20points%3D%223101.73%2C-555.65%202925.98%2C-555.65%202925.98%2C-512.45%203101.73%2C-512.45%203101.73%2C-555.65%22%3E%3C/polygon%3E%0A%3Ctext%20text-anchor%3D%22middle%22%20x%3D%223013.86%22%20y%3D%22-536.5%22%20font-family%3D%22Arial%22%20font-size%3D%2214.00%22%20space%3D%22preserve%22%3EM301%3C/text%3E%0A%3Ctext%20text-anchor%3D%22middle%22%20x%3D%223013.86%22%20y%3D%22-520.75%22%20font-family%3D%22Arial%22%20font-size%3D%2214.00%22%20space%3D%22preserve%22%3EEnzyme%20hydrolysate%20mixer%3C/text%3E%0A%3C/a%3E%0A%3C/g%3E%0A%3C/g%3E%0A%0A%3Cg%20id%3D%22node32%22%20class%3D%22node%22%20data-tippy-content%3D%22Cooling%20duty%3A%20-3.48e%2B04%20MJ/hr%3Cbr%26gt%3BUtility%20cost%3A%2011.6%20USD/hr%3Cbr%26gt%3BPurchase%20cost%3A%2090%2C664%20USD%3Cbr%26gt%3BInstalled%20equipment%20cost%3A%20199%2C461%20USD%22%3E%0A%3Cg%20id%3D%22a_node32%22%3E%3Ca%20title%3D%22%20Cooling%20duty%3A%20-3.48e%2B04%20MJ/hr%3Cbr%26gt%3BUtility%20cost%3A%2011.6%20USD/hr%3Cbr%26gt%3BPurchase%20cost%3A%2090%2C664%20USD%3Cbr%26gt%3BInstalled%20equipment%20cost%3A%20199%2C461%20USD%22%3E%0A%3Cdefs%3E%0A%3ClinearGradient%20id%3D%22node32_l_27%22%20gradientUnits%3D%22userSpaceOnUse%22%20x1%3D%223149.23%22%20y1%3D%22-536.05%22%20x2%3D%223333.23%22%20y2%3D%22-536.05%22%3E%0A%3Cstop%20offset%3D%220%22%20style%3D%22stop-color%3A%23fcfcfc%3Bstop-opacity%3A1.%3B%22%3E%3C/stop%3E%0A%3Cstop%20offset%3D%221%22%20style%3D%22stop-color%3A%23e6e6e6%3Bstop-opacity%3A1.%3B%22%3E%3C/stop%3E%0A%3C/linearGradient%3E%0A%3C/defs%3E%0A%3Cpolygon%20fill%3D%22url%28%23node32_l_27%29%22%20stroke%3D%22%234e4e4e%22%20points%3D%223333.23%2C-557.65%203149.23%2C-557.65%203149.23%2C-514.45%203333.23%2C-514.45%203333.23%2C-557.65%22%3E%3C/polygon%3E%0A%3Ctext%20text-anchor%3D%22middle%22%20x%3D%223241.23%22%20y%3D%22-538.5%22%20font-family%3D%22Arial%22%20font-size%3D%2214.00%22%20space%3D%22preserve%22%3EH301%3C/text%3E%0A%3Ctext%20text-anchor%3D%22middle%22%20x%3D%223241.23%22%20y%3D%22-522.75%22%20font-family%3D%22Arial%22%20font-size%3D%2214.00%22%20space%3D%22preserve%22%3EHydrolysate%20heat%20exchanger%3C/text%3E%0A%3C/a%3E%0A%3C/g%3E%0A%3C/g%3E%0A%0A%3Cg%20id%3D%22node33%22%20class%3D%22node%22%20data-tippy-content%3D%22Electricity%20consumption%3A%20279%20kW%3Cbr%26gt%3BUtility%20cost%3A%2021.8%20USD/hr%3Cbr%26gt%3BPurchase%20cost%3A%204%2C971%2C145%20USD%3Cbr%26gt%3BInstalled%20equipment%20cost%3A%209%2C956%2C521%20USD%22%3E%0A%3Cg%20id%3D%22a_node33%22%3E%3Ca%20title%3D%22%20Electricity%20consumption%3A%20279%20kW%3Cbr%26gt%3BUtility%20cost%3A%2021.8%20USD/hr%3Cbr%26gt%3BPurchase%20cost%3A%204%2C971%2C145%20USD%3Cbr%26gt%3BInstalled%20equipment%20cost%3A%209%2C956%2C521%20USD%22%3E%0A%3Cdefs%3E%0A%3ClinearGradient%20id%3D%22node33_l_28%22%20gradientUnits%3D%22userSpaceOnUse%22%20x1%3D%223374.73%22%20y1%3D%22-547.05%22%20x2%3D%223575.23%22%20y2%3D%22-547.05%22%3E%0A%3Cstop%20offset%3D%220%22%20style%3D%22stop-color%3A%23fcfcfc%3Bstop-opacity%3A1.%3B%22%3E%3C/stop%3E%0A%3Cstop%20offset%3D%221%22%20style%3D%22stop-color%3A%23e6e6e6%3Bstop-opacity%3A1.%3B%22%3E%3C/stop%3E%0A%3C/linearGradient%3E%0A%3C/defs%3E%0A%3Cpolygon%20fill%3D%22url%28%23node33_l_28%29%22%20stroke%3D%22%234e4e4e%22%20points%3D%223575.23%2C-568.65%203374.73%2C-568.65%203374.73%2C-525.45%203575.23%2C-525.45%203575.23%2C-568.65%22%3E%3C/polygon%3E%0A%3Ctext%20text-anchor%3D%22middle%22%20x%3D%223474.98%22%20y%3D%22-549.5%22%20font-family%3D%22Arial%22%20font-size%3D%2214.00%22%20space%3D%22preserve%22%3ER301%3C/text%3E%0A%3Ctext%20text-anchor%3D%22middle%22%20x%3D%223474.98%22%20y%3D%22-533.75%22%20font-family%3D%22Arial%22%20font-size%3D%2214.00%22%20space%3D%22preserve%22%3EContinuous%20presaccharification%3C/text%3E%0A%3C/a%3E%0A%3C/g%3E%0A%3C/g%3E%0A%0A%3Cg%20id%3D%22node34%22%20class%3D%22node%22%20data-tippy-content%3D%22Electricity%20consumption%3A%206.6%20kW%3Cbr%26gt%3BUtility%20cost%3A%200.516%20USD/hr%3Cbr%26gt%3BPurchase%20cost%3A%2087%2C331%20USD%3Cbr%26gt%3BInstalled%20equipment%20cost%3A%20206%2C206%20USD%22%3E%0A%3Cg%20id%3D%22a_node34%22%3E%3Ca%20title%3D%22%20Electricity%20consumption%3A%206.6%20kW%3Cbr%26gt%3BUtility%20cost%3A%200.516%20USD/hr%3Cbr%26gt%3BPurchase%20cost%3A%2087%2C331%20USD%3Cbr%26gt%3BInstalled%20equipment%20cost%3A%20206%2C206%20USD%22%3E%0A%3Cdefs%3E%0A%3ClinearGradient%20id%3D%22node34_l_29%22%20gradientUnits%3D%22userSpaceOnUse%22%20x1%3D%223181.86%22%20y1%3D%22-664.05%22%20x2%3D%223300.61%22%20y2%3D%22-664.05%22%3E%0A%3Cstop%20offset%3D%220%22%20style%3D%22stop-color%3A%23fcfcfc%3Bstop-opacity%3A1.%3B%22%3E%3C/stop%3E%0A%3Cstop%20offset%3D%221%22%20style%3D%22stop-color%3A%23e6e6e6%3Bstop-opacity%3A1.%3B%22%3E%3C/stop%3E%0A%3C/linearGradient%3E%0A%3C/defs%3E%0A%3Cpolygon%20fill%3D%22url%28%23node34_l_29%29%22%20stroke%3D%22%234e4e4e%22%20points%3D%223300.61%2C-685.65%203181.86%2C-685.65%203181.86%2C-642.45%203300.61%2C-642.45%203300.61%2C-685.65%22%3E%3C/polygon%3E%0A%3Ctext%20text-anchor%3D%22middle%22%20x%3D%223241.23%22%20y%3D%22-666.5%22%20font-family%3D%22Arial%22%20font-size%3D%2214.00%22%20space%3D%22preserve%22%3ECSL_storage%3C/text%3E%0A%3Ctext%20text-anchor%3D%22middle%22%20x%3D%223241.23%22%20y%3D%22-650.75%22%20font-family%3D%22Arial%22%20font-size%3D%2214.00%22%20space%3D%22preserve%22%3ECSLStorage%20tank%3C/text%3E%0A%3C/a%3E%0A%3C/g%3E%0A%3C/g%3E%0A%0A%3Cg%20id%3D%22node35%22%20class%3D%22node%22%20data-tippy-content%3D%22No%20capital%20costs%20or%20utilities%22%3E%0A%3Cg%20id%3D%22a_node35%22%3E%3Ca%20title%3D%22%20No%20capital%20costs%20or%20utilities%22%3E%0A%3Cdefs%3E%0A%3ClinearGradient%20id%3D%22node35_l_30%22%20gradientUnits%3D%22userSpaceOnUse%22%20x1%3D%223392.96%22%20y1%3D%22-664.05%22%20x2%3D%223516%22%20y2%3D%22-664.05%22%3E%0A%3Cstop%20offset%3D%220%22%20style%3D%22stop-color%3A%23fcfcfc%3Bstop-opacity%3A1.%3B%22%3E%3C/stop%3E%0A%3Cstop%20offset%3D%221%22%20style%3D%22stop-color%3A%23e6e6e6%3Bstop-opacity%3A1.%3B%22%3E%3C/stop%3E%0A%3C/linearGradient%3E%0A%3C/defs%3E%0A%3Cpolygon%20fill%3D%22url%28%23node35_l_30%29%22%20stroke%3D%22%234e4e4e%22%20points%3D%223392.96%2C-664.05%203516%2C-608.18%203516%2C-719.91%203392.96%2C-664.05%22%3E%3C/polygon%3E%0A%3Ctext%20text-anchor%3D%22middle%22%20x%3D%223474.98%22%20y%3D%22-666.5%22%20font-family%3D%22Arial%22%20font-size%3D%2214.00%22%20space%3D%22preserve%22%3ES302%3C/text%3E%0A%3Ctext%20text-anchor%3D%22middle%22%20x%3D%223474.98%22%20y%3D%22-650.75%22%20font-family%3D%22Arial%22%20font-size%3D%2214.00%22%20space%3D%22preserve%22%3ESplitter%3C/text%3E%0A%3C/a%3E%0A%3C/g%3E%0A%3C/g%3E%0A%0A%3Cg%20id%3D%22node36%22%20class%3D%22node%22%20data-tippy-content%3D%22Electricity%20consumption%3A%204.13%20kW%3Cbr%26gt%3BUtility%20cost%3A%200.323%20USD/hr%3Cbr%26gt%3BPurchase%20cost%3A%20142%2C263%20USD%3Cbr%26gt%3BInstalled%20equipment%20cost%3A%20253%2C971%20USD%22%3E%0A%3Cg%20id%3D%22a_node36%22%3E%3Ca%20title%3D%22%20Electricity%20consumption%3A%204.13%20kW%3Cbr%26gt%3BUtility%20cost%3A%200.323%20USD/hr%3Cbr%26gt%3BPurchase%20cost%3A%20142%2C263%20USD%3Cbr%26gt%3BInstalled%20equipment%20cost%3A%20253%2C971%20USD%22%3E%0A%3Cdefs%3E%0A%3ClinearGradient%20id%3D%22node36_l_31%22%20gradientUnits%3D%22userSpaceOnUse%22%20x1%3D%223181.11%22%20y1%3D%22-788.05%22%20x2%3D%223301.36%22%20y2%3D%22-788.05%22%3E%0A%3Cstop%20offset%3D%220%22%20style%3D%22stop-color%3A%23fcfcfc%3Bstop-opacity%3A1.%3B%22%3E%3C/stop%3E%0A%3Cstop%20offset%3D%221%22%20style%3D%22stop-color%3A%23e6e6e6%3Bstop-opacity%3A1.%3B%22%3E%3C/stop%3E%0A%3C/linearGradient%3E%0A%3C/defs%3E%0A%3Cpolygon%20fill%3D%22url%28%23node36_l_31%29%22%20stroke%3D%22%234e4e4e%22%20points%3D%223301.36%2C-809.65%203181.11%2C-809.65%203181.11%2C-766.45%203301.36%2C-766.45%203301.36%2C-809.65%22%3E%3C/polygon%3E%0A%3Ctext%20text-anchor%3D%22middle%22%20x%3D%223241.23%22%20y%3D%22-790.5%22%20font-family%3D%22Arial%22%20font-size%3D%2214.00%22%20space%3D%22preserve%22%3EDAP_storage%3C/text%3E%0A%3Ctext%20text-anchor%3D%22middle%22%20x%3D%223241.23%22%20y%3D%22-774.75%22%20font-family%3D%22Arial%22%20font-size%3D%2214.00%22%20space%3D%22preserve%22%3EDAPStorage%20tank%3C/text%3E%0A%3C/a%3E%0A%3C/g%3E%0A%3C/g%3E%0A%0A%3Cg%20id%3D%22node37%22%20class%3D%22node%22%20data-tippy-content%3D%22No%20capital%20costs%20or%20utilities%22%3E%0A%3Cg%20id%3D%22a_node37%22%3E%3Ca%20title%3D%22%20No%20capital%20costs%20or%20utilities%22%3E%0A%3Cdefs%3E%0A%3ClinearGradient%20id%3D%22node37_l_32%22%20gradientUnits%3D%22userSpaceOnUse%22%20x1%3D%223392.96%22%20y1%3D%22-812.05%22%20x2%3D%223516%22%20y2%3D%22-812.05%22%3E%0A%3Cstop%20offset%3D%220%22%20style%3D%22stop-color%3A%23fcfcfc%3Bstop-opacity%3A1.%3B%22%3E%3C/stop%3E%0A%3Cstop%20offset%3D%221%22%20style%3D%22stop-color%3A%23e6e6e6%3Bstop-opacity%3A1.%3B%22%3E%3C/stop%3E%0A%3C/linearGradient%3E%0A%3C/defs%3E%0A%3Cpolygon%20fill%3D%22url%28%23node37_l_32%29%22%20stroke%3D%22%234e4e4e%22%20points%3D%223392.96%2C-812.05%203516%2C-756.18%203516%2C-867.91%203392.96%2C-812.05%22%3E%3C/polygon%3E%0A%3Ctext%20text-anchor%3D%22middle%22%20x%3D%223474.98%22%20y%3D%22-814.5%22%20font-family%3D%22Arial%22%20font-size%3D%2214.00%22%20space%3D%22preserve%22%3ES301%3C/text%3E%0A%3Ctext%20text-anchor%3D%22middle%22%20x%3D%223474.98%22%20y%3D%22-798.75%22%20font-family%3D%22Arial%22%20font-size%3D%2214.00%22%20space%3D%22preserve%22%3ESplitter%3C/text%3E%0A%3C/a%3E%0A%3C/g%3E%0A%3C/g%3E%0A%0A%3Cg%20id%3D%22node38%22%20class%3D%22node%22%20data-tippy-content%3D%22Electricity%20consumption%3A%201.22e%2B03%20kW%3Cbr%26gt%3BCooling%20duty%3A%20-4.08e%2B04%20MJ/hr%3Cbr%26gt%3BUtility%20cost%3A%20300%20USD/hr%3Cbr%26gt%3BPurchase%20cost%3A%2011%2C800%2C918%20USD%3Cbr%26gt%3BInstalled%20equipment%20cost%3A%2018%2C152%2C833%20USD%22%3E%0A%3Cg%20id%3D%22a_node38%22%3E%3Ca%20title%3D%22%20Electricity%20consumption%3A%201.22e%2B03%20kW%3Cbr%26gt%3BCooling%20duty%3A%20-4.08e%2B04%20MJ/hr%3Cbr%26gt%3BUtility%20cost%3A%20300%20USD/hr%3Cbr%26gt%3BPurchase%20cost%3A%2011%2C800%2C918%20USD%3Cbr%26gt%3BInstalled%20equipment%20cost%3A%2018%2C152%2C833%20USD%22%3E%0A%3Cdefs%3E%0A%3ClinearGradient%20id%3D%22node38_l_33%22%20gradientUnits%3D%22userSpaceOnUse%22%20x1%3D%223630.23%22%20y1%3D%22-664.05%22%20x2%3D%223865.23%22%20y2%3D%22-664.05%22%3E%0A%3Cstop%20offset%3D%220%22%20style%3D%22stop-color%3A%23fcfcfc%3Bstop-opacity%3A1.%3B%22%3E%3C/stop%3E%0A%3Cstop%20offset%3D%221%22%20style%3D%22stop-color%3A%23e6e6e6%3Bstop-opacity%3A1.%3B%22%3E%3C/stop%3E%0A%3C/linearGradient%3E%0A%3C/defs%3E%0A%3Cpolygon%20fill%3D%22url%28%23node38_l_33%29%22%20stroke%3D%22%234e4e4e%22%20points%3D%223865.23%2C-685.65%203630.23%2C-685.65%203630.23%2C-642.45%203865.23%2C-642.45%203865.23%2C-685.65%22%3E%3C/polygon%3E%0A%3Ctext%20text-anchor%3D%22middle%22%20x%3D%223747.73%22%20y%3D%22-666.5%22%20font-family%3D%22Arial%22%20font-size%3D%2214.00%22%20space%3D%22preserve%22%3ER303%3C/text%3E%0A%3Ctext%20text-anchor%3D%22middle%22%20x%3D%223747.73%22%20y%3D%22-650.75%22%20font-family%3D%22Arial%22%20font-size%3D%2214.00%22%20space%3D%22preserve%22%3ESaccharification%20and%20co%20fermentation%3C/text%3E%0A%3C/a%3E%0A%3C/g%3E%0A%3C/g%3E%0A%0A%3Cg%20id%3D%22node39%22%20class%3D%22node%22%20data-tippy-content%3D%22Electricity%20consumption%3A%2075%20kW%3Cbr%26gt%3BCooling%20duty%3A%20-1.98e%2B03%20MJ/hr%3Cbr%26gt%3BUtility%20cost%3A%2015.8%20USD/hr%3Cbr%26gt%3BPurchase%20cost%3A%20335%2C531%20USD%3Cbr%26gt%3BInstalled%20equipment%20cost%3A%20622%2C627%20USD%22%3E%0A%3Cg%20id%3D%22a_node39%22%3E%3Ca%20title%3D%22%20Electricity%20consumption%3A%2075%20kW%3Cbr%26gt%3BCooling%20duty%3A%20-1.98e%2B03%20MJ/hr%3Cbr%26gt%3BUtility%20cost%3A%2015.8%20USD/hr%3Cbr%26gt%3BPurchase%20cost%3A%20335%2C531%20USD%3Cbr%26gt%3BInstalled%20equipment%20cost%3A%20622%2C627%20USD%22%3E%0A%3Cdefs%3E%0A%3ClinearGradient%20id%3D%22node39_l_34%22%20gradientUnits%3D%22userSpaceOnUse%22%20x1%3D%223906.73%22%20y1%3D%22-766.05%22%20x2%3D%223984.23%22%20y2%3D%22-766.05%22%3E%0A%3Cstop%20offset%3D%220%22%20style%3D%22stop-color%3A%23fcfcfc%3Bstop-opacity%3A1.%3B%22%3E%3C/stop%3E%0A%3Cstop%20offset%3D%221%22%20style%3D%22stop-color%3A%23e6e6e6%3Bstop-opacity%3A1.%3B%22%3E%3C/stop%3E%0A%3C/linearGradient%3E%0A%3C/defs%3E%0A%3Cpolygon%20fill%3D%22url%28%23node39_l_34%29%22%20stroke%3D%22%234e4e4e%22%20points%3D%223984.23%2C-787.65%203906.73%2C-787.65%203906.73%2C-744.45%203984.23%2C-744.45%203984.23%2C-787.65%22%3E%3C/polygon%3E%0A%3Ctext%20text-anchor%3D%22middle%22%20x%3D%223945.48%22%20y%3D%22-768.5%22%20font-family%3D%22Arial%22%20font-size%3D%2214.00%22%20space%3D%22preserve%22%3ER302%3C/text%3E%0A%3Ctext%20text-anchor%3D%22middle%22%20x%3D%223945.48%22%20y%3D%22-752.75%22%20font-family%3D%22Arial%22%20font-size%3D%2214.00%22%20space%3D%22preserve%22%3ESeed%20train%3C/text%3E%0A%3C/a%3E%0A%3C/g%3E%0A%3C/g%3E%0A%0A%3Cg%20id%3D%22node40%22%20class%3D%22node%22%20data-tippy-content%3D%22Electricity%20consumption%3A%2016.9%20kW%3Cbr%26gt%3BUtility%20cost%3A%201.32%20USD/hr%3Cbr%26gt%3BPurchase%20cost%3A%20470%2C742%20USD%3Cbr%26gt%3BInstalled%20equipment%20cost%3A%20841%2C608%20USD%22%3E%0A%3Cg%20id%3D%22a_node40%22%3E%3Ca%20title%3D%22%20Electricity%20consumption%3A%2016.9%20kW%3Cbr%26gt%3BUtility%20cost%3A%201.32%20USD/hr%3Cbr%26gt%3BPurchase%20cost%3A%20470%2C742%20USD%3Cbr%26gt%3BInstalled%20equipment%20cost%3A%20841%2C608%20USD%22%3E%0A%3Cdefs%3E%0A%3ClinearGradient%20id%3D%22node40_l_35%22%20gradientUnits%3D%22userSpaceOnUse%22%20x1%3D%224044.15%22%20y1%3D%22-644.05%22%20x2%3D%224150.15%22%20y2%3D%22-644.05%22%3E%0A%3Cstop%20offset%3D%220%22%20style%3D%22stop-color%3A%23fcfcfc%3Bstop-opacity%3A1.%3B%22%3E%3C/stop%3E%0A%3Cstop%20offset%3D%221%22%20style%3D%22stop-color%3A%23e6e6e6%3Bstop-opacity%3A1.%3B%22%3E%3C/stop%3E%0A%3C/linearGradient%3E%0A%3C/defs%3E%0A%3Cpolygon%20fill%3D%22url%28%23node40_l_35%29%22%20stroke%3D%22%234e4e4e%22%20points%3D%224150.15%2C-665.65%204044.15%2C-665.65%204044.15%2C-622.45%204150.15%2C-622.45%204150.15%2C-665.65%22%3E%3C/polygon%3E%0A%3Ctext%20text-anchor%3D%22middle%22%20x%3D%224097.15%22%20y%3D%22-646.5%22%20font-family%3D%22Arial%22%20font-size%3D%2214.00%22%20space%3D%22preserve%22%3ET301%3C/text%3E%0A%3Ctext%20text-anchor%3D%22middle%22%20x%3D%224097.15%22%20y%3D%22-630.75%22%20font-family%3D%22Arial%22%20font-size%3D%2214.00%22%20space%3D%22preserve%22%3ESeed%20hold%20tank%3C/text%3E%0A%3C/a%3E%0A%3C/g%3E%0A%3C/g%3E%0A%0A%3Cg%20id%3D%22node41%22%20class%3D%22node%22%20data-tippy-content%3D%22No%20capital%20costs%20or%20utilities%22%3E%0A%3Cg%20id%3D%22a_node41%22%3E%3Ca%20title%3D%22%20No%20capital%20costs%20or%20utilities%22%3E%0A%3Cdefs%3E%0A%3ClinearGradient%20id%3D%22node41_l_36%22%20gradientUnits%3D%22userSpaceOnUse%22%20x1%3D%224061.44%22%20y1%3D%22-757.05%22%20x2%3D%224168.57%22%20y2%3D%22-757.05%22%3E%0A%3Cstop%20offset%3D%220%22%20style%3D%22stop-color%3A%23fcfcfc%3Bstop-opacity%3A1.%3B%22%3E%3C/stop%3E%0A%3Cstop%20offset%3D%221%22%20style%3D%22stop-color%3A%23e6e6e6%3Bstop-opacity%3A1.%3B%22%3E%3C/stop%3E%0A%3C/linearGradient%3E%0A%3C/defs%3E%0A%3Cpolygon%20fill%3D%22url%28%23node41_l_36%29%22%20stroke%3D%22%234e4e4e%22%20points%3D%224168.57%2C-757.05%204061.44%2C-812.91%204061.44%2C-701.18%204168.57%2C-757.05%22%3E%3C/polygon%3E%0A%3Ctext%20text-anchor%3D%22middle%22%20x%3D%224097.15%22%20y%3D%22-759.5%22%20font-family%3D%22Arial%22%20font-size%3D%2214.00%22%20space%3D%22preserve%22%3EM304%3C/text%3E%0A%3Ctext%20text-anchor%3D%22middle%22%20x%3D%224097.15%22%20y%3D%22-743.75%22%20font-family%3D%22Arial%22%20font-size%3D%2214.00%22%20space%3D%22preserve%22%3EMixer%3C/text%3E%0A%3C/a%3E%0A%3C/g%3E%0A%3C/g%3E%0A%0A%3Cg%20id%3D%22node42%22%20class%3D%22node%22%20data-tippy-content%3D%22Purchase%20cost%3A%20211%2C246%20USD%3Cbr%26gt%3BInstalled%20equipment%20cost%3A%20506%2C992%20USD%22%3E%0A%3Cg%20id%3D%22a_node42%22%3E%3Ca%20title%3D%22%20Purchase%20cost%3A%20211%2C246%20USD%3Cbr%26gt%3BInstalled%20equipment%20cost%3A%20506%2C992%20USD%22%3E%0A%3Cdefs%3E%0A%3ClinearGradient%20id%3D%22node42_l_37%22%20gradientUnits%3D%22userSpaceOnUse%22%20x1%3D%224276.07%22%20y1%3D%22-612.05%22%20x2%3D%224375.32%22%20y2%3D%22-612.05%22%3E%0A%3Cstop%20offset%3D%220%22%20style%3D%22stop-color%3A%23fcfcfc%3Bstop-opacity%3A1.%3B%22%3E%3C/stop%3E%0A%3Cstop%20offset%3D%221%22%20style%3D%22stop-color%3A%23e6e6e6%3Bstop-opacity%3A1.%3B%22%3E%3C/stop%3E%0A%3C/linearGradient%3E%0A%3C/defs%3E%0A%3Cpolygon%20fill%3D%22url%28%23node42_l_37%29%22%20stroke%3D%22%234e4e4e%22%20points%3D%224375.32%2C-633.65%204276.07%2C-633.65%204276.07%2C-590.45%204375.32%2C-590.45%204375.32%2C-633.65%22%3E%3C/polygon%3E%0A%3Ctext%20text-anchor%3D%22middle%22%20x%3D%224325.7%22%20y%3D%22-614.5%22%20font-family%3D%22Arial%22%20font-size%3D%2214.00%22%20space%3D%22preserve%22%3ED401%3C/text%3E%0A%3Ctext%20text-anchor%3D%22middle%22%20x%3D%224325.7%22%20y%3D%22-598.75%22%20font-family%3D%22Arial%22%20font-size%3D%2214.00%22%20space%3D%22preserve%22%3EVent%20scrubber%3C/text%3E%0A%3C/a%3E%0A%3C/g%3E%0A%3C/g%3E%0A%0A%3Cg%20id%3D%22node43%22%20class%3D%22node%22%20data-tippy-content%3D%22No%20capital%20costs%20or%20utilities%22%3E%0A%3Cg%20id%3D%22a_node43%22%3E%3Ca%20title%3D%22%20No%20capital%20costs%20or%20utilities%22%3E%0A%3Cdefs%3E%0A%3ClinearGradient%20id%3D%22node43_l_38%22%20gradientUnits%3D%22userSpaceOnUse%22%20x1%3D%224456.28%22%20y1%3D%22-552.05%22%20x2%3D%224563.41%22%20y2%3D%22-552.05%22%3E%0A%3Cstop%20offset%3D%220%22%20style%3D%22stop-color%3A%23fcfcfc%3Bstop-opacity%3A1.%3B%22%3E%3C/stop%3E%0A%3Cstop%20offset%3D%221%22%20style%3D%22stop-color%3A%23e6e6e6%3Bstop-opacity%3A1.%3B%22%3E%3C/stop%3E%0A%3C/linearGradient%3E%0A%3C/defs%3E%0A%3Cpolygon%20fill%3D%22url%28%23node43_l_38%29%22%20stroke%3D%22%234e4e4e%22%20points%3D%224563.41%2C-552.05%204456.28%2C-607.91%204456.28%2C-496.18%204563.41%2C-552.05%22%3E%3C/polygon%3E%0A%3Ctext%20text-anchor%3D%22middle%22%20x%3D%224491.99%22%20y%3D%22-554.5%22%20font-family%3D%22Arial%22%20font-size%3D%2214.00%22%20space%3D%22preserve%22%3EM401%3C/text%3E%0A%3Ctext%20text-anchor%3D%22middle%22%20x%3D%224491.99%22%20y%3D%22-538.75%22%20font-family%3D%22Arial%22%20font-size%3D%2214.00%22%20space%3D%22preserve%22%3EMixer%3C/text%3E%0A%3C/a%3E%0A%3C/g%3E%0A%3C/g%3E%0A%0A%3Cg%20id%3D%22node44%22%20class%3D%22node%22%20data-tippy-content%3D%22Electricity%20consumption%3A%20101%20kW%3Cbr%26gt%3BUtility%20cost%3A%207.91%20USD/hr%3Cbr%26gt%3BPurchase%20cost%3A%20724%2C983%20USD%3Cbr%26gt%3BInstalled%20equipment%20cost%3A%201%2C297%2C587%20USD%22%3E%0A%3Cg%20id%3D%22a_node44%22%3E%3Ca%20title%3D%22%20Electricity%20consumption%3A%20101%20kW%3Cbr%26gt%3BUtility%20cost%3A%207.91%20USD/hr%3Cbr%26gt%3BPurchase%20cost%3A%20724%2C983%20USD%3Cbr%26gt%3BInstalled%20equipment%20cost%3A%201%2C297%2C587%20USD%22%3E%0A%3Cdefs%3E%0A%3ClinearGradient%20id%3D%22node44_l_39%22%20gradientUnits%3D%22userSpaceOnUse%22%20x1%3D%224604.91%22%20y1%3D%22-614.05%22%20x2%3D%224678.66%22%20y2%3D%22-614.05%22%3E%0A%3Cstop%20offset%3D%220%22%20style%3D%22stop-color%3A%23fcfcfc%3Bstop-opacity%3A1.%3B%22%3E%3C/stop%3E%0A%3Cstop%20offset%3D%221%22%20style%3D%22stop-color%3A%23e6e6e6%3Bstop-opacity%3A1.%3B%22%3E%3C/stop%3E%0A%3C/linearGradient%3E%0A%3C/defs%3E%0A%3Cpolygon%20fill%3D%22url%28%23node44_l_39%29%22%20stroke%3D%22%234e4e4e%22%20points%3D%224678.66%2C-635.65%204604.91%2C-635.65%204604.91%2C-592.45%204678.66%2C-592.45%204678.66%2C-635.65%22%3E%3C/polygon%3E%0A%3Ctext%20text-anchor%3D%22middle%22%20x%3D%224641.78%22%20y%3D%22-616.5%22%20font-family%3D%22Arial%22%20font-size%3D%2214.00%22%20space%3D%22preserve%22%3ET302%3C/text%3E%0A%3Ctext%20text-anchor%3D%22middle%22%20x%3D%224641.78%22%20y%3D%22-600.75%22%20font-family%3D%22Arial%22%20font-size%3D%2214.00%22%20space%3D%22preserve%22%3EBeer%20tank%3C/text%3E%0A%3C/a%3E%0A%3C/g%3E%0A%3C/g%3E%0A%0A%3Cg%20id%3D%22node45%22%20class%3D%22node%22%20data-tippy-content%3D%22Electricity%20consumption%3A%2076.7%20kW%3Cbr%26gt%3BUtility%20cost%3A%206%20USD/hr%3Cbr%26gt%3BPurchase%20cost%3A%2023%2C064%20USD%3Cbr%26gt%3BInstalled%20equipment%20cost%3A%2062%2C079%20USD%22%3E%0A%3Cg%20id%3D%22a_node45%22%3E%3Ca%20title%3D%22%20Electricity%20consumption%3A%2076.7%20kW%3Cbr%26gt%3BUtility%20cost%3A%206%20USD/hr%3Cbr%26gt%3BPurchase%20cost%3A%2023%2C064%20USD%3Cbr%26gt%3BInstalled%20equipment%20cost%3A%2062%2C079%20USD%22%3E%0A%3Cdefs%3E%0A%3ClinearGradient%20id%3D%22node45_l_40%22%20gradientUnits%3D%22userSpaceOnUse%22%20x1%3D%224725.41%22%20y1%3D%22-648.05%22%20x2%3D%224777.41%22%20y2%3D%22-648.05%22%3E%0A%3Cstop%20offset%3D%220%22%20style%3D%22stop-color%3A%23fcfcfc%3Bstop-opacity%3A1.%3B%22%3E%3C/stop%3E%0A%3Cstop%20offset%3D%221%22%20style%3D%22stop-color%3A%23e6e6e6%3Bstop-opacity%3A1.%3B%22%3E%3C/stop%3E%0A%3C/linearGradient%3E%0A%3C/defs%3E%0A%3Cpolygon%20fill%3D%22url%28%23node45_l_40%29%22%20stroke%3D%22%234e4e4e%22%20points%3D%224777.41%2C-669.65%204725.41%2C-669.65%204725.41%2C-626.45%204777.41%2C-626.45%204777.41%2C-669.65%22%3E%3C/polygon%3E%0A%3Ctext%20text-anchor%3D%22middle%22%20x%3D%224751.41%22%20y%3D%22-650.5%22%20font-family%3D%22Arial%22%20font-size%3D%2214.00%22%20space%3D%22preserve%22%3EP401%3C/text%3E%0A%3Ctext%20text-anchor%3D%22middle%22%20x%3D%224751.41%22%20y%3D%22-634.75%22%20font-family%3D%22Arial%22%20font-size%3D%2214.00%22%20space%3D%22preserve%22%3EPump%3C/text%3E%0A%3C/a%3E%0A%3C/g%3E%0A%3C/g%3E%0A%0A%3Cg%20id%3D%22node46%22%20class%3D%22node%22%20data-tippy-content%3D%22Purchase%20cost%3A%20199%2C921%20USD%3Cbr%26gt%3BInstalled%20equipment%20cost%3A%20635%2C455%20USD%22%3E%0A%3Cg%20id%3D%22a_node46%22%3E%3Ca%20title%3D%22%20Purchase%20cost%3A%20199%2C921%20USD%3Cbr%26gt%3BInstalled%20equipment%20cost%3A%20635%2C455%20USD%22%3E%0A%3Cdefs%3E%0A%3ClinearGradient%20id%3D%22node46_l_41%22%20gradientUnits%3D%22userSpaceOnUse%22%20x1%3D%224886.26%22%20y1%3D%22-594.69%22%20x2%3D%224886.26%22%20y2%3D%22-729.4%22%3E%0A%3Cstop%20offset%3D%220%22%20style%3D%22stop-color%3A%2360c1cf%3Bstop-opacity%3A1.%3B%22%3E%3C/stop%3E%0A%3Cstop%20offset%3D%221%22%20style%3D%22stop-color%3A%23ed5a6a%3Bstop-opacity%3A1.%3B%22%3E%3C/stop%3E%0A%3C/linearGradient%3E%0A%3C/defs%3E%0A%3Cellipse%20fill%3D%22url%28%23node46_l_41%29%22%20stroke%3D%22none%22%20cx%3D%224886.26%22%20cy%3D%22-662.05%22%20rx%3D%2267.35%22%20ry%3D%2267.35%22%3E%3C/ellipse%3E%0A%3Ctext%20text-anchor%3D%22middle%22%20x%3D%224886.26%22%20y%3D%22-664.5%22%20font-family%3D%22Arial%22%20font-size%3D%2214.00%22%20fill%3D%22white%22%20space%3D%22preserve%22%3EH401%3C/text%3E%0A%3Ctext%20text-anchor%3D%22middle%22%20x%3D%224886.26%22%20y%3D%22-648.75%22%20font-family%3D%22Arial%22%20font-size%3D%2214.00%22%20fill%3D%22white%22%20space%3D%22preserve%22%3EHeat%20exchanger%3C/text%3E%0A%3C/a%3E%0A%3C/g%3E%0A%3C/g%3E%0A%0A%3Cg%20id%3D%22node47%22%20class%3D%22node%22%20data-tippy-content%3D%22Electricity%20consumption%3A%2016.4%20kW%3Cbr%26gt%3BCooling%20duty%3A%20-2.56e%2B04%20MJ/hr%3Cbr%26gt%3BHeating%20duty%3A%201.22e%2B05%20MJ/hr%3Cbr%26gt%3BUtility%20cost%3A%20761%20USD/hr%3Cbr%26gt%3BPurchase%20cost%3A%20617%2C915%20USD%3Cbr%26gt%3BInstalled%20equipment%20cost%3A%201%2C798%2C186%20USD%22%3E%0A%3Cg%20id%3D%22a_node47%22%3E%3Ca%20title%3D%22%20Electricity%20consumption%3A%2016.4%20kW%3Cbr%26gt%3BCooling%20duty%3A%20-2.56e%2B04%20MJ/hr%3Cbr%26gt%3BHeating%20duty%3A%201.22e%2B05%20MJ/hr%3Cbr%26gt%3BUtility%20cost%3A%20761%20USD/hr%3Cbr%26gt%3BPurchase%20cost%3A%20617%2C915%20USD%3Cbr%26gt%3BInstalled%20equipment%20cost%3A%201%2C798%2C186%20USD%22%3E%0A%3Cdefs%3E%0A%3ClinearGradient%20id%3D%22node47_l_42%22%20gradientUnits%3D%22userSpaceOnUse%22%20x1%3D%225015.36%22%20y1%3D%22-765.05%22%20x2%3D%225143.86%22%20y2%3D%22-765.05%22%3E%0A%3Cstop%20offset%3D%220%22%20style%3D%22stop-color%3A%23fcfcfc%3Bstop-opacity%3A1.%3B%22%3E%3C/stop%3E%0A%3Cstop%20offset%3D%221%22%20style%3D%22stop-color%3A%23e6e6e6%3Bstop-opacity%3A1.%3B%22%3E%3C/stop%3E%0A%3C/linearGradient%3E%0A%3C/defs%3E%0A%3Cpolygon%20fill%3D%22url%28%23node47_l_42%29%22%20stroke%3D%22%234e4e4e%22%20points%3D%225143.86%2C-808.25%205015.36%2C-808.25%205015.36%2C-721.85%205143.86%2C-721.85%205143.86%2C-808.25%22%3E%3C/polygon%3E%0A%3Ctext%20text-anchor%3D%22middle%22%20x%3D%225079.61%22%20y%3D%22-767.5%22%20font-family%3D%22Arial%22%20font-size%3D%2214.00%22%20space%3D%22preserve%22%3ED402%3C/text%3E%0A%3Ctext%20text-anchor%3D%22middle%22%20x%3D%225079.61%22%20y%3D%22-751.75%22%20font-family%3D%22Arial%22%20font-size%3D%2214.00%22%20space%3D%22preserve%22%3EDistillation%20Column%3C/text%3E%0A%3C/a%3E%0A%3C/g%3E%0A%3C/g%3E%0A%0A%3Cg%20id%3D%22node48%22%20class%3D%22node%22%20data-tippy-content%3D%22Electricity%20consumption%3A%2056.1%20kW%3Cbr%26gt%3BUtility%20cost%3A%204.39%20USD/hr%3Cbr%26gt%3BPurchase%20cost%3A%2019%2C770%20USD%3Cbr%26gt%3BInstalled%20equipment%20cost%3A%2052%2C606%20USD%22%3E%0A%3Cg%20id%3D%22a_node48%22%3E%3Ca%20title%3D%22%20Electricity%20consumption%3A%2056.1%20kW%3Cbr%26gt%3BUtility%20cost%3A%204.39%20USD/hr%3Cbr%26gt%3BPurchase%20cost%3A%2019%2C770%20USD%3Cbr%26gt%3BInstalled%20equipment%20cost%3A%2052%2C606%20USD%22%3E%0A%3Cdefs%3E%0A%3ClinearGradient%20id%3D%22node48_l_43%22%20gradientUnits%3D%22userSpaceOnUse%22%20x1%3D%225230.78%22%20y1%3D%22-696.05%22%20x2%3D%225282.78%22%20y2%3D%22-696.05%22%3E%0A%3Cstop%20offset%3D%220%22%20style%3D%22stop-color%3A%23fcfcfc%3Bstop-opacity%3A1.%3B%22%3E%3C/stop%3E%0A%3Cstop%20offset%3D%221%22%20style%3D%22stop-color%3A%23e6e6e6%3Bstop-opacity%3A1.%3B%22%3E%3C/stop%3E%0A%3C/linearGradient%3E%0A%3C/defs%3E%0A%3Cpolygon%20fill%3D%22url%28%23node48_l_43%29%22%20stroke%3D%22%234e4e4e%22%20points%3D%225282.78%2C-717.65%205230.78%2C-717.65%205230.78%2C-674.45%205282.78%2C-674.45%205282.78%2C-717.65%22%3E%3C/polygon%3E%0A%3Ctext%20text-anchor%3D%22middle%22%20x%3D%225256.78%22%20y%3D%22-698.5%22%20font-family%3D%22Arial%22%20font-size%3D%2214.00%22%20space%3D%22preserve%22%3EP402%3C/text%3E%0A%3Ctext%20text-anchor%3D%22middle%22%20x%3D%225256.78%22%20y%3D%22-682.75%22%20font-family%3D%22Arial%22%20font-size%3D%2214.00%22%20space%3D%22preserve%22%3EPump%3C/text%3E%0A%3C/a%3E%0A%3C/g%3E%0A%3C/g%3E%0A%0A%3Cg%20id%3D%22node49%22%20class%3D%22node%22%20data-tippy-content%3D%22Electricity%20consumption%3A%20894%20kW%3Cbr%26gt%3BUtility%20cost%3A%2069.9%20USD/hr%3Cbr%26gt%3BPurchase%20cost%3A%202%2C937%2C734%20USD%3Cbr%26gt%3BInstalled%20equipment%20cost%3A%205%2C068%2C468%20USD%22%3E%0A%3Cg%20id%3D%22a_node49%22%3E%3Ca%20title%3D%22%20Electricity%20consumption%3A%20894%20kW%3Cbr%26gt%3BUtility%20cost%3A%2069.9%20USD/hr%3Cbr%26gt%3BPurchase%20cost%3A%202%2C937%2C734%20USD%3Cbr%26gt%3BInstalled%20equipment%20cost%3A%205%2C068%2C468%20USD%22%3E%0A%3Cdefs%3E%0A%3ClinearGradient%20id%3D%22node49_l_44%22%20gradientUnits%3D%22userSpaceOnUse%22%20x1%3D%225029.98%22%20y1%3D%22-560.05%22%20x2%3D%225129.23%22%20y2%3D%22-560.05%22%3E%0A%3Cstop%20offset%3D%220%22%20style%3D%22stop-color%3A%23fcfcfc%3Bstop-opacity%3A1.%3B%22%3E%3C/stop%3E%0A%3Cstop%20offset%3D%221%22%20style%3D%22stop-color%3A%23e6e6e6%3Bstop-opacity%3A1.%3B%22%3E%3C/stop%3E%0A%3C/linearGradient%3E%0A%3C/defs%3E%0A%3Cpolygon%20fill%3D%22url%28%23node49_l_44%29%22%20stroke%3D%22%234e4e4e%22%20points%3D%225129.23%2C-581.65%205029.98%2C-581.65%205029.98%2C-538.45%205129.23%2C-538.45%205129.23%2C-581.65%22%3E%3C/polygon%3E%0A%3Ctext%20text-anchor%3D%22middle%22%20x%3D%225079.61%22%20y%3D%22-562.5%22%20font-family%3D%22Arial%22%20font-size%3D%2214.00%22%20space%3D%22preserve%22%3ES401%3C/text%3E%0A%3Ctext%20text-anchor%3D%22middle%22%20x%3D%225079.61%22%20y%3D%22-546.75%22%20font-family%3D%22Arial%22%20font-size%3D%2214.00%22%20space%3D%22preserve%22%3EPressure%20filter%3C/text%3E%0A%3C/a%3E%0A%3C/g%3E%0A%3C/g%3E%0A%0A%3Cg%20id%3D%22node50%22%20class%3D%22node%22%20data-tippy-content%3D%22No%20capital%20costs%20or%20utilities%22%3E%0A%3Cg%20id%3D%22a_node50%22%3E%3Ca%20title%3D%22%20No%20capital%20costs%20or%20utilities%22%3E%0A%3Cdefs%3E%0A%3ClinearGradient%20id%3D%22node50_l_45%22%20gradientUnits%3D%22userSpaceOnUse%22%20x1%3D%222315.69%22%20y1%3D%22-101.05%22%20x2%3D%222422.81%22%20y2%3D%22-101.05%22%3E%0A%3Cstop%20offset%3D%220%22%20style%3D%22stop-color%3A%23fcfcfc%3Bstop-opacity%3A1.%3B%22%3E%3C/stop%3E%0A%3Cstop%20offset%3D%221%22%20style%3D%22stop-color%3A%23e6e6e6%3Bstop-opacity%3A1.%3B%22%3E%3C/stop%3E%0A%3C/linearGradient%3E%0A%3C/defs%3E%0A%3Cpolygon%20fill%3D%22url%28%23node50_l_45%29%22%20stroke%3D%22%234e4e4e%22%20points%3D%222422.81%2C-101.05%202315.69%2C-156.91%202315.69%2C-45.18%202422.81%2C-101.05%22%3E%3C/polygon%3E%0A%3Ctext%20text-anchor%3D%22middle%22%20x%3D%222351.4%22%20y%3D%22-103.5%22%20font-family%3D%22Arial%22%20font-size%3D%2214.00%22%20space%3D%22preserve%22%3EM204%3C/text%3E%0A%3Ctext%20text-anchor%3D%22middle%22%20x%3D%222351.4%22%20y%3D%22-87.75%22%20font-family%3D%22Arial%22%20font-size%3D%2214.00%22%20space%3D%22preserve%22%3EMixer%3C/text%3E%0A%3C/a%3E%0A%3C/g%3E%0A%3C/g%3E%0A%0A%3Cg%20id%3D%22node51%22%20class%3D%22node%22%20data-tippy-content%3D%22Cooling%20duty%3A%20-4.12e%2B04%20MJ/hr%3Cbr%26gt%3BUtility%20cost%3A%2013.7%20USD/hr%3Cbr%26gt%3BPurchase%20cost%3A%20107%2C763%20USD%3Cbr%26gt%3BInstalled%20equipment%20cost%3A%20237%2C080%20USD%22%3E%0A%3Cg%20id%3D%22a_node51%22%3E%3Ca%20title%3D%22%20Cooling%20duty%3A%20-4.12e%2B04%20MJ/hr%3Cbr%26gt%3BUtility%20cost%3A%2013.7%20USD/hr%3Cbr%26gt%3BPurchase%20cost%3A%20107%2C763%20USD%3Cbr%26gt%3BInstalled%20equipment%20cost%3A%20237%2C080%20USD%22%3E%0A%3Cdefs%3E%0A%3ClinearGradient%20id%3D%22node51_l_46%22%20gradientUnits%3D%22userSpaceOnUse%22%20x1%3D%222759.48%22%20y1%3D%22-139.05%22%20x2%3D%222917.98%22%20y2%3D%22-139.05%22%3E%0A%3Cstop%20offset%3D%220%22%20style%3D%22stop-color%3A%23fcfcfc%3Bstop-opacity%3A1.%3B%22%3E%3C/stop%3E%0A%3Cstop%20offset%3D%221%22%20style%3D%22stop-color%3A%23e6e6e6%3Bstop-opacity%3A1.%3B%22%3E%3C/stop%3E%0A%3C/linearGradient%3E%0A%3C/defs%3E%0A%3Cpolygon%20fill%3D%22url%28%23node51_l_46%29%22%20stroke%3D%22%234e4e4e%22%20points%3D%222917.98%2C-160.65%202759.48%2C-160.65%202759.48%2C-117.45%202917.98%2C-117.45%202917.98%2C-160.65%22%3E%3C/polygon%3E%0A%3Ctext%20text-anchor%3D%22middle%22%20x%3D%222838.73%22%20y%3D%22-141.5%22%20font-family%3D%22Arial%22%20font-size%3D%2214.00%22%20space%3D%22preserve%22%3EH201%3C/text%3E%0A%3Ctext%20text-anchor%3D%22middle%22%20x%3D%222838.73%22%20y%3D%22-125.75%22%20font-family%3D%22Arial%22%20font-size%3D%2214.00%22%20space%3D%22preserve%22%3EWaste%20vapor%20condenser%3C/text%3E%0A%3C/a%3E%0A%3C/g%3E%0A%3C/g%3E%0A%0A%3Cg%20id%3D%22node52%22%20class%3D%22node%22%20data-tippy-content%3D%22Heating%20duty%3A%209.44e%2B03%20MJ/hr%3Cbr%26gt%3BUtility%20cost%3A%2058.1%20USD/hr%3Cbr%26gt%3BPurchase%20cost%3A%2044%2C605%20USD%3Cbr%26gt%3BInstalled%20equipment%20cost%3A%20134%2C390%20USD%22%3E%0A%3Cg%20id%3D%22a_node52%22%3E%3Ca%20title%3D%22%20Heating%20duty%3A%209.44e%2B03%20MJ/hr%3Cbr%26gt%3BUtility%20cost%3A%2058.1%20USD/hr%3Cbr%26gt%3BPurchase%20cost%3A%2044%2C605%20USD%3Cbr%26gt%3BInstalled%20equipment%20cost%3A%20134%2C390%20USD%22%3E%0A%3Cdefs%3E%0A%3ClinearGradient%20id%3D%22node52_l_47%22%20gradientUnits%3D%22userSpaceOnUse%22%20x1%3D%221460.06%22%20y1%3D%22-237.05%22%20x2%3D%221541.31%22%20y2%3D%22-237.05%22%3E%0A%3Cstop%20offset%3D%220%22%20style%3D%22stop-color%3A%23fcfcfc%3Bstop-opacity%3A1.%3B%22%3E%3C/stop%3E%0A%3Cstop%20offset%3D%221%22%20style%3D%22stop-color%3A%23e6e6e6%3Bstop-opacity%3A1.%3B%22%3E%3C/stop%3E%0A%3C/linearGradient%3E%0A%3C/defs%3E%0A%3Cpolygon%20fill%3D%22url%28%23node52_l_47%29%22%20stroke%3D%22%234e4e4e%22%20points%3D%221541.31%2C-276.65%201460.06%2C-276.65%201460.06%2C-197.45%201541.31%2C-197.45%201541.31%2C-276.65%22%3E%3C/polygon%3E%0A%3Ctext%20text-anchor%3D%22middle%22%20x%3D%221500.68%22%20y%3D%22-239.5%22%20font-family%3D%22Arial%22%20font-size%3D%2214.00%22%20space%3D%22preserve%22%3EFLASH118%3C/text%3E%0A%3Ctext%20text-anchor%3D%22middle%22%20x%3D%221500.68%22%20y%3D%22-223.75%22%20font-family%3D%22Arial%22%20font-size%3D%2214.00%22%20space%3D%22preserve%22%3EFlash%3C/text%3E%0A%3C/a%3E%0A%3C/g%3E%0A%3C/g%3E%0A%0A%3Cg%20id%3D%22node53%22%20class%3D%22node%22%20data-tippy-content%3D%22No%20capital%20costs%20or%20utilities%22%3E%0A%3Cg%20id%3D%22a_node53%22%3E%3Ca%20title%3D%22%20No%20capital%20costs%20or%20utilities%22%3E%0A%3Cdefs%3E%0A%3ClinearGradient%20id%3D%22node53_l_48%22%20gradientUnits%3D%22userSpaceOnUse%22%20x1%3D%221773.64%22%20y1%3D%22-284.05%22%20x2%3D%221879.18%22%20y2%3D%22-284.05%22%3E%0A%3Cstop%20offset%3D%220%22%20style%3D%22stop-color%3A%23fcfcfc%3Bstop-opacity%3A1.%3B%22%3E%3C/stop%3E%0A%3Cstop%20offset%3D%221%22%20style%3D%22stop-color%3A%23e6e6e6%3Bstop-opacity%3A1.%3B%22%3E%3C/stop%3E%0A%3C/linearGradient%3E%0A%3C/defs%3E%0A%3Cpolygon%20fill%3D%22url%28%23node53_l_48%29%22%20stroke%3D%22%234e4e4e%22%20points%3D%221879.18%2C-284.05%201773.64%2C-339.91%201773.64%2C-228.18%201879.18%2C-284.05%22%3E%3C/polygon%3E%0A%3Ctext%20text-anchor%3D%22middle%22%20x%3D%221808.82%22%20y%3D%22-286.5%22%20font-family%3D%22Arial%22%20font-size%3D%2214.00%22%20space%3D%22preserve%22%3EM1%3C/text%3E%0A%3Ctext%20text-anchor%3D%22middle%22%20x%3D%221808.82%22%20y%3D%22-270.75%22%20font-family%3D%22Arial%22%20font-size%3D%2214.00%22%20space%3D%22preserve%22%3EMixer%3C/text%3E%0A%3C/a%3E%0A%3C/g%3E%0A%3C/g%3E%0A%0A%3Cg%20id%3D%22node54%22%20class%3D%22node%22%20data-tippy-content%3D%22No%20capital%20costs%20or%20utilities%22%3E%0A%3Cg%20id%3D%22a_node54%22%3E%3Ca%20title%3D%22%20No%20capital%20costs%20or%20utilities%22%3E%0A%3Cdefs%3E%0A%3ClinearGradient%20id%3D%22node54_l_49%22%20gradientUnits%3D%22userSpaceOnUse%22%20x1%3D%225221.07%22%20y1%3D%22-311.05%22%20x2%3D%225328.2%22%20y2%3D%22-311.05%22%3E%0A%3Cstop%20offset%3D%220%22%20style%3D%22stop-color%3A%23fcfcfc%3Bstop-opacity%3A1.%3B%22%3E%3C/stop%3E%0A%3Cstop%20offset%3D%221%22%20style%3D%22stop-color%3A%23e6e6e6%3Bstop-opacity%3A1.%3B%22%3E%3C/stop%3E%0A%3C/linearGradient%3E%0A%3C/defs%3E%0A%3Cpolygon%20fill%3D%22url%28%23node54_l_49%29%22%20stroke%3D%22%234e4e4e%22%20points%3D%225328.2%2C-311.05%205221.07%2C-366.91%205221.07%2C-255.18%205328.2%2C-311.05%22%3E%3C/polygon%3E%0A%3Ctext%20text-anchor%3D%22middle%22%20x%3D%225256.78%22%20y%3D%22-313.5%22%20font-family%3D%22Arial%22%20font-size%3D%2214.00%22%20space%3D%22preserve%22%3EM601%3C/text%3E%0A%3Ctext%20text-anchor%3D%22middle%22%20x%3D%225256.78%22%20y%3D%22-297.75%22%20font-family%3D%22Arial%22%20font-size%3D%2214.00%22%20space%3D%22preserve%22%3EMixer%3C/text%3E%0A%3C/a%3E%0A%3C/g%3E%0A%3C/g%3E%0A%0A%3Cg%20id%3D%22node55%22%20class%3D%22node%22%20data-tippy-content%3D%22Electricity%20consumption%3A%206.9e%2B03%20kW%3Cbr%26gt%3BUtility%20cost%3A%20539%20USD/hr%3Cbr%26gt%3BPurchase%20cost%3A%2049%2C850%2C969%20USD%3Cbr%26gt%3BInstalled%20equipment%20cost%3A%2049%2C850%2C969%20USD%22%3E%0A%3Cg%20id%3D%22a_node55%22%3E%3Ca%20title%3D%22%20Electricity%20consumption%3A%206.9e%2B03%20kW%3Cbr%26gt%3BUtility%20cost%3A%20539%20USD/hr%3Cbr%26gt%3BPurchase%20cost%3A%2049%2C850%2C969%20USD%3Cbr%26gt%3BInstalled%20equipment%20cost%3A%2049%2C850%2C969%20USD%22%3E%0A%3Cdefs%3E%0A%3ClinearGradient%20id%3D%22node55_l_50%22%20gradientUnits%3D%22userSpaceOnUse%22%20x1%3D%225376.82%22%20y1%3D%22-323.05%22%20x2%3D%225539.82%22%20y2%3D%22-323.05%22%3E%0A%3Cstop%20offset%3D%220%22%20style%3D%22stop-color%3A%23fcfcfc%3Bstop-opacity%3A1.%3B%22%3E%3C/stop%3E%0A%3Cstop%20offset%3D%221%22%20style%3D%22stop-color%3A%23e6e6e6%3Bstop-opacity%3A1.%3B%22%3E%3C/stop%3E%0A%3C/linearGradient%3E%0A%3C/defs%3E%0A%3Cpolygon%20fill%3D%22url%28%23node55_l_50%29%22%20stroke%3D%22%234e4e4e%22%20points%3D%225539.82%2C-344.65%205376.82%2C-344.65%205376.82%2C-301.45%205539.82%2C-301.45%205539.82%2C-344.65%22%3E%3C/polygon%3E%0A%3Ctext%20text-anchor%3D%22middle%22%20x%3D%225458.32%22%20y%3D%22-325.5%22%20font-family%3D%22Arial%22%20font-size%3D%2214.00%22%20space%3D%22preserve%22%3EWWTC%3C/text%3E%0A%3Ctext%20text-anchor%3D%22middle%22%20x%3D%225458.32%22%20y%3D%22-309.75%22%20font-family%3D%22Arial%22%20font-size%3D%2214.00%22%20space%3D%22preserve%22%3EWastewater%20system%20cost%3C/text%3E%0A%3C/a%3E%0A%3C/g%3E%0A%3C/g%3E%0A%0A%3Cg%20id%3D%22node56%22%20class%3D%22node%22%20data-tippy-content%3D%22No%20capital%20costs%20or%20utilities%22%3E%0A%3Cg%20id%3D%22a_node56%22%3E%3Ca%20title%3D%22%20No%20capital%20costs%20or%20utilities%22%3E%0A%3Cdefs%3E%0A%3ClinearGradient%20id%3D%22node56_l_51%22%20gradientUnits%3D%22userSpaceOnUse%22%20x1%3D%225588.45%22%20y1%3D%22-332.05%22%20x2%3D%225722.95%22%20y2%3D%22-332.05%22%3E%0A%3Cstop%20offset%3D%220%22%20style%3D%22stop-color%3A%23fcfcfc%3Bstop-opacity%3A1.%3B%22%3E%3C/stop%3E%0A%3Cstop%20offset%3D%221%22%20style%3D%22stop-color%3A%23e6e6e6%3Bstop-opacity%3A1.%3B%22%3E%3C/stop%3E%0A%3C/linearGradient%3E%0A%3C/defs%3E%0A%3Cpolygon%20fill%3D%22url%28%23node56_l_51%29%22%20stroke%3D%22%234e4e4e%22%20points%3D%225722.95%2C-353.65%205588.45%2C-353.65%205588.45%2C-310.45%205722.95%2C-310.45%205722.95%2C-353.65%22%3E%3C/polygon%3E%0A%3Ctext%20text-anchor%3D%22middle%22%20x%3D%225655.7%22%20y%3D%22-334.5%22%20font-family%3D%22Arial%22%20font-size%3D%2214.00%22%20space%3D%22preserve%22%3ER601%3C/text%3E%0A%3Ctext%20text-anchor%3D%22middle%22%20x%3D%225655.7%22%20y%3D%22-318.75%22%20font-family%3D%22Arial%22%20font-size%3D%2214.00%22%20space%3D%22preserve%22%3EAnaerobic%20digestion%3C/text%3E%0A%3C/a%3E%0A%3C/g%3E%0A%3C/g%3E%0A%0A%3Cg%20id%3D%22node57%22%20class%3D%22node%22%20data-tippy-content%3D%22No%20capital%20costs%20or%20utilities%22%3E%0A%3Cg%20id%3D%22a_node57%22%3E%3Ca%20title%3D%22%20No%20capital%20costs%20or%20utilities%22%3E%0A%3Cdefs%3E%0A%3ClinearGradient%20id%3D%22node57_l_52%22%20gradientUnits%3D%22userSpaceOnUse%22%20x1%3D%225872.15%22%20y1%3D%22-482.05%22%20x2%3D%225979.28%22%20y2%3D%22-482.05%22%3E%0A%3Cstop%20offset%3D%220%22%20style%3D%22stop-color%3A%23fcfcfc%3Bstop-opacity%3A1.%3B%22%3E%3C/stop%3E%0A%3Cstop%20offset%3D%221%22%20style%3D%22stop-color%3A%23e6e6e6%3Bstop-opacity%3A1.%3B%22%3E%3C/stop%3E%0A%3C/linearGradient%3E%0A%3C/defs%3E%0A%3Cpolygon%20fill%3D%22url%28%23node57_l_52%29%22%20stroke%3D%22%234e4e4e%22%20points%3D%225979.28%2C-482.05%205872.15%2C-537.91%205872.15%2C-426.18%205979.28%2C-482.05%22%3E%3C/polygon%3E%0A%3Ctext%20text-anchor%3D%22middle%22%20x%3D%225907.86%22%20y%3D%22-484.5%22%20font-family%3D%22Arial%22%20font-size%3D%2214.00%22%20space%3D%22preserve%22%3EM602%3C/text%3E%0A%3Ctext%20text-anchor%3D%22middle%22%20x%3D%225907.86%22%20y%3D%22-468.75%22%20font-family%3D%22Arial%22%20font-size%3D%2214.00%22%20space%3D%22preserve%22%3EMixer%3C/text%3E%0A%3C/a%3E%0A%3C/g%3E%0A%3C/g%3E%0A%0A%3Cg%20id%3D%22node58%22%20class%3D%22node%22%20data-tippy-content%3D%22No%20capital%20costs%20or%20utilities%22%3E%0A%3Cg%20id%3D%22a_node58%22%3E%3Ca%20title%3D%22%20No%20capital%20costs%20or%20utilities%22%3E%0A%3Cdefs%3E%0A%3ClinearGradient%20id%3D%22node58_l_53%22%20gradientUnits%3D%22userSpaceOnUse%22%20x1%3D%226136%22%20y1%3D%22-710.05%22%20x2%3D%226255.5%22%20y2%3D%22-710.05%22%3E%0A%3Cstop%20offset%3D%220%22%20style%3D%22stop-color%3A%23fcfcfc%3Bstop-opacity%3A1.%3B%22%3E%3C/stop%3E%0A%3Cstop%20offset%3D%221%22%20style%3D%22stop-color%3A%23e6e6e6%3Bstop-opacity%3A1.%3B%22%3E%3C/stop%3E%0A%3C/linearGradient%3E%0A%3C/defs%3E%0A%3Cpolygon%20fill%3D%22url%28%23node58_l_53%29%22%20stroke%3D%22%234e4e4e%22%20points%3D%226255.5%2C-731.65%206136%2C-731.65%206136%2C-688.45%206255.5%2C-688.45%206255.5%2C-731.65%22%3E%3C/polygon%3E%0A%3Ctext%20text-anchor%3D%22middle%22%20x%3D%226195.75%22%20y%3D%22-712.5%22%20font-family%3D%22Arial%22%20font-size%3D%2214.00%22%20space%3D%22preserve%22%3ER602%3C/text%3E%0A%3Ctext%20text-anchor%3D%22middle%22%20x%3D%226195.75%22%20y%3D%22-696.75%22%20font-family%3D%22Arial%22%20font-size%3D%2214.00%22%20space%3D%22preserve%22%3EAerobic%20digestion%3C/text%3E%0A%3C/a%3E%0A%3C/g%3E%0A%3C/g%3E%0A%0A%3Cg%20id%3D%22node59%22%20class%3D%22node%22%20data-tippy-content%3D%22No%20capital%20costs%20or%20utilities%22%3E%0A%3Cg%20id%3D%22a_node59%22%3E%3Ca%20title%3D%22%20No%20capital%20costs%20or%20utilities%22%3E%0A%3Cdefs%3E%0A%3ClinearGradient%20id%3D%22node59_l_54%22%20gradientUnits%3D%22userSpaceOnUse%22%20x1%3D%226342.75%22%20y1%3D%22-708.05%22%20x2%3D%226488.5%22%20y2%3D%22-708.05%22%3E%0A%3Cstop%20offset%3D%220%22%20style%3D%22stop-color%3A%23fcfcfc%3Bstop-opacity%3A1.%3B%22%3E%3C/stop%3E%0A%3Cstop%20offset%3D%221%22%20style%3D%22stop-color%3A%23e6e6e6%3Bstop-opacity%3A1.%3B%22%3E%3C/stop%3E%0A%3C/linearGradient%3E%0A%3C/defs%3E%0A%3Cpolygon%20fill%3D%22url%28%23node59_l_54%29%22%20stroke%3D%22%234e4e4e%22%20points%3D%226488.5%2C-729.65%206342.75%2C-729.65%206342.75%2C-686.45%206488.5%2C-686.45%206488.5%2C-729.65%22%3E%3C/polygon%3E%0A%3Ctext%20text-anchor%3D%22middle%22%20x%3D%226415.62%22%20y%3D%22-710.5%22%20font-family%3D%22Arial%22%20font-size%3D%2214.00%22%20space%3D%22preserve%22%3ES601%3C/text%3E%0A%3Ctext%20text-anchor%3D%22middle%22%20x%3D%226415.62%22%20y%3D%22-694.75%22%20font-family%3D%22Arial%22%20font-size%3D%2214.00%22%20space%3D%22preserve%22%3EMembrane%20bioreactor%3C/text%3E%0A%3C/a%3E%0A%3C/g%3E%0A%3C/g%3E%0A%0A%3Cg%20id%3D%22node60%22%20class%3D%22node%22%20data-tippy-content%3D%22No%20capital%20costs%20or%20utilities%22%3E%0A%3Cg%20id%3D%22a_node60%22%3E%3Ca%20title%3D%22%20No%20capital%20costs%20or%20utilities%22%3E%0A%3Cdefs%3E%0A%3ClinearGradient%20id%3D%22node60_l_55%22%20gradientUnits%3D%22userSpaceOnUse%22%20x1%3D%226530%22%20y1%3D%22-704.05%22%20x2%3D%226653.03%22%20y2%3D%22-704.05%22%3E%0A%3Cstop%20offset%3D%220%22%20style%3D%22stop-color%3A%23fcfcfc%3Bstop-opacity%3A1.%3B%22%3E%3C/stop%3E%0A%3Cstop%20offset%3D%221%22%20style%3D%22stop-color%3A%23e6e6e6%3Bstop-opacity%3A1.%3B%22%3E%3C/stop%3E%0A%3C/linearGradient%3E%0A%3C/defs%3E%0A%3Cpolygon%20fill%3D%22url%28%23node60_l_55%29%22%20stroke%3D%22%234e4e4e%22%20points%3D%226530%2C-704.05%206653.03%2C-648.18%206653.03%2C-759.91%206530%2C-704.05%22%3E%3C/polygon%3E%0A%3Ctext%20text-anchor%3D%22middle%22%20x%3D%226612.02%22%20y%3D%22-706.5%22%20font-family%3D%22Arial%22%20font-size%3D%2214.00%22%20space%3D%22preserve%22%3ES602%3C/text%3E%0A%3Ctext%20text-anchor%3D%22middle%22%20x%3D%226612.02%22%20y%3D%22-690.75%22%20font-family%3D%22Arial%22%20font-size%3D%2214.00%22%20space%3D%22preserve%22%3ESplitter%3C/text%3E%0A%3C/a%3E%0A%3C/g%3E%0A%3C/g%3E%0A%0A%3Cg%20id%3D%22node61%22%20class%3D%22node%22%20data-tippy-content%3D%22No%20capital%20costs%20or%20utilities%22%3E%0A%3Cg%20id%3D%22a_node61%22%3E%3Ca%20title%3D%22%20No%20capital%20costs%20or%20utilities%22%3E%0A%3Cdefs%3E%0A%3ClinearGradient%20id%3D%22node61_l_56%22%20gradientUnits%3D%22userSpaceOnUse%22%20x1%3D%226823%22%20y1%3D%22-490.05%22%20x2%3D%226930.13%22%20y2%3D%22-490.05%22%3E%0A%3Cstop%20offset%3D%220%22%20style%3D%22stop-color%3A%23fcfcfc%3Bstop-opacity%3A1.%3B%22%3E%3C/stop%3E%0A%3Cstop%20offset%3D%221%22%20style%3D%22stop-color%3A%23e6e6e6%3Bstop-opacity%3A1.%3B%22%3E%3C/stop%3E%0A%3C/linearGradient%3E%0A%3C/defs%3E%0A%3Cpolygon%20fill%3D%22url%28%23node61_l_56%29%22%20stroke%3D%22%234e4e4e%22%20points%3D%226930.13%2C-490.05%206823%2C-545.91%206823%2C-434.18%206930.13%2C-490.05%22%3E%3C/polygon%3E%0A%3Ctext%20text-anchor%3D%22middle%22%20x%3D%226858.71%22%20y%3D%22-492.5%22%20font-family%3D%22Arial%22%20font-size%3D%2214.00%22%20space%3D%22preserve%22%3EM603%3C/text%3E%0A%3Ctext%20text-anchor%3D%22middle%22%20x%3D%226858.71%22%20y%3D%22-476.75%22%20font-family%3D%22Arial%22%20font-size%3D%2214.00%22%20space%3D%22preserve%22%3EMixer%3C/text%3E%0A%3C/a%3E%0A%3C/g%3E%0A%3C/g%3E%0A%0A%3Cg%20id%3D%22node62%22%20class%3D%22node%22%20data-tippy-content%3D%22No%20capital%20costs%20or%20utilities%22%3E%0A%3Cg%20id%3D%22a_node62%22%3E%3Ca%20title%3D%22%20No%20capital%20costs%20or%20utilities%22%3E%0A%3Cdefs%3E%0A%3ClinearGradient%20id%3D%22node62_l_57%22%20gradientUnits%3D%22userSpaceOnUse%22%20x1%3D%227071%22%20y1%3D%22-471.05%22%20x2%3D%227192%22%20y2%3D%22-471.05%22%3E%0A%3Cstop%20offset%3D%220%22%20style%3D%22stop-color%3A%23fcfcfc%3Bstop-opacity%3A1.%3B%22%3E%3C/stop%3E%0A%3Cstop%20offset%3D%221%22%20style%3D%22stop-color%3A%23e6e6e6%3Bstop-opacity%3A1.%3B%22%3E%3C/stop%3E%0A%3C/linearGradient%3E%0A%3C/defs%3E%0A%3Cpolygon%20fill%3D%22url%28%23node62_l_57%29%22%20stroke%3D%22%234e4e4e%22%20points%3D%227192%2C-492.65%207071%2C-492.65%207071%2C-449.45%207192%2C-449.45%207192%2C-492.65%22%3E%3C/polygon%3E%0A%3Ctext%20text-anchor%3D%22middle%22%20x%3D%227131.5%22%20y%3D%22-473.5%22%20font-family%3D%22Arial%22%20font-size%3D%2214.00%22%20space%3D%22preserve%22%3ES603%3C/text%3E%0A%3Ctext%20text-anchor%3D%22middle%22%20x%3D%227131.5%22%20y%3D%22-457.75%22%20font-family%3D%22Arial%22%20font-size%3D%2214.00%22%20space%3D%22preserve%22%3ESludge%20centrifuge%3C/text%3E%0A%3C/a%3E%0A%3C/g%3E%0A%3C/g%3E%0A%0A%3Cg%20id%3D%22node63%22%20class%3D%22node%22%20data-tippy-content%3D%22No%20capital%20costs%20or%20utilities%22%3E%0A%3Cg%20id%3D%22a_node63%22%3E%3Ca%20title%3D%22%20No%20capital%20costs%20or%20utilities%22%3E%0A%3Cdefs%3E%0A%3ClinearGradient%20id%3D%22node63_l_58%22%20gradientUnits%3D%22userSpaceOnUse%22%20x1%3D%227302.59%22%20y1%3D%22-451.05%22%20x2%3D%227409.71%22%20y2%3D%22-451.05%22%3E%0A%3Cstop%20offset%3D%220%22%20style%3D%22stop-color%3A%23fcfcfc%3Bstop-opacity%3A1.%3B%22%3E%3C/stop%3E%0A%3Cstop%20offset%3D%221%22%20style%3D%22stop-color%3A%23e6e6e6%3Bstop-opacity%3A1.%3B%22%3E%3C/stop%3E%0A%3C/linearGradient%3E%0A%3C/defs%3E%0A%3Cpolygon%20fill%3D%22url%28%23node63_l_58%29%22%20stroke%3D%22%234e4e4e%22%20points%3D%227409.71%2C-451.05%207302.59%2C-506.91%207302.59%2C-395.18%207409.71%2C-451.05%22%3E%3C/polygon%3E%0A%3Ctext%20text-anchor%3D%22middle%22%20x%3D%227338.3%22%20y%3D%22-453.5%22%20font-family%3D%22Arial%22%20font-size%3D%2214.00%22%20space%3D%22preserve%22%3EM604%3C/text%3E%0A%3Ctext%20text-anchor%3D%22middle%22%20x%3D%227338.3%22%20y%3D%22-437.75%22%20font-family%3D%22Arial%22%20font-size%3D%2214.00%22%20space%3D%22preserve%22%3EMixer%3C/text%3E%0A%3C/a%3E%0A%3C/g%3E%0A%3C/g%3E%0A%0A%3Cg%20id%3D%22node64%22%20class%3D%22node%22%20data-tippy-content%3D%22No%20capital%20costs%20or%20utilities%22%3E%0A%3Cg%20id%3D%22a_node64%22%3E%3Ca%20title%3D%22%20No%20capital%20costs%20or%20utilities%22%3E%0A%3Cdefs%3E%0A%3ClinearGradient%20id%3D%22node64_l_59%22%20gradientUnits%3D%22userSpaceOnUse%22%20x1%3D%227303.12%22%20y1%3D%22-610.05%22%20x2%3D%227408.65%22%20y2%3D%22-610.05%22%3E%0A%3Cstop%20offset%3D%220%22%20style%3D%22stop-color%3A%23fcfcfc%3Bstop-opacity%3A1.%3B%22%3E%3C/stop%3E%0A%3Cstop%20offset%3D%221%22%20style%3D%22stop-color%3A%23e6e6e6%3Bstop-opacity%3A1.%3B%22%3E%3C/stop%3E%0A%3C/linearGradient%3E%0A%3C/defs%3E%0A%3Cpolygon%20fill%3D%22url%28%23node64_l_59%29%22%20stroke%3D%22%234e4e4e%22%20points%3D%227408.65%2C-610.05%207303.12%2C-665.91%207303.12%2C-554.18%207408.65%2C-610.05%22%3E%3C/polygon%3E%0A%3Ctext%20text-anchor%3D%22middle%22%20x%3D%227338.3%22%20y%3D%22-612.5%22%20font-family%3D%22Arial%22%20font-size%3D%2214.00%22%20space%3D%22preserve%22%3EM3%3C/text%3E%0A%3Ctext%20text-anchor%3D%22middle%22%20x%3D%227338.3%22%20y%3D%22-596.75%22%20font-family%3D%22Arial%22%20font-size%3D%2214.00%22%20space%3D%22preserve%22%3EMixer%3C/text%3E%0A%3C/a%3E%0A%3C/g%3E%0A%3C/g%3E%0A%0A%3Cg%20id%3D%22node65%22%20class%3D%22node%22%20data-tippy-content%3D%22No%20capital%20costs%20or%20utilities%22%3E%0A%3Cg%20id%3D%22a_node65%22%3E%3Ca%20title%3D%22%20No%20capital%20costs%20or%20utilities%22%3E%0A%3Cdefs%3E%0A%3ClinearGradient%20id%3D%22node65_l_60%22%20gradientUnits%3D%22userSpaceOnUse%22%20x1%3D%226551.89%22%20y1%3D%22-832.05%22%20x2%3D%226672.14%22%20y2%3D%22-832.05%22%3E%0A%3Cstop%20offset%3D%220%22%20style%3D%22stop-color%3A%23fcfcfc%3Bstop-opacity%3A1.%3B%22%3E%3C/stop%3E%0A%3Cstop%20offset%3D%221%22%20style%3D%22stop-color%3A%23e6e6e6%3Bstop-opacity%3A1.%3B%22%3E%3C/stop%3E%0A%3C/linearGradient%3E%0A%3C/defs%3E%0A%3Cpolygon%20fill%3D%22url%28%23node65_l_60%29%22%20stroke%3D%22%234e4e4e%22%20points%3D%226672.14%2C-853.65%206551.89%2C-853.65%206551.89%2C-810.45%206672.14%2C-810.45%206672.14%2C-853.65%22%3E%3C/polygon%3E%0A%3Ctext%20text-anchor%3D%22middle%22%20x%3D%226612.02%22%20y%3D%22-834.5%22%20font-family%3D%22Arial%22%20font-size%3D%2214.00%22%20space%3D%22preserve%22%3ES604%3C/text%3E%0A%3Ctext%20text-anchor%3D%22middle%22%20x%3D%226612.02%22%20y%3D%22-818.75%22%20font-family%3D%22Arial%22%20font-size%3D%2214.00%22%20space%3D%22preserve%22%3EReverse%20osmosis%3C/text%3E%0A%3C/a%3E%0A%3C/g%3E%0A%3C/g%3E%0A%0A%3Cg%20id%3D%22node66%22%20class%3D%22node%22%20data-tippy-content%3D%22No%20capital%20costs%20or%20utilities%22%3E%0A%3Cg%20id%3D%22a_node66%22%3E%3Ca%20title%3D%22%20No%20capital%20costs%20or%20utilities%22%3E%0A%3Cdefs%3E%0A%3ClinearGradient%20id%3D%22node66_l_61%22%20gradientUnits%3D%22userSpaceOnUse%22%20x1%3D%226823.53%22%20y1%3D%22-832.05%22%20x2%3D%226929.07%22%20y2%3D%22-832.05%22%3E%0A%3Cstop%20offset%3D%220%22%20style%3D%22stop-color%3A%23fcfcfc%3Bstop-opacity%3A1.%3B%22%3E%3C/stop%3E%0A%3Cstop%20offset%3D%221%22%20style%3D%22stop-color%3A%23e6e6e6%3Bstop-opacity%3A1.%3B%22%3E%3C/stop%3E%0A%3C/linearGradient%3E%0A%3C/defs%3E%0A%3Cpolygon%20fill%3D%22url%28%23node66_l_61%29%22%20stroke%3D%22%234e4e4e%22%20points%3D%226929.07%2C-832.05%206823.53%2C-887.91%206823.53%2C-776.18%206929.07%2C-832.05%22%3E%3C/polygon%3E%0A%3Ctext%20text-anchor%3D%22middle%22%20x%3D%226858.71%22%20y%3D%22-834.5%22%20font-family%3D%22Arial%22%20font-size%3D%2214.00%22%20space%3D%22preserve%22%3EM6%3C/text%3E%0A%3Ctext%20text-anchor%3D%22middle%22%20x%3D%226858.71%22%20y%3D%22-818.75%22%20font-family%3D%22Arial%22%20font-size%3D%2214.00%22%20space%3D%22preserve%22%3EMixer%3C/text%3E%0A%3C/a%3E%0A%3C/g%3E%0A%3C/g%3E%0A%0A%3Cg%20id%3D%22node67%22%20class%3D%22node%22%20data-tippy-content%3D%22No%20capital%20costs%20or%20utilities%22%3E%0A%3Cg%20id%3D%22a_node67%22%3E%3Ca%20title%3D%22%20No%20capital%20costs%20or%20utilities%22%3E%0A%3Cdefs%3E%0A%3ClinearGradient%20id%3D%22node67_l_62%22%20gradientUnits%3D%22userSpaceOnUse%22%20x1%3D%225221.07%22%20y1%3D%22-1028.05%22%20x2%3D%225328.2%22%20y2%3D%22-1028.05%22%3E%0A%3Cstop%20offset%3D%220%22%20style%3D%22stop-color%3A%23fcfcfc%3Bstop-opacity%3A1.%3B%22%3E%3C/stop%3E%0A%3Cstop%20offset%3D%221%22%20style%3D%22stop-color%3A%23e6e6e6%3Bstop-opacity%3A1.%3B%22%3E%3C/stop%3E%0A%3C/linearGradient%3E%0A%3C/defs%3E%0A%3Cpolygon%20fill%3D%22url%28%23node67_l_62%29%22%20stroke%3D%22%234e4e4e%22%20points%3D%225328.2%2C-1028.05%205221.07%2C-1083.91%205221.07%2C-972.18%205328.2%2C-1028.05%22%3E%3C/polygon%3E%0A%3Ctext%20text-anchor%3D%22middle%22%20x%3D%225256.78%22%20y%3D%22-1030.5%22%20font-family%3D%22Arial%22%20font-size%3D%2214.00%22%20space%3D%22preserve%22%3EM402%3C/text%3E%0A%3Ctext%20text-anchor%3D%22middle%22%20x%3D%225256.78%22%20y%3D%22-1014.75%22%20font-family%3D%22Arial%22%20font-size%3D%2214.00%22%20space%3D%22preserve%22%3EMixer%3C/text%3E%0A%3C/a%3E%0A%3C/g%3E%0A%3C/g%3E%0A%0A%3Cg%20id%3D%22node68%22%20class%3D%22node%22%20data-tippy-content%3D%22Electricity%20consumption%3A%202.1%20kW%3Cbr%26gt%3BCooling%20duty%3A%20-7.5e%2B04%20MJ/hr%3Cbr%26gt%3BHeating%20duty%3A%203.21e%2B04%20MJ/hr%3Cbr%26gt%3BUtility%20cost%3A%20222%20USD/hr%3Cbr%26gt%3BPurchase%20cost%3A%20582%2C858%20USD%3Cbr%26gt%3BInstalled%20equipment%20cost%3A%201%2C650%2C238%20USD%22%3E%0A%3Cg%20id%3D%22a_node68%22%3E%3Ca%20title%3D%22%20Electricity%20consumption%3A%202.1%20kW%3Cbr%26gt%3BCooling%20duty%3A%20-7.5e%2B04%20MJ/hr%3Cbr%26gt%3BHeating%20duty%3A%203.21e%2B04%20MJ/hr%3Cbr%26gt%3BUtility%20cost%3A%20222%20USD/hr%3Cbr%26gt%3BPurchase%20cost%3A%20582%2C858%20USD%3Cbr%26gt%3BInstalled%20equipment%20cost%3A%201%2C650%2C238%20USD%22%3E%0A%3Cdefs%3E%0A%3ClinearGradient%20id%3D%22node68_l_63%22%20gradientUnits%3D%22userSpaceOnUse%22%20x1%3D%225369.7%22%20y1%3D%22-1028.05%22%20x2%3D%225546.95%22%20y2%3D%22-1028.05%22%3E%0A%3Cstop%20offset%3D%220%22%20style%3D%22stop-color%3A%23fcfcfc%3Bstop-opacity%3A1.%3B%22%3E%3C/stop%3E%0A%3Cstop%20offset%3D%221%22%20style%3D%22stop-color%3A%23e6e6e6%3Bstop-opacity%3A1.%3B%22%3E%3C/stop%3E%0A%3C/linearGradient%3E%0A%3C/defs%3E%0A%3Cpolygon%20fill%3D%22url%28%23node68_l_63%29%22%20stroke%3D%22%234e4e4e%22%20points%3D%225546.95%2C-1071.25%205369.7%2C-1071.25%205369.7%2C-984.85%205546.95%2C-984.85%205546.95%2C-1071.25%22%3E%3C/polygon%3E%0A%3Ctext%20text-anchor%3D%22middle%22%20x%3D%225458.32%22%20y%3D%22-1030.5%22%20font-family%3D%22Arial%22%20font-size%3D%2214.00%22%20space%3D%22preserve%22%3ED403%3C/text%3E%0A%3Ctext%20text-anchor%3D%22middle%22%20x%3D%225458.32%22%20y%3D%22-1014.75%22%20font-family%3D%22Arial%22%20font-size%3D%2214.00%22%20space%3D%22preserve%22%3EDivided%20Distillation%20Column%3C/text%3E%0A%3C/a%3E%0A%3C/g%3E%0A%3C/g%3E%0A%0A%3Cg%20id%3D%22node69%22%20class%3D%22node%22%20data-tippy-content%3D%22Heating%20duty%3A%201.19e%2B03%20MJ/hr%3Cbr%26gt%3BUtility%20cost%3A%207.32%20USD/hr%3Cbr%26gt%3BPurchase%20cost%3A%2019%2C717%20USD%3Cbr%26gt%3BInstalled%20equipment%20cost%3A%2063%2C011%20USD%22%3E%0A%3Cg%20id%3D%22a_node69%22%3E%3Ca%20title%3D%22%20Heating%20duty%3A%201.19e%2B03%20MJ/hr%3Cbr%26gt%3BUtility%20cost%3A%207.32%20USD/hr%3Cbr%26gt%3BPurchase%20cost%3A%2019%2C717%20USD%3Cbr%26gt%3BInstalled%20equipment%20cost%3A%2063%2C011%20USD%22%3E%0A%3Cellipse%20fill%3D%22%23ed5a6a%22%20stroke%3D%22none%22%20cx%3D%225655.7%22%20cy%3D%22-1072.05%22%20rx%3D%2232.88%22%20ry%3D%2232.88%22%3E%3C/ellipse%3E%0A%3Ctext%20text-anchor%3D%22middle%22%20x%3D%225655.7%22%20y%3D%22-1074.5%22%20font-family%3D%22Arial%22%20font-size%3D%2214.00%22%20fill%3D%22white%22%20space%3D%22preserve%22%3EH402%3C/text%3E%0A%3Ctext%20text-anchor%3D%22middle%22%20x%3D%225655.7%22%20y%3D%22-1058.75%22%20font-family%3D%22Arial%22%20font-size%3D%2214.00%22%20fill%3D%22white%22%20space%3D%22preserve%22%3EHeating%3C/text%3E%0A%3C/a%3E%0A%3C/g%3E%0A%3C/g%3E%0A%0A%3Cg%20id%3D%22node70%22%20class%3D%22node%22%20data-tippy-content%3D%22Electricity%20consumption%3A%20141%20kW%3Cbr%26gt%3BCooling%20duty%3A%20-1.18e%2B03%20MJ/hr%3Cbr%26gt%3BHeating%20duty%3A%203.2e%2B04%20MJ/hr%3Cbr%26gt%3BUtility%20cost%3A%20208%20USD/hr%3Cbr%26gt%3BPurchase%20cost%3A%202%2C595%2C191%20USD%3Cbr%26gt%3BInstalled%20equipment%20cost%3A%204%2C671%2C343%20USD%22%3E%0A%3Cg%20id%3D%22a_node70%22%3E%3Ca%20title%3D%22%20Electricity%20consumption%3A%20141%20kW%3Cbr%26gt%3BCooling%20duty%3A%20-1.18e%2B03%20MJ/hr%3Cbr%26gt%3BHeating%20duty%3A%203.2e%2B04%20MJ/hr%3Cbr%26gt%3BUtility%20cost%3A%20208%20USD/hr%3Cbr%26gt%3BPurchase%20cost%3A%202%2C595%2C191%20USD%3Cbr%26gt%3BInstalled%20equipment%20cost%3A%204%2C671%2C343%20USD%22%3E%0A%3Cdefs%3E%0A%3ClinearGradient%20id%3D%22node70_l_64%22%20gradientUnits%3D%22userSpaceOnUse%22%20x1%3D%225852.61%22%20y1%3D%22-1132.05%22%20x2%3D%225963.11%22%20y2%3D%22-1132.05%22%3E%0A%3Cstop%20offset%3D%220%22%20style%3D%22stop-color%3A%23fcfcfc%3Bstop-opacity%3A1.%3B%22%3E%3C/stop%3E%0A%3Cstop%20offset%3D%221%22%20style%3D%22stop-color%3A%23e6e6e6%3Bstop-opacity%3A1.%3B%22%3E%3C/stop%3E%0A%3C/linearGradient%3E%0A%3C/defs%3E%0A%3Cpolygon%20fill%3D%22url%28%23node70_l_64%29%22%20stroke%3D%22%234e4e4e%22%20points%3D%225963.11%2C-1153.65%205852.61%2C-1153.65%205852.61%2C-1110.45%205963.11%2C-1110.45%205963.11%2C-1153.65%22%3E%3C/polygon%3E%0A%3Ctext%20text-anchor%3D%22middle%22%20x%3D%225907.86%22%20y%3D%22-1134.5%22%20font-family%3D%22Arial%22%20font-size%3D%2214.00%22%20space%3D%22preserve%22%3EU401%3C/text%3E%0A%3Ctext%20text-anchor%3D%22middle%22%20x%3D%225907.86%22%20y%3D%22-1118.75%22%20font-family%3D%22Arial%22%20font-size%3D%2214.00%22%20space%3D%22preserve%22%3EMolecular%20sieve%3C/text%3E%0A%3C/a%3E%0A%3C/g%3E%0A%3C/g%3E%0A%0A%3Cg%20id%3D%22node71%22%20class%3D%22node%22%20data-tippy-content%3D%22Cooling%20duty%3A%20-2.03e%2B04%20MJ/hr%3Cbr%26gt%3BUtility%20cost%3A%206.77%20USD/hr%3Cbr%26gt%3BPurchase%20cost%3A%2043%2C831%20USD%3Cbr%26gt%3BInstalled%20equipment%20cost%3A%20140%2C566%20USD%22%3E%0A%3Cg%20id%3D%22a_node71%22%3E%3Ca%20title%3D%22%20Cooling%20duty%3A%20-2.03e%2B04%20MJ/hr%3Cbr%26gt%3BUtility%20cost%3A%206.77%20USD/hr%3Cbr%26gt%3BPurchase%20cost%3A%2043%2C831%20USD%3Cbr%26gt%3BInstalled%20equipment%20cost%3A%20140%2C566%20USD%22%3E%0A%3Cellipse%20fill%3D%22%2360c1cf%22%20stroke%3D%22none%22%20cx%3D%226195.75%22%20cy%3D%22-1132.05%22%20rx%3D%2232.35%22%20ry%3D%2232.35%22%3E%3C/ellipse%3E%0A%3Ctext%20text-anchor%3D%22middle%22%20x%3D%226195.75%22%20y%3D%22-1134.5%22%20font-family%3D%22Arial%22%20font-size%3D%2214.00%22%20fill%3D%22white%22%20space%3D%22preserve%22%3EH403%3C/text%3E%0A%3Ctext%20text-anchor%3D%22middle%22%20x%3D%226195.75%22%20y%3D%22-1118.75%22%20font-family%3D%22Arial%22%20font-size%3D%2214.00%22%20fill%3D%22white%22%20space%3D%22preserve%22%3ECooling%3C/text%3E%0A%3C/a%3E%0A%3C/g%3E%0A%3C/g%3E%0A%0A%3Cg%20id%3D%22node72%22%20class%3D%22node%22%20data-tippy-content%3D%22Purchase%20cost%3A%20147%2C386%20USD%3Cbr%26gt%3BInstalled%20equipment%20cost%3A%20338%2C988%20USD%22%3E%0A%3Cg%20id%3D%22a_node72%22%3E%3Ca%20title%3D%22%20Purchase%20cost%3A%20147%2C386%20USD%3Cbr%26gt%3BInstalled%20equipment%20cost%3A%20338%2C988%20USD%22%3E%0A%3Cdefs%3E%0A%3ClinearGradient%20id%3D%22node72_l_65%22%20gradientUnits%3D%22userSpaceOnUse%22%20x1%3D%226369.37%22%20y1%3D%22-1132.05%22%20x2%3D%226461.87%22%20y2%3D%22-1132.05%22%3E%0A%3Cstop%20offset%3D%220%22%20style%3D%22stop-color%3A%23fcfcfc%3Bstop-opacity%3A1.%3B%22%3E%3C/stop%3E%0A%3Cstop%20offset%3D%221%22%20style%3D%22stop-color%3A%23e6e6e6%3Bstop-opacity%3A1.%3B%22%3E%3C/stop%3E%0A%3C/linearGradient%3E%0A%3C/defs%3E%0A%3Cpolygon%20fill%3D%22url%28%23node72_l_65%29%22%20stroke%3D%22%234e4e4e%22%20points%3D%226461.87%2C-1153.65%206369.37%2C-1153.65%206369.37%2C-1110.45%206461.87%2C-1110.45%206461.87%2C-1153.65%22%3E%3C/polygon%3E%0A%3Ctext%20text-anchor%3D%22middle%22%20x%3D%226415.62%22%20y%3D%22-1134.5%22%20font-family%3D%22Arial%22%20font-size%3D%2214.00%22%20space%3D%22preserve%22%3ET701%3C/text%3E%0A%3Ctext%20text-anchor%3D%22middle%22%20x%3D%226415.62%22%20y%3D%22-1118.75%22%20font-family%3D%22Arial%22%20font-size%3D%2214.00%22%20space%3D%22preserve%22%3EStorage%20tank%3C/text%3E%0A%3C/a%3E%0A%3C/g%3E%0A%3C/g%3E%0A%0A%3Cg%20id%3D%22node73%22%20class%3D%22node%22%20data-tippy-content%3D%22Electricity%20consumption%3A%201.73%20kW%3Cbr%26gt%3BUtility%20cost%3A%200.135%20USD/hr%3Cbr%26gt%3BPurchase%20cost%3A%204%2C582%20USD%3Cbr%26gt%3BInstalled%20equipment%20cost%3A%2015%2C122%20USD%22%3E%0A%3Cg%20id%3D%22a_node73%22%3E%3Ca%20title%3D%22%20Electricity%20consumption%3A%201.73%20kW%3Cbr%26gt%3BUtility%20cost%3A%200.135%20USD/hr%3Cbr%26gt%3BPurchase%20cost%3A%204%2C582%20USD%3Cbr%26gt%3BInstalled%20equipment%20cost%3A%2015%2C122%20USD%22%3E%0A%3Cdefs%3E%0A%3ClinearGradient%20id%3D%22node73_l_66%22%20gradientUnits%3D%22userSpaceOnUse%22%20x1%3D%226586.02%22%20y1%3D%22-1132.05%22%20x2%3D%226638.02%22%20y2%3D%22-1132.05%22%3E%0A%3Cstop%20offset%3D%220%22%20style%3D%22stop-color%3A%23fcfcfc%3Bstop-opacity%3A1.%3B%22%3E%3C/stop%3E%0A%3Cstop%20offset%3D%221%22%20style%3D%22stop-color%3A%23e6e6e6%3Bstop-opacity%3A1.%3B%22%3E%3C/stop%3E%0A%3C/linearGradient%3E%0A%3C/defs%3E%0A%3Cpolygon%20fill%3D%22url%28%23node73_l_66%29%22%20stroke%3D%22%234e4e4e%22%20points%3D%226638.02%2C-1153.65%206586.02%2C-1153.65%206586.02%2C-1110.45%206638.02%2C-1110.45%206638.02%2C-1153.65%22%3E%3C/polygon%3E%0A%3Ctext%20text-anchor%3D%22middle%22%20x%3D%226612.02%22%20y%3D%22-1134.5%22%20font-family%3D%22Arial%22%20font-size%3D%2214.00%22%20space%3D%22preserve%22%3EP701%3C/text%3E%0A%3Ctext%20text-anchor%3D%22middle%22%20x%3D%226612.02%22%20y%3D%22-1118.75%22%20font-family%3D%22Arial%22%20font-size%3D%2214.00%22%20space%3D%22preserve%22%3EPump%3C/text%3E%0A%3C/a%3E%0A%3C/g%3E%0A%3C/g%3E%0A%0A%3Cg%20id%3D%22node74%22%20class%3D%22node%22%20data-tippy-content%3D%22Purchase%20cost%3A%2084%2C031%20USD%3Cbr%26gt%3BInstalled%20equipment%20cost%3A%20193%2C272%20USD%22%3E%0A%3Cg%20id%3D%22a_node74%22%3E%3Ca%20title%3D%22%20Purchase%20cost%3A%2084%2C031%20USD%3Cbr%26gt%3BInstalled%20equipment%20cost%3A%20193%2C272%20USD%22%3E%0A%3Cdefs%3E%0A%3ClinearGradient%20id%3D%22node74_l_67%22%20gradientUnits%3D%22userSpaceOnUse%22%20x1%3D%226369.37%22%20y1%3D%22-1211.05%22%20x2%3D%226461.87%22%20y2%3D%22-1211.05%22%3E%0A%3Cstop%20offset%3D%220%22%20style%3D%22stop-color%3A%23fcfcfc%3Bstop-opacity%3A1.%3B%22%3E%3C/stop%3E%0A%3Cstop%20offset%3D%221%22%20style%3D%22stop-color%3A%23e6e6e6%3Bstop-opacity%3A1.%3B%22%3E%3C/stop%3E%0A%3C/linearGradient%3E%0A%3C/defs%3E%0A%3Cpolygon%20fill%3D%22url%28%23node74_l_67%29%22%20stroke%3D%22%234e4e4e%22%20points%3D%226461.87%2C-1232.65%206369.37%2C-1232.65%206369.37%2C-1189.45%206461.87%2C-1189.45%206461.87%2C-1232.65%22%3E%3C/polygon%3E%0A%3Ctext%20text-anchor%3D%22middle%22%20x%3D%226415.62%22%20y%3D%22-1213.5%22%20font-family%3D%22Arial%22%20font-size%3D%2214.00%22%20space%3D%22preserve%22%3ET702%3C/text%3E%0A%3Ctext%20text-anchor%3D%22middle%22%20x%3D%226415.62%22%20y%3D%22-1197.75%22%20font-family%3D%22Arial%22%20font-size%3D%2214.00%22%20space%3D%22preserve%22%3EStorage%20tank%3C/text%3E%0A%3C/a%3E%0A%3C/g%3E%0A%3C/g%3E%0A%0A%3Cg%20id%3D%22node75%22%20class%3D%22node%22%20data-tippy-content%3D%22Electricity%20consumption%3A%200.0535%20kW%3Cbr%26gt%3BUtility%20cost%3A%200.00418%20USD/hr%3Cbr%26gt%3BPurchase%20cost%3A%204%2C147%20USD%3Cbr%26gt%3BInstalled%20equipment%20cost%3A%2013%2C686%20USD%22%3E%0A%3Cg%20id%3D%22a_node75%22%3E%3Ca%20title%3D%22%20Electricity%20consumption%3A%200.0535%20kW%3Cbr%26gt%3BUtility%20cost%3A%200.00418%20USD/hr%3Cbr%26gt%3BPurchase%20cost%3A%204%2C147%20USD%3Cbr%26gt%3BInstalled%20equipment%20cost%3A%2013%2C686%20USD%22%3E%0A%3Cdefs%3E%0A%3ClinearGradient%20id%3D%22node75_l_68%22%20gradientUnits%3D%22userSpaceOnUse%22%20x1%3D%226586.02%22%20y1%3D%22-1211.05%22%20x2%3D%226638.02%22%20y2%3D%22-1211.05%22%3E%0A%3Cstop%20offset%3D%220%22%20style%3D%22stop-color%3A%23fcfcfc%3Bstop-opacity%3A1.%3B%22%3E%3C/stop%3E%0A%3Cstop%20offset%3D%221%22%20style%3D%22stop-color%3A%23e6e6e6%3Bstop-opacity%3A1.%3B%22%3E%3C/stop%3E%0A%3C/linearGradient%3E%0A%3C/defs%3E%0A%3Cpolygon%20fill%3D%22url%28%23node75_l_68%29%22%20stroke%3D%22%234e4e4e%22%20points%3D%226638.02%2C-1232.65%206586.02%2C-1232.65%206586.02%2C-1189.45%206638.02%2C-1189.45%206638.02%2C-1232.65%22%3E%3C/polygon%3E%0A%3Ctext%20text-anchor%3D%22middle%22%20x%3D%226612.02%22%20y%3D%22-1213.5%22%20font-family%3D%22Arial%22%20font-size%3D%2214.00%22%20space%3D%22preserve%22%3EP702%3C/text%3E%0A%3Ctext%20text-anchor%3D%22middle%22%20x%3D%226612.02%22%20y%3D%22-1197.75%22%20font-family%3D%22Arial%22%20font-size%3D%2214.00%22%20space%3D%22preserve%22%3EPump%3C/text%3E%0A%3C/a%3E%0A%3C/g%3E%0A%3C/g%3E%0A%0A%3Cg%20id%3D%22node76%22%20class%3D%22node%22%20data-tippy-content%3D%22No%20capital%20costs%20or%20utilities%22%3E%0A%3Cg%20id%3D%22a_node76%22%3E%3Ca%20title%3D%22%20No%20capital%20costs%20or%20utilities%22%3E%0A%3Cdefs%3E%0A%3ClinearGradient%20id%3D%22node76_l_69%22%20gradientUnits%3D%22userSpaceOnUse%22%20x1%3D%226823%22%20y1%3D%22-1173.05%22%20x2%3D%226930.13%22%20y2%3D%22-1173.05%22%3E%0A%3Cstop%20offset%3D%220%22%20style%3D%22stop-color%3A%23fcfcfc%3Bstop-opacity%3A1.%3B%22%3E%3C/stop%3E%0A%3Cstop%20offset%3D%221%22%20style%3D%22stop-color%3A%23e6e6e6%3Bstop-opacity%3A1.%3B%22%3E%3C/stop%3E%0A%3C/linearGradient%3E%0A%3C/defs%3E%0A%3Cpolygon%20fill%3D%22url%28%23node76_l_69%29%22%20stroke%3D%22%234e4e4e%22%20points%3D%226930.13%2C-1173.05%206823%2C-1228.91%206823%2C-1117.18%206930.13%2C-1173.05%22%3E%3C/polygon%3E%0A%3Ctext%20text-anchor%3D%22middle%22%20x%3D%226858.71%22%20y%3D%22-1175.5%22%20font-family%3D%22Arial%22%20font-size%3D%2214.00%22%20space%3D%22preserve%22%3EM701%3C/text%3E%0A%3Ctext%20text-anchor%3D%22middle%22%20x%3D%226858.71%22%20y%3D%22-1159.75%22%20font-family%3D%22Arial%22%20font-size%3D%2214.00%22%20space%3D%22preserve%22%3EMixer%3C/text%3E%0A%3C/a%3E%0A%3C/g%3E%0A%3C/g%3E%0A%0A%3Cg%20id%3D%22node77%22%20class%3D%22node%22%20data-tippy-content%3D%22Purchase%20cost%3A%20770%2C605%20USD%3Cbr%26gt%3BInstalled%20equipment%20cost%3A%201%2C772%2C392%20USD%22%3E%0A%3Cg%20id%3D%22a_node77%22%3E%3Ca%20title%3D%22%20Purchase%20cost%3A%20770%2C605%20USD%3Cbr%26gt%3BInstalled%20equipment%20cost%3A%201%2C772%2C392%20USD%22%3E%0A%3Cdefs%3E%0A%3ClinearGradient%20id%3D%22node77_l_70%22%20gradientUnits%3D%22userSpaceOnUse%22%20x1%3D%227085.25%22%20y1%3D%22-1173.05%22%20x2%3D%227177.75%22%20y2%3D%22-1173.05%22%3E%0A%3Cstop%20offset%3D%220%22%20style%3D%22stop-color%3A%23fcfcfc%3Bstop-opacity%3A1.%3B%22%3E%3C/stop%3E%0A%3Cstop%20offset%3D%221%22%20style%3D%22stop-color%3A%23e6e6e6%3Bstop-opacity%3A1.%3B%22%3E%3C/stop%3E%0A%3C/linearGradient%3E%0A%3C/defs%3E%0A%3Cpolygon%20fill%3D%22url%28%23node77_l_70%29%22%20stroke%3D%22%234e4e4e%22%20points%3D%227177.75%2C-1194.65%207085.25%2C-1194.65%207085.25%2C-1151.45%207177.75%2C-1151.45%207177.75%2C-1194.65%22%3E%3C/polygon%3E%0A%3Ctext%20text-anchor%3D%22middle%22%20x%3D%227131.5%22%20y%3D%22-1175.5%22%20font-family%3D%22Arial%22%20font-size%3D%2214.00%22%20space%3D%22preserve%22%3ET703%3C/text%3E%0A%3Ctext%20text-anchor%3D%22middle%22%20x%3D%227131.5%22%20y%3D%22-1159.75%22%20font-family%3D%22Arial%22%20font-size%3D%2214.00%22%20space%3D%22preserve%22%3EStorage%20tank%3C/text%3E%0A%3C/a%3E%0A%3C/g%3E%0A%3C/g%3E%0A%0A%3Cg%20id%3D%22node78%22%20class%3D%22node%22%20data-tippy-content%3D%22No%20capital%20costs%20or%20utilities%22%3E%0A%3Cg%20id%3D%22a_node78%22%3E%3Ca%20title%3D%22%20No%20capital%20costs%20or%20utilities%22%3E%0A%3Cdefs%3E%0A%3ClinearGradient%20id%3D%22node78_l_71%22%20gradientUnits%3D%22userSpaceOnUse%22%20x1%3D%225872.68%22%20y1%3D%22-334.05%22%20x2%3D%225978.22%22%20y2%3D%22-334.05%22%3E%0A%3Cstop%20offset%3D%220%22%20style%3D%22stop-color%3A%23fcfcfc%3Bstop-opacity%3A1.%3B%22%3E%3C/stop%3E%0A%3Cstop%20offset%3D%221%22%20style%3D%22stop-color%3A%23e6e6e6%3Bstop-opacity%3A1.%3B%22%3E%3C/stop%3E%0A%3C/linearGradient%3E%0A%3C/defs%3E%0A%3Cpolygon%20fill%3D%22url%28%23node78_l_71%29%22%20stroke%3D%22%234e4e4e%22%20points%3D%225978.22%2C-334.05%205872.68%2C-389.91%205872.68%2C-278.18%205978.22%2C-334.05%22%3E%3C/polygon%3E%0A%3Ctext%20text-anchor%3D%22middle%22%20x%3D%225907.86%22%20y%3D%22-336.5%22%20font-family%3D%22Arial%22%20font-size%3D%2214.00%22%20space%3D%22preserve%22%3EM4%3C/text%3E%0A%3Ctext%20text-anchor%3D%22middle%22%20x%3D%225907.86%22%20y%3D%22-320.75%22%20font-family%3D%22Arial%22%20font-size%3D%2214.00%22%20space%3D%22preserve%22%3EMixer%3C/text%3E%0A%3C/a%3E%0A%3C/g%3E%0A%3C/g%3E%0A%0A%3Cg%20id%3D%22node79%22%20class%3D%22node%22%20data-tippy-content%3D%22Electricity%20consumption%3A%201.44%20kW%3Cbr%26gt%3BUtility%20cost%3A%200.112%20USD/hr%3Cbr%26gt%3BPurchase%20cost%3A%204%2C499%20USD%3Cbr%26gt%3BInstalled%20equipment%20cost%3A%2014%2C849%20USD%22%3E%0A%3Cg%20id%3D%22a_node79%22%3E%3Ca%20title%3D%22%20Electricity%20consumption%3A%201.44%20kW%3Cbr%26gt%3BUtility%20cost%3A%200.112%20USD/hr%3Cbr%26gt%3BPurchase%20cost%3A%204%2C499%20USD%3Cbr%26gt%3BInstalled%20equipment%20cost%3A%2014%2C849%20USD%22%3E%0A%3Cdefs%3E%0A%3ClinearGradient%20id%3D%22node79_l_72%22%20gradientUnits%3D%22userSpaceOnUse%22%20x1%3D%225629.7%22%20y1%3D%22-982.05%22%20x2%3D%225681.7%22%20y2%3D%22-982.05%22%3E%0A%3Cstop%20offset%3D%220%22%20style%3D%22stop-color%3A%23fcfcfc%3Bstop-opacity%3A1.%3B%22%3E%3C/stop%3E%0A%3Cstop%20offset%3D%221%22%20style%3D%22stop-color%3A%23e6e6e6%3Bstop-opacity%3A1.%3B%22%3E%3C/stop%3E%0A%3C/linearGradient%3E%0A%3C/defs%3E%0A%3Cpolygon%20fill%3D%22url%28%23node79_l_72%29%22%20stroke%3D%22%234e4e4e%22%20points%3D%225681.7%2C-1003.65%205629.7%2C-1003.65%205629.7%2C-960.45%205681.7%2C-960.45%205681.7%2C-1003.65%22%3E%3C/polygon%3E%0A%3Ctext%20text-anchor%3D%22middle%22%20x%3D%225655.7%22%20y%3D%22-984.5%22%20font-family%3D%22Arial%22%20font-size%3D%2214.00%22%20space%3D%22preserve%22%3EP403%3C/text%3E%0A%3Ctext%20text-anchor%3D%22middle%22%20x%3D%225655.7%22%20y%3D%22-968.75%22%20font-family%3D%22Arial%22%20font-size%3D%2214.00%22%20space%3D%22preserve%22%3EPump%3C/text%3E%0A%3C/a%3E%0A%3C/g%3E%0A%3C/g%3E%0A%0A%3Cg%20id%3D%22node80%22%20class%3D%22node%22%20data-tippy-content%3D%22No%20capital%20costs%20or%20utilities%22%3E%0A%3Cg%20id%3D%22a_node80%22%3E%3Ca%20title%3D%22%20No%20capital%20costs%20or%20utilities%22%3E%0A%3Cdefs%3E%0A%3ClinearGradient%20id%3D%22node80_l_73%22%20gradientUnits%3D%22userSpaceOnUse%22%20x1%3D%226022.46%22%20y1%3D%22-1027.05%22%20x2%3D%226128%22%20y2%3D%22-1027.05%22%3E%0A%3Cstop%20offset%3D%220%22%20style%3D%22stop-color%3A%23fcfcfc%3Bstop-opacity%3A1.%3B%22%3E%3C/stop%3E%0A%3Cstop%20offset%3D%221%22%20style%3D%22stop-color%3A%23e6e6e6%3Bstop-opacity%3A1.%3B%22%3E%3C/stop%3E%0A%3C/linearGradient%3E%0A%3C/defs%3E%0A%3Cpolygon%20fill%3D%22url%28%23node80_l_73%29%22%20stroke%3D%22%234e4e4e%22%20points%3D%226128%2C-1027.05%206022.46%2C-1082.91%206022.46%2C-971.18%206128%2C-1027.05%22%3E%3C/polygon%3E%0A%3Ctext%20text-anchor%3D%22middle%22%20x%3D%226057.64%22%20y%3D%22-1029.5%22%20font-family%3D%22Arial%22%20font-size%3D%2214.00%22%20space%3D%22preserve%22%3EM5%3C/text%3E%0A%3Ctext%20text-anchor%3D%22middle%22%20x%3D%226057.64%22%20y%3D%22-1013.75%22%20font-family%3D%22Arial%22%20font-size%3D%2214.00%22%20space%3D%22preserve%22%3EMixer%3C/text%3E%0A%3C/a%3E%0A%3C/g%3E%0A%3C/g%3E%0A%0A%3Cg%20id%3D%22node81%22%20class%3D%22node%22%20data-tippy-content%3D%22No%20capital%20costs%20or%20utilities%22%3E%0A%3Cg%20id%3D%22a_node81%22%3E%3Ca%20title%3D%22%20No%20capital%20costs%20or%20utilities%22%3E%0A%3Cdefs%3E%0A%3ClinearGradient%20id%3D%22node81_l_74%22%20gradientUnits%3D%22userSpaceOnUse%22%20x1%3D%22148.67%22%20y1%3D%22-848.05%22%20x2%3D%22250.92%22%20y2%3D%22-848.05%22%3E%0A%3Cstop%20offset%3D%220%22%20style%3D%22stop-color%3A%23fcfcfc%3Bstop-opacity%3A1.%3B%22%3E%3C/stop%3E%0A%3Cstop%20offset%3D%221%22%20style%3D%22stop-color%3A%23e6e6e6%3Bstop-opacity%3A1.%3B%22%3E%3C/stop%3E%0A%3C/linearGradient%3E%0A%3C/defs%3E%0A%3Cpolygon%20fill%3D%22url%28%23node81_l_74%29%22%20stroke%3D%22%234e4e4e%22%20points%3D%22250.92%2C-869.65%20148.67%2C-869.65%20148.67%2C-826.45%20250.92%2C-826.45%20250.92%2C-869.65%22%3E%3C/polygon%3E%0A%3Ctext%20text-anchor%3D%22middle%22%20x%3D%22199.8%22%20y%3D%22-850.5%22%20font-family%3D%22Arial%22%20font-size%3D%2214.00%22%20space%3D%22preserve%22%3EM2%3C/text%3E%0A%3Ctext%20text-anchor%3D%22middle%22%20x%3D%22199.8%22%20y%3D%22-834.75%22%20font-family%3D%22Arial%22%20font-size%3D%2214.00%22%20space%3D%22preserve%22%3ECatalyst%20mixer%3C/text%3E%0A%3C/a%3E%0A%3C/g%3E%0A%3C/g%3E%0A%0A%3Cg%20id%3D%22node82%22%20class%3D%22node%22%20data-tippy-content%3D%22Electricity%20consumption%3A%201.85e%2B03%20kW%3Cbr%26gt%3BCooling%20duty%3A%20-4.28e%2B04%20MJ/hr%3Cbr%26gt%3BHeating%20duty%3A%204.28e%2B04%20MJ/hr%3Cbr%26gt%3BUtility%20cost%3A%20-54.9%20USD/hr%3Cbr%26gt%3BPurchase%20cost%3A%201%2C085%2C049%20USD%3Cbr%26gt%3BInstalled%20equipment%20cost%3A%201%2C627%2C574%20USD%22%3E%0A%3Cg%20id%3D%22a_node82%22%3E%3Ca%20title%3D%22%20Electricity%20consumption%3A%201.85e%2B03%20kW%3Cbr%26gt%3BCooling%20duty%3A%20-4.28e%2B04%20MJ/hr%3Cbr%26gt%3BHeating%20duty%3A%204.28e%2B04%20MJ/hr%3Cbr%26gt%3BUtility%20cost%3A%20-54.9%20USD/hr%3Cbr%26gt%3BPurchase%20cost%3A%201%2C085%2C049%20USD%3Cbr%26gt%3BInstalled%20equipment%20cost%3A%201%2C627%2C574%20USD%22%3E%0A%3Cdefs%3E%0A%3ClinearGradient%20id%3D%22node82_l_75%22%20gradientUnits%3D%22userSpaceOnUse%22%20x1%3D%22125.42%22%20y1%3D%22-927.05%22%20x2%3D%22274.17%22%20y2%3D%22-927.05%22%3E%0A%3Cstop%20offset%3D%220%22%20style%3D%22stop-color%3A%23fcfcfc%3Bstop-opacity%3A1.%3B%22%3E%3C/stop%3E%0A%3Cstop%20offset%3D%221%22%20style%3D%22stop-color%3A%23e6e6e6%3Bstop-opacity%3A1.%3B%22%3E%3C/stop%3E%0A%3C/linearGradient%3E%0A%3C/defs%3E%0A%3Cpolygon%20fill%3D%22url%28%23node82_l_75%29%22%20stroke%3D%22%234e4e4e%22%20points%3D%22274.17%2C-948.65%20125.42%2C-948.65%20125.42%2C-905.45%20274.17%2C-905.45%20274.17%2C-948.65%22%3E%3C/polygon%3E%0A%3Ctext%20text-anchor%3D%22middle%22%20x%3D%22199.8%22%20y%3D%22-929.5%22%20font-family%3D%22Arial%22%20font-size%3D%2214.00%22%20space%3D%22preserve%22%3ECWP%3C/text%3E%0A%3Ctext%20text-anchor%3D%22middle%22%20x%3D%22199.8%22%20y%3D%22-913.75%22%20font-family%3D%22Arial%22%20font-size%3D%2214.00%22%20space%3D%22preserve%22%3EChilled%20water%20package%3C/text%3E%0A%3C/a%3E%0A%3C/g%3E%0A%3C/g%3E%0A%0A%3Cg%20id%3D%22node83%22%20class%3D%22node%22%20data-tippy-content%3D%22Electricity%20consumption%3A%2065.4%20kW%3Cbr%26gt%3BUtility%20cost%3A%205.11%20USD/hr%3Cbr%26gt%3BPurchase%20cost%3A%20656%2C123%20USD%3Cbr%26gt%3BInstalled%20equipment%20cost%3A%201%2C179%2C861%20USD%22%3E%0A%3Cg%20id%3D%22a_node83%22%3E%3Ca%20title%3D%22%20Electricity%20consumption%3A%2065.4%20kW%3Cbr%26gt%3BUtility%20cost%3A%205.11%20USD/hr%3Cbr%26gt%3BPurchase%20cost%3A%20656%2C123%20USD%3Cbr%26gt%3BInstalled%20equipment%20cost%3A%201%2C179%2C861%20USD%22%3E%0A%3Cdefs%3E%0A%3ClinearGradient%20id%3D%22node83_l_76%22%20gradientUnits%3D%22userSpaceOnUse%22%20x1%3D%22147.17%22%20y1%3D%22-1006.05%22%20x2%3D%22252.42%22%20y2%3D%22-1006.05%22%3E%0A%3Cstop%20offset%3D%220%22%20style%3D%22stop-color%3A%23fcfcfc%3Bstop-opacity%3A1.%3B%22%3E%3C/stop%3E%0A%3Cstop%20offset%3D%221%22%20style%3D%22stop-color%3A%23e6e6e6%3Bstop-opacity%3A1.%3B%22%3E%3C/stop%3E%0A%3C/linearGradient%3E%0A%3C/defs%3E%0A%3Cpolygon%20fill%3D%22url%28%23node83_l_76%29%22%20stroke%3D%22%234e4e4e%22%20points%3D%22252.42%2C-1027.65%20147.17%2C-1027.65%20147.17%2C-984.45%20252.42%2C-984.45%20252.42%2C-1027.65%22%3E%3C/polygon%3E%0A%3Ctext%20text-anchor%3D%22middle%22%20x%3D%22199.8%22%20y%3D%22-1008.5%22%20font-family%3D%22Arial%22%20font-size%3D%2214.00%22%20space%3D%22preserve%22%3EFWT%3C/text%3E%0A%3Ctext%20text-anchor%3D%22middle%22%20x%3D%22199.8%22%20y%3D%22-992.75%22%20font-family%3D%22Arial%22%20font-size%3D%2214.00%22%20space%3D%22preserve%22%3EFire%20water%20tank%3C/text%3E%0A%3C/a%3E%0A%3C/g%3E%0A%3C/g%3E%0A%0A%3Cg%20id%3D%22node84%22%20class%3D%22node%22%20data-tippy-content%3D%22Purchase%20cost%3A%20531%2C797%20USD%3Cbr%26gt%3BInstalled%20equipment%20cost%3A%20957%2C234%20USD%22%3E%0A%3Cg%20id%3D%22a_node84%22%3E%3Ca%20title%3D%22%20Purchase%20cost%3A%20531%2C797%20USD%3Cbr%26gt%3BInstalled%20equipment%20cost%3A%20957%2C234%20USD%22%3E%0A%3Cdefs%3E%0A%3ClinearGradient%20id%3D%22node84_l_77%22%20gradientUnits%3D%22userSpaceOnUse%22%20x1%3D%22152.42%22%20y1%3D%22-1085.05%22%20x2%3D%22247.17%22%20y2%3D%22-1085.05%22%3E%0A%3Cstop%20offset%3D%220%22%20style%3D%22stop-color%3A%23fcfcfc%3Bstop-opacity%3A1.%3B%22%3E%3C/stop%3E%0A%3Cstop%20offset%3D%221%22%20style%3D%22stop-color%3A%23e6e6e6%3Bstop-opacity%3A1.%3B%22%3E%3C/stop%3E%0A%3C/linearGradient%3E%0A%3C/defs%3E%0A%3Cpolygon%20fill%3D%22url%28%23node84_l_77%29%22%20stroke%3D%22%234e4e4e%22%20points%3D%22247.17%2C-1106.65%20152.42%2C-1106.65%20152.42%2C-1063.45%20247.17%2C-1063.45%20247.17%2C-1106.65%22%3E%3C/polygon%3E%0A%3Ctext%20text-anchor%3D%22middle%22%20x%3D%22199.8%22%20y%3D%22-1087.5%22%20font-family%3D%22Arial%22%20font-size%3D%2214.00%22%20space%3D%22preserve%22%3ECIP%3C/text%3E%0A%3Ctext%20text-anchor%3D%22middle%22%20x%3D%22199.8%22%20y%3D%22-1071.75%22%20font-family%3D%22Arial%22%20font-size%3D%2214.00%22%20space%3D%22preserve%22%3ECIP%20Package%3C/text%3E%0A%3C/a%3E%0A%3C/g%3E%0A%3C/g%3E%0A%0A%3Cg%20id%3D%22node85%22%20class%3D%22node%22%20data-tippy-content%3D%22Electricity%20consumption%3A%20747%20kW%3Cbr%26gt%3BHeating%20duty%3A%202.41e%2B05%20MJ/hr%3Cbr%26gt%3BUtility%20cost%3A%20-21.8%20USD/hr%3Cbr%26gt%3BPurchase%20cost%3A%20673%2C303%20USD%3Cbr%26gt%3BInstalled%20equipment%20cost%3A%201%2C166%2C431%20USD%22%3E%0A%3Cg%20id%3D%22a_node85%22%3E%3Ca%20title%3D%22%20Electricity%20consumption%3A%20747%20kW%3Cbr%26gt%3BHeating%20duty%3A%202.41e%2B05%20MJ/hr%3Cbr%26gt%3BUtility%20cost%3A%20-21.8%20USD/hr%3Cbr%26gt%3BPurchase%20cost%3A%20673%2C303%20USD%3Cbr%26gt%3BInstalled%20equipment%20cost%3A%201%2C166%2C431%20USD%22%3E%0A%3Cdefs%3E%0A%3ClinearGradient%20id%3D%22node85_l_78%22%20gradientUnits%3D%22userSpaceOnUse%22%20x1%3D%22150.55%22%20y1%3D%22-1215.05%22%20x2%3D%22249.05%22%20y2%3D%22-1215.05%22%3E%0A%3Cstop%20offset%3D%220%22%20style%3D%22stop-color%3A%23fcfcfc%3Bstop-opacity%3A1.%3B%22%3E%3C/stop%3E%0A%3Cstop%20offset%3D%221%22%20style%3D%22stop-color%3A%23e6e6e6%3Bstop-opacity%3A1.%3B%22%3E%3C/stop%3E%0A%3C/linearGradient%3E%0A%3C/defs%3E%0A%3Cpolygon%20fill%3D%22url%28%23node85_l_78%29%22%20stroke%3D%22%234e4e4e%22%20points%3D%22249.05%2C-1236.65%20150.55%2C-1236.65%20150.55%2C-1193.45%20249.05%2C-1193.45%20249.05%2C-1236.65%22%3E%3C/polygon%3E%0A%3Ctext%20text-anchor%3D%22middle%22%20x%3D%22199.8%22%20y%3D%22-1217.5%22%20font-family%3D%22Arial%22%20font-size%3D%2214.00%22%20space%3D%22preserve%22%3ECT%3C/text%3E%0A%3Ctext%20text-anchor%3D%22middle%22%20x%3D%22199.8%22%20y%3D%22-1201.75%22%20font-family%3D%22Arial%22%20font-size%3D%2214.00%22%20space%3D%22preserve%22%3ECooling%20tower%3C/text%3E%0A%3C/a%3E%0A%3C/g%3E%0A%3C/g%3E%0A%0A%3Cg%20id%3D%22node86%22%20class%3D%22node%22%20data-tippy-content%3D%22Electricity%20consumption%3A%2077.6%20kW%3Cbr%26gt%3BUtility%20cost%3A%206.07%20USD/hr%3Cbr%26gt%3BPurchase%20cost%3A%2047%2C932%20USD%3Cbr%26gt%3BInstalled%20equipment%20cost%3A%2099%2C188%20USD%22%3E%0A%3Cg%20id%3D%22a_node86%22%3E%3Ca%20title%3D%22%20Electricity%20consumption%3A%2077.6%20kW%3Cbr%26gt%3BUtility%20cost%3A%206.07%20USD/hr%3Cbr%26gt%3BPurchase%20cost%3A%2047%2C932%20USD%3Cbr%26gt%3BInstalled%20equipment%20cost%3A%2099%2C188%20USD%22%3E%0A%3Cdefs%3E%0A%3ClinearGradient%20id%3D%22node86_l_79%22%20gradientUnits%3D%22userSpaceOnUse%22%20x1%3D%22121.67%22%20y1%3D%22-1345.05%22%20x2%3D%22277.92%22%20y2%3D%22-1345.05%22%3E%0A%3Cstop%20offset%3D%220%22%20style%3D%22stop-color%3A%23fcfcfc%3Bstop-opacity%3A1.%3B%22%3E%3C/stop%3E%0A%3Cstop%20offset%3D%221%22%20style%3D%22stop-color%3A%23e6e6e6%3Bstop-opacity%3A1.%3B%22%3E%3C/stop%3E%0A%3C/linearGradient%3E%0A%3C/defs%3E%0A%3Cpolygon%20fill%3D%22url%28%23node86_l_79%29%22%20stroke%3D%22%234e4e4e%22%20points%3D%22277.92%2C-1366.65%20121.67%2C-1366.65%20121.67%2C-1323.45%20277.92%2C-1323.45%20277.92%2C-1366.65%22%3E%3C/polygon%3E%0A%3Ctext%20text-anchor%3D%22middle%22%20x%3D%22199.8%22%20y%3D%22-1347.5%22%20font-family%3D%22Arial%22%20font-size%3D%2214.00%22%20space%3D%22preserve%22%3EADP%3C/text%3E%0A%3Ctext%20text-anchor%3D%22middle%22%20x%3D%22199.8%22%20y%3D%22-1331.75%22%20font-family%3D%22Arial%22%20font-size%3D%2214.00%22%20space%3D%22preserve%22%3EAir%20distribution%20package%3C/text%3E%0A%3C/a%3E%0A%3C/g%3E%0A%3C/g%3E%0A%0A%3Cg%20id%3D%22node87%22%20class%3D%22node%22%20data-tippy-content%3D%22Electricity%20consumption%3A%20969%20kW%3Cbr%26gt%3BElectricity%20production%3A%201.78e%2B04%20kW%3Cbr%26gt%3BCooling%20duty%3A%20-3.01e%2B05%20MJ/hr%3Cbr%26gt%3BUtility%20cost%3A%20-3.11e%2B03%20USD/hr%3Cbr%26gt%3BPurchase%20cost%3A%2028%2C848%2C590%20USD%3Cbr%26gt%3BInstalled%20equipment%20cost%3A%2052%2C099%2C458%20USD%22%3E%0A%3Cg%20id%3D%22a_node87%22%3E%3Ca%20title%3D%22%20Electricity%20consumption%3A%20969%20kW%3Cbr%26gt%3BElectricity%20production%3A%201.78e%2B04%20kW%3Cbr%26gt%3BCooling%20duty%3A%20-3.01e%2B05%20MJ/hr%3Cbr%26gt%3BUtility%20cost%3A%20-3.11e%2B03%20USD/hr%3Cbr%26gt%3BPurchase%20cost%3A%2028%2C848%2C590%20USD%3Cbr%26gt%3BInstalled%20equipment%20cost%3A%2052%2C099%2C458%20USD%22%3E%0A%3Cdefs%3E%0A%3ClinearGradient%20id%3D%22node87_l_80%22%20gradientUnits%3D%22userSpaceOnUse%22%20x1%3D%227526.96%22%20y1%3D%22-855.05%22%20x2%3D%227669.71%22%20y2%3D%22-855.05%22%3E%0A%3Cstop%20offset%3D%220%22%20style%3D%22stop-color%3A%23fcfcfc%3Bstop-opacity%3A1.%3B%22%3E%3C/stop%3E%0A%3Cstop%20offset%3D%221%22%20style%3D%22stop-color%3A%23e6e6e6%3Bstop-opacity%3A1.%3B%22%3E%3C/stop%3E%0A%3C/linearGradient%3E%0A%3C/defs%3E%0A%3Cpolygon%20fill%3D%22url%28%23node87_l_80%29%22%20stroke%3D%22%234e4e4e%22%20points%3D%227669.71%2C-876.65%207526.96%2C-876.65%207526.96%2C-833.45%207669.71%2C-833.45%207669.71%2C-876.65%22%3E%3C/polygon%3E%0A%3Ctext%20text-anchor%3D%22middle%22%20x%3D%227598.34%22%20y%3D%22-857.5%22%20font-family%3D%22Arial%22%20font-size%3D%2214.00%22%20space%3D%22preserve%22%3EBT%3C/text%3E%0A%3Ctext%20text-anchor%3D%22middle%22%20x%3D%227598.34%22%20y%3D%22-841.75%22%20font-family%3D%22Arial%22%20font-size%3D%2214.00%22%20space%3D%22preserve%22%3EBoiler%20turbogenerator%3C/text%3E%0A%3C/a%3E%0A%3C/g%3E%0A%3C/g%3E%0A%0A%3Cg%20id%3D%22node88%22%20class%3D%22node%22%20data-tippy-content%3D%22Electricity%20consumption%3A%2039.4%20kW%3Cbr%26gt%3BUtility%20cost%3A%207.23%20USD/hr%3Cbr%26gt%3BPurchase%20cost%3A%20230%2C020%20USD%3Cbr%26gt%3BInstalled%20equipment%20cost%3A%20407%2C947%20USD%22%3E%0A%3Cg%20id%3D%22a_node88%22%3E%3Ca%20title%3D%22%20Electricity%20consumption%3A%2039.4%20kW%3Cbr%26gt%3BUtility%20cost%3A%207.23%20USD/hr%3Cbr%26gt%3BPurchase%20cost%3A%20230%2C020%20USD%3Cbr%26gt%3BInstalled%20equipment%20cost%3A%20407%2C947%20USD%22%3E%0A%3Cdefs%3E%0A%3ClinearGradient%20id%3D%22node88_l_81%22%20gradientUnits%3D%22userSpaceOnUse%22%20x1%3D%227060.13%22%20y1%3D%22-832.05%22%20x2%3D%227202.88%22%20y2%3D%22-832.05%22%3E%0A%3Cstop%20offset%3D%220%22%20style%3D%22stop-color%3A%23fcfcfc%3Bstop-opacity%3A1.%3B%22%3E%3C/stop%3E%0A%3Cstop%20offset%3D%221%22%20style%3D%22stop-color%3A%23e6e6e6%3Bstop-opacity%3A1.%3B%22%3E%3C/stop%3E%0A%3C/linearGradient%3E%0A%3C/defs%3E%0A%3Cpolygon%20fill%3D%22url%28%23node88_l_81%29%22%20stroke%3D%22%234e4e4e%22%20points%3D%227202.88%2C-853.65%207060.13%2C-853.65%207060.13%2C-810.45%207202.88%2C-810.45%207202.88%2C-853.65%22%3E%3C/polygon%3E%0A%3Ctext%20text-anchor%3D%22middle%22%20x%3D%227131.5%22%20y%3D%22-834.5%22%20font-family%3D%22Arial%22%20font-size%3D%2214.00%22%20space%3D%22preserve%22%3EPWC%3C/text%3E%0A%3Ctext%20text-anchor%3D%22middle%22%20x%3D%227131.5%22%20y%3D%22-818.75%22%20font-family%3D%22Arial%22%20font-size%3D%2214.00%22%20space%3D%22preserve%22%3EProcess%20water%20center%3C/text%3E%0A%3C/a%3E%0A%3C/g%3E%0A%3C/g%3E%0A%0A%3Cg%20id%3D%22node89%22%20class%3D%22node%22%20data-tippy-content%3D%22121013316008%22%3E%0A%3Cpolygon%20fill%3D%22%23f98f60%22%20stroke%3D%22%234e4e4e%22%20points%3D%22199.8%2C-788.45%20194.4%2C-783.05%20199.8%2C-777.65%20205.2%2C-783.05%20199.8%2C-788.45%22%3E%3C/polygon%3E%0A%3C/g%3E%0A%0A%3Cg%20id%3D%22node90%22%20class%3D%22node%22%20data-tippy-content%3D%22121013676084%22%3E%0A%3Cpolygon%20fill%3D%22%23f98f60%22%20stroke%3D%22%234e4e4e%22%20points%3D%222351.4%2C-759.45%202346%2C-754.05%202351.4%2C-748.65%202356.8%2C-754.05%202351.4%2C-759.45%22%3E%3C/polygon%3E%0A%3C/g%3E%0A%0A%3Cg%20id%3D%22node91%22%20class%3D%22node%22%20data-tippy-content%3D%22121013316056%22%3E%0A%3Cpolygon%20fill%3D%22%23f98f60%22%20stroke%3D%22%234e4e4e%22%20points%3D%222088.46%2C-537.45%202083.06%2C-532.05%202088.46%2C-526.65%202093.86%2C-532.05%202088.46%2C-537.45%22%3E%3C/polygon%3E%0A%3C/g%3E%0A%0A%3Cg%20id%3D%22node92%22%20class%3D%22node%22%20data-tippy-content%3D%22121013717788%22%3E%0A%3Cpolygon%20fill%3D%22%23f98f60%22%20stroke%3D%22%234e4e4e%22%20points%3D%225.4%2C-283.45%200%2C-278.05%205.4%2C-272.65%2010.8%2C-278.05%205.4%2C-283.45%22%3E%3C/polygon%3E%0A%3C/g%3E%0A%0A%3Cg%20id%3D%22node93%22%20class%3D%22node%22%20data-tippy-content%3D%22121013717872%22%3E%0A%3Cpolygon%20fill%3D%22%23f98f60%22%20stroke%3D%22%234e4e4e%22%20points%3D%22443.67%2C-346.45%20438.27%2C-341.05%20443.67%2C-335.65%20449.07%2C-341.05%20443.67%2C-346.45%22%3E%3C/polygon%3E%0A%3C/g%3E%0A%0A%3Cg%20id%3D%22node94%22%20class%3D%22node%22%20data-tippy-content%3D%22121013717800%22%3E%0A%3Cpolygon%20fill%3D%22%23f98f60%22%20stroke%3D%22%234e4e4e%22%20points%3D%221500.68%2C-411.45%201495.28%2C-406.05%201500.68%2C-400.65%201506.08%2C-406.05%201500.68%2C-411.45%22%3E%3C/polygon%3E%0A%3C/g%3E%0A%0A%3Cg%20id%3D%22node95%22%20class%3D%22node%22%20data-tippy-content%3D%22121013738644%22%3E%0A%3Cpolygon%20fill%3D%22%23f98f60%22%20stroke%3D%22%234e4e4e%22%20points%3D%223013.86%2C-669.45%203008.46%2C-664.05%203013.86%2C-658.65%203019.26%2C-664.05%203013.86%2C-669.45%22%3E%3C/polygon%3E%0A%3C/g%3E%0A%0A%3Cg%20id%3D%22node96%22%20class%3D%22node%22%20data-tippy-content%3D%22121013738632%22%3E%0A%3Cpolygon%20fill%3D%22%23f98f60%22%20stroke%3D%22%234e4e4e%22%20points%3D%223013.86%2C-769.45%203008.46%2C-764.05%203013.86%2C-758.65%203019.26%2C-764.05%203013.86%2C-769.45%22%3E%3C/polygon%3E%0A%3C/g%3E%0A%0A%3Cg%20id%3D%22node97%22%20class%3D%22node%22%20data-tippy-content%3D%22121013738872%22%3E%0A%3Cpolygon%20fill%3D%22%23f98f60%22%20stroke%3D%22%234e4e4e%22%20points%3D%224097.15%2C-586.45%204091.75%2C-581.05%204097.15%2C-575.65%204102.55%2C-581.05%204097.15%2C-586.45%22%3E%3C/polygon%3E%0A%3C/g%3E%0A%0A%3Cg%20id%3D%22node98%22%20class%3D%22node%22%20data-tippy-content%3D%22121013738656%22%3E%0A%3Cpolygon%20fill%3D%22%23f98f60%22%20stroke%3D%22%234e4e4e%22%20points%3D%224497.39%2C-651.05%204489.29%2C-658.25%204489.29%2C-643.85%204497.39%2C-651.05%22%3E%3C/polygon%3E%0A%3C/g%3E%0A%0A%3Cg%20id%3D%22node99%22%20class%3D%22node%22%20data-tippy-content%3D%22121013830828%22%3E%0A%3Cpolygon%20fill%3D%22%23f98f60%22%20stroke%3D%22%234e4e4e%22%20points%3D%226421.02%2C-773.05%206412.92%2C-780.25%206412.92%2C-765.85%206421.02%2C-773.05%22%3E%3C/polygon%3E%0A%3C/g%3E%0A%0A%3Cg%20id%3D%22node100%22%20class%3D%22node%22%20data-tippy-content%3D%22121013717812%22%3E%0A%3Cpolygon%20fill%3D%22%23f98f60%22%20stroke%3D%22%234e4e4e%22%20points%3D%226195.75%2C-1216.45%206190.35%2C-1211.05%206195.75%2C-1205.65%206201.15%2C-1211.05%206195.75%2C-1216.45%22%3E%3C/polygon%3E%0A%3C/g%3E%0A%0A%3Cg%20id%3D%22node101%22%20class%3D%22node%22%20data-tippy-content%3D%22121013717824%22%3E%0A%3Cpolygon%20fill%3D%22%23f98f60%22%20stroke%3D%22%234e4e4e%22%20points%3D%227343.7%2C-1173.05%207335.6%2C-1180.25%207335.6%2C-1165.85%207343.7%2C-1173.05%22%3E%3C/polygon%3E%0A%3C/g%3E%0A%0A%3Cg%20id%3D%22node102%22%20class%3D%22node%22%20data-tippy-content%3D%22121013717692%22%3E%0A%3Cpolygon%20fill%3D%22%23f98f60%22%20stroke%3D%22%234e4e4e%22%20points%3D%225.4%2C-853.45%200%2C-848.05%205.4%2C-842.65%2010.8%2C-848.05%205.4%2C-853.45%22%3E%3C/polygon%3E%0A%3C/g%3E%0A%0A%3Cg%20id%3D%22node103%22%20class%3D%22node%22%20data-tippy-content%3D%22121013717716%22%3E%0A%3Cpolygon%20fill%3D%22%23f98f60%22%20stroke%3D%22%234e4e4e%22%20points%3D%22449.07%2C-848.05%20440.97%2C-855.25%20440.97%2C-840.85%20449.07%2C-848.05%22%3E%3C/polygon%3E%0A%3C/g%3E%0A%0A%3Cg%20id%3D%22node104%22%20class%3D%22node%22%20data-tippy-content%3D%22121013830660%22%3E%0A%3Cpolygon%20fill%3D%22%23f98f60%22%20stroke%3D%22%234e4e4e%22%20points%3D%225.4%2C-932.45%200%2C-927.05%205.4%2C-921.65%2010.8%2C-927.05%205.4%2C-932.45%22%3E%3C/polygon%3E%0A%3C/g%3E%0A%0A%3Cg%20id%3D%22node105%22%20class%3D%22node%22%20data-tippy-content%3D%22121013739508%22%3E%0A%3Cpolygon%20fill%3D%22%23f98f60%22%20stroke%3D%22%234e4e4e%22%20points%3D%22449.07%2C-927.05%20440.97%2C-934.25%20440.97%2C-919.85%20449.07%2C-927.05%22%3E%3C/polygon%3E%0A%3C/g%3E%0A%0A%3Cg%20id%3D%22node106%22%20class%3D%22node%22%20data-tippy-content%3D%22121013830972%22%3E%0A%3Cpolygon%20fill%3D%22%23f98f60%22%20stroke%3D%22%234e4e4e%22%20points%3D%225.4%2C-1011.45%200%2C-1006.05%205.4%2C-1000.65%2010.8%2C-1006.05%205.4%2C-1011.45%22%3E%3C/polygon%3E%0A%3C/g%3E%0A%0A%3Cg%20id%3D%22node107%22%20class%3D%22node%22%20data-tippy-content%3D%22121013830984%22%3E%0A%3Cpolygon%20fill%3D%22%23f98f60%22%20stroke%3D%22%234e4e4e%22%20points%3D%22449.07%2C-1006.05%20440.97%2C-1013.25%20440.97%2C-998.85%20449.07%2C-1006.05%22%3E%3C/polygon%3E%0A%3C/g%3E%0A%0A%3Cg%20id%3D%22node108%22%20class%3D%22node%22%20data-tippy-content%3D%22121013830924%22%3E%0A%3Cpolygon%20fill%3D%22%23f98f60%22%20stroke%3D%22%234e4e4e%22%20points%3D%225.4%2C-1090.45%200%2C-1085.05%205.4%2C-1079.65%2010.8%2C-1085.05%205.4%2C-1090.45%22%3E%3C/polygon%3E%0A%3C/g%3E%0A%0A%3Cg%20id%3D%22node109%22%20class%3D%22node%22%20data-tippy-content%3D%22121013830936%22%3E%0A%3Cpolygon%20fill%3D%22%23f98f60%22%20stroke%3D%22%234e4e4e%22%20points%3D%22449.07%2C-1085.05%20440.97%2C-1092.25%20440.97%2C-1077.85%20449.07%2C-1085.05%22%3E%3C/polygon%3E%0A%3C/g%3E%0A%0A%3Cg%20id%3D%22node110%22%20class%3D%22node%22%20data-tippy-content%3D%22121013739448%22%3E%0A%3Cpolygon%20fill%3D%22%23f98f60%22%20stroke%3D%22%234e4e4e%22%20points%3D%225.4%2C-1293.45%200%2C-1288.05%205.4%2C-1282.65%2010.8%2C-1288.05%205.4%2C-1293.45%22%3E%3C/polygon%3E%0A%3C/g%3E%0A%0A%3Cg%20id%3D%22node111%22%20class%3D%22node%22%20data-tippy-content%3D%22121013739460%22%3E%0A%3Cpolygon%20fill%3D%22%23f98f60%22%20stroke%3D%22%234e4e4e%22%20points%3D%22449.07%2C-1288.05%20440.97%2C-1295.25%20440.97%2C-1280.85%20449.07%2C-1288.05%22%3E%3C/polygon%3E%0A%3C/g%3E%0A%0A%3Cg%20id%3D%22node112%22%20class%3D%22node%22%20data-tippy-content%3D%22121013830948%22%3E%0A%3Cpolygon%20fill%3D%22%23f98f60%22%20stroke%3D%22%234e4e4e%22%20points%3D%225.4%2C-1350.45%200%2C-1345.05%205.4%2C-1339.65%2010.8%2C-1345.05%205.4%2C-1350.45%22%3E%3C/polygon%3E%0A%3C/g%3E%0A%0A%3Cg%20id%3D%22node113%22%20class%3D%22node%22%20data-tippy-content%3D%22121013830960%22%3E%0A%3Cpolygon%20fill%3D%22%23f98f60%22%20stroke%3D%22%234e4e4e%22%20points%3D%22449.07%2C-1345.05%20440.97%2C-1352.25%20440.97%2C-1337.85%20449.07%2C-1345.05%22%3E%3C/polygon%3E%0A%3C/g%3E%0A%0A%3Cg%20id%3D%22node114%22%20class%3D%22node%22%20data-tippy-content%3D%22121013831056%22%3E%0A%3Cpolygon%20fill%3D%22%23f98f60%22%20stroke%3D%22%234e4e4e%22%20points%3D%227761.01%2C-912.05%207752.91%2C-919.25%207752.91%2C-904.85%207761.01%2C-912.05%22%3E%3C/polygon%3E%0A%3C/g%3E%0A%0A%3Cg%20id%3D%22node115%22%20class%3D%22node%22%20data-tippy-content%3D%22121013831188%22%3E%0A%3Cpolygon%20fill%3D%22%23f98f60%22%20stroke%3D%22%234e4e4e%22%20points%3D%227343.7%2C-1075.05%207335.6%2C-1082.25%207335.6%2C-1067.85%207343.7%2C-1075.05%22%3E%3C/polygon%3E%0A%3C/g%3E%0A%0A%3Cg%20id%3D%22node116%22%20class%3D%22node%22%20data-tippy-content%3D%22121013717896%22%3E%0A%3Cpolygon%20fill%3D%22%23f98f60%22%20stroke%3D%22%234e4e4e%22%20points%3D%22686.05%2C-453.45%20680.65%2C-448.05%20686.05%2C-442.65%20691.45%2C-448.05%20686.05%2C-453.45%22%3E%3C/polygon%3E%0A%3C/g%3E%0A%0A%3Cg%20id%3D%22node117%22%20class%3D%22node%22%20data-tippy-content%3D%22121013831164%22%3E%0A%3Cpolygon%20fill%3D%22%23f98f60%22%20stroke%3D%22%234e4e4e%22%20points%3D%226858.71%2C-934.45%206853.31%2C-929.05%206858.71%2C-923.65%206864.11%2C-929.05%206858.71%2C-934.45%22%3E%3C/polygon%3E%0A%3C/g%3E%0A%0A%3Cg%20id%3D%22node118%22%20class%3D%22node%22%20data-tippy-content%3D%22121013830996%22%3E%0A%3Cpolygon%20fill%3D%22%23f98f60%22%20stroke%3D%22%234e4e4e%22%20points%3D%227338.3%2C-1031.45%207332.9%2C-1026.05%207338.3%2C-1020.65%207343.7%2C-1026.05%207338.3%2C-1031.45%22%3E%3C/polygon%3E%0A%3C/g%3E%0A%0A%3Cg%20id%3D%22node119%22%20class%3D%22node%22%20data-tippy-content%3D%22121013738608%22%3E%0A%3Cpolygon%20fill%3D%22%23f98f60%22%20stroke%3D%22%234e4e4e%22%20points%3D%222662.04%2C-583.45%202656.64%2C-578.05%202662.04%2C-572.65%202667.44%2C-578.05%202662.04%2C-583.45%22%3E%3C/polygon%3E%0A%3C/g%3E%0A%0A%3Cg%20id%3D%22node120%22%20class%3D%22node%22%20data-tippy-content%3D%22121013830720%22%3E%0A%3Cpolygon%20fill%3D%22%23f98f60%22%20stroke%3D%22%234e4e4e%22%20points%3D%225907.86%2C-772.45%205902.46%2C-767.05%205907.86%2C-761.65%205913.26%2C-767.05%205907.86%2C-772.45%22%3E%3C/polygon%3E%0A%3C/g%3E%0A%0A%3Cg%20id%3D%22node121%22%20class%3D%22node%22%20data-tippy-content%3D%22121013739436%22%3E%0A%3Cpolygon%20fill%3D%22%23f98f60%22%20stroke%3D%22%234e4e4e%22%20points%3D%225.4%2C-1220.45%200%2C-1215.05%205.4%2C-1209.65%2010.8%2C-1215.05%205.4%2C-1220.45%22%3E%3C/polygon%3E%0A%3C/g%3E%0A%0A%3Cg%20id%3D%22node122%22%20class%3D%22node%22%20data-tippy-content%3D%22121013831008%22%3E%0A%3Cpolygon%20fill%3D%22%23f98f60%22%20stroke%3D%22%234e4e4e%22%20points%3D%227338.3%2C-974.45%207332.9%2C-969.05%207338.3%2C-963.65%207343.7%2C-969.05%207338.3%2C-974.45%22%3E%3C/polygon%3E%0A%3C/g%3E%0A%0A%3Cg%20id%3D%22node123%22%20class%3D%22node%22%20data-tippy-content%3D%22121013717908%22%3E%0A%3Cpolygon%20fill%3D%22%23f98f60%22%20stroke%3D%22%234e4e4e%22%20points%3D%22686.05%2C-380.45%20680.65%2C-375.05%20686.05%2C-369.65%20691.45%2C-375.05%20686.05%2C-380.45%22%3E%3C/polygon%3E%0A%3C/g%3E%0A%0A%3Cg%20id%3D%22node124%22%20class%3D%22node%22%20data-tippy-content%3D%22121013717884%22%3E%0A%3Cpolygon%20fill%3D%22%23f98f60%22%20stroke%3D%22%234e4e4e%22%20points%3D%221808.82%2C-465.45%201803.42%2C-460.05%201808.82%2C-454.65%201814.22%2C-460.05%201808.82%2C-465.45%22%3E%3C/polygon%3E%0A%3C/g%3E%0A%0A%3Cg%20id%3D%22node125%22%20class%3D%22node%22%20data-tippy-content%3D%22121013739400%22%3E%0A%3Cpolygon%20fill%3D%22%23f98f60%22%20stroke%3D%22%234e4e4e%22%20points%3D%224886.26%2C-558.45%204880.86%2C-553.05%204886.26%2C-547.65%204891.66%2C-553.05%204886.26%2C-558.45%22%3E%3C/polygon%3E%0A%3C/g%3E%0A%0A%3Cg%20id%3D%22node126%22%20class%3D%22node%22%20data-tippy-content%3D%22121013831020%22%3E%0A%3Cpolygon%20fill%3D%22%23f98f60%22%20stroke%3D%22%234e4e4e%22%20points%3D%227338.3%2C-917.45%207332.9%2C-912.05%207338.3%2C-906.65%207343.7%2C-912.05%207338.3%2C-917.45%22%3E%3C/polygon%3E%0A%3C/g%3E%0A%0A%3Cg%20id%3D%22node127%22%20class%3D%22node%22%20data-tippy-content%3D%22121013738620%22%3E%0A%3Cpolygon%20fill%3D%22%23f98f60%22%20stroke%3D%22%234e4e4e%22%20points%3D%222662.04%2C-510.45%202656.64%2C-505.05%202662.04%2C-499.65%202667.44%2C-505.05%202662.04%2C-510.45%22%3E%3C/polygon%3E%0A%3C/g%3E%0A%0A%3Cg%20id%3D%22node128%22%20class%3D%22node%22%20data-tippy-content%3D%22121013830732%22%3E%0A%3Cpolygon%20fill%3D%22%23f98f60%22%20stroke%3D%22%234e4e4e%22%20points%3D%225907.86%2C-715.45%205902.46%2C-710.05%205907.86%2C-704.65%205913.26%2C-710.05%205907.86%2C-715.45%22%3E%3C/polygon%3E%0A%3C/g%3E%0A%0A%3Cg%20id%3D%22node129%22%20class%3D%22node%22%20data-tippy-content%3D%22121013739472%22%3E%0A%3Cpolygon%20fill%3D%22%23f98f60%22%20stroke%3D%22%234e4e4e%22%20points%3D%225.4%2C-1147.45%200%2C-1142.05%205.4%2C-1136.65%2010.8%2C-1142.05%205.4%2C-1147.45%22%3E%3C/polygon%3E%0A%3C/g%3E%0A%0A%3Cg%20id%3D%22node130%22%20class%3D%22node%22%20data-tippy-content%3D%22121013831032%22%3E%0A%3Cpolygon%20fill%3D%22%23f98f60%22%20stroke%3D%22%234e4e4e%22%20points%3D%227338.3%2C-860.45%207332.9%2C-855.05%207338.3%2C-849.65%207343.7%2C-855.05%207338.3%2C-860.45%22%3E%3C/polygon%3E%0A%3C/g%3E%0A%0A%3Cg%20id%3D%22node131%22%20class%3D%22node%22%20data-tippy-content%3D%22121013831176%22%3E%0A%3Cpolygon%20fill%3D%22%23f98f60%22%20stroke%3D%22%234e4e4e%22%20points%3D%226858.71%2C-740.45%206853.31%2C-735.05%206858.71%2C-729.65%206864.11%2C-735.05%206858.71%2C-740.45%22%3E%3C/polygon%3E%0A%3C/g%3E%0A%0A%3Cg%20id%3D%22node132%22%20class%3D%22node%22%20data-tippy-content%3D%22121013831044%22%3E%0A%3Cpolygon%20fill%3D%22%23f98f60%22%20stroke%3D%22%234e4e4e%22%20points%3D%227338.3%2C-813.45%207332.9%2C-808.05%207338.3%2C-802.65%207343.7%2C-808.05%207338.3%2C-813.45%22%3E%3C/polygon%3E%0A%3C/g%3E%0A%0A%3Cg%20id%3D%22node133%22%20class%3D%22node%22%20data-tippy-content%3D%22121013739484%22%3E%0A%3Cpolygon%20fill%3D%22%23f98f60%22%20stroke%3D%22%234e4e4e%22%20points%3D%22449.07%2C-1215.05%20440.97%2C-1222.25%20440.97%2C-1207.85%20449.07%2C-1215.05%22%3E%3C/polygon%3E%0A%3C/g%3E%0A%0A%3Cg%20id%3D%22node134%22%20class%3D%22node%22%20data-tippy-content%3D%22121013831068%22%3E%0A%3Cpolygon%20fill%3D%22%23f98f60%22%20stroke%3D%22%234e4e4e%22%20points%3D%227761.01%2C-855.05%207752.91%2C-862.25%207752.91%2C-847.85%207761.01%2C-855.05%22%3E%3C/polygon%3E%0A%3C/g%3E%0A%0A%3Cg%20id%3D%22node135%22%20class%3D%22node%22%20data-tippy-content%3D%22121013831200%22%3E%0A%3Cpolygon%20fill%3D%22%23f98f60%22%20stroke%3D%22%234e4e4e%22%20points%3D%227343.7%2C-759.05%207335.6%2C-766.25%207335.6%2C-751.85%207343.7%2C-759.05%22%3E%3C/polygon%3E%0A%3C/g%3E%0A%0A%3Cg%20id%3D%22node136%22%20class%3D%22node%22%20data-tippy-content%3D%22121013717584%22%3E%0A%3Cpolygon%20fill%3D%22%23f98f60%22%20stroke%3D%22%234e4e4e%22%20points%3D%221814.22%2C-185.05%201806.12%2C-192.25%201806.12%2C-177.85%201814.22%2C-185.05%22%3E%3C/polygon%3E%0A%3C/g%3E%0A%0A%3Cg%20id%3D%22node137%22%20class%3D%22node%22%20data-tippy-content%3D%22121013830708%22%3E%0A%3Cpolygon%20fill%3D%22%23f98f60%22%20stroke%3D%22%234e4e4e%22%20points%3D%226864.11%2C-978.05%206856.01%2C-985.25%206856.01%2C-970.85%206864.11%2C-978.05%22%3E%3C/polygon%3E%0A%3C/g%3E%0A%0A%3Cg%20id%3D%22node138%22%20class%3D%22node%22%20data-tippy-content%3D%22121013739496%22%3E%0A%3Cpolygon%20fill%3D%22%23f98f60%22%20stroke%3D%22%234e4e4e%22%20points%3D%22449.07%2C-1142.05%20440.97%2C-1149.25%20440.97%2C-1134.85%20449.07%2C-1142.05%22%3E%3C/polygon%3E%0A%3C/g%3E%0A%0A%3Cg%20id%3D%22node139%22%20class%3D%22node%22%20data-tippy-content%3D%22121013831080%22%3E%0A%3Cpolygon%20fill%3D%22%23f98f60%22%20stroke%3D%22%234e4e4e%22%20points%3D%227761.01%2C-798.05%207752.91%2C-805.25%207752.91%2C-790.85%207761.01%2C-798.05%22%3E%3C/polygon%3E%0A%3C/g%3E%0A%0A%3Cg%20id%3D%22node140%22%20class%3D%22node%22%20data-tippy-content%3D%22121013831212%22%3E%0A%3Cpolygon%20fill%3D%22%23f98f60%22%20stroke%3D%22%234e4e4e%22%20points%3D%227343.7%2C-709.05%207335.6%2C-716.25%207335.6%2C-701.85%207343.7%2C-709.05%22%3E%3C/polygon%3E%0A%3C/g%3E%0A%3C/g%3E%0A%3C/svg%3E%3C/body%3E%3C/html%3E\"\n",
       "            frameborder=\"0\"\n",
       "            allowfullscreen\n",
       "            allowtransparency=\"true\"\n",
       "        ></iframe>\n",
       "        "
      ],
      "text/plain": [
       "<IPython.lib.display.IFrame at 0x1c2cfd01a20>"
      ]
     },
     "metadata": {},
     "output_type": "display_data"
    }
   ],
   "source": [
    "F.diagram()"
   ]
  },
  {
   "cell_type": "code",
   "execution_count": null,
   "id": "b738f1e9",
   "metadata": {},
   "outputs": [],
   "source": []
  },
  {
   "cell_type": "code",
   "execution_count": null,
   "id": "cd949863",
   "metadata": {},
   "outputs": [
    {
     "name": "stdout",
     "output_type": "stream",
     "text": [
      "Registry:\n",
      "<Mixer: MIX100>\n",
      "<Pump: PUMP101>\n",
      "<HXutility: HX102>\n",
      "<SolvolysisReactor: RCF103-S>\n",
      "<Mixer: MIX104>\n",
      "<HXutility: HX105>\n",
      "<HydrogenolysisReactor: RCF106-H>\n",
      "<Flash: FLASH107>\n",
      "<IsentropicCompressor: PUMP108>\n",
      "<Flash: FLASH109>\n",
      "<HXutility: HX110>\n",
      "<PSA: PSA111>\n",
      "<IsentropicCompressor: PUMP112>\n",
      "<BinaryDistillation: DIST113>\n",
      "<BinaryDistillation: DIST114>\n",
      "<Mixer: MIX116>\n",
      "<HXutility: HX117>\n",
      "<Flash: FLASH118>\n",
      "<Mixer: M1>\n",
      "<CatalystMixer: M2>\n",
      "<FeedStockHandling: U101>\n",
      "<SulfuricAcidStorageTank: H2SO4_storage>\n",
      "<SulfuricAcidTank: T201>\n",
      "<SulfuricAcidMixer: M201>\n",
      "<SteamMixer: M203>\n",
      "<PretreatmentReactorSystem: R201>\n",
      "<BlowdownDischargePump: P201>\n",
      "<OligomerConversionTank: T202>\n",
      "<PretreatmentFlash: F201>\n",
      "<Mixer: M204>\n",
      "<WasteVaporCondenser: H201>\n",
      "<AmmoniaStorageTank: Ammonia_storage>\n",
      "<AmmoniaMixer: M205>\n",
      "<AmmoniaAdditionTank: T203>\n",
      "<HydrolyzatePump: P202>\n",
      "<EnzymeHydrolysateMixer: M301>\n",
      "<HydrolysateHeatExchanger: H301>\n",
      "<ContinuousPresaccharification: R301>\n",
      "<DAPStorageTank: DAP_storage>\n",
      "<MockSplitter: S301>\n",
      "<CSLStorageTank: CSL_storage>\n",
      "<MockSplitter: S302>\n",
      "<SeedTrain: R302>\n",
      "<SeedHoldTank: T301>\n",
      "<SaccharificationAndCoFermentation: R303>\n",
      "<BeerTank: T302>\n",
      "<Mixer: M401>\n",
      "<Mixer: M304>\n",
      "<VentScrubber: D401>\n",
      "<Pump: P401>\n",
      "<BinaryDistillation: D402>\n",
      "<Pump: P402>\n",
      "<HXprocess: H401>\n",
      "<Mixer: M402>\n",
      "<BinaryDistillation: D403>\n",
      "<Pump: P403>\n",
      "<HXutility: H402>\n",
      "<MolecularSieve: U401>\n",
      "<HXutility: H403>\n",
      "<StorageTank: T701>\n",
      "<Pump: P701>\n",
      "<StorageTank: T702>\n",
      "<Pump: P702>\n",
      "<Mixer: M701>\n",
      "<StorageTank: T703>\n",
      "<PressureFilter: S401>\n",
      "<CoolingTower: CT>\n",
      "<ChilledWaterPackage: CWP>\n",
      "<Mixer: M601>\n",
      "<WastewaterSystemCost: WWTC>\n",
      "<AnaerobicDigestion: R601>\n",
      "<Mixer: M602>\n",
      "<AerobicDigestion: R602>\n",
      "<MembraneBioreactor: S601>\n",
      "<Splitter: S602>\n",
      "<Mixer: M603>\n",
      "<SludgeCentrifuge: S603>\n",
      "<Mixer: M604>\n",
      "<ReverseOsmosis: S604>\n",
      "<CIPpackage: CIP>\n",
      "<AirDistributionPackage: ADP>\n",
      "<FireWaterTank: FWT>\n",
      "<Mixer: M3>\n",
      "<Mixer: M3>\n",
      "<Mixer: M4>\n",
      "<Mixer: M4>\n",
      "<BoilerTurbogenerator: BT>\n",
      "<Mixer: M5>\n",
      "<Mixer: M6>\n",
      "<ProcessWaterCenter: PWC>\n"
     ]
    }
   ],
   "source": [
    "F.unit"
   ]
  },
  {
   "cell_type": "code",
   "execution_count": null,
   "id": "ac2a17e6",
   "metadata": {},
   "outputs": [
    {
     "ename": "AttributeError",
     "evalue": "'System' object has no attribute 'WastewaterSystemCost'",
     "output_type": "error",
     "traceback": [
      "\u001b[1;31m---------------------------------------------------------------------------\u001b[0m",
      "\u001b[1;31mAttributeError\u001b[0m                            Traceback (most recent call last)",
      "Cell \u001b[1;32mIn[63], line 1\u001b[0m\n\u001b[1;32m----> 1\u001b[0m \u001b[43mintegrated_sys\u001b[49m\u001b[38;5;241;43m.\u001b[39;49m\u001b[43mWastewaterSystemCost\u001b[49m\n",
      "\u001b[1;31mAttributeError\u001b[0m: 'System' object has no attribute 'WastewaterSystemCost'"
     ]
    }
   ],
   "source": [
    "integrated_sys.WastewaterSystemCost"
   ]
  },
  {
   "cell_type": "code",
   "execution_count": null,
   "id": "3506fc64",
   "metadata": {},
   "outputs": [
    {
     "ename": "AttributeError",
     "evalue": "no registered item 'WastewaterSystemCost'",
     "output_type": "error",
     "traceback": [
      "\u001b[1;31m---------------------------------------------------------------------------\u001b[0m",
      "\u001b[1;31mAttributeError\u001b[0m                            Traceback (most recent call last)",
      "Cell \u001b[1;32mIn[82], line 1\u001b[0m\n\u001b[1;32m----> 1\u001b[0m \u001b[43mF\u001b[49m\u001b[38;5;241;43m.\u001b[39;49m\u001b[43mWastewaterSystemCost\u001b[49m\n",
      "File \u001b[1;32mc:\\Users\\hwadg\\anaconda3\\envs\\pyfuel\\lib\\site-packages\\biosteam\\_flowsheet.py:131\u001b[0m, in \u001b[0;36mFlowsheet.__getattr__\u001b[1;34m(self, name)\u001b[0m\n\u001b[0;32m    127\u001b[0m \u001b[38;5;28;01mdef\u001b[39;00m\u001b[38;5;250m \u001b[39m\u001b[38;5;21m__getattr__\u001b[39m(\u001b[38;5;28mself\u001b[39m, name):\n\u001b[0;32m    128\u001b[0m     obj \u001b[38;5;241m=\u001b[39m (\u001b[38;5;28mself\u001b[39m\u001b[38;5;241m.\u001b[39mstream\u001b[38;5;241m.\u001b[39msearch(name)\n\u001b[0;32m    129\u001b[0m            \u001b[38;5;129;01mor\u001b[39;00m \u001b[38;5;28mself\u001b[39m\u001b[38;5;241m.\u001b[39munit\u001b[38;5;241m.\u001b[39msearch(name)\n\u001b[0;32m    130\u001b[0m            \u001b[38;5;129;01mor\u001b[39;00m \u001b[38;5;28mself\u001b[39m\u001b[38;5;241m.\u001b[39msystem\u001b[38;5;241m.\u001b[39msearch(name))\n\u001b[1;32m--> 131\u001b[0m     \u001b[38;5;28;01mif\u001b[39;00m \u001b[38;5;129;01mnot\u001b[39;00m obj: \u001b[38;5;28;01mraise\u001b[39;00m \u001b[38;5;167;01mAttributeError\u001b[39;00m(\u001b[38;5;124mf\u001b[39m\u001b[38;5;124m\"\u001b[39m\u001b[38;5;124mno registered item \u001b[39m\u001b[38;5;124m'\u001b[39m\u001b[38;5;132;01m{\u001b[39;00mname\u001b[38;5;132;01m}\u001b[39;00m\u001b[38;5;124m'\u001b[39m\u001b[38;5;124m\"\u001b[39m)\n\u001b[0;32m    132\u001b[0m     \u001b[38;5;28;01mreturn\u001b[39;00m obj\n",
      "\u001b[1;31mAttributeError\u001b[0m: no registered item 'WastewaterSystemCost'"
     ]
    }
   ],
   "source": [
    "F.WastewaterSystemCost"
   ]
  },
  {
   "cell_type": "code",
   "execution_count": null,
   "id": "84cc695e",
   "metadata": {},
   "outputs": [
    {
     "data": {
      "text/html": [
       "<div>\n",
       "<style scoped>\n",
       "    .dataframe tbody tr th:only-of-type {\n",
       "        vertical-align: middle;\n",
       "    }\n",
       "\n",
       "    .dataframe tbody tr th {\n",
       "        vertical-align: top;\n",
       "    }\n",
       "\n",
       "    .dataframe thead th {\n",
       "        text-align: right;\n",
       "    }\n",
       "</style>\n",
       "<table border=\"1\" class=\"dataframe\">\n",
       "  <thead>\n",
       "    <tr style=\"text-align: right;\">\n",
       "      <th></th>\n",
       "      <th>System</th>\n",
       "      <th>Units</th>\n",
       "      <th>RCF_EtOH</th>\n",
       "    </tr>\n",
       "  </thead>\n",
       "  <tbody>\n",
       "    <tr>\n",
       "      <th rowspan=\"2\" valign=\"top\">Electricity</th>\n",
       "      <th>Power</th>\n",
       "      <td>kW</td>\n",
       "      <td>2e+03</td>\n",
       "    </tr>\n",
       "    <tr>\n",
       "      <th>Cost</th>\n",
       "      <td>USD/hr</td>\n",
       "      <td>156</td>\n",
       "    </tr>\n",
       "    <tr>\n",
       "      <th rowspan=\"3\" valign=\"top\">Cooling water</th>\n",
       "      <th>Duty</th>\n",
       "      <td>kJ/hr</td>\n",
       "      <td>-6.85e+08</td>\n",
       "    </tr>\n",
       "    <tr>\n",
       "      <th>Flow</th>\n",
       "      <td>kmol/hr</td>\n",
       "      <td>4.68e+05</td>\n",
       "    </tr>\n",
       "    <tr>\n",
       "      <th>Cost</th>\n",
       "      <td>USD/hr</td>\n",
       "      <td>228</td>\n",
       "    </tr>\n",
       "    <tr>\n",
       "      <th rowspan=\"3\" valign=\"top\">Chilled water</th>\n",
       "      <th>Duty</th>\n",
       "      <td>kJ/hr</td>\n",
       "      <td>-5.14e+08</td>\n",
       "    </tr>\n",
       "    <tr>\n",
       "      <th>Flow</th>\n",
       "      <td>kmol/hr</td>\n",
       "      <td>3.4e+05</td>\n",
       "    </tr>\n",
       "    <tr>\n",
       "      <th>Cost</th>\n",
       "      <td>USD/hr</td>\n",
       "      <td>2.57e+03</td>\n",
       "    </tr>\n",
       "    <tr>\n",
       "      <th rowspan=\"3\" valign=\"top\">Low pressure steam</th>\n",
       "      <th>Duty</th>\n",
       "      <td>kJ/hr</td>\n",
       "      <td>1.04e+09</td>\n",
       "    </tr>\n",
       "    <tr>\n",
       "      <th>Flow</th>\n",
       "      <td>kmol/hr</td>\n",
       "      <td>2.7e+04</td>\n",
       "    </tr>\n",
       "    <tr>\n",
       "      <th>Cost</th>\n",
       "      <td>USD/hr</td>\n",
       "      <td>6.42e+03</td>\n",
       "    </tr>\n",
       "    <tr>\n",
       "      <th rowspan=\"3\" valign=\"top\">Medium pressure steam</th>\n",
       "      <th>Duty</th>\n",
       "      <td>kJ/hr</td>\n",
       "      <td>0</td>\n",
       "    </tr>\n",
       "    <tr>\n",
       "      <th>Flow</th>\n",
       "      <td>kmol/hr</td>\n",
       "      <td>0</td>\n",
       "    </tr>\n",
       "    <tr>\n",
       "      <th>Cost</th>\n",
       "      <td>USD/hr</td>\n",
       "      <td>0</td>\n",
       "    </tr>\n",
       "    <tr>\n",
       "      <th rowspan=\"3\" valign=\"top\">High pressure steam</th>\n",
       "      <th>Duty</th>\n",
       "      <td>kJ/hr</td>\n",
       "      <td>5.06e+08</td>\n",
       "    </tr>\n",
       "    <tr>\n",
       "      <th>Flow</th>\n",
       "      <td>kmol/hr</td>\n",
       "      <td>1.57e+04</td>\n",
       "    </tr>\n",
       "    <tr>\n",
       "      <th>Cost</th>\n",
       "      <td>USD/hr</td>\n",
       "      <td>4.98e+03</td>\n",
       "    </tr>\n",
       "    <tr>\n",
       "      <th rowspan=\"3\" valign=\"top\">Propane</th>\n",
       "      <th>Duty</th>\n",
       "      <td>kJ/hr</td>\n",
       "      <td>-9.61e+06</td>\n",
       "    </tr>\n",
       "    <tr>\n",
       "      <th>Flow</th>\n",
       "      <td>kmol/hr</td>\n",
       "      <td>522</td>\n",
       "    </tr>\n",
       "    <tr>\n",
       "      <th>Cost</th>\n",
       "      <td>USD/hr</td>\n",
       "      <td>127</td>\n",
       "    </tr>\n",
       "    <tr>\n",
       "      <th rowspan=\"2\" valign=\"top\">Fuel (inlet)</th>\n",
       "      <th>Flow</th>\n",
       "      <td>kg/hr</td>\n",
       "      <td>421</td>\n",
       "    </tr>\n",
       "    <tr>\n",
       "      <th>Cost</th>\n",
       "      <td>USD/hr</td>\n",
       "      <td>91.8</td>\n",
       "    </tr>\n",
       "    <tr>\n",
       "      <th rowspan=\"2\" valign=\"top\">Process water (inlet)</th>\n",
       "      <th>Flow</th>\n",
       "      <td>kg/hr</td>\n",
       "      <td>1.54e+04</td>\n",
       "    </tr>\n",
       "    <tr>\n",
       "      <th>Cost</th>\n",
       "      <td>USD/hr</td>\n",
       "      <td>4.15</td>\n",
       "    </tr>\n",
       "    <tr>\n",
       "      <th rowspan=\"2\" valign=\"top\">Ash disposal (outlet)</th>\n",
       "      <th>Flow</th>\n",
       "      <td>kg/hr</td>\n",
       "      <td>1.46e+03</td>\n",
       "    </tr>\n",
       "    <tr>\n",
       "      <th>Cost</th>\n",
       "      <td>USD/hr</td>\n",
       "      <td>46.3</td>\n",
       "    </tr>\n",
       "    <tr>\n",
       "      <th>Total purchase cost</th>\n",
       "      <th></th>\n",
       "      <td>USD</td>\n",
       "      <td>2.29e+08</td>\n",
       "    </tr>\n",
       "    <tr>\n",
       "      <th>Installed equipment cost</th>\n",
       "      <th></th>\n",
       "      <td>USD</td>\n",
       "      <td>4.43e+08</td>\n",
       "    </tr>\n",
       "    <tr>\n",
       "      <th>Utility cost</th>\n",
       "      <th></th>\n",
       "      <td>USD/hr</td>\n",
       "      <td>1.46e+04</td>\n",
       "    </tr>\n",
       "    <tr>\n",
       "      <th>Material cost</th>\n",
       "      <th></th>\n",
       "      <td>USD/hr</td>\n",
       "      <td>1.6e+04</td>\n",
       "    </tr>\n",
       "    <tr>\n",
       "      <th>Sales</th>\n",
       "      <th></th>\n",
       "      <td>USD/hr</td>\n",
       "      <td>1.56e+04</td>\n",
       "    </tr>\n",
       "  </tbody>\n",
       "</table>\n",
       "</div>"
      ],
      "text/plain": [
       "System                            Units  RCF_EtOH\n",
       "Electricity              Power       kW     2e+03\n",
       "                         Cost    USD/hr       156\n",
       "Cooling water            Duty     kJ/hr -6.85e+08\n",
       "                         Flow   kmol/hr  4.68e+05\n",
       "                         Cost    USD/hr       228\n",
       "Chilled water            Duty     kJ/hr -5.14e+08\n",
       "                         Flow   kmol/hr   3.4e+05\n",
       "                         Cost    USD/hr  2.57e+03\n",
       "Low pressure steam       Duty     kJ/hr  1.04e+09\n",
       "                         Flow   kmol/hr   2.7e+04\n",
       "                         Cost    USD/hr  6.42e+03\n",
       "Medium pressure steam    Duty     kJ/hr         0\n",
       "                         Flow   kmol/hr         0\n",
       "                         Cost    USD/hr         0\n",
       "High pressure steam      Duty     kJ/hr  5.06e+08\n",
       "                         Flow   kmol/hr  1.57e+04\n",
       "                         Cost    USD/hr  4.98e+03\n",
       "Propane                  Duty     kJ/hr -9.61e+06\n",
       "                         Flow   kmol/hr       522\n",
       "                         Cost    USD/hr       127\n",
       "Fuel (inlet)             Flow     kg/hr       421\n",
       "                         Cost    USD/hr      91.8\n",
       "Process water (inlet)    Flow     kg/hr  1.54e+04\n",
       "                         Cost    USD/hr      4.15\n",
       "Ash disposal (outlet)    Flow     kg/hr  1.46e+03\n",
       "                         Cost    USD/hr      46.3\n",
       "Total purchase cost                 USD  2.29e+08\n",
       "Installed equipment cost            USD  4.43e+08\n",
       "Utility cost                     USD/hr  1.46e+04\n",
       "Material cost                    USD/hr   1.6e+04\n",
       "Sales                            USD/hr  1.56e+04"
      ]
     },
     "execution_count": 84,
     "metadata": {},
     "output_type": "execute_result"
    }
   ],
   "source": [
    "integrated_sys.results()"
   ]
  },
  {
   "cell_type": "code",
   "execution_count": null,
   "id": "cd3d5da8",
   "metadata": {},
   "outputs": [
    {
     "name": "stdout",
     "output_type": "stream",
     "text": [
      "Registry:\n",
      "<Mixer: MIX100>\n",
      "<Pump: PUMP101>\n",
      "<HXutility: HX102>\n",
      "<SolvolysisReactor: RCF103-S>\n",
      "<Mixer: MIX104>\n",
      "<HXutility: HX105>\n",
      "<HydrogenolysisReactor: RCF106-H>\n",
      "<Flash: FLASH107>\n",
      "<IsentropicCompressor: PUMP108>\n",
      "<Flash: FLASH109>\n",
      "<HXutility: HX110>\n",
      "<PSA: PSA111>\n",
      "<IsentropicCompressor: PUMP112>\n",
      "<BinaryDistillation: DIST113>\n",
      "<BinaryDistillation: DIST114>\n",
      "<Mixer: MIX116>\n",
      "<HXutility: HX117>\n",
      "<Flash: FLASH118>\n",
      "<Mixer: M1>\n",
      "<FeedStockHandling: U101>\n",
      "<SulfuricAcidStorageTank: H2SO4_storage>\n",
      "<SulfuricAcidTank: T201>\n",
      "<SulfuricAcidMixer: M201>\n",
      "<SteamMixer: M203>\n",
      "<PretreatmentReactorSystem: R201>\n",
      "<BlowdownDischargePump: P201>\n",
      "<OligomerConversionTank: T202>\n",
      "<PretreatmentFlash: F201>\n",
      "<Mixer: M204>\n",
      "<WasteVaporCondenser: H201>\n",
      "<AmmoniaStorageTank: Ammonia_storage>\n",
      "<AmmoniaMixer: M205>\n",
      "<AmmoniaAdditionTank: T203>\n",
      "<HydrolyzatePump: P202>\n",
      "<EnzymeHydrolysateMixer: M301>\n",
      "<HydrolysateHeatExchanger: H301>\n",
      "<ContinuousPresaccharification: R301>\n",
      "<DAPStorageTank: DAP_storage>\n",
      "<MockSplitter: S301>\n",
      "<CSLStorageTank: CSL_storage>\n",
      "<MockSplitter: S302>\n",
      "<SeedTrain: R302>\n",
      "<SeedHoldTank: T301>\n",
      "<SaccharificationAndCoFermentation: R303>\n",
      "<BeerTank: T302>\n",
      "<Mixer: M401>\n",
      "<Mixer: M304>\n",
      "<VentScrubber: D401>\n",
      "<Pump: P401>\n",
      "<BinaryDistillation: D402>\n",
      "<Pump: P402>\n",
      "<HXprocess: H401>\n",
      "<Mixer: M402>\n",
      "<BinaryDistillation: D403>\n",
      "<Pump: P403>\n",
      "<HXutility: H402>\n",
      "<MolecularSieve: U401>\n",
      "<HXutility: H403>\n",
      "<StorageTank: T701>\n",
      "<Pump: P701>\n",
      "<StorageTank: T702>\n",
      "<Pump: P702>\n",
      "<Mixer: M701>\n",
      "<StorageTank: T703>\n",
      "<PressureFilter: S401>\n",
      "<CoolingTower: CT>\n",
      "<ChilledWaterPackage: CWP>\n",
      "<Mixer: M601>\n",
      "<WastewaterSystemCost: WWTC>\n",
      "<AnaerobicDigestion: R601>\n",
      "<Mixer: M602>\n",
      "<AerobicDigestion: R602>\n",
      "<MembraneBioreactor: S601>\n",
      "<Splitter: S602>\n",
      "<Mixer: M603>\n",
      "<SludgeCentrifuge: S603>\n",
      "<Mixer: M604>\n",
      "<ReverseOsmosis: S604>\n",
      "<CIPpackage: CIP>\n",
      "<AirDistributionPackage: ADP>\n",
      "<FireWaterTank: FWT>\n",
      "<Mixer: M2>\n",
      "<Mixer: M2>\n",
      "<Mixer: M3>\n",
      "<Mixer: M3>\n",
      "<BoilerTurbogenerator: BT>\n",
      "<Mixer: M4>\n",
      "<Mixer: M5>\n",
      "<ProcessWaterCenter: PWC>\n"
     ]
    }
   ],
   "source": [
    "F.unit"
   ]
  },
  {
   "cell_type": "code",
   "execution_count": null,
   "id": "f489adca",
   "metadata": {},
   "outputs": [
    {
     "name": "stdout",
     "output_type": "stream",
     "text": [
      "BioSTEAM system TCI cost is 841.81 MM USD\n"
     ]
    }
   ],
   "source": [
    "print('BioSTEAM system TCI cost is', round(integrated_tea.TCI / 1e6, 2), 'MM USD')"
   ]
  },
  {
   "cell_type": "code",
   "execution_count": null,
   "id": "cbe770ec",
   "metadata": {},
   "outputs": [
    {
     "name": "stdout",
     "output_type": "stream",
     "text": [
      "Stream: RCF_Oil from <Flash: FLASH118>\n",
      "phase: 'l', T: 400 K, P: 101325 Pa\n",
      "composition (%): Extract         5.37\n",
      "                 Glucan          15.6\n",
      "                 Xylan           3.15\n",
      "                 Arabinan        0.403\n",
      "                 Mannan          6.21\n",
      "                 Galactan        2.35\n",
      "                 Propylguaiacol  16.7\n",
      "                 Propylsyringol  16.7\n",
      "                 Syringaresinol  8.37\n",
      "                 G_Dimer         8.37\n",
      "                 S_Oligomer      8.37\n",
      "                 G_Oligomer      8.37\n",
      "                 --------------  2.48e+04 kg/hr\n"
     ]
    }
   ],
   "source": [
    "F.RCF_Oil.show(composition = True, flow = 'kg/hr')"
   ]
  },
  {
   "cell_type": "code",
   "execution_count": null,
   "id": "07f8fc3b",
   "metadata": {},
   "outputs": [
    {
     "name": "stdout",
     "output_type": "stream",
     "text": [
      "Stream: ethanol from <StorageTank: T703>\n",
      "phase: 'l', T: 339.26 K, P: 101325 Pa\n",
      "flow (L/yr): Water       1.57e+06\n",
      "             Ethanol     2.47e+08\n",
      "             NH3         2.1e+05\n",
      "             Denaturant  6.16e+06\n"
     ]
    }
   ],
   "source": [
    "F.ethanol.show(flow = 'L/yr')"
   ]
  },
  {
   "cell_type": "code",
   "execution_count": null,
   "id": "6535f9e8",
   "metadata": {},
   "outputs": [
    {
     "name": "stdout",
     "output_type": "stream",
     "text": [
      "PowerUtility:\n",
      "consumption: 2.51e+04 kW\n",
      "production: 2.31e+04 kW\n",
      "power: 2e+03 kW\n",
      "cost: 156 USD/hr\n"
     ]
    }
   ],
   "source": [
    "integrated_sys.power_utility"
   ]
  },
  {
   "cell_type": "code",
   "execution_count": null,
   "id": "73658ca4",
   "metadata": {},
   "outputs": [
    {
     "data": {
      "text/html": [
       "<div>\n",
       "<style scoped>\n",
       "    .dataframe tbody tr th:only-of-type {\n",
       "        vertical-align: middle;\n",
       "    }\n",
       "\n",
       "    .dataframe tbody tr th {\n",
       "        vertical-align: top;\n",
       "    }\n",
       "\n",
       "    .dataframe thead th {\n",
       "        text-align: right;\n",
       "    }\n",
       "</style>\n",
       "<table border=\"1\" class=\"dataframe\">\n",
       "  <thead>\n",
       "    <tr style=\"text-align: right;\">\n",
       "      <th></th>\n",
       "      <th>System</th>\n",
       "      <th>Units</th>\n",
       "      <th>RCF_EtOH</th>\n",
       "    </tr>\n",
       "  </thead>\n",
       "  <tbody>\n",
       "    <tr>\n",
       "      <th rowspan=\"2\" valign=\"top\">Electricity</th>\n",
       "      <th>Power</th>\n",
       "      <td>kW</td>\n",
       "      <td>2e+03</td>\n",
       "    </tr>\n",
       "    <tr>\n",
       "      <th>Cost</th>\n",
       "      <td>USD/hr</td>\n",
       "      <td>156</td>\n",
       "    </tr>\n",
       "    <tr>\n",
       "      <th rowspan=\"3\" valign=\"top\">Cooling water</th>\n",
       "      <th>Duty</th>\n",
       "      <td>kJ/hr</td>\n",
       "      <td>-6.85e+08</td>\n",
       "    </tr>\n",
       "    <tr>\n",
       "      <th>Flow</th>\n",
       "      <td>kmol/hr</td>\n",
       "      <td>4.68e+05</td>\n",
       "    </tr>\n",
       "    <tr>\n",
       "      <th>Cost</th>\n",
       "      <td>USD/hr</td>\n",
       "      <td>228</td>\n",
       "    </tr>\n",
       "    <tr>\n",
       "      <th rowspan=\"3\" valign=\"top\">Chilled water</th>\n",
       "      <th>Duty</th>\n",
       "      <td>kJ/hr</td>\n",
       "      <td>-5.14e+08</td>\n",
       "    </tr>\n",
       "    <tr>\n",
       "      <th>Flow</th>\n",
       "      <td>kmol/hr</td>\n",
       "      <td>3.4e+05</td>\n",
       "    </tr>\n",
       "    <tr>\n",
       "      <th>Cost</th>\n",
       "      <td>USD/hr</td>\n",
       "      <td>2.57e+03</td>\n",
       "    </tr>\n",
       "    <tr>\n",
       "      <th rowspan=\"3\" valign=\"top\">Low pressure steam</th>\n",
       "      <th>Duty</th>\n",
       "      <td>kJ/hr</td>\n",
       "      <td>1.04e+09</td>\n",
       "    </tr>\n",
       "    <tr>\n",
       "      <th>Flow</th>\n",
       "      <td>kmol/hr</td>\n",
       "      <td>2.7e+04</td>\n",
       "    </tr>\n",
       "    <tr>\n",
       "      <th>Cost</th>\n",
       "      <td>USD/hr</td>\n",
       "      <td>6.42e+03</td>\n",
       "    </tr>\n",
       "    <tr>\n",
       "      <th rowspan=\"3\" valign=\"top\">Medium pressure steam</th>\n",
       "      <th>Duty</th>\n",
       "      <td>kJ/hr</td>\n",
       "      <td>0</td>\n",
       "    </tr>\n",
       "    <tr>\n",
       "      <th>Flow</th>\n",
       "      <td>kmol/hr</td>\n",
       "      <td>0</td>\n",
       "    </tr>\n",
       "    <tr>\n",
       "      <th>Cost</th>\n",
       "      <td>USD/hr</td>\n",
       "      <td>0</td>\n",
       "    </tr>\n",
       "    <tr>\n",
       "      <th rowspan=\"3\" valign=\"top\">High pressure steam</th>\n",
       "      <th>Duty</th>\n",
       "      <td>kJ/hr</td>\n",
       "      <td>5.06e+08</td>\n",
       "    </tr>\n",
       "    <tr>\n",
       "      <th>Flow</th>\n",
       "      <td>kmol/hr</td>\n",
       "      <td>1.57e+04</td>\n",
       "    </tr>\n",
       "    <tr>\n",
       "      <th>Cost</th>\n",
       "      <td>USD/hr</td>\n",
       "      <td>4.98e+03</td>\n",
       "    </tr>\n",
       "    <tr>\n",
       "      <th rowspan=\"3\" valign=\"top\">Propane</th>\n",
       "      <th>Duty</th>\n",
       "      <td>kJ/hr</td>\n",
       "      <td>-9.61e+06</td>\n",
       "    </tr>\n",
       "    <tr>\n",
       "      <th>Flow</th>\n",
       "      <td>kmol/hr</td>\n",
       "      <td>522</td>\n",
       "    </tr>\n",
       "    <tr>\n",
       "      <th>Cost</th>\n",
       "      <td>USD/hr</td>\n",
       "      <td>127</td>\n",
       "    </tr>\n",
       "    <tr>\n",
       "      <th rowspan=\"2\" valign=\"top\">Fuel (inlet)</th>\n",
       "      <th>Flow</th>\n",
       "      <td>kg/hr</td>\n",
       "      <td>421</td>\n",
       "    </tr>\n",
       "    <tr>\n",
       "      <th>Cost</th>\n",
       "      <td>USD/hr</td>\n",
       "      <td>91.8</td>\n",
       "    </tr>\n",
       "    <tr>\n",
       "      <th rowspan=\"2\" valign=\"top\">Process water (inlet)</th>\n",
       "      <th>Flow</th>\n",
       "      <td>kg/hr</td>\n",
       "      <td>1.54e+04</td>\n",
       "    </tr>\n",
       "    <tr>\n",
       "      <th>Cost</th>\n",
       "      <td>USD/hr</td>\n",
       "      <td>4.15</td>\n",
       "    </tr>\n",
       "    <tr>\n",
       "      <th rowspan=\"2\" valign=\"top\">Ash disposal (outlet)</th>\n",
       "      <th>Flow</th>\n",
       "      <td>kg/hr</td>\n",
       "      <td>1.46e+03</td>\n",
       "    </tr>\n",
       "    <tr>\n",
       "      <th>Cost</th>\n",
       "      <td>USD/hr</td>\n",
       "      <td>46.3</td>\n",
       "    </tr>\n",
       "    <tr>\n",
       "      <th>Total purchase cost</th>\n",
       "      <th></th>\n",
       "      <td>USD</td>\n",
       "      <td>2.29e+08</td>\n",
       "    </tr>\n",
       "    <tr>\n",
       "      <th>Installed equipment cost</th>\n",
       "      <th></th>\n",
       "      <td>USD</td>\n",
       "      <td>4.43e+08</td>\n",
       "    </tr>\n",
       "    <tr>\n",
       "      <th>Utility cost</th>\n",
       "      <th></th>\n",
       "      <td>USD/hr</td>\n",
       "      <td>1.46e+04</td>\n",
       "    </tr>\n",
       "    <tr>\n",
       "      <th>Material cost</th>\n",
       "      <th></th>\n",
       "      <td>USD/hr</td>\n",
       "      <td>1.6e+04</td>\n",
       "    </tr>\n",
       "    <tr>\n",
       "      <th>Sales</th>\n",
       "      <th></th>\n",
       "      <td>USD/hr</td>\n",
       "      <td>1.56e+04</td>\n",
       "    </tr>\n",
       "  </tbody>\n",
       "</table>\n",
       "</div>"
      ],
      "text/plain": [
       "System                            Units  RCF_EtOH\n",
       "Electricity              Power       kW     2e+03\n",
       "                         Cost    USD/hr       156\n",
       "Cooling water            Duty     kJ/hr -6.85e+08\n",
       "                         Flow   kmol/hr  4.68e+05\n",
       "                         Cost    USD/hr       228\n",
       "Chilled water            Duty     kJ/hr -5.14e+08\n",
       "                         Flow   kmol/hr   3.4e+05\n",
       "                         Cost    USD/hr  2.57e+03\n",
       "Low pressure steam       Duty     kJ/hr  1.04e+09\n",
       "                         Flow   kmol/hr   2.7e+04\n",
       "                         Cost    USD/hr  6.42e+03\n",
       "Medium pressure steam    Duty     kJ/hr         0\n",
       "                         Flow   kmol/hr         0\n",
       "                         Cost    USD/hr         0\n",
       "High pressure steam      Duty     kJ/hr  5.06e+08\n",
       "                         Flow   kmol/hr  1.57e+04\n",
       "                         Cost    USD/hr  4.98e+03\n",
       "Propane                  Duty     kJ/hr -9.61e+06\n",
       "                         Flow   kmol/hr       522\n",
       "                         Cost    USD/hr       127\n",
       "Fuel (inlet)             Flow     kg/hr       421\n",
       "                         Cost    USD/hr      91.8\n",
       "Process water (inlet)    Flow     kg/hr  1.54e+04\n",
       "                         Cost    USD/hr      4.15\n",
       "Ash disposal (outlet)    Flow     kg/hr  1.46e+03\n",
       "                         Cost    USD/hr      46.3\n",
       "Total purchase cost                 USD  2.29e+08\n",
       "Installed equipment cost            USD  4.43e+08\n",
       "Utility cost                     USD/hr  1.46e+04\n",
       "Material cost                    USD/hr   1.6e+04\n",
       "Sales                            USD/hr  1.56e+04"
      ]
     },
     "execution_count": 60,
     "metadata": {},
     "output_type": "execute_result"
    }
   ],
   "source": [
    "integrated_sys.results()"
   ]
  },
  {
   "cell_type": "markdown",
   "id": "405726b2",
   "metadata": {},
   "source": [
    "for i unit in enumerate(integrated_sys.units):\n"
   ]
  },
  {
   "cell_type": "code",
   "execution_count": null,
   "id": "4c48c94a",
   "metadata": {},
   "outputs": [
    {
     "ename": "TypeError",
     "evalue": "unsupported operand type(s) for *: 'NoneType' and 'float'",
     "output_type": "error",
     "traceback": [
      "\u001b[1;31m---------------------------------------------------------------------------\u001b[0m",
      "\u001b[1;31mTypeError\u001b[0m                                 Traceback (most recent call last)",
      "Cell \u001b[1;32mIn[49], line 1\u001b[0m\n\u001b[1;32m----> 1\u001b[0m \u001b[38;5;28mprint\u001b[39m(\u001b[38;5;124m'\u001b[39m\u001b[38;5;124mBioSTEAM system variable OPEX is\u001b[39m\u001b[38;5;124m'\u001b[39m, \u001b[38;5;28mround\u001b[39m((\u001b[43mrcf_system\u001b[49m\u001b[38;5;241;43m.\u001b[39;49m\u001b[43mmaterial_cost\u001b[49m \u001b[38;5;241m+\u001b[39m rcf_system\u001b[38;5;241m.\u001b[39mutility_cost) \u001b[38;5;241m/\u001b[39m \u001b[38;5;241m1e6\u001b[39m, \u001b[38;5;241m3\u001b[39m), \u001b[38;5;124m'\u001b[39m\u001b[38;5;124mMM USD/yr\u001b[39m\u001b[38;5;124m'\u001b[39m)\n",
      "File \u001b[1;32mc:\\Users\\hwadg\\anaconda3\\envs\\pyfuel\\lib\\site-packages\\biosteam\\_system.py:3928\u001b[0m, in \u001b[0;36mSystem.material_cost\u001b[1;34m(self)\u001b[0m\n\u001b[0;32m   3925\u001b[0m \u001b[38;5;129m@property\u001b[39m\n\u001b[0;32m   3926\u001b[0m \u001b[38;5;28;01mdef\u001b[39;00m\u001b[38;5;250m \u001b[39m\u001b[38;5;21mmaterial_cost\u001b[39m(\u001b[38;5;28mself\u001b[39m) \u001b[38;5;241m-\u001b[39m\u001b[38;5;241m>\u001b[39m \u001b[38;5;28mfloat\u001b[39m:\n\u001b[0;32m   3927\u001b[0m \u001b[38;5;250m    \u001b[39m\u001b[38;5;124;03m\"\"\"Annual material cost [USD/yr].\"\"\"\u001b[39;00m\n\u001b[1;32m-> 3928\u001b[0m     \u001b[38;5;28;01mreturn\u001b[39;00m \u001b[38;5;28;43mself\u001b[39;49m\u001b[38;5;241;43m.\u001b[39;49m\u001b[43moperating_hours\u001b[49m\u001b[43m \u001b[49m\u001b[38;5;241;43m*\u001b[39;49m\u001b[43m \u001b[49m\u001b[43m(\u001b[49m\n\u001b[0;32m   3929\u001b[0m \u001b[43m        \u001b[49m\u001b[38;5;28;43msum\u001b[39;49m\u001b[43m(\u001b[49m\u001b[43m[\u001b[49m\u001b[43ms\u001b[49m\u001b[38;5;241;43m.\u001b[39;49m\u001b[43mcost\u001b[49m\u001b[43m \u001b[49m\u001b[38;5;28;43;01mfor\u001b[39;49;00m\u001b[43m \u001b[49m\u001b[43ms\u001b[49m\u001b[43m \u001b[49m\u001b[38;5;129;43;01min\u001b[39;49;00m\u001b[43m \u001b[49m\u001b[38;5;28;43mself\u001b[39;49m\u001b[38;5;241;43m.\u001b[39;49m\u001b[43mfeeds\u001b[49m\u001b[43m \u001b[49m\u001b[38;5;28;43;01mif\u001b[39;49;00m\u001b[43m \u001b[49m\u001b[43ms\u001b[49m\u001b[38;5;241;43m.\u001b[39;49m\u001b[43mprice\u001b[49m\u001b[43m]\u001b[49m\u001b[43m)\u001b[49m\n\u001b[0;32m   3930\u001b[0m \u001b[43m        \u001b[49m\u001b[38;5;241;43m+\u001b[39;49m\u001b[43m \u001b[49m\u001b[38;5;28;43msum\u001b[39;49m\u001b[43m(\u001b[49m\u001b[43m[\u001b[49m\u001b[43mi\u001b[49m\u001b[38;5;241;43m.\u001b[39;49m\u001b[43m_inlet_cost\u001b[49m\u001b[43m \u001b[49m\u001b[38;5;28;43;01mfor\u001b[39;49;00m\u001b[43m \u001b[49m\u001b[43mi\u001b[49m\u001b[43m \u001b[49m\u001b[38;5;129;43;01min\u001b[39;49;00m\u001b[43m \u001b[49m\u001b[38;5;28;43mself\u001b[39;49m\u001b[38;5;241;43m.\u001b[39;49m\u001b[43mcost_units\u001b[49m\u001b[43m]\u001b[49m\u001b[43m)\u001b[49m\n\u001b[0;32m   3931\u001b[0m \u001b[43m    \u001b[49m\u001b[43m)\u001b[49m\n",
      "\u001b[1;31mTypeError\u001b[0m: unsupported operand type(s) for *: 'NoneType' and 'float'"
     ]
    }
   ],
   "source": [
    "print('BioSTEAM system variable OPEX is', round((rcf_system.material_cost + rcf_system.utility_cost) / 1e6, 3), 'MM USD/yr')"
   ]
  },
  {
   "cell_type": "code",
   "execution_count": null,
   "id": "83196a03",
   "metadata": {},
   "outputs": [],
   "source": [
    "import pandas as pd\n",
    "purchase_df = pd.DataFrame({\n",
    "    'Unit': [u.ID for u in integrated_sys.cost_units],                          # The system here is named my_sys\n",
    "    'Installed Cost': [u.installed_cost for u in integrated_sys.cost_units]\n",
    "})\n",
    "purchase_df.to_excel('integrated system installed costs.xlsx', index=False)\n",
    "purchase_df"
   ]
  },
  {
   "cell_type": "code",
   "execution_count": null,
   "id": "6fab2bc0",
   "metadata": {},
   "outputs": [],
   "source": [
    "*** Break***"
   ]
  },
  {
   "cell_type": "code",
   "execution_count": null,
   "id": "25d1f880",
   "metadata": {},
   "outputs": [],
   "source": [
    "\n",
    "import pandas as pd\n",
    "# Code to estimate the utility cost of equipments\n",
    "\n",
    "records = []\n",
    "\n",
    "for unit in rcf_system.units:\n",
    "    # Utility cost (electricity, steam, etc.)\n",
    "    utility_cost = getattr(unit, 'utility_cost', 0.0) or 0.0\n",
    "    \n",
    "    # Additional OPEX (user-defined; stored as a dictionary)\n",
    "    #additional_opex_dict = getattr(unit, 'add_OPEX', {})\n",
    "    #additional_cost = additional_opex_dict.get('Additional OPEX', 0.0) if additional_opex_dict else 0.0\n",
    "\n",
    "    total_opex = utility_cost \n",
    "    \n",
    "    records.append({\n",
    "        'Unit ID': unit.ID,\n",
    "        'Unit Type': type(unit).__name__,\n",
    "        'Utility Cost [USD/hr]': utility_cost,\n",
    "        #'Additional OPEX [USD/hr]': additional_cost,\n",
    "        'Total Operating Cost [USD/hr]': total_opex\n",
    "    })\n",
    "\n",
    "df_opex = pd.DataFrame(records).sort_values(by='Total Operating Cost [USD/hr]', ascending=False)\n",
    "\n",
    "from IPython.display import display\n",
    "display(df_opex)"
   ]
  },
  {
   "cell_type": "markdown",
   "id": "23b5b8c3",
   "metadata": {},
   "source": [
    "Cost breakdown graph"
   ]
  },
  {
   "cell_type": "code",
   "execution_count": null,
   "id": "75e3dd7f",
   "metadata": {},
   "outputs": [],
   "source": [
    "# Defining different categories\n",
    "\n",
    "rcf_area = [meoh_h2o_mix, meoh_pump, meoh_heater, solvolysis_reactor, h2_mixer, h2_pre_heat, hydrogenolysis_reactor, h2_pump, cooler_2] \n",
    "\n",
    "hydrogen_purification = [R102, pre_psa_pump, pre_psa_flash, pre_psa_heater,psa_system]\n",
    "\n",
    "methanol_recovery = [crude_distillation, meoh_purifier_col]\n",
    "\n",
    "# other = [water_remover]\n",
    "\n",
    "boiler = [BT]\n",
    "\n",
    "wastewater = [WWT]\n"
   ]
  },
  {
   "cell_type": "code",
   "execution_count": null,
   "id": "8f267a4d",
   "metadata": {},
   "outputs": [],
   "source": [
    "# CAPEX breakdown [USD]\n",
    "\n",
    "rcf_installed_cost = sum(u.installed_cost for u in rcf_area)\n",
    "hydrogen_purification_installed_cost = sum(u.installed_cost for u in hydrogen_purification)\n",
    "methanol_recovery_installed_cost = sum(u.installed_cost for u in methanol_recovery)\n",
    "boiler_installed_cost = sum(u.installed_cost for u in boiler)\n",
    "wwt_installed_cost = sum(u.installed_cost for u in wastewater)\n",
    "# other_installed_cost = sum(u.installed_cost for u in other)\n",
    "\n",
    "\n",
    "#installed_costs = np.array([cat_upgrading_installed_cost, prod_frac_installed_cost, storage_installed_cost,\n",
    "#                            0, 0, 0])"
   ]
  },
  {
   "cell_type": "code",
   "execution_count": null,
   "id": "25fad436",
   "metadata": {},
   "outputs": [],
   "source": [
    "round(rcf_tea.installed_equipment_cost/1e6, 2)"
   ]
  },
  {
   "cell_type": "code",
   "execution_count": null,
   "id": "82480a9c",
   "metadata": {},
   "outputs": [],
   "source": [
    "# Code for generating Installed Costs breakdown\n",
    "'''\n",
    "import matplotlib.pyplot as plt\n",
    "plt.rc('font',family='Arial')\n",
    "\n",
    "# Dummy data\n",
    "values = [rcf_installed_cost, hydrogen_purification_installed_cost, methanol_recovery_installed_cost,boiler_installed_cost,wwt_installed_cost]\n",
    "\n",
    "# Colors for the slices (change as needed)\n",
    "colors = ['#88CCEE', '#DDCC77', '#CC6677',  \"#19A078\",\"#2F032F\"]\n",
    "\n",
    "fig, ax = plt.subplots(figsize=(5, 5))\n",
    "\n",
    "# Pie chart with percent labels outside\n",
    "wedges, texts, autotexts = ax.pie(\n",
    "    values, \n",
    "    colors=colors,\n",
    "    autopct='%1.1f%%',\n",
    "    startangle=90,\n",
    "\n",
    "    wedgeprops=dict(edgecolor='black', linewidth=2),\n",
    "\n",
    "    pctdistance=1.35,    # move percent labels outside\n",
    "    textprops={'fontsize': 24}\n",
    ")\n",
    "\n",
    "\n",
    "\n",
    "# Optional: remove slice value labels inside the pie\n",
    "for text in texts:\n",
    "    text.set_visible(False)\n",
    "\n",
    "# Title (place above, e.g. for TCI value)\n",
    "#plt.text(0, 1.45, 'Capital Costs', ha='center', va='center', fontsize=24, fontweight='bold')\n",
    "#plt.text(0, 1.2, f'TIC: {round(rcf_tea_2.installed_equipment_cost/1e6, 2)} MM$', ha='center', va='center', fontsize=22)\n",
    "\n",
    "# Remove axes for cleaner look\n",
    "ax.axis('equal')\n",
    "plt.tight_layout()\n",
    "#plt.savefig(\"rcf_installed_cost_breakdown.png\", dpi=500, bbox_inches='tight')\n",
    "#plt.show()\n",
    "'''"
   ]
  },
  {
   "cell_type": "code",
   "execution_count": null,
   "id": "a0e764c3",
   "metadata": {},
   "outputs": [],
   "source": [
    "# Code for generating legend for installed cost breakdown\n",
    "\n",
    "'''\n",
    "import matplotlib.pyplot as plt\n",
    "import matplotlib.patches as mpatches\n",
    "plt.rc('font',family='Arial')\n",
    "# Define categories and corresponding colors from original vertical legend\n",
    "categories_styled = [\n",
    "    \"RCF reactors\",\n",
    "    \"Hydrogen purification\",\n",
    "    \"Methanol recovery\",\n",
    "    \"Boiler/Turbogenerator\",\n",
    "    \"Wastewater treatment\"\n",
    "]\n",
    "\n",
    "colors_styled = [\n",
    "'#88CCEE', '#DDCC77', '#CC6677',  \"#19A078\",\"#2F032F\"\n",
    "]\n",
    "\n",
    "patches = [mpatches.Patch(facecolor=color, label=label, edgecolor='black', linewidth=1.2) \n",
    "           for color, label in zip(colors_styled, categories_styled)]\n",
    "\n",
    "fig, ax = plt.subplots(figsize=(10, 2))\n",
    "\n",
    "# Create legend\n",
    "legend = ax.legend(\n",
    "    handles=patches,\n",
    "    loc='center',\n",
    "    ncol=1,\n",
    "    frameon=False,        # No frame around the entire legend\n",
    "    fontsize=16,\n",
    "    handlelength=3,\n",
    "    handletextpad=0.3,\n",
    "    borderpad=10.8,\n",
    "    columnspacing=0.8,\n",
    "    labelspacing=0.3\n",
    ")\n",
    "\n",
    "# Ensure no text boxes\n",
    "for text in legend.get_texts():\n",
    "    text.set_bbox(None)\n",
    "\n",
    "ax.axis('off')\n",
    "#plt.tight_layout()\n",
    "#plt.savefig(\"legend_tci.png\", dpi=500)\n",
    "#plt.show()\n",
    "'''"
   ]
  },
  {
   "cell_type": "code",
   "execution_count": null,
   "id": "2ad51297",
   "metadata": {},
   "outputs": [],
   "source": [
    "#BREAK"
   ]
  },
  {
   "cell_type": "code",
   "execution_count": null,
   "id": "96f41a21",
   "metadata": {},
   "outputs": [],
   "source": [
    "#rcf_system.material_cost"
   ]
  },
  {
   "cell_type": "code",
   "execution_count": null,
   "id": "eeba2f8a",
   "metadata": {},
   "outputs": [],
   "source": [
    "chems['Methanol']"
   ]
  },
  {
   "cell_type": "code",
   "execution_count": null,
   "id": "9493a7c4",
   "metadata": {},
   "outputs": [],
   "source": [
    "round((chems['Glycerol'].Psat(T = 225+273.15))/1e5,2)"
   ]
  },
  {
   "cell_type": "code",
   "execution_count": null,
   "id": "eeef0ed8",
   "metadata": {},
   "outputs": [],
   "source": [
    "#bst.plot_vle_binary_phase_envelope(['Water', 'Isopropylalcohol'], P=101325)\n"
   ]
  },
  {
   "cell_type": "code",
   "execution_count": null,
   "id": "514f69d5",
   "metadata": {},
   "outputs": [],
   "source": [
    "# HXN = bst.HeatExchangerNetwork('HXN', T_min_app = 10., replace_unit_heat_utilities = True)"
   ]
  },
  {
   "cell_type": "code",
   "execution_count": null,
   "id": "b5aa0dcd",
   "metadata": {},
   "outputs": [],
   "source": [
    "#hx_sys = bst.System('hx_sys', path = (meoh_h2o_mix,meoh_pump, meoh_heater, solvolysis_reactor, h2_mixer, h2_pre_heat, hydrogenolysis_reactor, \n",
    "#                                              R102, pre_psa_pump, pre_psa_flash, pre_psa_heater, \n",
    "#                                              psa_system, h2_pump ,crude_distillation, meoh_purifier_col, meoh_mixer, cooler_2, \n",
    "#                                              water_remover, h2o_mixer, wastewater_mixer), facilities =  [BT, WWT, HXN], recycle = (meoh_recycle, hydrogen_recycle))\n",
    "#hx_sys.simulate()"
   ]
  },
  {
   "cell_type": "code",
   "execution_count": null,
   "id": "d6f5afd4",
   "metadata": {},
   "outputs": [],
   "source": [
    "#hx_tea = create_cellulosic_ethanol_tea(hx_sys)"
   ]
  },
  {
   "cell_type": "code",
   "execution_count": null,
   "id": "c332c2de",
   "metadata": {},
   "outputs": [],
   "source": [
    "import pandas as pd\n",
    "for u in rcf_system.units:\n",
    "    if hasattr(u, 'power_utility'):\n",
    "        print(f\"{u.ID} electricity: {u.power_utility.rate:.2f} kW\")\n",
    "\n",
    "    if hasattr(u, 'heat_utilities'):\n",
    "        for h in u.heat_utilities:\n",
    "            print(f\"{u.ID} {h.duty/1e6:.2f} MJ/hr\")\n",
    "\n",
    "\n",
    "utility_df_2 = pd.DataFrame({\n",
    "    'Unit': [u.ID for u in rcf_system.cost_units if hasattr(u, 'power_utility')],                          # The system here is named my_sys\n",
    "    'Heat Utilities': [u.heat_utilities for u in rcf_system.cost_units if hasattr(u, 'heat_utilities')],\n",
    "    'Power utilities': [u.power_utility.rate for u in rcf_system.cost_units if hasattr(u, 'power_utility')]\n",
    "})            "
   ]
  },
  {
   "cell_type": "code",
   "execution_count": null,
   "id": "01d4de0b",
   "metadata": {},
   "outputs": [],
   "source": [
    "utility_df_2.to_excel('utility_df.xlsx')"
   ]
  },
  {
   "cell_type": "code",
   "execution_count": null,
   "id": "71ee48ce",
   "metadata": {},
   "outputs": [],
   "source": [
    "print(f'Bartling et al system installed system cost is {round(((290362170+33147597)/1e6),2)} MM USD')\n",
    "print(f'Variable OPEX is 156.7 MM USD/yr')"
   ]
  },
  {
   "cell_type": "code",
   "execution_count": null,
   "id": "8c3858b9",
   "metadata": {},
   "outputs": [],
   "source": [
    "print(f'Crude RCF Oil production is {round((rcf_system.products[0].F_mass*24*330)/1e6,2)} MM kg/yr') \n",
    "print(f'In Bartling et al, it is 185.9 MM kg/yr')\n",
    "print(f'Difference is probably because they also consider loss of Arabinan Galactan and Mannan which I do not')\n",
    "print(f'But our amounts of carbohydrate extractives were similar so this is probably not it')"
   ]
  },
  {
   "cell_type": "code",
   "execution_count": null,
   "id": "4cf786b2",
   "metadata": {},
   "outputs": [],
   "source": [
    "monomers_kg_hr = rcf_system.products[0].imass['Propylguaiacol'] + rcf_system.products[0].imass['Propylsyringol']"
   ]
  },
  {
   "cell_type": "code",
   "execution_count": null,
   "id": "0b324451",
   "metadata": {},
   "outputs": [],
   "source": [
    "print(f'The monomer yield obtained here is {round((monomers_kg_hr/(2000/24)),2)} kg/dry metric ton biomass') \n",
    "print(f'In Bartling et al, this is 88.4 kg/dry metric ton biomass')\n",
    "print('Difference might be due to recovery of RCF Oil, in my case its a 100% recovery\\nIn Bartling et al., it is 91.8%')\n",
    "# Seems that yields are better, so RCF price should technically be lower..."
   ]
  },
  {
   "cell_type": "code",
   "execution_count": null,
   "id": "746e6e6f",
   "metadata": {},
   "outputs": [],
   "source": [
    "rcf_reactor_purchase_cost = solvolysis_reactor.purchase_cost +hydrogenolysis_reactor.purchase_cost\n",
    "rcf_reactor_installed_cost = rcf_reactor_purchase_cost*my_tea.lang_factor\n",
    "print(f'RCF Reactor only Installed Costs are {round((rcf_reactor_installed_cost/1e6),2)} MM USD')\n",
    "print(f'In Bartling et al, these are {round((290362170/1e6),2)} MM USD')\n",
    "print('Simply lovely')"
   ]
  },
  {
   "cell_type": "code",
   "execution_count": null,
   "id": "4277c090",
   "metadata": {},
   "outputs": [],
   "source": [
    "# Since reactor costs are not that different, it could be that the operating expenses are\n",
    "# causing the difference between MSPs"
   ]
  },
  {
   "cell_type": "code",
   "execution_count": null,
   "id": "3ede76c5",
   "metadata": {},
   "outputs": [],
   "source": [
    "import pandas as pd\n",
    "from IPython.display import display\n",
    "\n",
    "records = []\n",
    "\n",
    "for unit in rcf_system.units:    # system name is my_sys here\n",
    "    heat_utilities = getattr(unit, 'heat_utilities', [])  # Default to empty list if not present\n",
    "    total_duty = sum(h.duty for h in heat_utilities if h.duty != 0)  # Can also use h.duty > 0 for heating only\n",
    "\n",
    "    records.append({\n",
    "        'Unit ID': unit.ID,\n",
    "        'Unit Type': type(unit).__name__,\n",
    "        'Utility [kJ/hr]': total_duty\n",
    "    })\n",
    "\n",
    "df_opex = pd.DataFrame(records)\n",
    "\n",
    "# Remove zero-utility rows (optional)\n",
    "df_opex = df_opex[df_opex['Utility [kJ/hr]'] != 0]\n",
    "\n",
    "# Sort in descending order of heat duty\n",
    "df_opex = df_opex.sort_values(by='Utility [kJ/hr]', ascending=False).reset_index(drop=True)\n",
    "\n",
    "total_heat = df_opex['Utility [kJ/hr]'].sum()\n",
    "df_opex['% of Total'] = df_opex['Utility [kJ/hr]'] / total_heat \n",
    "#df_opex.to_excel('heat_utilities_summary.xlsx', index=False)\n",
    "\n",
    "display(df_opex)"
   ]
  },
  {
   "cell_type": "code",
   "execution_count": null,
   "id": "b7e2a5d1",
   "metadata": {},
   "outputs": [],
   "source": [
    "total_heating = df_opex[df_opex['Utility [kJ/hr]'] > 0]['Utility [kJ/hr]'].sum()\n",
    "total_cooling= -df_opex[df_opex['Utility [kJ/hr]'] < 0]['Utility [kJ/hr]'].sum()"
   ]
  },
  {
   "cell_type": "code",
   "execution_count": null,
   "id": "8763b916",
   "metadata": {},
   "outputs": [],
   "source": [
    "print(f'Total RCF heat demand is {round((total_heating/1e3/3600),2)} MJ/s')\n",
    "print('For Bartling et al, this value is 295.2 MJ/s')\n",
    "# So heat demand is way higher"
   ]
  },
  {
   "cell_type": "code",
   "execution_count": null,
   "id": "95cd9711",
   "metadata": {},
   "outputs": [],
   "source": [
    "bst.settings.get_agent('natural_gas').regeneration_price /(16)"
   ]
  },
  {
   "cell_type": "code",
   "execution_count": null,
   "id": "4260accf",
   "metadata": {},
   "outputs": [],
   "source": [
    "total_heating*(bst.settings.get_agent('natural_gas').regeneration_price /(16))"
   ]
  },
  {
   "cell_type": "code",
   "execution_count": null,
   "id": "ba47c5d3",
   "metadata": {},
   "outputs": [],
   "source": [
    "# rcf_system()"
   ]
  },
  {
   "cell_type": "code",
   "execution_count": null,
   "id": "c0ffdd7b",
   "metadata": {},
   "outputs": [],
   "source": [
    "print(f'Total RCF cooling demand is {round((total_cooling/1e3/3600),2)} MJ/s')"
   ]
  },
  {
   "cell_type": "code",
   "execution_count": null,
   "id": "5d854671",
   "metadata": {},
   "outputs": [],
   "source": [
    "bst.settings.get_heating_agent('high_pressure_steam')"
   ]
  },
  {
   "cell_type": "code",
   "execution_count": null,
   "id": "de1dc7b5",
   "metadata": {},
   "outputs": [],
   "source": [
    "# So from the prices it seems as if natural gas is way more expensive than HP stem\n",
    "# Lets see if my system is using natural gas"
   ]
  },
  {
   "cell_type": "code",
   "execution_count": null,
   "id": "b63171d7",
   "metadata": {},
   "outputs": [],
   "source": [
    "\n",
    "def find_units_using_agent(agent_ID, system=None):\n",
    "    agent = bst.settings.get_agent(agent_ID)\n",
    "    if not agent:\n",
    "        print(f\"No agent found with ID '{agent_ID}'\")\n",
    "        return []\n",
    "\n",
    "    if system is None:\n",
    "        system = rcf_system\n",
    "\n",
    "    units_using_agent = []\n",
    "\n",
    "    for unit in system.units:\n",
    "        if hasattr(unit, 'heat_utilities'):\n",
    "            for hu in unit.heat_utilities:\n",
    "                if hu.agent is agent:\n",
    "                    units_using_agent.append((unit.ID, hu.duty, hu.agent.ID))\n",
    "\n",
    "    return units_using_agent\n",
    "\n",
    "# Example usage\n",
    "results = find_units_using_agent('natural_gas')\n",
    "\n",
    "# Display results\n",
    "if results:\n",
    "    print(f\"\\nUnits using agent 'ethylene':\")\n",
    "    for ID, duty, agent_ID in results:\n",
    "        print(f\" - Unit {ID} | Duty: {duty:.2f} kJ  | Agent: {agent_ID}\")\n",
    "else:\n",
    "    print(\"No units are using this agent.\")"
   ]
  },
  {
   "cell_type": "code",
   "execution_count": null,
   "id": "7a4355de",
   "metadata": {},
   "outputs": [],
   "source": [
    "# Wierdly enough, none of the unit ops are using natural gas indicating that evne if my system has\n",
    "# higher utility requirements, they are being met off by much cheaper utilities"
   ]
  },
  {
   "cell_type": "code",
   "execution_count": null,
   "id": "419c3015",
   "metadata": {},
   "outputs": [],
   "source": [
    "feedstock_cost = rcf_system.feeds[1].price * rcf_system.feeds[1].F_mass * 24 * 330 \n",
    "print(f'Feedstock cost is {round((feedstock_cost/1e6),2)} MM USD/year')\n",
    "print(f'Bartling et al., it is 57.9 MM USD/yr')\n"
   ]
  },
  {
   "cell_type": "code",
   "execution_count": null,
   "id": "026c1003",
   "metadata": {},
   "outputs": [],
   "source": [
    "solvent_makeup_cost = rcf_system.feeds[0].F_mass*24*330*rcf_system.feeds[0].price\n",
    "print(f'Solvent make up cost is {round((solvent_makeup_cost/1e6),2)} MM USD/year')\n",
    "print(f'In Bartling et al., this cost is 12.1 MM USD/yr')\n"
   ]
  },
  {
   "cell_type": "code",
   "execution_count": null,
   "id": "d7ef47d5",
   "metadata": {},
   "outputs": [],
   "source": [
    "rcf_system.utility_cost"
   ]
  },
  {
   "cell_type": "code",
   "execution_count": null,
   "id": "257d0b11",
   "metadata": {},
   "outputs": [],
   "source": [
    "rcf_system.products[4].show(flow = 'kg/hr')"
   ]
  },
  {
   "cell_type": "code",
   "execution_count": null,
   "id": "0c6ba289",
   "metadata": {},
   "outputs": [],
   "source": [
    "carbohydrate_content = (1.33e03+3.87e03)\n",
    "carbohydrate_content/rcf_system.products[4].F_mass"
   ]
  },
  {
   "cell_type": "code",
   "execution_count": null,
   "id": "3aa9b551",
   "metadata": {},
   "outputs": [],
   "source": [
    "# I just manually reduced the solvent price, and I found that basically when its the same \n",
    "# solvent recovery price as suggested by Bartling et al, the MJSP kind of drops by 50 cents,\n",
    "# and is 1.51 USD/kg. I also realized that the OPEX goes down by 80 MM USD/yr"
   ]
  },
  {
   "cell_type": "code",
   "execution_count": null,
   "id": "160564ed",
   "metadata": {},
   "outputs": [],
   "source": [
    "# Even at that point, there is a 46 MM USD/yr difference in OPEX. Sizable chunk probably because of fixed OPEX also in operatinng expenditures in biosteam"
   ]
  },
  {
   "cell_type": "code",
   "execution_count": null,
   "id": "65b5d36e",
   "metadata": {},
   "outputs": [],
   "source": []
  },
  {
   "cell_type": "code",
   "execution_count": null,
   "id": "140b77ef",
   "metadata": {},
   "outputs": [],
   "source": [
    "hydrogen_cost = rcf_system.feeds[2].price*rcf_system.feeds[2].F_mass*24*330\n",
    "print(f'Hydrogen cost is {round((hydrogen_cost/1e6),2)} MM USD/year')\n",
    "print(f'In Bartling et al., this cost is just 5.5 MM USD/yr')\n"
   ]
  },
  {
   "cell_type": "code",
   "execution_count": null,
   "id": "ae0ddb6d",
   "metadata": {},
   "outputs": [],
   "source": [
    "break"
   ]
  },
  {
   "cell_type": "code",
   "execution_count": null,
   "id": "d0d1505c",
   "metadata": {},
   "outputs": [],
   "source": [
    "HXN = bst.HeatExchangerNetwork('HXN', T_min_app = 5.)\n"
   ]
  },
  {
   "cell_type": "code",
   "execution_count": null,
   "id": "f40753e5",
   "metadata": {},
   "outputs": [],
   "source": [
    "hx_sys = bst.System.from_units('hx_sys', units = [meoh_h2o_mix, meoh_pump, meoh_heater, solvolysis_reactor, h2_mixer, h2_pre_heat, hydrogenolysis_reactor, \n",
    "                                              R102, pre_psa_pump, pre_psa_flash, pre_psa_heater,\n",
    "                                              psa_system, h2_pump ,crude_distillation, meoh_purifier_col, meoh_mixer, cooler_2, \n",
    "                                              water_remover, HXN], facility_recycle= (meoh_recycle, hydrogen_recycle))"
   ]
  },
  {
   "cell_type": "code",
   "execution_count": null,
   "id": "fb2913d2",
   "metadata": {},
   "outputs": [],
   "source": [
    "hx_sys.simulate()"
   ]
  },
  {
   "cell_type": "code",
   "execution_count": null,
   "id": "e5263226",
   "metadata": {},
   "outputs": [],
   "source": [
    "round(HXN.actual_heat_util_load/HXN.original_heat_util_load, 2)\n"
   ]
  },
  {
   "cell_type": "code",
   "execution_count": null,
   "id": "43eb7bb5",
   "metadata": {},
   "outputs": [],
   "source": []
  },
  {
   "cell_type": "code",
   "execution_count": null,
   "id": "cf3d3e8f",
   "metadata": {},
   "outputs": [],
   "source": [
    "hx_tea = ConventionalEthanolTEA(system = hx_sys,\n",
    "                                IRR = 0.10,\n",
    "                                duration = (2016, 2046),\n",
    "                                depreciation = 'MACRS7',\n",
    "                                income_tax = 0.21,\n",
    "                                operating_days = 330,\n",
    "                                lang_factor = 4.28,\n",
    "                                construction_schedule = (0.08, 0.60, 0.32),\n",
    "                                WC_over_FCI = 0.05,\n",
    "                                labor_cost =0,\n",
    "                                #fringe_benefits = 0,\n",
    "                                property_tax= 0, #0.001, \n",
    "                                property_insurance=0, # 0.005, \n",
    "                                #supplies=0, \n",
    "                                maintenance=0, #0.01, \n",
    "                                administration=0 #0.005\n",
    "                                )"
   ]
  },
  {
   "cell_type": "code",
   "execution_count": null,
   "id": "7e8d0681",
   "metadata": {},
   "outputs": [],
   "source": [
    "hx_sys.feeds[0].price = 80/907.18\n",
    "hx_sys.feeds[1].price = 1.606  \n",
    "hx_sys.feeds[2].price = 0.27455"
   ]
  },
  {
   "cell_type": "code",
   "execution_count": null,
   "id": "20b189c9",
   "metadata": {},
   "outputs": [],
   "source": [
    "hx_sys.diagram(format = 'png',file = 'hx_sys')"
   ]
  },
  {
   "cell_type": "code",
   "execution_count": null,
   "id": "d27a7ca4",
   "metadata": {},
   "outputs": [],
   "source": [
    "hx_sys.feeds[2]"
   ]
  },
  {
   "cell_type": "code",
   "execution_count": null,
   "id": "846b6e82",
   "metadata": {},
   "outputs": [],
   "source": [
    "hx_sys.operating_hours = 330 * 24\n",
    "\n",
    "\n",
    "print('Heat integrated system installed equipment cost is', round(hx_sys.installed_equipment_cost / 1e6, 2), 'MM USD')\n",
    "print('Heat integrated system OPEX is', round((hx_sys.material_cost + hx_sys.utility_cost) / 1e6, 3), 'MM USD/yr')"
   ]
  },
  {
   "cell_type": "code",
   "execution_count": null,
   "id": "b1b0fefc",
   "metadata": {},
   "outputs": [],
   "source": [
    "hx_tea.NPV"
   ]
  },
  {
   "cell_type": "code",
   "execution_count": null,
   "id": "698192ec",
   "metadata": {},
   "outputs": [],
   "source": [
    "hx_sys.outs[3]"
   ]
  },
  {
   "cell_type": "code",
   "execution_count": null,
   "id": "3ede3512",
   "metadata": {},
   "outputs": [],
   "source": [
    "print(f'The MSP is {round(hx_tea.solve_price(hx_sys.outs[3]),4)} USD/kg')"
   ]
  },
  {
   "cell_type": "code",
   "execution_count": null,
   "id": "5f72c267",
   "metadata": {},
   "outputs": [],
   "source": [
    "for u in hx_sys.units:\n",
    "    if hasattr(u, 'power_utility'):\n",
    "        print(f\"{u.ID} electricity: {u.power_utility.rate:.2f} kW\")\n",
    "\n",
    "    if hasattr(u, 'heat_utilities'):\n",
    "        for h in u.heat_utilities:\n",
    "            print(f\"{u.ID} {h.duty/1e6:.2f} MJ/hr\")"
   ]
  },
  {
   "cell_type": "code",
   "execution_count": null,
   "id": "1933e2ef",
   "metadata": {},
   "outputs": [],
   "source": [
    "hx_sys.units"
   ]
  },
  {
   "cell_type": "code",
   "execution_count": null,
   "id": "9813a8f2",
   "metadata": {},
   "outputs": [],
   "source": [
    "hx_sys.units[0].results()"
   ]
  },
  {
   "cell_type": "code",
   "execution_count": null,
   "id": "064377bf",
   "metadata": {},
   "outputs": [],
   "source": [
    "hx_sys.operating_hours = 330 * 24\n",
    "\n",
    "print('Heat integrated system installed equipment cost is', round(hx_sys.installed_equipment_cost / 1e6, 2), 'MM USD')\n",
    "print('Heat integrated system OPEX is', round((hx_sys.material_cost + hx_sys.utility_cost) / 1e6, 3), 'MM USD/yr')"
   ]
  },
  {
   "cell_type": "code",
   "execution_count": null,
   "id": "ce2c291d",
   "metadata": {},
   "outputs": [],
   "source": [
    "rcf_system.purchase_cost"
   ]
  },
  {
   "cell_type": "code",
   "execution_count": null,
   "id": "09eac409",
   "metadata": {},
   "outputs": [],
   "source": [
    "hx_sys.purchase_cost"
   ]
  },
  {
   "cell_type": "code",
   "execution_count": null,
   "id": "d923dd15",
   "metadata": {},
   "outputs": [],
   "source": [
    "heat_integrated_purchase_df = pd.DataFrame({\n",
    "    'Unit': [u.ID for u in hx_sys.cost_units],                          # The system here is named my_sys\n",
    "    'Purchase Cost': [u.purchase_cost for u in hx_sys.cost_units]\n",
    "})\n",
    "# purchase_df.to_excel('equipment_purchase_costs.xlsx', index=False)\n",
    "heat_integrated_purchase_df"
   ]
  },
  {
   "cell_type": "code",
   "execution_count": null,
   "id": "d54367f1",
   "metadata": {},
   "outputs": [],
   "source": [
    "purchase_df"
   ]
  },
  {
   "cell_type": "code",
   "execution_count": null,
   "id": "3c1d32fc",
   "metadata": {},
   "outputs": [],
   "source": [
    "print('Heat integrated system OPEX is', round((hx_sys.material_cost + hx_sys.utility_cost) / 1e6, 3), 'MM USD/yr')"
   ]
  },
  {
   "cell_type": "code",
   "execution_count": null,
   "id": "c9201443",
   "metadata": {},
   "outputs": [],
   "source": [
    "# Add RCF catalyst cost separately as OPEX "
   ]
  },
  {
   "cell_type": "code",
   "execution_count": null,
   "id": "abf9e501",
   "metadata": {},
   "outputs": [],
   "source": [
    "\n",
    "def find_units_using_agent(agent_ID, system=None):\n",
    "    agent = bst.settings.get_agent(agent_ID)\n",
    "    if not agent:\n",
    "        print(f\"No agent found with ID '{agent_ID}'\")\n",
    "        return []\n",
    "\n",
    "    if system is None:\n",
    "        system = rcf_system    # Assynes systems name is my_sys\n",
    "\n",
    "    units_using_agent = []\n",
    "\n",
    "    for unit in system.units:\n",
    "        if hasattr(unit, 'heat_utilities'):\n",
    "            for hu in unit.heat_utilities:\n",
    "                if hu.agent is agent:\n",
    "                    units_using_agent.append((unit.ID, hu.duty, hu.agent.ID))\n",
    "\n",
    "    return units_using_agent\n",
    "\n",
    "# Example usage\n",
    "results = find_units_using_agent('medium_pressure_steam')\n",
    "\n",
    "# Display results\n",
    "if results:\n",
    "    print(f\"\\nUnits using agent 'ethylene':\")\n",
    "    for ID, duty, agent_ID in results:\n",
    "        print(f\" - Unit {ID} | Duty: {duty:.2f} kJ  | Agent: {agent_ID}\")\n",
    "else:\n",
    "    print(\"No units are using this agent.\")"
   ]
  },
  {
   "cell_type": "code",
   "execution_count": null,
   "id": "d3d076f5",
   "metadata": {},
   "outputs": [],
   "source": [
    "import pandas as pd\n",
    "from IPython.display import display\n",
    "\n",
    "records = []\n",
    "\n",
    "for unit in hx_sys.units:    # system name is my_sys here\n",
    "    heat_utilities = getattr(unit, 'heat_utilities', [])  # Default to empty list if not present\n",
    "    total_duty = sum(h.duty for h in heat_utilities if h.duty != 0)  # Can also use h.duty > 0 for heating only\n",
    "\n",
    "    records.append({\n",
    "        'Unit ID': unit.ID,\n",
    "        'Unit Type': type(unit).__name__,\n",
    "        'Utility [kJ/hr]': total_duty\n",
    "    })\n",
    "\n",
    "hx_df_opex = pd.DataFrame(records)\n",
    "\n",
    "# Remove zero-utility rows (optional)\n",
    "hx_df_opex = hx_df_opex[hx_df_opex['Utility [kJ/hr]'] != 0]\n",
    "\n",
    "# Sort in descending order of heat duty\n",
    "hx_df_opex = hx_df_opex.sort_values(by='Utility [kJ/hr]', ascending=False).reset_index(drop=True)\n",
    "\n",
    "total_heat_hx = hx_df_opex['Utility [kJ/hr]'].sum()\n",
    "hx_df_opex['% of Total'] = hx_df_opex['Utility [kJ/hr]'] / total_heat_hx\n",
    "hx_df_opex.to_excel('heat_utilities_summary.xlsx', index=False)\n",
    "\n",
    "display(hx_df_opex)"
   ]
  },
  {
   "cell_type": "code",
   "execution_count": null,
   "id": "a9bf42e3",
   "metadata": {},
   "outputs": [],
   "source": [
    "total_heating_hx = hx_df_opex[hx_df_opex['Utility [kJ/hr]'] > 0]['Utility [kJ/hr]'].sum()\n",
    "# total_cooling_hx= -hx_df_opex[df_opex['Utility [kJ/hr]'] < 0]['Utility [kJ/hr]'].sum()"
   ]
  },
  {
   "cell_type": "code",
   "execution_count": null,
   "id": "9d818d77",
   "metadata": {},
   "outputs": [],
   "source": [
    "print(f'Total RCF heat demand is {round((total_heating_hx/1e3/3600),2)} MJ/s')\n",
    "print('For Bartling et al, this value is 295.2 MJ/s')"
   ]
  },
  {
   "cell_type": "code",
   "execution_count": null,
   "id": "46303279",
   "metadata": {},
   "outputs": [],
   "source": [
    "bst.settings.get_agent('high_pressure_steam').LHV"
   ]
  },
  {
   "cell_type": "code",
   "execution_count": null,
   "id": "47b656f9",
   "metadata": {},
   "outputs": [],
   "source": [
    "bst.settings.get_agent('natural_gas').LHV"
   ]
  },
  {
   "cell_type": "code",
   "execution_count": null,
   "id": "f59b2486",
   "metadata": {},
   "outputs": [],
   "source": [
    "bst.facilities.BoilerTurbogenerator"
   ]
  }
 ],
 "metadata": {
  "kernelspec": {
   "display_name": "pyfuel",
   "language": "python",
   "name": "python3"
  },
  "language_info": {
   "codemirror_mode": {
    "name": "ipython",
    "version": 3
   },
   "file_extension": ".py",
   "mimetype": "text/x-python",
   "name": "python",
   "nbconvert_exporter": "python",
   "pygments_lexer": "ipython3",
   "version": "3.10.18"
  }
 },
 "nbformat": 4,
 "nbformat_minor": 5
}
